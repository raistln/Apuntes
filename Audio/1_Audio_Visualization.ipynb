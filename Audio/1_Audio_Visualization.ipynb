{
 "cells": [
  {
   "cell_type": "markdown",
   "metadata": {
    "id": "pq6GOTQ5tONK"
   },
   "source": [
    "# **Audio Visualization**"
   ]
  },
  {
   "cell_type": "markdown",
   "metadata": {
    "id": "8xb7_Zfmtar0"
   },
   "source": [
    "Machine Learning has found its application across a number of domains that involve mimicking the complexities and senses of human beings. Computer Vision and Speech synthesis have been around since the late 1960s and have exponentially improved over time — especially in the last few years."
   ]
  },
  {
   "cell_type": "markdown",
   "metadata": {
    "id": "csgTR8SPtfPC"
   },
   "source": [
    "In this practice session, we will focus on Speech Synthesis which is one of the growing research areas with a number of real-world applications."
   ]
  },
  {
   "cell_type": "markdown",
   "metadata": {
    "id": "Moy8kn0BthQE"
   },
   "source": [
    "To read about it more, please refer [this](https://analyticsindiamag.com/step-by-step-guide-to-audio-visualization-in-python/) article."
   ]
  },
  {
   "cell_type": "markdown",
   "metadata": {
    "id": "gcqySeHatoOp"
   },
   "source": [
    "# **Code Implementation**"
   ]
  },
  {
   "cell_type": "markdown",
   "metadata": {
    "id": "3DIHm6QPuUYF"
   },
   "source": [
    "We will use the IPython module to load the audio file and a popular library called Librosa to visualize it. "
   ]
  },
  {
   "cell_type": "markdown",
   "metadata": {
    "id": "bEYIvMGyuYp9"
   },
   "source": [
    "### Installing Librosa\n",
    "\n",
    "LibROSA is a python package that helps us analyse audio files and provides the building blocks necessary to create audio information retrieval systems. We will install the librosa library using the following command:"
   ]
  },
  {
   "cell_type": "code",
   "execution_count": null,
   "metadata": {},
   "outputs": [],
   "source": [
    "\n",
    "!python -m pip install pip --upgrade --user -q --no-warn-script-location\n",
    "!python -m pip install numpy pandas seaborn matplotlib scipy statsmodels sklearn nltk gensim tensorflow keras torch torchvision \\\n",
    "    tqdm scikit-image pillow librosa --user -q --no-warn-script-location\n",
    "\n",
    "# import IPython\n",
    "# IPython.Application.instance().kernel.do_shutdown(True)\n"
   ]
  },
  {
   "cell_type": "markdown",
   "metadata": {
    "id": "rzNzANgNuh4C"
   },
   "source": [
    "### Importing The Libraries"
   ]
  },
  {
   "cell_type": "code",
   "execution_count": null,
   "metadata": {
    "id": "UeXsn9ofumJ2"
   },
   "outputs": [],
   "source": [
    "import IPython.display as ipd\n",
    "import librosa\n",
    "import librosa.display\n",
    "import matplotlib.pyplot as plt"
   ]
  },
  {
   "cell_type": "markdown",
   "metadata": {
    "id": "6Eu6bAQWuorW"
   },
   "source": [
    "### Loading And Playing Audio Files In Jupyter"
   ]
  },
  {
   "cell_type": "markdown",
   "metadata": {
    "id": "V866Ye5dv2g_"
   },
   "source": [
    "We will now load our audio file in just a one liner. Type and execute the following code."
   ]
  },
  {
   "cell_type": "code",
   "execution_count": null,
   "metadata": {
    "id": "Su492e2WzCCj"
   },
   "outputs": [],
   "source": [
    "audio_path = librosa.util.example_audio_file()"
   ]
  },
  {
   "cell_type": "code",
   "execution_count": null,
   "metadata": {
    "id": "t71kdsEtv4N5"
   },
   "outputs": [],
   "source": [
    "ipd.Audio(audio_path)"
   ]
  },
  {
   "cell_type": "markdown",
   "metadata": {
    "id": "mab1S8wEwRfQ"
   },
   "source": [
    "On executing the above code you will get an inline audio player which can be used to play the audio as shown below."
   ]
  },
  {
   "cell_type": "markdown",
   "metadata": {
    "id": "54MYBIy9wTNk"
   },
   "source": [
    "Spectrograms"
   ]
  },
  {
   "cell_type": "markdown",
   "metadata": {
    "id": "a1I5v2PDzJxe"
   },
   "source": [
    "First, we will initialize the plot with a figure size."
   ]
  },
  {
   "cell_type": "code",
   "execution_count": null,
   "metadata": {
    "id": "Ui1pYuw2zL7q"
   },
   "outputs": [],
   "source": [
    "plt.figure(figsize=(15,4))"
   ]
  },
  {
   "cell_type": "markdown",
   "metadata": {
    "id": "zbKlYMHKzO72"
   },
   "source": [
    "We will then load the audio file using librosa and will collect the data array and sampling rate for the audio file."
   ]
  },
  {
   "cell_type": "code",
   "execution_count": null,
   "metadata": {
    "id": "hnkRJx9zzROe"
   },
   "outputs": [],
   "source": [
    "data,sample_rate1 = librosa.load(audio_path, sr=22050, mono=True, offset=0.0, duration=50, res_type='kaiser_best')"
   ]
  },
  {
   "cell_type": "markdown",
   "metadata": {
    "id": "38fmcmpmzWae"
   },
   "source": [
    "Sampling"
   ]
  },
  {
   "cell_type": "markdown",
   "metadata": {
    "id": "oIUe63XIzgK6"
   },
   "source": [
    "Sound is a continuous wave. We can digitise sound by breaking the continuous wave into discrete signals. This process is called sampling. Sampling converts a sound wave into a sequence of samples or a discrete-time signal.\n",
    "\n",
    "The load functions loads the audio file and converts it into an array of values which represent the amplitude if a sample at a given point of time."
   ]
  },
  {
   "cell_type": "markdown",
   "metadata": {
    "id": "VUvdfijVzh_T"
   },
   "source": [
    "Sampling Rate\n",
    "\n",
    "The sampling rate is the number of samples per second. Hz or Hertz is the unit of the sampling rate. 20 kHz is the audible range for human beings.\n",
    "\n",
    "We can now plot the spectrogram using the waveplot method as shown below:"
   ]
  },
  {
   "cell_type": "code",
   "execution_count": null,
   "metadata": {
    "id": "GSwjSZ0GzjfR"
   },
   "outputs": [],
   "source": [
    "librosa.display.waveplot(data,sr=sample_rate1, max_points=50000.0, x_axis='time', offset=0.0, max_sr=1000)"
   ]
  },
  {
   "cell_type": "markdown",
   "metadata": {
    "id": "dcjyrOAoznGl"
   },
   "source": [
    "Linkin Park Vs Micheal Jackson Vs Blue"
   ]
  },
  {
   "cell_type": "code",
   "execution_count": null,
   "metadata": {
    "id": "AvjjGRTP2ynt"
   },
   "outputs": [],
   "source": [
    "# Load imports\n",
    "import IPython.display as ipd\n",
    "import librosa\n",
    "import librosa.display\n",
    "import matplotlib.pyplot as plt"
   ]
  },
  {
   "cell_type": "code",
   "execution_count": null,
   "metadata": {
    "id": "tpZIFSud5dwm"
   },
   "outputs": [],
   "source": [
    "# !gdown https://drive.google.com/uc?id=1uL_stM6uhcSSlvDiqQbD1S3-BBi2oHlr"
   ]
  },
  {
   "cell_type": "code",
   "execution_count": null,
   "metadata": {
    "id": "BDhEooEO4O5I"
   },
   "outputs": [],
   "source": [
    "ipd.Audio('Numb+Official+Video+Linkin+Park.mp3')"
   ]
  },
  {
   "cell_type": "code",
   "execution_count": null,
   "metadata": {
    "id": "wVId0xgq40pN"
   },
   "outputs": [],
   "source": [
    "# Numb - Linkin Park \n",
    "\n",
    "filename1 = 'Numb+Official+Video+Linkin+Park.mp3'\n",
    "plt.figure(figsize=(15,4))\n",
    "data1,sample_rate1 = librosa.load(filename1, sr=22050, mono=True, offset=0.0, duration=50, res_type='kaiser_best')\n",
    "librosa.display.waveplot(data1,sr=sample_rate1, max_points=50000.0, x_axis='time', offset=0.0, max_sr=1000)"
   ]
  },
  {
   "cell_type": "code",
   "execution_count": null,
   "metadata": {
    "id": "OPQTPY5U4-3h"
   },
   "outputs": [],
   "source": [
    "print(data1)\n",
    "print(len(data1))\n",
    "print(sample_rate1)"
   ]
  },
  {
   "cell_type": "code",
   "execution_count": null,
   "metadata": {
    "id": "3kd7UPFj3gAX"
   },
   "outputs": [],
   "source": [
    "# !wget https://download.mp3oops.fun/e/Michael-Jackson-Dangerous.mp3"
   ]
  },
  {
   "cell_type": "code",
   "execution_count": null,
   "metadata": {
    "id": "rxuSncvv20zp"
   },
   "outputs": [],
   "source": [
    "ipd.Audio('Michael-Jackson-Dangerous.mp3')"
   ]
  },
  {
   "cell_type": "code",
   "execution_count": null,
   "metadata": {
    "id": "UblyD7fW5Ca6"
   },
   "outputs": [],
   "source": [
    "# Dangerous - Michael Jackson\n",
    "\n",
    "filename2 = 'Michael-Jackson-Dangerous.mp3'\n",
    "plt.figure(figsize=(15,4))\n",
    "data2,sample_rate2 = librosa.load(filename2, sr=22050, mono=True, offset=0.0, duration=180, res_type='kaiser_best')\n",
    "librosa.display.waveplot(data2,sr=sample_rate2, max_points=50000.0, x_axis='time', offset=0.0, max_sr=1000)"
   ]
  },
  {
   "cell_type": "code",
   "execution_count": null,
   "metadata": {
    "id": "tO3B7i1A5LWa"
   },
   "outputs": [],
   "source": [
    "print(data2)\n",
    "print(len(data2))\n",
    "print(sample_rate2)"
   ]
  },
  {
   "cell_type": "code",
   "execution_count": null,
   "metadata": {
    "id": "5AXAAcr96Nkj"
   },
   "outputs": [],
   "source": [
    "# !gdown https://drive.google.com/uc?id=1X_73Q2wFiTEWJ5zUISvK8lbJvko-JUWJ"
   ]
  },
  {
   "cell_type": "code",
   "execution_count": null,
   "metadata": {
    "id": "XUDISfGb5O3L"
   },
   "outputs": [],
   "source": [
    "ipd.Audio('Blue+One+Love.mp3')"
   ]
  },
  {
   "cell_type": "code",
   "execution_count": null,
   "metadata": {
    "id": "NEB2M3hW5O3W"
   },
   "outputs": [],
   "source": [
    "# Dangerous - Michael Jackson\n",
    "\n",
    "filename3 = 'Blue+One+Love.mp3'\n",
    "plt.figure(figsize=(15,4))\n",
    "data3,sample_rate3 = librosa.load(filename3, sr=22050, mono=True, offset=0.0, duration=180, res_type='kaiser_best')\n",
    "librosa.display.waveplot(data3,sr=sample_rate3, max_points=50000.0, x_axis='time', offset=0.0, max_sr=1000)"
   ]
  },
  {
   "cell_type": "code",
   "execution_count": null,
   "metadata": {
    "id": "6KEHKQ7T5O3W"
   },
   "outputs": [],
   "source": [
    "print(data3)\n",
    "print(len(data3))\n",
    "print(sample_rate3)"
   ]
  },
  {
   "cell_type": "markdown",
   "metadata": {
    "id": "agPHjISycAxz"
   },
   "source": [
    "# **Related Articles:**\n",
    "\n",
    "> * [Audio Visualizaton](https://analyticsindiamag.com/step-by-step-guide-to-audio-visualization-in-python/)\n",
    "\n",
    "> * [VGG Sound Datasets](https://analyticsindiamag.com/guide-to-vgg-sound-datasets-for-visual-audio-recognition/)\n",
    "\n",
    "> * [Voxceleb Datasets](https://analyticsindiamag.com/guide-to-voxceleb-datasets-for-visual-audio-of-human-speech/)\n",
    "\n",
    "> * [FreeSound Datasets](https://analyticsindiamag.com/datasets-freesound-pytorch-research/)\n",
    "\n",
    "> * [LibriSpeech Datasets](https://analyticsindiamag.com/librispeech-datasets/)"
   ]
  }
 ],
 "metadata": {
  "colab": {
   "authorship_tag": "ABX9TyPIJD2yVoc9uKAAI6FmbtI4",
   "collapsed_sections": [],
   "name": "1_Audio_Visualization.ipynb",
   "provenance": []
  },
  "interpreter": {
   "hash": "f60a20abaabf5a658075b37fac599269792a9493ddacd7c14d8505185d5625aa"
  },
  "kernelspec": {
   "display_name": "Python 3.8.8 64-bit ('base': conda)",
   "name": "python3"
  },
  "language_info": {
   "codemirror_mode": {
    "name": "ipython",
    "version": 3
   },
   "file_extension": ".py",
   "mimetype": "text/x-python",
   "name": "python",
   "nbconvert_exporter": "python",
   "pygments_lexer": "ipython3",
   "version": "3.8.8"
  }
 },
 "nbformat": 4,
 "nbformat_minor": 2
}
