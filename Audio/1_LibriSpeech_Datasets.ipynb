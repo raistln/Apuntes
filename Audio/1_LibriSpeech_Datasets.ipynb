{
 "cells": [
  {
   "cell_type": "markdown",
   "metadata": {
    "id": "vOtlfU91eMsn"
   },
   "source": [
    "# **LibriSpeech Datasets in PyTorch and TensorFlow**"
   ]
  },
  {
   "cell_type": "markdown",
   "metadata": {
    "id": "dOaMm-XfeQ2u"
   },
   "source": [
    "LibriSpeech is developed by OpenSLR with all data collected by his research student. Danial Povey is an assistant professor at Johns Hopkins University in the Center for Language and Speech Processing as a speech recognition researcher. LibriSpeech is a collection of more than 1000 hours of speech data which is collected by Vassil Panayotov with the assistance of Daniel Povey. It is used in many applications such as speaker recognition and automatic speaker verification.\n"
   ]
  },
  {
   "cell_type": "markdown",
   "metadata": {
    "id": "22gjrtedeU1P"
   },
   "source": [
    "To Download the dataset on a local computer visit the link [here](https://www.openslr.org/12)"
   ]
  },
  {
   "cell_type": "markdown",
   "metadata": {
    "id": "bChZpfg2ebQI"
   },
   "source": [
    "## **Using Pytorch:**"
   ]
  },
  {
   "cell_type": "code",
   "execution_count": null,
   "metadata": {},
   "outputs": [],
   "source": [
    "\n",
    "!python -m pip install pip --upgrade --user -q --no-warn-script-location\n",
    "!python -m pip install numpy pandas seaborn matplotlib scipy statsmodels tensorflow_datasets sklearn nltk gensim tensorflow keras torch torchvision \\\n",
    "    tqdm scikit-image pillow librosa torchaudio apache_beam --user -q --no-warn-script-location\n",
    "\n",
    "import IPython\n",
    "IPython.Application.instance().kernel.do_shutdown(True)\n"
   ]
  },
  {
   "cell_type": "code",
   "execution_count": null,
   "metadata": {
    "id": "jy-40L0peHw6"
   },
   "outputs": [],
   "source": [
    "import torchaudio\n",
    "\n",
    "# train_dataset = torchaudio.datasets.LIBRISPEECH(\"./\", url=\"train-clean-100\", download=True)\n",
    "# test_dataset = torchaudio.datasets.LIBRISPEECH(\"./\", url=\"test-clean\", download=True)"
   ]
  },
  {
   "cell_type": "markdown",
   "metadata": {
    "id": "zcI700rffOmS"
   },
   "source": [
    "### **Using Tensorflow:**"
   ]
  },
  {
   "cell_type": "code",
   "execution_count": null,
   "metadata": {
    "colab": {
     "background_save": true
    },
    "id": "n9rbkOX0effg"
   },
   "outputs": [],
   "source": [
    "import tensorflow_datasets as tfds\n",
    "ds = tfds.load('librispeech', split='train', shuffle_files=True)"
   ]
  },
  {
   "cell_type": "markdown",
   "metadata": {
    "id": "agPHjISycAxz"
   },
   "source": [
    "# **Related Articles:**\n",
    "\n",
    "> * [LibriSpeech Datasets](https://analyticsindiamag.com/librispeech-datasets/)\n",
    "\n",
    "> * [Simple Transformers](https://analyticsindiamag.com/speech-classification-in-3-minutes/)\n",
    "\n",
    "> * [Create your own Speech Classifier](https://analyticsindiamag.com/speech-classification-in-3-minutes/)"
   ]
  }
 ],
 "metadata": {
  "colab": {
   "authorship_tag": "ABX9TyNzhUsDJ6TezLvhLitDu7q1",
   "collapsed_sections": [],
   "name": "1_LibriSpeech_Datasets.ipynb",
   "provenance": []
  },
  "kernelspec": {
   "display_name": "Python 3",
   "name": "python3"
  },
  "language_info": {
   "name": "python"
  }
 },
 "nbformat": 4,
 "nbformat_minor": 2
}
