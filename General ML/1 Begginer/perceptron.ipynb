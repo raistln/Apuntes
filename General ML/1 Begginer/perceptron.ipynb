{
 "cells": [
  {
   "cell_type": "markdown",
   "metadata": {},
   "source": [
    "## In this notebook we will implement Perceptron Algorithm from Scratch using Python and Numpy\n",
    "\n",
    "* Implement the Perceptron algorithm using numpy\n",
    "* Load the popular Iris dataset\n",
    "* Fit and Train the perceptron model\n",
    "* Predict using the perceptron model "
   ]
  },
  {
   "cell_type": "code",
   "execution_count": null,
   "metadata": {},
   "outputs": [],
   "source": [
    "!python -m pip install pip --upgrade --user -q\n",
    "!python -m pip install numpy pandas seaborn matplotlib scipy statsmodels sklearn keras tensorflow scikit-image --user -q"
   ]
  },
  {
   "cell_type": "code",
   "execution_count": null,
   "metadata": {},
   "outputs": [],
   "source": [
    "import IPython\n",
    "IPython.Application.instance().kernel.do_shutdown(True)"
   ]
  },
  {
   "cell_type": "code",
   "execution_count": null,
   "metadata": {},
   "outputs": [],
   "source": [
    "import matplotlib.pyplot as plt\n",
    "import numpy as np\n",
    "%matplotlib inline\n",
    "import numpy as np"
   ]
  },
  {
   "cell_type": "markdown",
   "metadata": {},
   "source": [
    "## Build the Perceptron "
   ]
  },
  {
   "cell_type": "code",
   "execution_count": null,
   "metadata": {
    "id": "qSHDSmNJy5Fj"
   },
   "outputs": [],
   "source": [
    "class Perceptron(object):\n",
    "    def __init__(self, learning_rate=0.01, n_iters=10, random_state=1):\n",
    "        self.learning_rate = learning_rate\n",
    "        self.n_iters = n_iters\n",
    "        self.random_state = random_state\n",
    "    \n",
    "    def fit(self, X, y):\n",
    "        rand = np.random.RandomState(self.random_state)\n",
    "        self.weights = rand.normal(loc=0.0, scale=0.01, size=1 + X.shape[1])\n",
    "        self.errors_ = []\n",
    "        \n",
    "        for _ in range(self.n_iters):\n",
    "            errors = 0\n",
    "            for x, target in zip(X, y):\n",
    "                update = self.learning_rate * (target - self.predict(x))\n",
    "                self.weights[1:] += update * x\n",
    "                self.weights[0] += update\n",
    "                errors += int(update != 0.0)\n",
    "                self.errors_.append(errors)\n",
    "                \n",
    "        return self\n",
    "    \n",
    "    def net_input(self, X):\n",
    "        summ = np.dot(X, self.weights[1:]) + self.weights[0]\n",
    "        return summ\n",
    "    \n",
    "    def predict(self, X):\n",
    "        return np.where(self.net_input(X) >= 0, 1, -1)"
   ]
  },
  {
   "cell_type": "markdown",
   "metadata": {},
   "source": [
    "## Load the Dataset"
   ]
  },
  {
   "cell_type": "code",
   "execution_count": null,
   "metadata": {
    "id": "2as3zgkI_fZN"
   },
   "outputs": [],
   "source": [
    "from sklearn.datasets import load_iris\n",
    "X,y = load_iris(return_X_y=True)"
   ]
  },
  {
   "cell_type": "code",
   "execution_count": null,
   "metadata": {
    "id": "-Jp6Yj4n_jWm",
    "outputId": "71e4d8e5-935b-4d47-9f0c-70f07cbafa17"
   },
   "outputs": [],
   "source": [
    "plt.scatter(X[:50, 0], X[:50, 1],\n",
    "            color='green', marker='x', label='setosa')\n",
    "plt.scatter(X[50:100, 0], X[50:100, 1],\n",
    "            color='red', marker='o', label='versicolor')\n",
    "\n",
    "plt.xlabel('sepal length')\n",
    "plt.ylabel('petal length')\n",
    "plt.legend(loc='upper right', edgecolor='k')\n",
    "\n",
    "plt.show();"
   ]
  },
  {
   "cell_type": "markdown",
   "metadata": {},
   "source": [
    "## Fit Perceptron Model"
   ]
  },
  {
   "cell_type": "code",
   "execution_count": null,
   "metadata": {
    "id": "z35LqwM3_jao",
    "outputId": "6a40fe5d-f161-42f1-e8a4-7b71f9efdc03"
   },
   "outputs": [],
   "source": [
    "per = Perceptron(learning_rate=0.1, n_iters=10, random_state=1)\n",
    "\n",
    "per.fit(X, y)\n",
    "\n",
    "plt.plot(range(1, len(per.errors_) + 1), per.errors_, marker='o')\n",
    "plt.xlabel('Epochs')\n",
    "plt.ylabel('Number of updates')\n",
    "\n",
    "plt.show()"
   ]
  },
  {
   "cell_type": "code",
   "execution_count": null,
   "metadata": {},
   "outputs": [],
   "source": []
  }
 ],
 "metadata": {
  "kernelspec": {
   "display_name": "Python 3",
   "language": "python",
   "name": "python3"
  },
  "language_info": {
   "codemirror_mode": {
    "name": "ipython",
    "version": 3
   },
   "file_extension": ".py",
   "mimetype": "text/x-python",
   "name": "python",
   "nbconvert_exporter": "python",
   "pygments_lexer": "ipython3",
   "version": "3.7.4"
  }
 },
 "nbformat": 4,
 "nbformat_minor": 4
}
