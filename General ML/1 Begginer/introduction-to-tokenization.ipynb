{
 "cells": [
  {
   "cell_type": "markdown",
   "metadata": {
    "id": "GIhNaXW_GeA-"
   },
   "source": [
    "## **Tokenize Sentences Using NLTK**"
   ]
  },
  {
   "cell_type": "code",
   "execution_count": null,
   "metadata": {},
   "outputs": [],
   "source": [
    "!python -m pip install pip --upgrade --user -q\n",
    "!python -m pip install numpy pandas seaborn matplotlib scipy statsmodels sklearn scikit-image nltk --user -q"
   ]
  },
  {
   "cell_type": "code",
   "execution_count": null,
   "metadata": {},
   "outputs": [],
   "source": [
    "import IPython\n",
    "IPython.Application.instance().kernel.do_shutdown(True)"
   ]
  },
  {
   "cell_type": "code",
   "execution_count": null,
   "metadata": {},
   "outputs": [],
   "source": [
    "import nltk\n",
    "nltk.download('punkt')"
   ]
  },
  {
   "cell_type": "code",
   "execution_count": null,
   "metadata": {
    "id": "sdcia1ur3pKQ",
    "outputId": "ec3a337b-a201-4b5a-c8bc-edab53871b45"
   },
   "outputs": [],
   "source": [
    "#Tokenize words\n",
    "from nltk.tokenize import word_tokenize \n",
    "  \n",
    "text = \"Machine learning is a method of data analysis that automates analytical model building\"\n",
    "word_tokenize(text) "
   ]
  },
  {
   "cell_type": "markdown",
   "metadata": {},
   "source": [
    "## Tokenize words of different language "
   ]
  },
  {
   "cell_type": "code",
   "execution_count": null,
   "metadata": {
    "id": "iqT-AW09XPr5",
    "outputId": "0d9cd5d9-ae88-4e4d-f905-b1055e516dce"
   },
   "outputs": [],
   "source": [
    "import nltk.data \n",
    "  \n",
    "spanish_tokenizer = nltk.data.load('tokenizers/punkt/PY3/spanish.pickle') \n",
    "  \n",
    "text = 'Hola amigo. Me llamo Ankit.'\n",
    "spanish_tokenizer.tokenize(text)"
   ]
  },
  {
   "cell_type": "markdown",
   "metadata": {},
   "source": [
    "## Tokenize Sentence using sent_tokenize()"
   ]
  },
  {
   "cell_type": "code",
   "execution_count": null,
   "metadata": {
    "id": "NJ3nR0VrXaWx",
    "outputId": "1d084103-3135-4b85-c707-063960e148d3"
   },
   "outputs": [],
   "source": [
    "from nltk.tokenize import sent_tokenize \n",
    "  \n",
    "text = \"Machine learning is a method of data analysis that automates analytical model building. It is a branch of artificial intelligence based on the idea that systems can learn from data, identify patterns and make decisions with minimal human intervention.\"\n",
    "sent_tokenize(text) "
   ]
  },
  {
   "cell_type": "markdown",
   "metadata": {
    "id": "SEDj3oqQGPaj"
   },
   "source": [
    "## Tokenize Sentence using Regular Expression"
   ]
  },
  {
   "cell_type": "code",
   "execution_count": null,
   "metadata": {
    "id": "1g13UtoA4Fcy",
    "outputId": "c34e04ef-2827-456d-d0a8-69ec202e8a62"
   },
   "outputs": [],
   "source": [
    "from nltk.tokenize import RegexpTokenizer \n",
    "  \n",
    "tokenizer = RegexpTokenizer(\"[\\w']+\") \n",
    "text = \"Machine learning is a method of data analysis that automates analytical model building\"\n",
    "tokenizer.tokenize(text)"
   ]
  },
  {
   "cell_type": "code",
   "execution_count": null,
   "metadata": {
    "id": "83vWqD4FGmMW",
    "outputId": "4c66caff-35f2-43c0-fe0d-d3beb7308806"
   },
   "outputs": [],
   "source": [
    "#Split Sentences\n",
    "import re\n",
    "text = \"\"\"Machine learning is a method of data analysis that automates analytical model building.\n",
    "          It is a branch of artificial intelligence based on the idea that systems can learn from data,\n",
    "          identify patterns and make decisions with minimal human intervention.\"\"\"\n",
    "\n",
    "sentences = re.compile('[.!?] ').split(text)\n",
    "sentences"
   ]
  },
  {
   "cell_type": "markdown",
   "metadata": {
    "id": "Q0hW3IPmJ0ik"
   },
   "source": [
    "### Tokenize Sentence using Split() method"
   ]
  },
  {
   "cell_type": "code",
   "execution_count": null,
   "metadata": {
    "id": "BOK53CddJ3sn",
    "outputId": "68057c5e-099b-485b-c1fb-5c4f825d8624"
   },
   "outputs": [],
   "source": [
    "text = \"\"\"Machine learning is a method of data analysis that automates analytical model building\"\"\"\n",
    "\n",
    "# Splits at space \n",
    "text.split()"
   ]
  },
  {
   "cell_type": "code",
   "execution_count": null,
   "metadata": {
    "id": "TuxdtMreKp4c",
    "outputId": "70524a83-dc2d-479c-e371-2abcdee5ae1f"
   },
   "outputs": [],
   "source": [
    "#Split Sentence\n",
    "text = \"\"\"Machine learning is a method of data analysis that automates analytical model building.\n",
    "          It is a branch of artificial intelligence based on the idea that systems can learn from data, \n",
    "          identify patterns and make decisions with minimal human intervention.\"\"\"\n",
    "\n",
    "# Splits at space \n",
    "text.split('.')"
   ]
  },
  {
   "cell_type": "code",
   "execution_count": null,
   "metadata": {},
   "outputs": [],
   "source": []
  }
 ],
 "metadata": {
  "kernelspec": {
   "display_name": "Python 3",
   "language": "python",
   "name": "python3"
  },
  "language_info": {
   "codemirror_mode": {
    "name": "ipython",
    "version": 3
   },
   "file_extension": ".py",
   "mimetype": "text/x-python",
   "name": "python",
   "nbconvert_exporter": "python",
   "pygments_lexer": "ipython3",
   "version": "3.7.4"
  }
 },
 "nbformat": 4,
 "nbformat_minor": 4
}
