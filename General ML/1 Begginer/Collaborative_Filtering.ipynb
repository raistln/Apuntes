{
 "cells": [
  {
   "cell_type": "markdown",
   "metadata": {},
   "source": [
    "## In this notebook we will implement Collaborative Filtering, as described in the below steps\n",
    "\n",
    "* Import the required libraries\n",
    "* Load the popular Movie lens dataset\n",
    "* Merge the Ratings and Movies data \n",
    "* Calculate pearson correlation \n",
    "* Calculated similarity for Romantic and Action movies"
   ]
  },
  {
   "cell_type": "markdown",
   "metadata": {
    "id": "kUgzi9bKbwtW"
   },
   "source": [
    "## Item Based Filtering\n",
    "\n",
    "* In this technique we will measure the similarity between the items that users have rated or interacted with, and other items in the store"
   ]
  },
  {
   "cell_type": "code",
   "execution_count": null,
   "metadata": {},
   "outputs": [],
   "source": [
    "!python -m pip install pip --upgrade --user -q\n",
    "!python -m pip install numpy pandas seaborn matplotlib scipy statsmodels sklearn keras tensorflow opencv-python scikit-image --user -q"
   ]
  },
  {
   "cell_type": "code",
   "execution_count": null,
   "metadata": {},
   "outputs": [],
   "source": [
    "import IPython\n",
    "IPython.Application.instance().kernel.do_shutdown(True)"
   ]
  },
  {
   "cell_type": "code",
   "execution_count": null,
   "metadata": {
    "id": "_oi4bbzFbu8M",
    "outputId": "39f9d626-7aa7-478f-f8b0-f6abc4b9b1ae"
   },
   "outputs": [],
   "source": [
    "import pandas as pd\n",
    "\n",
    "movies = pd.read_csv(\"movies.csv\",encoding=\"Latin1\")\n",
    "Ratings = pd.read_csv(\"ratings.csv\")\n",
    "Tags = pd.read_csv(\"tags.csv\",encoding=\"Latin1\")\n",
    "\n",
    "movies.head()"
   ]
  },
  {
   "cell_type": "code",
   "execution_count": null,
   "metadata": {
    "id": "scL3uxHVu29I",
    "outputId": "7941cc15-11ce-4401-bdb5-74c28c2a524b"
   },
   "outputs": [],
   "source": [
    "ratings = pd.merge(movies, Ratings).drop(['genres', 'timestamp'], axis=1)\n",
    "\n",
    "print(ratings.shape)\n",
    "\n",
    "ratings.head()"
   ]
  },
  {
   "cell_type": "code",
   "execution_count": null,
   "metadata": {
    "id": "6770IIdXvHbq",
    "outputId": "a04fd793-9ab0-4f23-8b24-ce5d312631d6"
   },
   "outputs": [],
   "source": [
    "UserRatings = ratings.pivot_table(index=['userId'],columns=['title'], values='rating')\n",
    "\n",
    "print(\"Before: \", UserRatings.shape)\n",
    "\n",
    "UserRatings = UserRatings.dropna(thresh=10, axis=1).fillna(0, axis=1)\n",
    "print(\"After: \",UserRatings.shape)"
   ]
  },
  {
   "cell_type": "markdown",
   "metadata": {
    "id": "UkmS3g6ZD6Ol"
   },
   "source": [
    "## Pearson Correlation"
   ]
  },
  {
   "cell_type": "code",
   "execution_count": null,
   "metadata": {
    "id": "Zr-IoahFvNUL",
    "outputId": "a7cfecda-47d3-4c27-d6c9-3dc53344bd3d"
   },
   "outputs": [],
   "source": [
    "corrMatrix = UserRatings.corr(method='pearson')\n",
    "\n",
    "corrMatrix.head(10)"
   ]
  },
  {
   "cell_type": "code",
   "execution_count": null,
   "metadata": {
    "id": "CROW2U30vXM3"
   },
   "outputs": [],
   "source": [
    "def get_similar(movie_name, rating):\n",
    "    similar_ratings = corrMatrix[movie_name]*(rating-2.5)\n",
    "    similar_ratings = similar_ratings.sort_values(ascending=False)\n",
    "    return similar_ratings"
   ]
  },
  {
   "cell_type": "markdown",
   "metadata": {},
   "source": [
    "## Similar Romantic Movies"
   ]
  },
  {
   "cell_type": "code",
   "execution_count": null,
   "metadata": {
    "id": "v2TVsXaAvgDU",
    "outputId": "613b4f12-3a77-42fc-b495-f6addf243ae1"
   },
   "outputs": [],
   "source": [
    "romantic_movies= [(\"Father of the Bride Part II (1995)\",5),\n",
    "                  (\"Alice in Wonderland (2010)\",3),\n",
    "                  (\"Aliens (1986)\",1),\n",
    "                  (\"2001: A Space Odyssey (1968)\",2)]\n",
    "\n",
    "similar_movies = pd.DataFrame()\n",
    "\n",
    "for movie,rating in romantic_movies:\n",
    "    similar_movies = similar_movies.append(get_similar(movie,rating),ignore_index = True)\n",
    "\n",
    "similar_movies.head(10)"
   ]
  },
  {
   "cell_type": "code",
   "execution_count": null,
   "metadata": {
    "id": "rgbWiwZWvmX6",
    "outputId": "3b2eb474-a654-4a28-a5a8-f108a1e56258"
   },
   "outputs": [],
   "source": [
    "#Top-20 similar romantic movies\n",
    "similar_movies.sum().sort_values(ascending=False).head(20)"
   ]
  },
  {
   "cell_type": "markdown",
   "metadata": {},
   "source": [
    "## Similar Action Movies"
   ]
  },
  {
   "cell_type": "code",
   "execution_count": null,
   "metadata": {
    "id": "FvnkxqhovumT",
    "outputId": "ff2423a1-b5a7-466a-c44c-71d62a742076"
   },
   "outputs": [],
   "source": [
    "action_movies = [(\"Skyfall (2012)\",5),\n",
    "                 (\"Mission: Impossible III (2006)\",4),\n",
    "                 (\"Toy Story 3 (2010)\",2),\n",
    "                 (\"2 Fast 2 Furious (Fast and the Furious 2, The) (2003)\",4)]\n",
    "\n",
    "similar_movies = pd.DataFrame()\n",
    "\n",
    "for movie,rating in action_movies:\n",
    "    similar_movies = similar_movies.append(get_similar(movie,rating),ignore_index = True)\n",
    "\n",
    "\n",
    "similar_movies.head(10)"
   ]
  },
  {
   "cell_type": "code",
   "execution_count": null,
   "metadata": {},
   "outputs": [],
   "source": [
    "#Top-20 similar action movies\n",
    "similar_movies.sum().sort_values(ascending=False).head(20)"
   ]
  },
  {
   "cell_type": "code",
   "execution_count": null,
   "metadata": {},
   "outputs": [],
   "source": []
  }
 ],
 "metadata": {
  "kernelspec": {
   "display_name": "Python 3",
   "language": "python",
   "name": "python3"
  },
  "language_info": {
   "codemirror_mode": {
    "name": "ipython",
    "version": 3
   },
   "file_extension": ".py",
   "mimetype": "text/x-python",
   "name": "python",
   "nbconvert_exporter": "python",
   "pygments_lexer": "ipython3",
   "version": "3.7.4"
  }
 },
 "nbformat": 4,
 "nbformat_minor": 4
}
