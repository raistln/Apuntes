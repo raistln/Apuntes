{
 "cells": [
  {
   "cell_type": "markdown",
   "metadata": {},
   "source": [
    "## In this notebook we will be learning some hands-on techniques for Outlier Detection in Machine Learning"
   ]
  },
  {
   "cell_type": "markdown",
   "metadata": {
    "id": "FaEH-cZwI-8W"
   },
   "source": [
    "## A few outlier detection techniques :\n",
    "\n",
    "### **1. Percentile**\n",
    "\n",
    "### **2. Using scatter/box plot**\n",
    "\n",
    "### **3. Using 3 Standard Deviation**\n",
    "\n",
    "### **4. Z test**"
   ]
  },
  {
   "cell_type": "markdown",
   "metadata": {},
   "source": [
    "## Import the required libraries"
   ]
  },
  {
   "cell_type": "code",
   "execution_count": null,
   "metadata": {},
   "outputs": [],
   "source": [
    "!python -m pip install pip --upgrade --user -q\n",
    "!python -m pip install numpy pandas seaborn matplotlib scipy statsmodels sklearn scikit-image --user -q"
   ]
  },
  {
   "cell_type": "code",
   "execution_count": null,
   "metadata": {},
   "outputs": [],
   "source": [
    "import IPython\n",
    "IPython.Application.instance().kernel.do_shutdown(True)"
   ]
  },
  {
   "cell_type": "code",
   "execution_count": null,
   "metadata": {
    "id": "-BGH07xX1Zr3"
   },
   "outputs": [],
   "source": [
    "#dependencies\n",
    "import pandas as pd\n",
    "import numpy as np"
   ]
  },
  {
   "cell_type": "code",
   "execution_count": null,
   "metadata": {
    "id": "ybWp24kC1hsc"
   },
   "outputs": [],
   "source": [
    "df = pd.read_csv('AB_NYC_2019.csv') #reading the csv file\n",
    "df.head()"
   ]
  },
  {
   "cell_type": "code",
   "execution_count": null,
   "metadata": {
    "id": "-GuQ_D_i1hyz",
    "outputId": "68b653ff-3ce6-43b1-a1e6-e5d3e6b73e1a"
   },
   "outputs": [],
   "source": [
    "df.shape # in the format of (row,columns)"
   ]
  },
  {
   "cell_type": "code",
   "execution_count": null,
   "metadata": {
    "id": "LrZQcgx419jJ",
    "outputId": "9155f725-9842-4059-9a26-de8c9b8b7b6b"
   },
   "outputs": [],
   "source": [
    "# here we will be studying the price column from the data set\n",
    "df.columns"
   ]
  },
  {
   "cell_type": "markdown",
   "metadata": {
    "id": "9YFiwOQvQbtD"
   },
   "source": [
    "## 1. Removing Outliers using Percentile"
   ]
  },
  {
   "cell_type": "code",
   "execution_count": null,
   "metadata": {
    "id": "qRgp_IrR19f0",
    "outputId": "43d659e7-30c8-496b-8244-bcbac47b850a"
   },
   "outputs": [],
   "source": [
    "#setting the limits or our criteria for an item to be called as an outlier\n",
    "upper_bound=df['price'].quantile(0.9995) #value at 99.99 percentile\n",
    "print('Upper bound:',upper_bound)\n",
    "\n",
    "lower_bound=df['price'].quantile(0.0005) #value at 0.05 percentile\n",
    "print('Lower bound:',lower_bound)\n",
    "\n",
    "max_price=max(df['price'])\n",
    "print('Max:', max_price)\n",
    "\n",
    "min_price=min(df['price'])\n",
    "print('Min:', min_price)"
   ]
  },
  {
   "cell_type": "code",
   "execution_count": null,
   "metadata": {
    "id": "_JBXMkXN2VH6",
    "outputId": "d079cdbf-2b99-4b36-ccf2-cf25ea0d9988"
   },
   "outputs": [],
   "source": [
    "print(f'Number of data points having Price greater than {upper_bound} :', len(df[df['price']>upper_bound]))"
   ]
  },
  {
   "cell_type": "code",
   "execution_count": null,
   "metadata": {
    "id": "qbwtw7I32jss",
    "outputId": "29310877-e1e3-4ea1-ab08-2bcdb196132f"
   },
   "outputs": [],
   "source": [
    "print(f'Number of data points having Price lower than {lower_bound} :', len(df[df['price']<lower_bound]))"
   ]
  },
  {
   "cell_type": "code",
   "execution_count": null,
   "metadata": {
    "id": "TXwBtngz2jmD"
   },
   "outputs": [],
   "source": [
    "df_percentile = df[(df['price']<upper_bound) & (df['price']>lower_bound)]"
   ]
  },
  {
   "cell_type": "code",
   "execution_count": null,
   "metadata": {
    "id": "leo8edo82jcK",
    "outputId": "1c22376c-e772-4dd8-9385-9f4089f44856"
   },
   "outputs": [],
   "source": [
    "df_percentile "
   ]
  },
  {
   "cell_type": "code",
   "execution_count": null,
   "metadata": {},
   "outputs": [],
   "source": [
    "df_percentile.shape"
   ]
  },
  {
   "cell_type": "markdown",
   "metadata": {
    "id": "OuMuEBk4RCAP"
   },
   "source": [
    "## 2. Scatter plot for outlier removal"
   ]
  },
  {
   "cell_type": "code",
   "execution_count": null,
   "metadata": {
    "id": "w4lFU0ui28Xj"
   },
   "outputs": [],
   "source": [
    "import matplotlib.pyplot as plt"
   ]
  },
  {
   "cell_type": "code",
   "execution_count": null,
   "metadata": {
    "id": "eC0VfmAx43Tu",
    "outputId": "046632e9-a02a-48be-8c71-01bb5ab462fa"
   },
   "outputs": [],
   "source": [
    "plt.scatter(df.index,df['price'],color='red')\n",
    "plt.title('Price of accomodation')\n",
    "plt.xlabel('indices')\n",
    "plt.ylabel('Price')\n",
    "plt.show()"
   ]
  },
  {
   "cell_type": "code",
   "execution_count": null,
   "metadata": {
    "id": "ELkX3FNdUuKV",
    "outputId": "15e4d532-0333-4b1b-a68c-9c43e07b55d9"
   },
   "outputs": [],
   "source": [
    "x_upper=list(df[df['price']>upper_bound].index)\n",
    "y_upper=df[df['price']>upper_bound]\n",
    "\n",
    "x_lower=list(df[df['price']<lower_bound+2500].index)\n",
    "y_lower=df[df['price']<lower_bound+2500]\n",
    "\n",
    "x_inlier=list(df[(df['price']<upper_bound) & (df['price']>lower_bound)].index)\n",
    "y_inlier=df[(df['price']<upper_bound) & (df['price']>lower_bound)]\n",
    "\n",
    "print(len(x_inlier))\n",
    "print(len(y_inlier))"
   ]
  },
  {
   "cell_type": "code",
   "execution_count": null,
   "metadata": {
    "id": "Wr9f9k6RQVrB",
    "outputId": "01e8119b-8a3d-4d1d-bad1-e6ba4839e9b9"
   },
   "outputs": [],
   "source": [
    "plt.scatter(x_upper,y_upper['price'],color='black',marker='d',label='Above Upper Quartile')\n",
    "plt.scatter(x_lower,y_lower['price'],color='red',label='Below Lower Quartile')\n",
    "plt.scatter(x_inlier,y_inlier['price'],color='green',label='Inlier')\n",
    "plt.title('Price of accomodation')\n",
    "plt.xlabel('indices')\n",
    "plt.ylabel('Price')\n",
    "plt.legend(edgecolor='k')\n",
    "plt.show();"
   ]
  },
  {
   "cell_type": "markdown",
   "metadata": {
    "id": "OQmiJTFy7icj"
   },
   "source": [
    "## 3. **Standard Deviation** for identifying the outliers\n",
    "\n",
    "**Formula** :\n",
    "\n",
    " ![alt text](data:image/png;base64,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)"
   ]
  },
  {
   "cell_type": "code",
   "execution_count": null,
   "metadata": {
    "id": "qaHY4pHQQ2sy"
   },
   "outputs": [],
   "source": [
    "#Dependency \n",
    "from scipy.stats import norm"
   ]
  },
  {
   "cell_type": "code",
   "execution_count": null,
   "metadata": {
    "id": "H2sRVqDFSZIy",
    "outputId": "a1b08b67-70d7-4771-ad0d-4c61b10b3b17"
   },
   "outputs": [],
   "source": [
    "plt.hist(df.price, bins=10, rwidth=0.8, density=True)\n",
    "\n",
    "rng = np.arange(df.price.min(), df.price.max(), 0.1)\n",
    "\n",
    "plt.plot(rng, norm.pdf(rng, df.price.mean(), df.price.std()));"
   ]
  },
  {
   "cell_type": "code",
   "execution_count": null,
   "metadata": {
    "id": "lw_mVmRIcUOB",
    "outputId": "4ec8c5ba-caaf-43f8-cd1d-6d1a1a4631f6"
   },
   "outputs": [],
   "source": [
    "df.describe()"
   ]
  },
  {
   "cell_type": "code",
   "execution_count": null,
   "metadata": {
    "id": "kgnRGBDiZgPS",
    "outputId": "71dbd9b5-157a-4f11-f3d6-ac60acf901f9"
   },
   "outputs": [],
   "source": [
    "#setting limits for outliers \n",
    "#constraining by using 3 std dev technique\n",
    "#one may take 2 std dev or even 4-5 std dev for the same , it totally depends on the type of the data being used\n",
    "\n",
    "upper_limit = df.price.mean() + 3*(df.price.std())\n",
    "\n",
    "print(upper_limit)"
   ]
  },
  {
   "cell_type": "code",
   "execution_count": null,
   "metadata": {
    "id": "M5tf5GjUZgNT",
    "outputId": "df025697-e351-46d5-ed53-4a0631bab4de"
   },
   "outputs": [],
   "source": [
    "lower_limit = df.price.mean() - 3*(df.price.std())\n",
    "\n",
    "print(lower_limit)"
   ]
  },
  {
   "cell_type": "code",
   "execution_count": null,
   "metadata": {
    "id": "3-dXThKGkhRx",
    "outputId": "dbac0869-4781-4b5b-9c39-a5370d5352b8"
   },
   "outputs": [],
   "source": [
    "#seeing the outliers\n",
    "\n",
    "outlier_df = df[(df.price > upper_limit) | (df.price < lower_limit)]\n",
    "outlier_df.shape"
   ]
  },
  {
   "cell_type": "code",
   "execution_count": null,
   "metadata": {},
   "outputs": [],
   "source": [
    "outlier_df.price.plot(kind='hist');"
   ]
  },
  {
   "cell_type": "code",
   "execution_count": null,
   "metadata": {
    "id": "ovOobk8uZgJK",
    "outputId": "10b5ebdc-9d5c-468e-dbd7-1255c1238ec9"
   },
   "outputs": [],
   "source": [
    "inlier_df = df[(df['price'] > lower_limit) & (df['price'] < upper_limit)]\n",
    "inlier_df.shape"
   ]
  },
  {
   "cell_type": "code",
   "execution_count": null,
   "metadata": {},
   "outputs": [],
   "source": [
    "inlier_df.price.plot(kind='hist');"
   ]
  },
  {
   "cell_type": "markdown",
   "metadata": {
    "id": "FMyNnfkDlx8u"
   },
   "source": [
    "## **4. Z test for Outlier Removal**\n",
    "\n",
    "**Formula**\n",
    "\n",
    "![alt text](data:image/png;base64,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)"
   ]
  },
  {
   "cell_type": "code",
   "execution_count": null,
   "metadata": {
    "id": "rMsb5m2JZgFa",
    "outputId": "3f576ffd-6a22-4446-a3e4-36899577113a"
   },
   "outputs": [],
   "source": [
    "df['zscore'] = ( df.price - df.price.mean() ) / df.price.std()\n",
    "\n",
    "df.head(5)"
   ]
  },
  {
   "cell_type": "code",
   "execution_count": null,
   "metadata": {
    "id": "zGYttL-toURB",
    "outputId": "3f8f9590-ff5e-4545-9f8d-6e04ba226318"
   },
   "outputs": [],
   "source": [
    "#the outliers\n",
    "\n",
    "outlier_df = df[(df.zscore < -3) | (df.zscore > 3)]\n",
    "outlier_df.shape"
   ]
  },
  {
   "cell_type": "code",
   "execution_count": null,
   "metadata": {},
   "outputs": [],
   "source": [
    "outlier_df.price.plot(kind='hist');"
   ]
  },
  {
   "cell_type": "code",
   "execution_count": null,
   "metadata": {
    "id": "5mU-wFDPo8iL",
    "outputId": "f9c95fde-e471-4169-8122-5e9100408b16"
   },
   "outputs": [],
   "source": [
    "#outliers removed\n",
    "\n",
    "df_inliers = df[(df.zscore > -3) & (df.zscore < 3)]\n",
    "\n",
    "df_inliers.head()"
   ]
  },
  {
   "cell_type": "code",
   "execution_count": null,
   "metadata": {
    "id": "wVeY0niUo8Tq"
   },
   "outputs": [],
   "source": [
    "df_inliers.shape"
   ]
  },
  {
   "cell_type": "code",
   "execution_count": null,
   "metadata": {},
   "outputs": [],
   "source": [
    "df_inliers.price.plot(kind='hist');"
   ]
  },
  {
   "cell_type": "code",
   "execution_count": null,
   "metadata": {},
   "outputs": [],
   "source": []
  }
 ],
 "metadata": {
  "kernelspec": {
   "display_name": "Python 3",
   "language": "python",
   "name": "python3"
  },
  "language_info": {
   "codemirror_mode": {
    "name": "ipython",
    "version": 3
   },
   "file_extension": ".py",
   "mimetype": "text/x-python",
   "name": "python",
   "nbconvert_exporter": "python",
   "pygments_lexer": "ipython3",
   "version": "3.7.4"
  }
 },
 "nbformat": 4,
 "nbformat_minor": 4
}
