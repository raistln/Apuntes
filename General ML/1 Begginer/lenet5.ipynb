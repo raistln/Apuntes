{
 "cells": [
  {
   "cell_type": "markdown",
   "metadata": {},
   "source": [
    "## In this practice session, we will learn to code LeNet using Keras\n",
    "## The LeNet-5 architecture consists of two sets of convolutional and average pooling layers, followed by a flattening convolutional layer, then two fully-connected layers and finally a softmax classifier\n",
    "\n",
    "## We will perform the following steps to build a simple classifier using the popular MNIST dataset\n",
    "\n",
    " \n",
    " "
   ]
  },
  {
   "cell_type": "markdown",
   "metadata": {},
   "source": [
    "## Import Required Libraries"
   ]
  },
  {
   "cell_type": "code",
   "execution_count": null,
   "metadata": {},
   "outputs": [],
   "source": [
    "!python -m pip install pip --upgrade --user -q\n",
    "!python -m pip install numpy pandas seaborn matplotlib scipy statsmodels sklearn keras tensorflow opencv-python scikit-image --user -q"
   ]
  },
  {
   "cell_type": "code",
   "execution_count": null,
   "metadata": {},
   "outputs": [],
   "source": [
    "import IPython\n",
    "IPython.Application.instance().kernel.do_shutdown(True)"
   ]
  },
  {
   "cell_type": "code",
   "execution_count": null,
   "metadata": {
    "executionInfo": {
     "elapsed": 2923,
     "status": "ok",
     "timestamp": 1603353449078,
     "user": {
      "displayName": "Jayita Bhattacharyya",
      "photoUrl": "https://lh3.googleusercontent.com/a-/AOh14Gh2T57FgMSf6BnF6UiqWgeAyzALz8ed6EtGAyNY=s64",
      "userId": "01734530355429572469"
     },
     "user_tz": -330
    },
    "id": "Dy2o3qpkAb87"
   },
   "outputs": [],
   "source": [
    "import tensorflow as tf\n",
    "import numpy as np\n",
    "import matplotlib.pyplot as plt\n",
    "import pandas as pd\n",
    "\n",
    "from tensorflow.keras import Model\n",
    "from tensorflow.keras.models import Sequential\n",
    "from tensorflow.keras.layers import Dense, Flatten, Conv2D, AveragePooling2D"
   ]
  },
  {
   "cell_type": "markdown",
   "metadata": {},
   "source": [
    "## Load MNIST Dataset"
   ]
  },
  {
   "cell_type": "code",
   "execution_count": null,
   "metadata": {
    "executionInfo": {
     "elapsed": 4138,
     "status": "ok",
     "timestamp": 1603354260781,
     "user": {
      "displayName": "Jayita Bhattacharyya",
      "photoUrl": "https://lh3.googleusercontent.com/a-/AOh14Gh2T57FgMSf6BnF6UiqWgeAyzALz8ed6EtGAyNY=s64",
      "userId": "01734530355429572469"
     },
     "user_tz": -330
    },
    "id": "TFlhAJ_3Bg2t"
   },
   "outputs": [],
   "source": [
    "mnist = tf.keras.datasets.mnist\n",
    "(x_train, y_train),(x_test, y_test) = mnist.load_data()"
   ]
  },
  {
   "cell_type": "code",
   "execution_count": null,
   "metadata": {
    "executionInfo": {
     "elapsed": 1337,
     "status": "ok",
     "timestamp": 1603353761815,
     "user": {
      "displayName": "Jayita Bhattacharyya",
      "photoUrl": "https://lh3.googleusercontent.com/a-/AOh14Gh2T57FgMSf6BnF6UiqWgeAyzALz8ed6EtGAyNY=s64",
      "userId": "01734530355429572469"
     },
     "user_tz": -330
    },
    "id": "-T1TQO3iO5CV"
   },
   "outputs": [],
   "source": [
    "x_train = x_train.reshape(x_train.shape[0], 28, 28, 1)\n",
    "x_test = x_test.reshape(x_test.shape[0], 28, 28, 1)\n"
   ]
  },
  {
   "cell_type": "markdown",
   "metadata": {},
   "source": [
    "## Normalize the Images"
   ]
  },
  {
   "cell_type": "code",
   "execution_count": null,
   "metadata": {
    "executionInfo": {
     "elapsed": 1186,
     "status": "ok",
     "timestamp": 1603353792099,
     "user": {
      "displayName": "Jayita Bhattacharyya",
      "photoUrl": "https://lh3.googleusercontent.com/a-/AOh14Gh2T57FgMSf6BnF6UiqWgeAyzALz8ed6EtGAyNY=s64",
      "userId": "01734530355429572469"
     },
     "user_tz": -330
    },
    "id": "FDuIlT5RHUTq"
   },
   "outputs": [],
   "source": [
    "x_train = tf.keras.utils.normalize(x_train, axis=1)  \n",
    "x_test = tf.keras.utils.normalize(x_test, axis=1) "
   ]
  },
  {
   "cell_type": "markdown",
   "metadata": {},
   "source": [
    "## Build LeNet5 Model"
   ]
  },
  {
   "cell_type": "code",
   "execution_count": null,
   "metadata": {
    "executionInfo": {
     "elapsed": 1385,
     "status": "ok",
     "timestamp": 1603353794298,
     "user": {
      "displayName": "Jayita Bhattacharyya",
      "photoUrl": "https://lh3.googleusercontent.com/a-/AOh14Gh2T57FgMSf6BnF6UiqWgeAyzALz8ed6EtGAyNY=s64",
      "userId": "01734530355429572469"
     },
     "user_tz": -330
    },
    "id": "M_y8N_09Bg61"
   },
   "outputs": [],
   "source": [
    "model = Sequential()\n",
    "\n",
    "model.add(Conv2D(filters=32, kernel_size=(3, 3), activation='tanh', input_shape=(28,28,1)))\n",
    "model.add(AveragePooling2D())\n",
    "\n",
    "model.add(Conv2D(filters=16, kernel_size=(3, 3), activation='tanh'))\n",
    "model.add(AveragePooling2D())\n",
    "\n",
    "model.add(Flatten())\n",
    "\n",
    "model.add(Dense(units=128, activation='tanh'))\n",
    "\n",
    "model.add(Dense(units=10, activation = 'softmax'))"
   ]
  },
  {
   "cell_type": "code",
   "execution_count": null,
   "metadata": {
    "executionInfo": {
     "elapsed": 5084,
     "status": "ok",
     "timestamp": 1603353457250,
     "user": {
      "displayName": "Jayita Bhattacharyya",
      "photoUrl": "https://lh3.googleusercontent.com/a-/AOh14Gh2T57FgMSf6BnF6UiqWgeAyzALz8ed6EtGAyNY=s64",
      "userId": "01734530355429572469"
     },
     "user_tz": -330
    },
    "id": "c_qP1fRmF48o",
    "outputId": "5ab8fd3d-2bb6-4b36-8f68-68b9f4d1024b"
   },
   "outputs": [],
   "source": [
    "model.summary()"
   ]
  },
  {
   "cell_type": "code",
   "execution_count": null,
   "metadata": {
    "executionInfo": {
     "elapsed": 1250,
     "status": "ok",
     "timestamp": 1603353799775,
     "user": {
      "displayName": "Jayita Bhattacharyya",
      "photoUrl": "https://lh3.googleusercontent.com/a-/AOh14Gh2T57FgMSf6BnF6UiqWgeAyzALz8ed6EtGAyNY=s64",
      "userId": "01734530355429572469"
     },
     "user_tz": -330
    },
    "id": "Tb2ouDa3Etlp"
   },
   "outputs": [],
   "source": [
    "model.compile(optimizer='adam',\n",
    "              loss='sparse_categorical_crossentropy',\n",
    "              metrics=['accuracy'])"
   ]
  },
  {
   "cell_type": "code",
   "execution_count": null,
   "metadata": {
    "executionInfo": {
     "elapsed": 263065,
     "status": "ok",
     "timestamp": 1603353038619,
     "user": {
      "displayName": "Jayita Bhattacharyya",
      "photoUrl": "https://lh3.googleusercontent.com/a-/AOh14Gh2T57FgMSf6BnF6UiqWgeAyzALz8ed6EtGAyNY=s64",
      "userId": "01734530355429572469"
     },
     "user_tz": -330
    },
    "id": "5BuZLzhtEtiM",
    "outputId": "20e88ccb-2f28-46bb-e340-12cdf678d952"
   },
   "outputs": [],
   "source": [
    "model.fit(x_train, y_train, \n",
    "          epochs=5, \n",
    "          validation_data=(x_test, y_test));"
   ]
  },
  {
   "cell_type": "markdown",
   "metadata": {},
   "source": [
    "## Predict on Test Set"
   ]
  },
  {
   "cell_type": "code",
   "execution_count": null,
   "metadata": {
    "executionInfo": {
     "elapsed": 3830,
     "status": "ok",
     "timestamp": 1603354133578,
     "user": {
      "displayName": "Jayita Bhattacharyya",
      "photoUrl": "https://lh3.googleusercontent.com/a-/AOh14Gh2T57FgMSf6BnF6UiqWgeAyzALz8ed6EtGAyNY=s64",
      "userId": "01734530355429572469"
     },
     "user_tz": -330
    },
    "id": "HORJuwibF6jQ",
    "outputId": "9283f998-c78e-4954-e32e-6f26a0c5649b"
   },
   "outputs": [],
   "source": [
    "predictions = model.predict(x_test)"
   ]
  },
  {
   "cell_type": "markdown",
   "metadata": {},
   "source": [
    "## Verify Predictions"
   ]
  },
  {
   "cell_type": "code",
   "execution_count": null,
   "metadata": {
    "executionInfo": {
     "elapsed": 1222,
     "status": "ok",
     "timestamp": 1603354264053,
     "user": {
      "displayName": "Jayita Bhattacharyya",
      "photoUrl": "https://lh3.googleusercontent.com/a-/AOh14Gh2T57FgMSf6BnF6UiqWgeAyzALz8ed6EtGAyNY=s64",
      "userId": "01734530355429572469"
     },
     "user_tz": -330
    },
    "id": "MSQoXR5fT7fq",
    "outputId": "62ed1566-0aaf-4edb-90e4-0049899a159d"
   },
   "outputs": [],
   "source": [
    "#random indices..\n",
    "img_ix = [0, 10, 100, 1000]\n",
    "\n",
    "for ix in img_ix:\n",
    "    plt.imshow(x_test[ix].reshape((28,28)))\n",
    "    plt.title(f\" Actual: {y_test[ix]} | Predicted: {np.argmax(predictions[ix])} \")\n",
    "    plt.show();"
   ]
  },
  {
   "cell_type": "code",
   "execution_count": null,
   "metadata": {},
   "outputs": [],
   "source": []
  },
  {
   "cell_type": "code",
   "execution_count": null,
   "metadata": {},
   "outputs": [],
   "source": []
  }
 ],
 "metadata": {
  "kernelspec": {
   "display_name": "Python 3",
   "language": "python",
   "name": "python3"
  },
  "language_info": {
   "codemirror_mode": {
    "name": "ipython",
    "version": 3
   },
   "file_extension": ".py",
   "mimetype": "text/x-python",
   "name": "python",
   "nbconvert_exporter": "python",
   "pygments_lexer": "ipython3",
   "version": "3.7.4"
  }
 },
 "nbformat": 4,
 "nbformat_minor": 4
}
