{
 "cells": [
  {
   "cell_type": "code",
   "execution_count": null,
   "metadata": {},
   "outputs": [],
   "source": [
    "!python -m pip install pip --upgrade --user -q\n",
    "!python -m pip install numpy pandas seaborn matplotlib scipy statsmodels sklearn keras tensorflow --user -q"
   ]
  },
  {
   "cell_type": "code",
   "execution_count": null,
   "metadata": {},
   "outputs": [],
   "source": [
    "import IPython\n",
    "IPython.Application.instance().kernel.do_shutdown(True)"
   ]
  },
  {
   "cell_type": "code",
   "execution_count": null,
   "metadata": {
    "id": "jKwTsPaU62P8"
   },
   "outputs": [],
   "source": [
    "#import the required libraries\n",
    "import pandas as pd \n",
    "import numpy as np \n",
    "import matplotlib.pyplot as plt \n",
    "import seaborn as sns\n",
    "from keras.models import Sequential\n",
    "from keras.layers import Dense, Activation, Dropout, Flatten, Reshape\n",
    "from keras.layers import Convolution2D, MaxPooling2D\n",
    "from keras.utils import np_utils"
   ]
  },
  {
   "cell_type": "code",
   "execution_count": null,
   "metadata": {
    "id": "l3EWGu6ivKMU"
   },
   "outputs": [],
   "source": [
    "#load the dataset from keras datasets\n",
    "from tensorflow.keras.datasets import fashion_mnist\n",
    "((trainX, trainY), (testX, testY)) = fashion_mnist.load_data()"
   ]
  },
  {
   "cell_type": "code",
   "execution_count": null,
   "metadata": {
    "colab": {
     "base_uri": "https://localhost:8080/",
     "height": 51
    },
    "id": "jvlngixFvhly",
    "outputId": "9e3edaf0-dfa2-4026-d112-737961ab155a"
   },
   "outputs": [],
   "source": [
    "#get the shape of the data\n",
    "print(trainX.shape)\n",
    "print(testX.shape)"
   ]
  },
  {
   "cell_type": "code",
   "execution_count": null,
   "metadata": {
    "colab": {
     "base_uri": "https://localhost:8080/",
     "height": 95
    },
    "id": "ZoHBe4iO7L8r",
    "outputId": "f8805065-cd82-4199-9987-5a1abdd728f8"
   },
   "outputs": [],
   "source": [
    "#plot the data\n",
    "plt.figure(figsize=(10, 10))\n",
    "for i in range(10):\n",
    "    plt.subplot(1, 10, i+1)\n",
    "    plt.imshow(testX[i]) \n",
    "    plt.axis('off')\n",
    "plt.show()\n",
    "print('Labels: %s' % (testY[0:10]))"
   ]
  },
  {
   "cell_type": "code",
   "execution_count": null,
   "metadata": {
    "id": "kKt2VtPYv6HJ"
   },
   "outputs": [],
   "source": [
    "#normalize the data array\n",
    "trainX=trainX.astype('float32')\n",
    "testX=testX.astype('float32')\n",
    "trainX/=255\n",
    "testX/=255\n",
    "\n"
   ]
  },
  {
   "cell_type": "code",
   "execution_count": null,
   "metadata": {
    "id": "7_BE7AifwDrj"
   },
   "outputs": [],
   "source": [
    "#reshape the features and convert the target columns into categorical values\n",
    "\n",
    "trainX = trainX.reshape(trainX.shape[0], 28, 28, 1).astype('float32')\n",
    "testX = testX.reshape(testX.shape[0], 28, 28, 1).astype('float32')\n",
    "\n",
    "trainY = np_utils.to_categorical(trainY, 10)\n",
    "testY = np_utils.to_categorical(testY, 10)"
   ]
  },
  {
   "cell_type": "code",
   "execution_count": null,
   "metadata": {
    "id": "_uazoPiGxB9h"
   },
   "outputs": [],
   "source": [
    "#build a convolutional model \n",
    "\n",
    "model = Sequential()\n",
    "model.add(Convolution2D(32, 3, 3, input_shape=(28, 28, 1)))\n",
    "model.add(Activation('relu'))\n",
    "\n",
    "model.add(Convolution2D(32, 3, 3))\n",
    "model.add(Activation('relu'))\n",
    "\n",
    "model.add(Convolution2D(32, 3, 3))\n",
    "model.add(Activation('relu'))\n",
    "\n",
    "\n",
    "model.add(Flatten())\n",
    "\n",
    "model.add(Dense(128))\n",
    "model.add(Dense(128))\n",
    "model.add(Activation('relu'))\n",
    "\n",
    "model.add(Dense(10))\n",
    "model.add(Activation('softmax'))\n",
    "\n"
   ]
  },
  {
   "cell_type": "code",
   "execution_count": null,
   "metadata": {
    "colab": {
     "base_uri": "https://localhost:8080/",
     "height": 561
    },
    "id": "lUUnVwGvxHeJ",
    "outputId": "ea11808f-dca2-4565-b24a-637dbf6640b0"
   },
   "outputs": [],
   "source": [
    "#prints the model summary for each layer\n",
    "model.summary()"
   ]
  },
  {
   "cell_type": "code",
   "execution_count": null,
   "metadata": {
    "colab": {
     "base_uri": "https://localhost:8080/",
     "height": 357
    },
    "id": "durKdAC_xIfB",
    "outputId": "d9f63903-a810-432b-82c6-0cd8ec4b0449"
   },
   "outputs": [],
   "source": [
    "#compile the model by passing loss function, optimizer and the evaluation metrics\n",
    "model.compile(loss='categorical_crossentropy', optimizer='adam', metrics=['accuracy'])\n",
    "#train the model for 10 epochs and validate on test data\n",
    "history=model.fit(trainX, trainY, batch_size=32,epochs=10,validation_data=(testX, testY))"
   ]
  },
  {
   "cell_type": "code",
   "execution_count": null,
   "metadata": {
    "colab": {
     "base_uri": "https://localhost:8080/",
     "height": 328
    },
    "id": "tq4l6__Cx0IZ",
    "outputId": "468066e3-5dbb-4ec0-b205-4fbb1f27fbbf"
   },
   "outputs": [],
   "source": [
    "#plot the loss and accuracy graphs\n",
    "plt.figure(figsize=(10, 10))\n",
    "plt.subplot(2, 2, 1)\n",
    "plt.plot(history.history['loss'], label='Loss')\n",
    "plt.plot(history.history['val_loss'], label='val_Loss')\n",
    "plt.legend()\n",
    "plt.title('Loss curve')\n",
    "\n",
    "plt.subplot(2, 2, 2)\n",
    "plt.plot(history.history['accuracy'], label='accuracy')\n",
    "plt.plot(history.history['val_accuracy'], label='val_accuracy')\n",
    "plt.legend()\n",
    "plt.title('Accuracy curve')"
   ]
  },
  {
   "cell_type": "code",
   "execution_count": null,
   "metadata": {
    "colab": {
     "base_uri": "https://localhost:8080/",
     "height": 187
    },
    "id": "dY-PCIAkxQAS",
    "outputId": "036cdd12-5714-47fb-ebd1-449a0b9d4516"
   },
   "outputs": [],
   "source": [
    "#make model predictions\n",
    "predicted_classes = np.argmax(model.predict(testX),axis=1)\n",
    "print(\"predicted:\",predicted_classes[1:10])\n",
    "print(\"actual:\",testY[1:10])"
   ]
  },
  {
   "cell_type": "code",
   "execution_count": null,
   "metadata": {
    "id": "KmJ_GsOJCQ2d"
   },
   "outputs": [],
   "source": [
    "clothing = {0 : 'T-shirt/top',\n",
    "            1 : 'Trouser',\n",
    "            2 : 'Pullover',\n",
    "            3 : 'Dress',\n",
    "            4 : 'Coat',\n",
    "            5 : 'Sandal',\n",
    "            6 : 'Shirt',\n",
    "            7 : 'Sneaker',\n",
    "            8 : 'Bag',\n",
    "            9 : 'Ankle boot'}"
   ]
  },
  {
   "cell_type": "code",
   "execution_count": null,
   "metadata": {
    "id": "vYd3HMuCC_ba"
   },
   "outputs": [],
   "source": [
    "pred = model.predict(testX)\n",
    "pred_classes = np.argmax(pred,axis = 1) \n",
    "real_y = np.argmax(testY,axis = 1) "
   ]
  },
  {
   "cell_type": "code",
   "execution_count": null,
   "metadata": {
    "id": "DMQmR6VzzboC"
   },
   "outputs": [],
   "source": [
    "correct = []\n",
    "for i in range(len(testY)):\n",
    "    if(pred_classes[i] == real_y[i]):\n",
    "        correct.append(i)\n",
    "    if(len(correct) == 4):\n",
    "        break"
   ]
  },
  {
   "cell_type": "code",
   "execution_count": null,
   "metadata": {
    "colab": {
     "base_uri": "https://localhost:8080/",
     "height": 313
    },
    "id": "7bwnoR8_CLLU",
    "outputId": "3a26f7b4-6bb8-4681-81b7-f27c4638b797"
   },
   "outputs": [],
   "source": [
    "plt.imshow(testX[correct[1]].reshape(28,28), cmap='gray')\n",
    "plt.title(\"Predicted Label : \" + str(clothing[pred_classes[correct[1]]]) + \"\\n\"+\"Actual Label : \" + str(clothing[real_y[correct[1]]]))"
   ]
  },
  {
   "cell_type": "code",
   "execution_count": null,
   "metadata": {
    "id": "iUJq0zjqDNsC"
   },
   "outputs": [],
   "source": []
  }
 ],
 "metadata": {
  "colab": {
   "name": "cnnbasics.ipynb",
   "provenance": []
  },
  "kernelspec": {
   "display_name": "Python 3",
   "name": "python3"
  }
 },
 "nbformat": 4,
 "nbformat_minor": 2
}
