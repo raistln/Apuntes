{
 "cells": [
  {
   "cell_type": "markdown",
   "metadata": {
    "id": "-bjUiM6_t8su"
   },
   "source": [
    "\n",
    "## **In this practice we will use natural language processing to build a spam classifier**\n",
    "## **We will make use of the sms spam classification data for the implementation**"
   ]
  },
  {
   "cell_type": "markdown",
   "metadata": {
    "id": "I5kFy2QpuGQ2"
   },
   "source": [
    "## **Data processing**\n",
    "1. Import the libraries needed\n",
    "2. Load the data from the link \n",
    "3. Extract the data from HTML\n",
    "4. Convert text to tokens\n",
    "\n",
    "## **Using NLP**\n",
    "1. Remove stop words from the text\n",
    "2. Get a list of all words after removing stop words\n",
    "3. Analysing word frequency and plot the graph\n"
   ]
  },
  {
   "cell_type": "markdown",
   "metadata": {
    "id": "DhCijxg-r3Bf"
   },
   "source": [
    "## **Import the libraries needed**"
   ]
  },
  {
   "cell_type": "code",
   "execution_count": null,
   "metadata": {},
   "outputs": [],
   "source": [
    "!python -m pip install pip --upgrade --user -q\n",
    "!python -m pip install numpy pandas seaborn matplotlib scipy statsmodels sklearn keras tensorflow opencv-python html5lib scikit-image nltk bs4 --user -q"
   ]
  },
  {
   "cell_type": "code",
   "execution_count": null,
   "metadata": {},
   "outputs": [],
   "source": [
    "import IPython\n",
    "IPython.Application.instance().kernel.do_shutdown(True)"
   ]
  },
  {
   "cell_type": "code",
   "execution_count": null,
   "metadata": {
    "id": "WrX0_LIMrm-V"
   },
   "outputs": [],
   "source": [
    "#import the required packages\n",
    "import requests\n",
    "from bs4 import BeautifulSoup\n",
    "import re\n",
    "import nltk\n",
    "import seaborn as sns\n",
    "import matplotlib.pyplot as plt"
   ]
  },
  {
   "cell_type": "markdown",
   "metadata": {
    "id": "0tHa4_unr8hz"
   },
   "source": [
    "## **Load dataset from the link**"
   ]
  },
  {
   "cell_type": "code",
   "execution_count": null,
   "metadata": {
    "id": "aTgTrldeg8TC"
   },
   "outputs": [],
   "source": [
    "#get the dataset from link\n",
    "dataset='https://www.gutenberg.org/files/1661/1661-h/1661-h.htm'\n",
    "reading=requests.get(dataset)\n"
   ]
  },
  {
   "cell_type": "markdown",
   "metadata": {
    "id": "BBsYNmAhsCD2"
   },
   "source": [
    "## **Extract text from HTML**"
   ]
  },
  {
   "cell_type": "code",
   "execution_count": null,
   "metadata": {
    "id": "vpbd_EibiNtX"
   },
   "outputs": [],
   "source": [
    "html=reading.text"
   ]
  },
  {
   "cell_type": "code",
   "execution_count": null,
   "metadata": {
    "id": "6oc4RIEpip6U"
   },
   "outputs": [],
   "source": [
    "#extract the text using web scraping tool\n",
    "data=BeautifulSoup(html,\"html5lib\")"
   ]
  },
  {
   "cell_type": "code",
   "execution_count": null,
   "metadata": {
    "id": "NsxcQ6OUi376",
    "outputId": "266c5bb5-f60b-4a3c-9ce5-bf8880cbf9f7"
   },
   "outputs": [],
   "source": [
    "data.title"
   ]
  },
  {
   "cell_type": "code",
   "execution_count": null,
   "metadata": {
    "id": "6vtu_U8oi6kM",
    "outputId": "bae1689f-336c-4fcb-d5cb-1cf6d63571b0"
   },
   "outputs": [],
   "source": [
    "data.findAll('a')[:12]"
   ]
  },
  {
   "cell_type": "markdown",
   "metadata": {
    "id": "WTRqND_csIAh"
   },
   "source": [
    "## **Convert text into tokens**"
   ]
  },
  {
   "cell_type": "code",
   "execution_count": null,
   "metadata": {
    "id": "gcAw4sk_jADI",
    "outputId": "98c8202d-48ac-470b-d719-9d26f88c93e2"
   },
   "outputs": [],
   "source": [
    "#tokenize the text with regular expressions\n",
    "text=data.get_text()\n",
    "token=re.findall('\\w+',text)\n",
    "token[:10]"
   ]
  },
  {
   "cell_type": "code",
   "execution_count": null,
   "metadata": {
    "id": "vPPf45dMjqVP",
    "outputId": "76380fce-8123-4549-ffdf-5f563d4eea7a"
   },
   "outputs": [],
   "source": [
    "words=[]\n",
    "for word in token:\n",
    "  words.append(word.lower())\n",
    "words[:8]"
   ]
  },
  {
   "cell_type": "markdown",
   "metadata": {
    "id": "UvKs8bxSsNdq"
   },
   "source": [
    "## **Remove all the stopwords**"
   ]
  },
  {
   "cell_type": "code",
   "execution_count": null,
   "metadata": {
    "id": "QIgzPIR0j1JP",
    "outputId": "51b866fd-09ba-4630-a3a5-46ed5f9d3ab4"
   },
   "outputs": [],
   "source": [
    "#download the package\n",
    "nltk.download(\"stopwords\")"
   ]
  },
  {
   "cell_type": "code",
   "execution_count": null,
   "metadata": {
    "id": "MfFmg1fbqUq6",
    "outputId": "880e0494-5715-42ea-e86a-35f24e7d3142"
   },
   "outputs": [],
   "source": [
    "#remove stop words\n",
    "sw=nltk.corpus.stopwords.words('english')\n",
    "sw[:5]"
   ]
  },
  {
   "cell_type": "markdown",
   "metadata": {
    "id": "amL602-LsQ0d"
   },
   "source": [
    "## **Get a list of words without stop words**"
   ]
  },
  {
   "cell_type": "code",
   "execution_count": null,
   "metadata": {
    "id": "hqJ7drQpqoK8",
    "outputId": "3ff3e4f7-665f-4435-87aa-186fc3cccbbe"
   },
   "outputs": [],
   "source": [
    "#get the list without stop words\n",
    "words_ne=[]\n",
    "for word in words:\n",
    "  if word not in sw:\n",
    "    words_ne.append(word)\n",
    "\n",
    "words_ne[:5]"
   ]
  },
  {
   "cell_type": "markdown",
   "metadata": {
    "id": "a9jfYoiFsVm4"
   },
   "source": [
    "## **Plot the word frequency**"
   ]
  },
  {
   "cell_type": "code",
   "execution_count": null,
   "metadata": {
    "id": "6xLu2VI6rLX7",
    "outputId": "17127bcd-1211-4379-91b5-6c8af5c4321e"
   },
   "outputs": [],
   "source": [
    "#plot the word frequency\n",
    "sns.set_style('darkgrid')\n",
    "nlp_words=nltk.FreqDist(words_ne)\n",
    "nlp_words.plot(20);"
   ]
  },
  {
   "cell_type": "code",
   "execution_count": null,
   "metadata": {},
   "outputs": [],
   "source": []
  }
 ],
 "metadata": {
  "kernelspec": {
   "display_name": "Python 3",
   "language": "python",
   "name": "python3"
  },
  "language_info": {
   "codemirror_mode": {
    "name": "ipython",
    "version": 3
   },
   "file_extension": ".py",
   "mimetype": "text/x-python",
   "name": "python",
   "nbconvert_exporter": "python",
   "pygments_lexer": "ipython3",
   "version": "3.7.4"
  }
 },
 "nbformat": 4,
 "nbformat_minor": 4
}
