{
 "cells": [
  {
   "cell_type": "code",
   "execution_count": null,
   "metadata": {},
   "outputs": [],
   "source": [
    "!python -m pip install pip --upgrade --user -q\n",
    "!python -m pip install numpy pandas seaborn matplotlib scipy statsmodels sklearn --user -q"
   ]
  },
  {
   "cell_type": "code",
   "execution_count": null,
   "metadata": {},
   "outputs": [],
   "source": [
    "import IPython\n",
    "IPython.Application.instance().kernel.do_shutdown(True)"
   ]
  },
  {
   "cell_type": "code",
   "execution_count": null,
   "metadata": {
    "id": "jnDkloLJPVHb",
    "outputId": "8b0a1373-f45b-4968-ec80-eb8c4de04c4d"
   },
   "outputs": [],
   "source": [
    "#Importing Train Dataset\n",
    "import pandas as pd\n",
    "import numpy as np\n",
    "import matplotlib.pyplot as plt\n",
    "import statsmodels.api as sm\n",
    "from statsmodels.tsa.stattools import adfuller\n"
   ]
  },
  {
   "cell_type": "code",
   "execution_count": null,
   "metadata": {},
   "outputs": [],
   "source": [
    "train = pd.read_csv(\"Electric_Production.csv\")\n",
    "train.shape"
   ]
  },
  {
   "cell_type": "code",
   "execution_count": null,
   "metadata": {},
   "outputs": [],
   "source": [
    "143206 / 2"
   ]
  },
  {
   "cell_type": "code",
   "execution_count": null,
   "metadata": {
    "id": "RLPVmLQ4P5rt",
    "outputId": "395c5406-7ccd-41b2-e7d8-f4180505f002"
   },
   "outputs": [],
   "source": [
    "train.head(10)"
   ]
  },
  {
   "cell_type": "markdown",
   "metadata": {
    "id": "uEDEggOI60Hv"
   },
   "source": [
    "## **Visual Test**\n",
    "\n",
    "### Line Plot"
   ]
  },
  {
   "cell_type": "code",
   "execution_count": null,
   "metadata": {
    "id": "nugq9eb9RAXE",
    "outputId": "7d0d45b9-4f2f-4758-e4dc-d12de08c8509"
   },
   "outputs": [],
   "source": [
    "plt.figure(figsize=(16,7));\n",
    "plt.plot(train[\"Value\"],color=\"lightblue\");"
   ]
  },
  {
   "cell_type": "markdown",
   "metadata": {},
   "source": [
    "### Histogram Plot"
   ]
  },
  {
   "cell_type": "code",
   "execution_count": null,
   "metadata": {
    "id": "mWnHT4XfYhEK",
    "outputId": "83be7928-2483-4978-e1f3-c2edc8f35531"
   },
   "outputs": [],
   "source": [
    "plt.figure(figsize=(16,7));\n",
    "plt.hist(train[\"Value\"],color=\"lightblue\");"
   ]
  },
  {
   "cell_type": "markdown",
   "metadata": {
    "id": "nmzHV-zV6_Kd"
   },
   "source": [
    "## **Summary Statistics**"
   ]
  },
  {
   "cell_type": "code",
   "execution_count": null,
   "metadata": {
    "id": "UCRh5Ux0ZvuW"
   },
   "outputs": [],
   "source": [
    "#Split the data\n",
    "train_1=train[0:199]\n",
    "train_2=train[200:397]"
   ]
  },
  {
   "cell_type": "code",
   "execution_count": null,
   "metadata": {
    "id": "kkpCYwx_aDnu",
    "outputId": "7c1e4c74-0c28-4571-9d2e-3d61de9547d2"
   },
   "outputs": [],
   "source": [
    "#Mean of data\n",
    "train_1.mean()"
   ]
  },
  {
   "cell_type": "code",
   "execution_count": null,
   "metadata": {
    "id": "NZJgavhDaIwL",
    "outputId": "241b5094-e7ea-46d0-8f10-73a88363d9ba"
   },
   "outputs": [],
   "source": [
    "train_2.mean()"
   ]
  },
  {
   "cell_type": "code",
   "execution_count": null,
   "metadata": {
    "id": "GB-QdQZ5aNH3",
    "outputId": "1638339d-343e-4761-cba7-fba61b8eb83d"
   },
   "outputs": [],
   "source": [
    "#Variance of data\n",
    "train_1.var()"
   ]
  },
  {
   "cell_type": "code",
   "execution_count": null,
   "metadata": {
    "id": "vIH7rfEAaQ8Y",
    "outputId": "d887ca3c-fd7a-46ab-b6c9-90c1c5cd8f43"
   },
   "outputs": [],
   "source": [
    "train_2.var()"
   ]
  },
  {
   "cell_type": "markdown",
   "metadata": {
    "id": "q78GIVXY7NTq"
   },
   "source": [
    "## **Augmentated Dicky Fuller Test**"
   ]
  },
  {
   "cell_type": "code",
   "execution_count": null,
   "metadata": {
    "id": "PAYy_evQTbiA",
    "outputId": "76c12c4f-67b1-4947-984e-65e4606eed3d"
   },
   "outputs": [],
   "source": [
    "t = train[\"Value\"].values\n",
    "timeseries = adfuller(t)\n",
    "\n",
    "print('ADF Statistic: %f' % timeseries[0])\n",
    "print('p-value: %f' % timeseries[1])\n",
    "print('Critical Values:')\n",
    "\n",
    "for key, value in timeseries[4].items():\n",
    "    print('\\t%s: %.3f' % (key, value))\n",
    "\n",
    "if timeseries[0] > timeseries[4][\"5%\"]:\n",
    "    print (\"Failed to Reject Ho - Time Series is Non-Stationary\")\n",
    "else:\n",
    "    print (\"Reject Ho - Time Series is Stationary\")"
   ]
  },
  {
   "cell_type": "code",
   "execution_count": null,
   "metadata": {},
   "outputs": [],
   "source": []
  }
 ],
 "metadata": {
  "kernelspec": {
   "display_name": "Python 3",
   "language": "python",
   "name": "python3"
  },
  "language_info": {
   "codemirror_mode": {
    "name": "ipython",
    "version": 3
   },
   "file_extension": ".py",
   "mimetype": "text/x-python",
   "name": "python",
   "nbconvert_exporter": "python",
   "pygments_lexer": "ipython3",
   "version": "3.7.4"
  }
 },
 "nbformat": 4,
 "nbformat_minor": 4
}
