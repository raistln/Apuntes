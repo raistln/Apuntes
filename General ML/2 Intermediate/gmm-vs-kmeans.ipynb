{
 "cells": [
  {
   "cell_type": "markdown",
   "metadata": {},
   "source": [
    "## In this practice session, we will implement both K-Means and Gaussian mixture model algorithms in python and compare which algorithm to choose for a particular problem in unsupervised setting"
   ]
  },
  {
   "cell_type": "code",
   "execution_count": null,
   "metadata": {},
   "outputs": [],
   "source": [
    "!python -m pip install pip --upgrade --user -q\n",
    "!python -m pip install numpy pandas seaborn matplotlib scipy statsmodels sklearn  --user -q"
   ]
  },
  {
   "cell_type": "code",
   "execution_count": null,
   "metadata": {},
   "outputs": [],
   "source": [
    "import IPython\n",
    "IPython.Application.instance().kernel.do_shutdown(True)"
   ]
  },
  {
   "cell_type": "code",
   "execution_count": null,
   "metadata": {
    "id": "DenTcjhr6FTI"
   },
   "outputs": [],
   "source": [
    "# import some libraries\n",
    "import numpy as np\n",
    "import pandas as pd\n",
    "from sklearn.datasets import load_iris\n",
    "import matplotlib as mpl\n",
    "import matplotlib.pyplot as plt\n",
    "\n",
    "import seaborn as sns\n",
    "sns.set(style=\"white\", color_codes=True)\n",
    "import warnings\n",
    "warnings.filterwarnings(\"ignore\")\n",
    "\n",
    "# show plots inline\n",
    "%matplotlib inline"
   ]
  },
  {
   "cell_type": "code",
   "execution_count": null,
   "metadata": {
    "id": "k0-QQoyj6Qm-",
    "outputId": "757ca024-840c-461f-a897-31c66ec5e2a3"
   },
   "outputs": [],
   "source": [
    "X = load_iris()['data']\n",
    "X.shape"
   ]
  },
  {
   "cell_type": "code",
   "execution_count": null,
   "metadata": {
    "id": "lQgdYCOw6be0"
   },
   "outputs": [],
   "source": [
    "y = load_iris()['target']"
   ]
  },
  {
   "cell_type": "code",
   "execution_count": null,
   "metadata": {},
   "outputs": [],
   "source": [
    "X.shape, y.shape"
   ]
  },
  {
   "cell_type": "code",
   "execution_count": null,
   "metadata": {
    "id": "XJlyil-h6v9f",
    "outputId": "88a2219c-9f08-4678-f311-c8e15b374019"
   },
   "outputs": [],
   "source": [
    "from sklearn import preprocessing\n",
    "\n",
    "scaler = preprocessing.StandardScaler()\n",
    "\n",
    "scaler.fit(X)\n",
    "X_scaled_array = scaler.transform(X)\n",
    "X_scaled = pd.DataFrame(X_scaled_array, columns = load_iris()['feature_names'])\n",
    "\n",
    "X_scaled.sample(5)"
   ]
  },
  {
   "cell_type": "markdown",
   "metadata": {
    "id": "hyhx7JNUMR8l"
   },
   "source": [
    "## **K Means Clustering**"
   ]
  },
  {
   "cell_type": "code",
   "execution_count": null,
   "metadata": {
    "id": "68QgNTgw64xF",
    "outputId": "35fb87b7-4fa1-4eba-ed1d-527dc30ed0ae"
   },
   "outputs": [],
   "source": [
    "from sklearn.cluster import KMeans\n",
    "\n",
    "nclusters = 3 # this is the k in kmeans\n",
    "seed = 0\n",
    "\n",
    "km = KMeans(n_clusters=nclusters, random_state=seed)\n",
    "km.fit(X_scaled)\n",
    "\n",
    "# predict the cluster for each data point\n",
    "y_cluster_kmeans = km.predict(X_scaled)\n",
    "y_cluster_kmeans.shape"
   ]
  },
  {
   "cell_type": "code",
   "execution_count": null,
   "metadata": {
    "id": "h5TQZIgVE9Co",
    "outputId": "4c72fa90-77aa-4449-ccf4-e5c0050517fb"
   },
   "outputs": [],
   "source": [
    "import matplotlib.patches as mpatches\n",
    "\n",
    "red_patch = mpatches.Patch(color='red', label='Setosa')\n",
    "green_patch = mpatches.Patch(color='green', label='Versicolor')\n",
    "blue_patch = mpatches.Patch(color='blue', label='Virginica')\n",
    "\n",
    "colors = np.array(['blue', 'red', 'green'])\n",
    "plt.scatter(X_scaled.iloc[:, 2], X_scaled.iloc[:, 3], c=colors[y_cluster_kmeans])\n",
    "\n",
    "plt.xlabel(\"PetalLengthCm\")\n",
    "plt.ylabel(\"PetalWidthCm\")\n",
    "\n",
    "plt.legend(handles=[red_patch, green_patch, blue_patch], edgecolor='k')\n",
    "plt.show();"
   ]
  },
  {
   "cell_type": "code",
   "execution_count": null,
   "metadata": {
    "id": "My9wDZpO68-L",
    "outputId": "72a70463-476f-40a7-8c95-54d10c4307ac"
   },
   "outputs": [],
   "source": [
    "from sklearn import metrics\n",
    "\n",
    "score = metrics.silhouette_score(X_scaled, y_cluster_kmeans)\n",
    "\n",
    "print('Silhouette Coefficient : ', score)"
   ]
  },
  {
   "cell_type": "code",
   "execution_count": null,
   "metadata": {
    "id": "S6EmLbBW7M8y",
    "outputId": "5580c9d9-53ed-4c25-e82b-4f2148f8889d"
   },
   "outputs": [],
   "source": [
    "scores = metrics.silhouette_samples(X_scaled, y_cluster_kmeans)\n",
    "\n",
    "sns.distplot(scores);"
   ]
  },
  {
   "cell_type": "code",
   "execution_count": null,
   "metadata": {
    "id": "VUPhxf_SMELR",
    "outputId": "e5c4908a-37a8-43c5-babb-b74983aaf265"
   },
   "outputs": [],
   "source": [
    "from sklearn.metrics.cluster import adjusted_rand_score\n",
    "\n",
    "# first let's see how the k-means clustering did - \n",
    "score = adjusted_rand_score(y, y_cluster_kmeans)\n",
    "\n",
    "print('Adjusted Rand Score : ', score)"
   ]
  },
  {
   "cell_type": "markdown",
   "metadata": {
    "id": "sdhWh1q87v7U"
   },
   "source": [
    "## **Gaussian Mix Modelling**"
   ]
  },
  {
   "cell_type": "code",
   "execution_count": null,
   "metadata": {
    "id": "vCFeOu-X72AQ",
    "outputId": "5a831a66-ad1d-4022-8856-238a7bb3be3b"
   },
   "outputs": [],
   "source": [
    "from sklearn.mixture import GaussianMixture\n",
    "\n",
    "gmm = GaussianMixture(n_components=nclusters)\n",
    "gmm.fit(X_scaled)\n",
    "\n",
    "# predict the cluster for each data point\n",
    "y_cluster_gmm = gmm.predict(X_scaled)\n",
    "y_cluster_gmm.shape"
   ]
  },
  {
   "cell_type": "code",
   "execution_count": null,
   "metadata": {
    "id": "iSLhOyoqAH4D",
    "outputId": "2788983d-5a5f-4ca7-cec8-baa1218a853f"
   },
   "outputs": [],
   "source": [
    "red_patch = mpatches.Patch(color='red', label='Setosa')\n",
    "green_patch = mpatches.Patch(color='green', label='Versicolor')\n",
    "blue_patch = mpatches.Patch(color='blue', label='Virginica')\n",
    "\n",
    "colors = np.array(['blue', 'red', 'green'])\n",
    "plt.scatter(X_scaled.iloc[:, 2],X_scaled.iloc[:, 3],c=colors[y_cluster_gmm])\n",
    "\n",
    "plt.xlabel(\"PetalLengthCm\")\n",
    "plt.ylabel(\"PetalWidthCm\")\n",
    "\n",
    "plt.legend(handles=[red_patch, green_patch, blue_patch], edgecolor='k')\n",
    "plt.show()"
   ]
  },
  {
   "cell_type": "code",
   "execution_count": null,
   "metadata": {
    "id": "i4nIUxy4U6E7",
    "outputId": "ce767e55-88db-46a4-8bf0-390a73e65ddb"
   },
   "outputs": [],
   "source": [
    "from sklearn import metrics\n",
    "\n",
    "score = metrics.silhouette_score(X_scaled, y_cluster_gmm)\n",
    "print('Silhouette Coefficient : ', score)"
   ]
  },
  {
   "cell_type": "code",
   "execution_count": null,
   "metadata": {
    "id": "jHsF5wGZMJLU",
    "outputId": "bec4cfd0-857b-454d-a0c0-b2ecb6733202"
   },
   "outputs": [],
   "source": [
    "from sklearn.metrics.cluster import adjusted_rand_score\n",
    "\n",
    "# first let's see how the k-means clustering did - \n",
    "score = adjusted_rand_score(y, y_cluster_gmm)\n",
    "\n",
    "print('Adjusted Rand Score : ', score)"
   ]
  },
  {
   "cell_type": "code",
   "execution_count": null,
   "metadata": {},
   "outputs": [],
   "source": []
  }
 ],
 "metadata": {
  "kernelspec": {
   "display_name": "Python 3",
   "language": "python",
   "name": "python3"
  },
  "language_info": {
   "codemirror_mode": {
    "name": "ipython",
    "version": 3
   },
   "file_extension": ".py",
   "mimetype": "text/x-python",
   "name": "python",
   "nbconvert_exporter": "python",
   "pygments_lexer": "ipython3",
   "version": "3.7.4"
  }
 },
 "nbformat": 4,
 "nbformat_minor": 4
}
