{
 "cells": [
  {
   "cell_type": "markdown",
   "metadata": {},
   "source": [
    "## In this practice notebook, we will be learning how to Implement Sklearn Pipeline\n",
    "\n",
    "   \n",
    "   * Pipelines are very handy and useful when it comes to deploying models in productions"
   ]
  },
  {
   "cell_type": "markdown",
   "metadata": {},
   "source": [
    "## Import the required libraries"
   ]
  },
  {
   "cell_type": "code",
   "execution_count": null,
   "metadata": {},
   "outputs": [],
   "source": [
    "!python -m pip install pip --upgrade --user -q\n",
    "!python -m pip install numpy pandas seaborn matplotlib scipy statsmodels sklearn scikit-image --user -q"
   ]
  },
  {
   "cell_type": "code",
   "execution_count": null,
   "metadata": {},
   "outputs": [],
   "source": [
    "import IPython\n",
    "IPython.Application.instance().kernel.do_shutdown(True)"
   ]
  },
  {
   "cell_type": "code",
   "execution_count": null,
   "metadata": {
    "id": "ZMWd1vgI6dKN"
   },
   "outputs": [],
   "source": [
    "from sklearn.datasets import load_iris\n",
    "from sklearn.model_selection import train_test_split\n",
    "from sklearn.preprocessing import StandardScaler\n",
    "from sklearn.decomposition import PCA\n",
    "from sklearn.pipeline import Pipeline\n",
    "from sklearn.linear_model import LogisticRegression\n",
    "from sklearn.tree import DecisionTreeClassifier\n",
    "from sklearn.ensemble import RandomForestClassifier\n",
    "from sklearn.impute import SimpleImputer\n",
    "from sklearn.preprocessing import OneHotEncoder"
   ]
  },
  {
   "cell_type": "code",
   "execution_count": null,
   "metadata": {
    "id": "bjGryRMn6npo"
   },
   "outputs": [],
   "source": [
    "iris_df=load_iris()"
   ]
  },
  {
   "cell_type": "code",
   "execution_count": null,
   "metadata": {
    "id": "YeaksyoZ6ulZ",
    "outputId": "177da16a-14e1-415f-afea-05662f3f837b"
   },
   "outputs": [],
   "source": [
    "iris_df.data.shape"
   ]
  },
  {
   "cell_type": "code",
   "execution_count": null,
   "metadata": {
    "id": "iPI-o_cw6uoS"
   },
   "outputs": [],
   "source": [
    "X_train,X_test,y_train,y_test=train_test_split(iris_df.data,iris_df.target,test_size=0.3,random_state=0)\n"
   ]
  },
  {
   "cell_type": "markdown",
   "metadata": {},
   "source": [
    "## Build a pipeline"
   ]
  },
  {
   "cell_type": "code",
   "execution_count": null,
   "metadata": {
    "id": "LyFaAKKS6uti"
   },
   "outputs": [],
   "source": [
    "pipeline_lr = Pipeline([('scalar1',StandardScaler()),\n",
    "                        ('pca1',PCA(n_components=2)),\n",
    "                        ('lr_classifier',LogisticRegression(random_state=0))])"
   ]
  },
  {
   "cell_type": "code",
   "execution_count": null,
   "metadata": {
    "id": "EIxWFlvW6urK"
   },
   "outputs": [],
   "source": [
    "model = pipeline_lr.fit(X_train, y_train)"
   ]
  },
  {
   "cell_type": "code",
   "execution_count": null,
   "metadata": {
    "id": "wftjw_MY6-UY",
    "outputId": "399f5906-483f-45b8-d239-3e818f7220f9"
   },
   "outputs": [],
   "source": [
    "model.score(X_test,y_test)"
   ]
  },
  {
   "cell_type": "code",
   "execution_count": null,
   "metadata": {
    "id": "QjYpM6EE87g0"
   },
   "outputs": [],
   "source": [
    "from sklearn.neighbors import KNeighborsClassifier\n",
    "\n",
    "pipeline_knn = Pipeline([('scalar4',StandardScaler()),\n",
    "                         ('pca4',PCA(n_components=2)),\n",
    "                         ('knn_classifier',KNeighborsClassifier())])"
   ]
  },
  {
   "cell_type": "code",
   "execution_count": null,
   "metadata": {
    "id": "Vfms-zLmApRm"
   },
   "outputs": [],
   "source": [
    "from sklearn import svm\n",
    "\n",
    "pipe_svm = Pipeline([('scl', StandardScaler()),\n",
    "                     ('pca', PCA(n_components=2)),\n",
    "                     ('clf', svm.SVC(random_state=42))])"
   ]
  },
  {
   "cell_type": "code",
   "execution_count": null,
   "metadata": {
    "id": "Tnw_5VMlApVM"
   },
   "outputs": [],
   "source": [
    "pipeline_dt = Pipeline([('scalar2',StandardScaler()),\n",
    "                        ('pca2',PCA(n_components=2)),\n",
    "                        ('dt_classifier',DecisionTreeClassifier())])"
   ]
  },
  {
   "cell_type": "code",
   "execution_count": null,
   "metadata": {
    "id": "AbYphqEEA5hb"
   },
   "outputs": [],
   "source": [
    "pipelines = [pipeline_lr, pipeline_dt, pipe_svm,pipeline_knn]\n",
    "\n",
    "pipe_dict = {0: 'Logistic Regression', 1: 'Decision Tree', 2:'SVM', 3:'KNN'}\n",
    "\n",
    "for pipe in pipelines:\n",
    "    pipe.fit(X_train, y_train)"
   ]
  },
  {
   "cell_type": "code",
   "execution_count": null,
   "metadata": {
    "id": "l97yILigA5lQ",
    "outputId": "a9e00704-f974-4148-e0fc-d98ca4a4b1d8"
   },
   "outputs": [],
   "source": [
    "for i,model in enumerate(pipelines):\n",
    "    print(\"{} Test Accuracy: {}\".format(pipe_dict[i],model.score(X_test,y_test)))"
   ]
  },
  {
   "cell_type": "markdown",
   "metadata": {},
   "source": [
    "## Implement Grid Search with Pipeline"
   ]
  },
  {
   "cell_type": "code",
   "execution_count": null,
   "metadata": {
    "id": "8x0HWYSAjF1l",
    "outputId": "93755ec6-5481-47f6-ad63-c2207096597b"
   },
   "outputs": [],
   "source": [
    "from sklearn.model_selection import GridSearchCV\n",
    "import numpy as np\n",
    "\n",
    "# Create a pipeline\n",
    "pipe = Pipeline([(\"classifier\", RandomForestClassifier())])\n",
    "\n",
    "# Create dictionary with candidate learning algorithms and their hyperparameters\n",
    "grid_param = [{\"classifier\": [LogisticRegression()],\n",
    "               \"classifier__penalty\": ['l2','l1'],\n",
    "               \"classifier__C\": np.logspace(0, 4, 10)\n",
    "              },\n",
    "              {\"classifier\": [LogisticRegression()],\n",
    "               \"classifier__penalty\": ['l2'],\n",
    "               \"classifier__C\": np.logspace(0, 4, 10),\n",
    "               \"classifier__solver\":['newton-cg','saga','sag','liblinear'] ##This solvers don't allow L1 penalty\n",
    "              },\n",
    "              {\"classifier\": [RandomForestClassifier()],\n",
    "               \"classifier__n_estimators\": [10, 100, 1000],\n",
    "               \"classifier__max_depth\":[5,8,15,25,30,None],\n",
    "               \"classifier__min_samples_leaf\":[1,2,5,10,15,100],\n",
    "               \"classifier__max_leaf_nodes\": [2, 5,10]}]\n",
    "\n",
    "# create a gridsearch of the pipeline, the fit the best model\n",
    "gridsearch = GridSearchCV(pipe, grid_param, cv=5, verbose=0,n_jobs=-1) # Fit grid search\n",
    "best_model = gridsearch.fit(X_train,y_train)"
   ]
  },
  {
   "cell_type": "code",
   "execution_count": null,
   "metadata": {
    "id": "_H7Ose0VjZ2a",
    "outputId": "577428f7-4b63-4850-efa7-816af70eb42e"
   },
   "outputs": [],
   "source": [
    "print(best_model.best_estimator_)\n",
    "\n",
    "print(\"\\n\\n The mean accuracy of the model is:\", best_model.score(X_test,y_test))"
   ]
  },
  {
   "cell_type": "code",
   "execution_count": null,
   "metadata": {
    "id": "5Zv_Pe6kBAlL",
    "outputId": "2df87877-644c-407e-9f18-d5d89b981f64"
   },
   "outputs": [],
   "source": [
    "from sklearn.pipeline import make_pipeline\n",
    "\n",
    "# Create a pipeline\n",
    "\n",
    "pipe = make_pipeline((RandomForestClassifier()))\n",
    "\n",
    "# Create dictionary with candidate learning algorithms and their hyperparameters\n",
    "grid_param = [{\"randomforestclassifier\": [RandomForestClassifier()],\n",
    "               \"randomforestclassifier__n_estimators\": [10, 100, 1000],\n",
    "               \"randomforestclassifier__max_depth\":[5,8,15,25,30,None],\n",
    "               \"randomforestclassifier__min_samples_leaf\":[1,2,5,10,15,100],\n",
    "               \"randomforestclassifier__max_leaf_nodes\": [2, 5,10]\n",
    "              }]\n",
    "\n",
    "# create a gridsearch of the pipeline, the fit the best model\n",
    "gridsearch = GridSearchCV(pipe, grid_param, cv=5, verbose=0,n_jobs=-1) # Fit grid search\n",
    "best_model = gridsearch.fit(X_train,y_train)\n",
    "\n",
    "best_model.score(X_test,y_test)"
   ]
  },
  {
   "cell_type": "code",
   "execution_count": null,
   "metadata": {},
   "outputs": [],
   "source": []
  }
 ],
 "metadata": {
  "kernelspec": {
   "display_name": "Python 3",
   "language": "python",
   "name": "python3"
  },
  "language_info": {
   "codemirror_mode": {
    "name": "ipython",
    "version": 3
   },
   "file_extension": ".py",
   "mimetype": "text/x-python",
   "name": "python",
   "nbconvert_exporter": "python",
   "pygments_lexer": "ipython3",
   "version": "3.7.4"
  }
 },
 "nbformat": 4,
 "nbformat_minor": 4
}
