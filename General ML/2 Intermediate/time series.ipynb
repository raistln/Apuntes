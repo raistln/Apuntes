{
 "cells": [
  {
   "cell_type": "markdown",
   "metadata": {
    "id": "kNhCsSHcg1oH"
   },
   "source": [
    "\n",
    "## **In this practice session, we will learn how to implement Recurrent Neural Networks for Time Series Forecasting**\n",
    "## **We will use the stock prices of tesla dataset for the implementation**"
   ]
  },
  {
   "cell_type": "markdown",
   "metadata": {
    "id": "dAetpkishGYb"
   },
   "source": [
    "**Data processing**\n",
    "\n",
    "*   Import the required libraries from Keras\n",
    "*   Upload the data to the notebook\n",
    "*   Split the data into train and test set\n",
    "*   Scale the training data between 0 and 1\n",
    "*   Create a data structure with 60 time-steps and 1 output\n",
    "\n",
    "\n",
    "**Build an RNN model**\n",
    "* Construct a simple LSTM model\n",
    "* Compile the model and fit the data into the model\n",
    "* Preprocess the test data and make predictions on test data\n",
    "* Plot the model predictions vs the actual data"
   ]
  },
  {
   "cell_type": "markdown",
   "metadata": {
    "id": "ifHAHmFvipTa"
   },
   "source": [
    "## **Import the libraries needed**"
   ]
  },
  {
   "cell_type": "code",
   "execution_count": null,
   "metadata": {},
   "outputs": [],
   "source": [
    "!python -m pip install pip --upgrade --user -q\n",
    "!python -m pip install numpy pandas seaborn matplotlib scipy statsmodels sklearn keras tensorflow opencv-python scikit-image nltk bs4 wordcloud --user -q"
   ]
  },
  {
   "cell_type": "code",
   "execution_count": null,
   "metadata": {},
   "outputs": [],
   "source": [
    "import IPython\n",
    "IPython.Application.instance().kernel.do_shutdown(True)"
   ]
  },
  {
   "cell_type": "code",
   "execution_count": null,
   "metadata": {
    "id": "amJBGjrUb7ov"
   },
   "outputs": [],
   "source": [
    "#load the important libraries \n",
    "import math\n",
    "import matplotlib.pyplot as plt\n",
    "import keras\n",
    "import pandas as pd\n",
    "import numpy as np\n",
    "from keras.models import Sequential\n",
    "from keras.layers import Dense\n",
    "from keras.layers import LSTM\n",
    "from keras.layers import Dropout\n",
    "from keras.layers import *\n",
    "from sklearn.preprocessing import MinMaxScaler\n",
    "from sklearn.metrics import mean_squared_error\n",
    "from sklearn.metrics import mean_absolute_error\n",
    "from sklearn.model_selection import train_test_split\n",
    "from keras.callbacks import EarlyStopping"
   ]
  },
  {
   "cell_type": "markdown",
   "metadata": {
    "id": "MgfH6LeCiwCc"
   },
   "source": [
    "## **Display the dataset**"
   ]
  },
  {
   "cell_type": "code",
   "execution_count": null,
   "metadata": {
    "id": "ktZn7jwOcCqd",
    "outputId": "b508a8d9-46eb-405d-b8a1-068d30eee068"
   },
   "outputs": [],
   "source": [
    "#read and display the dataset\n",
    "stock_price = pd.read_csv(\"TSLA.csv\")\n",
    "print(stock_price.shape)\n",
    "stock_price.head()"
   ]
  },
  {
   "cell_type": "markdown",
   "metadata": {
    "id": "DGjxhNwUiy0H"
   },
   "source": [
    "## **Split the dataset into train and test**"
   ]
  },
  {
   "cell_type": "code",
   "execution_count": null,
   "metadata": {
    "id": "H4NlsflPcM6Y"
   },
   "outputs": [],
   "source": [
    "#split the dataset into training and test set\n",
    "training_set = stock_price.iloc[:800, 1:3].values\n",
    "test_set = stock_price.iloc[800:, 1:3].values"
   ]
  },
  {
   "cell_type": "code",
   "execution_count": null,
   "metadata": {},
   "outputs": [],
   "source": [
    "print(training_set.shape, test_set.shape)"
   ]
  },
  {
   "cell_type": "markdown",
   "metadata": {
    "id": "g3KWG8ohi2SD"
   },
   "source": [
    "## **Scale the training data**"
   ]
  },
  {
   "cell_type": "code",
   "execution_count": null,
   "metadata": {
    "id": "bYC5QVd6eE76"
   },
   "outputs": [],
   "source": [
    "#scaling the data between 0 and 1\n",
    "scaling = MinMaxScaler(feature_range = (0, 1))\n",
    "training_set_scaled = scaling.fit_transform(training_set[:, 0].reshape(-1,1))"
   ]
  },
  {
   "cell_type": "markdown",
   "metadata": {
    "id": "1e-X2k6ii5xY"
   },
   "source": [
    "## **Creating a data structure with 60 time-steps and 1 output**"
   ]
  },
  {
   "cell_type": "code",
   "execution_count": null,
   "metadata": {
    "id": "Oh2IdoUncSIr"
   },
   "outputs": [],
   "source": [
    "# Creating a data structure with 60 time-steps and 1 output\n",
    "trainX = []\n",
    "trainY = []\n",
    "\n",
    "for i in range(60, 800):\n",
    "    trainX.append(training_set_scaled[i-60:i])\n",
    "    trainY.append(training_set_scaled[i])\n",
    "    \n",
    "trainX, trainY = np.array(trainX), np.array(trainY)\n",
    "# trainX = np.reshape(trainX, (trainX.shape[0], trainX.shape[1], 1))"
   ]
  },
  {
   "cell_type": "code",
   "execution_count": null,
   "metadata": {},
   "outputs": [],
   "source": [
    "print(trainX.shape, trainY.shape)"
   ]
  },
  {
   "cell_type": "markdown",
   "metadata": {
    "id": "Ncfl4Aubi9TT"
   },
   "source": [
    "## **Build an LSTM model with dropout**"
   ]
  },
  {
   "cell_type": "code",
   "execution_count": null,
   "metadata": {
    "id": "zXqs8ZFRee7Z",
    "outputId": "5b9dc488-2d35-4811-978e-b9cbea46f013"
   },
   "outputs": [],
   "source": [
    "#build the LSTM model\n",
    "model = Sequential()\n",
    "model.add(LSTM(50, return_sequences = True, input_shape = (trainX.shape[1], 1)))\n",
    "model.add(Dropout(0.2))\n",
    "model.add(LSTM(50, return_sequences = True))\n",
    "model.add(Dropout(0.2))\n",
    "model.add(LSTM(50, return_sequences = True))\n",
    "model.add(Dropout(0.2))\n",
    "model.add(LSTM(50))\n",
    "model.add(Dropout(0.2))\n",
    "model.add(Dense(1))\n",
    "model.summary()"
   ]
  },
  {
   "cell_type": "markdown",
   "metadata": {
    "id": "KZO-bNZGjBeJ"
   },
   "source": [
    "## **Compile the model and begin training**"
   ]
  },
  {
   "cell_type": "code",
   "execution_count": null,
   "metadata": {
    "id": "Icx9540ScVrF",
    "outputId": "4b1971c0-add4-486f-8f58-5cf50f846b67"
   },
   "outputs": [],
   "source": [
    "#compile the model\n",
    "model.compile(optimizer = 'adam', loss = 'mean_squared_error')\n",
    "\n",
    "# Fitting the RNN to the Training set\n",
    "model.fit(trainX, trainY, nb_epoch=10, batch_size = 32)"
   ]
  },
  {
   "cell_type": "markdown",
   "metadata": {
    "id": "8WofoGefjFfT"
   },
   "source": [
    "## **Scale and pre-process test data**"
   ]
  },
  {
   "cell_type": "code",
   "execution_count": null,
   "metadata": {
    "id": "AOJnIl6jfxwg",
    "outputId": "69a95807-0434-4c4d-96a5-3b1befcc7a2d"
   },
   "outputs": [],
   "source": [
    "# Getting the predicted stock price of 2018\n",
    "dataset_train = stock_price.iloc[:800, 1:3]\n",
    "dataset_test = stock_price.iloc[800:, 1:3]\n",
    "\n",
    "dataset_total = pd.concat((dataset_train, dataset_test), axis = 0)\n",
    "inputs = dataset_total.loc[len(dataset_total) - len(dataset_test) - 60:, :].values\n",
    "inputs = inputs.reshape(-1,1)\n",
    "inputs = scaling.transform(inputs)\n",
    "\n",
    "X_test = []\n",
    "\n",
    "for i in range(60, 519):\n",
    "    X_test.append(inputs[i-60:i, 0])\n",
    "\n",
    "X_test = np.array(X_test)\n",
    "X_test = np.reshape(X_test, (X_test.shape[0], X_test.shape[1], 1))\n",
    "\n",
    "print(X_test.shape)"
   ]
  },
  {
   "cell_type": "markdown",
   "metadata": {
    "id": "XKZgFJ_9jI_L"
   },
   "source": [
    "## **Make model predictions on test data**"
   ]
  },
  {
   "cell_type": "code",
   "execution_count": null,
   "metadata": {
    "id": "lbPn-yCyci0Y"
   },
   "outputs": [],
   "source": [
    "#make the predictions\n",
    "predicted_stock_price = model.predict(X_test)\n",
    "# predicted_stock_price = np.reshape(X_test.shape[0], 1, 1)\n",
    "\n",
    "predicted_stock_price = scaling.inverse_transform(predicted_stock_price)"
   ]
  },
  {
   "cell_type": "markdown",
   "metadata": {
    "id": "YLYPH4-CjMIj"
   },
   "source": [
    "## **Plot the model predictions**"
   ]
  },
  {
   "cell_type": "code",
   "execution_count": null,
   "metadata": {
    "id": "y3iD0elYcmEb",
    "outputId": "9f881adc-48f9-4716-bd2a-bd8c0340e11a"
   },
   "outputs": [],
   "source": [
    "#plot the predictions\n",
    "plt.plot(stock_price.loc[800:, 'Date'],dataset_test.values, color = 'red', label = 'Real TESLA Stock Price')\n",
    "plt.plot(stock_price.loc[800:, 'Date'],predicted_stock_price, color = 'blue', label = 'Predicted TESLA Stock Price')\n",
    "plt.xticks(np.arange(0,459,50))\n",
    "plt.title('TESLA Stock Price Prediction')\n",
    "plt.xlabel('Time')\n",
    "plt.ylabel('TESLA Stock Price')\n",
    "plt.legend()\n",
    "plt.show()"
   ]
  },
  {
   "cell_type": "code",
   "execution_count": null,
   "metadata": {
    "id": "7sDVayTkcy8p"
   },
   "outputs": [],
   "source": []
  }
 ],
 "metadata": {
  "kernelspec": {
   "display_name": "Python 3",
   "language": "python",
   "name": "python3"
  },
  "language_info": {
   "codemirror_mode": {
    "name": "ipython",
    "version": 3
   },
   "file_extension": ".py",
   "mimetype": "text/x-python",
   "name": "python",
   "nbconvert_exporter": "python",
   "pygments_lexer": "ipython3",
   "version": "3.7.4"
  }
 },
 "nbformat": 4,
 "nbformat_minor": 4
}
