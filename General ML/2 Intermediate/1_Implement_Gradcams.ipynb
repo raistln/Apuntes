{
 "cells": [
  {
   "cell_type": "markdown",
   "metadata": {
    "id": "Nf-NTvPXUSD4"
   },
   "source": [
    "## In this notebook we will implement GRADCAMS, as described in the below steps\n",
    "\n",
    "* Using a pre-trained model\n",
    "* Import the required libraries\n",
    "* Load the pre-trained model\n",
    "* Get the data summary\n",
    "* Visualizing using Gradcam\n",
    "* Load an image\n",
    "* Make predictions about the class index using the pre-trained model\n",
    "* Plot a heatmap to get the visualizations"
   ]
  },
  {
   "cell_type": "code",
   "execution_count": null,
   "metadata": {},
   "outputs": [],
   "source": [
    "!python -m pip install pip --upgrade --user -q --no-warn-script-location\n",
    "!python -m pip install numpy pandas seaborn matplotlib scipy statsmodels sklearn tensorflow keras opencv-python pillow scikit-image torch torchvision \\\n",
    "    google.colab --user -q --no-warn-script-location\n",
    "\n",
    "import IPython\n",
    "IPython.Application.instance().kernel.do_shutdown(True)\n"
   ]
  },
  {
   "cell_type": "code",
   "execution_count": null,
   "metadata": {
    "id": "xcxj0sq6fQdb"
   },
   "outputs": [],
   "source": [
    "from keras.applications.vgg16 import VGG16, preprocess_input, decode_predictions\n",
    "from keras.preprocessing import image\n",
    "import numpy as np\n",
    "import tensorflow as tf\n",
    "import cv2\n",
    "import keras.backend as K\n",
    "tf.compat.v1.disable_eager_execution()"
   ]
  },
  {
   "cell_type": "code",
   "execution_count": null,
   "metadata": {
    "id": "EXskJZR9KWZ8"
   },
   "outputs": [],
   "source": [
    "from keras.applications.vgg16 import VGG16\n",
    "model = VGG16()\n",
    "print(model.summary())"
   ]
  },
  {
   "cell_type": "markdown",
   "metadata": {
    "id": "ctzhKi-thrTZ"
   },
   "source": [
    "Gradcam for one layer before the one used previously."
   ]
  },
  {
   "cell_type": "code",
   "execution_count": null,
   "metadata": {
    "id": "QraBOGSMZs7n"
   },
   "outputs": [],
   "source": [
    "model = VGG16(weights=\"imagenet\")\n",
    "from skimage import io\n",
    "sunglasses = io.imread(\"https://ae01.alicdn.com/kf/HTB1wnD8bcrrK1RjSspaq6AREXXaR/MK100-Tony-Stark-Doll-Head-Carved-Glasses-Seamless-Flexible-Body-1-6-Action-Figure-Scale-Model.jpg_q50.jpg\")\n",
    "\n",
    "sunglasses = cv2.resize(sunglasses, dsize=(224, 224), interpolation=cv2.INTER_CUBIC)\n",
    "x = image.img_to_array(sunglasses)\n",
    "x = np.expand_dims(x, axis=0)\n",
    "x = preprocess_input(x)"
   ]
  },
  {
   "cell_type": "code",
   "execution_count": null,
   "metadata": {
    "id": "E-wwYsu2YZR8"
   },
   "outputs": [],
   "source": [
    "preds = model.predict(x)\n",
    "class_idx = np.argmax(preds)\n",
    "print(class_idx)\n",
    "class_output = model.output[:, 837]\n",
    "last_conv_layer = model.get_layer(\"block5_conv3\")"
   ]
  },
  {
   "cell_type": "code",
   "execution_count": null,
   "metadata": {
    "id": "WlOdnIO8aIKJ"
   },
   "outputs": [],
   "source": [
    "grads = K.gradients(class_output, last_conv_layer.output)[0]\n",
    "print(grads.shape)\n",
    "pooled_grads = K.mean(grads, axis=(0, 1, 2))\n",
    "print(pooled_grads.shape)\n",
    "iterate = K.function([model.input], [pooled_grads, last_conv_layer.output[0]])\n",
    "\n",
    "pooled_grads_value, conv_layer_output_value = iterate([x])\n",
    "\n",
    "for i in range(512):\n",
    "    conv_layer_output_value[:, :, i] *= pooled_grads_value[i]"
   ]
  },
  {
   "cell_type": "code",
   "execution_count": null,
   "metadata": {
    "id": "LyF2bvfHaNK1"
   },
   "outputs": [],
   "source": [
    "heatmap = np.mean(conv_layer_output_value, axis = -1)\n",
    "\n",
    "print(conv_layer_output_value.shape)\n",
    "print(heatmap.shape)\n",
    "\n",
    "heatmap = np.maximum(heatmap, 0)\n",
    "heatmap /= np.max(heatmap)"
   ]
  },
  {
   "cell_type": "code",
   "execution_count": null,
   "metadata": {
    "id": "3zw55M8RaSdL"
   },
   "outputs": [],
   "source": [
    "heatmap = cv2.resize(heatmap, (sunglasses.shape[1], sunglasses.shape[0]))\n",
    "heatmap = np.uint8(255 * heatmap)\n",
    "heatmap = cv2.applyColorMap(heatmap, cv2.COLORMAP_JET)\n",
    "superimposed_img = cv2.addWeighted(sunglasses, 0.5, heatmap, 0.5, 0)\n",
    "from google.colab.patches import cv2_imshow\n",
    "cv2_imshow(superimposed_img)"
   ]
  }
 ],
 "metadata": {
  "colab": {
   "collapsed_sections": [],
   "name": "1_Implement_Gradcams.ipynb",
   "provenance": []
  },
  "kernelspec": {
   "display_name": "Python 3",
   "language": "python",
   "name": "python3"
  },
  "language_info": {
   "codemirror_mode": {
    "name": "ipython",
    "version": 3
   },
   "file_extension": ".py",
   "mimetype": "text/x-python",
   "name": "python",
   "nbconvert_exporter": "python",
   "pygments_lexer": "ipython3",
   "version": "3.6.4"
  }
 },
 "nbformat": 4,
 "nbformat_minor": 2
}
