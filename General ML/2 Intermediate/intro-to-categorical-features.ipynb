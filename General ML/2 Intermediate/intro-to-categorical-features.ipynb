{
 "cells": [
  {
   "cell_type": "markdown",
   "metadata": {},
   "source": [
    "## In this practice session, we will learn how to encode categorical features with higher cardinality\n",
    "\n",
    "## Some of the techniques covered are as follows\n",
    "\n",
    "  * **Label Encoder**\n",
    "  * **Ordinal Encoder**\n",
    "  * **Label Binarizer**\n",
    "  * **Count Encoding**"
   ]
  },
  {
   "cell_type": "code",
   "execution_count": null,
   "metadata": {},
   "outputs": [],
   "source": [
    "!python -m pip install pip --upgrade --user -q\n",
    "!python -m pip install numpy pandas seaborn matplotlib scipy statsmodels sklearn --user -q"
   ]
  },
  {
   "cell_type": "code",
   "execution_count": null,
   "metadata": {
    "id": "lmQazsdkh1qL"
   },
   "outputs": [],
   "source": [
    "import numpy as np\n",
    "import pandas as pd"
   ]
  },
  {
   "cell_type": "code",
   "execution_count": null,
   "metadata": {
    "id": "LycSuTMyitNL",
    "outputId": "90d816e4-fcf0-4eec-e129-6e0b2cca2de7"
   },
   "outputs": [],
   "source": [
    "df = pd.read_csv('melb_data.csv')\n",
    "df.head()"
   ]
  },
  {
   "cell_type": "code",
   "execution_count": null,
   "metadata": {
    "id": "WQ2ADwRu9rgJ",
    "outputId": "54d65c45-345a-4ddf-f9d2-94041a350b37"
   },
   "outputs": [],
   "source": [
    "df.shape"
   ]
  },
  {
   "cell_type": "code",
   "execution_count": null,
   "metadata": {
    "id": "nH7AYz4Xd6Dc",
    "outputId": "b9b2837a-dfd3-4202-8944-bb5cc334b7e0"
   },
   "outputs": [],
   "source": [
    "df.info()"
   ]
  },
  {
   "cell_type": "code",
   "execution_count": null,
   "metadata": {
    "id": "AW_A_b5bitTF",
    "outputId": "264128b4-9826-4cb6-d848-5eee7f1d2c69"
   },
   "outputs": [],
   "source": [
    "# Get list of categorical variables\n",
    "s = (df.dtypes == 'object')\n",
    "object_cols = list(s[s].index)\n",
    "\n",
    "print(\"Categorical variables:\")\n",
    "print(object_cols)"
   ]
  },
  {
   "cell_type": "code",
   "execution_count": null,
   "metadata": {
    "id": "a1FoRP0citQ6",
    "outputId": "e685529e-3046-4af2-fa1b-fb1252f18bdb"
   },
   "outputs": [],
   "source": [
    "df[object_cols].nunique()"
   ]
  },
  {
   "cell_type": "code",
   "execution_count": null,
   "metadata": {
    "id": "HKHV176mtCtr",
    "outputId": "43461bb9-9303-4022-a1eb-00808cadfdeb"
   },
   "outputs": [],
   "source": [
    "features = df[['Type','Method','Regionname']]\n",
    "features.head()"
   ]
  },
  {
   "cell_type": "code",
   "execution_count": null,
   "metadata": {
    "id": "OPN-4h2zt3y6",
    "outputId": "d13704c1-4f0f-4275-ad27-90296a307358"
   },
   "outputs": [],
   "source": [
    "features.Type.value_counts()"
   ]
  },
  {
   "cell_type": "code",
   "execution_count": null,
   "metadata": {
    "id": "gtJc1nfluMcQ",
    "outputId": "aa7d29e5-9520-4729-8a38-b54dc56f0037"
   },
   "outputs": [],
   "source": [
    "features.Method.value_counts()"
   ]
  },
  {
   "cell_type": "code",
   "execution_count": null,
   "metadata": {
    "id": "4JhA2QFkulXX",
    "outputId": "35416fcb-e295-4618-db3d-9fa9ab8b8a98"
   },
   "outputs": [],
   "source": [
    "features.Regionname.value_counts()"
   ]
  },
  {
   "cell_type": "code",
   "execution_count": null,
   "metadata": {
    "id": "XzJZW4HsWBJi",
    "outputId": "c2639794-10cf-4a6c-fcad-07b87181d1b4"
   },
   "outputs": [],
   "source": [
    "mapping ={'h':1,\n",
    "           'u':2,\n",
    "           't':3\n",
    "          }\n",
    "features['type'] = features.Type.map(mapping) "
   ]
  },
  {
   "cell_type": "code",
   "execution_count": null,
   "metadata": {
    "id": "YNcVkF26Wmrw",
    "outputId": "0577a067-51e4-4de9-8474-dc8c639ef19e"
   },
   "outputs": [],
   "source": [
    "features.type.value_counts()"
   ]
  },
  {
   "cell_type": "markdown",
   "metadata": {},
   "source": [
    "## Label Encoder"
   ]
  },
  {
   "cell_type": "code",
   "execution_count": null,
   "metadata": {
    "id": "qwjympwuuocP",
    "outputId": "39054ec2-db2d-4ef7-d0b0-78faedb69c1d"
   },
   "outputs": [],
   "source": [
    "from sklearn.preprocessing import LabelEncoder\n",
    "le = LabelEncoder()\n",
    "df1 = features[['Regionname']]\n",
    "df1['Region'] = le.fit_transform(features['Regionname'].astype(str).tolist())"
   ]
  },
  {
   "cell_type": "code",
   "execution_count": null,
   "metadata": {
    "id": "VwaBFlLhALW7",
    "outputId": "346f2dca-d9a5-419e-f318-1daa7595a94b"
   },
   "outputs": [],
   "source": [
    "df1['Region'].value_counts()"
   ]
  },
  {
   "cell_type": "code",
   "execution_count": null,
   "metadata": {
    "id": "oTX1OPQM3N_j"
   },
   "outputs": [],
   "source": [
    "#one-hot-encoding\n",
    "df2 = pd.get_dummies(features['Method'])"
   ]
  },
  {
   "cell_type": "code",
   "execution_count": null,
   "metadata": {
    "id": "TAhx0y-3W-Kv",
    "outputId": "67d131b9-c7f3-423f-f115-c45ff63f55a2"
   },
   "outputs": [],
   "source": [
    "df2"
   ]
  },
  {
   "cell_type": "markdown",
   "metadata": {
    "id": "zIVq8jAzaiSA"
   },
   "source": [
    "## Ordinal Encoder"
   ]
  },
  {
   "cell_type": "code",
   "execution_count": null,
   "metadata": {
    "id": "_wELaqui6DJW",
    "outputId": "fd78c001-35c1-4752-ed27-85371b46e83e"
   },
   "outputs": [],
   "source": [
    "from sklearn.preprocessing import OrdinalEncoder\n",
    "oe = OrdinalEncoder()\n",
    "features['Type_ord'] = pd.DataFrame(oe.fit_transform(features[['Type']]))\n"
   ]
  },
  {
   "cell_type": "code",
   "execution_count": null,
   "metadata": {
    "id": "gNO88ikaLcyO",
    "outputId": "39b17a7a-361b-44b3-d511-164eb70860d7"
   },
   "outputs": [],
   "source": [
    "features.Type_ord.value_counts()"
   ]
  },
  {
   "cell_type": "code",
   "execution_count": null,
   "metadata": {
    "id": "0bcYovbwLPcH",
    "outputId": "b590b9fb-121b-4cf6-9e34-f922f562b4a9"
   },
   "outputs": [],
   "source": [
    "features.head()"
   ]
  },
  {
   "cell_type": "markdown",
   "metadata": {},
   "source": [
    "## Label Binarizer"
   ]
  },
  {
   "cell_type": "code",
   "execution_count": null,
   "metadata": {
    "id": "8BQoTwqIkLSA",
    "outputId": "78d091fc-1a07-4820-e949-755e058e8a51"
   },
   "outputs": [],
   "source": [
    "from sklearn.preprocessing import LabelBinarizer\n",
    "\n",
    "lb_style = LabelBinarizer()\n",
    "lb_results = lb_style.fit_transform(features[\"Type\"])"
   ]
  },
  {
   "cell_type": "code",
   "execution_count": null,
   "metadata": {},
   "outputs": [],
   "source": [
    "pd.DataFrame(lb_results, columns=lb_style.classes_).nunique()"
   ]
  },
  {
   "cell_type": "markdown",
   "metadata": {},
   "source": [
    "## Count Encoding"
   ]
  },
  {
   "cell_type": "code",
   "execution_count": null,
   "metadata": {
    "id": "W0yDHvaSkwkk",
    "outputId": "a3a7669f-8b40-4aa5-a68f-844920967300"
   },
   "outputs": [],
   "source": [
    "df_frequency_map = features.Type.value_counts().to_dict()\n",
    "features.Type = features.Type.map(df_frequency_map)"
   ]
  },
  {
   "cell_type": "code",
   "execution_count": null,
   "metadata": {},
   "outputs": [],
   "source": [
    "features.Type.iloc[20:23]"
   ]
  },
  {
   "cell_type": "code",
   "execution_count": null,
   "metadata": {
    "id": "lfGs2LADpOIi",
    "outputId": "c8be8738-a111-4b5a-8ce0-6b770d32bcee"
   },
   "outputs": [],
   "source": [
    "features.head()"
   ]
  }
 ],
 "metadata": {
  "kernelspec": {
   "display_name": "Python 3",
   "language": "python",
   "name": "python3"
  },
  "language_info": {
   "codemirror_mode": {
    "name": "ipython",
    "version": 3
   },
   "file_extension": ".py",
   "mimetype": "text/x-python",
   "name": "python",
   "nbconvert_exporter": "python",
   "pygments_lexer": "ipython3",
   "version": "3.7.4"
  }
 },
 "nbformat": 4,
 "nbformat_minor": 4
}
