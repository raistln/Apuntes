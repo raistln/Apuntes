{
 "cells": [
  {
   "cell_type": "markdown",
   "metadata": {
    "id": "-ekegbpzg2HA"
   },
   "source": [
    "# **Autoregressive conditional heteroskedasticity model (ARCH)**"
   ]
  },
  {
   "cell_type": "markdown",
   "metadata": {
    "id": "lg7sjHKjz8q9"
   },
   "source": [
    "## Importing Relevant Libraries"
   ]
  },
  {
   "cell_type": "code",
   "execution_count": null,
   "metadata": {},
   "outputs": [],
   "source": [
    "\n",
    "!python -m pip install pip --upgrade --user -q --no-warn-script-location\n",
    "!python -m pip install numpy pandas seaborn matplotlib scipy statsmodels sklearn tensorflow keras torch torchvision \\\n",
    "    tqdm scikit-image pmdarima arch --user -q --no-warn-script-location\n",
    "\n",
    "import IPython\n",
    "IPython.Application.instance().kernel.do_shutdown(True)\n"
   ]
  },
  {
   "cell_type": "code",
   "execution_count": null,
   "metadata": {
    "id": "HnJeXqeez8q_"
   },
   "outputs": [],
   "source": [
    "import pandas as pd\n",
    "import numpy as np\n",
    "import matplotlib.pyplot as plt\n",
    "import seaborn as sns\n",
    "from math import *\n",
    "sns.set()"
   ]
  },
  {
   "cell_type": "markdown",
   "metadata": {
    "id": "2jJVLkQjz8rF"
   },
   "source": [
    "## Loading the Data"
   ]
  },
  {
   "cell_type": "code",
   "execution_count": null,
   "metadata": {
    "id": "_vl5zqdIvVf_"
   },
   "outputs": [],
   "source": [
    "# !gdown https://drive.google.com/uc?id=1y6TP7bJqdrnWDi1gHqT2__yN1xLox6_K"
   ]
  },
  {
   "cell_type": "code",
   "execution_count": null,
   "metadata": {
    "id": "ct4Up2Azz8rH"
   },
   "outputs": [],
   "source": [
    "raw_csv_data = pd.read_csv('Index2018.csv')\n",
    "raw_csv_data"
   ]
  },
  {
   "cell_type": "code",
   "execution_count": null,
   "metadata": {
    "id": "MFgan3xCz8rJ"
   },
   "outputs": [],
   "source": [
    "df_comp = raw_csv_data.copy()"
   ]
  },
  {
   "cell_type": "markdown",
   "metadata": {
    "id": "jySNhYHuz8rM"
   },
   "source": [
    "## Preprocessing the Data"
   ]
  },
  {
   "cell_type": "code",
   "execution_count": null,
   "metadata": {
    "id": "d-6u4sbTz8rO"
   },
   "outputs": [],
   "source": [
    "df_comp.date = pd.to_datetime(df_comp.date, dayfirst= True)\n",
    "df_comp.set_index('date', inplace = True)\n",
    "df_comp = df_comp.drop(['spx', 'dax', 'nikkei'], axis = 1)\n",
    "df_comp"
   ]
  },
  {
   "cell_type": "code",
   "execution_count": null,
   "metadata": {
    "id": "c0QGrm3Rz8rR"
   },
   "outputs": [],
   "source": [
    "df_comp['market_value'] = df_comp.ftse\n",
    "del df_comp['ftse']"
   ]
  },
  {
   "cell_type": "code",
   "execution_count": null,
   "metadata": {
    "id": "DK8WxaPEz8rU"
   },
   "outputs": [],
   "source": [
    "df_comp = df_comp.asfreq('b')\n",
    "df_comp = df_comp.fillna(method = 'ffill')\n",
    "df_comp"
   ]
  },
  {
   "cell_type": "markdown",
   "metadata": {
    "id": "BJa5j_rPz8rX"
   },
   "source": [
    "## Splitting the Data"
   ]
  },
  {
   "cell_type": "code",
   "execution_count": null,
   "metadata": {
    "id": "MZ-QlFxkz8rZ"
   },
   "outputs": [],
   "source": [
    "size = int(len(df_comp)*0.8)\n",
    "df, df_test = df_comp.iloc[:size], df_comp.iloc[size:]"
   ]
  },
  {
   "cell_type": "code",
   "execution_count": null,
   "metadata": {
    "id": "KHCEGPthz8rb"
   },
   "outputs": [],
   "source": [
    "df.tail()"
   ]
  },
  {
   "cell_type": "code",
   "execution_count": null,
   "metadata": {
    "id": "Pz6Td9uQz8rd"
   },
   "outputs": [],
   "source": [
    "df_test.head()"
   ]
  },
  {
   "cell_type": "markdown",
   "metadata": {
    "id": "cSyN3nwTz8re"
   },
   "source": [
    "## LLR Test Function"
   ]
  },
  {
   "cell_type": "code",
   "execution_count": null,
   "metadata": {
    "id": "XOqlHbmfz8rf"
   },
   "outputs": [],
   "source": [
    "from scipy.stats.distributions import chi2"
   ]
  },
  {
   "cell_type": "code",
   "execution_count": null,
   "metadata": {
    "id": "cjabx1xrz8ri"
   },
   "outputs": [],
   "source": [
    "def LLR_test(mod_1, mod_2, DF=1):\n",
    "    L1 = mod_1.fit().llf\n",
    "    L2 = mod_2.fit().llf\n",
    "    LR = (2*(L2-L1))\n",
    "    p = chi2.sf(LR,DF).round(3)\n",
    "    return p"
   ]
  },
  {
   "cell_type": "markdown",
   "metadata": {
    "id": "Oepm3myrz8rk"
   },
   "source": [
    "## Augmented Dickey-Fuller Test"
   ]
  },
  {
   "cell_type": "code",
   "execution_count": null,
   "metadata": {
    "id": "-ANgHPEXz8rl"
   },
   "outputs": [],
   "source": [
    "import statsmodels.tsa.stattools as sts"
   ]
  },
  {
   "cell_type": "code",
   "execution_count": null,
   "metadata": {
    "id": "pWFOL2Ftz8rm"
   },
   "outputs": [],
   "source": [
    "sts.adfuller(df.market_value)"
   ]
  },
  {
   "cell_type": "markdown",
   "metadata": {
    "id": "3hV7XNUIz8rn"
   },
   "source": [
    "From the DF test we see that the market value prices for FTSE100 belong to a Non-Stationery Source, hence it is a better option to Extract the \"Returns\", check for stationarity and then work on them"
   ]
  },
  {
   "cell_type": "markdown",
   "metadata": {
    "id": "B51ckSXpz8ro"
   },
   "source": [
    "## Computing and Storing Returns"
   ]
  },
  {
   "cell_type": "markdown",
   "metadata": {
    "id": "VqrVVhh5YRK1"
   },
   "source": [
    "Percentage change between the current and a prior element.\n",
    "\n",
    "Computes the percentage change from the immediately previous row by default. This is useful in comparing the percentage of change in a time series of elements."
   ]
  },
  {
   "cell_type": "code",
   "execution_count": null,
   "metadata": {
    "id": "OINDkWTaz8ro"
   },
   "outputs": [],
   "source": [
    "df['returns'] = df.market_value.pct_change(1).mul(100)"
   ]
  },
  {
   "cell_type": "markdown",
   "metadata": {
    "id": "sGd-VOA2z8rp"
   },
   "source": [
    "## Computing and Storing Squared Returns"
   ]
  },
  {
   "cell_type": "code",
   "execution_count": null,
   "metadata": {
    "id": "-cWn2g_Bz8rq"
   },
   "outputs": [],
   "source": [
    "df['sq_returns'] = df.returns.mul(df.returns)"
   ]
  },
  {
   "cell_type": "markdown",
   "metadata": {
    "id": "PV2cV62qz8rr"
   },
   "source": [
    "## Returns v/s Squared returns"
   ]
  },
  {
   "cell_type": "code",
   "execution_count": null,
   "metadata": {
    "id": "xkKKd7lXz8rr"
   },
   "outputs": [],
   "source": [
    "df.returns.plot(figsize = (20,5))\n",
    "plt.title(\"Returns\", size = 24)\n",
    "plt.show()"
   ]
  },
  {
   "cell_type": "code",
   "execution_count": null,
   "metadata": {
    "id": "SQ2srnnoz8rs"
   },
   "outputs": [],
   "source": [
    "df.sq_returns.plot(figsize = (20,5))\n",
    "plt.title(\"Volatility\", size = 22)\n",
    "plt.show()"
   ]
  },
  {
   "cell_type": "markdown",
   "metadata": {
    "id": "uAI3oljxz8rs"
   },
   "source": [
    "## PACF"
   ]
  },
  {
   "cell_type": "code",
   "execution_count": null,
   "metadata": {
    "id": "HbQRhjk4z8rt"
   },
   "outputs": [],
   "source": [
    "import statsmodels.graphics.tsaplots as sgt"
   ]
  },
  {
   "cell_type": "code",
   "execution_count": null,
   "metadata": {
    "id": "XJ3m6Rdhz8rt"
   },
   "outputs": [],
   "source": [
    "sgt.plot_pacf(df.returns[1:], lags = 40, zero = False, method = ('ols'))\n",
    "plt.title('PACF Returns', size = 22)\n",
    "plt.show()"
   ]
  },
  {
   "cell_type": "markdown",
   "metadata": {
    "id": "XSeruRGxz8rv"
   },
   "source": [
    "From the PACF for Volatility we can see that the first 6 cofficients are significant with the first 5 yeilding between 0.15 and 0.25\n",
    "\n",
    "Such High significant values of partal autocorrelation among the first few lags suggests that there tend to be short term trends in variance\n",
    "Another way of looking at it would be clustering. This suggests that there are periods of High Variation followed by periods of High Variation; Similarly,  there are periods of Low Variation followed by periods ofd Low Variation"
   ]
  },
  {
   "cell_type": "code",
   "execution_count": null,
   "metadata": {
    "id": "LYHKb_P-z8ru"
   },
   "outputs": [],
   "source": [
    "sgt.plot_pacf(df.sq_returns[1:], lags = 40, zero = False, method = ('ols'))\n",
    "plt.title(\"PACF Volatility\", size = 22)\n",
    "plt.show()"
   ]
  },
  {
   "cell_type": "markdown",
   "metadata": {
    "id": "R_bW0PyRz8rx"
   },
   "source": [
    "## The arch_model() Method"
   ]
  },
  {
   "cell_type": "code",
   "execution_count": null,
   "metadata": {
    "id": "E8JBwnfEz8ry"
   },
   "outputs": [],
   "source": [
    "# !pip install arch -U"
   ]
  },
  {
   "cell_type": "code",
   "execution_count": null,
   "metadata": {
    "id": "Bct7rt5Uz8ry"
   },
   "outputs": [],
   "source": [
    "from arch import arch_model"
   ]
  },
  {
   "cell_type": "markdown",
   "metadata": {
    "id": "WYoLdo4yZA2N"
   },
   "source": [
    "This value just controls how frequently you get output. 5 indicates only report every 5th iteration. 1 would report each iteration. 0 turns reporting off."
   ]
  },
  {
   "cell_type": "code",
   "execution_count": null,
   "metadata": {
    "id": "2EYufbg1z8rz"
   },
   "outputs": [],
   "source": [
    "model_arch_1 = arch_model(df.returns[1:])\n",
    "results_arch_1 = model_arch_1.fit(update_freq = 5)\n",
    "results_arch_1.summary()"
   ]
  },
  {
   "cell_type": "markdown",
   "metadata": {
    "id": "wKYP9cr6z8r0"
   },
   "source": [
    "## The Simple ARCH(1) Model"
   ]
  },
  {
   "cell_type": "code",
   "execution_count": null,
   "metadata": {
    "id": "a8LU12Uez8r0"
   },
   "outputs": [],
   "source": [
    "model_arch_1 = arch_model(df.returns[1:], \n",
    "                          mean = \"Constant\",\n",
    "                          vol = \"ARCH\",\n",
    "                          p = 1)\n",
    "results_arch_1 = model_arch_1.fit(update_freq = 5)\n",
    "results_arch_1.summary()\n"
   ]
  },
  {
   "cell_type": "markdown",
   "metadata": {
    "id": "YTYC8Fgmz8r1"
   },
   "source": [
    "## Higher Lag ARCH Models"
   ]
  },
  {
   "cell_type": "markdown",
   "metadata": {
    "id": "VLNJ8Ybhz8r1"
   },
   "source": [
    "## ARCH(2)"
   ]
  },
  {
   "cell_type": "code",
   "execution_count": null,
   "metadata": {
    "id": "RwglDgmKz8r2"
   },
   "outputs": [],
   "source": [
    "model_arch_2 = arch_model(df.returns[1:], mean = \"Constant\", vol = \"ARCH\", p = 2)\n",
    "results_arch_2 = model_arch_2.fit(update_freq = 5)\n",
    "results_arch_2.summary()"
   ]
  },
  {
   "cell_type": "markdown",
   "metadata": {
    "id": "SMrZGkKIz8r2"
   },
   "source": [
    "## ARCH(3)"
   ]
  },
  {
   "cell_type": "code",
   "execution_count": null,
   "metadata": {
    "id": "R-dPq5Wzz8r3"
   },
   "outputs": [],
   "source": [
    "model_arch_3 = arch_model(df.returns[1:], mean = \"Constant\", vol = \"ARCH\", p = 3)\n",
    "results_arch_3 = model_arch_3.fit(update_freq = 5)\n",
    "results_arch_3.summary()"
   ]
  },
  {
   "cell_type": "markdown",
   "metadata": {
    "id": "w-J8bvKGg44u"
   },
   "source": [
    "# **Generalized autoregressive conditional heteroskedasticity model(GARCH)**"
   ]
  },
  {
   "cell_type": "code",
   "execution_count": null,
   "metadata": {
    "id": "9BZlGhFNz8r4"
   },
   "outputs": [],
   "source": [
    "from arch import arch_model"
   ]
  },
  {
   "cell_type": "markdown",
   "metadata": {
    "id": "oN2AVm8Mz8r5"
   },
   "source": [
    "## Simple GARCH(1,1) Model"
   ]
  },
  {
   "cell_type": "code",
   "execution_count": null,
   "metadata": {
    "colab": {
     "base_uri": "https://localhost:8080/",
     "height": 556
    },
    "executionInfo": {
     "elapsed": 20,
     "status": "ok",
     "timestamp": 1621668480597,
     "user": {
      "displayName": "Aishwarya Verma",
      "photoUrl": "https://lh3.googleusercontent.com/a-/AOh14GiG6BREocxcd5R6rzlQGApoCsYso7BQAh63eXNz6Q=s64",
      "userId": "06108390091304498033"
     },
     "user_tz": -330
    },
    "id": "61l6FPv9z8r6",
    "outputId": "3c770daa-4dea-4080-c1eb-54c437d61ed0"
   },
   "outputs": [
    {
     "name": "stdout",
     "output_type": "stream",
     "text": [
      "Iteration:      5,   Func. Count:     39,   Neg. LLF: 6972.734736835859\n",
      "Iteration:     10,   Func. Count:     73,   Neg. LLF: 6970.088042271316\n",
      "Optimization terminated successfully.    (Exit mode 0)\n",
      "            Current function value: 6970.058366189893\n",
      "            Iterations: 13\n",
      "            Function evaluations: 91\n",
      "            Gradient evaluations: 13\n"
     ]
    },
    {
     "data": {
      "text/html": [
       "<table class=\"simpletable\">\n",
       "<caption>Constant Mean - GARCH Model Results</caption>\n",
       "<tr>\n",
       "  <th>Dep. Variable:</th>       <td>returns</td>      <th>  R-squared:         </th>  <td>   0.000</td> \n",
       "</tr>\n",
       "<tr>\n",
       "  <th>Mean Model:</th>       <td>Constant Mean</td>   <th>  Adj. R-squared:    </th>  <td>   0.000</td> \n",
       "</tr>\n",
       "<tr>\n",
       "  <th>Vol Model:</th>            <td>GARCH</td>       <th>  Log-Likelihood:    </th> <td>  -6970.06</td>\n",
       "</tr>\n",
       "<tr>\n",
       "  <th>Distribution:</th>        <td>Normal</td>       <th>  AIC:               </th> <td>   13948.1</td>\n",
       "</tr>\n",
       "<tr>\n",
       "  <th>Method:</th>        <td>Maximum Likelihood</td> <th>  BIC:               </th> <td>   13974.2</td>\n",
       "</tr>\n",
       "<tr>\n",
       "  <th></th>                        <td></td>          <th>  No. Observations:  </th>    <td>5020</td>   \n",
       "</tr>\n",
       "<tr>\n",
       "  <th>Date:</th>           <td>Sat, May 22 2021</td>  <th>  Df Residuals:      </th>    <td>5019</td>   \n",
       "</tr>\n",
       "<tr>\n",
       "  <th>Time:</th>               <td>07:28:01</td>      <th>  Df Model:          </th>      <td>1</td>    \n",
       "</tr>\n",
       "</table>\n",
       "<table class=\"simpletable\">\n",
       "<caption>Mean Model</caption>\n",
       "<tr>\n",
       "   <td></td>     <th>coef</th>     <th>std err</th>      <th>t</th>       <th>P>|t|</th>     <th>95.0% Conf. Int.</th>   \n",
       "</tr>\n",
       "<tr>\n",
       "  <th>mu</th> <td>    0.0466</td> <td>1.183e-02</td> <td>    3.939</td> <td>8.187e-05</td> <td>[2.342e-02,6.981e-02]</td>\n",
       "</tr>\n",
       "</table>\n",
       "<table class=\"simpletable\">\n",
       "<caption>Volatility Model</caption>\n",
       "<tr>\n",
       "      <td></td>        <th>coef</th>     <th>std err</th>      <th>t</th>       <th>P>|t|</th>     <th>95.0% Conf. Int.</th>   \n",
       "</tr>\n",
       "<tr>\n",
       "  <th>omega</th>    <td>    0.0109</td> <td>3.004e-03</td> <td>    3.640</td> <td>2.724e-04</td> <td>[5.048e-03,1.682e-02]</td>\n",
       "</tr>\n",
       "<tr>\n",
       "  <th>alpha[1]</th> <td>    0.0835</td> <td>1.071e-02</td> <td>    7.794</td> <td>6.476e-15</td>  <td>[6.249e-02,  0.104]</td> \n",
       "</tr>\n",
       "<tr>\n",
       "  <th>beta[1]</th>  <td>    0.9089</td> <td>1.148e-02</td> <td>   79.168</td>   <td>0.000</td>     <td>[  0.886,  0.931]</td>  \n",
       "</tr>\n",
       "</table><br/><br/>Covariance estimator: robust"
      ],
      "text/plain": [
       "<class 'statsmodels.iolib.summary.Summary'>\n",
       "\"\"\"\n",
       "                     Constant Mean - GARCH Model Results                      \n",
       "==============================================================================\n",
       "Dep. Variable:                returns   R-squared:                       0.000\n",
       "Mean Model:             Constant Mean   Adj. R-squared:                  0.000\n",
       "Vol Model:                      GARCH   Log-Likelihood:               -6970.06\n",
       "Distribution:                  Normal   AIC:                           13948.1\n",
       "Method:            Maximum Likelihood   BIC:                           13974.2\n",
       "                                        No. Observations:                 5020\n",
       "Date:                Sat, May 22 2021   Df Residuals:                     5019\n",
       "Time:                        07:28:01   Df Model:                            1\n",
       "                                 Mean Model                                 \n",
       "============================================================================\n",
       "                 coef    std err          t      P>|t|      95.0% Conf. Int.\n",
       "----------------------------------------------------------------------------\n",
       "mu             0.0466  1.183e-02      3.939  8.187e-05 [2.342e-02,6.981e-02]\n",
       "                              Volatility Model                              \n",
       "============================================================================\n",
       "                 coef    std err          t      P>|t|      95.0% Conf. Int.\n",
       "----------------------------------------------------------------------------\n",
       "omega          0.0109  3.004e-03      3.640  2.724e-04 [5.048e-03,1.682e-02]\n",
       "alpha[1]       0.0835  1.071e-02      7.794  6.476e-15   [6.249e-02,  0.104]\n",
       "beta[1]        0.9089  1.148e-02     79.168      0.000     [  0.886,  0.931]\n",
       "============================================================================\n",
       "\n",
       "Covariance estimator: robust\n",
       "\"\"\""
      ]
     },
     "execution_count": 79,
     "metadata": {
      "tags": []
     },
     "output_type": "execute_result"
    }
   ],
   "source": [
    "model_garch_1_1 = arch_model(df.returns[1:], mean = \"Constant\", vol = \"GARCH\", p = 1, q = 1)\n",
    "results_garch_1_1 = model_garch_1_1.fit(update_freq = 5)\n",
    "results_garch_1_1.summary()"
   ]
  },
  {
   "cell_type": "markdown",
   "metadata": {
    "id": "AW8xZPOqz8r7"
   },
   "source": [
    "We do not need to fit higher order GARCH models as the GARCH(1,1) model has been mathematically proven to be the best fit for market returns. Higher order GARCH models in this case will result in Non-Significant Variables"
   ]
  },
  {
   "cell_type": "markdown",
   "metadata": {
    "id": "MqArsKEsd2S-"
   },
   "source": [
    "#**Related Articles:**\n",
    "\n",
    "> * [Date Time Parsing with Pandas](https://analyticsindiamag.com/datetime-parsing-with-pandas/)"
   ]
  }
 ],
 "metadata": {
  "colab": {
   "authorship_tag": "ABX9TyOA/mxfhcj3Iq99LPurM8rX",
   "collapsed_sections": [],
   "name": "4_ARCH_&_GARCH.ipynb",
   "provenance": []
  },
  "kernelspec": {
   "display_name": "Python 3",
   "name": "python3"
  },
  "language_info": {
   "name": "python"
  }
 },
 "nbformat": 4,
 "nbformat_minor": 2
}
