{
 "cells": [
  {
   "cell_type": "markdown",
   "metadata": {
    "id": "whQhezOOguYf"
   },
   "source": [
    "# **Seasonal Autoregressive Integrated Moving Average(SARIMA)**\n"
   ]
  },
  {
   "cell_type": "code",
   "execution_count": null,
   "metadata": {},
   "outputs": [],
   "source": [
    "\n",
    "!python -m pip install pip --upgrade --user -q --no-warn-script-location\n",
    "!python -m pip install numpy pandas seaborn matplotlib scipy statsmodels sklearn tensorflow keras torch torchvision \\\n",
    "    tqdm scikit-image pmdarima --user -q --no-warn-script-location\n",
    "\n",
    "import IPython\n",
    "IPython.Application.instance().kernel.do_shutdown(True)\n"
   ]
  },
  {
   "cell_type": "code",
   "execution_count": null,
   "metadata": {
    "ExecuteTime": {
     "end_time": "2020-06-10T15:52:26.446706Z",
     "start_time": "2020-06-10T15:52:23.722953Z"
    },
    "executionInfo": {
     "elapsed": 1835,
     "status": "ok",
     "timestamp": 1623307737103,
     "user": {
      "displayName": "Aishwarya Verma",
      "photoUrl": "https://lh3.googleusercontent.com/a-/AOh14GiG6BREocxcd5R6rzlQGApoCsYso7BQAh63eXNz6Q=s64",
      "userId": "06108390091304498033"
     },
     "user_tz": -330
    },
    "id": "8u4g7mQct5fV"
   },
   "outputs": [],
   "source": [
    "import warnings\n",
    "\n",
    "import matplotlib.pyplot as plt\n",
    "import numpy as np\n",
    "import pandas as pd\n",
    "import statsmodels.api as sm\n",
    "from pmdarima import auto_arima\n",
    "from sklearn import metrics\n",
    "from statsmodels.tsa.seasonal import seasonal_decompose\n",
    "from statsmodels.tsa.stattools import adfuller\n",
    "\n",
    "warnings.filterwarnings(\"ignore\")"
   ]
  },
  {
   "cell_type": "code",
   "execution_count": null,
   "metadata": {
    "colab": {
     "base_uri": "https://localhost:8080/"
    },
    "executionInfo": {
     "elapsed": 1382,
     "status": "ok",
     "timestamp": 1623308423577,
     "user": {
      "displayName": "Aishwarya Verma",
      "photoUrl": "https://lh3.googleusercontent.com/a-/AOh14GiG6BREocxcd5R6rzlQGApoCsYso7BQAh63eXNz6Q=s64",
      "userId": "06108390091304498033"
     },
     "user_tz": -330
    },
    "id": "d_7yV3I8uAVS",
    "outputId": "43d65f86-14a5-4a05-ecb6-d6d5d3213c7c"
   },
   "outputs": [],
   "source": [
    "# !gdown https://drive.google.com/uc?id=1E2QGmA4o4qTl59BNUjuzOJodR4nb_Gxb"
   ]
  },
  {
   "cell_type": "code",
   "execution_count": null,
   "metadata": {
    "ExecuteTime": {
     "end_time": "2020-06-10T15:52:34.944018Z",
     "start_time": "2020-06-10T15:52:34.919060Z"
    },
    "executionInfo": {
     "elapsed": 1253,
     "status": "ok",
     "timestamp": 1623308427773,
     "user": {
      "displayName": "Aishwarya Verma",
      "photoUrl": "https://lh3.googleusercontent.com/a-/AOh14GiG6BREocxcd5R6rzlQGApoCsYso7BQAh63eXNz6Q=s64",
      "userId": "06108390091304498033"
     },
     "user_tz": -330
    },
    "id": "nalg4URat5ff"
   },
   "outputs": [],
   "source": [
    "df = pd.read_csv(r'FB.csv')"
   ]
  },
  {
   "cell_type": "code",
   "execution_count": null,
   "metadata": {
    "ExecuteTime": {
     "end_time": "2020-06-10T15:52:37.510137Z",
     "start_time": "2020-06-10T15:52:37.488190Z"
    },
    "colab": {
     "base_uri": "https://localhost:8080/",
     "height": 363
    },
    "executionInfo": {
     "elapsed": 2687,
     "status": "ok",
     "timestamp": 1623308433272,
     "user": {
      "displayName": "Aishwarya Verma",
      "photoUrl": "https://lh3.googleusercontent.com/a-/AOh14GiG6BREocxcd5R6rzlQGApoCsYso7BQAh63eXNz6Q=s64",
      "userId": "06108390091304498033"
     },
     "user_tz": -330
    },
    "id": "sG8PZvvYt5fi",
    "outputId": "e07e8fd4-20dc-4601-c237-ccb89dcd2d52",
    "scrolled": true
   },
   "outputs": [],
   "source": [
    "df.head(10)"
   ]
  },
  {
   "cell_type": "code",
   "execution_count": null,
   "metadata": {
    "ExecuteTime": {
     "end_time": "2020-06-10T15:52:40.216894Z",
     "start_time": "2020-06-10T15:52:40.207918Z"
    },
    "executionInfo": {
     "elapsed": 45,
     "status": "ok",
     "timestamp": 1623308433276,
     "user": {
      "displayName": "Aishwarya Verma",
      "photoUrl": "https://lh3.googleusercontent.com/a-/AOh14GiG6BREocxcd5R6rzlQGApoCsYso7BQAh63eXNz6Q=s64",
      "userId": "06108390091304498033"
     },
     "user_tz": -330
    },
    "id": "6jqjz4ykt5fl"
   },
   "outputs": [],
   "source": [
    "def timeseries_evaluation_metrics_func(y_true, y_pred):\n",
    "    \n",
    "    def mean_absolute_percentage_error(y_true, y_pred): \n",
    "        y_true, y_pred = np.array(y_true), np.array(y_pred)\n",
    "        return np.mean(np.abs((y_true - y_pred) / y_true)) * 100\n",
    "    print('Evaluation metric results:-')\n",
    "    print(f'MSE is : {metrics.mean_squared_error(y_true, y_pred)}')\n",
    "    print(f'MSE is : {metrics.mean_absolute_error(y_true, y_pred)}')\n",
    "    print(f'RMSE is : {np.sqrt(metrics.mean_squared_error(y_true, y_pred))}')\n",
    "    print(f'MAPE is : {mean_absolute_percentage_error(y_true, y_pred)}')\n",
    "    print(f'R2 is : {metrics.r2_score(y_true, y_pred)}',end='\\n\\n')"
   ]
  },
  {
   "cell_type": "code",
   "execution_count": null,
   "metadata": {
    "ExecuteTime": {
     "end_time": "2020-06-10T15:52:41.384810Z",
     "start_time": "2020-06-10T15:52:41.375794Z"
    },
    "executionInfo": {
     "elapsed": 42,
     "status": "ok",
     "timestamp": 1623308433280,
     "user": {
      "displayName": "Aishwarya Verma",
      "photoUrl": "https://lh3.googleusercontent.com/a-/AOh14GiG6BREocxcd5R6rzlQGApoCsYso7BQAh63eXNz6Q=s64",
      "userId": "06108390091304498033"
     },
     "user_tz": -330
    },
    "id": "FscTOEkYt5fn"
   },
   "outputs": [],
   "source": [
    "def Augmented_Dickey_Fuller_Test_func(series , column_name):\n",
    "    print (f'Results of Dickey-Fuller Test for column: {column_name}')\n",
    "    dftest = adfuller(series, autolag='AIC')\n",
    "    dfoutput = pd.Series(dftest[0:4], index=['Test Statistic','p-value','No Lags Used','Number of Observations Used'])\n",
    "    for key,value in dftest[4].items():\n",
    "       dfoutput['Critical Value (%s)'%key] = value\n",
    "    print (dfoutput)\n",
    "    if dftest[1] <= 0.05:\n",
    "        print(\"Conclusion:====>\")\n",
    "        print(\"Reject the null hypothesis\")\n",
    "        print(\"Data is stationary\")\n",
    "    else:\n",
    "        print(\"Conclusion:====>\")\n",
    "        print(\"Fail to reject the null hypothesis\")\n",
    "        print(\"Data is non-stationary\")\n",
    "        "
   ]
  },
  {
   "cell_type": "code",
   "execution_count": null,
   "metadata": {
    "ExecuteTime": {
     "end_time": "2020-06-10T15:52:45.441957Z",
     "start_time": "2020-06-10T15:52:45.383107Z"
    },
    "colab": {
     "base_uri": "https://localhost:8080/"
    },
    "executionInfo": {
     "elapsed": 40,
     "status": "ok",
     "timestamp": 1623308433283,
     "user": {
      "displayName": "Aishwarya Verma",
      "photoUrl": "https://lh3.googleusercontent.com/a-/AOh14GiG6BREocxcd5R6rzlQGApoCsYso7BQAh63eXNz6Q=s64",
      "userId": "06108390091304498033"
     },
     "user_tz": -330
    },
    "id": "nKWm1mGtt5fp",
    "outputId": "cc8a818c-1cb9-4d5c-bf96-d6a12829e698"
   },
   "outputs": [],
   "source": [
    "Augmented_Dickey_Fuller_Test_func(df['Close' ],'Close')"
   ]
  },
  {
   "cell_type": "code",
   "execution_count": null,
   "metadata": {
    "ExecuteTime": {
     "end_time": "2020-06-10T15:52:47.877443Z",
     "start_time": "2020-06-10T15:52:47.871428Z"
    },
    "executionInfo": {
     "elapsed": 37,
     "status": "ok",
     "timestamp": 1623308433286,
     "user": {
      "displayName": "Aishwarya Verma",
      "photoUrl": "https://lh3.googleusercontent.com/a-/AOh14GiG6BREocxcd5R6rzlQGApoCsYso7BQAh63eXNz6Q=s64",
      "userId": "06108390091304498033"
     },
     "user_tz": -330
    },
    "id": "5rbW00Flt5fs"
   },
   "outputs": [],
   "source": [
    "X = df[['Close' ]]\n",
    "train, test = X[0:-30], X[-30:]"
   ]
  },
  {
   "cell_type": "markdown",
   "metadata": {
    "id": "D5RLW9oMMVzP"
   },
   "source": [
    "The m parameter relates to the number of observations per seasonal cycle, and is one that must be known apriori. Typically, m will correspond to some recurrent periodicity such as:\n",
    "\n",
    "> *     7 - daily\n",
    "> *    12 - monthly\n",
    "> *    52 - weekly\n"
   ]
  },
  {
   "cell_type": "code",
   "execution_count": null,
   "metadata": {
    "ExecuteTime": {
     "end_time": "2020-06-10T16:06:20.945835Z",
     "start_time": "2020-06-10T15:52:51.708198Z"
    },
    "colab": {
     "base_uri": "https://localhost:8080/",
     "height": 1000
    },
    "executionInfo": {
     "elapsed": 274902,
     "status": "ok",
     "timestamp": 1623308708155,
     "user": {
      "displayName": "Aishwarya Verma",
      "photoUrl": "https://lh3.googleusercontent.com/a-/AOh14GiG6BREocxcd5R6rzlQGApoCsYso7BQAh63eXNz6Q=s64",
      "userId": "06108390091304498033"
     },
     "user_tz": -330
    },
    "id": "XJKg-N__t5fv",
    "outputId": "22511b58-d953-4785-f94e-5f1d5cf00920",
    "scrolled": false
   },
   "outputs": [],
   "source": [
    "for m in  [1, 4,7,12,52]:\n",
    "    print(\"=\"*100)\n",
    "    print(f' Fitting SARIMA for Seasonal value m = {str(m)}')\n",
    "    stepwise_model = auto_arima(train, start_p=1, start_q=1,\n",
    "                                max_p=7, max_q=7, seasonal=True, start_P=1, start_Q=1, max_P=7, max_D=7, max_Q=7, m=m,\n",
    "                                d=None, D=None, trace=True, error_action='ignore', suppress_warnings=True, stepwise=True)\n",
    "\n",
    "    print(f'Model summary for  m = {str(m)}')\n",
    "    print(\"-\"*100)\n",
    "    stepwise_model.summary()\n",
    "\n",
    "    forecast ,conf_int= stepwise_model.predict(n_periods=30,return_conf_int=True)\n",
    "    df_conf = pd.DataFrame(conf_int,columns= ['Upper_bound','Lower_bound'])\n",
    "    df_conf[\"new_index\"] = range(1229, 1259)\n",
    "    df_conf = df_conf.set_index(\"new_index\")\n",
    "    forecast = pd.DataFrame(forecast, columns=['close_pred'])\n",
    "    forecast[\"new_index\"] = range(1229, 1259)\n",
    "    forecast = forecast.set_index(\"new_index\")\n",
    "\n",
    "    timeseries_evaluation_metrics_func(test, forecast)\n",
    "\n",
    "    import matplotlib.pyplot as plt\n",
    "    %matplotlib inline\n",
    "    plt.rcParams[\"figure.figsize\"] = [15, 7]\n",
    "    plt.plot(train, label='Train ')\n",
    "    plt.plot(test, label='Test ')\n",
    "    plt.plot(forecast, label=f'Predicted with m={str(m)} ')\n",
    "    plt.plot(df_conf['Upper_bound'], label='Confidence Interval Upper bound ')\n",
    "    plt.plot(df_conf['Lower_bound'], label='Confidence Interval Lower bound ')\n",
    "    plt.legend(loc='best')\n",
    "    plt.show()\n",
    "    print(\"-\"*100)\n",
    "    print(f' Diagnostic plot for Seasonal value m = {str(m)}')\n",
    "    \n",
    "    display(stepwise_model.plot_diagnostics());\n",
    "    \n",
    "    print(\"-\"*100)"
   ]
  },
  {
   "cell_type": "markdown",
   "metadata": {
    "id": "MqArsKEsd2S-"
   },
   "source": [
    "#**Related Articles:**\n",
    "\n",
    "> * [Date Time Parsing with Pandas](https://analyticsindiamag.com/datetime-parsing-with-pandas/)"
   ]
  }
 ],
 "metadata": {
  "colab": {
   "authorship_tag": "ABX9TyM09K1qtDslhR7qyxBDIQ/S",
   "name": "2_SARIMA.ipynb",
   "provenance": []
  },
  "kernelspec": {
   "display_name": "Python 3",
   "name": "python3"
  },
  "language_info": {
   "name": "python"
  }
 },
 "nbformat": 4,
 "nbformat_minor": 2
}
