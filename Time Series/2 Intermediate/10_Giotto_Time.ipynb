{
 "cells": [
  {
   "cell_type": "markdown",
   "metadata": {
    "id": "a0ScS5LLLc9D"
   },
   "source": [
    "# **Giotto-Time: A Time-Series Forecasting Python Library**"
   ]
  },
  {
   "cell_type": "markdown",
   "metadata": {
    "id": "pvfDCuBbLfr4"
   },
   "source": [
    "Giotto-Time is an open-source Python library to perform time-series forecasting in machine learning. It is built on top of SciKit-Learn with a few modifications and wrappings to do end-to-end time-series analysis in a single go. Giotto-Time gives importance to every task associated with the time-series analysis. With Giotto-Time library, Giotto spans its list of powerful open source tools to perform various machine learning tasks."
   ]
  },
  {
   "cell_type": "markdown",
   "metadata": {
    "id": "gSU9RwMaLkJi"
   },
   "source": [
    "# **Code Implementation**"
   ]
  },
  {
   "cell_type": "markdown",
   "metadata": {
    "id": "Ymc3ma3zLmZ-"
   },
   "source": [
    "We explore the Giotto-Time library in the sequel with some examples and hands-on codes. Giotto-Time is available as a PyPi package. We can simply pip install it."
   ]
  },
  {
   "cell_type": "code",
   "execution_count": 1,
   "metadata": {},
   "outputs": [],
   "source": [
    "\n",
    "!python -m pip install pip --upgrade --user -q --no-warn-script-location\n",
    "!python -m pip install numpy pandas seaborn matplotlib scipy statsmodels sklearn tensorflow keras torch torchvision \\\n",
    "    tqdm scikit-image pmdarima giotto-time --user -q --no-warn-script-location\n",
    "\n",
    "import IPython\n",
    "IPython.Application.instance().kernel.do_shutdown(True)\n"
   ]
  },
  {
   "cell_type": "markdown",
   "metadata": {
    "id": "URBAg1C1LrFT"
   },
   "source": [
    "Import the necessary libraries and modules. "
   ]
  },
  {
   "cell_type": "code",
   "execution_count": null,
   "metadata": {
    "id": "WSdIsfNgLsyI"
   },
   "outputs": [],
   "source": [
    "import pandas as pd\n",
    "import numpy as np\n",
    "import matplotlib.pyplot as plt\n",
    "from sklearn.linear_model import LinearRegression\n",
    "from gtime.preprocessing import TimeSeriesPreparation\n",
    "from gtime.compose import FeatureCreation\n",
    "from gtime.feature_extraction import Shift, MovingAverage\n",
    "from gtime.feature_generation import PeriodicSeasonal, Constant, Calendar\n",
    "from gtime.model_selection import horizon_shift, FeatureSplitter\n",
    "from gtime.forecasting import GAR "
   ]
  },
  {
   "cell_type": "markdown",
   "metadata": {
    "id": "V1DqmYheLurB"
   },
   "source": [
    "Define a function to generate some synthetic time-series data using Pandas’ testing module."
   ]
  },
  {
   "cell_type": "code",
   "execution_count": null,
   "metadata": {
    "id": "40aPsOjVL1iC"
   },
   "outputs": [],
   "source": [
    "def test_time_series():\n",
    "  from pandas.util import testing as testing\n",
    "  testing.N, testing.K = 500, 1\n",
    "  df = testing.makeTimeDataFrame( freq=\"D\" )\n",
    "  return df "
   ]
  },
  {
   "cell_type": "markdown",
   "metadata": {
    "id": "ynyZZ_bfL3Ui"
   },
   "source": [
    "Generate synthetic time-series data."
   ]
  },
  {
   "cell_type": "code",
   "execution_count": null,
   "metadata": {
    "id": "-K_HHJZ9L5df"
   },
   "outputs": [],
   "source": [
    "time_series = test_time_series()\n",
    "print(f'Time series shape: {time_series.shape}')\n",
    "print(f'Time series index type: {time_series.index.__class__}') "
   ]
  },
  {
   "cell_type": "markdown",
   "metadata": {
    "id": "ht7jjurLL8Ky"
   },
   "source": [
    "The time-series data should be in `PeriodIndex` format to proceed further. The Giotto-Time library offers a time-series preprocessing module using which we can transform the data from `DatetimeIndex` to `PeriodIndex`."
   ]
  },
  {
   "cell_type": "code",
   "execution_count": null,
   "metadata": {
    "id": "7G79xUhJMBRC"
   },
   "outputs": [],
   "source": [
    "time_series_preparation = TimeSeriesPreparation()\n",
    "period_index_time_series = time_series_preparation.transform(time_series)\n",
    "print(f'Time series index type after the preprocessing: \\n{period_index_time_series.index.__class__}') "
   ]
  },
  {
   "cell_type": "markdown",
   "metadata": {
    "id": "k9kIsgWHMAVK"
   },
   "source": [
    "Let’s visualize the time-series data."
   ]
  },
  {
   "cell_type": "code",
   "execution_count": null,
   "metadata": {
    "id": "O1uhTvOAMHHF"
   },
   "outputs": [],
   "source": [
    "period_index_time_series.plot(figsize=(10, 5))\n",
    "plt.show() "
   ]
  },
  {
   "cell_type": "markdown",
   "metadata": {
    "id": "MvagS7lxMGzR"
   },
   "source": [
    "Extract features and generate new features using the `FeatureCreation` API of Giotto-Time. Here, moving average of time period is determined and appended as a feature. In addition, a temporal shift is performed to generate two new features."
   ]
  },
  {
   "cell_type": "code",
   "execution_count": null,
   "metadata": {
    "id": "SjBJDTZQMMVK"
   },
   "outputs": [],
   "source": [
    "# Feature generation pipeline\n",
    "dft = FeatureCreation(\n",
    "    [('s0', Shift(0), ['time_series']), \n",
    "    ('s1', Shift(1), ['time_series']),\n",
    "    ('ma3', MovingAverage(window_size=3), ['time_series']),\n",
    "    ]) "
   ]
  },
  {
   "cell_type": "markdown",
   "metadata": {
    "id": "wh5CfFFfMOPa"
   },
   "source": [
    "Fit the time-series data into the feature generation pipeline."
   ]
  },
  {
   "cell_type": "code",
   "execution_count": null,
   "metadata": {
    "id": "5yoTcd6ZMP_E"
   },
   "outputs": [],
   "source": [
    "X = dft.fit_transform(period_index_time_series)\n",
    "X.head(6) "
   ]
  },
  {
   "cell_type": "markdown",
   "metadata": {
    "id": "j731Wq9CMP0Y"
   },
   "source": [
    "Generate the ground truth (output variable) using `horizon_shift` method. "
   ]
  },
  {
   "cell_type": "code",
   "execution_count": null,
   "metadata": {
    "id": "RdXIIY68MUrz"
   },
   "outputs": [],
   "source": [
    "y = horizon_shift(period_index_time_series, horizon=3)\n",
    "y.head() "
   ]
  },
  {
   "cell_type": "markdown",
   "metadata": {
    "id": "mHlZPFIPMXWV"
   },
   "source": [
    "Next, split the data into train and test sets using the FeatureSplitter method. Sample some data from each split part.\n",
    "\n"
   ]
  },
  {
   "cell_type": "code",
   "execution_count": null,
   "metadata": {
    "id": "E8uVLE0cMYq_"
   },
   "outputs": [],
   "source": [
    "feature_splitter = FeatureSplitter()\n",
    "X_train, y_train, X_test, y_test = feature_splitter.transform(X, y)\n",
    "X_train.tail() "
   ]
  },
  {
   "cell_type": "code",
   "execution_count": null,
   "metadata": {
    "id": "Z7QYeesFMazE"
   },
   "outputs": [],
   "source": [
    "X_test"
   ]
  },
  {
   "cell_type": "code",
   "execution_count": null,
   "metadata": {
    "id": "iLZvgN26McGl"
   },
   "outputs": [],
   "source": [
    "y_train.tail()"
   ]
  },
  {
   "cell_type": "code",
   "execution_count": null,
   "metadata": {
    "id": "h5GCmdc3MdcT"
   },
   "outputs": [],
   "source": [
    "y_test"
   ]
  },
  {
   "cell_type": "markdown",
   "metadata": {
    "id": "zo8eKyJwMiPJ"
   },
   "source": [
    "Develop a simple linear regression model from the SciKit-Learn library. Build a Generalized Auto-Regressive (GAR) model on top of the linear regression model to perform a simple time-series forecasting, and train the model with the training dataset."
   ]
  },
  {
   "cell_type": "code",
   "execution_count": null,
   "metadata": {
    "id": "PRIaKT8EMhnM"
   },
   "outputs": [],
   "source": [
    "lr = LinearRegression()\n",
    "model = GAR(lr)\n",
    "model = model.fit(X_train, y_train)"
   ]
  },
  {
   "cell_type": "markdown",
   "metadata": {
    "id": "7OIpLHopMlWo"
   },
   "source": [
    "Once the model is trained, infer the future by predicting it."
   ]
  },
  {
   "cell_type": "code",
   "execution_count": null,
   "metadata": {
    "id": "QVclhO6cMo_B"
   },
   "outputs": [],
   "source": [
    "predictions = model.predict(X_test)\n",
    "predictions"
   ]
  },
  {
   "cell_type": "markdown",
   "metadata": {
    "id": "MqArsKEsd2S-"
   },
   "source": [
    "#**Related Articles:**\n",
    "\n",
    "> * [Giotta Time](https://analyticsindiamag.com/guide-to-giotto-time-a-time-series-forecasting-python-library/)\n",
    "\n",
    "> * [Facebook Prophet](https://analyticsindiamag.com/comprehensive-guide-to-facebooks-prophet-with-python-code/)\n",
    "\n",
    "> * [LSTM RNN for Stock Price Prediction](https://analyticsindiamag.com/hands-on-guide-to-lstm-recurrent-neural-network-for-stock-market-prediction/)\n",
    "\n",
    "> * [Date Time Parsing with Pandas](https://analyticsindiamag.com/datetime-parsing-with-pandas/)\n",
    "\n",
    "> * [Comparing ARIMA and LSTM RNN in Time Series](https://analyticsindiamag.com/comparing-arima-model-and-lstm-rnn-model-in-time-series-forecasting/)"
   ]
  }
 ],
 "metadata": {
  "colab": {
   "authorship_tag": "ABX9TyP3xtPwA69ReKRxgyOWN62I",
   "collapsed_sections": [],
   "name": "10_Giotto_Time.ipynb",
   "provenance": []
  },
  "interpreter": {
   "hash": "f60a20abaabf5a658075b37fac599269792a9493ddacd7c14d8505185d5625aa"
  },
  "kernelspec": {
   "display_name": "Python 3.8.8 64-bit ('base': conda)",
   "name": "python3"
  },
  "language_info": {
   "codemirror_mode": {
    "name": "ipython",
    "version": 3
   },
   "file_extension": ".py",
   "mimetype": "text/x-python",
   "name": "python",
   "nbconvert_exporter": "python",
   "pygments_lexer": "ipython3",
   "version": "3.8.8"
  }
 },
 "nbformat": 4,
 "nbformat_minor": 2
}
