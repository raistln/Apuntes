{
 "cells": [
  {
   "cell_type": "markdown",
   "metadata": {
    "id": "cQk_KANFY_xw",
    "papermill": {
     "duration": 0.020105,
     "end_time": "2020-12-12T17:44:21.497963",
     "exception": false,
     "start_time": "2020-12-12T17:44:21.477858",
     "status": "completed"
    },
    "tags": []
   },
   "source": [
    "# Stock Market Forecasting using Facebook’s NeuralProphet\n"
   ]
  },
  {
   "cell_type": "markdown",
   "metadata": {
    "id": "8PEUkpFaY_x5",
    "papermill": {
     "duration": 0.01784,
     "end_time": "2020-12-12T17:44:21.534994",
     "exception": false,
     "start_time": "2020-12-12T17:44:21.517154",
     "status": "completed"
    },
    "tags": []
   },
   "source": [
    "![stocks](http://secureservercdn.net/192.169.221.188/wvn.6db.myftpupload.com/wp-content/uploads/2020/06/Nifty-50-Stocks-List-weightage-wise-httpfintechadvise.com_.jpeg)"
   ]
  },
  {
   "cell_type": "markdown",
   "metadata": {
    "id": "zXq9ZfkNY_x7",
    "papermill": {
     "duration": 0.016449,
     "end_time": "2020-12-12T17:44:21.568384",
     "exception": false,
     "start_time": "2020-12-12T17:44:21.551935",
     "status": "completed"
    },
    "tags": []
   },
   "source": [
    "# Time Series over Stocks\n",
    "\n",
    "Predicting stock prices can be difficult as it involves various factors. Both the government and companies keep changing their policies and strategies which affect stocks massively to either rise or fall anytime. The stock market is the most unpredictable area as these factors are unforeseen and subject to change in future. Thus it is difficult to make models that can accurately predict stock prices. Although it is possible to predict the trends, seasonality and other parameters based on the previous historical data. With the advent of deep learning state of art models, many systems are adapting it.\n"
   ]
  },
  {
   "cell_type": "markdown",
   "metadata": {
    "id": "MJioGqlDY_x8",
    "papermill": {
     "duration": 0.017515,
     "end_time": "2020-12-12T17:44:21.603119",
     "exception": false,
     "start_time": "2020-12-12T17:44:21.585604",
     "status": "completed"
    },
    "tags": []
   },
   "source": [
    "# NeuralProphet\n",
    "\n",
    "Last week Facebook released its new open source time series modelling Python library [NeuralProphet](http://ourownstory.github.io/neural_prophet/), a PyTorch based neural network forecasting tool. Neural Prophet is an up-gradation to Facebook's previously launched Prophet library. It is also based on AR-Net. The NeuralProphet framework addresses some key points - customization, scalability and extensibility. It is built on top of statistical and neural network models for time series modelling, used in any kind of forecasting and anomaly detection. NeuralProphet was created in collaboration with researchers at Monash and Stanford University. It's easy-to-use and enables researchers and engineers to build better time-based data models. \n",
    "NeuralProphet consists of components like trends, multiple seasonality modelled using Fourier terms, auto-regression implemented using Auto-Regressive Feed-Forward Neural Network, special events, future regressors and lagged regressors. \n"
   ]
  },
  {
   "cell_type": "markdown",
   "metadata": {
    "id": "vfpoqnjuY_x-",
    "papermill": {
     "duration": 0.016461,
     "end_time": "2020-12-12T17:44:21.636251",
     "exception": false,
     "start_time": "2020-12-12T17:44:21.619790",
     "status": "completed"
    },
    "tags": []
   },
   "source": [
    "# Stock Price Forecasting Using NeuralProphet\n",
    "### Installation: \n",
    "The [GitHub](http://github.com/ourownstory/neural_prophet) repository can be cloned and used otherwise using pip.\n",
    "\n",
    "pip install neuralprophet \n",
    "\n",
    "or \n",
    "\n",
    "pip install neutralprophet[live] - This enables plot_live_live parameter in the train function to get live training and validation plots.\n"
   ]
  },
  {
   "cell_type": "code",
   "execution_count": null,
   "metadata": {},
   "outputs": [],
   "source": [
    "\n",
    "!python -m pip install pip --upgrade --user -q --no-warn-script-location\n",
    "!python -m pip install numpy pandas seaborn matplotlib scipy statsmodels sklearn tensorflow keras torch torchvision \\\n",
    "    tqdm scikit-image pmdarima arch neuralprophet[live] --user -q --no-warn-script-location\n",
    "\n",
    "import IPython\n",
    "IPython.Application.instance().kernel.do_shutdown(True)\n"
   ]
  },
  {
   "cell_type": "code",
   "execution_count": null,
   "metadata": {
    "_cell_guid": "b1076dfc-b9ad-4769-8c92-a6c4dae69d19",
    "_uuid": "8f2839f25d086af736a60e9eeb907d3b93b6e0e5",
    "execution": {
     "iopub.execute_input": "2020-12-12T17:46:20.341260Z",
     "iopub.status.busy": "2020-12-12T17:46:20.340206Z",
     "iopub.status.idle": "2020-12-12T17:46:22.117893Z",
     "shell.execute_reply": "2020-12-12T17:46:22.117182Z"
    },
    "id": "DbFzsbXNY_yE",
    "papermill": {
     "duration": 2.421424,
     "end_time": "2020-12-12T17:46:22.118038",
     "exception": false,
     "start_time": "2020-12-12T17:46:19.696614",
     "status": "completed"
    },
    "tags": []
   },
   "outputs": [],
   "source": [
    "import pandas as pd\n",
    "import matplotlib.pyplot as plt\n",
    "%matplotlib inline\n",
    "import seaborn as sns\n",
    "from neuralprophet import NeuralProphet"
   ]
  },
  {
   "cell_type": "markdown",
   "metadata": {
    "id": "R4f2JJTOY_yE",
    "papermill": {
     "duration": 0.60234,
     "end_time": "2020-12-12T17:46:23.336357",
     "exception": false,
     "start_time": "2020-12-12T17:46:22.734017",
     "status": "completed"
    },
    "tags": []
   },
   "source": [
    "# reading dataset\n",
    "For demonstration purposes, I've shown the forecasting on Coal India stocks. Similarly, it can be done on other stocks as well."
   ]
  },
  {
   "cell_type": "code",
   "execution_count": null,
   "metadata": {
    "execution": {
     "iopub.execute_input": "2020-12-12T17:46:24.574614Z",
     "iopub.status.busy": "2020-12-12T17:46:24.573621Z",
     "iopub.status.idle": "2020-12-12T17:46:24.654924Z",
     "shell.execute_reply": "2020-12-12T17:46:24.653782Z"
    },
    "id": "mDfgYv9cY_yF",
    "papermill": {
     "duration": 0.723716,
     "end_time": "2020-12-12T17:46:24.655135",
     "exception": false,
     "start_time": "2020-12-12T17:46:23.931419",
     "status": "completed"
    },
    "tags": []
   },
   "outputs": [],
   "source": [
    "df = pd.read_csv(\"https://raw.githubusercontent.com/Pranavd0828/NIFTY50-StockMarket/main/Dataset/COALINDIA.csv\", parse_dates=[\"Date\"])\n",
    "df.head()"
   ]
  },
  {
   "cell_type": "code",
   "execution_count": null,
   "metadata": {
    "execution": {
     "iopub.execute_input": "2020-12-12T17:46:25.938447Z",
     "iopub.status.busy": "2020-12-12T17:46:25.937569Z",
     "iopub.status.idle": "2020-12-12T17:46:25.942766Z",
     "shell.execute_reply": "2020-12-12T17:46:25.942038Z"
    },
    "id": "hG6YH5UfY_yH",
    "papermill": {
     "duration": 0.673336,
     "end_time": "2020-12-12T17:46:25.942885",
     "exception": false,
     "start_time": "2020-12-12T17:46:25.269549",
     "status": "completed"
    },
    "tags": []
   },
   "outputs": [],
   "source": [
    "df.tail()"
   ]
  },
  {
   "cell_type": "markdown",
   "metadata": {
    "id": "SEI7i3ocY_yJ",
    "papermill": {
     "duration": 0.604144,
     "end_time": "2020-12-12T17:46:27.150314",
     "exception": false,
     "start_time": "2020-12-12T17:46:26.546170",
     "status": "completed"
    },
    "tags": []
   },
   "source": [
    "# pattern for neuralprophet \n",
    "This is same as Prophet where only two columns are expected ‘ds’ which is the timestamp and ‘y’ the dependent variable( for stocks it is VWAP or Volume Weighted Average Price) \n"
   ]
  },
  {
   "cell_type": "code",
   "execution_count": null,
   "metadata": {
    "execution": {
     "iopub.execute_input": "2020-12-12T17:46:28.394335Z",
     "iopub.status.busy": "2020-12-12T17:46:28.393568Z",
     "iopub.status.idle": "2020-12-12T17:46:28.396599Z",
     "shell.execute_reply": "2020-12-12T17:46:28.395961Z"
    },
    "id": "94fiUthDY_yM",
    "papermill": {
     "duration": 0.618873,
     "end_time": "2020-12-12T17:46:28.396731",
     "exception": false,
     "start_time": "2020-12-12T17:46:27.777858",
     "status": "completed"
    },
    "tags": []
   },
   "outputs": [],
   "source": [
    "df = df[[\"Date\", \"VWAP\"]]\n",
    "df.rename(columns={\"Date\": \"ds\", \"VWAP\": \"y\"}, inplace=True)"
   ]
  },
  {
   "cell_type": "markdown",
   "metadata": {
    "id": "OtxD8CwYY_yN",
    "papermill": {
     "duration": 0.60553,
     "end_time": "2020-12-12T17:46:29.605813",
     "exception": false,
     "start_time": "2020-12-12T17:46:29.000283",
     "status": "completed"
    },
    "tags": []
   },
   "source": [
    "# defining the model and fitting it\n",
    "The complete hyperparameter for the model list can be viewed from [here](http://ourownstory.github.io/neural_prophet/hyperparameter-selection/). Here ‘D’ stands for calendar day frequency."
   ]
  },
  {
   "cell_type": "code",
   "execution_count": null,
   "metadata": {
    "execution": {
     "iopub.execute_input": "2020-12-12T17:46:30.853888Z",
     "iopub.status.busy": "2020-12-12T17:46:30.848411Z",
     "iopub.status.idle": "2020-12-12T17:46:36.301997Z",
     "shell.execute_reply": "2020-12-12T17:46:36.302566Z"
    },
    "id": "9m7zCjsrY_yO",
    "papermill": {
     "duration": 6.08373,
     "end_time": "2020-12-12T17:46:36.302730",
     "exception": false,
     "start_time": "2020-12-12T17:46:30.219000",
     "status": "completed"
    },
    "tags": []
   },
   "outputs": [],
   "source": [
    "model = NeuralProphet()\n",
    "metrics = model.fit(df, validate_each_epoch=True, freq=\"D\")"
   ]
  },
  {
   "cell_type": "markdown",
   "metadata": {
    "id": "f8biOHDbY_yP",
    "papermill": {
     "duration": 0.661953,
     "end_time": "2020-12-12T17:46:37.622250",
     "exception": false,
     "start_time": "2020-12-12T17:46:36.960297",
     "status": "completed"
    },
    "tags": []
   },
   "source": [
    "# making future predictions from the model.\n"
   ]
  },
  {
   "cell_type": "code",
   "execution_count": null,
   "metadata": {
    "execution": {
     "iopub.execute_input": "2020-12-12T17:46:38.992946Z",
     "iopub.status.busy": "2020-12-12T17:46:38.991806Z",
     "iopub.status.idle": "2020-12-12T17:46:39.089967Z",
     "shell.execute_reply": "2020-12-12T17:46:39.089075Z"
    },
    "id": "EMVB47sqY_yP",
    "papermill": {
     "duration": 0.763355,
     "end_time": "2020-12-12T17:46:39.090138",
     "exception": false,
     "start_time": "2020-12-12T17:46:38.326783",
     "status": "completed"
    },
    "tags": []
   },
   "outputs": [],
   "source": [
    "future = model.make_future_dataframe(df, periods=365, n_historic_predictions=len(df))\n",
    "forecast = model.predict(future)"
   ]
  },
  {
   "cell_type": "markdown",
   "metadata": {
    "id": "KULIPloCY_yQ",
    "papermill": {
     "duration": 0.670637,
     "end_time": "2020-12-12T17:46:40.423856",
     "exception": false,
     "start_time": "2020-12-12T17:46:39.753219",
     "status": "completed"
    },
    "tags": []
   },
   "source": [
    "# plotting the prediction"
   ]
  },
  {
   "cell_type": "code",
   "execution_count": null,
   "metadata": {
    "execution": {
     "iopub.execute_input": "2020-12-12T17:46:41.724031Z",
     "iopub.status.busy": "2020-12-12T17:46:41.723185Z",
     "iopub.status.idle": "2020-12-12T17:46:42.170468Z",
     "shell.execute_reply": "2020-12-12T17:46:42.171080Z"
    },
    "id": "R4XCMyCAY_yQ",
    "papermill": {
     "duration": 1.096393,
     "end_time": "2020-12-12T17:46:42.171241",
     "exception": false,
     "start_time": "2020-12-12T17:46:41.074848",
     "status": "completed"
    },
    "tags": []
   },
   "outputs": [],
   "source": [
    "fig, ax = plt.subplots(figsize=(8,8))\n",
    "model.plot(forecast, xlabel=\"Date\", ylabel=\"VWAP\", ax=ax)\n",
    "\n",
    "ax.xaxis.label.set_size(28)\n",
    "ax.yaxis.label.set_size(28)\n",
    "ax.tick_params(axis='both', which='major', labelsize=24)\n",
    "ax.set_title(\"Coal India Stocks\", fontsize=28, fontweight=\"bold\")"
   ]
  },
  {
   "cell_type": "code",
   "execution_count": null,
   "metadata": {
    "execution": {
     "iopub.execute_input": "2020-12-12T17:46:43.549380Z",
     "iopub.status.busy": "2020-12-12T17:46:43.548221Z",
     "iopub.status.idle": "2020-12-12T17:46:44.284086Z",
     "shell.execute_reply": "2020-12-12T17:46:44.284642Z"
    },
    "id": "CKttpTkBY_yR",
    "papermill": {
     "duration": 1.453911,
     "end_time": "2020-12-12T17:46:44.284818",
     "exception": false,
     "start_time": "2020-12-12T17:46:42.830907",
     "status": "completed"
    },
    "tags": []
   },
   "outputs": [],
   "source": [
    "fig_comp = model.plot_components(forecast)"
   ]
  },
  {
   "cell_type": "markdown",
   "metadata": {
    "id": "_JY-rgOaY_yR",
    "papermill": {
     "duration": 0.647274,
     "end_time": "2020-12-12T17:46:45.598225",
     "exception": false,
     "start_time": "2020-12-12T17:46:44.950951",
     "status": "completed"
    },
    "tags": []
   },
   "source": [
    "# plotting the parameters\n",
    "This shows the trend, trend rate, weekly seasonality and a yearly seasonality."
   ]
  },
  {
   "cell_type": "code",
   "execution_count": null,
   "metadata": {
    "execution": {
     "iopub.execute_input": "2020-12-12T17:46:46.886524Z",
     "iopub.status.busy": "2020-12-12T17:46:46.885688Z",
     "iopub.status.idle": "2020-12-12T17:46:47.963664Z",
     "shell.execute_reply": "2020-12-12T17:46:47.964337Z"
    },
    "id": "xec_n0gTY_yS",
    "papermill": {
     "duration": 1.722905,
     "end_time": "2020-12-12T17:46:47.964512",
     "exception": false,
     "start_time": "2020-12-12T17:46:46.241607",
     "status": "completed"
    },
    "tags": []
   },
   "outputs": [],
   "source": [
    "fig_param = model.plot_parameters()"
   ]
  },
  {
   "cell_type": "markdown",
   "metadata": {
    "id": "8jFom3mCY_yT",
    "papermill": {
     "duration": 0.691985,
     "end_time": "2020-12-12T17:46:49.350279",
     "exception": false,
     "start_time": "2020-12-12T17:46:48.658294",
     "status": "completed"
    },
    "tags": []
   },
   "source": [
    "# Model Loss"
   ]
  },
  {
   "cell_type": "code",
   "execution_count": null,
   "metadata": {
    "execution": {
     "iopub.execute_input": "2020-12-12T17:46:50.711088Z",
     "iopub.status.busy": "2020-12-12T17:46:50.707240Z",
     "iopub.status.idle": "2020-12-12T17:46:50.936728Z",
     "shell.execute_reply": "2020-12-12T17:46:50.936085Z"
    },
    "id": "5_8QqXbyY_yT",
    "papermill": {
     "duration": 0.918435,
     "end_time": "2020-12-12T17:46:50.936903",
     "exception": false,
     "start_time": "2020-12-12T17:46:50.018468",
     "status": "completed"
    },
    "tags": []
   },
   "outputs": [],
   "source": [
    "fig, ax = plt.subplots(figsize=(14, 10))\n",
    "ax.plot(metrics[\"MAE\"], '-b', linewidth=6, label=\"Training Loss\")  \n",
    "ax.plot(metrics[\"MAE_val\"], '-r', linewidth=2, label=\"Validation Loss\")\n",
    "\n",
    "# You can use metrics[\"SmoothL1Loss\"] and metrics[\"SmoothL1Loss_val\"] too.\n",
    "\n",
    "ax.legend(loc='center right', fontsize=16)\n",
    "ax.tick_params(axis='both', which='major', labelsize=20)\n",
    "ax.set_xlabel(\"Epoch\", fontsize=28, fontweight=\"bold\")\n",
    "ax.set_ylabel(\"Loss\", fontsize=28, fontweight=\"bold\")\n",
    "\n",
    "ax.set_title(\"Model Loss (MAE)\", fontsize=28, fontweight=\"bold\")\n"
   ]
  },
  {
   "cell_type": "code",
   "execution_count": null,
   "metadata": {
    "id": "BJFofj-CY_yU",
    "papermill": {
     "duration": 0.665854,
     "end_time": "2020-12-12T17:46:52.287626",
     "exception": false,
     "start_time": "2020-12-12T17:46:51.621772",
     "status": "completed"
    },
    "tags": []
   },
   "outputs": [],
   "source": []
  }
 ],
 "metadata": {
  "colab": {
   "name": "1_Facebook's_Neural_Prophet.ipynb",
   "provenance": [
    {
     "file_id": "1ot_O36o2OTQSWOP7okHhwysNZfHH790J",
     "timestamp": 1621507720726
    }
   ]
  },
  "kernelspec": {
   "display_name": "Python 3",
   "language": "python",
   "name": "python3"
  },
  "language_info": {
   "codemirror_mode": {
    "name": "ipython",
    "version": 3
   },
   "file_extension": ".py",
   "mimetype": "text/x-python",
   "name": "python",
   "nbconvert_exporter": "python",
   "pygments_lexer": "ipython3",
   "version": "3.7.6"
  },
  "papermill": {
   "duration": 157.220096,
   "end_time": "2020-12-12T17:46:53.056930",
   "environment_variables": {},
   "exception": null,
   "input_path": "__notebook__.ipynb",
   "output_path": "__notebook__.ipynb",
   "parameters": {},
   "start_time": "2020-12-12T17:44:15.836834",
   "version": "2.1.0"
  }
 },
 "nbformat": 4,
 "nbformat_minor": 2
}
