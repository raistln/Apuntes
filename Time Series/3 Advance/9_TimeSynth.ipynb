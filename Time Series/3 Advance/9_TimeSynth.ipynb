{
 "cells": [
  {
   "cell_type": "code",
   "execution_count": null,
   "metadata": {},
   "outputs": [],
   "source": [
    "\n",
    "!python -m pip install pip --upgrade --user -q --no-warn-script-location\n",
    "!python -m pip install numpy pandas seaborn matplotlib scipy statsmodels sklearn tensorflow keras torch torchvision \\\n",
    "    tqdm scikit-image pmdarima pytorch_lightning pytorch_forecasting --user -q --no-warn-script-location\n",
    "!python -m pip install git+https://github.com/TimeSynth/TimeSynth.git --user -q\n",
    "import IPython\n",
    "IPython.Application.instance().kernel.do_shutdown(True)\n"
   ]
  },
  {
   "cell_type": "code",
   "execution_count": null,
   "metadata": {
    "executionInfo": {
     "elapsed": 1077,
     "status": "ok",
     "timestamp": 1621682708106,
     "user": {
      "displayName": "Krishna Rastogi",
      "photoUrl": "",
      "userId": "02350259800549833452"
     },
     "user_tz": -330
    },
    "id": "G6o58Y0omM6M"
   },
   "outputs": [],
   "source": [
    "import timesynth as ts"
   ]
  },
  {
   "cell_type": "code",
   "execution_count": null,
   "metadata": {
    "executionInfo": {
     "elapsed": 4,
     "status": "ok",
     "timestamp": 1621682708706,
     "user": {
      "displayName": "Krishna Rastogi",
      "photoUrl": "",
      "userId": "02350259800549833452"
     },
     "user_tz": -330
    },
    "id": "o75bSSPBnQQ_"
   },
   "outputs": [],
   "source": [
    "import matplotlib.pyplot as plt\n",
    "%matplotlib inline\n",
    "%config InlineBackend.figure_format = 'retina'"
   ]
  },
  {
   "cell_type": "markdown",
   "metadata": {
    "id": "TFUK8Ne0pYnF"
   },
   "source": [
    "**Harmonic signal generation**"
   ]
  },
  {
   "cell_type": "code",
   "execution_count": null,
   "metadata": {
    "executionInfo": {
     "elapsed": 757,
     "status": "ok",
     "timestamp": 1621682757074,
     "user": {
      "displayName": "Krishna Rastogi",
      "photoUrl": "",
      "userId": "02350259800549833452"
     },
     "user_tz": -330
    },
    "id": "G_NHNzd2nc4Z"
   },
   "outputs": [],
   "source": [
    "# Initializing TimeSampler\n",
    "time_sampler = ts.TimeSampler(stop_time=20)"
   ]
  },
  {
   "cell_type": "code",
   "execution_count": null,
   "metadata": {
    "executionInfo": {
     "elapsed": 28,
     "status": "ok",
     "timestamp": 1621682757487,
     "user": {
      "displayName": "Krishna Rastogi",
      "photoUrl": "",
      "userId": "02350259800549833452"
     },
     "user_tz": -330
    },
    "id": "rnIVVldEpf5M"
   },
   "outputs": [],
   "source": [
    "# Sampling irregular time samples\n",
    "irregular_time_samples = time_sampler.sample_irregular_time(num_points=500, keep_percentage=50)"
   ]
  },
  {
   "cell_type": "code",
   "execution_count": null,
   "metadata": {
    "executionInfo": {
     "elapsed": 27,
     "status": "ok",
     "timestamp": 1621682757489,
     "user": {
      "displayName": "Krishna Rastogi",
      "photoUrl": "",
      "userId": "02350259800549833452"
     },
     "user_tz": -330
    },
    "id": "edNSla2QWVti"
   },
   "outputs": [],
   "source": [
    "# Initializing Sinusoidal signal\n",
    "sinusoid = ts.signals.Sinusoidal(frequency=0.25)"
   ]
  },
  {
   "cell_type": "code",
   "execution_count": null,
   "metadata": {
    "executionInfo": {
     "elapsed": 23,
     "status": "ok",
     "timestamp": 1621682758058,
     "user": {
      "displayName": "Krishna Rastogi",
      "photoUrl": "",
      "userId": "02350259800549833452"
     },
     "user_tz": -330
    },
    "id": "NYURhIKHXyn1"
   },
   "outputs": [],
   "source": [
    "# Initializing Gaussian noise\n",
    "white_noise = ts.noise.GaussianNoise(std=0.3)"
   ]
  },
  {
   "cell_type": "code",
   "execution_count": null,
   "metadata": {
    "executionInfo": {
     "elapsed": 21,
     "status": "ok",
     "timestamp": 1621682758061,
     "user": {
      "displayName": "Krishna Rastogi",
      "photoUrl": "",
      "userId": "02350259800549833452"
     },
     "user_tz": -330
    },
    "id": "wzSoSBHzaGci"
   },
   "outputs": [],
   "source": [
    "# Initializing TimeSeries class with the signal and noise objects\n",
    "timeseries = ts.TimeSeries(signal_generator=sinusoid, noise_generator=white_noise)"
   ]
  },
  {
   "cell_type": "code",
   "execution_count": null,
   "metadata": {
    "executionInfo": {
     "elapsed": 15,
     "status": "ok",
     "timestamp": 1621682758064,
     "user": {
      "displayName": "Krishna Rastogi",
      "photoUrl": "",
      "userId": "02350259800549833452"
     },
     "user_tz": -330
    },
    "id": "QA4NzHY4aN_S"
   },
   "outputs": [],
   "source": [
    "# Sampling using the irregular time samples\n",
    "samples, signals, errors = timeseries.sample(irregular_time_samples)"
   ]
  },
  {
   "cell_type": "code",
   "execution_count": null,
   "metadata": {
    "colab": {
     "base_uri": "https://localhost:8080/",
     "height": 294
    },
    "executionInfo": {
     "elapsed": 663,
     "status": "ok",
     "timestamp": 1621682760305,
     "user": {
      "displayName": "Krishna Rastogi",
      "photoUrl": "",
      "userId": "02350259800549833452"
     },
     "user_tz": -330
    },
    "id": "SygL55mObfTH",
    "outputId": "9145e4e5-c240-481c-ae13-fbfe5d33b010"
   },
   "outputs": [],
   "source": [
    "# Plotting the series\n",
    "plt.plot(irregular_time_samples, samples, marker='o', markersize=4)\n",
    "plt.xlabel('Time')\n",
    "plt.ylabel('Magnitude')\n",
    "plt.title('Irregularly sampled sinusoid with noise');"
   ]
  },
  {
   "cell_type": "code",
   "execution_count": null,
   "metadata": {
    "id": "RWDC2aghbi0A"
   },
   "outputs": [],
   "source": []
  },
  {
   "cell_type": "markdown",
   "metadata": {
    "id": "VLRGO2_zdckm"
   },
   "source": [
    "**Harmonic signals with red noise**"
   ]
  },
  {
   "cell_type": "code",
   "execution_count": null,
   "metadata": {
    "executionInfo": {
     "elapsed": 432,
     "status": "ok",
     "timestamp": 1621682779756,
     "user": {
      "displayName": "Krishna Rastogi",
      "photoUrl": "",
      "userId": "02350259800549833452"
     },
     "user_tz": -330
    },
    "id": "iYnHdnhgdgFC"
   },
   "outputs": [],
   "source": [
    "# Initializing Gaussian noise\n",
    "red_noise = ts.noise.RedNoise(std=0.5, tau=0.8)"
   ]
  },
  {
   "cell_type": "code",
   "execution_count": null,
   "metadata": {
    "executionInfo": {
     "elapsed": 8,
     "status": "ok",
     "timestamp": 1621682780149,
     "user": {
      "displayName": "Krishna Rastogi",
      "photoUrl": "",
      "userId": "02350259800549833452"
     },
     "user_tz": -330
    },
    "id": "ISItOGMGdiky"
   },
   "outputs": [],
   "source": [
    "# Initializing TimeSeries class with the signal and noise objects\n",
    "timeseries_corr = ts.TimeSeries(sinusoid, noise_generator=red_noise)"
   ]
  },
  {
   "cell_type": "code",
   "execution_count": null,
   "metadata": {
    "executionInfo": {
     "elapsed": 14,
     "status": "ok",
     "timestamp": 1621682780661,
     "user": {
      "displayName": "Krishna Rastogi",
      "photoUrl": "",
      "userId": "02350259800549833452"
     },
     "user_tz": -330
    },
    "id": "SmDj2ti1fI2s"
   },
   "outputs": [],
   "source": [
    "# Sampling using the irregular time samples\n",
    "samples_corr, signals_corr, errors_corr = timeseries_corr.sample(irregular_time_samples)"
   ]
  },
  {
   "cell_type": "code",
   "execution_count": null,
   "metadata": {
    "colab": {
     "base_uri": "https://localhost:8080/",
     "height": 313
    },
    "executionInfo": {
     "elapsed": 823,
     "status": "ok",
     "timestamp": 1621682781474,
     "user": {
      "displayName": "Krishna Rastogi",
      "photoUrl": "",
      "userId": "02350259800549833452"
     },
     "user_tz": -330
    },
    "id": "lGSM9aJbfuW2",
    "outputId": "2222a972-866f-405e-898d-81f3014b142c"
   },
   "outputs": [],
   "source": [
    "# Plotting the series\n",
    "plt.plot(irregular_time_samples, samples_corr, marker='o')\n",
    "plt.xlabel('Time')\n",
    "plt.ylabel('Magnitude')\n",
    "plt.title('Irregularly sampled sinusoid with red noise')"
   ]
  },
  {
   "cell_type": "code",
   "execution_count": null,
   "metadata": {
    "colab": {
     "base_uri": "https://localhost:8080/",
     "height": 294
    },
    "executionInfo": {
     "elapsed": 962,
     "status": "ok",
     "timestamp": 1621682795860,
     "user": {
      "displayName": "Krishna Rastogi",
      "photoUrl": "",
      "userId": "02350259800549833452"
     },
     "user_tz": -330
    },
    "id": "CDpVk-2qhxkP",
    "outputId": "93ac0a0e-c098-45bc-ad5f-799c21ad6ebe"
   },
   "outputs": [],
   "source": [
    "plt.plot(irregular_time_samples, errors_corr, marker='o')\n",
    "plt.xlabel('Time')\n",
    "plt.ylabel('Magnitude')\n",
    "plt.title('Red noise');"
   ]
  },
  {
   "cell_type": "markdown",
   "metadata": {
    "id": "gLksbELOjtic"
   },
   "source": [
    "**Pseudoperiodic signal**"
   ]
  },
  {
   "cell_type": "code",
   "execution_count": null,
   "metadata": {
    "executionInfo": {
     "elapsed": 8,
     "status": "ok",
     "timestamp": 1621682796426,
     "user": {
      "displayName": "Krishna Rastogi",
      "photoUrl": "",
      "userId": "02350259800549833452"
     },
     "user_tz": -330
    },
    "id": "D8nEpAuVinSE"
   },
   "outputs": [],
   "source": [
    "# Initializing TimeSampler\n",
    "time_sampler_pp = ts.TimeSampler(stop_time=20)"
   ]
  },
  {
   "cell_type": "code",
   "execution_count": null,
   "metadata": {
    "executionInfo": {
     "elapsed": 6,
     "status": "ok",
     "timestamp": 1621682798034,
     "user": {
      "displayName": "Krishna Rastogi",
      "photoUrl": "",
      "userId": "02350259800549833452"
     },
     "user_tz": -330
    },
    "id": "q2neQxysj0Mj"
   },
   "outputs": [],
   "source": [
    "# Sampling irregular time samples\n",
    "irregular_time_samples_pp = time_sampler_pp.sample_irregular_time(resolution=0.05, keep_percentage=50)"
   ]
  },
  {
   "cell_type": "code",
   "execution_count": null,
   "metadata": {
    "executionInfo": {
     "elapsed": 6,
     "status": "ok",
     "timestamp": 1621682799035,
     "user": {
      "displayName": "Krishna Rastogi",
      "photoUrl": "",
      "userId": "02350259800549833452"
     },
     "user_tz": -330
    },
    "id": "FOmOH5nfk9cX"
   },
   "outputs": [],
   "source": [
    "# Initializing Pseudoperiodic signal\n",
    "pseudo_periodic = ts.signals.PseudoPeriodic(frequency=2, freqSD=0.01, ampSD=0.5)"
   ]
  },
  {
   "cell_type": "code",
   "execution_count": null,
   "metadata": {
    "executionInfo": {
     "elapsed": 6,
     "status": "ok",
     "timestamp": 1621682801111,
     "user": {
      "displayName": "Krishna Rastogi",
      "photoUrl": "",
      "userId": "02350259800549833452"
     },
     "user_tz": -330
    },
    "id": "PWN4J4EtmRZz"
   },
   "outputs": [],
   "source": [
    "# Initializing TimeSeries class with the pseudoperiodic signal\n",
    "timeseries_pp = ts.TimeSeries(pseudo_periodic)"
   ]
  },
  {
   "cell_type": "code",
   "execution_count": null,
   "metadata": {
    "executionInfo": {
     "elapsed": 2,
     "status": "ok",
     "timestamp": 1621682801661,
     "user": {
      "displayName": "Krishna Rastogi",
      "photoUrl": "",
      "userId": "02350259800549833452"
     },
     "user_tz": -330
    },
    "id": "EMPsnyIQnARv"
   },
   "outputs": [],
   "source": [
    "# Sampling using the irregular time samples\n",
    "samples_pp, signals_pp, errors_pp = timeseries_pp.sample(irregular_time_samples_pp)"
   ]
  },
  {
   "cell_type": "code",
   "execution_count": null,
   "metadata": {
    "colab": {
     "base_uri": "https://localhost:8080/",
     "height": 294
    },
    "executionInfo": {
     "elapsed": 15,
     "status": "ok",
     "timestamp": 1621682806088,
     "user": {
      "displayName": "Krishna Rastogi",
      "photoUrl": "",
      "userId": "02350259800549833452"
     },
     "user_tz": -330
    },
    "id": "tKvQWUuGnhLI",
    "outputId": "345f3aa1-f4b5-4a0c-f13c-2d2172115326"
   },
   "outputs": [],
   "source": [
    "# Plotting the series\n",
    "plt.plot(irregular_time_samples_pp, samples_pp, marker='o')\n",
    "plt.xlabel('Time')\n",
    "plt.ylabel('Magnitude')\n",
    "plt.title('Pseudoperiodic signal');"
   ]
  },
  {
   "cell_type": "markdown",
   "metadata": {
    "id": "YvN0dxzjo0pt"
   },
   "source": [
    "**Gaussian process signal generation**"
   ]
  },
  {
   "cell_type": "code",
   "execution_count": null,
   "metadata": {
    "executionInfo": {
     "elapsed": 12,
     "status": "ok",
     "timestamp": 1621682811913,
     "user": {
      "displayName": "Krishna Rastogi",
      "photoUrl": "",
      "userId": "02350259800549833452"
     },
     "user_tz": -330
    },
    "id": "h48Xpkz-nv6m"
   },
   "outputs": [],
   "source": [
    "gp = ts.signals.GaussianProcess(kernel='Matern', nu=3./2)"
   ]
  },
  {
   "cell_type": "code",
   "execution_count": null,
   "metadata": {
    "executionInfo": {
     "elapsed": 12,
     "status": "ok",
     "timestamp": 1621682812401,
     "user": {
      "displayName": "Krishna Rastogi",
      "photoUrl": "",
      "userId": "02350259800549833452"
     },
     "user_tz": -330
    },
    "id": "0nQtvI8Bo7jK"
   },
   "outputs": [],
   "source": [
    "gp_series = ts.TimeSeries(signal_generator=gp)"
   ]
  },
  {
   "cell_type": "code",
   "execution_count": null,
   "metadata": {
    "executionInfo": {
     "elapsed": 1431,
     "status": "ok",
     "timestamp": 1621682815121,
     "user": {
      "displayName": "Krishna Rastogi",
      "photoUrl": "",
      "userId": "02350259800549833452"
     },
     "user_tz": -330
    },
    "id": "ZM84toTKq59o"
   },
   "outputs": [],
   "source": [
    "samples = gp_series.sample(irregular_time_samples)[0]"
   ]
  },
  {
   "cell_type": "code",
   "execution_count": null,
   "metadata": {
    "colab": {
     "base_uri": "https://localhost:8080/",
     "height": 294
    },
    "executionInfo": {
     "elapsed": 81,
     "status": "ok",
     "timestamp": 1621682815143,
     "user": {
      "displayName": "Krishna Rastogi",
      "photoUrl": "",
      "userId": "02350259800549833452"
     },
     "user_tz": -330
    },
    "id": "DHQz6o8csOTV",
    "outputId": "e316c8d1-90a1-4fbe-e090-f11875e2b8b2"
   },
   "outputs": [],
   "source": [
    "plt.plot(irregular_time_samples, samples, marker='o', markersize=4)\n",
    "plt.xlabel('Time')\n",
    "plt.ylabel('Value')\n",
    "plt.title('Gaussian Process signal with Matern 3/2-kernel');"
   ]
  },
  {
   "cell_type": "markdown",
   "metadata": {
    "id": "HZ6eCCYztcpj"
   },
   "source": [
    "**CAR model**"
   ]
  },
  {
   "cell_type": "code",
   "execution_count": null,
   "metadata": {
    "executionInfo": {
     "elapsed": 69,
     "status": "ok",
     "timestamp": 1621682815150,
     "user": {
      "displayName": "Krishna Rastogi",
      "photoUrl": "",
      "userId": "02350259800549833452"
     },
     "user_tz": -330
    },
    "id": "aHGv66eesWz9"
   },
   "outputs": [],
   "source": [
    "car = ts.signals.CAR(ar_param=0.9, sigma=0.01)"
   ]
  },
  {
   "cell_type": "code",
   "execution_count": null,
   "metadata": {
    "executionInfo": {
     "elapsed": 5,
     "status": "ok",
     "timestamp": 1621682815654,
     "user": {
      "displayName": "Krishna Rastogi",
      "photoUrl": "",
      "userId": "02350259800549833452"
     },
     "user_tz": -330
    },
    "id": "-hYlptUhtgo5"
   },
   "outputs": [],
   "source": [
    "car_series = ts.TimeSeries(signal_generator=car)"
   ]
  },
  {
   "cell_type": "code",
   "execution_count": null,
   "metadata": {
    "executionInfo": {
     "elapsed": 8,
     "status": "ok",
     "timestamp": 1621682816042,
     "user": {
      "displayName": "Krishna Rastogi",
      "photoUrl": "",
      "userId": "02350259800549833452"
     },
     "user_tz": -330
    },
    "id": "sMi4wkGQupqM"
   },
   "outputs": [],
   "source": [
    "samples = car_series.sample(irregular_time_samples)"
   ]
  },
  {
   "cell_type": "code",
   "execution_count": null,
   "metadata": {
    "colab": {
     "base_uri": "https://localhost:8080/",
     "height": 294
    },
    "executionInfo": {
     "elapsed": 1084,
     "status": "ok",
     "timestamp": 1621682817120,
     "user": {
      "displayName": "Krishna Rastogi",
      "photoUrl": "",
      "userId": "02350259800549833452"
     },
     "user_tz": -330
    },
    "id": "_fUm-N2LvB6n",
    "outputId": "adadece3-1c7c-4525-a628-6e173c90d2cc"
   },
   "outputs": [],
   "source": [
    "plt.plot(irregular_time_samples, samples[0], marker='o', markersize=4)\n",
    "plt.xlabel('Time')  #X-axis label\n",
    "plt.ylabel('Value')  #Y-axis label\n",
    "plt.title(' Continuous Autoregressive process');  #title of the plot\n"
   ]
  },
  {
   "cell_type": "markdown",
   "metadata": {
    "id": "RFC_Mwwgvu1t"
   },
   "source": [
    "**AR model for regularly sampled timestamps**"
   ]
  },
  {
   "cell_type": "code",
   "execution_count": null,
   "metadata": {
    "executionInfo": {
     "elapsed": 13,
     "status": "ok",
     "timestamp": 1621682819468,
     "user": {
      "displayName": "Krishna Rastogi",
      "photoUrl": "",
      "userId": "02350259800549833452"
     },
     "user_tz": -330
    },
    "id": "nwegHgf8vJAH"
   },
   "outputs": [],
   "source": [
    "# Initializing TimeSampler\n",
    "time_sampler = ts.TimeSampler(stop_time=20)"
   ]
  },
  {
   "cell_type": "code",
   "execution_count": null,
   "metadata": {
    "executionInfo": {
     "elapsed": 4,
     "status": "ok",
     "timestamp": 1621682820070,
     "user": {
      "displayName": "Krishna Rastogi",
      "photoUrl": "",
      "userId": "02350259800549833452"
     },
     "user_tz": -330
    },
    "id": "VjZuaAclv3YS"
   },
   "outputs": [],
   "source": [
    "# Sampling regular time samples\n",
    "regular_time_samples = time_sampler.sample_regular_time(num_points=500)"
   ]
  },
  {
   "cell_type": "code",
   "execution_count": null,
   "metadata": {
    "executionInfo": {
     "elapsed": 28,
     "status": "ok",
     "timestamp": 1621682821510,
     "user": {
      "displayName": "Krishna Rastogi",
      "photoUrl": "",
      "userId": "02350259800549833452"
     },
     "user_tz": -330
    },
    "id": "imEPwXOexF5t"
   },
   "outputs": [],
   "source": [
    "# Initializing AR(2) model\n",
    "ar_p = ts.signals.AutoRegressive(ar_param=[1.5, -0.75])"
   ]
  },
  {
   "cell_type": "code",
   "execution_count": null,
   "metadata": {
    "executionInfo": {
     "elapsed": 39,
     "status": "ok",
     "timestamp": 1621682821524,
     "user": {
      "displayName": "Krishna Rastogi",
      "photoUrl": "",
      "userId": "02350259800549833452"
     },
     "user_tz": -330
    },
    "id": "8-HrW0YsxdNr"
   },
   "outputs": [],
   "source": [
    "ar_p_series = ts.TimeSeries(signal_generator=ar_p)"
   ]
  },
  {
   "cell_type": "code",
   "execution_count": null,
   "metadata": {
    "colab": {
     "base_uri": "https://localhost:8080/"
    },
    "executionInfo": {
     "elapsed": 9,
     "status": "ok",
     "timestamp": 1621682821908,
     "user": {
      "displayName": "Krishna Rastogi",
      "photoUrl": "",
      "userId": "02350259800549833452"
     },
     "user_tz": -330
    },
    "id": "2Oa7XMurz3st",
    "outputId": "85676a01-2981-4e4a-adc8-075dc88180e2"
   },
   "outputs": [],
   "source": [
    "samples = ar_p_series.sample(regular_time_samples)\n"
   ]
  },
  {
   "cell_type": "code",
   "execution_count": null,
   "metadata": {
    "colab": {
     "base_uri": "https://localhost:8080/",
     "height": 294
    },
    "executionInfo": {
     "elapsed": 14,
     "status": "ok",
     "timestamp": 1621682823153,
     "user": {
      "displayName": "Krishna Rastogi",
      "photoUrl": "",
      "userId": "02350259800549833452"
     },
     "user_tz": -330
    },
    "id": "RJXu85iN0QmD",
    "outputId": "2acfc74c-a9b1-4cc2-b64f-d1c5b3830b65"
   },
   "outputs": [],
   "source": [
    "plt.plot(regular_time_samples, samples[0], marker='o', markersize=4)\n",
    "plt.xlabel('Time')\n",
    "plt.ylabel('Value')\n",
    "plt.title('Autoregressive process - Second order');"
   ]
  },
  {
   "cell_type": "markdown",
   "metadata": {
    "id": "UyC_I4xB2_ry"
   },
   "source": [
    "**Mackey-Glass signal**"
   ]
  },
  {
   "cell_type": "code",
   "execution_count": null,
   "metadata": {
    "executionInfo": {
     "elapsed": 7,
     "status": "ok",
     "timestamp": 1621682823807,
     "user": {
      "displayName": "Krishna Rastogi",
      "photoUrl": "",
      "userId": "02350259800549833452"
     },
     "user_tz": -330
    },
    "id": "G8cmrlYb0f4M"
   },
   "outputs": [],
   "source": [
    "# Initializing TimeSampler\n",
    "time_sampler = ts.TimeSampler(stop_time=1500)"
   ]
  },
  {
   "cell_type": "code",
   "execution_count": null,
   "metadata": {
    "executionInfo": {
     "elapsed": 9,
     "status": "ok",
     "timestamp": 1621682825559,
     "user": {
      "displayName": "Krishna Rastogi",
      "photoUrl": "",
      "userId": "02350259800549833452"
     },
     "user_tz": -330
    },
    "id": "HH-meXmH3FuL"
   },
   "outputs": [],
   "source": [
    "# Sampling irregular time samples\n",
    "irregular_time_samples = time_sampler.sample_irregular_time(num_points=1500, keep_percentage=75)"
   ]
  },
  {
   "cell_type": "code",
   "execution_count": null,
   "metadata": {
    "executionInfo": {
     "elapsed": 2587,
     "status": "ok",
     "timestamp": 1621682828767,
     "user": {
      "displayName": "Krishna Rastogi",
      "photoUrl": "",
      "userId": "02350259800549833452"
     },
     "user_tz": -330
    },
    "id": "ZXyEIEMd4NWs"
   },
   "outputs": [],
   "source": [
    "mg = ts.signals.MackeyGlass()\n",
    "noise = ts.noise.GaussianNoise(std=0.1)\n",
    "mg_series = ts.TimeSeries(signal_generator=mg, noise_generator=noise)\n",
    "mg_samples, mg_signals, mg_errors = mg_series.sample(irregular_time_samples)"
   ]
  },
  {
   "cell_type": "code",
   "execution_count": null,
   "metadata": {
    "colab": {
     "base_uri": "https://localhost:8080/",
     "height": 295
    },
    "executionInfo": {
     "elapsed": 1495,
     "status": "ok",
     "timestamp": 1621682830256,
     "user": {
      "displayName": "Krishna Rastogi",
      "photoUrl": "",
      "userId": "02350259800549833452"
     },
     "user_tz": -330
    },
    "id": "dyHfA3wH4P41",
    "outputId": "d5dc2147-2e67-4dc2-ca5a-e1d78ccc0226"
   },
   "outputs": [],
   "source": [
    "plt.plot(irregular_time_samples, mg_signals, marker='o', markersize=4)\n",
    "plt.xlabel('Time')\n",
    "plt.ylabel('Value')\n",
    "plt.title('Mackey-Glass differential equation with $\\\\tau=17$');\n"
   ]
  },
  {
   "cell_type": "code",
   "execution_count": null,
   "metadata": {
    "colab": {
     "base_uri": "https://localhost:8080/",
     "height": 295
    },
    "executionInfo": {
     "elapsed": 1218,
     "status": "ok",
     "timestamp": 1621682831455,
     "user": {
      "displayName": "Krishna Rastogi",
      "photoUrl": "",
      "userId": "02350259800549833452"
     },
     "user_tz": -330
    },
    "id": "tabqJjat6Nlu",
    "outputId": "c2d88042-fc51-40d6-c265-0379cd77fe69"
   },
   "outputs": [],
   "source": [
    "plt.plot(irregular_time_samples, mg_samples, marker='o', markersize=4)\n",
    "plt.xlabel('Time')\n",
    "plt.ylabel('Value')\n",
    "plt.title('Mackey-Glass ($\\\\tau=17$) with noise ($\\\\sigma = 0.1$)');"
   ]
  },
  {
   "cell_type": "markdown",
   "metadata": {
    "id": "53K2obPr7oru"
   },
   "source": [
    "**NARMA series**"
   ]
  },
  {
   "cell_type": "code",
   "execution_count": null,
   "metadata": {
    "executionInfo": {
     "elapsed": 16,
     "status": "ok",
     "timestamp": 1621682831456,
     "user": {
      "displayName": "Krishna Rastogi",
      "photoUrl": "",
      "userId": "02350259800549833452"
     },
     "user_tz": -330
    },
    "id": "dVgdjuUC6iBi"
   },
   "outputs": [],
   "source": [
    "# Initializing TimeSampler\n",
    "time_sampler = ts.TimeSampler(stop_time=500)\n"
   ]
  },
  {
   "cell_type": "code",
   "execution_count": null,
   "metadata": {
    "executionInfo": {
     "elapsed": 16,
     "status": "ok",
     "timestamp": 1621682831457,
     "user": {
      "displayName": "Krishna Rastogi",
      "photoUrl": "",
      "userId": "02350259800549833452"
     },
     "user_tz": -330
    },
    "id": "yMViQvi972fA"
   },
   "outputs": [],
   "source": [
    "# Sampling irregular time samples\n",
    "times = time_sampler.sample_regular_time(resolution=1.)\n"
   ]
  },
  {
   "cell_type": "code",
   "execution_count": null,
   "metadata": {
    "executionInfo": {
     "elapsed": 15,
     "status": "ok",
     "timestamp": 1621682831458,
     "user": {
      "displayName": "Krishna Rastogi",
      "photoUrl": "",
      "userId": "02350259800549833452"
     },
     "user_tz": -330
    },
    "id": "emd-2x6K76R0"
   },
   "outputs": [],
   "source": [
    "# Take Samples\n",
    "narma_signal = ts.signals.NARMA(order=10)\n",
    "series = ts.TimeSeries(narma_signal)\n",
    "samples, _, _ = series.sample(times)\n"
   ]
  },
  {
   "cell_type": "code",
   "execution_count": null,
   "metadata": {
    "colab": {
     "base_uri": "https://localhost:8080/",
     "height": 294
    },
    "executionInfo": {
     "elapsed": 1591,
     "status": "ok",
     "timestamp": 1621682833038,
     "user": {
      "displayName": "Krishna Rastogi",
      "photoUrl": "",
      "userId": "02350259800549833452"
     },
     "user_tz": -330
    },
    "id": "z4pjR_Q08yTu",
    "outputId": "2abbfacb-5b4c-438c-b297-2430e4d40a22"
   },
   "outputs": [],
   "source": [
    "# Plotting the series\n",
    "plt.plot(times, samples, marker='o', markersize=4)\n",
    "plt.xlabel('Time')\n",
    "plt.ylabel('Magnitude')\n",
    "plt.title('10th-order NARMA Series');"
   ]
  },
  {
   "cell_type": "code",
   "execution_count": null,
   "metadata": {
    "id": "hq2uNBke9pgw"
   },
   "outputs": [],
   "source": []
  }
 ],
 "metadata": {
  "colab": {
   "collapsed_sections": [],
   "name": "TimeSynth.ipynb",
   "provenance": [
    {
     "file_id": "1nQtJZKzoDKNc32Ls6uukUdDZ_qqk1zWg",
     "timestamp": 1621498997551
    }
   ]
  },
  "kernelspec": {
   "display_name": "Python 3",
   "name": "python3"
  }
 },
 "nbformat": 4,
 "nbformat_minor": 2
}
