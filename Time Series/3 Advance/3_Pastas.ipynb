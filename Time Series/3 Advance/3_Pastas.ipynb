{
 "cells": [
  {
   "cell_type": "markdown",
   "metadata": {
    "id": "EfaBtRUUPfis"
   },
   "source": [
    "# **Pastas**"
   ]
  },
  {
   "cell_type": "markdown",
   "metadata": {
    "id": "X6w-SH1mPerJ"
   },
   "source": [
    "Pastas is an open-source Python framework designed for processing, simulation and analysis of hydrogeological time series models. It has built-in tools for statistically analyzing, visualizing and optimizing such models. It was introduced by Raoul A. Collenteur, Mark Bakker, Ruben Calje, Stijn A. Klop and Frans Schaars in an article published by the National Groundwater Association (NGWA) in July 2019.\n",
    "\n",
    "Before going into Pastas’ details, let us first understand the core term ‘hydrogeology’ – an area in which the Pastas library marks its significant contribution."
   ]
  },
  {
   "cell_type": "markdown",
   "metadata": {
    "id": "yXndcTi6PjnB"
   },
   "source": [
    "## Installation of Pastas"
   ]
  },
  {
   "cell_type": "code",
   "execution_count": null,
   "metadata": {},
   "outputs": [],
   "source": [
    "\n",
    "!python -m pip install pip --upgrade --user -q --no-warn-script-location\n",
    "!python -m pip install numpy pandas seaborn matplotlib scipy statsmodels sklearn tensorflow keras torch torchvision \\\n",
    "    tqdm scikit-image pmdarima pastas --user -q --no-warn-script-location\n",
    "\n",
    "import IPython\n",
    "IPython.Application.instance().kernel.do_shutdown(True)\n"
   ]
  },
  {
   "cell_type": "code",
   "execution_count": null,
   "metadata": {
    "id": "aMPn2NtfoMLr"
   },
   "outputs": [],
   "source": [
    "import pandas as pd\n",
    "import pastas as ps\n",
    "import matplotlib.pyplot as plt\n",
    "\n",
    "ps.show_versions()"
   ]
  },
  {
   "cell_type": "code",
   "execution_count": null,
   "metadata": {
    "id": "-rIUdbpLoRtY"
   },
   "outputs": [],
   "source": [
    "head = pd.read_csv(\"https://raw.githubusercontent.com/pastas/pastas/master/examples/notebooks/data_notebook_5/head_wellex.csv\",\n",
    "                   index_col=\"Date\", parse_dates=True, squeeze=True)\n",
    "rain =  pd.read_csv(\"https://raw.githubusercontent.com/pastas/pastas/master/examples/notebooks/data_notebook_5/prec_wellex.csv\",\n",
    "                    index_col=\"Date\", parse_dates=True)\n",
    "evap =  pd.read_csv(\"https://raw.githubusercontent.com/pastas/pastas/master/examples/notebooks/data_notebook_5/evap_wellex.csv\",\n",
    "                    index_col=\"Date\", parse_dates=True)\n",
    "well =  pd.read_csv(\"https://raw.githubusercontent.com/pastas/pastas/master/examples/notebooks/data_notebook_5/well_wellex.csv\",\n",
    "                    index_col=\"Date\", parse_dates=True)"
   ]
  },
  {
   "cell_type": "code",
   "execution_count": null,
   "metadata": {
    "id": "QmCLJwtGpiyw"
   },
   "outputs": [],
   "source": [
    "# Make a plot of all the time series\n",
    "fig, ax = plt.subplots(4, 1, sharex=True, figsize=(10,5));\n",
    "ax[0].plot(head, label=head.name, linestyle=\" \", marker=\".\", markersize=2)\n",
    "ax[0].legend()\n",
    "ax[1].plot(rain, label=\"rain\")\n",
    "ax[1].legend()\n",
    "ax[2].plot(evap, label=\"evap\")\n",
    "ax[2].legend()\n",
    "ax[3].plot(well, label=\"well\")\n",
    "ax[3].legend()"
   ]
  },
  {
   "cell_type": "code",
   "execution_count": null,
   "metadata": {
    "id": "-mQ9um7npr3V"
   },
   "outputs": [],
   "source": [
    "model = ps.Model(head, name=\"groundwater\")\n",
    "\n",
    "# Add the stres model for the net recharge\n",
    "rechargeModel = ps.RechargeModel(rain, evap, name=\"recharge\",\n",
    "                      rfunc=ps.Exponential, recharge=ps.rch.Linear())\n",
    "model.add_stressmodel(rechargeModel)\n",
    "model.solve(noise=True)\n",
    "model.plot(figsize=(10,4))\n",
    "\n",
    "# Let's store the simulated values to compare later\n",
    "simulation = model.simulate()\n",
    "residual = model.residuals()\n",
    "noise = model.noise()"
   ]
  },
  {
   "cell_type": "code",
   "execution_count": null,
   "metadata": {
    "id": "TnBvghcGqqxg"
   },
   "outputs": [],
   "source": [
    "# Add the stress model for the pumping well\n",
    "stressModel = ps.StressModel(well/1e6, rfunc=ps.Gamma, name=\"pumping well\", settings=\"well\", up=False)\n",
    "model.add_stressmodel(stressModel)\n",
    "\n",
    "# Solve the model and make a plot\n",
    "model.solve()\n",
    "axes = model.plots.decomposition(figsize=(10,8))\n",
    "axes[0].plot(simulation) # Add the previously simulated values to the plot\n"
   ]
  },
  {
   "cell_type": "code",
   "execution_count": null,
   "metadata": {
    "id": "EHqlMSazukNl"
   },
   "outputs": [],
   "source": [
    "#Analyze the residuals\n",
    "model.residuals().plot(figsize=(15,6))\n",
    "residual.plot()\n",
    "plt.legend([\"With well\", \"Without well\"])"
   ]
  },
  {
   "cell_type": "markdown",
   "metadata": {
    "id": "MqArsKEsd2S-"
   },
   "source": [
    "#**Related Articles:**\n",
    "\n",
    "> * [Pastas](https://analyticsindiamag.com/guide-to-pastas-a-python-framework-for-hydrogeological-time-series-analysis/)\n",
    "\n",
    "> * [Bitcoin Price Prediction](https://analyticsindiamag.com/guide-to-implementing-time-series-analysis-predicting-bitcoin-price-with-rnn/)\n",
    "\n",
    "> * [Time Series Forecasting with Darts](https://analyticsindiamag.com/hands-on-guide-to-darts-a-python-tool-for-time-series-forecasting/)\n",
    "\n",
    "> * [Guide to Time Series Forecasting with GluonTS](https://analyticsindiamag.com/gluonts-pytorchts-for-time-series-forecasting/)\n",
    "\n",
    "> * [Tensorflow Core](https://analyticsindiamag.com/time-series-forecasting-using-tensorflow-core/)\n",
    "\n",
    "> * [LSTM RNN on Foreign Exchange Rate Prediction](https://analyticsindiamag.com/foreign-exchange-rate-prediction-using-lstm-recurrent-neural-network/)\n",
    "\n"
   ]
  }
 ],
 "metadata": {
  "colab": {
   "collapsed_sections": [],
   "name": "3_Pastas.ipynb",
   "provenance": [
    {
     "file_id": "1cbevEdRJVhinGnTEO3WKks3sFdyKHYDv",
     "timestamp": 1621498938780
    }
   ]
  },
  "kernelspec": {
   "display_name": "Python 3",
   "name": "python3"
  }
 },
 "nbformat": 4,
 "nbformat_minor": 2
}
