{
 "cells": [
  {
   "cell_type": "markdown",
   "metadata": {
    "id": "5DGzUVejGxMD"
   },
   "source": [
    "# **Facebook’s Prophet**"
   ]
  },
  {
   "cell_type": "markdown",
   "metadata": {
    "id": "8IUZ4AzuG6XT"
   },
   "source": [
    "Prophet, a Facebook Research’s project, has marked its place among the tools used by ML and Data Science enthusiasts for time-series forecasting. Open-sourced on February 23, 2017 (blog), it uses an additive model to forecast time-series data. This article aims at providing an overview of the extensively used tool along with its Pythonic demonstration."
   ]
  },
  {
   "cell_type": "markdown",
   "metadata": {
    "id": "z5fkZoyKG8-3"
   },
   "source": [
    "To read about it more, please refere [this](https://analyticsindiamag.com/comprehensive-guide-to-facebooks-prophet-with-python-code/) article."
   ]
  },
  {
   "cell_type": "markdown",
   "metadata": {
    "id": "ooq47ELmHCnE"
   },
   "source": [
    "# **Code Implementation**"
   ]
  },
  {
   "cell_type": "markdown",
   "metadata": {
    "id": "s8SZQRXfHCg0"
   },
   "source": [
    "Install the fbprophet Python library."
   ]
  },
  {
   "cell_type": "code",
   "execution_count": null,
   "metadata": {},
   "outputs": [],
   "source": [
    "\n",
    "!python -m pip install pip --upgrade --user -q --no-warn-script-location\n",
    "!python -m pip install numpy pandas seaborn matplotlib scipy statsmodels sklearn tensorflow keras torch torchvision \\\n",
    "    tqdm scikit-image pmdarima pystan==2.19.1.1  --user -q --no-warn-script-location\n",
    "\n",
    "import IPython\n",
    "IPython.Application.instance().kernel.do_shutdown(True)\n"
   ]
  },
  {
   "cell_type": "code",
   "execution_count": null,
   "metadata": {},
   "outputs": [],
   "source": [
    "!pip install fbprophet --user -q"
   ]
  },
  {
   "cell_type": "code",
   "execution_count": null,
   "metadata": {},
   "outputs": [],
   "source": [
    "import IPython\n",
    "IPython.Application.instance().kernel.do_shutdown(True)"
   ]
  },
  {
   "cell_type": "markdown",
   "metadata": {
    "id": "QM-S4b5CHKnE"
   },
   "source": [
    "  Import required libraries"
   ]
  },
  {
   "cell_type": "code",
   "execution_count": null,
   "metadata": {
    "id": "HuGBK3xI7n8V"
   },
   "outputs": [],
   "source": [
    "import numpy as np\n",
    "import pandas as pd\n",
    "import matplotlib.pyplot as plt\n",
    "import seaborn as sns\n",
    "from fbprophet import Prophet"
   ]
  },
  {
   "cell_type": "markdown",
   "metadata": {
    "id": "0wg3HKSxHNmj"
   },
   "source": [
    "Load the avocado dataset."
   ]
  },
  {
   "cell_type": "markdown",
   "metadata": {
    "id": "EpAKwJSLHQTH"
   },
   "source": [
    "Display the initial records of the dataset."
   ]
  },
  {
   "cell_type": "code",
   "execution_count": null,
   "metadata": {
    "id": "oESzmGF07n8u"
   },
   "outputs": [],
   "source": [
    "df = pd.read_csv('https://raw.githubusercontent.com/chainhaus/pythoncourse/master/avocado.csv')\n",
    "df.head()"
   ]
  },
  {
   "cell_type": "markdown",
   "metadata": {
    "id": "EiYgbdM5HST0"
   },
   "source": [
    "Get information about columns, number of entries, data types etc. of the dataset."
   ]
  },
  {
   "cell_type": "code",
   "execution_count": null,
   "metadata": {
    "id": "V23MQEPz7n8y"
   },
   "outputs": [],
   "source": [
    "df.info()"
   ]
  },
  {
   "cell_type": "markdown",
   "metadata": {
    "id": "Y_qoshW3HVq0"
   },
   "source": [
    "Sort the DataFrame in ascending order of recorded date and create a new DataFrame having sorted records."
   ]
  },
  {
   "cell_type": "markdown",
   "metadata": {
    "id": "Ubk3eTiJHXgh"
   },
   "source": [
    "And display some initial records of the sorted data."
   ]
  },
  {
   "cell_type": "code",
   "execution_count": null,
   "metadata": {
    "id": "8UtZpg_t7n80"
   },
   "outputs": [],
   "source": [
    "df1 = df.sort_values(\"Date\")\n",
    "df1.head()"
   ]
  },
  {
   "cell_type": "markdown",
   "metadata": {
    "id": "TFx5IzTKHcbE"
   },
   "source": [
    "Plot the recorded prices and observe the trend."
   ]
  },
  {
   "cell_type": "markdown",
   "metadata": {
    "id": "AmlzcX2mHe97"
   },
   "source": [
    "First, get the minimum and maximum dates in the historical data."
   ]
  },
  {
   "cell_type": "code",
   "execution_count": null,
   "metadata": {
    "id": "VD2nV02a3lw3"
   },
   "outputs": [],
   "source": [
    "df1['Date'].min()"
   ]
  },
  {
   "cell_type": "code",
   "execution_count": null,
   "metadata": {
    "id": "-G5CAi3R3xNP"
   },
   "outputs": [],
   "source": [
    "df1['Date'].max()"
   ]
  },
  {
   "cell_type": "markdown",
   "metadata": {
    "id": "heloPX4QHgvA"
   },
   "source": [
    "These outputs show that we have records from January 2015 to March 2018.Plot the prices of that period."
   ]
  },
  {
   "cell_type": "code",
   "execution_count": null,
   "metadata": {
    "id": "ONmJ1Xxu7n82"
   },
   "outputs": [],
   "source": [
    "plt.figure(figsize=(15,10))\n",
    "plt.plot(df1['Date'],df1['AveragePrice'])\n"
   ]
  },
  {
   "cell_type": "markdown",
   "metadata": {
    "id": "q0XlrPzUHjZn"
   },
   "source": [
    "We can also observe region-wise distribution of the data."
   ]
  },
  {
   "cell_type": "code",
   "execution_count": null,
   "metadata": {
    "id": "fWUXHWXL7n83"
   },
   "outputs": [],
   "source": [
    "#region-wise distribution of data\n",
    "plt.figure(figsize=(30,10))\n",
    "sns.countplot(x='region',data=df1)\n",
    "plt.xticks(rotation=45)"
   ]
  },
  {
   "cell_type": "markdown",
   "metadata": {
    "id": "kdtYQpYfHmjM"
   },
   "source": [
    "The plot shows that the data is balanced i.e. equally distributed region-wise."
   ]
  },
  {
   "cell_type": "code",
   "execution_count": null,
   "metadata": {
    "id": "6BjoXtpK7n85"
   },
   "outputs": [],
   "source": [
    "#above plot shows that the data is balanced (equally distributed region-wise)"
   ]
  },
  {
   "cell_type": "markdown",
   "metadata": {
    "id": "wzV6JSTzHpcV"
   },
   "source": [
    "Know the year-wise count of records in the data."
   ]
  },
  {
   "cell_type": "code",
   "execution_count": null,
   "metadata": {
    "id": "pNmXPcIp7n86"
   },
   "outputs": [],
   "source": [
    "#year-wise distribution\n",
    "sns.countplot(x='year',data=df1)"
   ]
  },
  {
   "cell_type": "markdown",
   "metadata": {
    "id": "ETLsEHTQHtKJ"
   },
   "source": [
    "Prophet expects a DataFrame as input in which there are two columns specifically named as ‘ds’ and ‘y’. ‘ds’ is the datestamp column while ‘y’ is the numeric variable for which forecast is to be made.So we need to keep only the ‘Date’ and ‘AveragePrice’ columns of df1 DataFrame and rename them as ‘ds’ and ‘y’ respectively.\n",
    "\n",
    "Extract the two required columns"
   ]
  },
  {
   "cell_type": "code",
   "execution_count": null,
   "metadata": {
    "id": "UzDVlxkn7n87"
   },
   "outputs": [],
   "source": [
    "#only Date & AveragePrice cols are required\n",
    "df1 = df1[['Date','AveragePrice']]\n",
    "df1"
   ]
  },
  {
   "cell_type": "markdown",
   "metadata": {
    "id": "bsrja7_hHwu9"
   },
   "source": [
    "Rename the columns"
   ]
  },
  {
   "cell_type": "code",
   "execution_count": null,
   "metadata": {
    "id": "u78D68GS7n89"
   },
   "outputs": [],
   "source": [
    "#rename the cols as ds and y\n",
    "df1.columns = ['ds','y']\n",
    "df1.head()"
   ]
  },
  {
   "cell_type": "markdown",
   "metadata": {
    "id": "0MLU6knb7n8_"
   },
   "source": [
    "Make predictions"
   ]
  },
  {
   "cell_type": "markdown",
   "metadata": {
    "id": "rxOFIYM7H0pm"
   },
   "source": [
    "\n",
    "Forecast the future prices using Prophet."
   ]
  },
  {
   "cell_type": "markdown",
   "metadata": {
    "id": "4cnVheWZH4nT"
   },
   "source": [
    "Create a Prophet instance"
   ]
  },
  {
   "cell_type": "code",
   "execution_count": null,
   "metadata": {
    "id": "KjgaZqVt7n9A"
   },
   "outputs": [],
   "source": [
    "m = Prophet()\n",
    "#Fit the historical data\n",
    "m.fit(df1)"
   ]
  },
  {
   "cell_type": "markdown",
   "metadata": {
    "id": "XBnPzhZqH8Nv"
   },
   "source": [
    "Create a DataFrame with future dates for forecast. "
   ]
  },
  {
   "cell_type": "code",
   "execution_count": null,
   "metadata": {
    "id": "cPWyUZrX7n9B"
   },
   "outputs": [],
   "source": [
    "#predict about next 1 yr\n",
    "future = m.make_future_dataframe(periods=365)\n",
    "#df has dates till 25/3/2018 so 'future' will be till 25/3/2019\n",
    "\n",
    "#df1 has dates till 25/3/2018 so ‘future’ will be till 25/3/2019. Predict the prices for this new data having future dates as well\n",
    "forecast = m.predict(future)"
   ]
  },
  {
   "cell_type": "markdown",
   "metadata": {
    "id": "mA1OswH9IDgq"
   },
   "source": [
    "Get information on the ‘forecast’ DataFrame created by Prophet."
   ]
  },
  {
   "cell_type": "code",
   "execution_count": null,
   "metadata": {
    "id": "qwrBECPxOHq9"
   },
   "outputs": [],
   "source": [
    "forecast.info()"
   ]
  },
  {
   "cell_type": "markdown",
   "metadata": {
    "id": "U1ZggVpvIFo-"
   },
   "source": [
    "Display a few initial records of ‘forecast’."
   ]
  },
  {
   "cell_type": "code",
   "execution_count": null,
   "metadata": {
    "id": "RR13txVE7n9C"
   },
   "outputs": [],
   "source": [
    "forecast.head()"
   ]
  },
  {
   "cell_type": "markdown",
   "metadata": {
    "id": "7f3hTCMfII1L"
   },
   "source": [
    "Plot the data with recorded as well as forecasted prices."
   ]
  },
  {
   "cell_type": "code",
   "execution_count": null,
   "metadata": {
    "id": "zmm0QSgu7n9D"
   },
   "outputs": [],
   "source": [
    "figure = m.plot(forecast,xlabel='Date',ylabel='Price')"
   ]
  },
  {
   "cell_type": "markdown",
   "metadata": {
    "id": "5KP8oXRbILMo"
   },
   "source": [
    "Our original data had monthly records till February 2019. The blue-shaded portion of the  above plot shows the prices predicted for the next one year’s span, i.e. till February 2019.\n",
    "\n",
    "Actual recorded prices have been marked with black dots in the above plot, while the The blue non-linear line shows the average predicted prices."
   ]
  },
  {
   "cell_type": "markdown",
   "metadata": {
    "id": "pMCozFOvILHv"
   },
   "source": [
    "Plot the components of the forecast."
   ]
  },
  {
   "cell_type": "code",
   "execution_count": null,
   "metadata": {
    "id": "MFKmm__k7n9E"
   },
   "outputs": [],
   "source": [
    "figure = m.plot_components(forecast)"
   ]
  },
  {
   "cell_type": "markdown",
   "metadata": {
    "id": "HeZSiZ6GIRYT"
   },
   "source": [
    "The above forecast is made for all regions in general. We can make forecast for a specific region as follows:"
   ]
  },
  {
   "cell_type": "markdown",
   "metadata": {
    "id": "ZgnZOaEA7n9F"
   },
   "source": [
    "Region-specific prediction"
   ]
  },
  {
   "cell_type": "markdown",
   "metadata": {
    "id": "zR0WvSx0IUP6"
   },
   "source": [
    "Extract data of the required region from the original data."
   ]
  },
  {
   "cell_type": "code",
   "execution_count": null,
   "metadata": {
    "id": "9guKmI6Z7n9G"
   },
   "outputs": [],
   "source": [
    "df2 = df[df['region']=='West']\n",
    "df.head()"
   ]
  },
  {
   "cell_type": "markdown",
   "metadata": {
    "id": "6dFi3W9_IWnK"
   },
   "source": [
    "Sort the regional data in ascending order of dates."
   ]
  },
  {
   "cell_type": "code",
   "execution_count": null,
   "metadata": {
    "id": "C5XmWu9G7n9H"
   },
   "outputs": [],
   "source": [
    "df2 =  df2.sort_values('Date')\n",
    "df2.head()"
   ]
  },
  {
   "cell_type": "markdown",
   "metadata": {
    "id": "YPPL7GVMIYxv"
   },
   "source": [
    "Plot the recorded prices for that specific region."
   ]
  },
  {
   "cell_type": "code",
   "execution_count": null,
   "metadata": {
    "id": "f4PyyL-k7n9I"
   },
   "outputs": [],
   "source": [
    "plt.figure(figsize=(15,10))\n",
    "plt.plot(df2['Date'],df2['AveragePrice'])"
   ]
  },
  {
   "cell_type": "markdown",
   "metadata": {
    "id": "2ho4Ki3tIcqz"
   },
   "source": [
    "Extract the ‘Date’ and ‘AveragePrice’ column and rename them as ‘ds’ and ‘y’ respectively."
   ]
  },
  {
   "cell_type": "code",
   "execution_count": null,
   "metadata": {
    "id": "-SVNCOGy7n9J"
   },
   "outputs": [],
   "source": [
    "df2 = df2[['Date','AveragePrice']]\n",
    "\n",
    "#change col names to ds and y\n",
    "df2.columns = ['ds','y']\n",
    "df2.head()"
   ]
  },
  {
   "cell_type": "markdown",
   "metadata": {
    "id": "fIetha88Iehx"
   },
   "source": [
    "Create Prophet instance and fit the data"
   ]
  },
  {
   "cell_type": "code",
   "execution_count": null,
   "metadata": {
    "id": "VL8FIkhF7n9K"
   },
   "outputs": [],
   "source": [
    "#make prediction\n",
    "\n",
    "m = Prophet()\n",
    "m.fit(df2)"
   ]
  },
  {
   "cell_type": "markdown",
   "metadata": {
    "id": "ANvXOXiLIhSb"
   },
   "source": [
    "Forecast prices for the next one year for that specific region."
   ]
  },
  {
   "cell_type": "code",
   "execution_count": null,
   "metadata": {
    "id": "b9wtUqB57n9L"
   },
   "outputs": [],
   "source": [
    "#predict about next 1 yr\n",
    "future = m.make_future_dataframe(periods=365)\n",
    "forecast = m.predict(future)\n",
    "forecast"
   ]
  },
  {
   "cell_type": "markdown",
   "metadata": {
    "id": "QrQ0l-F5IjbK"
   },
   "source": [
    "Plot the recorded and forecasted prices for the region."
   ]
  },
  {
   "cell_type": "code",
   "execution_count": null,
   "metadata": {
    "id": "eSzMge547n9N"
   },
   "outputs": [],
   "source": [
    "figure = m.plot(forecast,xlabel='Date',ylabel='Price')"
   ]
  },
  {
   "cell_type": "code",
   "execution_count": null,
   "metadata": {
    "id": "oKcF3maY7n9O"
   },
   "outputs": [],
   "source": [
    "figure = m.plot_components(forecast)"
   ]
  },
  {
   "cell_type": "markdown",
   "metadata": {
    "id": "MqArsKEsd2S-"
   },
   "source": [
    "#**Related Articles:**\n",
    "\n",
    "> * [Facebook Prophet](https://analyticsindiamag.com/comprehensive-guide-to-facebooks-prophet-with-python-code/)\n",
    "\n",
    "> * [LSTM RNN for Stock Price Prediction](https://analyticsindiamag.com/hands-on-guide-to-lstm-recurrent-neural-network-for-stock-market-prediction/)\n",
    "\n",
    "> * [Date Time Parsing with Pandas](https://analyticsindiamag.com/datetime-parsing-with-pandas/)\n",
    "\n",
    "> * [Comparing ARIMA and LSTM RNN in Time Series](https://analyticsindiamag.com/comparing-arima-model-and-lstm-rnn-model-in-time-series-forecasting/)"
   ]
  }
 ],
 "metadata": {
  "colab": {
   "collapsed_sections": [],
   "name": "4_Facebook_Prophet_Time_Series_Prediction.ipynb",
   "provenance": [
    {
     "file_id": "1DPwtly8EGMwcdwv4hrSo9E3rMelZ-B3E",
     "timestamp": 1621504759415
    }
   ]
  },
  "kernelspec": {
   "display_name": "Python 3",
   "language": "python",
   "name": "python3"
  },
  "language_info": {
   "codemirror_mode": {
    "name": "ipython",
    "version": 3
   },
   "file_extension": ".py",
   "mimetype": "text/x-python",
   "name": "python",
   "nbconvert_exporter": "python",
   "pygments_lexer": "ipython3",
   "version": "3.7.3"
  }
 },
 "nbformat": 4,
 "nbformat_minor": 2
}
