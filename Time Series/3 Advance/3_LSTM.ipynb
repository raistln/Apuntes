{
 "cells": [
  {
   "cell_type": "code",
   "execution_count": null,
   "metadata": {},
   "outputs": [],
   "source": [
    "\n",
    "!python -m pip install pip --upgrade --user -q --no-warn-script-location\n",
    "!python -m pip install numpy pandas seaborn matplotlib scipy statsmodels sklearn tensorflow keras torch torchvision \\\n",
    "    tqdm scikit-image pmdarima arch --user -q --no-warn-script-location\n",
    "\n",
    "import IPython\n",
    "IPython.Application.instance().kernel.do_shutdown(True)\n"
   ]
  },
  {
   "cell_type": "code",
   "execution_count": null,
   "metadata": {
    "ExecuteTime": {
     "end_time": "2020-03-01T07:13:43.526358Z",
     "start_time": "2020-03-01T07:13:38.674307Z"
    },
    "executionInfo": {
     "elapsed": 2279,
     "status": "ok",
     "timestamp": 1621681559073,
     "user": {
      "displayName": "Krishna Rastogi",
      "photoUrl": "",
      "userId": "02350259800549833452"
     },
     "user_tz": -330
    },
    "id": "_7xrkPHZD7U6"
   },
   "outputs": [],
   "source": [
    "import pandas as pd\n",
    "import numpy as np\n",
    "import tensorflow as tf\n",
    "from sklearn import preprocessing\n",
    "import matplotlib.pyplot as plt\n",
    "tf.random.set_seed(123)\n",
    "np.random.seed(123)"
   ]
  },
  {
   "cell_type": "code",
   "execution_count": null,
   "metadata": {
    "ExecuteTime": {
     "end_time": "2020-03-01T07:13:43.612094Z",
     "start_time": "2020-03-01T07:13:43.528352Z"
    },
    "executionInfo": {
     "elapsed": 402,
     "status": "ok",
     "timestamp": 1621681563605,
     "user": {
      "displayName": "Krishna Rastogi",
      "photoUrl": "",
      "userId": "02350259800549833452"
     },
     "user_tz": -330
    },
    "id": "wdy8U6snD7VF"
   },
   "outputs": [],
   "source": [
    "df = pd.read_csv(r'https://api.covid19india.org/csv/latest/case_time_series.csv')"
   ]
  },
  {
   "cell_type": "code",
   "execution_count": null,
   "metadata": {
    "ExecuteTime": {
     "end_time": "2020-03-01T07:13:44.262354Z",
     "start_time": "2020-03-01T07:13:44.244400Z"
    },
    "colab": {
     "base_uri": "https://localhost:8080/",
     "height": 206
    },
    "executionInfo": {
     "elapsed": 19,
     "status": "ok",
     "timestamp": 1621681565161,
     "user": {
      "displayName": "Krishna Rastogi",
      "photoUrl": "",
      "userId": "02350259800549833452"
     },
     "user_tz": -330
    },
    "id": "ZoFrERi1D7VH",
    "outputId": "54d3c2b7-a29a-4c1c-cc80-da5366fadae6"
   },
   "outputs": [],
   "source": [
    "df.head()"
   ]
  },
  {
   "cell_type": "code",
   "execution_count": null,
   "metadata": {
    "ExecuteTime": {
     "end_time": "2020-03-01T07:13:46.587171Z",
     "start_time": "2020-03-01T07:13:46.547239Z"
    },
    "colab": {
     "base_uri": "https://localhost:8080/",
     "height": 300
    },
    "executionInfo": {
     "elapsed": 497,
     "status": "ok",
     "timestamp": 1621681568220,
     "user": {
      "displayName": "Krishna Rastogi",
      "photoUrl": "",
      "userId": "02350259800549833452"
     },
     "user_tz": -330
    },
    "id": "3460O1vUD7VL",
    "outputId": "b44bda27-80a4-4ca0-ab32-964e9e8ed57c"
   },
   "outputs": [],
   "source": [
    "df.describe()"
   ]
  },
  {
   "cell_type": "code",
   "execution_count": null,
   "metadata": {
    "ExecuteTime": {
     "end_time": "2020-03-01T07:13:49.447517Z",
     "start_time": "2020-03-01T07:13:49.435511Z"
    },
    "executionInfo": {
     "elapsed": 6,
     "status": "ok",
     "timestamp": 1621681571141,
     "user": {
      "displayName": "Krishna Rastogi",
      "photoUrl": "",
      "userId": "02350259800549833452"
     },
     "user_tz": -330
    },
    "id": "TVhHI7SPD7VN"
   },
   "outputs": [],
   "source": [
    "validate = df['Daily Confirmed'].tail(10)\n",
    "df.drop(df['Daily Confirmed'].tail(10).index,inplace=True)"
   ]
  },
  {
   "cell_type": "code",
   "execution_count": null,
   "metadata": {
    "ExecuteTime": {
     "end_time": "2020-03-01T07:13:50.571471Z",
     "start_time": "2020-03-01T07:13:50.563492Z"
    },
    "colab": {
     "base_uri": "https://localhost:8080/"
    },
    "executionInfo": {
     "elapsed": 414,
     "status": "ok",
     "timestamp": 1621681587063,
     "user": {
      "displayName": "Krishna Rastogi",
      "photoUrl": "",
      "userId": "02350259800549833452"
     },
     "user_tz": -330
    },
    "id": "MEhY3nhjD7VO",
    "outputId": "e2863e57-db09-4e29-c196-e2c5b72dc657"
   },
   "outputs": [],
   "source": [
    "uni_data = df['Daily Confirmed']\n",
    "df['Date_YMD'] =  pd.to_datetime(df['Date_YMD'])\n",
    "uni_data.index = df['Date_YMD']\n",
    "uni_data.head()"
   ]
  },
  {
   "cell_type": "code",
   "execution_count": null,
   "metadata": {
    "ExecuteTime": {
     "end_time": "2020-03-01T07:13:52.283889Z",
     "start_time": "2020-03-01T07:13:52.277939Z"
    },
    "executionInfo": {
     "elapsed": 414,
     "status": "ok",
     "timestamp": 1621681596276,
     "user": {
      "displayName": "Krishna Rastogi",
      "photoUrl": "",
      "userId": "02350259800549833452"
     },
     "user_tz": -330
    },
    "id": "y0qOvlBzD7VP"
   },
   "outputs": [],
   "source": [
    "uni_data = uni_data.values\n",
    "scaler_x = preprocessing.MinMaxScaler()\n",
    "x_rescaled = scaler_x.fit_transform(uni_data.reshape(-1, 1))"
   ]
  },
  {
   "cell_type": "code",
   "execution_count": null,
   "metadata": {
    "ExecuteTime": {
     "end_time": "2020-03-01T07:13:53.485675Z",
     "start_time": "2020-03-01T07:13:53.478694Z"
    },
    "executionInfo": {
     "elapsed": 391,
     "status": "ok",
     "timestamp": 1621681613976,
     "user": {
      "displayName": "Krishna Rastogi",
      "photoUrl": "",
      "userId": "02350259800549833452"
     },
     "user_tz": -330
    },
    "id": "-HaHipwND7VQ"
   },
   "outputs": [],
   "source": [
    "def custom_ts_univariate_data_prep(dataset, start, end, window, horizon):\n",
    "    X = []\n",
    "    y = []\n",
    "\n",
    "    start = start + window\n",
    "    if end is None:\n",
    "        end = len(dataset) - horizon\n",
    "\n",
    "    for i in range(start, end):\n",
    "        indicesx = range(i-window, i)\n",
    "        X.append(np.reshape(dataset[indicesx], (window, 1)))\n",
    "        indicesy = range(i, i+horizon)\n",
    "        y.append(dataset[indicesy])\n",
    "    return np.array(X), np.array(y)"
   ]
  },
  {
   "cell_type": "code",
   "execution_count": null,
   "metadata": {
    "ExecuteTime": {
     "end_time": "2020-03-01T07:13:55.962050Z",
     "start_time": "2020-03-01T07:13:54.856011Z"
    },
    "executionInfo": {
     "elapsed": 403,
     "status": "ok",
     "timestamp": 1621681628280,
     "user": {
      "displayName": "Krishna Rastogi",
      "photoUrl": "",
      "userId": "02350259800549833452"
     },
     "user_tz": -330
    },
    "id": "guCW2HpED7VR"
   },
   "outputs": [],
   "source": [
    "univar_hist_window = 48\n",
    "horizon = 10\n",
    "TRAIN_SPLIT = 400\n",
    "x_train_uni, y_train_uni = custom_ts_univariate_data_prep(x_rescaled, 0, TRAIN_SPLIT,univar_hist_window, horizon)\n",
    "x_val_uni, y_val_uni = custom_ts_univariate_data_prep(x_rescaled, TRAIN_SPLIT, None,univar_hist_window,horizon)"
   ]
  },
  {
   "cell_type": "code",
   "execution_count": null,
   "metadata": {
    "ExecuteTime": {
     "end_time": "2020-03-01T07:13:55.973018Z",
     "start_time": "2020-03-01T07:13:55.964044Z"
    },
    "colab": {
     "base_uri": "https://localhost:8080/"
    },
    "executionInfo": {
     "elapsed": 407,
     "status": "ok",
     "timestamp": 1621681631656,
     "user": {
      "displayName": "Krishna Rastogi",
      "photoUrl": "",
      "userId": "02350259800549833452"
     },
     "user_tz": -330
    },
    "id": "DsWJwIYXD7VS",
    "outputId": "16debf86-ec3d-41d1-f620-7f6d2a19defc"
   },
   "outputs": [],
   "source": [
    "print ('Single window of past history')\n",
    "print (x_train_uni[0])\n",
    "print ('\\n Target horizon')\n",
    "print (y_train_uni[0])"
   ]
  },
  {
   "cell_type": "code",
   "execution_count": null,
   "metadata": {
    "ExecuteTime": {
     "end_time": "2020-03-01T07:13:59.290175Z",
     "start_time": "2020-03-01T07:13:58.155178Z"
    },
    "executionInfo": {
     "elapsed": 5080,
     "status": "ok",
     "timestamp": 1621681660905,
     "user": {
      "displayName": "Krishna Rastogi",
      "photoUrl": "",
      "userId": "02350259800549833452"
     },
     "user_tz": -330
    },
    "id": "SKKiTEN8D7VW"
   },
   "outputs": [],
   "source": [
    "BATCH_SIZE = 20\n",
    "BUFFER_SIZE = 150\n",
    "\n",
    "train_univariate = tf.data.Dataset.from_tensor_slices((x_train_uni, y_train_uni))\n",
    "train_univariate = train_univariate.cache().shuffle(BUFFER_SIZE).batch(BATCH_SIZE).repeat()\n",
    "\n",
    "val_univariate = tf.data.Dataset.from_tensor_slices((x_val_uni, y_val_uni))\n",
    "val_univariate = val_univariate.batch(BATCH_SIZE).repeat()"
   ]
  },
  {
   "cell_type": "code",
   "execution_count": null,
   "metadata": {
    "ExecuteTime": {
     "end_time": "2020-03-01T07:14:16.892043Z",
     "start_time": "2020-03-01T07:14:16.274695Z"
    },
    "executionInfo": {
     "elapsed": 547,
     "status": "ok",
     "timestamp": 1621681683353,
     "user": {
      "displayName": "Krishna Rastogi",
      "photoUrl": "",
      "userId": "02350259800549833452"
     },
     "user_tz": -330
    },
    "id": "3xe9PN-gD7VX"
   },
   "outputs": [],
   "source": [
    "lstm_model = tf.keras.models.Sequential([\n",
    "    tf.keras.layers.LSTM(100, input_shape=x_train_uni.shape[-2:],return_sequences=True),\n",
    "    tf.keras.layers.Dropout(0.2),\n",
    "    tf.keras.layers.LSTM(units=50,return_sequences=False),\n",
    "    tf.keras.layers.Dropout(0.2),\n",
    "    tf.keras.layers.Dense(units=horizon),\n",
    "])\n",
    "lstm_model.compile(optimizer='adam', loss='mse')\n"
   ]
  },
  {
   "cell_type": "code",
   "execution_count": null,
   "metadata": {
    "ExecuteTime": {
     "end_time": "2020-03-01T07:16:24.451726Z",
     "start_time": "2020-03-01T07:14:19.239764Z"
    },
    "colab": {
     "base_uri": "https://localhost:8080/"
    },
    "executionInfo": {
     "elapsed": 45619,
     "status": "ok",
     "timestamp": 1621681747979,
     "user": {
      "displayName": "Krishna Rastogi",
      "photoUrl": "",
      "userId": "02350259800549833452"
     },
     "user_tz": -330
    },
    "id": "STHEheTED7VY",
    "outputId": "96865fb4-d655-43ff-886d-d166a15a403a"
   },
   "outputs": [],
   "source": [
    "EVALUATION_INTERVAL = 100\n",
    "EPOCHS = 150\n",
    "history = lstm_model.fit(train_univariate, epochs=EPOCHS,steps_per_epoch=EVALUATION_INTERVAL,validation_data=val_univariate, validation_steps=50,verbose =1,\n",
    "                              callbacks =[tf.keras.callbacks.EarlyStopping(monitor='val_loss', min_delta=0, patience=10, verbose=1, mode='min')])"
   ]
  },
  {
   "cell_type": "code",
   "execution_count": null,
   "metadata": {
    "ExecuteTime": {
     "end_time": "2020-03-01T07:16:36.484534Z",
     "start_time": "2020-03-01T07:16:36.478546Z"
    },
    "colab": {
     "base_uri": "https://localhost:8080/"
    },
    "executionInfo": {
     "elapsed": 8,
     "status": "ok",
     "timestamp": 1621681756346,
     "user": {
      "displayName": "Krishna Rastogi",
      "photoUrl": "",
      "userId": "02350259800549833452"
     },
     "user_tz": -330
    },
    "id": "7fcfLg64D7VZ",
    "outputId": "8c4465ab-b3bd-408f-fb5f-c4d02daf6016"
   },
   "outputs": [],
   "source": [
    "# Show the model architecture\n",
    "lstm_model.summary()"
   ]
  },
  {
   "cell_type": "code",
   "execution_count": null,
   "metadata": {
    "ExecuteTime": {
     "end_time": "2020-03-01T07:16:39.682012Z",
     "start_time": "2020-03-01T07:16:39.426657Z"
    },
    "colab": {
     "base_uri": "https://localhost:8080/",
     "height": 295
    },
    "executionInfo": {
     "elapsed": 757,
     "status": "ok",
     "timestamp": 1621681761332,
     "user": {
      "displayName": "Krishna Rastogi",
      "photoUrl": "",
      "userId": "02350259800549833452"
     },
     "user_tz": -330
    },
    "id": "90Z_rm5ZD7Va",
    "outputId": "fd52d0f8-2d69-4e52-b9e7-076dba71b05e"
   },
   "outputs": [],
   "source": [
    "plt.plot(history.history['loss'])\n",
    "plt.plot(history.history['val_loss'])\n",
    "plt.title('Model loss')\n",
    "plt.ylabel('loss')\n",
    "plt.xlabel('epoch')\n",
    "plt.legend(['train loss', 'validation loss'], loc='upper left')\n",
    "plt.rcParams[\"figure.figsize\"] = [16,9]\n",
    "plt.show()"
   ]
  },
  {
   "cell_type": "code",
   "execution_count": null,
   "metadata": {
    "ExecuteTime": {
     "end_time": "2020-03-01T07:16:41.190938Z",
     "start_time": "2020-03-01T07:16:41.186947Z"
    },
    "executionInfo": {
     "elapsed": 392,
     "status": "ok",
     "timestamp": 1621681782386,
     "user": {
      "displayName": "Krishna Rastogi",
      "photoUrl": "",
      "userId": "02350259800549833452"
     },
     "user_tz": -330
    },
    "id": "84Dc3337D7Vb"
   },
   "outputs": [],
   "source": [
    "uni = df['Daily Confirmed']\n",
    "validatehori = uni.tail(48)"
   ]
  },
  {
   "cell_type": "code",
   "execution_count": null,
   "metadata": {
    "ExecuteTime": {
     "end_time": "2020-03-01T07:16:42.932278Z",
     "start_time": "2020-03-01T07:16:42.927290Z"
    },
    "executionInfo": {
     "elapsed": 383,
     "status": "ok",
     "timestamp": 1621681784639,
     "user": {
      "displayName": "Krishna Rastogi",
      "photoUrl": "",
      "userId": "02350259800549833452"
     },
     "user_tz": -330
    },
    "id": "UeCPxyVSD7Vb"
   },
   "outputs": [],
   "source": [
    "validatehist = validatehori.values\n",
    "scaler_val = preprocessing.MinMaxScaler()\n",
    "val_rescaled = scaler_x.fit_transform(validatehist.reshape(-1, 1))"
   ]
  },
  {
   "cell_type": "code",
   "execution_count": null,
   "metadata": {
    "ExecuteTime": {
     "end_time": "2020-03-01T07:16:44.109130Z",
     "start_time": "2020-03-01T07:16:44.103144Z"
    },
    "executionInfo": {
     "elapsed": 7,
     "status": "ok",
     "timestamp": 1621681786230,
     "user": {
      "displayName": "Krishna Rastogi",
      "photoUrl": "",
      "userId": "02350259800549833452"
     },
     "user_tz": -330
    },
    "id": "uncyChJhD7Vc"
   },
   "outputs": [],
   "source": [
    "val_rescaled = val_rescaled.reshape((1, val_rescaled.shape[0], 1))"
   ]
  },
  {
   "cell_type": "code",
   "execution_count": null,
   "metadata": {
    "ExecuteTime": {
     "end_time": "2020-03-01T07:16:45.754759Z",
     "start_time": "2020-03-01T07:16:45.379757Z"
    },
    "executionInfo": {
     "elapsed": 778,
     "status": "ok",
     "timestamp": 1621681788663,
     "user": {
      "displayName": "Krishna Rastogi",
      "photoUrl": "",
      "userId": "02350259800549833452"
     },
     "user_tz": -330
    },
    "id": "B47DtvtHD7Vc"
   },
   "outputs": [],
   "source": [
    "Predicted_results = lstm_model.predict(val_rescaled)"
   ]
  },
  {
   "cell_type": "code",
   "execution_count": null,
   "metadata": {
    "ExecuteTime": {
     "end_time": "2020-03-01T07:16:46.424931Z",
     "start_time": "2020-03-01T07:16:46.418950Z"
    },
    "colab": {
     "base_uri": "https://localhost:8080/"
    },
    "executionInfo": {
     "elapsed": 399,
     "status": "ok",
     "timestamp": 1621681792044,
     "user": {
      "displayName": "Krishna Rastogi",
      "photoUrl": "",
      "userId": "02350259800549833452"
     },
     "user_tz": -330
    },
    "id": "8TCNA1jBD7Vc",
    "outputId": "b2ddc0f9-1577-4ce7-f71c-cccb153719a2"
   },
   "outputs": [],
   "source": [
    "Predicted_results"
   ]
  },
  {
   "cell_type": "code",
   "execution_count": null,
   "metadata": {
    "ExecuteTime": {
     "end_time": "2020-03-01T07:16:47.980769Z",
     "start_time": "2020-03-01T07:16:47.974786Z"
    },
    "executionInfo": {
     "elapsed": 401,
     "status": "ok",
     "timestamp": 1621681794954,
     "user": {
      "displayName": "Krishna Rastogi",
      "photoUrl": "",
      "userId": "02350259800549833452"
     },
     "user_tz": -330
    },
    "id": "DPdj1dijD7Vd"
   },
   "outputs": [],
   "source": [
    "Predicted_inver_res = scaler_x.inverse_transform(Predicted_results)"
   ]
  },
  {
   "cell_type": "code",
   "execution_count": null,
   "metadata": {
    "ExecuteTime": {
     "end_time": "2020-03-01T07:16:49.115767Z",
     "start_time": "2020-03-01T07:16:49.110745Z"
    },
    "colab": {
     "base_uri": "https://localhost:8080/"
    },
    "executionInfo": {
     "elapsed": 5,
     "status": "ok",
     "timestamp": 1621681796520,
     "user": {
      "displayName": "Krishna Rastogi",
      "photoUrl": "",
      "userId": "02350259800549833452"
     },
     "user_tz": -330
    },
    "id": "zIeLK-vrD7Vd",
    "outputId": "d3b754ba-2a2a-4cf1-801c-3edc4fb3ffdc"
   },
   "outputs": [],
   "source": [
    "Predicted_inver_res"
   ]
  },
  {
   "cell_type": "code",
   "execution_count": null,
   "metadata": {
    "ExecuteTime": {
     "end_time": "2020-03-01T07:16:50.674598Z",
     "start_time": "2020-03-01T07:16:50.642649Z"
    },
    "executionInfo": {
     "elapsed": 9,
     "status": "ok",
     "timestamp": 1621681800446,
     "user": {
      "displayName": "Krishna Rastogi",
      "photoUrl": "",
      "userId": "02350259800549833452"
     },
     "user_tz": -330
    },
    "id": "z19XjyiPD7Ve"
   },
   "outputs": [],
   "source": [
    "from sklearn import metrics\n",
    "def timeseries_evaluation_metrics_func(y_true, y_pred):\n",
    "    \n",
    "    def mean_absolute_percentage_error(y_true, y_pred): \n",
    "        y_true, y_pred = np.array(y_true), np.array(y_pred)\n",
    "        return np.mean(np.abs((y_true - y_pred) / y_true)) * 100\n",
    "    print('Evaluation metric results:-')\n",
    "    print(f'MSE is : {metrics.mean_squared_error(y_true, y_pred)}')\n",
    "    print(f'MAE is : {metrics.mean_absolute_error(y_true, y_pred)}')\n",
    "    print(f'RMSE is : {np.sqrt(metrics.mean_squared_error(y_true, y_pred))}')\n",
    "    print(f'MAPE is : {mean_absolute_percentage_error(y_true, y_pred)}')\n",
    "    print(f'R2 is : {metrics.r2_score(y_true, y_pred)}',end='\\n\\n')"
   ]
  },
  {
   "cell_type": "code",
   "execution_count": null,
   "metadata": {
    "ExecuteTime": {
     "end_time": "2020-03-01T07:16:52.247354Z",
     "start_time": "2020-03-01T07:16:52.239373Z"
    },
    "colab": {
     "base_uri": "https://localhost:8080/"
    },
    "executionInfo": {
     "elapsed": 13,
     "status": "ok",
     "timestamp": 1621681802427,
     "user": {
      "displayName": "Krishna Rastogi",
      "photoUrl": "",
      "userId": "02350259800549833452"
     },
     "user_tz": -330
    },
    "id": "OzsZflISD7Vf",
    "outputId": "b859387b-759e-4b9c-e2ee-0466907a8e19"
   },
   "outputs": [],
   "source": [
    "timeseries_evaluation_metrics_func(validate,Predicted_inver_res[0])"
   ]
  },
  {
   "cell_type": "code",
   "execution_count": null,
   "metadata": {
    "ExecuteTime": {
     "end_time": "2020-03-01T07:16:54.101394Z",
     "start_time": "2020-03-01T07:16:53.850065Z"
    },
    "colab": {
     "base_uri": "https://localhost:8080/",
     "height": 553
    },
    "executionInfo": {
     "elapsed": 67,
     "status": "ok",
     "timestamp": 1621681804757,
     "user": {
      "displayName": "Krishna Rastogi",
      "photoUrl": "",
      "userId": "02350259800549833452"
     },
     "user_tz": -330
    },
    "id": "Gh92BFEwD7Vf",
    "outputId": "6aa2a3c1-b126-42ae-932d-0dd482c070f3"
   },
   "outputs": [],
   "source": [
    "plt.plot( list(validate))\n",
    "plt.plot( list(Predicted_inver_res[0]))\n",
    "plt.title(\"Actual vs Predicted\")\n",
    "plt.ylabel(\"Daily Confirmed\")\n",
    "plt.legend(('Actual','predicted'))\n",
    "plt.show()"
   ]
  },
  {
   "cell_type": "code",
   "execution_count": null,
   "metadata": {
    "id": "L-CWM9JHkjWk"
   },
   "outputs": [],
   "source": []
  }
 ],
 "metadata": {
  "accelerator": "GPU",
  "colab": {
   "collapsed_sections": [],
   "name": "LSTM.ipynb",
   "provenance": [
    {
     "file_id": "1ph4xGEidXG-CXge9kGHWyL6OzWq1s-nk",
     "timestamp": 1621502189926
    }
   ]
  },
  "kernelspec": {
   "display_name": "Python 3",
   "language": "python",
   "name": "python3"
  },
  "language_info": {
   "codemirror_mode": {
    "name": "ipython",
    "version": 3
   },
   "file_extension": ".py",
   "mimetype": "text/x-python",
   "name": "python",
   "nbconvert_exporter": "python",
   "pygments_lexer": "ipython3",
   "version": "3.7.3"
  },
  "latex_envs": {
   "LaTeX_envs_menu_present": true,
   "autoclose": false,
   "autocomplete": true,
   "bibliofile": "biblio.bib",
   "cite_by": "apalike",
   "current_citInitial": 1,
   "eqLabelWithNumbers": true,
   "eqNumInitial": 1,
   "hotkeys": {
    "equation": "Ctrl-E",
    "itemize": "Ctrl-I"
   },
   "labels_anchors": false,
   "latex_user_defs": false,
   "report_style_numbering": false,
   "user_envs_cfg": false
  },
  "nbTranslate": {
   "displayLangs": [
    "*"
   ],
   "hotkey": "alt-t",
   "langInMainMenu": true,
   "sourceLang": "en",
   "targetLang": "fr",
   "useGoogleTranslate": true
  }
 },
 "nbformat": 4,
 "nbformat_minor": 2
}
