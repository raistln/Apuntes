{
 "cells": [
  {
   "cell_type": "markdown",
   "metadata": {
    "id": "bSV0b_IHV2Aw"
   },
   "source": [
    "# **Foreign Exchange Rate Prediction using LSTM RNN**"
   ]
  },
  {
   "cell_type": "markdown",
   "metadata": {
    "id": "eS6YTPdkVjAP"
   },
   "source": [
    "Data Science with a variety of powerful algorithms has a large scope of application in financial analytics. Many financial analytics problems are based on the time-series analysis where a machine learning model is required to predict the values on a time-series pattern. Deep learning models have been applied to a variety of difficult predictive analytics problems. Time series prediction is one of those difficult applications. LSTM Recurrent Neural Networks have proven their capability to outperform in the time series prediction problems. When it comes to learn from the previous patterns and predict the next pattern in the sequence, LSTM models are best in this task. \n",
    "\n",
    "In this practice session, we will implement the LSTM Recurrent Neural Network to predict the foreign exchange rate. The LSTM model will be trained to learn the series of previous observations and predict the next observation in the sequence. We will apply this model in predicting the foreign exchange rate of India."
   ]
  },
  {
   "cell_type": "markdown",
   "metadata": {
    "id": "EGfEl5HHV9YG"
   },
   "source": [
    "# **Implementation**"
   ]
  },
  {
   "cell_type": "markdown",
   "metadata": {
    "id": "RiKlMAMmV_56"
   },
   "source": [
    "### The Data Set"
   ]
  },
  {
   "cell_type": "markdown",
   "metadata": {
    "id": "ONv8ldJCWDG1"
   },
   "source": [
    "The data set in the experiment is taken from Kaggle that is publicly available as [Foreign Exchange Rates 2000-2019](https://www.kaggle.com/brunotly/foreign-exchange-rates-per-dollar-20002019). This dataset was originally generated on the Federal Reserve’s Download Data Program. It comprises the exchange rates of 22 countries including the Euro Area for 5217 days."
   ]
  },
  {
   "cell_type": "code",
   "execution_count": null,
   "metadata": {},
   "outputs": [],
   "source": [
    "\n",
    "!python -m pip install pip --upgrade --user -q --no-warn-script-location\n",
    "!python -m pip install numpy pandas seaborn matplotlib scipy statsmodels sklearn tensorflow keras torch torchvision \\\n",
    "    tqdm scikit-image pmdarima arch nsepy --user -q --no-warn-script-location\n",
    "\n",
    "import IPython\n",
    "IPython.Application.instance().kernel.do_shutdown(True)\n"
   ]
  },
  {
   "cell_type": "code",
   "execution_count": null,
   "metadata": {
    "colab": {
     "base_uri": "https://localhost:8080/"
    },
    "executionInfo": {
     "elapsed": 1097,
     "status": "ok",
     "timestamp": 1623404877593,
     "user": {
      "displayName": "Aishwarya Verma",
      "photoUrl": "https://lh3.googleusercontent.com/a-/AOh14GiG6BREocxcd5R6rzlQGApoCsYso7BQAh63eXNz6Q=s64",
      "userId": "06108390091304498033"
     },
     "user_tz": -330
    },
    "id": "CxhZxPHkeE9H",
    "outputId": "ba3c9b7e-1e7f-47c8-9ba6-09406cff5c59"
   },
   "outputs": [],
   "source": [
    "# !unzip FER_Prediction.zip"
   ]
  },
  {
   "cell_type": "markdown",
   "metadata": {
    "id": "b5EVSTyzd12G"
   },
   "source": [
    "### Code Implementation"
   ]
  },
  {
   "cell_type": "markdown",
   "metadata": {
    "id": "6nNcag3Xd_Iz"
   },
   "source": [
    "First of all, we will import the Python libraries to be required in this program."
   ]
  },
  {
   "cell_type": "code",
   "execution_count": null,
   "metadata": {
    "execution": {
     "iopub.execute_input": "2021-06-11T10:49:31.252943Z",
     "iopub.status.busy": "2021-06-11T10:49:31.252575Z",
     "iopub.status.idle": "2021-06-11T10:49:36.251417Z",
     "shell.execute_reply": "2021-06-11T10:49:36.250638Z",
     "shell.execute_reply.started": "2021-06-11T10:49:31.252909Z"
    },
    "id": "CGpgBRToPdB0"
   },
   "outputs": [],
   "source": [
    "#Importing Linraries\n",
    "import pandas as pd\n",
    "import numpy as np\n",
    "import matplotlib.pyplot as plt\n",
    "%matplotlib inline\n",
    "import tensorflow as tf\n",
    "import keras"
   ]
  },
  {
   "cell_type": "markdown",
   "metadata": {
    "id": "bjUZdgQGeDFC"
   },
   "source": [
    "We will read the data set in the program. "
   ]
  },
  {
   "cell_type": "code",
   "execution_count": null,
   "metadata": {
    "id": "vGZjQlgRVi5E"
   },
   "outputs": [],
   "source": [
    "#Reading dataset\n",
    "data_set = pd.read_csv('FER_Prediction/Foreign_Exchange_Rates.csv', na_values='ND')"
   ]
  },
  {
   "cell_type": "markdown",
   "metadata": {
    "id": "r5ohvNFWeSXV"
   },
   "source": [
    "Using the next lines of codes, we will see the shape of the data set and the head of the dataset."
   ]
  },
  {
   "cell_type": "code",
   "execution_count": null,
   "metadata": {
    "colab": {
     "base_uri": "https://localhost:8080/"
    },
    "executionInfo": {
     "elapsed": 6,
     "status": "ok",
     "timestamp": 1623412688240,
     "user": {
      "displayName": "Aishwarya Verma",
      "photoUrl": "https://lh3.googleusercontent.com/a-/AOh14GiG6BREocxcd5R6rzlQGApoCsYso7BQAh63eXNz6Q=s64",
      "userId": "06108390091304498033"
     },
     "user_tz": -330
    },
    "id": "GR49_a-3R3On",
    "outputId": "333b83f2-0066-4be5-c13a-eb2e1efc7877"
   },
   "outputs": [],
   "source": [
    "#Dataste Shape\n",
    "data_set.shape"
   ]
  },
  {
   "cell_type": "code",
   "execution_count": null,
   "metadata": {
    "colab": {
     "base_uri": "https://localhost:8080/"
    },
    "executionInfo": {
     "elapsed": 5,
     "status": "ok",
     "timestamp": 1623412688241,
     "user": {
      "displayName": "Aishwarya Verma",
      "photoUrl": "https://lh3.googleusercontent.com/a-/AOh14GiG6BREocxcd5R6rzlQGApoCsYso7BQAh63eXNz6Q=s64",
      "userId": "06108390091304498033"
     },
     "user_tz": -330
    },
    "id": "b3sKE7oX77Im",
    "outputId": "f7a5b193-6016-47c8-e29e-8c84704cb3f4"
   },
   "outputs": [],
   "source": [
    "#Checking null values\n",
    "data_set.isnull().sum()"
   ]
  },
  {
   "cell_type": "code",
   "execution_count": null,
   "metadata": {
    "id": "Qreq-jwb74Fx"
   },
   "outputs": [],
   "source": [
    "data_set.interpolate(inplace=True)"
   ]
  },
  {
   "cell_type": "code",
   "execution_count": null,
   "metadata": {
    "colab": {
     "base_uri": "https://localhost:8080/"
    },
    "executionInfo": {
     "elapsed": 1490,
     "status": "ok",
     "timestamp": 1623412701994,
     "user": {
      "displayName": "Aishwarya Verma",
      "photoUrl": "https://lh3.googleusercontent.com/a-/AOh14GiG6BREocxcd5R6rzlQGApoCsYso7BQAh63eXNz6Q=s64",
      "userId": "06108390091304498033"
     },
     "user_tz": -330
    },
    "id": "92CpfQpR79TO",
    "outputId": "8a93c239-cd13-47cc-abf9-d506c0a01e61"
   },
   "outputs": [],
   "source": [
    "#Checking null values\n",
    "data_set.isnull().sum()"
   ]
  },
  {
   "cell_type": "code",
   "execution_count": null,
   "metadata": {
    "colab": {
     "base_uri": "https://localhost:8080/",
     "height": 295
    },
    "executionInfo": {
     "elapsed": 29,
     "status": "ok",
     "timestamp": 1623412703738,
     "user": {
      "displayName": "Aishwarya Verma",
      "photoUrl": "https://lh3.googleusercontent.com/a-/AOh14GiG6BREocxcd5R6rzlQGApoCsYso7BQAh63eXNz6Q=s64",
      "userId": "06108390091304498033"
     },
     "user_tz": -330
    },
    "id": "hiWK25jpeWF6",
    "outputId": "1901bd92-1c33-43d5-98e6-4fc9317fa88a"
   },
   "outputs": [],
   "source": [
    "#Dataset head\n",
    "data_set.head()"
   ]
  },
  {
   "cell_type": "markdown",
   "metadata": {
    "id": "jo6tT0WSeYEn"
   },
   "source": [
    "We are interested in the foreign exchange rate in India. So, before proceeding further on this data, let us visualize it. Please note that we are not going to change indexing that is required to visualize the dates on the X-axis."
   ]
  },
  {
   "cell_type": "markdown",
   "metadata": {
    "id": "EAMwXMjheb5x"
   },
   "source": [
    "We will specify the data frame of our interest that consists of the foreign exchange rate of India.\n"
   ]
  },
  {
   "cell_type": "code",
   "execution_count": null,
   "metadata": {
    "colab": {
     "base_uri": "https://localhost:8080/",
     "height": 283
    },
    "execution": {
     "iopub.execute_input": "2021-06-11T10:49:40.730751Z",
     "iopub.status.busy": "2021-06-11T10:49:40.730432Z",
     "iopub.status.idle": "2021-06-11T10:49:40.903627Z",
     "shell.execute_reply": "2021-06-11T10:49:40.902466Z",
     "shell.execute_reply.started": "2021-06-11T10:49:40.730720Z"
    },
    "executionInfo": {
     "elapsed": 27,
     "status": "ok",
     "timestamp": 1623412703739,
     "user": {
      "displayName": "Aishwarya Verma",
      "photoUrl": "https://lh3.googleusercontent.com/a-/AOh14GiG6BREocxcd5R6rzlQGApoCsYso7BQAh63eXNz6Q=s64",
      "userId": "06108390091304498033"
     },
     "user_tz": -330
    },
    "id": "zxBUWPCgPzeM",
    "outputId": "3eac21c3-d4d6-4e8e-9594-11ceae5d0174"
   },
   "outputs": [],
   "source": [
    "#Plotting Indian Exchange rate\n",
    "plt.plot(data_set['INDIA - INDIAN RUPEE/US$'])"
   ]
  },
  {
   "cell_type": "code",
   "execution_count": null,
   "metadata": {
    "execution": {
     "iopub.execute_input": "2021-06-11T10:49:41.229426Z",
     "iopub.status.busy": "2021-06-11T10:49:41.229101Z",
     "iopub.status.idle": "2021-06-11T10:49:41.233564Z",
     "shell.execute_reply": "2021-06-11T10:49:41.232571Z",
     "shell.execute_reply.started": "2021-06-11T10:49:41.229395Z"
    },
    "id": "KchDR_yYP6EL"
   },
   "outputs": [],
   "source": [
    "#Data frame\n",
    "df = data_set['INDIA - INDIAN RUPEE/US$']"
   ]
  },
  {
   "cell_type": "code",
   "execution_count": null,
   "metadata": {
    "colab": {
     "base_uri": "https://localhost:8080/"
    },
    "execution": {
     "iopub.execute_input": "2021-06-11T10:49:41.543220Z",
     "iopub.status.busy": "2021-06-11T10:49:41.542899Z",
     "iopub.status.idle": "2021-06-11T10:49:41.551743Z",
     "shell.execute_reply": "2021-06-11T10:49:41.550768Z",
     "shell.execute_reply.started": "2021-06-11T10:49:41.543191Z"
    },
    "executionInfo": {
     "elapsed": 23,
     "status": "ok",
     "timestamp": 1623412703741,
     "user": {
      "displayName": "Aishwarya Verma",
      "photoUrl": "https://lh3.googleusercontent.com/a-/AOh14GiG6BREocxcd5R6rzlQGApoCsYso7BQAh63eXNz6Q=s64",
      "userId": "06108390091304498033"
     },
     "user_tz": -330
    },
    "id": "ny8NjFITQCHz",
    "outputId": "2989228e-d3e0-4a86-a5d3-c741f8508c49"
   },
   "outputs": [],
   "source": [
    "print(df)"
   ]
  },
  {
   "cell_type": "code",
   "execution_count": null,
   "metadata": {
    "execution": {
     "iopub.execute_input": "2021-06-11T10:49:42.561555Z",
     "iopub.status.busy": "2021-06-11T10:49:42.561229Z",
     "iopub.status.idle": "2021-06-11T10:49:42.565755Z",
     "shell.execute_reply": "2021-06-11T10:49:42.564841Z",
     "shell.execute_reply.started": "2021-06-11T10:49:42.561525Z"
    },
    "id": "R2BO97fBQM6C"
   },
   "outputs": [],
   "source": [
    "#Preprocessing data set\n",
    "df = np.array(df).reshape(-1,1)"
   ]
  },
  {
   "cell_type": "code",
   "execution_count": null,
   "metadata": {
    "colab": {
     "base_uri": "https://localhost:8080/"
    },
    "execution": {
     "iopub.execute_input": "2021-06-11T10:49:43.009072Z",
     "iopub.status.busy": "2021-06-11T10:49:43.008698Z",
     "iopub.status.idle": "2021-06-11T10:49:43.015108Z",
     "shell.execute_reply": "2021-06-11T10:49:43.014022Z",
     "shell.execute_reply.started": "2021-06-11T10:49:43.009041Z"
    },
    "executionInfo": {
     "elapsed": 22,
     "status": "ok",
     "timestamp": 1623412703743,
     "user": {
      "displayName": "Aishwarya Verma",
      "photoUrl": "https://lh3.googleusercontent.com/a-/AOh14GiG6BREocxcd5R6rzlQGApoCsYso7BQAh63eXNz6Q=s64",
      "userId": "06108390091304498033"
     },
     "user_tz": -330
    },
    "id": "RfVzi2rhS_J7",
    "outputId": "cb42818d-8e75-4047-844c-6696ebd68b5d"
   },
   "outputs": [],
   "source": [
    "df"
   ]
  },
  {
   "cell_type": "code",
   "execution_count": null,
   "metadata": {
    "execution": {
     "iopub.execute_input": "2021-06-11T10:49:43.501596Z",
     "iopub.status.busy": "2021-06-11T10:49:43.501280Z",
     "iopub.status.idle": "2021-06-11T10:49:44.110604Z",
     "shell.execute_reply": "2021-06-11T10:49:44.109862Z",
     "shell.execute_reply.started": "2021-06-11T10:49:43.501563Z"
    },
    "id": "6jhJwcG1QQMD"
   },
   "outputs": [],
   "source": [
    "from sklearn.preprocessing import MinMaxScaler\n",
    "scaler = MinMaxScaler()"
   ]
  },
  {
   "cell_type": "code",
   "execution_count": null,
   "metadata": {
    "execution": {
     "iopub.execute_input": "2021-06-11T10:49:44.113052Z",
     "iopub.status.busy": "2021-06-11T10:49:44.112664Z",
     "iopub.status.idle": "2021-06-11T10:49:44.118291Z",
     "shell.execute_reply": "2021-06-11T10:49:44.117450Z",
     "shell.execute_reply.started": "2021-06-11T10:49:44.113015Z"
    },
    "id": "W31WJ9-SQfki"
   },
   "outputs": [],
   "source": [
    "df = scaler.fit_transform(df)"
   ]
  },
  {
   "cell_type": "code",
   "execution_count": null,
   "metadata": {
    "colab": {
     "base_uri": "https://localhost:8080/"
    },
    "execution": {
     "iopub.execute_input": "2021-06-11T10:49:44.269600Z",
     "iopub.status.busy": "2021-06-11T10:49:44.269319Z",
     "iopub.status.idle": "2021-06-11T10:49:44.276275Z",
     "shell.execute_reply": "2021-06-11T10:49:44.275075Z",
     "shell.execute_reply.started": "2021-06-11T10:49:44.269573Z"
    },
    "executionInfo": {
     "elapsed": 20,
     "status": "ok",
     "timestamp": 1623412703745,
     "user": {
      "displayName": "Aishwarya Verma",
      "photoUrl": "https://lh3.googleusercontent.com/a-/AOh14GiG6BREocxcd5R6rzlQGApoCsYso7BQAh63eXNz6Q=s64",
      "userId": "06108390091304498033"
     },
     "user_tz": -330
    },
    "id": "CBKGP4mRQS-L",
    "outputId": "6791439c-0d7e-4612-89f7-792bc436a72e"
   },
   "outputs": [],
   "source": [
    "df"
   ]
  },
  {
   "cell_type": "code",
   "execution_count": null,
   "metadata": {
    "colab": {
     "base_uri": "https://localhost:8080/"
    },
    "execution": {
     "iopub.execute_input": "2021-06-11T10:49:44.506820Z",
     "iopub.status.busy": "2021-06-11T10:49:44.506491Z",
     "iopub.status.idle": "2021-06-11T10:49:44.515335Z",
     "shell.execute_reply": "2021-06-11T10:49:44.514536Z",
     "shell.execute_reply.started": "2021-06-11T10:49:44.506788Z"
    },
    "executionInfo": {
     "elapsed": 19,
     "status": "ok",
     "timestamp": 1623412703746,
     "user": {
      "displayName": "Aishwarya Verma",
      "photoUrl": "https://lh3.googleusercontent.com/a-/AOh14GiG6BREocxcd5R6rzlQGApoCsYso7BQAh63eXNz6Q=s64",
      "userId": "06108390091304498033"
     },
     "user_tz": -330
    },
    "id": "d5ygb4hhQYFz",
    "outputId": "4cefc7f6-b920-41a0-a264-5e9f7971bb82"
   },
   "outputs": [],
   "source": [
    "#Training and test sets\n",
    "train = df[:4800]\n",
    "test = df[4800:]\n",
    "\n",
    "print(train.shape)\n",
    "print(test.shape)"
   ]
  },
  {
   "cell_type": "code",
   "execution_count": null,
   "metadata": {
    "execution": {
     "iopub.execute_input": "2021-06-11T10:49:44.705018Z",
     "iopub.status.busy": "2021-06-11T10:49:44.704670Z",
     "iopub.status.idle": "2021-06-11T10:49:44.713414Z",
     "shell.execute_reply": "2021-06-11T10:49:44.712748Z",
     "shell.execute_reply.started": "2021-06-11T10:49:44.704986Z"
    },
    "id": "bfxk8KwfQnYi"
   },
   "outputs": [],
   "source": [
    "def get_data(data, look_back):\n",
    "  datax, datay = [],[]\n",
    "  for i in range(len(data)-look_back-1):\n",
    "    datax.append(data[i:(i+look_back),0])\n",
    "    datay.append(data[i+look_back,0])\n",
    "  return np.array(datax) , np.array(datay)"
   ]
  },
  {
   "cell_type": "code",
   "execution_count": null,
   "metadata": {
    "colab": {
     "base_uri": "https://localhost:8080/"
    },
    "execution": {
     "iopub.execute_input": "2021-06-11T10:49:45.203782Z",
     "iopub.status.busy": "2021-06-11T10:49:45.203451Z",
     "iopub.status.idle": "2021-06-11T10:49:45.219835Z",
     "shell.execute_reply": "2021-06-11T10:49:45.218790Z",
     "shell.execute_reply.started": "2021-06-11T10:49:45.203749Z"
    },
    "executionInfo": {
     "elapsed": 19,
     "status": "ok",
     "timestamp": 1623412703748,
     "user": {
      "displayName": "Aishwarya Verma",
      "photoUrl": "https://lh3.googleusercontent.com/a-/AOh14GiG6BREocxcd5R6rzlQGApoCsYso7BQAh63eXNz6Q=s64",
      "userId": "06108390091304498033"
     },
     "user_tz": -330
    },
    "id": "UtWsYOBeQqq6",
    "outputId": "3395d328-33e9-4c9b-e0bf-767c5f8f70c7"
   },
   "outputs": [],
   "source": [
    "look_back = 1\n",
    "\n",
    "x_train , y_train = get_data(train, look_back)\n",
    "print(x_train.shape)\n",
    "print(y_train.shape)"
   ]
  },
  {
   "cell_type": "code",
   "execution_count": null,
   "metadata": {
    "colab": {
     "base_uri": "https://localhost:8080/"
    },
    "execution": {
     "iopub.execute_input": "2021-06-11T10:49:45.606822Z",
     "iopub.status.busy": "2021-06-11T10:49:45.606492Z",
     "iopub.status.idle": "2021-06-11T10:49:45.613548Z",
     "shell.execute_reply": "2021-06-11T10:49:45.612614Z",
     "shell.execute_reply.started": "2021-06-11T10:49:45.606791Z"
    },
    "executionInfo": {
     "elapsed": 20,
     "status": "ok",
     "timestamp": 1623412705375,
     "user": {
      "displayName": "Aishwarya Verma",
      "photoUrl": "https://lh3.googleusercontent.com/a-/AOh14GiG6BREocxcd5R6rzlQGApoCsYso7BQAh63eXNz6Q=s64",
      "userId": "06108390091304498033"
     },
     "user_tz": -330
    },
    "id": "QmQ4aTwAQuQz",
    "outputId": "187b55fd-c567-469c-a410-49e2ff6cc9dc"
   },
   "outputs": [],
   "source": [
    "x_test , y_test = get_data(test,look_back)\n",
    "print(x_test.shape)\n",
    "print(y_test.shape)"
   ]
  },
  {
   "cell_type": "code",
   "execution_count": null,
   "metadata": {
    "execution": {
     "iopub.execute_input": "2021-06-11T10:49:46.094323Z",
     "iopub.status.busy": "2021-06-11T10:49:46.094006Z",
     "iopub.status.idle": "2021-06-11T10:49:46.101507Z",
     "shell.execute_reply": "2021-06-11T10:49:46.098489Z",
     "shell.execute_reply.started": "2021-06-11T10:49:46.094293Z"
    },
    "id": "OzM72hLXQ8oS"
   },
   "outputs": [],
   "source": [
    "#Processing train and test sets for LSTM model\n",
    "x_train = x_train.reshape(x_train.shape[0],x_train.shape[1], 1)\n",
    "x_test = x_test.reshape(x_test.shape[0],x_test.shape[1], 1)"
   ]
  },
  {
   "cell_type": "code",
   "execution_count": null,
   "metadata": {
    "colab": {
     "base_uri": "https://localhost:8080/"
    },
    "execution": {
     "iopub.execute_input": "2021-06-11T10:49:46.407986Z",
     "iopub.status.busy": "2021-06-11T10:49:46.407639Z",
     "iopub.status.idle": "2021-06-11T10:49:46.413640Z",
     "shell.execute_reply": "2021-06-11T10:49:46.412792Z",
     "shell.execute_reply.started": "2021-06-11T10:49:46.407956Z"
    },
    "executionInfo": {
     "elapsed": 17,
     "status": "ok",
     "timestamp": 1623412705376,
     "user": {
      "displayName": "Aishwarya Verma",
      "photoUrl": "https://lh3.googleusercontent.com/a-/AOh14GiG6BREocxcd5R6rzlQGApoCsYso7BQAh63eXNz6Q=s64",
      "userId": "06108390091304498033"
     },
     "user_tz": -330
    },
    "id": "G-B3ojD_Q_9r",
    "outputId": "062aaad9-81c4-40e4-be26-039c7cda61a7"
   },
   "outputs": [],
   "source": [
    "print(x_train.shape)\n",
    "print(x_test.shape)\n"
   ]
  },
  {
   "cell_type": "markdown",
   "metadata": {
    "id": "QOZV79dUegRu"
   },
   "source": [
    "In the next step, we will preprocess the training and test data for the LSTM network. The model will be trained on the sequence of the previous value and the current value."
   ]
  },
  {
   "cell_type": "code",
   "execution_count": null,
   "metadata": {
    "execution": {
     "iopub.execute_input": "2021-06-11T10:49:46.619383Z",
     "iopub.status.busy": "2021-06-11T10:49:46.619076Z",
     "iopub.status.idle": "2021-06-11T10:49:46.625218Z",
     "shell.execute_reply": "2021-06-11T10:49:46.622483Z",
     "shell.execute_reply.started": "2021-06-11T10:49:46.619354Z"
    },
    "id": "CwlLkaaWUnG3"
   },
   "outputs": [],
   "source": [
    "#Defining the LSTM model\n",
    "from keras.models import Sequential\n",
    "from keras.layers import Dense,LSTM\n"
   ]
  },
  {
   "cell_type": "code",
   "execution_count": null,
   "metadata": {
    "execution": {
     "iopub.execute_input": "2021-06-11T10:49:47.399484Z",
     "iopub.status.busy": "2021-06-11T10:49:47.399147Z",
     "iopub.status.idle": "2021-06-11T10:49:49.505946Z",
     "shell.execute_reply": "2021-06-11T10:49:49.505212Z",
     "shell.execute_reply.started": "2021-06-11T10:49:47.399453Z"
    },
    "id": "ADqH_jV4RE1C"
   },
   "outputs": [],
   "source": [
    "n_features=x_train.shape[1]\n",
    "model=Sequential()\n",
    "model.add(LSTM(100,activation='relu',input_shape=(1,1)))\n",
    "model.add(Dense(n_features))"
   ]
  },
  {
   "cell_type": "code",
   "execution_count": null,
   "metadata": {
    "colab": {
     "base_uri": "https://localhost:8080/"
    },
    "execution": {
     "iopub.execute_input": "2021-06-11T10:49:49.507963Z",
     "iopub.status.busy": "2021-06-11T10:49:49.507591Z",
     "iopub.status.idle": "2021-06-11T10:49:49.517669Z",
     "shell.execute_reply": "2021-06-11T10:49:49.516120Z",
     "shell.execute_reply.started": "2021-06-11T10:49:49.507926Z"
    },
    "executionInfo": {
     "elapsed": 14,
     "status": "ok",
     "timestamp": 1623412705377,
     "user": {
      "displayName": "Aishwarya Verma",
      "photoUrl": "https://lh3.googleusercontent.com/a-/AOh14GiG6BREocxcd5R6rzlQGApoCsYso7BQAh63eXNz6Q=s64",
      "userId": "06108390091304498033"
     },
     "user_tz": -330
    },
    "id": "lbd3pItfnhRU",
    "outputId": "d5afec08-4be1-4d25-ee97-0dea7a77c868"
   },
   "outputs": [],
   "source": [
    "model.summary()"
   ]
  },
  {
   "cell_type": "code",
   "execution_count": null,
   "metadata": {
    "execution": {
     "iopub.execute_input": "2021-06-11T10:49:49.519524Z",
     "iopub.status.busy": "2021-06-11T10:49:49.519020Z",
     "iopub.status.idle": "2021-06-11T10:49:49.535137Z",
     "shell.execute_reply": "2021-06-11T10:49:49.534366Z",
     "shell.execute_reply.started": "2021-06-11T10:49:49.519488Z"
    },
    "id": "UtqjJA0wRHPq"
   },
   "outputs": [],
   "source": [
    "#Compiling\n",
    "model.compile(optimizer='adam', loss = 'mse')"
   ]
  },
  {
   "cell_type": "code",
   "execution_count": null,
   "metadata": {
    "colab": {
     "base_uri": "https://localhost:8080/"
    },
    "execution": {
     "iopub.execute_input": "2021-06-11T10:49:49.537230Z",
     "iopub.status.busy": "2021-06-11T10:49:49.536579Z"
    },
    "executionInfo": {
     "elapsed": 37841,
     "status": "ok",
     "timestamp": 1623412743208,
     "user": {
      "displayName": "Aishwarya Verma",
      "photoUrl": "https://lh3.googleusercontent.com/a-/AOh14GiG6BREocxcd5R6rzlQGApoCsYso7BQAh63eXNz6Q=s64",
      "userId": "06108390091304498033"
     },
     "user_tz": -330
    },
    "id": "rQmkEljuRJ5K",
    "outputId": "8908140b-964f-47ae-e942-92ca328a8b2b"
   },
   "outputs": [],
   "source": [
    "#Training\n",
    "model.fit(x_train,y_train, epochs = 5, batch_size=1)"
   ]
  },
  {
   "cell_type": "markdown",
   "metadata": {
    "id": "xwrEZIi6e1Xg"
   },
   "source": [
    "### Foreign Exchange Rate Prediction"
   ]
  },
  {
   "cell_type": "markdown",
   "metadata": {
    "id": "unZchuQ-e3rZ"
   },
   "source": [
    "Once the LSTM model is trained, we will apply it to predict the future sequences for the test data."
   ]
  },
  {
   "cell_type": "code",
   "execution_count": null,
   "metadata": {
    "colab": {
     "base_uri": "https://localhost:8080/"
    },
    "executionInfo": {
     "elapsed": 8,
     "status": "ok",
     "timestamp": 1623412743577,
     "user": {
      "displayName": "Aishwarya Verma",
      "photoUrl": "https://lh3.googleusercontent.com/a-/AOh14GiG6BREocxcd5R6rzlQGApoCsYso7BQAh63eXNz6Q=s64",
      "userId": "06108390091304498033"
     },
     "user_tz": -330
    },
    "id": "W0NpJaSLRNuR",
    "outputId": "2256412a-db88-4ebe-a093-fe0a5b716a4c"
   },
   "outputs": [],
   "source": [
    "#Prediction using the trained model\n",
    "scaler.scale_"
   ]
  },
  {
   "cell_type": "code",
   "execution_count": null,
   "metadata": {
    "colab": {
     "base_uri": "https://localhost:8080/"
    },
    "executionInfo": {
     "elapsed": 969,
     "status": "ok",
     "timestamp": 1623412744542,
     "user": {
      "displayName": "Aishwarya Verma",
      "photoUrl": "https://lh3.googleusercontent.com/a-/AOh14GiG6BREocxcd5R6rzlQGApoCsYso7BQAh63eXNz6Q=s64",
      "userId": "06108390091304498033"
     },
     "user_tz": -330
    },
    "id": "onJFn6KyRQfa",
    "outputId": "8849d53f-d7fe-4b80-ca4f-94ad0a9f79e4"
   },
   "outputs": [],
   "source": [
    "y_pred = model.predict(x_test)\n",
    "y_pred = scaler.inverse_transform(y_pred)\n",
    "print(y_pred[:10])"
   ]
  },
  {
   "cell_type": "code",
   "execution_count": null,
   "metadata": {
    "colab": {
     "base_uri": "https://localhost:8080/"
    },
    "executionInfo": {
     "elapsed": 16,
     "status": "ok",
     "timestamp": 1623412744543,
     "user": {
      "displayName": "Aishwarya Verma",
      "photoUrl": "https://lh3.googleusercontent.com/a-/AOh14GiG6BREocxcd5R6rzlQGApoCsYso7BQAh63eXNz6Q=s64",
      "userId": "06108390091304498033"
     },
     "user_tz": -330
    },
    "id": "eyfbYKohRUVB",
    "outputId": "10afaab0-36fa-4870-cde2-8e78d2330985"
   },
   "outputs": [],
   "source": [
    "#Processing test shape\n",
    "y_test = np.array(y_test).reshape(-1,1)\n",
    "y_test = scaler.inverse_transform(y_test)\n",
    "print(y_test[:10])"
   ]
  },
  {
   "cell_type": "code",
   "execution_count": null,
   "metadata": {
    "colab": {
     "base_uri": "https://localhost:8080/",
     "height": 354
    },
    "executionInfo": {
     "elapsed": 15,
     "status": "ok",
     "timestamp": 1623412744545,
     "user": {
      "displayName": "Aishwarya Verma",
      "photoUrl": "https://lh3.googleusercontent.com/a-/AOh14GiG6BREocxcd5R6rzlQGApoCsYso7BQAh63eXNz6Q=s64",
      "userId": "06108390091304498033"
     },
     "user_tz": -330
    },
    "id": "Ly_SbnZ3RZxS",
    "outputId": "67750de5-98b1-4849-bd31-562dd37f5f36"
   },
   "outputs": [],
   "source": [
    "#Visualizing the results\n",
    "plt.figure(figsize=(10,5))\n",
    "plt.title('Foreign Exchange Rate of India')\n",
    "plt.plot(y_test , label = 'Actual', color = 'g')\n",
    "plt.plot(y_pred , label = 'Predicted', color = 'r')\n",
    "plt.legend()"
   ]
  },
  {
   "cell_type": "code",
   "execution_count": null,
   "metadata": {
    "colab": {
     "base_uri": "https://localhost:8080/"
    },
    "executionInfo": {
     "elapsed": 11,
     "status": "ok",
     "timestamp": 1623412744546,
     "user": {
      "displayName": "Aishwarya Verma",
      "photoUrl": "https://lh3.googleusercontent.com/a-/AOh14GiG6BREocxcd5R6rzlQGApoCsYso7BQAh63eXNz6Q=s64",
      "userId": "06108390091304498033"
     },
     "user_tz": -330
    },
    "id": "mM6fn5-CokFc",
    "outputId": "6ad67ca2-ebef-4813-9427-86e4f2b97455"
   },
   "outputs": [],
   "source": [
    "from sklearn.metrics import mean_squared_error\n",
    "mean_squared_error(y_test, y_pred)"
   ]
  },
  {
   "cell_type": "markdown",
   "metadata": {
    "id": "MqArsKEsd2S-"
   },
   "source": [
    "#**Related Articles:**\n",
    "\n",
    "> * [LSTM RNN on Foreign Exchange Rate Prediction](https://analyticsindiamag.com/foreign-exchange-rate-prediction-using-lstm-recurrent-neural-network/)\n",
    "\n",
    "> * [Pyflux](https://analyticsindiamag.com/pyflux-guide-python-library-for-time-series-analysis-and-prediction/)\n",
    "\n",
    "> * [Atspy](https://analyticsindiamag.com/hands-on-guide-to-atspy-for-automating-the-time-series-forecasting/)\n",
    "\n",
    "> * [AutoTS](https://analyticsindiamag.com/hands-on-guide-to-autots-effective-model-selection-for-multiple-time-series/)\n",
    "\n",
    "> * [Sktime](https://analyticsindiamag.com/sktime-library/)\n",
    "\n",
    "> * [Time Series Forecasting with Streamlit](https://analyticsindiamag.com/how-to-deploy-time-series-forecasting-models-using-streamlit/)"
   ]
  },
  {
   "cell_type": "code",
   "execution_count": null,
   "metadata": {
    "id": "NPdMCYL98Ms-"
   },
   "outputs": [],
   "source": []
  }
 ],
 "metadata": {
  "colab": {
   "authorship_tag": "ABX9TyOcg0uZ3LmVq8Scf9aB5BCA",
   "name": "Foreign_Exchange_Rate_Prediction_with_LSTM_RNN.ipynb",
   "provenance": [],
   "toc_visible": true
  },
  "kernelspec": {
   "display_name": "Python 3",
   "name": "python3"
  },
  "language_info": {
   "name": "python"
  }
 },
 "nbformat": 4,
 "nbformat_minor": 2
}
