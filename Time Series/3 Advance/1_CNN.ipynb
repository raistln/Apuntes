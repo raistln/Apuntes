{
 "cells": [
  {
   "cell_type": "code",
   "execution_count": null,
   "metadata": {},
   "outputs": [],
   "source": [
    "\n",
    "!python -m pip install pip --upgrade --user -q --no-warn-script-location\n",
    "!python -m pip install numpy pandas seaborn matplotlib scipy statsmodels sklearn tensorflow keras torch torchvision \\\n",
    "    tqdm scikit-image pmdarima arch --user -q --no-warn-script-location\n",
    "\n",
    "import IPython\n",
    "IPython.Application.instance().kernel.do_shutdown(True)\n"
   ]
  },
  {
   "cell_type": "code",
   "execution_count": null,
   "metadata": {
    "ExecuteTime": {
     "end_time": "2020-03-01T07:30:29.048869Z",
     "start_time": "2020-03-01T07:30:23.960484Z"
    },
    "executionInfo": {
     "elapsed": 6,
     "status": "ok",
     "timestamp": 1621680922057,
     "user": {
      "displayName": "Krishna Rastogi",
      "photoUrl": "",
      "userId": "02350259800549833452"
     },
     "user_tz": -330
    },
    "id": "gWoh8x3T4Xp-"
   },
   "outputs": [],
   "source": [
    "import pandas as pd\n",
    "import numpy as np\n",
    "import tensorflow as tf\n",
    "from sklearn import preprocessing\n",
    "import matplotlib.pyplot as plt\n",
    "from tensorflow.keras.models import Sequential\n",
    "from tensorflow.keras.layers import Dense\n",
    "from tensorflow.keras.layers import Flatten\n",
    "from tensorflow.keras.layers import Conv1D\n",
    "from tensorflow.keras.layers import MaxPool1D\n",
    "from tensorflow.keras.layers import Dropout\n",
    "tf.random.set_seed(123)\n",
    "np.random.seed(123)"
   ]
  },
  {
   "cell_type": "code",
   "execution_count": null,
   "metadata": {
    "ExecuteTime": {
     "end_time": "2020-03-01T07:30:29.130651Z",
     "start_time": "2020-03-01T07:30:29.050864Z"
    },
    "executionInfo": {
     "elapsed": 104,
     "status": "ok",
     "timestamp": 1621680922812,
     "user": {
      "displayName": "Krishna Rastogi",
      "photoUrl": "",
      "userId": "02350259800549833452"
     },
     "user_tz": -330
    },
    "id": "BiEl3n8_4XqK"
   },
   "outputs": [],
   "source": [
    "df = pd.read_csv(r'https://api.covid19india.org/csv/latest/case_time_series.csv')"
   ]
  },
  {
   "cell_type": "code",
   "execution_count": null,
   "metadata": {
    "ExecuteTime": {
     "end_time": "2020-03-01T06:38:44.097749Z",
     "start_time": "2020-03-01T06:38:44.076805Z"
    },
    "colab": {
     "base_uri": "https://localhost:8080/",
     "height": 206
    },
    "executionInfo": {
     "elapsed": 86,
     "status": "ok",
     "timestamp": 1621680922816,
     "user": {
      "displayName": "Krishna Rastogi",
      "photoUrl": "",
      "userId": "02350259800549833452"
     },
     "user_tz": -330
    },
    "id": "JQ2JCmvx4XqL",
    "outputId": "9219135d-8f94-4562-a7ab-cd16e057fd1a"
   },
   "outputs": [],
   "source": [
    "df.head()"
   ]
  },
  {
   "cell_type": "code",
   "execution_count": null,
   "metadata": {
    "ExecuteTime": {
     "end_time": "2020-03-01T07:30:41.954341Z",
     "start_time": "2020-03-01T07:30:41.911458Z"
    },
    "colab": {
     "base_uri": "https://localhost:8080/",
     "height": 300
    },
    "executionInfo": {
     "elapsed": 37,
     "status": "ok",
     "timestamp": 1621680922820,
     "user": {
      "displayName": "Krishna Rastogi",
      "photoUrl": "",
      "userId": "02350259800549833452"
     },
     "user_tz": -330
    },
    "id": "cM7KNO_z4XqP",
    "outputId": "efd9e55e-3af6-4785-a020-013c056bb851"
   },
   "outputs": [],
   "source": [
    "df.describe()"
   ]
  },
  {
   "cell_type": "code",
   "execution_count": null,
   "metadata": {
    "ExecuteTime": {
     "end_time": "2020-03-01T07:30:43.787439Z",
     "start_time": "2020-03-01T07:30:43.750533Z"
    },
    "colab": {
     "base_uri": "https://localhost:8080/",
     "height": 300
    },
    "executionInfo": {
     "elapsed": 45,
     "status": "ok",
     "timestamp": 1621680923511,
     "user": {
      "displayName": "Krishna Rastogi",
      "photoUrl": "",
      "userId": "02350259800549833452"
     },
     "user_tz": -330
    },
    "id": "PRZp8Wf34XqQ",
    "outputId": "3754da46-4643-472d-a83e-673d61e7ed2c"
   },
   "outputs": [],
   "source": [
    "df.describe()"
   ]
  },
  {
   "cell_type": "code",
   "execution_count": null,
   "metadata": {
    "colab": {
     "base_uri": "https://localhost:8080/"
    },
    "executionInfo": {
     "elapsed": 32,
     "status": "ok",
     "timestamp": 1621680924546,
     "user": {
      "displayName": "Krishna Rastogi",
      "photoUrl": "",
      "userId": "02350259800549833452"
     },
     "user_tz": -330
    },
    "id": "vQP4V7FS54Tk",
    "outputId": "d9bbf8a3-e670-4329-a11d-d73469f7a9e3"
   },
   "outputs": [],
   "source": [
    "len(df.index)"
   ]
  },
  {
   "cell_type": "markdown",
   "metadata": {
    "id": "J2FlP73efLWz"
   },
   "source": [
    "df.tail() This function returns last n rows from the object based on position."
   ]
  },
  {
   "cell_type": "code",
   "execution_count": null,
   "metadata": {
    "colab": {
     "base_uri": "https://localhost:8080/",
     "height": 363
    },
    "executionInfo": {
     "elapsed": 17,
     "status": "ok",
     "timestamp": 1621680925710,
     "user": {
      "displayName": "Krishna Rastogi",
      "photoUrl": "",
      "userId": "02350259800549833452"
     },
     "user_tz": -330
    },
    "id": "ieEfdoKYeqKy",
    "outputId": "6763a711-3868-4f41-f8e1-03cc22c4551f"
   },
   "outputs": [],
   "source": [
    "df.tail(10)"
   ]
  },
  {
   "cell_type": "code",
   "execution_count": null,
   "metadata": {
    "ExecuteTime": {
     "end_time": "2020-03-01T07:30:49.484191Z",
     "start_time": "2020-03-01T07:30:49.474217Z"
    },
    "executionInfo": {
     "elapsed": 8,
     "status": "ok",
     "timestamp": 1621680926263,
     "user": {
      "displayName": "Krishna Rastogi",
      "photoUrl": "",
      "userId": "02350259800549833452"
     },
     "user_tz": -330
    },
    "id": "n__bsejI4XqT"
   },
   "outputs": [],
   "source": [
    "validate = df['Daily Confirmed'].tail(10)\n",
    "df.drop(df['Daily Confirmed'].tail(10).index,inplace=True)\n",
    "df['Date_YMD'] =  pd.to_datetime(df['Date_YMD'])"
   ]
  },
  {
   "cell_type": "code",
   "execution_count": null,
   "metadata": {
    "ExecuteTime": {
     "end_time": "2020-03-01T07:30:53.856492Z",
     "start_time": "2020-03-01T07:30:53.846519Z"
    },
    "colab": {
     "base_uri": "https://localhost:8080/"
    },
    "executionInfo": {
     "elapsed": 19,
     "status": "ok",
     "timestamp": 1621680926796,
     "user": {
      "displayName": "Krishna Rastogi",
      "photoUrl": "",
      "userId": "02350259800549833452"
     },
     "user_tz": -330
    },
    "id": "q8ePrkRu4XqT",
    "outputId": "8abc7f78-7e0f-4e93-e5a7-ceb5cbbe8fd4"
   },
   "outputs": [],
   "source": [
    "uni_data = df['Daily Confirmed']\n",
    "uni_data.index = df['Date_YMD']\n",
    "uni_data.head()"
   ]
  },
  {
   "cell_type": "code",
   "execution_count": null,
   "metadata": {
    "ExecuteTime": {
     "end_time": "2020-03-01T07:30:55.814294Z",
     "start_time": "2020-03-01T07:30:55.809264Z"
    },
    "executionInfo": {
     "elapsed": 3,
     "status": "ok",
     "timestamp": 1621680927244,
     "user": {
      "displayName": "Krishna Rastogi",
      "photoUrl": "",
      "userId": "02350259800549833452"
     },
     "user_tz": -330
    },
    "id": "RJzx-h0h4XqV"
   },
   "outputs": [],
   "source": [
    "uni_data = uni_data.values\n",
    "scaler_x = preprocessing.MinMaxScaler()\n",
    "x_rescaled = scaler_x.fit_transform(uni_data.reshape(-1, 1))"
   ]
  },
  {
   "cell_type": "code",
   "execution_count": null,
   "metadata": {
    "ExecuteTime": {
     "end_time": "2020-03-01T07:30:56.472493Z",
     "start_time": "2020-03-01T07:30:56.465511Z"
    },
    "executionInfo": {
     "elapsed": 10,
     "status": "ok",
     "timestamp": 1621680927655,
     "user": {
      "displayName": "Krishna Rastogi",
      "photoUrl": "",
      "userId": "02350259800549833452"
     },
     "user_tz": -330
    },
    "id": "yfUE5pWY4XqW"
   },
   "outputs": [],
   "source": [
    "def custom_ts_univariate_data_prep(dataset, start, end, window, horizon):\n",
    "  X = []\n",
    "  y = []\n",
    "\n",
    "  start = start + window\n",
    "  if end is None:\n",
    "    end = len(dataset) - horizon\n",
    "\n",
    "  for i in range(start, end):\n",
    "    indicesx = range(i-window, i)\n",
    "    X.append(np.reshape(dataset[indicesx], (window, 1)))\n",
    "    indicesy = range(i,i+horizon)\n",
    "    y.append(dataset[indicesy])\n",
    "  return np.array(X), np.array(y)"
   ]
  },
  {
   "cell_type": "code",
   "execution_count": null,
   "metadata": {
    "ExecuteTime": {
     "end_time": "2020-03-01T07:31:05.749666Z",
     "start_time": "2020-03-01T07:31:04.549878Z"
    },
    "executionInfo": {
     "elapsed": 510,
     "status": "ok",
     "timestamp": 1621680946121,
     "user": {
      "displayName": "Krishna Rastogi",
      "photoUrl": "",
      "userId": "02350259800549833452"
     },
     "user_tz": -330
    },
    "id": "HTk9f-9p4XqX"
   },
   "outputs": [],
   "source": [
    "univar_hist_window = 48\n",
    "horizon = 10\n",
    "TRAIN_SPLIT = 300\n",
    "x_train_uni, y_train_uni = custom_ts_univariate_data_prep(x_rescaled, 0, TRAIN_SPLIT,univar_hist_window, horizon)\n",
    "x_val_uni, y_val_uni = custom_ts_univariate_data_prep(x_rescaled, TRAIN_SPLIT, None,univar_hist_window,horizon)"
   ]
  },
  {
   "cell_type": "code",
   "execution_count": null,
   "metadata": {
    "ExecuteTime": {
     "end_time": "2020-03-01T07:31:06.586428Z",
     "start_time": "2020-03-01T07:31:06.574459Z"
    },
    "colab": {
     "base_uri": "https://localhost:8080/"
    },
    "executionInfo": {
     "elapsed": 11,
     "status": "ok",
     "timestamp": 1621680947928,
     "user": {
      "displayName": "Krishna Rastogi",
      "photoUrl": "",
      "userId": "02350259800549833452"
     },
     "user_tz": -330
    },
    "id": "lMcJw7EJ4XqZ",
    "outputId": "e9ddb98a-3a14-428c-b403-c7d18829d1df"
   },
   "outputs": [],
   "source": [
    "print ('Single window of past history')\n",
    "print (x_train_uni[0])\n",
    "print ('\\n Target horizon')\n",
    "print (y_train_uni[0])"
   ]
  },
  {
   "cell_type": "code",
   "execution_count": null,
   "metadata": {
    "ExecuteTime": {
     "end_time": "2020-03-01T07:31:19.262509Z",
     "start_time": "2020-03-01T07:31:18.113585Z"
    },
    "executionInfo": {
     "elapsed": 418,
     "status": "ok",
     "timestamp": 1621681017577,
     "user": {
      "displayName": "Krishna Rastogi",
      "photoUrl": "",
      "userId": "02350259800549833452"
     },
     "user_tz": -330
    },
    "id": "zXu-UqaP4Xqa"
   },
   "outputs": [],
   "source": [
    "BATCH_SIZE = 25\n",
    "BUFFER_SIZE = 150\n",
    "\n",
    "train_univariate = tf.data.Dataset.from_tensor_slices((x_train_uni, y_train_uni))\n",
    "train_univariate = train_univariate.cache().shuffle(BUFFER_SIZE).batch(BATCH_SIZE).repeat()\n",
    "\n",
    "val_univariate = tf.data.Dataset.from_tensor_slices((x_val_uni, y_val_uni))\n",
    "val_univariate = val_univariate.batch(BATCH_SIZE).repeat()"
   ]
  },
  {
   "cell_type": "code",
   "execution_count": null,
   "metadata": {
    "ExecuteTime": {
     "end_time": "2020-03-01T07:31:28.701255Z",
     "start_time": "2020-03-01T07:31:28.569609Z"
    },
    "executionInfo": {
     "elapsed": 11,
     "status": "ok",
     "timestamp": 1621681019468,
     "user": {
      "displayName": "Krishna Rastogi",
      "photoUrl": "",
      "userId": "02350259800549833452"
     },
     "user_tz": -330
    },
    "id": "-Xnb7b2h4Xqb"
   },
   "outputs": [],
   "source": [
    "model = Sequential()\n",
    "model.add(Conv1D(filters=64, kernel_size=3, activation='relu', input_shape=(x_train_uni.shape[1], x_train_uni.shape[2])))\n",
    "model.add(MaxPool1D(pool_size=2))\n",
    "model.add(Dropout(0.2))\n",
    "model.add(Flatten())\n",
    "model.add(Dense(30, activation='relu'))\n",
    "model.add(Dropout(0.2))\n",
    "model.add(Dense(horizon))\n",
    "model.compile(optimizer='adam', loss='mse')"
   ]
  },
  {
   "cell_type": "code",
   "execution_count": null,
   "metadata": {
    "ExecuteTime": {
     "end_time": "2020-03-01T07:32:41.978185Z",
     "start_time": "2020-03-01T07:31:52.497582Z"
    },
    "colab": {
     "base_uri": "https://localhost:8080/"
    },
    "executionInfo": {
     "elapsed": 10237,
     "status": "ok",
     "timestamp": 1621681102826,
     "user": {
      "displayName": "Krishna Rastogi",
      "photoUrl": "",
      "userId": "02350259800549833452"
     },
     "user_tz": -330
    },
    "id": "b5W3k7zP4Xqc",
    "outputId": "d064ebbf-50c4-4b6f-fe59-cb96163e5bb4",
    "scrolled": true
   },
   "outputs": [],
   "source": [
    "EVALUATION_INTERVAL = 48\n",
    "EPOCHS = 150\n",
    "history = model.fit(train_univariate, epochs=EPOCHS,steps_per_epoch=EVALUATION_INTERVAL,validation_data=val_univariate, validation_steps=50,verbose =1,\n",
    "                              callbacks =[tf.keras.callbacks.EarlyStopping(monitor='val_loss', min_delta=0, patience=10, verbose=1, mode='min')])"
   ]
  },
  {
   "cell_type": "code",
   "execution_count": null,
   "metadata": {
    "ExecuteTime": {
     "end_time": "2020-03-01T07:33:15.897425Z",
     "start_time": "2020-03-01T07:33:15.889447Z"
    },
    "colab": {
     "base_uri": "https://localhost:8080/"
    },
    "executionInfo": {
     "elapsed": 450,
     "status": "ok",
     "timestamp": 1621681117298,
     "user": {
      "displayName": "Krishna Rastogi",
      "photoUrl": "",
      "userId": "02350259800549833452"
     },
     "user_tz": -330
    },
    "id": "y1IJRJNb4Xqe",
    "outputId": "df569f40-2193-4dba-944b-4734e8ad2d4d"
   },
   "outputs": [],
   "source": [
    "# Show the model architecture\n",
    "model.summary()"
   ]
  },
  {
   "cell_type": "code",
   "execution_count": null,
   "metadata": {
    "ExecuteTime": {
     "end_time": "2020-03-01T07:33:19.686287Z",
     "start_time": "2020-03-01T07:33:19.428978Z"
    },
    "colab": {
     "base_uri": "https://localhost:8080/",
     "height": 295
    },
    "executionInfo": {
     "elapsed": 513,
     "status": "ok",
     "timestamp": 1621681132135,
     "user": {
      "displayName": "Krishna Rastogi",
      "photoUrl": "",
      "userId": "02350259800549833452"
     },
     "user_tz": -330
    },
    "id": "sx_6Y_UN4Xqe",
    "outputId": "d2dba47e-cbe1-43e7-a126-00f7ae057222"
   },
   "outputs": [],
   "source": [
    "plt.plot(history.history['loss'])\n",
    "plt.plot(history.history['val_loss'])\n",
    "plt.title('Model loss')\n",
    "plt.ylabel('loss')\n",
    "plt.xlabel('epoch')\n",
    "plt.legend(['train loss', 'validation loss'], loc='upper left')\n",
    "plt.rcParams[\"figure.figsize\"] = [16,9]\n",
    "plt.show()"
   ]
  },
  {
   "cell_type": "code",
   "execution_count": null,
   "metadata": {
    "ExecuteTime": {
     "end_time": "2020-03-01T07:33:21.545313Z",
     "start_time": "2020-03-01T07:33:21.540328Z"
    },
    "executionInfo": {
     "elapsed": 445,
     "status": "ok",
     "timestamp": 1621681163276,
     "user": {
      "displayName": "Krishna Rastogi",
      "photoUrl": "",
      "userId": "02350259800549833452"
     },
     "user_tz": -330
    },
    "id": "jVEamt_e4Xqf"
   },
   "outputs": [],
   "source": [
    "uni = df['Daily Confirmed']\n",
    "validatehori = uni.tail(48)"
   ]
  },
  {
   "cell_type": "code",
   "execution_count": null,
   "metadata": {
    "ExecuteTime": {
     "end_time": "2020-03-01T07:33:22.995433Z",
     "start_time": "2020-03-01T07:33:22.990445Z"
    },
    "executionInfo": {
     "elapsed": 7,
     "status": "ok",
     "timestamp": 1621681164960,
     "user": {
      "displayName": "Krishna Rastogi",
      "photoUrl": "",
      "userId": "02350259800549833452"
     },
     "user_tz": -330
    },
    "id": "cuOIpprp4Xqf"
   },
   "outputs": [],
   "source": [
    "validatehist = validatehori.values\n",
    "scaler_val = preprocessing.MinMaxScaler()\n",
    "val_rescaled = scaler_x.fit_transform(validatehist.reshape(-1, 1))"
   ]
  },
  {
   "cell_type": "code",
   "execution_count": null,
   "metadata": {
    "ExecuteTime": {
     "end_time": "2020-03-01T07:33:24.819589Z",
     "start_time": "2020-03-01T07:33:24.815563Z"
    },
    "executionInfo": {
     "elapsed": 3,
     "status": "ok",
     "timestamp": 1621681166663,
     "user": {
      "displayName": "Krishna Rastogi",
      "photoUrl": "",
      "userId": "02350259800549833452"
     },
     "user_tz": -330
    },
    "id": "PRBPXahu4Xqg"
   },
   "outputs": [],
   "source": [
    "val_rescaled = val_rescaled.reshape((1, val_rescaled.shape[0], 1))"
   ]
  },
  {
   "cell_type": "code",
   "execution_count": null,
   "metadata": {
    "ExecuteTime": {
     "end_time": "2020-03-01T07:33:26.154977Z",
     "start_time": "2020-03-01T07:33:26.041284Z"
    },
    "executionInfo": {
     "elapsed": 657,
     "status": "ok",
     "timestamp": 1621681168843,
     "user": {
      "displayName": "Krishna Rastogi",
      "photoUrl": "",
      "userId": "02350259800549833452"
     },
     "user_tz": -330
    },
    "id": "OsLeT9vB4Xqg"
   },
   "outputs": [],
   "source": [
    "Predicted_results = model.predict(val_rescaled)"
   ]
  },
  {
   "cell_type": "code",
   "execution_count": null,
   "metadata": {
    "ExecuteTime": {
     "end_time": "2020-03-01T07:33:27.996052Z",
     "start_time": "2020-03-01T07:33:27.990068Z"
    },
    "colab": {
     "base_uri": "https://localhost:8080/"
    },
    "executionInfo": {
     "elapsed": 8,
     "status": "ok",
     "timestamp": 1621681170216,
     "user": {
      "displayName": "Krishna Rastogi",
      "photoUrl": "",
      "userId": "02350259800549833452"
     },
     "user_tz": -330
    },
    "id": "f1Vf3hEG4Xqg",
    "outputId": "f2fda900-aa32-4c00-8085-07c99b52ff0a"
   },
   "outputs": [],
   "source": [
    "Predicted_results"
   ]
  },
  {
   "cell_type": "code",
   "execution_count": null,
   "metadata": {
    "ExecuteTime": {
     "end_time": "2020-03-01T07:33:33.252986Z",
     "start_time": "2020-03-01T07:33:33.248998Z"
    },
    "executionInfo": {
     "elapsed": 2,
     "status": "ok",
     "timestamp": 1621681173757,
     "user": {
      "displayName": "Krishna Rastogi",
      "photoUrl": "",
      "userId": "02350259800549833452"
     },
     "user_tz": -330
    },
    "id": "LG1DyQhL4Xqh"
   },
   "outputs": [],
   "source": [
    "Predicted_inver_res = scaler_x.inverse_transform(Predicted_results)"
   ]
  },
  {
   "cell_type": "code",
   "execution_count": null,
   "metadata": {
    "ExecuteTime": {
     "end_time": "2020-03-01T07:33:34.180505Z",
     "start_time": "2020-03-01T07:33:34.173525Z"
    },
    "colab": {
     "base_uri": "https://localhost:8080/"
    },
    "executionInfo": {
     "elapsed": 7,
     "status": "ok",
     "timestamp": 1621681176067,
     "user": {
      "displayName": "Krishna Rastogi",
      "photoUrl": "",
      "userId": "02350259800549833452"
     },
     "user_tz": -330
    },
    "id": "hZ7yCuOJ4Xqh",
    "outputId": "1beb2fb5-3603-4658-fd0d-c9934544c3f4"
   },
   "outputs": [],
   "source": [
    "Predicted_inver_res"
   ]
  },
  {
   "cell_type": "code",
   "execution_count": null,
   "metadata": {
    "ExecuteTime": {
     "end_time": "2020-03-01T07:33:41.025191Z",
     "start_time": "2020-03-01T07:33:40.989287Z"
    },
    "executionInfo": {
     "elapsed": 416,
     "status": "ok",
     "timestamp": 1621681204755,
     "user": {
      "displayName": "Krishna Rastogi",
      "photoUrl": "",
      "userId": "02350259800549833452"
     },
     "user_tz": -330
    },
    "id": "ol0BSzOR4Xqi"
   },
   "outputs": [],
   "source": [
    "from sklearn import metrics\n",
    "def timeseries_evaluation_metrics_func(y_true, y_pred):\n",
    "    \n",
    "    def mean_absolute_percentage_error(y_true, y_pred): \n",
    "        y_true, y_pred = np.array(y_true), np.array(y_pred)\n",
    "        return np.mean(np.abs((y_true - y_pred) / y_true)) * 100\n",
    "    print('Evaluation metric results:-')\n",
    "    print(f'MSE is : {metrics.mean_squared_error(y_true, y_pred)}')\n",
    "    print(f'MAE is : {metrics.mean_absolute_error(y_true, y_pred)}')\n",
    "    print(f'RMSE is : {np.sqrt(metrics.mean_squared_error(y_true, y_pred))}')\n",
    "    print(f'MAPE is : {mean_absolute_percentage_error(y_true, y_pred)}')\n",
    "    print(f'R2 is : {metrics.r2_score(y_true, y_pred)}',end='\\n\\n')"
   ]
  },
  {
   "cell_type": "code",
   "execution_count": null,
   "metadata": {
    "ExecuteTime": {
     "end_time": "2020-03-01T07:33:43.836666Z",
     "start_time": "2020-03-01T07:33:43.828688Z"
    },
    "colab": {
     "base_uri": "https://localhost:8080/"
    },
    "executionInfo": {
     "elapsed": 834,
     "status": "ok",
     "timestamp": 1621681210968,
     "user": {
      "displayName": "Krishna Rastogi",
      "photoUrl": "",
      "userId": "02350259800549833452"
     },
     "user_tz": -330
    },
    "id": "0SlloOEL4Xqi",
    "outputId": "ebf7f06e-3b82-4a56-8ccc-9d7ef0f4bda5"
   },
   "outputs": [],
   "source": [
    "timeseries_evaluation_metrics_func(validate,Predicted_inver_res[0])"
   ]
  },
  {
   "cell_type": "code",
   "execution_count": null,
   "metadata": {
    "ExecuteTime": {
     "end_time": "2020-03-01T07:33:47.330318Z",
     "start_time": "2020-03-01T07:33:47.089961Z"
    },
    "colab": {
     "base_uri": "https://localhost:8080/",
     "height": 553
    },
    "executionInfo": {
     "elapsed": 901,
     "status": "ok",
     "timestamp": 1621681220390,
     "user": {
      "displayName": "Krishna Rastogi",
      "photoUrl": "",
      "userId": "02350259800549833452"
     },
     "user_tz": -330
    },
    "id": "K5yDKPCM4Xqj",
    "outputId": "67d0615f-32b1-4e5e-de4b-828b741ab4ad"
   },
   "outputs": [],
   "source": [
    "plt.plot( list(validate))\n",
    "plt.plot( list(Predicted_inver_res[0]))\n",
    "plt.title(\"Actual vs Predicted\")\n",
    "plt.ylabel(\"Traffic volume\")\n",
    "plt.legend(('Actual','predicted'))\n",
    "plt.show()"
   ]
  },
  {
   "cell_type": "code",
   "execution_count": null,
   "metadata": {
    "id": "y9QL8vt24Xqj"
   },
   "outputs": [],
   "source": []
  }
 ],
 "metadata": {
  "colab": {
   "collapsed_sections": [],
   "name": "CNN.ipynb",
   "provenance": [
    {
     "file_id": "10LvaV7p4eFRKWSHCcKbaSnAjx3v4GnMX",
     "timestamp": 1621499160636
    }
   ]
  },
  "kernelspec": {
   "display_name": "Python 3",
   "language": "python",
   "name": "python3"
  },
  "language_info": {
   "codemirror_mode": {
    "name": "ipython",
    "version": 3
   },
   "file_extension": ".py",
   "mimetype": "text/x-python",
   "name": "python",
   "nbconvert_exporter": "python",
   "pygments_lexer": "ipython3",
   "version": "3.7.3"
  },
  "latex_envs": {
   "LaTeX_envs_menu_present": true,
   "autoclose": false,
   "autocomplete": true,
   "bibliofile": "biblio.bib",
   "cite_by": "apalike",
   "current_citInitial": 1,
   "eqLabelWithNumbers": true,
   "eqNumInitial": 1,
   "hotkeys": {
    "equation": "Ctrl-E",
    "itemize": "Ctrl-I"
   },
   "labels_anchors": false,
   "latex_user_defs": false,
   "report_style_numbering": false,
   "user_envs_cfg": false
  },
  "nbTranslate": {
   "displayLangs": [
    "*"
   ],
   "hotkey": "alt-t",
   "langInMainMenu": true,
   "sourceLang": "en",
   "targetLang": "fr",
   "useGoogleTranslate": true
  }
 },
 "nbformat": 4,
 "nbformat_minor": 2
}
