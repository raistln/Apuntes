{
 "cells": [
  {
   "cell_type": "markdown",
   "metadata": {
    "id": "LP3PzHRB7H5z"
   },
   "source": [
    "# **Sktime**"
   ]
  },
  {
   "cell_type": "markdown",
   "metadata": {
    "id": "wbIrjrIL7J41"
   },
   "source": [
    "Sktime explores a blend of both features of popular time series algorithms, and the sci-kit learn library. It uses sklearn algorithms in the reduction of vast tabular data. Other features include time series regression, classification(multivariate and univariate), time series clustering, time-series annotations, forecasting, estimation, transformation, datasets, feature tools and utility functions (preprocessing and plotting). "
   ]
  },
  {
   "cell_type": "markdown",
   "metadata": {
    "id": "fPraawYk7MPM"
   },
   "source": [
    "You can read about it more in [this](https://analyticsindiamag.com/sktime-library/) article."
   ]
  },
  {
   "cell_type": "markdown",
   "metadata": {
    "id": "LN3UdDDN7Qg0"
   },
   "source": [
    "## **Installation**"
   ]
  },
  {
   "cell_type": "code",
   "execution_count": null,
   "metadata": {},
   "outputs": [],
   "source": [
    "\n",
    "!python -m pip install pip --upgrade --user -q --no-warn-script-location\n",
    "!python -m pip install numpy pandas seaborn matplotlib scipy statsmodels sklearn tensorflow keras torch torchvision \\\n",
    "    tqdm scikit-image pmdarima pystan==2.19.1.1 --user -q --no-warn-script-location\n",
    "\n",
    "import IPython\n",
    "IPython.Application.instance().kernel.do_shutdown(True)\n"
   ]
  },
  {
   "cell_type": "code",
   "execution_count": null,
   "metadata": {},
   "outputs": [],
   "source": [
    "!python -m pip install fbprophet sktime --user -q\n",
    "import IPython\n",
    "IPython.Application.instance().kernel.do_shutdown(True)"
   ]
  },
  {
   "cell_type": "markdown",
   "metadata": {
    "id": "WaPf_1Ux7bYs"
   },
   "source": [
    "### Forecasting"
   ]
  },
  {
   "cell_type": "code",
   "execution_count": null,
   "metadata": {
    "id": "bK2ExWCR7fZA"
   },
   "outputs": [],
   "source": [
    "from sktime.forecasting.all import *\n",
    "from sktime.performance_metrics.forecasting import (\n",
    "    mean_absolute_percentage_error\n",
    ")\n",
    "y = load_airline()\n",
    "y_train, y_test = temporal_train_test_split(y)\n",
    "fh = ForecastingHorizon(y_test.index, is_relative=False)\n",
    "forecaster = ThetaForecaster(sp=12)  # monthly seasonal periodicity\n",
    "forecaster.fit(y_train)\n",
    "y_pred = forecaster.predict(fh)\n",
    "mean_absolute_percentage_error(y_test, y_pred) "
   ]
  },
  {
   "cell_type": "markdown",
   "metadata": {
    "id": "DMlfkUVf7hIX"
   },
   "source": [
    "### Time Series Classification"
   ]
  },
  {
   "cell_type": "code",
   "execution_count": null,
   "metadata": {
    "id": "DWIvTjZ27tyX"
   },
   "outputs": [],
   "source": [
    "from sktime.classification.all import *\n",
    "from sklearn.model_selection import train_test_split\n",
    "from sklearn.metrics import accuracy_score\n",
    "X, y = load_arrow_head(return_X_y=True)\n",
    "X_train, X_test, y_train, y_test = train_test_split(X, y)\n",
    "classifier = TimeSeriesForestClassifier()\n",
    "classifier.fit(X_train, y_train)\n",
    "y_pred = classifier.predict(X_test)\n",
    "accuracy_score(y_test, y_pred) "
   ]
  },
  {
   "cell_type": "markdown",
   "metadata": {
    "id": "HOmWQRjk71gd"
   },
   "source": [
    "### Univariate Time Series Classification with sktime\n",
    "\n",
    "A single time series variable and a corresponding label for multiple instances. The aim is to find a suitable classifier model that can be used to learn the relationship between time-series data and label and predict likewise the new series’s label."
   ]
  },
  {
   "cell_type": "code",
   "execution_count": null,
   "metadata": {
    "id": "ji5M-xRt74WQ"
   },
   "outputs": [],
   "source": [
    "import matplotlib.pyplot as plt\n",
    "import numpy as np\n",
    "from sklearn.metrics import accuracy_score\n",
    "from sklearn.model_selection import train_test_split\n",
    "from sklearn.pipeline import Pipeline\n",
    "from sklearn.tree import DecisionTreeClassifier\n",
    "from sktime.classification.all import TimeSeriesForestClassifier\n",
    "from sktime.datasets import load_arrow_head\n",
    "from sktime.utils.slope_and_trend import _slope "
   ]
  },
  {
   "cell_type": "markdown",
   "metadata": {
    "id": "Yu6gayd077NF"
   },
   "source": [
    "Loading data"
   ]
  },
  {
   "cell_type": "markdown",
   "metadata": {
    "id": "hH8mk_GT8AF2"
   },
   "source": [
    "In this notebook, we use the arrowhead problem.\n",
    "\n",
    "The arrowhead dataset is a time-series dataset containing outlines of the images of arrowheads. In anthropology, the classification of projectile points is an important topic. The classes are categorized based on shape distinctions eg. – the presence and location of a notch in the arrow."
   ]
  },
  {
   "cell_type": "markdown",
   "metadata": {
    "id": "qWVa660H9z0M"
   },
   "source": [
    "Data representation"
   ]
  },
  {
   "cell_type": "code",
   "execution_count": null,
   "metadata": {
    "id": "D7eOuKIT914C"
   },
   "outputs": [],
   "source": [
    "X, y = load_arrow_head(return_X_y=True)\n",
    "X_train, X_test, y_train, y_test = train_test_split(X, y)\n",
    "print(X_train.shape, y_train.shape, X_test.shape, y_test.shape)\n",
    "#(158, 1) (158,) (53, 1) (53,)\n",
    "# univariate time series input data\n",
    "X_train.head() "
   ]
  },
  {
   "cell_type": "markdown",
   "metadata": {
    "id": "JpKecedD96gO"
   },
   "source": [
    "binary target variables"
   ]
  },
  {
   "cell_type": "code",
   "execution_count": null,
   "metadata": {
    "id": "5Bm_xWSV98Fo"
   },
   "outputs": [],
   "source": [
    "labels, counts = np.unique(y_train, return_counts=True)\n",
    "print(labels, counts) "
   ]
  },
  {
   "cell_type": "code",
   "execution_count": null,
   "metadata": {
    "id": "ExzXwPl69--c"
   },
   "outputs": [],
   "source": [
    "fig, ax = plt.subplots(1, figsize=plt.figaspect(0.25))\n",
    "for label in labels:\n",
    "    X_train.loc[y_train == label, \"dim_0\"].iloc[0].plot(ax=ax, label=f\"class {label}\")\n",
    "plt.legend()\n",
    "ax.set(title=\"Example time series\", xlabel=\"Time\");"
   ]
  },
  {
   "cell_type": "markdown",
   "metadata": {
    "id": "Lo_VDipU-BkN"
   },
   "source": [
    "Time series forest"
   ]
  },
  {
   "cell_type": "code",
   "execution_count": null,
   "metadata": {
    "id": "J5KOrj0L-D67"
   },
   "outputs": [],
   "source": [
    "from sktime.transformations.panel.summarize import RandomIntervalFeatureExtractor\n",
    "steps = [\n",
    "    (\n",
    "        \"extract\",\n",
    "        RandomIntervalFeatureExtractor(\n",
    "            n_intervals=\"sqrt\", features=[np.mean, np.std, _slope]\n",
    "        ),\n",
    "    ),\n",
    "    (\"clf\", DecisionTreeClassifier()),\n",
    "]\n",
    "time_series_tree = Pipeline(steps) "
   ]
  },
  {
   "cell_type": "markdown",
   "metadata": {
    "id": "Qs4ZBoTy-F9N"
   },
   "source": [
    "We can directly fit and evaluate the single time series tree (which is simply a pipeline)."
   ]
  },
  {
   "cell_type": "code",
   "execution_count": null,
   "metadata": {
    "id": "9he688IH-Hgl"
   },
   "outputs": [],
   "source": [
    "time_series_tree.fit(X_train, y_train)\n",
    "time_series_tree.score(X_test, y_test) "
   ]
  },
  {
   "cell_type": "markdown",
   "metadata": {
    "id": "wLB8Ifb6-JtY"
   },
   "source": [
    " For time series forest classifier, we can simply use the single tree as the base estimator in the forest ensemble."
   ]
  },
  {
   "cell_type": "code",
   "execution_count": null,
   "metadata": {
    "id": "RiMB7mwK-LgV"
   },
   "outputs": [],
   "source": [
    "tsf = TimeSeriesForestClassifier(\n",
    "    n_estimators=100,\n",
    "    random_state=1,\n",
    "    n_jobs=-1,\n",
    ") "
   ]
  },
  {
   "cell_type": "markdown",
   "metadata": {
    "id": "p4g79ayT-T48"
   },
   "source": [
    "Fitting and obtaining the out-of-bag score:"
   ]
  },
  {
   "cell_type": "code",
   "execution_count": null,
   "metadata": {
    "id": "7ccJpk5B-Vzg"
   },
   "outputs": [],
   "source": [
    "tsf.fit(X_train, y_train)\n",
    "if tsf.oob_score:\n",
    "    print(tsf.oob_score_)\n",
    "tsf = TimeSeriesForestClassifier()\n",
    "tsf.fit(X_train, y_train)\n",
    "tsf.score(X_test, y_test) "
   ]
  },
  {
   "cell_type": "markdown",
   "metadata": {
    "id": "UonFRINT-YJI"
   },
   "source": [
    "algorithms for plotting feature importance graph over time to obtain feature importances for the different features and intervals."
   ]
  },
  {
   "cell_type": "code",
   "execution_count": null,
   "metadata": {
    "id": "i5Bsy72U-Z74"
   },
   "outputs": [],
   "source": [
    "fi = tsf.feature_importances_\n",
    "fig, ax = plt.subplots(1, figsize=plt.figaspect(0.25))\n",
    "plt.plot(fi)\n",
    "ax.set(xlabel=\"Time\", ylabel=\"Feature importance\"); "
   ]
  },
  {
   "cell_type": "markdown",
   "metadata": {
    "id": "MqArsKEsd2S-"
   },
   "source": [
    "#**Related Articles:**\n",
    "\n",
    "> * [Sktime](https://analyticsindiamag.com/sktime-library/)\n",
    "\n",
    "> * [Time Series Forecasting with Streamlit](https://analyticsindiamag.com/how-to-deploy-time-series-forecasting-models-using-streamlit/)\n",
    "\n",
    "> * [STRIPE](https://analyticsindiamag.com/guide-to-stripe-shape-and-time-diversity-in-probabilistic-forecast/)\n",
    "\n",
    "> * [SelfTime](https://analyticsindiamag.com/guide-to-selftime-self-supervised-time-series-representation-learning-framework-with-python-code/)\n",
    "\n",
    "> * [Giotta Time](https://analyticsindiamag.com/guide-to-giotto-time-a-time-series-forecasting-python-library/)\n",
    "\n",
    "> * [Facebook Prophet](https://analyticsindiamag.com/comprehensive-guide-to-facebooks-prophet-with-python-code/)\n"
   ]
  }
 ],
 "metadata": {
  "colab": {
   "authorship_tag": "ABX9TyMYAtiz7AVHPedy8PwJWEIn",
   "collapsed_sections": [],
   "name": "7_Sktime.ipynb",
   "provenance": []
  },
  "kernelspec": {
   "display_name": "Python 3",
   "name": "python3"
  },
  "language_info": {
   "name": "python"
  }
 },
 "nbformat": 4,
 "nbformat_minor": 2
}
