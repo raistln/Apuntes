{
 "cells": [
  {
   "cell_type": "markdown",
   "metadata": {
    "id": "I8EPVy-a6sn2"
   },
   "source": [
    "# **ARIMA Model V/s LSTM RNN Model in Time-Series Forecasting**"
   ]
  },
  {
   "cell_type": "markdown",
   "metadata": {
    "id": "yRwjR4d46w8p"
   },
   "source": [
    "There are many business applications of time series forecasting such as stock price prediction, sales forecasting, weather forecasting etc. A variety of machine learning models are applied in this task of time series forecasting. Every model has its own advantages and disadvantages. In this article, we will see a comparison between two time-series forecasting models – ARIMA model and LSTM RNN model. Both of these models are applied in stock price prediction to see the comparison between them. "
   ]
  },
  {
   "cell_type": "markdown",
   "metadata": {
    "id": "VcyU_Y888cTJ"
   },
   "source": [
    "To read about it more, please refer [this](https://analyticsindiamag.com/comparing-arima-model-and-lstm-rnn-model-in-time-series-forecasting/) article."
   ]
  },
  {
   "cell_type": "markdown",
   "metadata": {
    "id": "o9EwWYMe6zpG"
   },
   "source": [
    "# **Code Implementation**"
   ]
  },
  {
   "cell_type": "markdown",
   "metadata": {
    "id": "Eu-XLIcJ72-m"
   },
   "source": [
    "First of all, we need to import all the required libraries. nsepy must be installed using ‘pip install nsepy’ before importing it here. To use LSTM model, the TensorFlow must be installed as the TensorFlow backend is applied for LSTM model. The pmdarima must also be installed using ‘pip install pmdarima’ to use ARIMA model. "
   ]
  },
  {
   "cell_type": "code",
   "execution_count": null,
   "metadata": {},
   "outputs": [],
   "source": [
    "\n",
    "!python -m pip install pip --upgrade --user -q --no-warn-script-location\n",
    "!python -m pip install numpy pandas seaborn matplotlib scipy statsmodels sklearn tensorflow keras torch torchvision \\\n",
    "    tqdm scikit-image pmdarima arch nsepy --user -q --no-warn-script-location\n",
    "\n",
    "import IPython\n",
    "IPython.Application.instance().kernel.do_shutdown(True)\n"
   ]
  },
  {
   "cell_type": "code",
   "execution_count": null,
   "metadata": {
    "executionInfo": {
     "elapsed": 703,
     "status": "ok",
     "timestamp": 1623315526009,
     "user": {
      "displayName": "Aishwarya Verma",
      "photoUrl": "https://lh3.googleusercontent.com/a-/AOh14GiG6BREocxcd5R6rzlQGApoCsYso7BQAh63eXNz6Q=s64",
      "userId": "06108390091304498033"
     },
     "user_tz": -330
    },
    "id": "yt4lSgkL77VK"
   },
   "outputs": [],
   "source": [
    "#Importing the libraries\n",
    "from nsepy import get_history as gh\n",
    "import datetime as dt\n",
    "from matplotlib import pyplot as plt\n",
    "from sklearn import model_selection\n",
    "from sklearn.metrics import confusion_matrix\n",
    "from sklearn.preprocessing import StandardScaler\n",
    "from sklearn.model_selection import train_test_split\n",
    "import numpy as np\n",
    "import pandas as pd\n",
    "from sklearn.preprocessing import MinMaxScaler\n",
    "from keras.models import Sequential\n",
    "from keras.layers import Dense\n",
    "from keras.layers import LSTM\n",
    "from keras.layers import Dropout\n",
    "from pmdarima import auto_arima \n",
    "import warnings \n",
    "from statsmodels.tsa.seasonal import seasonal_decompose \n",
    "from statsmodels.tsa.statespace.sarimax import SARIMAX "
   ]
  },
  {
   "cell_type": "markdown",
   "metadata": {
    "id": "ZEDDa8Br79d7"
   },
   "source": [
    "Once the libraries are installed, we need to fetch the data by passing the start date and the end date to the API function. The downloaded data will be preprocessed after that."
   ]
  },
  {
   "cell_type": "code",
   "execution_count": null,
   "metadata": {
    "id": "1OsiHcOQ7_fz"
   },
   "outputs": [],
   "source": [
    "#Setting start and end dates and fetching the historical data\n",
    "start = dt.datetime(2013,1,1)\n",
    "end = dt.datetime(2019,12,31)\n",
    "stk_data = gh(symbol='SBIN',start=start,end=end)\n",
    "\n",
    "\n",
    "#Data Preprocessing\n",
    "stk_data['Date'] = stk_data.index\n",
    "data2 = pd.DataFrame(columns = ['Date', 'Open', 'High', 'Low', 'Close'])\n",
    "data2['Date'] = stk_data['Date']\n",
    "data2['Open'] = stk_data['Open']\n",
    "data2['High'] = stk_data['High']\n",
    "data2['Low'] = stk_data['Low']\n",
    "data2['Close'] = stk_data['Close']"
   ]
  },
  {
   "cell_type": "markdown",
   "metadata": {
    "id": "Kl_VLjG08Bhg"
   },
   "source": [
    "Once we are ready with the dataset, we will fit the ARIMA model using the below code snippet and plot the result."
   ]
  },
  {
   "cell_type": "code",
   "execution_count": null,
   "metadata": {
    "id": "3Sbl0S-b8DhB"
   },
   "outputs": [],
   "source": [
    "#####################ARIMA###############################\n",
    "# Ignore harmless warnings \n",
    "warnings.filterwarnings(\"ignore\") \n",
    "\n",
    "# Fit auto_arima function to Stock Market Data\n",
    "stepwise_fit = auto_arima(data2['Close'], start_p = 1, start_q = 1, max_p = 3, max_q = 3, m = 12, start_P = 0, seasonal = True, d = None, D = 1, trace = True, error_action ='ignore', suppress_warnings = True, stepwise = True)         \n",
    "\n",
    "  \n",
    "# To print the summary \n",
    "stepwise_fit.summary() \n",
    "\n",
    "# Split data into train / test sets \n",
    "train = data2.iloc[:len(data2)-150] \n",
    "test = data2.iloc[len(data2)-150:]\n",
    "\n",
    "# Fit a SARIMAX\n",
    "model = SARIMAX(data2['Close'],  order = (0, 1, 1),  seasonal_order =(2, 1, 1, 12)) \n",
    "\n",
    "\n",
    "result = model.fit() \n",
    "result.summary() \n",
    "\n",
    "\n",
    "start = len(train) \n",
    "end = len(train) + len(test) - 1\n",
    "\n",
    "  \n",
    "# Predictions for one-year against the test set \n",
    "predictions = result.predict(start, end, typ = 'levels').rename(\"Predictions\") \n",
    "\n",
    "  \n",
    "# plot predictions and actual values \n",
    "predictions.plot(legend = True) \n",
    "test['Close'].plot(legend = True)"
   ]
  },
  {
   "cell_type": "markdown",
   "metadata": {
    "id": "wto7R-DX8Lsi"
   },
   "source": [
    "After visualizing the time-series plot using the ARIMA model, we will see the same analysis by LSTM model."
   ]
  },
  {
   "cell_type": "code",
   "execution_count": null,
   "metadata": {
    "id": "la7IJeIF8N-g"
   },
   "outputs": [],
   "source": [
    "#############LSTM########################\n",
    "train_set = data2.iloc[0:1333:, 1:2].values\n",
    "sc = MinMaxScaler(feature_range = (0, 1))\n",
    "training_set_scaled = sc.fit_transform(train_set)\n",
    "X_train = []\n",
    "y_train = []\n",
    "for i in range(60, 1333):\n",
    "    X_train.append(training_set_scaled[i-60:i, 0])\n",
    "    y_train.append(training_set_scaled[i, 0]) \n",
    "X_train, y_train = np.array(X_train), np.array(y_train)\n",
    "X_train = np.reshape(X_train, (X_train.shape[0], X_train.shape[1], 1))\n",
    "\n",
    "\n",
    "#Defining the LSTM Recurrent Model\n",
    "regressor = Sequential()\n",
    "regressor.add(LSTM(units = 50, return_sequences = True, input_shape = (X_train.shape[1], 1)))\n",
    "regressor.add(Dropout(0.2))\n",
    "regressor.add(LSTM(units = 50, return_sequences = True))\n",
    "regressor.add(Dropout(0.2))\n",
    "regressor.add(LSTM(units = 50, return_sequences = True))\n",
    "regressor.add(Dropout(0.2))\n",
    "regressor.add(LSTM(units = 50))\n",
    "regressor.add(Dropout(0.2))\n",
    "regressor.add(Dense(units = 1))\n",
    "\n",
    "\n",
    "#Compiling and fitting the model\n",
    "regressor.compile(optimizer = 'adam', loss = 'mean_squared_error')\n",
    "regressor.fit(X_train, y_train, epochs = 15, batch_size = 32)\n",
    "\n",
    "\n",
    "#Fetching the test data and preprocessing\n",
    "testdataframe = gh(symbol='SBIN',start=dt.datetime(2018,5,23),end=dt.datetime(2018,12,31))\n",
    "testdataframe['Date'] = testdataframe.index\n",
    "testdata = pd.DataFrame(columns = ['Date', 'Open', 'High', 'Low', 'Close'])\n",
    "testdata['Date'] = testdataframe['Date']\n",
    "testdata['Open'] = testdataframe['Open']\n",
    "testdata['High'] = testdataframe['High']\n",
    "testdata['Low'] = testdataframe['Low']\n",
    "testdata['Close'] = testdataframe['Close']\n",
    "real_stock_price = testdata.iloc[:, 1:2].values\n",
    "dataset_total = pd.concat((data2['Open'], testdata['Open']), axis = 0)\n",
    "inputs = dataset_total[len(dataset_total) - len(testdata) - 60:].values\n",
    "inputs = inputs.reshape(-1,1)\n",
    "inputs = sc.transform(inputs)\n",
    "X_test = []\n",
    "for i in range(60, 235):\n",
    "    X_test.append(inputs[i-60:i, 0])\n",
    "X_test = np.array(X_test)\n",
    "X_test = np.reshape(X_test, (X_test.shape[0], X_test.shape[1], 1))\n",
    "\n",
    "\n",
    "#Making predictions on the test data\n",
    "predicted_stock_price = regressor.predict(X_test)\n",
    "predicted_stock_price = sc.inverse_transform(predicted_stock_price)\n",
    "\n",
    "\n",
    "#Visualizing the prediction\n",
    "plt.figure()\n",
    "plt.plot(real_stock_price, color = 'r', label = 'Close')\n",
    "plt.plot(predicted_stock_price, color = 'b', label = 'Prediction')\n",
    "plt.xlabel('Date')\n",
    "plt.legend()\n",
    "plt.show()"
   ]
  },
  {
   "cell_type": "markdown",
   "metadata": {
    "id": "gkb3cTQ38RCj"
   },
   "source": [
    "By comparing the two forecasting plots, we can see that the ARIMA model has predicted the closing prices very lower to the actual prices. This large variation in prediction can be seen at the majority of the places across the plot. But in the case of the LSTM model, the same prediction of closing prices can be seen higher than the actual value. But this variation can be observed at few places in the plot and majority of the time, the predicted value seems to be nearby the actual value. So we can conclude that, in the task of stock prediction, the LSTM model has outperformed the ARIMA model. \n",
    "\n",
    "Finally, for more satisfaction, we will try to find out the Root Mean Squared Error (RMSE) in prediction by both the models."
   ]
  },
  {
   "cell_type": "code",
   "execution_count": null,
   "metadata": {
    "id": "X2jcpmw18TD2"
   },
   "outputs": [],
   "source": [
    "######RMSE#######\n",
    "from sklearn.metrics import mean_squared_error \n",
    "from statsmodels.tools.eval_measures import rmse \n",
    "\n",
    "# RMSE for ARIMA model\n",
    "err_ARIMA = rmse(test[\"Close\"], predictions) \n",
    "print('RMSE with ARIMA', err_ARIMA)\n",
    "\n",
    "\n",
    "#RMSE for LSTM Model\n",
    "err_LSTM = rmse(test[\"Close\"], predicted_stock_price)\n",
    "print('RMSE with LSTM', err_LSTM)"
   ]
  },
  {
   "cell_type": "markdown",
   "metadata": {
    "id": "MqArsKEsd2S-"
   },
   "source": [
    "#**Related Articles:**\n",
    "\n",
    "> * [Date Time Parsing with Pandas](https://analyticsindiamag.com/datetime-parsing-with-pandas/)\n",
    "\n",
    "> * [Comparing ARIMA and LSTM RNN in Time Series](https://analyticsindiamag.com/comparing-arima-model-and-lstm-rnn-model-in-time-series-forecasting/)"
   ]
  }
 ],
 "metadata": {
  "colab": {
   "authorship_tag": "ABX9TyP60ixZRrdcEeSaX51Upp7d",
   "collapsed_sections": [],
   "name": "5_Comparing_ARIMA_&LSTM_RNN.ipynb",
   "provenance": []
  },
  "kernelspec": {
   "display_name": "Python 3",
   "name": "python3"
  },
  "language_info": {
   "name": "python"
  }
 },
 "nbformat": 4,
 "nbformat_minor": 2
}
