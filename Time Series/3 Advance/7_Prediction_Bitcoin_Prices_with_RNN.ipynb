{
 "cells": [
  {
   "cell_type": "markdown",
   "metadata": {
    "id": "Bn9WgPYyDEnq"
   },
   "source": [
    "# **Predicting Bitcoin Prices with RNN**"
   ]
  },
  {
   "cell_type": "markdown",
   "metadata": {
    "id": "6PmSKO8eDDpv"
   },
   "source": [
    "The cryptocurrency market has seen its rise and fall in the past few years. With a variety of coins being exchanged for real money, it is important to know the trend in the coin price. In this article, we will build a fairly simple LSTM network to predict or forecast the prices of Bitcoin."
   ]
  },
  {
   "cell_type": "markdown",
   "metadata": {
    "id": "_pJtDQ2rD9SK"
   },
   "source": [
    "## Obtaining Bitcoin Data"
   ]
  },
  {
   "cell_type": "markdown",
   "metadata": {
    "id": "r27eSpX_EAA9"
   },
   "source": [
    "There are plenty of open sources available on the internet to extract historical data of Bitcoin prices. The one that I have used below is from Coinmarketcap.\n",
    "\n",
    "You can view and download the dataset [here](https://coinmarketcap.com/currencies/bitcoin/historical-data/)."
   ]
  },
  {
   "cell_type": "markdown",
   "metadata": {
    "id": "Tk5rqRypIxbw"
   },
   "source": [
    "### Loading And Understanding The Data"
   ]
  },
  {
   "cell_type": "markdown",
   "metadata": {
    "id": "eBB3jJvtI2Fd"
   },
   "source": [
    "Importing Necessary Libraries"
   ]
  },
  {
   "cell_type": "code",
   "execution_count": null,
   "metadata": {},
   "outputs": [],
   "source": [
    "\n",
    "!python -m pip install pip --upgrade --user -q --no-warn-script-location\n",
    "!python -m pip install numpy pandas seaborn matplotlib scipy statsmodels openpyxl sklearn tensorflow keras torch torchvision \\\n",
    "    tqdm scikit-image pmdarima arch nsepy --user -q --no-warn-script-location\n",
    "\n",
    "import IPython\n",
    "IPython.Application.instance().kernel.do_shutdown(True)\n"
   ]
  },
  {
   "cell_type": "code",
   "execution_count": null,
   "metadata": {
    "id": "p0Ry3B5iC1yP"
   },
   "outputs": [],
   "source": [
    "import numpy as np\n",
    "import matplotlib.pyplot as plt\n",
    "import pandas as pd"
   ]
  },
  {
   "cell_type": "markdown",
   "metadata": {
    "id": "VzOJMbcgI-sx"
   },
   "source": [
    "Importing The Dataset"
   ]
  },
  {
   "cell_type": "code",
   "execution_count": null,
   "metadata": {
    "id": "zlgWGIFLJAyd"
   },
   "outputs": [],
   "source": [
    "complete_data = pd.read_excel('bitcoin_data.xlsx')\n",
    "print(complete_data.head(20))"
   ]
  },
  {
   "cell_type": "markdown",
   "metadata": {
    "id": "41PoIbdiKfcH"
   },
   "source": [
    "The dataset consists of 7 features. This is how most of the stock information datasets will look like. \n",
    "\n",
    "1. Market Capitalisation/Market Cap: It is the total dollar market value of a company’s (in this case Bitcoin) outstanding shares.\n",
    "2. Volume: The total amount of security that changes hands over a given period of time (In this case the time period is one day)\n",
    "3. Close: The closing price of the stock(Bitcoin price at the end of the day).\n",
    "4. Low: Low denotes the lowest value or drop over the complete time period.\n",
    "5. High: The highest value or rise over the complete time period.\n",
    "6. Open: The opening price of the stock of a particular day.\n",
    "7. Date: The date of observation.\n"
   ]
  },
  {
   "cell_type": "code",
   "execution_count": null,
   "metadata": {
    "id": "txH3gjcjKwkm"
   },
   "outputs": [],
   "source": [
    "#Printing the dataset info\n",
    "print(complete_data.info())"
   ]
  },
  {
   "cell_type": "markdown",
   "metadata": {
    "id": "5F-t9_btK0fG"
   },
   "source": [
    "###Creating Training and Test Data"
   ]
  },
  {
   "cell_type": "markdown",
   "metadata": {
    "id": "Ug6ggWiuK83Z"
   },
   "source": [
    "The dataset consists of observations in the decreasing order of date. We need to preserve this serial nature of the data and hence we cannot split the data randomly. So we will perform a more straight forward approach to splitting the dataset."
   ]
  },
  {
   "cell_type": "code",
   "execution_count": null,
   "metadata": {
    "id": "j9fbDkEgK4UZ"
   },
   "outputs": [],
   "source": [
    "#Setting The training set ratio\n",
    "training_ratio = 80\n",
    "\n",
    "#Calculating the test set ratio\n",
    "test_ratio = 100-training_ratio\n",
    "\n",
    "#Rounding the training set length to avoid fractions\n",
    "training_len = round(len(complete_data)*(training_ratio/100))\n",
    "\n",
    "#Setting the Test set length\n",
    "test_len = round(len(complete_data)-training_len)\n",
    "\n",
    "#Splitting the data based on the calculated lengths\n",
    "dataset_train = complete_data.tail(training_len)\n",
    "dataset_test = complete_data.head(test_len)\n",
    "\n",
    "#Printing the shapes of training and test sets\n",
    "\n",
    "print(\"Shape Of Training Set :\", dataset_train.shape)\n",
    "print(\"Shape Of Test Set :\", dataset_test.shape)"
   ]
  },
  {
   "cell_type": "code",
   "execution_count": null,
   "metadata": {
    "id": "VF9NoiY3LAAn"
   },
   "outputs": [],
   "source": [
    "#Printing the training and test sets\n",
    "print(dataset_test.tail(10))\n",
    "print(dataset_train.head(10))"
   ]
  },
  {
   "cell_type": "markdown",
   "metadata": {
    "id": "KH1IyXrlLFAM"
   },
   "source": [
    "### Preprocessing The Training Set"
   ]
  },
  {
   "cell_type": "markdown",
   "metadata": {
    "id": "XrMklwViLHhH"
   },
   "source": [
    "Preparing The Data"
   ]
  },
  {
   "cell_type": "code",
   "execution_count": null,
   "metadata": {
    "id": "cJ7AEUcdLJ1m"
   },
   "outputs": [],
   "source": [
    "#Setting the date colum to date format\n",
    "dataset_train['Date'] = pd.to_datetime(dataset_train['Date'])"
   ]
  },
  {
   "cell_type": "code",
   "execution_count": null,
   "metadata": {
    "id": "Nh82riuQLMFR"
   },
   "outputs": [],
   "source": [
    "#Setting Date column as Index\n",
    "dataset_train.set_index('Date', inplace = True)"
   ]
  },
  {
   "cell_type": "code",
   "execution_count": null,
   "metadata": {
    "id": "XJFxTYXRLOa6"
   },
   "outputs": [],
   "source": [
    "#Sorting the dataset based on increasing Dates\n",
    "dataset_train.sort_values(by='Date',ascending=True, inplace = True)"
   ]
  },
  {
   "cell_type": "code",
   "execution_count": null,
   "metadata": {
    "id": "zz3HP4ZSLQGo"
   },
   "outputs": [],
   "source": [
    "print(dataset_train.head(10))"
   ]
  },
  {
   "cell_type": "markdown",
   "metadata": {
    "id": "lgR9guNULSkS"
   },
   "source": [
    "Scaling and Sequencing"
   ]
  },
  {
   "cell_type": "code",
   "execution_count": null,
   "metadata": {
    "id": "7vr9vbD6LUjm"
   },
   "outputs": [],
   "source": [
    "#A method to preprocess the data in to sequences and to return x and y \n",
    "\n",
    "#Initializing the MinMaxScaler object\n",
    "from sklearn.preprocessing import MinMaxScaler\n",
    "sc = MinMaxScaler(feature_range = (0,1))\n",
    "\n",
    "def bit_pre_process(raw_data , seq_len, column = 1):\n",
    "  \n",
    "  #Select the feature/column \n",
    "  data = raw_data.iloc[:, column].values\n",
    "  data = data.reshape(-1, 1)\n",
    "  \n",
    "  #Feature Scaling\n",
    "  data = sc.fit_transform(data)\n",
    "  \n",
    "  #Making sequences\n",
    "  \n",
    "  X = []\n",
    "  y = []\n",
    "\n",
    "  for i in range(seq_len, len(data)):\n",
    "      X.append(data[i-seq_len:i, 0])\n",
    "      y.append(data[i, 0])\n",
    "  X, y = np.array(X), np.array(y)\n",
    "\n",
    "  # Reshaping\n",
    "  X = np.reshape(X, (X.shape[0], X.shape[1], 1))\n",
    "  \n",
    "  return X, y"
   ]
  },
  {
   "cell_type": "code",
   "execution_count": null,
   "metadata": {
    "id": "BQmukU9WMPNJ"
   },
   "outputs": [],
   "source": [
    "#Setting the sequence length (Try different values)\n",
    "sequence_length = 60\n",
    "\n",
    "#Choosing the idex of the Close column\n",
    "comumn_index= 3\n",
    "\n",
    "#Preprocessing the training set\n",
    "X_train, y_train = bit_pre_process(dataset_train , sequence_length, comumn_index)"
   ]
  },
  {
   "cell_type": "markdown",
   "metadata": {
    "id": "pzp9KJ5jMTw1"
   },
   "source": [
    "Sequence length is the number of previous observation to consider in order to predict for a given day. For example, in this case to predict the closing price of Bitcoin at a given date, the algorithm will consider the closing price of Bitcoins for the past 60 days."
   ]
  },
  {
   "cell_type": "code",
   "execution_count": null,
   "metadata": {
    "id": "GohwqM9RMSlB"
   },
   "outputs": [],
   "source": [
    "X_train.shape"
   ]
  },
  {
   "cell_type": "code",
   "execution_count": null,
   "metadata": {
    "id": "PtVt5PH2MXkE"
   },
   "outputs": [],
   "source": [
    "y_train.shape"
   ]
  },
  {
   "cell_type": "markdown",
   "metadata": {
    "id": "KXFCzIAwMaKC"
   },
   "source": [
    "The independent variable set(x_train) will now consist of 1785 observations (Original length of training set - sequence length (1845 - 60)). Each observation in x_train is a sequence of 60 closing prices i,e. the first row in x_train will be an array of the first 60 observations from the training set and the corresponding y_train will be the closing price of the 61st observation.\n",
    "\n",
    "For a sequence length of 60, x_train and y_train will look like whats shown below:"
   ]
  },
  {
   "cell_type": "markdown",
   "metadata": {
    "id": "N_gtqvpmMcMZ"
   },
   "source": [
    "### Building a Recurrent Neural Network"
   ]
  },
  {
   "cell_type": "code",
   "execution_count": null,
   "metadata": {
    "id": "GFgmuR_eMeqc"
   },
   "outputs": [],
   "source": [
    "#Importing the Keras libraries and packages\n",
    "from keras.models import Sequential\n",
    "from keras.layers import Dense\n",
    "from keras.layers import LSTM, CuDNNLSTM\n",
    "from keras.layers import Dropout\n",
    "\n",
    "#Initialising the RNN\n",
    "regressor = Sequential()\n",
    "\n",
    "#Adding the first LSTM layer and some Dropout regularisation\n",
    "regressor.add(LSTM(units = 50, return_sequences = True, input_shape = (X_train.shape[1], 1)))\n",
    "regressor.add(Dropout(0.2))\n",
    "\n",
    "#Adding a second LSTM layer and some Dropout regularisation\n",
    "regressor.add(LSTM(units = 50, return_sequences = True))\n",
    "regressor.add(Dropout(0.2))\n",
    "\n",
    "#Adding a third LSTM layer and some Dropout regularisation\n",
    "regressor.add(LSTM(units = 50, return_sequences = True))\n",
    "regressor.add(Dropout(0.2))\n",
    "\n",
    "#Adding a fourth LSTM layer and some Dropout regularisation\n",
    "regressor.add(LSTM(units = 50))\n",
    "regressor.add(Dropout(0.2))\n",
    "\n",
    "#Adding the output layer\n",
    "regressor.add(Dense(units = 1))"
   ]
  },
  {
   "cell_type": "markdown",
   "metadata": {
    "id": "YVFNE88bMgvE"
   },
   "source": [
    "CuDNNLSTM requires a GPU to execute. If there is no GPU, use LSTM instead."
   ]
  },
  {
   "cell_type": "code",
   "execution_count": null,
   "metadata": {
    "id": "XjzXc1IbMocJ"
   },
   "outputs": [],
   "source": [
    "#Compiling the RNN\n",
    "regressor.compile(optimizer = 'adam', loss = 'mean_squared_error', metrics = ['mse', 'mae'])"
   ]
  },
  {
   "cell_type": "code",
   "execution_count": null,
   "metadata": {
    "id": "cD99gPGKMqT1"
   },
   "outputs": [],
   "source": [
    "#Fitting the RNN to the Training set and training the RNN\n",
    "regressor.fit(X_train, y_train, epochs = 50, batch_size = 50)"
   ]
  },
  {
   "cell_type": "markdown",
   "metadata": {
    "id": "0Ml0YP5-Msle"
   },
   "source": [
    "### Predicting For The Test Set"
   ]
  },
  {
   "cell_type": "markdown",
   "metadata": {
    "id": "p4o7KcFmMvDH"
   },
   "source": [
    "Preparing Test Data"
   ]
  },
  {
   "cell_type": "code",
   "execution_count": null,
   "metadata": {
    "id": "m4OgJRuKM1f7"
   },
   "outputs": [],
   "source": [
    "#Displaying the dataset\n",
    "dataset_test.head()"
   ]
  },
  {
   "cell_type": "code",
   "execution_count": null,
   "metadata": {
    "id": "91Q7HtdhM3jS"
   },
   "outputs": [],
   "source": [
    "#Converting the Date colum values from object to datetime format\n",
    "dataset_test['Date'] = pd.to_datetime(dataset_test['Date'])\n",
    "\n",
    "\n",
    "#Setting the Date column as Index to the dataset\n",
    "dataset_test.set_index('Date', inplace = True)\n",
    "\n",
    "\n",
    "#Sorting the data based on Increasing value of date\n",
    "dataset_test.sort_values(by='Date',ascending=True, inplace = True)\n",
    "\n",
    "\n",
    "#Displaying the prepared dataset\n",
    "dataset_test.head()"
   ]
  },
  {
   "cell_type": "code",
   "execution_count": null,
   "metadata": {
    "id": "eOHw7yIKM8Z2"
   },
   "outputs": [],
   "source": [
    "dataset_test.shape"
   ]
  },
  {
   "cell_type": "markdown",
   "metadata": {
    "id": "N2-mmG9pM-Of"
   },
   "source": [
    "Now we have arranged the test data in increasing order of dates. However the test data is still not prepared for forecasting. In order to predict the the closing price of the first day in the test set we will require the closing prices of the previous 60 days. So we will attach the closing prices of the previous 60 days from the training set to the test set."
   ]
  },
  {
   "cell_type": "code",
   "execution_count": null,
   "metadata": {
    "id": "G7XOp0vTNACi"
   },
   "outputs": [],
   "source": [
    "#Adding the previous 60 days cosing price to the test data\n",
    "test_set = pd.concat((dataset_train.tail(sequence_length), dataset_test), axis = 0)\n",
    "\n",
    "test_set.head(10)"
   ]
  },
  {
   "cell_type": "code",
   "execution_count": null,
   "metadata": {
    "id": "UJ2BqbO8NDg2"
   },
   "outputs": [],
   "source": [
    "test_set.shape"
   ]
  },
  {
   "cell_type": "code",
   "execution_count": null,
   "metadata": {
    "id": "CAc3KPtrNGMT"
   },
   "outputs": [],
   "source": [
    "#Preprocessing the test data\n",
    "x_test, y_true = bit_pre_process(test_set , sequence_length, comumn_index)"
   ]
  },
  {
   "cell_type": "code",
   "execution_count": null,
   "metadata": {
    "id": "m6ILiieONHwY"
   },
   "outputs": [],
   "source": [
    "x_test.shape"
   ]
  },
  {
   "cell_type": "code",
   "execution_count": null,
   "metadata": {
    "id": "ucD57ZW-NJIo"
   },
   "outputs": [],
   "source": [
    "y_true.shape"
   ]
  },
  {
   "cell_type": "code",
   "execution_count": null,
   "metadata": {
    "id": "2-YhjKFLNK3v"
   },
   "outputs": [],
   "source": [
    "#Predicting the closing price of the test data\n",
    "predicted_stock_price = regressor.predict(x_test)"
   ]
  },
  {
   "cell_type": "code",
   "execution_count": null,
   "metadata": {
    "id": "1ihB5TdONMmZ"
   },
   "outputs": [],
   "source": [
    "#Inversing the scaled values \n",
    "predicted_stock_price = sc.inverse_transform(predicted_stock_price)\n",
    "\n",
    "#Inversing the scaled actual prices from test data\n",
    "real_stock_price = sc.inverse_transform(y_true.reshape(-1, 1))"
   ]
  },
  {
   "cell_type": "markdown",
   "metadata": {
    "id": "bWh84yCsNPNF"
   },
   "source": [
    "### Visualizing The Prediction"
   ]
  },
  {
   "cell_type": "code",
   "execution_count": null,
   "metadata": {
    "id": "sa1N6pESNRM2"
   },
   "outputs": [],
   "source": [
    "# A Method to plot predicted pirce vs Actual price\n",
    "def plot_predictions(real_price, predicted_price, title, x_label, y_label):\n",
    "  plt.plot(real_price, color = 'green', label = 'Real Stock Price')\n",
    "  plt.plot(predicted_price, color = 'red', label = 'Predicted Stock Price')\n",
    "  plt.title(title)\n",
    "  plt.xlabel('Time')\n",
    "  plt.ylabel('Google Stock Price')\n",
    "  plt.legend()\n",
    "  plt.show()"
   ]
  },
  {
   "cell_type": "code",
   "execution_count": null,
   "metadata": {
    "id": "yu2FoQSiNTC_"
   },
   "outputs": [],
   "source": [
    "#Plotting real_stock_pric vs predicted_stock_price\n",
    "plot_predictions(real_stock_price, predicted_stock_price, \"Bitcoin Closing Price Prediction\", \"Time\", \"Closing Price\")\n",
    "\n"
   ]
  },
  {
   "cell_type": "markdown",
   "metadata": {
    "id": "hU-adA0iNYhx"
   },
   "source": [
    "### Comparing the Predicted and Actual prices"
   ]
  },
  {
   "cell_type": "code",
   "execution_count": null,
   "metadata": {
    "id": "RUy35T4TNb41"
   },
   "outputs": [],
   "source": [
    "dataset_test['Predicted_Close'] = predicted_stock_price\n",
    "compare = dataset_test[['Open','Close','Predicted_Close' ]]\n",
    "compare.head(20)"
   ]
  },
  {
   "cell_type": "markdown",
   "metadata": {
    "id": "oUDDLNHPNhK9"
   },
   "source": [
    "### Further Analysis - Buy or Sell"
   ]
  },
  {
   "cell_type": "markdown",
   "metadata": {
    "id": "SvUpk29iNuUL"
   },
   "source": [
    "In this step we will simply analyse the predicted and real closing prices and based on the data we will decide whether it is good to buy or sell the Bitcoins.\n",
    "\n",
    "Condition :\n",
    "\n",
    "If the closing price is greater than the opening price we will decide to sell the coins, otherwise will will buy more coins."
   ]
  },
  {
   "cell_type": "code",
   "execution_count": null,
   "metadata": {
    "id": "RPNfTPIjNyM0"
   },
   "outputs": [],
   "source": [
    "#A function to decide buy or sell (1 for sell and 0 for buy)\n",
    "\n",
    "def buy_sell(op, cl):\n",
    "  \n",
    "  #If closing price is greater than the opening price, its a buy\n",
    "  if cl > op:    \n",
    "    return 1\n",
    "  #If closing price is lesser than the opening price, its a sell \n",
    "  else:\n",
    "    return 0\n",
    "\n",
    "#Mapping the buy_sell method to the actual closing price in the test data and saving it as a column\n",
    "compare[\"Buy-(Actual)\"] = list(map(buy_sell, compare['Open'], compare['Close']))\n",
    "\n",
    "#Mapping the buy_sell method to the predicted closing price in the test data and saving it as a column\n",
    "compare[\"Buy-(Predicted)\"] = list(map(buy_sell, compare['Open'], compare['Predicted_Close']))\n",
    "\n",
    "#Checkin the new dataframe\n",
    "compare.tail()"
   ]
  },
  {
   "cell_type": "code",
   "execution_count": null,
   "metadata": {
    "id": "dIvAYX3MN4KW"
   },
   "outputs": [],
   "source": [
    "#Calculating Buy or Sell accuracy\n",
    "from sklearn.metrics import confusion_matrix\n",
    "cm = confusion_matrix(compare['Buy-(Actual)'], compare['Buy-(Predicted)'])\n",
    "Accuracy = cm.diagonal().sum()/cm.sum()\n",
    "print(\"Buy or Sell Accuracy : \", Accuracy)"
   ]
  },
  {
   "cell_type": "markdown",
   "metadata": {
    "id": "Y8khsNAwN7WS"
   },
   "source": [
    "\n",
    "Best Approach\n",
    "\n",
    "The Buy or Sell can be predicted using the RNN. In the above approach we used regression to predict the closing prices and then mapped the Buy or Sell method. Instead we can use the Buy/Sell as the target variable and use the RNN for categorical prediction.\n"
   ]
  },
  {
   "cell_type": "markdown",
   "metadata": {
    "id": "MqArsKEsd2S-"
   },
   "source": [
    "#**Related Articles:**\n",
    "\n",
    "> * [Bitcoin Price Prediction](https://analyticsindiamag.com/guide-to-implementing-time-series-analysis-predicting-bitcoin-price-with-rnn/)\n",
    "\n",
    "> * [Time Series Forecasting with Darts](https://analyticsindiamag.com/hands-on-guide-to-darts-a-python-tool-for-time-series-forecasting/)\n",
    "\n",
    "> * [Guide to Time Series Forecasting with GluonTS](https://analyticsindiamag.com/gluonts-pytorchts-for-time-series-forecasting/)\n",
    "\n",
    "> * [Tensorflow Core](https://analyticsindiamag.com/time-series-forecasting-using-tensorflow-core/)\n",
    "\n",
    "> * [LSTM RNN on Foreign Exchange Rate Prediction](https://analyticsindiamag.com/foreign-exchange-rate-prediction-using-lstm-recurrent-neural-network/)\n",
    "\n",
    "> * [Pyflux](https://analyticsindiamag.com/pyflux-guide-python-library-for-time-series-analysis-and-prediction/)\n",
    "\n"
   ]
  }
 ],
 "metadata": {
  "colab": {
   "authorship_tag": "ABX9TyMzaXRbzSmibALzhZS0++R5",
   "collapsed_sections": [],
   "name": "7_Prediction_Bitcoin_Prices_with_RNN.ipynb",
   "provenance": []
  },
  "kernelspec": {
   "display_name": "Python 3",
   "name": "python3"
  },
  "language_info": {
   "name": "python"
  }
 },
 "nbformat": 4,
 "nbformat_minor": 2
}
