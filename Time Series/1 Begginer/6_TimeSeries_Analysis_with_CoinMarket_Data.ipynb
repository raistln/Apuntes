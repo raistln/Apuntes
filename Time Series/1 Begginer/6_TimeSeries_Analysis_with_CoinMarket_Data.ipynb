{
 "cells": [
  {
   "cell_type": "markdown",
   "metadata": {
    "id": "B6CpCePmBwLR"
   },
   "source": [
    "# **CoinMarketCap Dataset For Time Series Analysis**"
   ]
  },
  {
   "cell_type": "markdown",
   "metadata": {
    "id": "8WEe8o98B_10"
   },
   "source": [
    "Cryptocurrencies are a fast adapting medium of digital currency over the globe. These digital currencies are easily available to purchase with authenticity on many different websites, making it accessible to everyone, and with retailers accepting and trading various cryptocurrencies, money market scenarios are changing and going through a major change. Cryptocurrency is based on blockchain technology, which is a revolutionarily distributed digital backbone. Blockchain implements secure, decentralized systems that can aid in conquering organizational issues of trust, privacy, and security that have been around the work culture throughout the ages. "
   ]
  },
  {
   "cell_type": "markdown",
   "metadata": {
    "id": "8aaJdaNoCQ3V"
   },
   "source": [
    "#Analysis\n",
    "\n",
    "For these continuous changes of values over a while, time series analysis and forecasting are used. Recurrent Neural Networks and Long Short Term Memory are an important part of machine learning algorithms being used for time-series predictions.\n",
    "\n",
    "For demonstration, we will be using complete cryptocurrency market history data from [Kaggle](https://www.kaggle.com/taniaj/cryptocurrency-market-history-coinmarketcap), which has data scrapped from CoinMarketCap 2014 to 2018 containing 887 cryptos token information. Now let’s do some time series analysis on this data to infer insights out of it. "
   ]
  },
  {
   "cell_type": "code",
   "execution_count": null,
   "metadata": {
    "id": "8PZwH0fiDQzt"
   },
   "outputs": [],
   "source": [
    "# !gdown https://drive.google.com/uc?id=1eAiGJyJJWaMWuEQJlnLYmBNu1x9CmZI0"
   ]
  },
  {
   "cell_type": "code",
   "execution_count": null,
   "metadata": {
    "id": "lBbqw2QxDnVr"
   },
   "outputs": [],
   "source": [
    "# !unzip all_currencies.csv.zip"
   ]
  },
  {
   "cell_type": "code",
   "execution_count": 1,
   "metadata": {
    "id": "4O2wC__x_8_P"
   },
   "outputs": [],
   "source": [
    "import pandas as pd\n",
    "import numpy as np\n",
    "import matplotlib.pyplot as plt"
   ]
  },
  {
   "cell_type": "code",
   "execution_count": 2,
   "metadata": {
    "id": "CVgcLSrG_8_T"
   },
   "outputs": [
    {
     "data": {
      "text/html": [
       "<div>\n",
       "<style scoped>\n",
       "    .dataframe tbody tr th:only-of-type {\n",
       "        vertical-align: middle;\n",
       "    }\n",
       "\n",
       "    .dataframe tbody tr th {\n",
       "        vertical-align: top;\n",
       "    }\n",
       "\n",
       "    .dataframe thead th {\n",
       "        text-align: right;\n",
       "    }\n",
       "</style>\n",
       "<table border=\"1\" class=\"dataframe\">\n",
       "  <thead>\n",
       "    <tr style=\"text-align: right;\">\n",
       "      <th></th>\n",
       "      <th>Unnamed: 0</th>\n",
       "      <th>Symbol</th>\n",
       "      <th>Open</th>\n",
       "      <th>High</th>\n",
       "      <th>Low</th>\n",
       "      <th>Close</th>\n",
       "      <th>Volume</th>\n",
       "      <th>Market Cap</th>\n",
       "    </tr>\n",
       "    <tr>\n",
       "      <th>Date</th>\n",
       "      <th></th>\n",
       "      <th></th>\n",
       "      <th></th>\n",
       "      <th></th>\n",
       "      <th></th>\n",
       "      <th></th>\n",
       "      <th></th>\n",
       "      <th></th>\n",
       "    </tr>\n",
       "  </thead>\n",
       "  <tbody>\n",
       "    <tr>\n",
       "      <th>2015-11-12</th>\n",
       "      <td>0</td>\n",
       "      <td>$$$</td>\n",
       "      <td>0.000013</td>\n",
       "      <td>0.000017</td>\n",
       "      <td>0.000013</td>\n",
       "      <td>0.000017</td>\n",
       "      <td>142.0</td>\n",
       "      <td>NaN</td>\n",
       "    </tr>\n",
       "    <tr>\n",
       "      <th>2015-11-13</th>\n",
       "      <td>1</td>\n",
       "      <td>$$$</td>\n",
       "      <td>0.000017</td>\n",
       "      <td>0.000033</td>\n",
       "      <td>0.000016</td>\n",
       "      <td>0.000024</td>\n",
       "      <td>85.0</td>\n",
       "      <td>NaN</td>\n",
       "    </tr>\n",
       "    <tr>\n",
       "      <th>2015-11-14</th>\n",
       "      <td>2</td>\n",
       "      <td>$$$</td>\n",
       "      <td>0.000024</td>\n",
       "      <td>0.000053</td>\n",
       "      <td>0.000023</td>\n",
       "      <td>0.000030</td>\n",
       "      <td>131.0</td>\n",
       "      <td>NaN</td>\n",
       "    </tr>\n",
       "    <tr>\n",
       "      <th>2015-11-15</th>\n",
       "      <td>3</td>\n",
       "      <td>$$$</td>\n",
       "      <td>0.000030</td>\n",
       "      <td>0.000063</td>\n",
       "      <td>0.000022</td>\n",
       "      <td>0.000035</td>\n",
       "      <td>132.0</td>\n",
       "      <td>NaN</td>\n",
       "    </tr>\n",
       "    <tr>\n",
       "      <th>2015-11-16</th>\n",
       "      <td>4</td>\n",
       "      <td>$$$</td>\n",
       "      <td>0.000035</td>\n",
       "      <td>0.000046</td>\n",
       "      <td>0.000032</td>\n",
       "      <td>0.000036</td>\n",
       "      <td>280.0</td>\n",
       "      <td>NaN</td>\n",
       "    </tr>\n",
       "  </tbody>\n",
       "</table>\n",
       "</div>"
      ],
      "text/plain": [
       "            Unnamed: 0 Symbol      Open      High       Low     Close  Volume  \\\n",
       "Date                                                                            \n",
       "2015-11-12           0    $$$  0.000013  0.000017  0.000013  0.000017   142.0   \n",
       "2015-11-13           1    $$$  0.000017  0.000033  0.000016  0.000024    85.0   \n",
       "2015-11-14           2    $$$  0.000024  0.000053  0.000023  0.000030   131.0   \n",
       "2015-11-15           3    $$$  0.000030  0.000063  0.000022  0.000035   132.0   \n",
       "2015-11-16           4    $$$  0.000035  0.000046  0.000032  0.000036   280.0   \n",
       "\n",
       "            Market Cap  \n",
       "Date                    \n",
       "2015-11-12         NaN  \n",
       "2015-11-13         NaN  \n",
       "2015-11-14         NaN  \n",
       "2015-11-15         NaN  \n",
       "2015-11-16         NaN  "
      ]
     },
     "execution_count": 2,
     "metadata": {},
     "output_type": "execute_result"
    }
   ],
   "source": [
    "df = pd.read_csv(\"https://gitlab.com/AnalyticsIndiaMagazine/practicedatasets/-/raw/main/time_series_coin_market_data/all_currencies.csv\",parse_dates=[\"Date\"], index_col=\"Date\")\n",
    "df.head(5)"
   ]
  },
  {
   "cell_type": "code",
   "execution_count": 4,
   "metadata": {
    "id": "DK8Fn57E_8_W"
   },
   "outputs": [
    {
     "data": {
      "text/plain": [
       "DatetimeIndex(['2015-11-12', '2015-11-13', '2015-11-14', '2015-11-15',\n",
       "               '2015-11-16', '2015-11-17', '2015-11-18', '2015-11-19',\n",
       "               '2015-11-20', '2015-11-21',\n",
       "               ...\n",
       "               '2018-09-16', '2018-09-17', '2018-09-18', '2018-09-19',\n",
       "               '2018-09-22', '2018-09-23', '2018-09-24', '2018-09-25',\n",
       "               '2018-09-26', '2018-09-27'],\n",
       "              dtype='datetime64[ns]', name='Date', length=632218, freq=None)"
      ]
     },
     "execution_count": 4,
     "metadata": {},
     "output_type": "execute_result"
    }
   ],
   "source": [
    "df.index"
   ]
  },
  {
   "cell_type": "markdown",
   "metadata": {
    "id": "x2ozxyuyDr6e"
   },
   "source": [
    "The dataset consists of 8 attributes:\n",
    "\n",
    "\n",
    "> * Date: The date of observation.\n",
    "> * Symbol: The symbol of a particular crypto token.\n",
    "> * Open: The opening price of the stock of each day.\n",
    "> * High: The highest value over the period.\n",
    "> * Low: The lowest value over the period.\n",
    "> * Close: The closing price each day of the stock.\n",
    "> * Volume: The total amount of security changes over a given period. \n",
    "> * Market Cap: It is the total amount in the dollar market value of a company’s outstanding shares."
   ]
  },
  {
   "cell_type": "code",
   "execution_count": 5,
   "metadata": {
    "id": "gefbtUOD_8_X"
   },
   "outputs": [
    {
     "data": {
      "text/html": [
       "<div>\n",
       "<style scoped>\n",
       "    .dataframe tbody tr th:only-of-type {\n",
       "        vertical-align: middle;\n",
       "    }\n",
       "\n",
       "    .dataframe tbody tr th {\n",
       "        vertical-align: top;\n",
       "    }\n",
       "\n",
       "    .dataframe thead th {\n",
       "        text-align: right;\n",
       "    }\n",
       "</style>\n",
       "<table border=\"1\" class=\"dataframe\">\n",
       "  <thead>\n",
       "    <tr style=\"text-align: right;\">\n",
       "      <th></th>\n",
       "      <th>Unnamed: 0</th>\n",
       "      <th>Open</th>\n",
       "      <th>High</th>\n",
       "      <th>Low</th>\n",
       "      <th>Close</th>\n",
       "      <th>Volume</th>\n",
       "      <th>Market Cap</th>\n",
       "    </tr>\n",
       "  </thead>\n",
       "  <tbody>\n",
       "    <tr>\n",
       "      <th>count</th>\n",
       "      <td>632218.000000</td>\n",
       "      <td>6.322180e+05</td>\n",
       "      <td>6.322180e+05</td>\n",
       "      <td>6.322180e+05</td>\n",
       "      <td>6.322180e+05</td>\n",
       "      <td>6.268830e+05</td>\n",
       "      <td>5.678410e+05</td>\n",
       "    </tr>\n",
       "    <tr>\n",
       "      <th>mean</th>\n",
       "      <td>572.071192</td>\n",
       "      <td>2.030191e+02</td>\n",
       "      <td>2.442086e+02</td>\n",
       "      <td>1.636501e+02</td>\n",
       "      <td>2.011948e+02</td>\n",
       "      <td>9.471200e+06</td>\n",
       "      <td>2.484729e+08</td>\n",
       "    </tr>\n",
       "    <tr>\n",
       "      <th>std</th>\n",
       "      <td>441.700977</td>\n",
       "      <td>8.820248e+03</td>\n",
       "      <td>1.157252e+04</td>\n",
       "      <td>6.428827e+03</td>\n",
       "      <td>8.707400e+03</td>\n",
       "      <td>2.077056e+08</td>\n",
       "      <td>4.454570e+09</td>\n",
       "    </tr>\n",
       "    <tr>\n",
       "      <th>min</th>\n",
       "      <td>0.000000</td>\n",
       "      <td>2.500000e-09</td>\n",
       "      <td>3.200000e-09</td>\n",
       "      <td>2.300000e-09</td>\n",
       "      <td>2.500000e-09</td>\n",
       "      <td>0.000000e+00</td>\n",
       "      <td>0.000000e+00</td>\n",
       "    </tr>\n",
       "    <tr>\n",
       "      <th>25%</th>\n",
       "      <td>206.000000</td>\n",
       "      <td>7.900000e-04</td>\n",
       "      <td>9.190000e-04</td>\n",
       "      <td>6.880000e-04</td>\n",
       "      <td>7.900000e-04</td>\n",
       "      <td>5.400000e+01</td>\n",
       "      <td>3.786400e+04</td>\n",
       "    </tr>\n",
       "    <tr>\n",
       "      <th>50%</th>\n",
       "      <td>464.000000</td>\n",
       "      <td>9.589500e-03</td>\n",
       "      <td>1.098000e-02</td>\n",
       "      <td>8.461000e-03</td>\n",
       "      <td>9.583000e-03</td>\n",
       "      <td>7.230000e+02</td>\n",
       "      <td>2.532080e+05</td>\n",
       "    </tr>\n",
       "    <tr>\n",
       "      <th>75%</th>\n",
       "      <td>868.000000</td>\n",
       "      <td>1.186272e-01</td>\n",
       "      <td>1.337490e-01</td>\n",
       "      <td>1.060338e-01</td>\n",
       "      <td>1.185665e-01</td>\n",
       "      <td>1.550250e+04</td>\n",
       "      <td>2.454240e+06</td>\n",
       "    </tr>\n",
       "    <tr>\n",
       "      <th>max</th>\n",
       "      <td>1978.000000</td>\n",
       "      <td>2.298390e+06</td>\n",
       "      <td>2.926100e+06</td>\n",
       "      <td>2.030590e+06</td>\n",
       "      <td>2.300740e+06</td>\n",
       "      <td>2.384090e+10</td>\n",
       "      <td>3.261413e+11</td>\n",
       "    </tr>\n",
       "  </tbody>\n",
       "</table>\n",
       "</div>"
      ],
      "text/plain": [
       "          Unnamed: 0          Open          High           Low         Close  \\\n",
       "count  632218.000000  6.322180e+05  6.322180e+05  6.322180e+05  6.322180e+05   \n",
       "mean      572.071192  2.030191e+02  2.442086e+02  1.636501e+02  2.011948e+02   \n",
       "std       441.700977  8.820248e+03  1.157252e+04  6.428827e+03  8.707400e+03   \n",
       "min         0.000000  2.500000e-09  3.200000e-09  2.300000e-09  2.500000e-09   \n",
       "25%       206.000000  7.900000e-04  9.190000e-04  6.880000e-04  7.900000e-04   \n",
       "50%       464.000000  9.589500e-03  1.098000e-02  8.461000e-03  9.583000e-03   \n",
       "75%       868.000000  1.186272e-01  1.337490e-01  1.060338e-01  1.185665e-01   \n",
       "max      1978.000000  2.298390e+06  2.926100e+06  2.030590e+06  2.300740e+06   \n",
       "\n",
       "             Volume    Market Cap  \n",
       "count  6.268830e+05  5.678410e+05  \n",
       "mean   9.471200e+06  2.484729e+08  \n",
       "std    2.077056e+08  4.454570e+09  \n",
       "min    0.000000e+00  0.000000e+00  \n",
       "25%    5.400000e+01  3.786400e+04  \n",
       "50%    7.230000e+02  2.532080e+05  \n",
       "75%    1.550250e+04  2.454240e+06  \n",
       "max    2.384090e+10  3.261413e+11  "
      ]
     },
     "execution_count": 5,
     "metadata": {},
     "output_type": "execute_result"
    }
   ],
   "source": [
    "df.describe()"
   ]
  },
  {
   "cell_type": "code",
   "execution_count": 6,
   "metadata": {
    "id": "hD9TvuI1_8_Y"
   },
   "outputs": [
    {
     "name": "stdout",
     "output_type": "stream",
     "text": [
      "<class 'pandas.core.frame.DataFrame'>\n",
      "DatetimeIndex: 632218 entries, 2015-11-12 to 2018-09-27\n",
      "Data columns (total 8 columns):\n",
      " #   Column      Non-Null Count   Dtype  \n",
      "---  ------      --------------   -----  \n",
      " 0   Unnamed: 0  632218 non-null  int64  \n",
      " 1   Symbol      632218 non-null  object \n",
      " 2   Open        632218 non-null  float64\n",
      " 3   High        632218 non-null  float64\n",
      " 4   Low         632218 non-null  float64\n",
      " 5   Close       632218 non-null  float64\n",
      " 6   Volume      626883 non-null  float64\n",
      " 7   Market Cap  567841 non-null  float64\n",
      "dtypes: float64(6), int64(1), object(1)\n",
      "memory usage: 43.4+ MB\n"
     ]
    },
    {
     "data": {
      "text/plain": [
       "((632218, 8), None)"
      ]
     },
     "execution_count": 6,
     "metadata": {},
     "output_type": "execute_result"
    }
   ],
   "source": [
    "df.shape, df.info()"
   ]
  },
  {
   "cell_type": "code",
   "execution_count": 7,
   "metadata": {
    "id": "Ud1xR8pY_8_Z"
   },
   "outputs": [
    {
     "data": {
      "image/png": "[encoded data removed]",
      "text/plain": [
       "<Figure size 432x288 with 1 Axes>"
      ]
     },
     "metadata": {
      "needs_background": "light"
     },
     "output_type": "display_data"
    }
   ],
   "source": [
    "ax = df.groupby(['Symbol'])['Market Cap'].last().sort_values(ascending=False).head(10).sort_values().plot(kind='barh');\n",
    "ax.set_xlabel(\"Market cap (in billion USD)\");\n",
    "plt.title(\"Top 10 Currencies by Market Cap\");"
   ]
  },
  {
   "cell_type": "code",
   "execution_count": 8,
   "metadata": {
    "id": "pI-YhZ1s_8_Z"
   },
   "outputs": [
    {
     "data": {
      "image/png": "[encoded data removed]",
      "text/plain": [
       "<Figure size 432x288 with 1 Axes>"
      ]
     },
     "metadata": {
      "needs_background": "light"
     },
     "output_type": "display_data"
    }
   ],
   "source": [
    "ax = df.groupby(['Symbol'])['Volume'].last().sort_values(ascending=False).head(10).sort_values().plot(kind='barh');\n",
    "ax.set_xlabel(\"Transaction Volume (in million)\");\n",
    "plt.title(\"Top 10 Currencies by Transaction Volume\");"
   ]
  },
  {
   "cell_type": "code",
   "execution_count": 9,
   "metadata": {
    "id": "rfMQchE0_8_a"
   },
   "outputs": [
    {
     "data": {
      "text/html": [
       "<div>\n",
       "<style scoped>\n",
       "    .dataframe tbody tr th:only-of-type {\n",
       "        vertical-align: middle;\n",
       "    }\n",
       "\n",
       "    .dataframe tbody tr th {\n",
       "        vertical-align: top;\n",
       "    }\n",
       "\n",
       "    .dataframe thead th {\n",
       "        text-align: right;\n",
       "    }\n",
       "</style>\n",
       "<table border=\"1\" class=\"dataframe\">\n",
       "  <thead>\n",
       "    <tr style=\"text-align: right;\">\n",
       "      <th></th>\n",
       "      <th>Unnamed: 0</th>\n",
       "      <th>Symbol</th>\n",
       "      <th>Open</th>\n",
       "      <th>High</th>\n",
       "      <th>Low</th>\n",
       "      <th>Close</th>\n",
       "      <th>Volume</th>\n",
       "      <th>Market Cap</th>\n",
       "    </tr>\n",
       "    <tr>\n",
       "      <th>Date</th>\n",
       "      <th></th>\n",
       "      <th></th>\n",
       "      <th></th>\n",
       "      <th></th>\n",
       "      <th></th>\n",
       "      <th></th>\n",
       "      <th></th>\n",
       "      <th></th>\n",
       "    </tr>\n",
       "  </thead>\n",
       "  <tbody>\n",
       "    <tr>\n",
       "      <th>2017-07-23</th>\n",
       "      <td>0</td>\n",
       "      <td>BCH</td>\n",
       "      <td>555.89</td>\n",
       "      <td>578.97</td>\n",
       "      <td>411.78</td>\n",
       "      <td>413.06</td>\n",
       "      <td>85013.0</td>\n",
       "      <td>NaN</td>\n",
       "    </tr>\n",
       "    <tr>\n",
       "      <th>2017-07-24</th>\n",
       "      <td>1</td>\n",
       "      <td>BCH</td>\n",
       "      <td>412.58</td>\n",
       "      <td>578.89</td>\n",
       "      <td>409.21</td>\n",
       "      <td>440.70</td>\n",
       "      <td>190952.0</td>\n",
       "      <td>NaN</td>\n",
       "    </tr>\n",
       "    <tr>\n",
       "      <th>2017-07-25</th>\n",
       "      <td>2</td>\n",
       "      <td>BCH</td>\n",
       "      <td>441.35</td>\n",
       "      <td>541.66</td>\n",
       "      <td>338.09</td>\n",
       "      <td>406.90</td>\n",
       "      <td>524908.0</td>\n",
       "      <td>NaN</td>\n",
       "    </tr>\n",
       "    <tr>\n",
       "      <th>2017-07-26</th>\n",
       "      <td>3</td>\n",
       "      <td>BCH</td>\n",
       "      <td>407.08</td>\n",
       "      <td>486.16</td>\n",
       "      <td>321.79</td>\n",
       "      <td>365.82</td>\n",
       "      <td>1784640.0</td>\n",
       "      <td>NaN</td>\n",
       "    </tr>\n",
       "    <tr>\n",
       "      <th>2017-07-27</th>\n",
       "      <td>4</td>\n",
       "      <td>BCH</td>\n",
       "      <td>417.10</td>\n",
       "      <td>460.97</td>\n",
       "      <td>367.78</td>\n",
       "      <td>385.48</td>\n",
       "      <td>533207.0</td>\n",
       "      <td>NaN</td>\n",
       "    </tr>\n",
       "  </tbody>\n",
       "</table>\n",
       "</div>"
      ],
      "text/plain": [
       "            Unnamed: 0 Symbol    Open    High     Low   Close     Volume  \\\n",
       "Date                                                                       \n",
       "2017-07-23           0    BCH  555.89  578.97  411.78  413.06    85013.0   \n",
       "2017-07-24           1    BCH  412.58  578.89  409.21  440.70   190952.0   \n",
       "2017-07-25           2    BCH  441.35  541.66  338.09  406.90   524908.0   \n",
       "2017-07-26           3    BCH  407.08  486.16  321.79  365.82  1784640.0   \n",
       "2017-07-27           4    BCH  417.10  460.97  367.78  385.48   533207.0   \n",
       "\n",
       "            Market Cap  \n",
       "Date                    \n",
       "2017-07-23         NaN  \n",
       "2017-07-24         NaN  \n",
       "2017-07-25         NaN  \n",
       "2017-07-26         NaN  \n",
       "2017-07-27         NaN  "
      ]
     },
     "execution_count": 9,
     "metadata": {},
     "output_type": "execute_result"
    }
   ],
   "source": [
    "top_5_currency_names = df.groupby(['Symbol'])['Market Cap'].last().sort_values(ascending=False).head(5).index\n",
    "data_top_5_currencies = df[df['Symbol'].isin(top_5_currency_names)]\n",
    "data_top_5_currencies.head(5)"
   ]
  },
  {
   "cell_type": "code",
   "execution_count": 10,
   "metadata": {
    "id": "KjVFucBf_8_b"
   },
   "outputs": [
    {
     "data": {
      "image/png": "[encoded data removed]",
      "text/plain": [
       "<Figure size 432x288 with 1 Axes>"
      ]
     },
     "metadata": {
      "needs_background": "light"
     },
     "output_type": "display_data"
    }
   ],
   "source": [
    "ax = data_top_5_currencies.groupby(['Date', 'Symbol'])['Close'].mean().unstack().plot();\n",
    "ax.set_ylabel(\"Price per 1 unit (in USD)\");\n",
    "plt.title(\"Price per unit of currency\");"
   ]
  },
  {
   "cell_type": "code",
   "execution_count": 11,
   "metadata": {
    "id": "qzFJZDTQ_8_c"
   },
   "outputs": [
    {
     "data": {
      "image/png": "[encoded data removed]",
      "text/plain": [
       "<Figure size 432x288 with 1 Axes>"
      ]
     },
     "metadata": {
      "needs_background": "light"
     },
     "output_type": "display_data"
    }
   ],
   "source": [
    "ax = data_top_5_currencies.groupby(['Date', 'Symbol'])['Market Cap'].mean().unstack().plot();\n",
    "ax.set_ylabel(\"Market Cap (in billion USD)\");\n",
    "plt.title(\"Market cap per Currency\");"
   ]
  },
  {
   "cell_type": "code",
   "execution_count": 12,
   "metadata": {
    "id": "B3sNDzaz_8_d"
   },
   "outputs": [
    {
     "data": {
      "image/png": "[encoded data removed]",
      "text/plain": [
       "<Figure size 432x288 with 1 Axes>"
      ]
     },
     "metadata": {
      "needs_background": "light"
     },
     "output_type": "display_data"
    }
   ],
   "source": [
    "ax = data_top_5_currencies.groupby(['Date', 'Symbol'])['Volume'].mean().unstack().plot();\n",
    "ax.set_ylabel(\"Transaction Volume (in million)\");\n",
    "plt.title(\"Transaction Volume per Currency\");"
   ]
  },
  {
   "cell_type": "code",
   "execution_count": 13,
   "metadata": {
    "id": "PRyVViv4_8_e"
   },
   "outputs": [
    {
     "data": {
      "text/plain": [
       "<AxesSubplot:xlabel='Date'>"
      ]
     },
     "execution_count": 13,
     "metadata": {},
     "output_type": "execute_result"
    },
    {
     "data": {
      "image/png": "[encoded data removed]",
      "text/plain": [
       "<Figure size 432x288 with 1 Axes>"
      ]
     },
     "metadata": {
      "needs_background": "light"
     },
     "output_type": "display_data"
    }
   ],
   "source": [
    "%matplotlib inline\n",
    "df['Close'].plot()"
   ]
  },
  {
   "cell_type": "code",
   "execution_count": 14,
   "metadata": {
    "id": "q_SWJGrJ_8_f"
   },
   "outputs": [
    {
     "data": {
      "text/plain": [
       "<AxesSubplot:xlabel='Date'>"
      ]
     },
     "execution_count": 14,
     "metadata": {},
     "output_type": "execute_result"
    },
    {
     "data": {
      "image/png": "[encoded data removed]",
      "text/plain": [
       "<Figure size 432x288 with 1 Axes>"
      ]
     },
     "metadata": {
      "needs_background": "light"
     },
     "output_type": "display_data"
    }
   ],
   "source": [
    "df['Close'].resample('Y').mean().plot(kind='bar')"
   ]
  },
  {
   "cell_type": "code",
   "execution_count": 15,
   "metadata": {
    "id": "pTB-ddvx_8_f"
   },
   "outputs": [
    {
     "data": {
      "text/plain": [
       "<AxesSubplot:xlabel='y(t)', ylabel='y(t + 1)'>"
      ]
     },
     "execution_count": 15,
     "metadata": {},
     "output_type": "execute_result"
    },
    {
     "data": {
      "image/png": "[encoded data removed]",
      "text/plain": [
       "<Figure size 432x288 with 1 Axes>"
      ]
     },
     "metadata": {
      "needs_background": "light"
     },
     "output_type": "display_data"
    }
   ],
   "source": [
    "from pandas.plotting import lag_plot\n",
    "\n",
    "lag_plot(df['Volume'].tail(250))"
   ]
  },
  {
   "cell_type": "code",
   "execution_count": 16,
   "metadata": {
    "id": "iBFJ5pyj_8_f"
   },
   "outputs": [
    {
     "data": {
      "text/plain": [
       "<AxesSubplot:xlabel='Date'>"
      ]
     },
     "execution_count": 16,
     "metadata": {},
     "output_type": "execute_result"
    },
    {
     "data": {
      "image/png": "[encoded data removed]",
      "text/plain": [
       "<Figure size 432x288 with 1 Axes>"
      ]
     },
     "metadata": {
      "needs_background": "light"
     },
     "output_type": "display_data"
    }
   ],
   "source": [
    "df['Volume'].resample('Y').mean().plot.bar()"
   ]
  },
  {
   "cell_type": "code",
   "execution_count": 17,
   "metadata": {
    "id": "MgGo9o7t_8_g"
   },
   "outputs": [
    {
     "data": {
      "text/plain": [
       "(1979, 1)"
      ]
     },
     "execution_count": 17,
     "metadata": {},
     "output_type": "execute_result"
    }
   ],
   "source": [
    "df_BTC = df.loc[df['Symbol'] == 'BTC',['Close']]\n",
    "df_BTC.shape"
   ]
  },
  {
   "cell_type": "code",
   "execution_count": 18,
   "metadata": {
    "id": "KtXk3ki7_8_h"
   },
   "outputs": [],
   "source": [
    "train = df_BTC[:'2018'].values\n",
    "valid = df_BTC['2018':].values"
   ]
  },
  {
   "cell_type": "code",
   "execution_count": 19,
   "metadata": {
    "id": "s6nHU6Nl_8_h"
   },
   "outputs": [],
   "source": [
    "from sklearn.preprocessing import MinMaxScaler\n",
    "scaler = MinMaxScaler(feature_range=(0, 1))\n",
    "scaled_data = scaler.fit_transform(df_BTC)"
   ]
  },
  {
   "cell_type": "code",
   "execution_count": 20,
   "metadata": {
    "id": "0sB7uum5_8_i"
   },
   "outputs": [],
   "source": [
    "x_train, y_train = [], []\n",
    "for i in range(60,len(train)):\n",
    "    x_train.append(scaled_data[i-60:i,0])\n",
    "    y_train.append(scaled_data[i,0])\n",
    "x_train, y_train = np.array(x_train), np.array(y_train)\n",
    "\n",
    "x_train = np.reshape(x_train, (x_train.shape[0],x_train.shape[1],1))"
   ]
  },
  {
   "cell_type": "code",
   "execution_count": 21,
   "metadata": {
    "id": "j5xflwJ8_8_i"
   },
   "outputs": [
    {
     "name": "stderr",
     "output_type": "stream",
     "text": [
      "2022-02-02 21:32:27.256980: W tensorflow/stream_executor/platform/default/dso_loader.cc:64] Could not load dynamic library 'libcudart.so.11.0'; dlerror: libcudart.so.11.0: cannot open shared object file: No such file or directory\n",
      "2022-02-02 21:32:27.257147: I tensorflow/stream_executor/cuda/cudart_stub.cc:29] Ignore above cudart dlerror if you do not have a GPU set up on your machine.\n"
     ]
    }
   ],
   "source": [
    "from keras.models import Sequential\n",
    "from keras.layers import Dense, Dropout, LSTM"
   ]
  },
  {
   "cell_type": "code",
   "execution_count": 22,
   "metadata": {
    "id": "aD9Oo3xN_8_i"
   },
   "outputs": [
    {
     "name": "stderr",
     "output_type": "stream",
     "text": [
      "2022-02-02 21:32:36.000668: W tensorflow/stream_executor/platform/default/dso_loader.cc:64] Could not load dynamic library 'libcuda.so.1'; dlerror: libcuda.so.1: cannot open shared object file: No such file or directory\n",
      "2022-02-02 21:32:36.000716: W tensorflow/stream_executor/cuda/cuda_driver.cc:269] failed call to cuInit: UNKNOWN ERROR (303)\n",
      "2022-02-02 21:32:36.000743: I tensorflow/stream_executor/cuda/cuda_diagnostics.cc:156] kernel driver does not appear to be running on this host (samuel-VirtualBox): /proc/driver/nvidia/version does not exist\n",
      "2022-02-02 21:32:36.001064: I tensorflow/core/platform/cpu_feature_guard.cc:151] This TensorFlow binary is optimized with oneAPI Deep Neural Network Library (oneDNN) to use the following CPU instructions in performance-critical operations:  AVX2\n",
      "To enable them in other operations, rebuild TensorFlow with the appropriate compiler flags.\n"
     ]
    }
   ],
   "source": [
    "model = Sequential()\n",
    "model.add(LSTM(units=50, return_sequences=True, input_shape=(x_train.shape[1],1)))\n",
    "model.add(LSTM(units=50))\n",
    "model.add(Dense(1))"
   ]
  },
  {
   "cell_type": "code",
   "execution_count": null,
   "metadata": {
    "id": "FphCtVyz_8_i"
   },
   "outputs": [],
   "source": [
    "model.compile(loss='mean_squared_error', optimizer='adam')\n",
    "model.fit(x_train, y_train, epochs=2, batch_size=1, verbose=1)"
   ]
  },
  {
   "cell_type": "code",
   "execution_count": null,
   "metadata": {
    "id": "mjvcm7Pw_8_j"
   },
   "outputs": [],
   "source": [
    "inputs = df_BTC[len(df_BTC) - len(valid) - 60:].values\n",
    "inputs = inputs.reshape(-1,1)\n",
    "inputs  = scaler.transform(inputs)"
   ]
  },
  {
   "cell_type": "code",
   "execution_count": null,
   "metadata": {
    "id": "jcuTpVyB_8_j"
   },
   "outputs": [],
   "source": [
    "X_test = []\n",
    "for i in range(60,inputs.shape[0]):\n",
    "    X_test.append(inputs[i-60:i,0])\n",
    "X_test = np.array(X_test)"
   ]
  },
  {
   "cell_type": "code",
   "execution_count": null,
   "metadata": {
    "id": "M1Sq9_ug_8_j"
   },
   "outputs": [],
   "source": [
    "X_test = np.reshape(X_test, (X_test.shape[0],X_test.shape[1],1))\n",
    "closing_price = model.predict(X_test)\n",
    "closing_price = scaler.inverse_transform(closing_price)"
   ]
  },
  {
   "cell_type": "code",
   "execution_count": null,
   "metadata": {
    "id": "F5ZhaUMu_8_k"
   },
   "outputs": [],
   "source": [
    "rms=np.sqrt(np.mean(np.power((valid-closing_price),2)))\n",
    "rms"
   ]
  },
  {
   "cell_type": "code",
   "execution_count": null,
   "metadata": {
    "id": "iP9aGEZC_8_k"
   },
   "outputs": [],
   "source": [
    "train = df_BTC[:'2018']\n",
    "valid = df_BTC['2018':]\n",
    "valid['Predictions'] = closing_price\n",
    "plt.plot(train['Close'])\n",
    "plt.plot(valid[['Close','Predictions']])"
   ]
  },
  {
   "cell_type": "markdown",
   "metadata": {
    "id": "kurZpQQ42tg7"
   },
   "source": [
    "#**Related Articles:**\n",
    "\n",
    "> * [CoinMarketCap Dataset for Time Series Analysis](https://analyticsindiamag.com/guide-to-coinmarketcap-dataset-for-time-series-analysis-historical-prices-of-all-cryptocurrencies/)\n",
    "\n",
    "> * [Time Series Data Analysis on Forex Historical Dataset](https://analyticsindiamag.com/applying-time-series-analysis-on-forex-historical-dataset/)\n",
    "\n",
    "> * [Analyzing Climate Change](https://analyticsindiamag.com/time-series-analysis-on-climate-change/)\n",
    "\n",
    "> * [TadGAN](https://analyticsindiamag.com/hands-on-guide-to-tadgan-with-python-codes/)\n",
    "\n",
    "> * [Pastas](https://analyticsindiamag.com/guide-to-pastas-a-python-framework-for-hydrogeological-time-series-analysis/)\n",
    "\n",
    "> * [Bitcoin Price Prediction](https://analyticsindiamag.com/guide-to-implementing-time-series-analysis-predicting-bitcoin-price-with-rnn/)"
   ]
  }
 ],
 "metadata": {
  "colab": {
   "authorship_tag": "ABX9TyNmaKeL5rfKmGkHyVeDD3hn",
   "collapsed_sections": [],
   "name": "7_TimeSeries_Analysis_with_CoinMarket_Data.ipynb",
   "provenance": []
  },
  "kernelspec": {
   "display_name": "Python 3 (ipykernel)",
   "language": "python",
   "name": "python3"
  },
  "language_info": {
   "codemirror_mode": {
    "name": "ipython",
    "version": 3
   },
   "file_extension": ".py",
   "mimetype": "text/x-python",
   "name": "python",
   "nbconvert_exporter": "python",
   "pygments_lexer": "ipython3",
   "version": "3.8.10"
  }
 },
 "nbformat": 4,
 "nbformat_minor": 2
}
