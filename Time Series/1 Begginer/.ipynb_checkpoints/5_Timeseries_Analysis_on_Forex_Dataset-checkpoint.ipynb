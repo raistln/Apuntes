{
 "cells": [
  {
   "cell_type": "markdown",
   "metadata": {
    "id": "gklRQkcG26kE"
   },
   "source": [
    "# **Forex Historical Dataset**"
   ]
  },
  {
   "cell_type": "markdown",
   "metadata": {
    "id": "2G8DAoPL2-1d"
   },
   "source": [
    "\n",
    "Forex or the foreign exchange market is a decentralised system for foreign currency trading and exchange. Foreign exchange is the process of changing one country’s currency into another country’s currency for trading, commerce, or tourism. The rise to the foreign exchange services and trading was due to the varying values of individual currencies. In the world trade market Forex is regarded as the largest and most liquid asset market. National currencies have an exchange rate fixed in pairs, e.g. USD/JPY. Commercial and investment banks carry out most of the trading process on behalf of their clients. "
   ]
  },
  {
   "cell_type": "markdown",
   "metadata": {
    "id": "BPW_alqH3ClW"
   },
   "source": [
    "# **Time Series Analysis**"
   ]
  },
  {
   "cell_type": "markdown",
   "metadata": {
    "id": "hXL_Sv093H9K"
   },
   "source": [
    "The dataset used for demonstration is the Forex pair EUR/USD dataset which holds the record from 1971 to 2019. Dataset [link](https://www.kaggle.com/maheshtaank/eurusd-daily)."
   ]
  },
  {
   "cell_type": "markdown",
   "metadata": {
    "id": "UURRvx2w3mfR"
   },
   "source": [
    "## Importing libraries"
   ]
  },
  {
   "cell_type": "code",
   "execution_count": 2,
   "metadata": {
    "id": "KxX9B5ox3mVR"
   },
   "outputs": [],
   "source": [
    "import pandas as pd\n",
    "import numpy as np\n",
    "import seaborn as sns\n",
    "import matplotlib.pyplot as plt "
   ]
  },
  {
   "cell_type": "markdown",
   "metadata": {
    "id": "NVuG2rqg3yza"
   },
   "source": [
    "## Dataset exploration setting date as index"
   ]
  },
  {
   "cell_type": "code",
   "execution_count": 3,
   "metadata": {
    "id": "WqSMBvY331Y_"
   },
   "outputs": [
    {
     "data": {
      "text/html": [
       "<div>\n",
       "<style scoped>\n",
       "    .dataframe tbody tr th:only-of-type {\n",
       "        vertical-align: middle;\n",
       "    }\n",
       "\n",
       "    .dataframe tbody tr th {\n",
       "        vertical-align: top;\n",
       "    }\n",
       "\n",
       "    .dataframe thead th {\n",
       "        text-align: right;\n",
       "    }\n",
       "</style>\n",
       "<table border=\"1\" class=\"dataframe\">\n",
       "  <thead>\n",
       "    <tr style=\"text-align: right;\">\n",
       "      <th></th>\n",
       "      <th>open</th>\n",
       "      <th>high</th>\n",
       "      <th>low</th>\n",
       "      <th>close</th>\n",
       "      <th>volume</th>\n",
       "    </tr>\n",
       "  </thead>\n",
       "  <tbody>\n",
       "    <tr>\n",
       "      <th>1971-01-04</th>\n",
       "      <td>0.5369</td>\n",
       "      <td>0.5369</td>\n",
       "      <td>0.5369</td>\n",
       "      <td>0.5369</td>\n",
       "      <td>1</td>\n",
       "    </tr>\n",
       "    <tr>\n",
       "      <th>1971-01-05</th>\n",
       "      <td>0.5366</td>\n",
       "      <td>0.5366</td>\n",
       "      <td>0.5366</td>\n",
       "      <td>0.5366</td>\n",
       "      <td>1</td>\n",
       "    </tr>\n",
       "    <tr>\n",
       "      <th>1971-01-06</th>\n",
       "      <td>0.5365</td>\n",
       "      <td>0.5365</td>\n",
       "      <td>0.5365</td>\n",
       "      <td>0.5365</td>\n",
       "      <td>1</td>\n",
       "    </tr>\n",
       "    <tr>\n",
       "      <th>1971-01-07</th>\n",
       "      <td>0.5368</td>\n",
       "      <td>0.5368</td>\n",
       "      <td>0.5368</td>\n",
       "      <td>0.5368</td>\n",
       "      <td>1</td>\n",
       "    </tr>\n",
       "    <tr>\n",
       "      <th>1971-01-08</th>\n",
       "      <td>0.5371</td>\n",
       "      <td>0.5371</td>\n",
       "      <td>0.5371</td>\n",
       "      <td>0.5371</td>\n",
       "      <td>1</td>\n",
       "    </tr>\n",
       "  </tbody>\n",
       "</table>\n",
       "</div>"
      ],
      "text/plain": [
       "              open    high     low   close  volume\n",
       "1971-01-04  0.5369  0.5369  0.5369  0.5369       1\n",
       "1971-01-05  0.5366  0.5366  0.5366  0.5366       1\n",
       "1971-01-06  0.5365  0.5365  0.5365  0.5365       1\n",
       "1971-01-07  0.5368  0.5368  0.5368  0.5368       1\n",
       "1971-01-08  0.5371  0.5371  0.5371  0.5371       1"
      ]
     },
     "execution_count": 3,
     "metadata": {},
     "output_type": "execute_result"
    }
   ],
   "source": [
    "df = pd.read_csv('eu.csv', index_col=0, parse_dates=True, skipinitialspace=True)\n",
    "df.drop('date', axis='columns', inplace=True)\n",
    "df.head() "
   ]
  },
  {
   "cell_type": "code",
   "execution_count": 4,
   "metadata": {
    "id": "CBhJdinh4B1x"
   },
   "outputs": [
    {
     "data": {
      "text/html": [
       "<div>\n",
       "<style scoped>\n",
       "    .dataframe tbody tr th:only-of-type {\n",
       "        vertical-align: middle;\n",
       "    }\n",
       "\n",
       "    .dataframe tbody tr th {\n",
       "        vertical-align: top;\n",
       "    }\n",
       "\n",
       "    .dataframe thead th {\n",
       "        text-align: right;\n",
       "    }\n",
       "</style>\n",
       "<table border=\"1\" class=\"dataframe\">\n",
       "  <thead>\n",
       "    <tr style=\"text-align: right;\">\n",
       "      <th></th>\n",
       "      <th>open</th>\n",
       "      <th>high</th>\n",
       "      <th>low</th>\n",
       "      <th>close</th>\n",
       "      <th>volume</th>\n",
       "    </tr>\n",
       "  </thead>\n",
       "  <tbody>\n",
       "    <tr>\n",
       "      <th>2019-05-01</th>\n",
       "      <td>1.12148</td>\n",
       "      <td>1.12644</td>\n",
       "      <td>1.11867</td>\n",
       "      <td>1.11941</td>\n",
       "      <td>52561</td>\n",
       "    </tr>\n",
       "    <tr>\n",
       "      <th>2019-05-02</th>\n",
       "      <td>1.11942</td>\n",
       "      <td>1.12187</td>\n",
       "      <td>1.11703</td>\n",
       "      <td>1.11709</td>\n",
       "      <td>59203</td>\n",
       "    </tr>\n",
       "    <tr>\n",
       "      <th>2019-05-03</th>\n",
       "      <td>1.11710</td>\n",
       "      <td>1.13236</td>\n",
       "      <td>1.11346</td>\n",
       "      <td>1.13234</td>\n",
       "      <td>62828</td>\n",
       "    </tr>\n",
       "    <tr>\n",
       "      <th>2019-05-08</th>\n",
       "      <td>1.11922</td>\n",
       "      <td>1.11927</td>\n",
       "      <td>1.11892</td>\n",
       "      <td>1.11920</td>\n",
       "      <td>698</td>\n",
       "    </tr>\n",
       "    <tr>\n",
       "      <th>2019-05-09</th>\n",
       "      <td>1.11902</td>\n",
       "      <td>1.11985</td>\n",
       "      <td>1.11860</td>\n",
       "      <td>1.11903</td>\n",
       "      <td>12844</td>\n",
       "    </tr>\n",
       "  </tbody>\n",
       "</table>\n",
       "</div>"
      ],
      "text/plain": [
       "               open     high      low    close  volume\n",
       "2019-05-01  1.12148  1.12644  1.11867  1.11941   52561\n",
       "2019-05-02  1.11942  1.12187  1.11703  1.11709   59203\n",
       "2019-05-03  1.11710  1.13236  1.11346  1.13234   62828\n",
       "2019-05-08  1.11922  1.11927  1.11892  1.11920     698\n",
       "2019-05-09  1.11902  1.11985  1.11860  1.11903   12844"
      ]
     },
     "execution_count": 4,
     "metadata": {},
     "output_type": "execute_result"
    }
   ],
   "source": [
    "df.tail()"
   ]
  },
  {
   "cell_type": "code",
   "execution_count": 5,
   "metadata": {
    "id": "5qBl-F3G4DkO"
   },
   "outputs": [
    {
     "name": "stdout",
     "output_type": "stream",
     "text": [
      "<class 'pandas.core.frame.DataFrame'>\n",
      "DatetimeIndex: 12115 entries, 1971-01-04 to 2019-05-09\n",
      "Data columns (total 5 columns):\n",
      " #   Column  Non-Null Count  Dtype  \n",
      "---  ------  --------------  -----  \n",
      " 0   open    12115 non-null  float64\n",
      " 1   high    12115 non-null  float64\n",
      " 2   low     12115 non-null  float64\n",
      " 3   close   12115 non-null  float64\n",
      " 4   volume  12115 non-null  int64  \n",
      "dtypes: float64(4), int64(1)\n",
      "memory usage: 567.9 KB\n"
     ]
    },
    {
     "data": {
      "text/plain": [
       "((12115, 5), None)"
      ]
     },
     "execution_count": 5,
     "metadata": {},
     "output_type": "execute_result"
    }
   ],
   "source": [
    "df.shape, df.info()"
   ]
  },
  {
   "cell_type": "markdown",
   "metadata": {
    "id": "ESy2XO2T4FQU"
   },
   "source": [
    "checking null values "
   ]
  },
  {
   "cell_type": "code",
   "execution_count": 6,
   "metadata": {
    "id": "QhOJbHXR5OoB"
   },
   "outputs": [
    {
     "data": {
      "text/plain": [
       "open      0\n",
       "high      0\n",
       "low       0\n",
       "close     0\n",
       "volume    0\n",
       "dtype: int64"
      ]
     },
     "execution_count": 6,
     "metadata": {},
     "output_type": "execute_result"
    }
   ],
   "source": [
    "df.isna().sum()"
   ]
  },
  {
   "cell_type": "markdown",
   "metadata": {
    "id": "C2kZ8Z3a5Qnw"
   },
   "source": [
    "statistical analysis"
   ]
  },
  {
   "cell_type": "code",
   "execution_count": 7,
   "metadata": {
    "id": "K7WotLXG5Sgn"
   },
   "outputs": [
    {
     "data": {
      "text/html": [
       "<div>\n",
       "<style scoped>\n",
       "    .dataframe tbody tr th:only-of-type {\n",
       "        vertical-align: middle;\n",
       "    }\n",
       "\n",
       "    .dataframe tbody tr th {\n",
       "        vertical-align: top;\n",
       "    }\n",
       "\n",
       "    .dataframe thead th {\n",
       "        text-align: right;\n",
       "    }\n",
       "</style>\n",
       "<table border=\"1\" class=\"dataframe\">\n",
       "  <thead>\n",
       "    <tr style=\"text-align: right;\">\n",
       "      <th></th>\n",
       "      <th>open</th>\n",
       "      <th>high</th>\n",
       "      <th>low</th>\n",
       "      <th>close</th>\n",
       "      <th>volume</th>\n",
       "    </tr>\n",
       "  </thead>\n",
       "  <tbody>\n",
       "    <tr>\n",
       "      <th>count</th>\n",
       "      <td>12115.000000</td>\n",
       "      <td>12115.000000</td>\n",
       "      <td>12115.000000</td>\n",
       "      <td>12115.000000</td>\n",
       "      <td>12115.000000</td>\n",
       "    </tr>\n",
       "    <tr>\n",
       "      <th>mean</th>\n",
       "      <td>1.072829</td>\n",
       "      <td>1.076753</td>\n",
       "      <td>1.068981</td>\n",
       "      <td>1.072871</td>\n",
       "      <td>20323.133884</td>\n",
       "    </tr>\n",
       "    <tr>\n",
       "      <th>std</th>\n",
       "      <td>0.234412</td>\n",
       "      <td>0.236481</td>\n",
       "      <td>0.232351</td>\n",
       "      <td>0.234409</td>\n",
       "      <td>37538.102171</td>\n",
       "    </tr>\n",
       "    <tr>\n",
       "      <th>min</th>\n",
       "      <td>0.536500</td>\n",
       "      <td>0.536500</td>\n",
       "      <td>0.536500</td>\n",
       "      <td>0.536500</td>\n",
       "      <td>1.000000</td>\n",
       "    </tr>\n",
       "    <tr>\n",
       "      <th>25%</th>\n",
       "      <td>0.878950</td>\n",
       "      <td>0.881650</td>\n",
       "      <td>0.875400</td>\n",
       "      <td>0.878700</td>\n",
       "      <td>231.000000</td>\n",
       "    </tr>\n",
       "    <tr>\n",
       "      <th>50%</th>\n",
       "      <td>1.110700</td>\n",
       "      <td>1.115000</td>\n",
       "      <td>1.107070</td>\n",
       "      <td>1.111100</td>\n",
       "      <td>1891.000000</td>\n",
       "    </tr>\n",
       "    <tr>\n",
       "      <th>75%</th>\n",
       "      <td>1.257600</td>\n",
       "      <td>1.263790</td>\n",
       "      <td>1.251900</td>\n",
       "      <td>1.257600</td>\n",
       "      <td>11863.000000</td>\n",
       "    </tr>\n",
       "    <tr>\n",
       "      <th>max</th>\n",
       "      <td>1.599500</td>\n",
       "      <td>1.603800</td>\n",
       "      <td>1.586600</td>\n",
       "      <td>1.599700</td>\n",
       "      <td>308716.000000</td>\n",
       "    </tr>\n",
       "  </tbody>\n",
       "</table>\n",
       "</div>"
      ],
      "text/plain": [
       "               open          high           low         close         volume\n",
       "count  12115.000000  12115.000000  12115.000000  12115.000000   12115.000000\n",
       "mean       1.072829      1.076753      1.068981      1.072871   20323.133884\n",
       "std        0.234412      0.236481      0.232351      0.234409   37538.102171\n",
       "min        0.536500      0.536500      0.536500      0.536500       1.000000\n",
       "25%        0.878950      0.881650      0.875400      0.878700     231.000000\n",
       "50%        1.110700      1.115000      1.107070      1.111100    1891.000000\n",
       "75%        1.257600      1.263790      1.251900      1.257600   11863.000000\n",
       "max        1.599500      1.603800      1.586600      1.599700  308716.000000"
      ]
     },
     "execution_count": 7,
     "metadata": {},
     "output_type": "execute_result"
    }
   ],
   "source": [
    "df.describe()"
   ]
  },
  {
   "cell_type": "markdown",
   "metadata": {
    "id": "kcHacoKJ5T8C"
   },
   "source": [
    "## Market Trends"
   ]
  },
  {
   "cell_type": "markdown",
   "metadata": {
    "id": "tp4060iU5WZX"
   },
   "source": [
    "### data visualisation\n",
    "\n",
    "Visualizing trend for closing price "
   ]
  },
  {
   "cell_type": "code",
   "execution_count": 8,
   "metadata": {
    "id": "DbIh6kaU5aOi"
   },
   "outputs": [
    {
     "name": "stderr",
     "output_type": "stream",
     "text": [
      "No artists with labels found to put in legend.  Note that artists whose label start with an underscore are ignored when legend() is called with no argument.\n"
     ]
    },
    {
     "data": {
      "image/png": "[encoded data removed]",
      "text/plain": [
       "<Figure size 1080x432 with 1 Axes>"
      ]
     },
     "metadata": {
      "needs_background": "light"
     },
     "output_type": "display_data"
    }
   ],
   "source": [
    "plt.figure(figsize=(15,6))\n",
    "plt.plot(df.close)\n",
    "plt.title('Euro vs USD')\n",
    "plt.legend()\n",
    "plt.show() "
   ]
  },
  {
   "cell_type": "code",
   "execution_count": 9,
   "metadata": {
    "id": "NySC1Nr95doU"
   },
   "outputs": [
    {
     "name": "stderr",
     "output_type": "stream",
     "text": [
      "No artists with labels found to put in legend.  Note that artists whose label start with an underscore are ignored when legend() is called with no argument.\n"
     ]
    },
    {
     "data": {
      "image/png": "[encoded data removed]",
      "text/plain": [
       "<Figure size 1080x432 with 1 Axes>"
      ]
     },
     "metadata": {
      "needs_background": "light"
     },
     "output_type": "display_data"
    }
   ],
   "source": [
    "# visualizing trend for volume\n",
    "\n",
    "plt.figure(figsize=(15,6))\n",
    "plt.plot(df.volume)\n",
    "plt.title('Euro vs USD')\n",
    "plt.legend()\n",
    "plt.show() "
   ]
  },
  {
   "cell_type": "code",
   "execution_count": null,
   "metadata": {
    "id": "v96-8yFi5gby"
   },
   "outputs": [],
   "source": [
    "#boxplot\n",
    "df.drop('volume', axis=1).boxplot()"
   ]
  },
  {
   "cell_type": "code",
   "execution_count": null,
   "metadata": {
    "id": "ztbuSlMa5i8u"
   },
   "outputs": [],
   "source": [
    "#generating heatmap\n",
    "sns.heatmap(df.corr())"
   ]
  },
  {
   "cell_type": "code",
   "execution_count": null,
   "metadata": {
    "id": "zzL0t44g5nPH"
   },
   "outputs": [],
   "source": [
    "# Resampling yearly analysis on volume\n",
    "\n",
    "df.resample('Y').mean().plot.bar(y=['volume'], figsize=[25,10])"
   ]
  },
  {
   "cell_type": "code",
   "execution_count": null,
   "metadata": {
    "id": "esIO-k-Y5pTc"
   },
   "outputs": [],
   "source": [
    "# Resampling yearly analysis on closing price\n",
    "\n",
    "df.resample('Y').mean().plot.bar(y=['close'], figsize=[25,10])"
   ]
  },
  {
   "cell_type": "code",
   "execution_count": null,
   "metadata": {
    "id": "SexudtGV5rJf"
   },
   "outputs": [],
   "source": [
    "# lag plot comparing before and after values on volume\n",
    "\n",
    "from pandas.plotting import lag_plot\n",
    "lag_plot(df['volume'].tail(500)) "
   ]
  },
  {
   "cell_type": "code",
   "execution_count": null,
   "metadata": {
    "id": "qzbeea3r5yzJ"
   },
   "outputs": [],
   "source": [
    "# lag plot comparing before and after values on closing price\n",
    "from pandas.plotting import lag_plot\n",
    "lag_plot(df['close'].tail(500)) "
   ]
  },
  {
   "cell_type": "code",
   "execution_count": null,
   "metadata": {
    "id": "i4qLaXUw56Ob"
   },
   "outputs": [],
   "source": [
    "df.iloc[:100].plot(y=['open', 'high', 'low', 'close'], figsize=(25,10))"
   ]
  },
  {
   "cell_type": "code",
   "execution_count": null,
   "metadata": {
    "id": "MLYJw-gj595N"
   },
   "outputs": [],
   "source": [
    "for itr in df.columns:\n",
    "    df.plot(y=[itr], figsize=(25,10))"
   ]
  },
  {
   "cell_type": "markdown",
   "metadata": {
    "id": "kurZpQQ42tg7"
   },
   "source": [
    "#**Related Articles:**\n",
    "\n",
    "> * [Time Series Data Analysis on Forex Historical Dataset](https://analyticsindiamag.com/applying-time-series-analysis-on-forex-historical-dataset/)\n",
    "\n",
    "> * [Analyzing Climate Change](https://analyticsindiamag.com/time-series-analysis-on-climate-change/)\n",
    "\n",
    "> * [TadGAN](https://analyticsindiamag.com/hands-on-guide-to-tadgan-with-python-codes/)\n",
    "\n",
    "> * [Pastas](https://analyticsindiamag.com/guide-to-pastas-a-python-framework-for-hydrogeological-time-series-analysis/)\n",
    "\n",
    "> * [Bitcoin Price Prediction](https://analyticsindiamag.com/guide-to-implementing-time-series-analysis-predicting-bitcoin-price-with-rnn/)"
   ]
  }
 ],
 "metadata": {
  "colab": {
   "authorship_tag": "ABX9TyOQSGL3047bscDPAPLZ0zhS",
   "collapsed_sections": [],
   "name": "5_Timeseries_Analysis_on_Forex_Dataset.ipynb",
   "provenance": []
  },
  "interpreter": {
   "hash": "f60a20abaabf5a658075b37fac599269792a9493ddacd7c14d8505185d5625aa"
  },
  "kernelspec": {
   "display_name": "Python 3 (ipykernel)",
   "language": "python",
   "name": "python3"
  },
  "language_info": {
   "codemirror_mode": {
    "name": "ipython",
    "version": 3
   },
   "file_extension": ".py",
   "mimetype": "text/x-python",
   "name": "python",
   "nbconvert_exporter": "python",
   "pygments_lexer": "ipython3",
   "version": "3.8.10"
  }
 },
 "nbformat": 4,
 "nbformat_minor": 2
}
