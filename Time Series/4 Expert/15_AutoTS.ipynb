{
 "cells": [
  {
   "cell_type": "markdown",
   "metadata": {
    "id": "FBn5aEHYAbVJ"
   },
   "source": [
    "# **AutoTS**"
   ]
  },
  {
   "cell_type": "markdown",
   "metadata": {
    "id": "hRbpyZxFRCyT"
   },
   "source": [
    "Time series data is a type of data that changes over a time period. The sales data of a company does not remain the same for every year, sometimes it’s higher than the previous year, and sometimes it’s lower. Similarly, we see that stock prices are always changing.\n",
    "\n",
    "Time series prediction is predicting future data with respect to the historic data. Python has different models and libraries which can be used for prediction but we should know which library or model works best for which type of data. Because there are a large number of models but all work on different types of data.\n",
    "\n",
    "AutoTS allows you to run your data through different models for time series prediction which are already present in it and give out the result for the best model that works for your data. It has around 20 built-in models which make it powerful enough to work on any type of time-series data."
   ]
  },
  {
   "cell_type": "markdown",
   "metadata": {
    "id": "2tosRgI_RDhD"
   },
   "source": [
    "To know about it more, please refere [this](https://analyticsindiamag.com/hands-on-guide-to-autots-effective-model-selection-for-multiple-time-series/) article."
   ]
  },
  {
   "cell_type": "markdown",
   "metadata": {
    "id": "pY2VH-FkSVEi"
   },
   "source": [
    "# **Implementation**"
   ]
  },
  {
   "cell_type": "markdown",
   "metadata": {
    "id": "xpbRpJmdSXLF"
   },
   "source": [
    "Like any other python library, we will install AutoTS using pip install autots."
   ]
  },
  {
   "cell_type": "code",
   "execution_count": null,
   "metadata": {},
   "outputs": [],
   "source": [
    "\n",
    "!python -m pip install pip --upgrade --user -q --no-warn-script-location\n",
    "!python -m pip install numpy pandas seaborn matplotlib scipy statsmodels sklearn tensorflow keras torch torchvision \\\n",
    "    tqdm scikit-image pmdarima autots --user -q --no-warn-script-location\n",
    "\n",
    "import IPython\n",
    "IPython.Application.instance().kernel.do_shutdown(True)\n"
   ]
  },
  {
   "cell_type": "markdown",
   "metadata": {
    "id": "cZh9pakHSZHZ"
   },
   "source": [
    "Importing Required Libraries"
   ]
  },
  {
   "cell_type": "markdown",
   "metadata": {
    "id": "8Y_fppgnSbgx"
   },
   "source": [
    "We will use pandas for loading the dataset we will use and Autots for predicting the best model for forecasting of data."
   ]
  },
  {
   "cell_type": "code",
   "execution_count": null,
   "metadata": {
    "executionInfo": {
     "elapsed": 604,
     "status": "ok",
     "timestamp": 1623385057213,
     "user": {
      "displayName": "Aishwarya Verma",
      "photoUrl": "https://lh3.googleusercontent.com/a-/AOh14GiG6BREocxcd5R6rzlQGApoCsYso7BQAh63eXNz6Q=s64",
      "userId": "06108390091304498033"
     },
     "user_tz": -330
    },
    "id": "dnabDYtjAWcP"
   },
   "outputs": [],
   "source": [
    "import pandas as pd\n",
    "from autots import AutoTS"
   ]
  },
  {
   "cell_type": "markdown",
   "metadata": {
    "id": "R-6F7iwZSjcM"
   },
   "source": [
    "Loading the dataset"
   ]
  },
  {
   "cell_type": "markdown",
   "metadata": {
    "id": "FAurgbgiSlfu"
   },
   "source": [
    "We have downloaded the stock data of a stock name Biocon from Yahoo Finance in the csv format which I will use here. The dataset contains different attributes of stock data but we are mainly concerned with Date and Closing price."
   ]
  },
  {
   "cell_type": "code",
   "execution_count": null,
   "metadata": {
    "colab": {
     "base_uri": "https://localhost:8080/",
     "height": 206
    },
    "executionInfo": {
     "elapsed": 341,
     "status": "ok",
     "timestamp": 1623385158858,
     "user": {
      "displayName": "Aishwarya Verma",
      "photoUrl": "https://lh3.googleusercontent.com/a-/AOh14GiG6BREocxcd5R6rzlQGApoCsYso7BQAh63eXNz6Q=s64",
      "userId": "06108390091304498033"
     },
     "user_tz": -330
    },
    "id": "4E9yC8-xSnox",
    "outputId": "e8836dc8-4954-4ce9-d42d-d4674ef2d65b"
   },
   "outputs": [],
   "source": [
    "df = pd.read_csv('biocon.csv')\n",
    "df.head()"
   ]
  },
  {
   "cell_type": "markdown",
   "metadata": {
    "id": "g7DRqRR4S9B4"
   },
   "source": [
    "Creating the Model"
   ]
  },
  {
   "cell_type": "markdown",
   "metadata": {
    "id": "QEdCQDhDTCeV"
   },
   "source": [
    "For calling the model with our dataset we first need to define the model and pass the parameters according to our requirements. While creating the model we will give below parameters:\n",
    "\n",
    "> * forecast_length\n",
    "> * frequency\n",
    "> * ensemble\n",
    "> * Drop data"
   ]
  },
  {
   "cell_type": "code",
   "execution_count": null,
   "metadata": {
    "colab": {
     "base_uri": "https://localhost:8080/"
    },
    "executionInfo": {
     "elapsed": 341,
     "status": "ok",
     "timestamp": 1623385222922,
     "user": {
      "displayName": "Aishwarya Verma",
      "photoUrl": "https://lh3.googleusercontent.com/a-/AOh14GiG6BREocxcd5R6rzlQGApoCsYso7BQAh63eXNz6Q=s64",
      "userId": "06108390091304498033"
     },
     "user_tz": -330
    },
    "id": "q2NA2tMUTKbY",
    "outputId": "a1e95490-ff3a-4272-bab8-005b11a4c898"
   },
   "outputs": [],
   "source": [
    "mod = AutoTS(forecast_length=3, frequency='infer',  ensemble='simple', drop_data_older_than_periods=200 )"
   ]
  },
  {
   "cell_type": "markdown",
   "metadata": {
    "id": "KsxQWeBGTMKq"
   },
   "source": [
    "Fitting The Model"
   ]
  },
  {
   "cell_type": "markdown",
   "metadata": {
    "id": "jfei2mPsTOCB"
   },
   "source": [
    "After creating our model the step is to fit the model according to our dataset. We will also print the name of the model which best works for our data. This step will take some time as it will run our data through different models and check the best model for our data."
   ]
  },
  {
   "cell_type": "code",
   "execution_count": null,
   "metadata": {
    "colab": {
     "base_uri": "https://localhost:8080/"
    },
    "executionInfo": {
     "elapsed": 57882,
     "status": "ok",
     "timestamp": 1623385307145,
     "user": {
      "displayName": "Aishwarya Verma",
      "photoUrl": "https://lh3.googleusercontent.com/a-/AOh14GiG6BREocxcd5R6rzlQGApoCsYso7BQAh63eXNz6Q=s64",
      "userId": "06108390091304498033"
     },
     "user_tz": -330
    },
    "id": "Kwig22IPTQB0",
    "outputId": "04dccc20-0b56-4cb8-fe98-6b20f2c1e0cd"
   },
   "outputs": [],
   "source": [
    "mod = mod.fit(df, date_col='Date', value_col='Close', id_col=None)\n",
    "# Name of the best model\n",
    "print(mod)"
   ]
  },
  {
   "cell_type": "markdown",
   "metadata": {
    "id": "UDQsUa1zTV1W"
   },
   "source": [
    "Prediction and Forecasting"
   ]
  },
  {
   "cell_type": "markdown",
   "metadata": {
    "id": "F2wqwMBMTX0r"
   },
   "source": [
    "We can use AutoTS forecast and predict function for this step. As we have selected forecast length as 3 so it will display the forecast of the next 3 days."
   ]
  },
  {
   "cell_type": "code",
   "execution_count": null,
   "metadata": {
    "colab": {
     "base_uri": "https://localhost:8080/"
    },
    "executionInfo": {
     "elapsed": 1211,
     "status": "ok",
     "timestamp": 1623385308352,
     "user": {
      "displayName": "Aishwarya Verma",
      "photoUrl": "https://lh3.googleusercontent.com/a-/AOh14GiG6BREocxcd5R6rzlQGApoCsYso7BQAh63eXNz6Q=s64",
      "userId": "06108390091304498033"
     },
     "user_tz": -330
    },
    "id": "2CmuedWCTZZF",
    "outputId": "3de679d3-d698-4bd5-e2da-84fa4c008494"
   },
   "outputs": [],
   "source": [
    "prediction = mod.predict()"
   ]
  },
  {
   "cell_type": "code",
   "execution_count": null,
   "metadata": {
    "executionInfo": {
     "elapsed": 327,
     "status": "ok",
     "timestamp": 1623385322266,
     "user": {
      "displayName": "Aishwarya Verma",
      "photoUrl": "https://lh3.googleusercontent.com/a-/AOh14GiG6BREocxcd5R6rzlQGApoCsYso7BQAh63eXNz6Q=s64",
      "userId": "06108390091304498033"
     },
     "user_tz": -330
    },
    "id": "GqO9IuOnTbP1"
   },
   "outputs": [],
   "source": [
    "forecast = prediction.forecast\n",
    "model_results = mod.results()\n",
    "validation = mod.results(\"validation\")"
   ]
  },
  {
   "cell_type": "code",
   "execution_count": null,
   "metadata": {
    "colab": {
     "base_uri": "https://localhost:8080/"
    },
    "executionInfo": {
     "elapsed": 366,
     "status": "ok",
     "timestamp": 1623385327172,
     "user": {
      "displayName": "Aishwarya Verma",
      "photoUrl": "https://lh3.googleusercontent.com/a-/AOh14GiG6BREocxcd5R6rzlQGApoCsYso7BQAh63eXNz6Q=s64",
      "userId": "06108390091304498033"
     },
     "user_tz": -330
    },
    "id": "q6rIoaA7TjU7",
    "outputId": "f4cedba8-1abe-4620-f6c1-cd263b3da157"
   },
   "outputs": [],
   "source": [
    "#Forecast\n",
    "print(forecast)"
   ]
  },
  {
   "cell_type": "markdown",
   "metadata": {
    "id": "wUL0wwynTdUX"
   },
   "source": [
    "Let’s print the forecast of the dataset for the future stock price. Also, we will see the validation of the model results."
   ]
  },
  {
   "cell_type": "code",
   "execution_count": null,
   "metadata": {
    "colab": {
     "base_uri": "https://localhost:8080/"
    },
    "executionInfo": {
     "elapsed": 329,
     "status": "ok",
     "timestamp": 1623385344872,
     "user": {
      "displayName": "Aishwarya Verma",
      "photoUrl": "https://lh3.googleusercontent.com/a-/AOh14GiG6BREocxcd5R6rzlQGApoCsYso7BQAh63eXNz6Q=s64",
      "userId": "06108390091304498033"
     },
     "user_tz": -330
    },
    "id": "HpdwacdGTn2M",
    "outputId": "b925c9ca-58ab-4de9-c808-1f8de9371891"
   },
   "outputs": [],
   "source": [
    "#Validation Results\n",
    "print(validation)"
   ]
  },
  {
   "cell_type": "markdown",
   "metadata": {
    "id": "MqArsKEsd2S-"
   },
   "source": [
    "#**Related Articles:**\n",
    "\n",
    "> * [AutoTS](https://analyticsindiamag.com/hands-on-guide-to-autots-effective-model-selection-for-multiple-time-series/)\n",
    "\n",
    "> * [Sktime](https://analyticsindiamag.com/sktime-library/)\n",
    "\n",
    "> * [Time Series Forecasting with Streamlit](https://analyticsindiamag.com/how-to-deploy-time-series-forecasting-models-using-streamlit/)\n",
    "\n",
    "> * [STRIPE](https://analyticsindiamag.com/guide-to-stripe-shape-and-time-diversity-in-probabilistic-forecast/)\n",
    "\n",
    "> * [SelfTime](https://analyticsindiamag.com/guide-to-selftime-self-supervised-time-series-representation-learning-framework-with-python-code/)\n",
    "\n",
    "> * [Giotta Time](https://analyticsindiamag.com/guide-to-giotto-time-a-time-series-forecasting-python-library/)"
   ]
  }
 ],
 "metadata": {
  "colab": {
   "authorship_tag": "ABX9TyMIrIIAxJZFjU/ZWtoHfp/o",
   "collapsed_sections": [],
   "name": "15_AutoTS.ipynb",
   "provenance": []
  },
  "kernelspec": {
   "display_name": "Python 3",
   "name": "python3"
  },
  "language_info": {
   "name": "python"
  }
 },
 "nbformat": 4,
 "nbformat_minor": 2
}
