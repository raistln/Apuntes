{
 "cells": [
  {
   "cell_type": "markdown",
   "metadata": {
    "id": "yzGTSJb1lb9M"
   },
   "source": [
    "Orbit is a Python framework created by Uber for Bayesian time series forecasting and inference; it is built upon probabilistic programming packages like PyStan and Uber’s own Pyro. Orbit currently supports the implementations of the following forecasting models:\n",
    "\n",
    "> * Exponential Smoothing (ETS)\n",
    "> * Damped Local Trend (DLT)\n",
    "> * Local Global Trend (LGT)"
   ]
  },
  {
   "cell_type": "markdown",
   "metadata": {
    "id": "aA6nx-uQlNAO"
   },
   "source": [
    "# Implementing Damp Local Trend models with Orbit"
   ]
  },
  {
   "cell_type": "markdown",
   "metadata": {
    "id": "YvCKlV1ElNAS"
   },
   "source": [
    "**DLT** stands for Damped Local Trend model, which is an important model type in orbit package. In the model equation, there is a local trend term and a global trend term.\n",
    "\n",
    "In this notebook we will show how to use Orbit DLT models with the US unemployment claims data and different gloabl trend options\n",
    "\n",
    "**Note: Negative response values are not allowed in dlt model, due to the existence of the global trend term.**"
   ]
  },
  {
   "cell_type": "markdown",
   "metadata": {
    "id": "S7jLJaXolrMe"
   },
   "source": [
    "  Install orbit from PyPI\n",
    "\n"
   ]
  },
  {
   "cell_type": "code",
   "execution_count": null,
   "metadata": {},
   "outputs": [],
   "source": [
    "\n",
    "!python -m pip install pip --upgrade --user -q --no-warn-script-location\n",
    "!python -m pip install numpy pandas seaborn matplotlib scipy statsmodels sklearn tensorflow keras torch torchvision \\\n",
    "    tqdm scikit-image orbit-ml --user -q --no-warn-script-location\n",
    "import IPython\n",
    "IPython.Application.instance().kernel.do_shutdown(True)\n"
   ]
  },
  {
   "cell_type": "code",
   "execution_count": null,
   "metadata": {
    "ExecuteTime": {
     "end_time": "2020-11-04T22:07:57.520823Z",
     "start_time": "2020-11-04T22:07:55.836786Z"
    },
    "id": "cnhYnXvxlNAT"
   },
   "outputs": [],
   "source": [
    "import pandas as pd\n",
    "import numpy as np\n",
    "from datetime import timedelta\n",
    "\n",
    "from orbit.models.dlt import DLTMAP, DLTAggregated, DLTFull\n",
    "from orbit.diagnostics.plot import plot_predicted_data\n",
    "from orbit.diagnostics.plot import plot_predicted_components\n",
    "from orbit.utils.dataset import load_iclaims\n",
    "\n",
    "import warnings\n",
    "warnings.filterwarnings('ignore')"
   ]
  },
  {
   "cell_type": "markdown",
   "metadata": {
    "id": "KoaabcODlNAV"
   },
   "source": [
    "## Data"
   ]
  },
  {
   "cell_type": "markdown",
   "metadata": {
    "id": "W0p9ZkQElNAV"
   },
   "source": [
    "*iclaims_example* is a dataset containing the weekly initial claims for US unemployment benefits against a few related google trend queries (unemploy, filling and job)from Jan 2010 - June 2018. \n",
    "This aims to mimick the dataset from the paper [Predicting the Present with Bayesian Structural Time Series](https://people.ischool.berkeley.edu/~hal/Papers/2013/pred-present-with-bsts.pdf) by SCOTT and VARIAN (2014).\n",
    "\n",
    "Number of claims are obtained from [Federal Reserve Bank of St. Louis](https://fred.stlouisfed.org/series/ICNSA) while google queries are obtained through [Google Trends API](https://trends.google.com/trends/?geo=US).\n",
    "Note that dataset is transformed by natural log before fitting in order to be fitted as a multiplicative model."
   ]
  },
  {
   "cell_type": "code",
   "execution_count": null,
   "metadata": {
    "ExecuteTime": {
     "end_time": "2020-11-04T22:07:57.674005Z",
     "start_time": "2020-11-04T22:07:57.524917Z"
    },
    "id": "ev8wDOT7lNAW"
   },
   "outputs": [],
   "source": [
    "# load data\n",
    "df = load_iclaims()\n",
    "date_col = 'week'\n",
    "response_col = 'claims'\n",
    "df.dtypes"
   ]
  },
  {
   "cell_type": "code",
   "execution_count": null,
   "metadata": {
    "ExecuteTime": {
     "end_time": "2020-08-28T20:52:04.578114Z",
     "start_time": "2020-08-28T20:52:04.566544Z"
    },
    "id": "YxkCpWLGlNAY"
   },
   "outputs": [],
   "source": [
    "df.head(5)"
   ]
  },
  {
   "cell_type": "markdown",
   "metadata": {
    "id": "YCEedechlNAZ"
   },
   "source": [
    "### Train / Test Split"
   ]
  },
  {
   "cell_type": "code",
   "execution_count": null,
   "metadata": {
    "ExecuteTime": {
     "end_time": "2020-08-28T20:52:04.891345Z",
     "start_time": "2020-08-28T20:52:04.887233Z"
    },
    "id": "S1BrE-KHlNAa"
   },
   "outputs": [],
   "source": [
    "test_size = 52\n",
    "train_df = df[:-test_size]\n",
    "test_df = df[-test_size:]"
   ]
  },
  {
   "cell_type": "code",
   "execution_count": null,
   "metadata": {
    "ExecuteTime": {
     "end_time": "2020-08-28T20:52:05.150230Z",
     "start_time": "2020-08-28T20:52:05.139802Z"
    },
    "id": "4Aha4j5clNAb"
   },
   "outputs": [],
   "source": [
    "train_df.head(5)"
   ]
  },
  {
   "cell_type": "markdown",
   "metadata": {
    "id": "BIPgxUu4lNAc"
   },
   "source": [
    "## DLT Model"
   ]
  },
  {
   "cell_type": "markdown",
   "metadata": {
    "id": "GZUY7x6tlNAd"
   },
   "source": [
    "**DLT** stands for Damped Local Trend model,"
   ]
  },
  {
   "cell_type": "markdown",
   "metadata": {
    "id": "cyhNYRI_lNAd"
   },
   "source": [
    "$$ y_{t}  = \\hat{y}_t + \\epsilon $$\n",
    "$$\\hat{y}_t=\\mu_t + s_t + r_t $$\n",
    "$$\\mu_t=D(t) + l_{t-1} +  \\theta{b_{t-1}}$$\n",
    "\n",
    "with the update process as such \n",
    "\n",
    "$$g_t = D(t)$$\n",
    "$$l_t = \\rho_l(y_t - g_{t} - s_t - r_t) + (1-\\rho_l)l_{t-1}$$\n",
    "$$b_t=  \\rho_b(l_t - l_{t-1}) + (1-\\rho_b)\\theta{b_{t-1}}$$\n",
    "$$s_{t+m} =  \\rho_s(y_t - l_t - r_t) + (1-\\rho_s)s_t$$\n",
    "$$r_t =  \\Sigma_{j}\\beta_j x_{jt}$$\n",
    "\n",
    "There are a few choices of $D(t)$ as a global trend, such as linear, log-linear and logistic. Another feature of DLT is the regression component $r_t$. This serves the purpose of nowcasting or forecasting when exogenous regressors are known such as events and holidays.  Without losing generality, assume\n",
    "\n",
    "$$\\beta_j ~\\sim \\mathtt{Normal}(\\mu_j, \\sigma_j)$$\n",
    "\n",
    "where $\\mu_j = 0$  and $\\sigma_j = 1$ by default as a non-informative prior. There are more choices of priors for the regression component in the package."
   ]
  },
  {
   "cell_type": "markdown",
   "metadata": {
    "id": "w2FYtLGklNAd"
   },
   "source": [
    "In orbit, we have three different wrappers for DLT models, `DLTMAP`, `DLTAggregated` and  `DLTFull`"
   ]
  },
  {
   "cell_type": "markdown",
   "metadata": {
    "id": "a4izG_9klNAe"
   },
   "source": [
    "### DLTMAP"
   ]
  },
  {
   "cell_type": "markdown",
   "metadata": {
    "id": "0TEC-08_lNAe"
   },
   "source": [
    "DLT model for MAP (Maximum a Posteriori) prediction"
   ]
  },
  {
   "cell_type": "code",
   "execution_count": null,
   "metadata": {
    "ExecuteTime": {
     "end_time": "2020-08-28T20:52:05.634776Z",
     "start_time": "2020-08-28T20:52:05.631660Z"
    },
    "id": "KkSHQEmmlNAe"
   },
   "outputs": [],
   "source": [
    "dlt = DLTMAP(\n",
    "    response_col=response_col,\n",
    "    date_col=date_col,\n",
    "    seasonality=52,\n",
    "    seed=8888,\n",
    ")"
   ]
  },
  {
   "cell_type": "code",
   "execution_count": null,
   "metadata": {
    "ExecuteTime": {
     "end_time": "2020-08-28T20:52:06.601086Z",
     "start_time": "2020-08-28T20:52:05.849841Z"
    },
    "id": "FxOEUV0klNAe"
   },
   "outputs": [],
   "source": [
    "%%time\n",
    "dlt.fit(df=train_df)"
   ]
  },
  {
   "cell_type": "code",
   "execution_count": null,
   "metadata": {
    "ExecuteTime": {
     "end_time": "2020-08-28T20:52:06.615666Z",
     "start_time": "2020-08-28T20:52:06.603151Z"
    },
    "id": "VHwXuzBYlNAf"
   },
   "outputs": [],
   "source": [
    "predicted_df = dlt.predict(df=test_df)"
   ]
  },
  {
   "cell_type": "code",
   "execution_count": null,
   "metadata": {
    "ExecuteTime": {
     "end_time": "2020-08-28T20:52:06.854224Z",
     "start_time": "2020-08-28T20:52:06.628440Z"
    },
    "id": "L3MIZUjylNAf"
   },
   "outputs": [],
   "source": [
    "_ = plot_predicted_data(training_actual_df=train_df, predicted_df=predicted_df, \n",
    "                    date_col=date_col, actual_col=response_col,  \n",
    "                    test_actual_df=test_df, title='Prediction with DLTMAP Model')"
   ]
  },
  {
   "cell_type": "markdown",
   "metadata": {
    "id": "4zMMUE-olNAg"
   },
   "source": [
    "### DLTFull"
   ]
  },
  {
   "cell_type": "markdown",
   "metadata": {
    "id": "9fTyxNa9lNAg"
   },
   "source": [
    "LGT model for full prediction. In full prediction, the prediction occurs as a function of each parameter posterior sample, and the prediction results are aggregated after prediction. Prediction will always return the median (aka 50th percentile) along with any additional percentiles that are specified."
   ]
  },
  {
   "cell_type": "code",
   "execution_count": null,
   "metadata": {
    "ExecuteTime": {
     "end_time": "2020-08-28T20:52:07.244536Z",
     "start_time": "2020-08-28T20:52:07.241179Z"
    },
    "id": "SMogmTaglNAg"
   },
   "outputs": [],
   "source": [
    "dlt = DLTFull(\n",
    "    response_col=response_col,\n",
    "    date_col=date_col,\n",
    "    seasonality=52,\n",
    "    seed=8888\n",
    ")"
   ]
  },
  {
   "cell_type": "code",
   "execution_count": null,
   "metadata": {
    "ExecuteTime": {
     "end_time": "2020-08-28T20:52:27.122359Z",
     "start_time": "2020-08-28T20:52:07.723407Z"
    },
    "id": "70TWFih9lNAg"
   },
   "outputs": [],
   "source": [
    "%%time\n",
    "dlt.fit(df=train_df)"
   ]
  },
  {
   "cell_type": "code",
   "execution_count": null,
   "metadata": {
    "ExecuteTime": {
     "end_time": "2020-08-28T20:52:27.213075Z",
     "start_time": "2020-08-28T20:52:27.125445Z"
    },
    "id": "PpTCRpEWlNAh"
   },
   "outputs": [],
   "source": [
    "predicted_df = dlt.predict(df=test_df, store_prediction_array=True)"
   ]
  },
  {
   "cell_type": "code",
   "execution_count": null,
   "metadata": {
    "id": "rcp0vfjalNAh"
   },
   "outputs": [],
   "source": [
    "dlt.predict"
   ]
  },
  {
   "cell_type": "code",
   "execution_count": null,
   "metadata": {
    "id": "r4UHYr2ilNAi"
   },
   "outputs": [],
   "source": [
    "predicted_df.tail(5)"
   ]
  },
  {
   "cell_type": "code",
   "execution_count": null,
   "metadata": {
    "ExecuteTime": {
     "end_time": "2020-08-28T20:52:27.458623Z",
     "start_time": "2020-08-28T20:52:27.226321Z"
    },
    "id": "AvH8CYsulNAi"
   },
   "outputs": [],
   "source": [
    "_ = plot_predicted_data(training_actual_df=train_df, predicted_df=predicted_df, \n",
    "                    date_col=dlt.date_col, actual_col=dlt.response_col, \n",
    "                    test_actual_df=test_df, title='Prediction with DLTFull Model')"
   ]
  },
  {
   "cell_type": "markdown",
   "metadata": {
    "id": "EVwmRv3tlNAi"
   },
   "source": [
    "### DLTAggregated"
   ]
  },
  {
   "cell_type": "markdown",
   "metadata": {
    "id": "ALys04wvlNAi"
   },
   "source": [
    "DLT model for aggregated posterior prediction. In aggregated prediction, the parameter posterior samples are reduced using `aggregate_method ({ 'mean', 'median' })` before performing a single prediction."
   ]
  },
  {
   "cell_type": "code",
   "execution_count": null,
   "metadata": {
    "ExecuteTime": {
     "end_time": "2020-08-28T20:52:07.244536Z",
     "start_time": "2020-08-28T20:52:07.241179Z"
    },
    "id": "EiV7QkpmlNAj"
   },
   "outputs": [],
   "source": [
    "dlt = DLTAggregated(\n",
    "    response_col=response_col,\n",
    "    date_col=date_col,\n",
    "    seasonality=52,\n",
    "    seed=8888\n",
    ")"
   ]
  },
  {
   "cell_type": "code",
   "execution_count": null,
   "metadata": {
    "ExecuteTime": {
     "end_time": "2020-08-28T20:52:27.122359Z",
     "start_time": "2020-08-28T20:52:07.723407Z"
    },
    "id": "4LqE6LImlNAk"
   },
   "outputs": [],
   "source": [
    "%%time\n",
    "dlt.fit(df=train_df)"
   ]
  },
  {
   "cell_type": "code",
   "execution_count": null,
   "metadata": {
    "ExecuteTime": {
     "end_time": "2020-08-28T20:52:27.213075Z",
     "start_time": "2020-08-28T20:52:27.125445Z"
    },
    "id": "HrGu1rUglNAk"
   },
   "outputs": [],
   "source": [
    "predicted_df = dlt.predict(df=test_df)"
   ]
  },
  {
   "cell_type": "code",
   "execution_count": null,
   "metadata": {
    "id": "mnJbPu2jlNAl"
   },
   "outputs": [],
   "source": [
    "predicted_df.tail(5)"
   ]
  },
  {
   "cell_type": "code",
   "execution_count": null,
   "metadata": {
    "ExecuteTime": {
     "end_time": "2020-08-28T20:52:27.458623Z",
     "start_time": "2020-08-28T20:52:27.226321Z"
    },
    "id": "Spjltt3clNAl"
   },
   "outputs": [],
   "source": [
    "plot_predicted_data(training_actual_df=train_df, predicted_df=predicted_df, \n",
    "                    date_col=dlt.date_col, actual_col=dlt.response_col, \n",
    "                    test_actual_df=test_df, title='Prediction with DLTAggregated Model')"
   ]
  },
  {
   "cell_type": "markdown",
   "metadata": {
    "id": "ePL33N5ylNAm"
   },
   "source": [
    "## DLT Model with Global Trend"
   ]
  },
  {
   "cell_type": "markdown",
   "metadata": {
    "id": "wurqxpyvlNAm"
   },
   "source": [
    "The main differences between `DLT` and `LGT` are mainly:\n",
    "\n",
    "- It introduces a damped factor on local trend\n",
    "- It models global trend as a determinstic projection\n",
    "\n",
    "There are four options in modeling the `global trend` with the `global_trend_option` arguemnt:\n",
    "\n",
    "1. `linear`\n",
    "2. `loglinear`\n",
    "3. `logistic`\n",
    "4. `flat`\n",
    "\n",
    "The behavior of these three options will depend on the condition of `is_multiplicative` as well.  Below, we only show cases with condition when `is_multiplicative` as `True` since it is the default."
   ]
  },
  {
   "cell_type": "markdown",
   "metadata": {
    "id": "p4TcHYn9lNAm"
   },
   "source": [
    "### Data"
   ]
  },
  {
   "cell_type": "markdown",
   "metadata": {
    "id": "erMB2rsHlNAm"
   },
   "source": [
    "Instead of splitting the data into train and test. We will the full data set to train and simulate the multiplicative prediction data in the following 4 years:"
   ]
  },
  {
   "cell_type": "code",
   "execution_count": null,
   "metadata": {
    "id": "XNRVZ_qflNAm"
   },
   "outputs": [],
   "source": [
    "num_periods = 52 * 4\n",
    "freq = 7\n",
    "last_dt = (df[date_col].dt.to_pydatetime())[-1]\n",
    "dts = [last_dt + timedelta(days=x * freq) for x in range(1, num_periods + 1)]\n",
    "future_df = pd.DataFrame(dts, columns=[date_col])"
   ]
  },
  {
   "cell_type": "markdown",
   "metadata": {
    "id": "SHQ-orANlNAm"
   },
   "source": [
    "### Linear Trend"
   ]
  },
  {
   "cell_type": "markdown",
   "metadata": {
    "id": "IePlVcaBlNAn"
   },
   "source": [
    "In multiplicative model, the linear trend as default will be transformed as exponential growh/decay."
   ]
  },
  {
   "cell_type": "code",
   "execution_count": null,
   "metadata": {
    "ExecuteTime": {
     "end_time": "2020-08-31T23:16:47.081061Z",
     "start_time": "2020-08-31T23:16:47.077829Z"
    },
    "id": "ctzveTbKlNAo"
   },
   "outputs": [],
   "source": [
    "dlt = DLTMAP(\n",
    "    response_col=response_col,\n",
    "    date_col=date_col,\n",
    "    seasonality=52,\n",
    "    seed=8888\n",
    ")"
   ]
  },
  {
   "cell_type": "code",
   "execution_count": null,
   "metadata": {
    "ExecuteTime": {
     "end_time": "2020-08-31T23:17:38.822797Z",
     "start_time": "2020-08-31T23:16:47.529725Z"
    },
    "id": "fDpd4fPQlNAo"
   },
   "outputs": [],
   "source": [
    "%%time\n",
    "dlt.fit(df)"
   ]
  },
  {
   "cell_type": "code",
   "execution_count": null,
   "metadata": {
    "ExecuteTime": {
     "end_time": "2020-08-31T23:17:38.868151Z",
     "start_time": "2020-08-31T23:17:38.835360Z"
    },
    "id": "S8e5E5bslNAq"
   },
   "outputs": [],
   "source": [
    "predicted_df = dlt.predict(df=future_df, decompose=True)"
   ]
  },
  {
   "cell_type": "code",
   "execution_count": null,
   "metadata": {
    "ExecuteTime": {
     "end_time": "2020-08-31T23:17:39.099158Z",
     "start_time": "2020-08-31T23:17:38.886089Z"
    },
    "id": "Ldxub28hlNAq"
   },
   "outputs": [],
   "source": [
    "_ = plot_predicted_data(training_actual_df=df, predicted_df=predicted_df, \n",
    "                        date_col=dlt.date_col, actual_col=dlt.response_col,\n",
    "                        title='DLT Model with Linear Trend')"
   ]
  },
  {
   "cell_type": "markdown",
   "metadata": {
    "id": "ZoC6krgwlNAr"
   },
   "source": [
    "### Log-Linear Trend"
   ]
  },
  {
   "cell_type": "markdown",
   "metadata": {
    "id": "69r3w0cflNAr"
   },
   "source": [
    "For users who want to maintain linear trend assumption in the multiplicative model, they can switch to `loglinear` global trend.  "
   ]
  },
  {
   "cell_type": "code",
   "execution_count": null,
   "metadata": {
    "ExecuteTime": {
     "end_time": "2020-08-31T23:17:39.105008Z",
     "start_time": "2020-08-31T23:17:39.101329Z"
    },
    "id": "lu8C8wvPlNAs"
   },
   "outputs": [],
   "source": [
    "dlt_log = DLTMAP(\n",
    "    response_col=response_col,\n",
    "    date_col=date_col,\n",
    "    seasonality=52,\n",
    "    seed=8888,\n",
    "    global_trend_option='loglinear'\n",
    ")"
   ]
  },
  {
   "cell_type": "code",
   "execution_count": null,
   "metadata": {
    "ExecuteTime": {
     "end_time": "2020-08-31T23:17:39.291288Z",
     "start_time": "2020-08-31T23:17:39.107577Z"
    },
    "id": "IJgLGk7NlNAs"
   },
   "outputs": [],
   "source": [
    "%%time\n",
    "dlt_log.fit(df=df)"
   ]
  },
  {
   "cell_type": "code",
   "execution_count": null,
   "metadata": {
    "ExecuteTime": {
     "end_time": "2020-08-31T23:17:39.328217Z",
     "start_time": "2020-08-31T23:17:39.294882Z"
    },
    "id": "FtiMWh4xlNAt"
   },
   "outputs": [],
   "source": [
    "predicted_df_dlt_log = dlt_log.predict(df=future_df, decompose=True)"
   ]
  },
  {
   "cell_type": "code",
   "execution_count": null,
   "metadata": {
    "ExecuteTime": {
     "end_time": "2020-08-31T23:17:39.522612Z",
     "start_time": "2020-08-31T23:17:39.334397Z"
    },
    "id": "tx27ra5AlNAt"
   },
   "outputs": [],
   "source": [
    "_ = plot_predicted_data(training_actual_df=df, predicted_df=predicted_df_dlt_log, \n",
    "                        date_col=dlt_log.date_col, actual_col=dlt_log.response_col,\n",
    "                        title='DLT Model with Log-Linear Trend')"
   ]
  },
  {
   "cell_type": "markdown",
   "metadata": {
    "id": "fARgw4mFlNAt"
   },
   "source": [
    "### Logistic Trend"
   ]
  },
  {
   "cell_type": "markdown",
   "metadata": {
    "id": "iFLwwXtqlNAu"
   },
   "source": [
    "In case of modeling logistic growth/decay, user can switch to `logistic` in the `global_trend_option`. "
   ]
  },
  {
   "cell_type": "code",
   "execution_count": null,
   "metadata": {
    "ExecuteTime": {
     "end_time": "2020-08-31T23:17:39.526973Z",
     "start_time": "2020-08-31T23:17:39.524282Z"
    },
    "id": "IoiQylszlNAu"
   },
   "outputs": [],
   "source": [
    "dlt_logit = DLTMAP(\n",
    "    response_col=response_col,\n",
    "    date_col=date_col,\n",
    "    seasonality=52,\n",
    "    seed=8888,\n",
    "    global_trend_option='logistic'\n",
    ")"
   ]
  },
  {
   "cell_type": "code",
   "execution_count": null,
   "metadata": {
    "ExecuteTime": {
     "end_time": "2020-08-31T23:17:39.691108Z",
     "start_time": "2020-08-31T23:17:39.528615Z"
    },
    "id": "Y6OG-2oNlNAu"
   },
   "outputs": [],
   "source": [
    "%%time\n",
    "dlt_logit.fit(df=df)"
   ]
  },
  {
   "cell_type": "code",
   "execution_count": null,
   "metadata": {
    "ExecuteTime": {
     "end_time": "2020-08-31T23:17:39.725736Z",
     "start_time": "2020-08-31T23:17:39.692671Z"
    },
    "id": "5UJ9b1J-lNAu"
   },
   "outputs": [],
   "source": [
    "predicted_df_dlt_logit = dlt_logit.predict(df=future_df, decompose=True)"
   ]
  },
  {
   "cell_type": "code",
   "execution_count": null,
   "metadata": {
    "ExecuteTime": {
     "end_time": "2020-08-31T23:17:39.916284Z",
     "start_time": "2020-08-31T23:17:39.727893Z"
    },
    "id": "HxkaghsglNAv"
   },
   "outputs": [],
   "source": [
    "_ = plot_predicted_data(training_actual_df=df, predicted_df=predicted_df_dlt_logit, \n",
    "                        date_col=dlt_log.date_col, actual_col=dlt_log.response_col,\n",
    "                        title='DLT Model with Log-Linear Trend')"
   ]
  },
  {
   "cell_type": "markdown",
   "metadata": {
    "id": "dtN7MtqdlNAv"
   },
   "source": [
    "### Flat Trend"
   ]
  },
  {
   "cell_type": "code",
   "execution_count": null,
   "metadata": {
    "ExecuteTime": {
     "end_time": "2020-08-31T23:17:39.920674Z",
     "start_time": "2020-08-31T23:17:39.917842Z"
    },
    "id": "sSC3APttlNAv"
   },
   "outputs": [],
   "source": [
    "dlt_logit = DLTMAP(\n",
    "    response_col=response_col,\n",
    "    date_col=date_col,\n",
    "    seasonality=52,\n",
    "    seed=8888,\n",
    "    global_trend_option='flat'\n",
    ")"
   ]
  },
  {
   "cell_type": "code",
   "execution_count": null,
   "metadata": {
    "ExecuteTime": {
     "end_time": "2020-08-31T23:17:40.019169Z",
     "start_time": "2020-08-31T23:17:39.922462Z"
    },
    "id": "WKZY3MXIlNAv"
   },
   "outputs": [],
   "source": [
    "%%time\n",
    "dlt_logit.fit(df=df)"
   ]
  },
  {
   "cell_type": "code",
   "execution_count": null,
   "metadata": {
    "ExecuteTime": {
     "end_time": "2020-08-31T23:17:40.048479Z",
     "start_time": "2020-08-31T23:17:40.021537Z"
    },
    "id": "MlCn4N99lNAw"
   },
   "outputs": [],
   "source": [
    "predicted_df_dlt_logit = dlt_logit.predict(df=future_df, decompose=True)"
   ]
  },
  {
   "cell_type": "code",
   "execution_count": null,
   "metadata": {
    "ExecuteTime": {
     "end_time": "2020-08-31T23:17:40.245269Z",
     "start_time": "2020-08-31T23:17:40.054367Z"
    },
    "id": "hwof2yvGlNAw"
   },
   "outputs": [],
   "source": [
    "_ = plot_predicted_data(training_actual_df=df, predicted_df=predicted_df_dlt_logit, \n",
    "                        date_col=dlt_log.date_col, actual_col=dlt_log.response_col,\n",
    "                        title='DLT Model with Flat Trend')"
   ]
  },
  {
   "cell_type": "markdown",
   "metadata": {
    "id": "LtNanyatlNAw"
   },
   "source": [
    "More details for each method are available in the docstrings and also here: https://uber.github.io/orbit/orbit.models.html#module-orbit.models.dlt"
   ]
  }
 ],
 "metadata": {
  "colab": {
   "authorship_tag": "ABX9TyMxX3Xfp7PeIYdWoyUHOTgu",
   "collapsed_sections": [],
   "name": "1_Orbit.ipynb",
   "provenance": []
  },
  "kernelspec": {
   "display_name": "Python 3",
   "name": "python3"
  },
  "language_info": {
   "name": "python"
  }
 },
 "nbformat": 4,
 "nbformat_minor": 2
}
