{
 "cells": [
  {
   "cell_type": "markdown",
   "metadata": {
    "id": "yXnh8POPw_Xa"
   },
   "source": [
    "# **GluonTS**"
   ]
  },
  {
   "cell_type": "markdown",
   "metadata": {
    "id": "OCIT7nC-xDjJ"
   },
   "source": [
    "GluonTS is a toolkit that is specifically designed for probabilistic time series modeling, It is a subpart of the Gluon organization, Gluon is an open-source deep-learning interface that allows developers to build neural nets without compromising performance and efficiency. AWS and Microsoft first introduced it on October 12th, 2017 that provides many different neural network architectures and leverages the deep learning models. It combines many packages into one like mxnet– a lightweight, portable, flexible Distributed/Mobile Deep learning model; for Python, R, Julia, Scala. Go, Javascript, and more."
   ]
  },
  {
   "cell_type": "markdown",
   "metadata": {
    "id": "mtoi2W22xG3o"
   },
   "source": [
    "# **Installation**"
   ]
  },
  {
   "cell_type": "code",
   "execution_count": null,
   "metadata": {},
   "outputs": [],
   "source": [
    "\n",
    "!python -m pip install pip --upgrade --user -q --no-warn-script-location\n",
    "!python -m pip install numpy pandas seaborn matplotlib scipy statsmodels sklearn tensorflow keras torch torchvision \\\n",
    "    tqdm scikit-image pmdarima --user -q --no-warn-script-location\n",
    "!python -m pip install --upgrade mxnet~=1.7 gluonts --user -q\n",
    "import IPython\n",
    "IPython.Application.instance().kernel.do_shutdown(True)\n"
   ]
  },
  {
   "cell_type": "markdown",
   "metadata": {
    "id": "ME1lhc98xPCw"
   },
   "source": [
    "# **Getting Started**"
   ]
  },
  {
   "cell_type": "markdown",
   "metadata": {
    "id": "lPn20SPsxTL-"
   },
   "source": [
    "We have seen time series forecasting using TensorFlow and PyTorch, but they come with a lot of code and require great proficiency over the framework. GluonTS provide simple and on point code for running your time series forecasting here is an example code to run GluonTS for predicting Twitter volume with DeepAR."
   ]
  },
  {
   "cell_type": "code",
   "execution_count": null,
   "metadata": {
    "colab": {
     "base_uri": "https://localhost:8080/",
     "height": 513
    },
    "executionInfo": {
     "elapsed": 32711,
     "status": "ok",
     "timestamp": 1623661719191,
     "user": {
      "displayName": "Aishwarya Verma",
      "photoUrl": "https://lh3.googleusercontent.com/a-/AOh14GiG6BREocxcd5R6rzlQGApoCsYso7BQAh63eXNz6Q=s64",
      "userId": "06108390091304498033"
     },
     "user_tz": -330
    },
    "id": "NYZUjzmbxW1B",
    "outputId": "a4ecf9ba-e138-42e0-e59c-6e004aa79067"
   },
   "outputs": [],
   "source": [
    "#importing gluonTS utilities and pandas\n",
    "from gluonts.dataset import common\n",
    "from gluonts.model import deepar\n",
    "from gluonts.mx.trainer import Trainer\n",
    "import pandas as pd\n",
    "\n",
    "#getting train datatset of twitter volume\n",
    "url = \"https://raw.githubusercontent.com/numenta/NAB/master/data/realTweets/Twitter_volume_AMZN.csv\"\n",
    "df = pd.read_csv(url, header=0, index_col=0)\n",
    "data = common.ListDataset([{\n",
    "    \"start\": df.index[0],\n",
    "    \"target\": df.value[:\"2015-04-05 00:00:00\"]\n",
    "}],\n",
    "                          freq=\"5min\")\n",
    "#initializing trainers and deepAR estimators\n",
    "trainer = Trainer(epochs=10)\n",
    "estimator = deepar.DeepAREstimator(\n",
    "    freq=\"5min\", prediction_length=12, trainer=trainer)\n",
    "predictor = estimator.train(training_data=data)\n",
    "\n",
    "prediction = next(predictor.predict(data))\n",
    "print(prediction.mean)\n",
    "prediction.plot()"
   ]
  },
  {
   "cell_type": "markdown",
   "metadata": {
    "id": "-92DSRDRxZ-o"
   },
   "source": [
    "Let’s take an example dataset to forecast time series dataset using GluonTS"
   ]
  },
  {
   "cell_type": "code",
   "execution_count": null,
   "metadata": {
    "executionInfo": {
     "elapsed": 25,
     "status": "ok",
     "timestamp": 1623661719196,
     "user": {
      "displayName": "Aishwarya Verma",
      "photoUrl": "https://lh3.googleusercontent.com/a-/AOh14GiG6BREocxcd5R6rzlQGApoCsYso7BQAh63eXNz6Q=s64",
      "userId": "06108390091304498033"
     },
     "user_tz": -330
    },
    "id": "uhErJr5Cx37L"
   },
   "outputs": [],
   "source": [
    "#importing modules\n",
    "%matplotlib inline\n",
    "import mxnet as mx\n",
    "from mxnet import gluon\n",
    "import numpy as np\n",
    "import pandas as pd\n",
    "import matplotlib.pyplot as plt\n",
    "import json"
   ]
  },
  {
   "cell_type": "markdown",
   "metadata": {
    "id": "FJ-kBHm_x5yI"
   },
   "source": [
    "Importing inbuilt GluonTS datasets"
   ]
  },
  {
   "cell_type": "code",
   "execution_count": null,
   "metadata": {
    "colab": {
     "base_uri": "https://localhost:8080/"
    },
    "executionInfo": {
     "elapsed": 590,
     "status": "ok",
     "timestamp": 1623661724055,
     "user": {
      "displayName": "Aishwarya Verma",
      "photoUrl": "https://lh3.googleusercontent.com/a-/AOh14GiG6BREocxcd5R6rzlQGApoCsYso7BQAh63eXNz6Q=s64",
      "userId": "06108390091304498033"
     },
     "user_tz": -330
    },
    "id": "d5tmqxULx7ft",
    "outputId": "d1085920-e958-4c9b-d468-567c42b8dd16"
   },
   "outputs": [],
   "source": [
    "from gluonts.dataset.repository.datasets import get_dataset, dataset_recipes\n",
    "from gluonts.dataset.util import to_pandas\n",
    "print(f\"Available datasets: {list(dataset_recipes.keys())}\")"
   ]
  },
  {
   "cell_type": "markdown",
   "metadata": {
    "id": "RpGoJYYvx9XA"
   },
   "source": [
    "We are going to use the m4_hourly dataset, now the datasets provided by gluonts are objects that consist of three main attributes we will see later."
   ]
  },
  {
   "cell_type": "code",
   "execution_count": null,
   "metadata": {
    "colab": {
     "base_uri": "https://localhost:8080/"
    },
    "executionInfo": {
     "elapsed": 5755,
     "status": "ok",
     "timestamp": 1623661743230,
     "user": {
      "displayName": "Aishwarya Verma",
      "photoUrl": "https://lh3.googleusercontent.com/a-/AOh14GiG6BREocxcd5R6rzlQGApoCsYso7BQAh63eXNz6Q=s64",
      "userId": "06108390091304498033"
     },
     "user_tz": -330
    },
    "id": "D7Ura8jMx-_0",
    "outputId": "d09bf79a-c1b7-45fb-9e25-c75b27e0eb7b"
   },
   "outputs": [],
   "source": [
    "dataset = get_dataset(\"m4_hourly\", regenerate=True)"
   ]
  },
  {
   "cell_type": "markdown",
   "metadata": {
    "id": "RJouSt3FyAz4"
   },
   "source": [
    "Three main attributes of GluonTs dataset are dataset.train is a training dataset, dataset.test is a testing dataset, and dataset.metadata contains metadata of the dataset. Let’s plot and iterate the dataset using the following command."
   ]
  },
  {
   "cell_type": "code",
   "execution_count": null,
   "metadata": {
    "colab": {
     "base_uri": "https://localhost:8080/",
     "height": 300
    },
    "executionInfo": {
     "elapsed": 1007,
     "status": "ok",
     "timestamp": 1623661753080,
     "user": {
      "displayName": "Aishwarya Verma",
      "photoUrl": "https://lh3.googleusercontent.com/a-/AOh14GiG6BREocxcd5R6rzlQGApoCsYso7BQAh63eXNz6Q=s64",
      "userId": "06108390091304498033"
     },
     "user_tz": -330
    },
    "id": "MPPOLk_ayCi2",
    "outputId": "315dcc02-8ef6-4680-9e06-5298e923b0ce"
   },
   "outputs": [],
   "source": [
    "entry = next(iter(dataset.train))\n",
    "train_series = to_pandas(entry)\n",
    "train_series.plot()\n",
    "plt.grid(which=\"both\")\n",
    "plt.legend([\"train series\"], loc=\"upper left\")\n",
    "plt.show()"
   ]
  },
  {
   "cell_type": "markdown",
   "metadata": {
    "id": "N1N-MclyyEQZ"
   },
   "source": [
    "Similarly, you can plot test dataset"
   ]
  },
  {
   "cell_type": "code",
   "execution_count": null,
   "metadata": {
    "colab": {
     "base_uri": "https://localhost:8080/",
     "height": 300
    },
    "executionInfo": {
     "elapsed": 1129,
     "status": "ok",
     "timestamp": 1623661768113,
     "user": {
      "displayName": "Aishwarya Verma",
      "photoUrl": "https://lh3.googleusercontent.com/a-/AOh14GiG6BREocxcd5R6rzlQGApoCsYso7BQAh63eXNz6Q=s64",
      "userId": "06108390091304498033"
     },
     "user_tz": -330
    },
    "id": "PIS9r8E-yGJr",
    "outputId": "02734d07-b896-4931-b2d0-7fbb1011dea8"
   },
   "outputs": [],
   "source": [
    "entry = next(iter(dataset.test))\n",
    "test_series = to_pandas(entry)\n",
    "test_series.plot()\n",
    "plt.axvline(train_series.index[-1], color='r') # end of train dataset\n",
    "plt.grid(which=\"both\")\n",
    "plt.legend([\"test series\", \"end of train series\"], loc=\"upper left\")\n",
    "plt.show()"
   ]
  },
  {
   "cell_type": "markdown",
   "metadata": {
    "id": "QrL-B2z5yH8y"
   },
   "source": [
    "Preprocessing "
   ]
  },
  {
   "cell_type": "code",
   "execution_count": null,
   "metadata": {
    "executionInfo": {
     "elapsed": 490,
     "status": "ok",
     "timestamp": 1623661790604,
     "user": {
      "displayName": "Aishwarya Verma",
      "photoUrl": "https://lh3.googleusercontent.com/a-/AOh14GiG6BREocxcd5R6rzlQGApoCsYso7BQAh63eXNz6Q=s64",
      "userId": "06108390091304498033"
     },
     "user_tz": -330
    },
    "id": "51M0AnXbyF-3"
   },
   "outputs": [],
   "source": [
    "N = 10  # number of time series\n",
    "T = 100  # number of timesteps\n",
    "prediction_length = 24\n",
    "freq = \"1H\"\n",
    "custom_dataset = np.random.normal(size=(N, T))\n",
    "start = pd.Timestamp(\"01-01-2019\", freq=freq)  # can be different for each time series\n",
    "\n",
    "#Now for splitting dataset and converting it to gluonts format use following commands:\n",
    "\n",
    "from gluonts.dataset.common import ListDataset\n",
    "# train dataset: cut \"prediction_length\", add \"target\" and \"start\" fields\n",
    "train_ds = ListDataset([{'target': x, 'start': start} \n",
    "                        for x in custom_dataset[:, :-prediction_length]],\n",
    "                       freq=freq)\n",
    "# test dataset: using whole dataset, add \"target\" and \"start\" fields\n",
    "test_ds = ListDataset([{'target': x, 'start': start} \n",
    "                       for x in custom_dataset],\n",
    "                      freq=freq)"
   ]
  },
  {
   "cell_type": "markdown",
   "metadata": {
    "id": "MgWhEXggyNhs"
   },
   "source": [
    "### Training"
   ]
  },
  {
   "cell_type": "markdown",
   "metadata": {
    "id": "ZLQeb_LxyQmB"
   },
   "source": [
    "GlounTS comes with its own hyper parameters and feedforward neural network like SimpleFeedForwardEstimator that accepts an input window of length context_length and predicts the distribution of the value. Let;s import necessary training methods and assign estimators values using following commands:"
   ]
  },
  {
   "cell_type": "code",
   "execution_count": null,
   "metadata": {
    "colab": {
     "base_uri": "https://localhost:8080/"
    },
    "executionInfo": {
     "elapsed": 7694,
     "status": "ok",
     "timestamp": 1623661839070,
     "user": {
      "displayName": "Aishwarya Verma",
      "photoUrl": "https://lh3.googleusercontent.com/a-/AOh14GiG6BREocxcd5R6rzlQGApoCsYso7BQAh63eXNz6Q=s64",
      "userId": "06108390091304498033"
     },
     "user_tz": -330
    },
    "id": "5GZk7_wsySws",
    "outputId": "fd81b8e9-f7bc-4084-bd11-b9515ad43de9"
   },
   "outputs": [],
   "source": [
    "from gluonts.model.simple_feedforward import SimpleFeedForwardEstimator\n",
    "from gluonts.mx.trainer import Trainer\n",
    "estimator = SimpleFeedForwardEstimator(\n",
    "    num_hidden_dimensions=[10],\n",
    "    prediction_length=dataset.metadata.prediction_length,\n",
    "    context_length=100,\n",
    "    freq=dataset.metadata.freq,\n",
    "    trainer=Trainer(ctx=\"cpu\", \n",
    "                    epochs=5, \n",
    "                    learning_rate=1e-3, \n",
    "                    num_batches_per_epoch=100\n",
    "                   )\n",
    ")\n",
    "#start training\n",
    "predictor = estimator.train(dataset.train)"
   ]
  },
  {
   "cell_type": "markdown",
   "metadata": {
    "id": "1jNqcCMMyXa3"
   },
   "source": [
    "### Evaluate"
   ]
  },
  {
   "cell_type": "markdown",
   "metadata": {
    "id": "jiJhHqadyZts"
   },
   "source": [
    "For evaluating the models we have further make_evaluation_predictions function that automates the process of prediction and model evaluation."
   ]
  },
  {
   "cell_type": "code",
   "execution_count": null,
   "metadata": {
    "executionInfo": {
     "elapsed": 572,
     "status": "ok",
     "timestamp": 1623661854071,
     "user": {
      "displayName": "Aishwarya Verma",
      "photoUrl": "https://lh3.googleusercontent.com/a-/AOh14GiG6BREocxcd5R6rzlQGApoCsYso7BQAh63eXNz6Q=s64",
      "userId": "06108390091304498033"
     },
     "user_tz": -330
    },
    "id": "C9jNbpn2ySmd"
   },
   "outputs": [],
   "source": [
    "from gluonts.evaluation.backtest import make_evaluation_predictions\n",
    "forecast_it, ts_it = make_evaluation_predictions(\n",
    "    dataset=dataset.test,  # test dataset\n",
    "    predictor=predictor,  # predictor\n",
    "    num_samples=100,  # number of sample paths for evaluation\n",
    ")"
   ]
  },
  {
   "cell_type": "markdown",
   "metadata": {
    "id": "pFFfBrPkydFH"
   },
   "source": [
    "Convert the generators to list to ease the computations and examine the first element of these lists:"
   ]
  },
  {
   "cell_type": "code",
   "execution_count": null,
   "metadata": {
    "executionInfo": {
     "elapsed": 1468,
     "status": "ok",
     "timestamp": 1623661869169,
     "user": {
      "displayName": "Aishwarya Verma",
      "photoUrl": "https://lh3.googleusercontent.com/a-/AOh14GiG6BREocxcd5R6rzlQGApoCsYso7BQAh63eXNz6Q=s64",
      "userId": "06108390091304498033"
     },
     "user_tz": -330
    },
    "id": "I2275HuMyeyw"
   },
   "outputs": [],
   "source": [
    "forecasts = list(forecast_it)\n",
    "tss = list(ts_it)\n",
    "# first entry of the time series list\n",
    "ts_entry = tss[0]"
   ]
  },
  {
   "cell_type": "markdown",
   "metadata": {
    "id": "h2RKTvZGyc8C"
   },
   "source": [
    "Convert the first five value of time-series from pandas to NumPy and initialize first entry of dataset.test"
   ]
  },
  {
   "cell_type": "code",
   "execution_count": null,
   "metadata": {
    "executionInfo": {
     "elapsed": 625,
     "status": "ok",
     "timestamp": 1623661887502,
     "user": {
      "displayName": "Aishwarya Verma",
      "photoUrl": "https://lh3.googleusercontent.com/a-/AOh14GiG6BREocxcd5R6rzlQGApoCsYso7BQAh63eXNz6Q=s64",
      "userId": "06108390091304498033"
     },
     "user_tz": -330
    },
    "id": "lPfCbRIiyjb3"
   },
   "outputs": [],
   "source": [
    "np.array(ts_entry[:5]).reshape(-1,)\n",
    "dataset_test_entry = next(iter(dataset.test))"
   ]
  },
  {
   "cell_type": "markdown",
   "metadata": {
    "id": "F8GjMy7eynTV"
   },
   "source": [
    "Similarly first 5 values and forecast entries"
   ]
  },
  {
   "cell_type": "code",
   "execution_count": null,
   "metadata": {
    "executionInfo": {
     "elapsed": 569,
     "status": "ok",
     "timestamp": 1623661909547,
     "user": {
      "displayName": "Aishwarya Verma",
      "photoUrl": "https://lh3.googleusercontent.com/a-/AOh14GiG6BREocxcd5R6rzlQGApoCsYso7BQAh63eXNz6Q=s64",
      "userId": "06108390091304498033"
     },
     "user_tz": -330
    },
    "id": "fuuda59Hyo5B"
   },
   "outputs": [],
   "source": [
    "dataset_test_entry['target'][:5]\n",
    "forecast_entry = forecasts[0]"
   ]
  },
  {
   "cell_type": "markdown",
   "metadata": {
    "id": "kfACzp3AytP5"
   },
   "source": [
    "### Output"
   ]
  },
  {
   "cell_type": "markdown",
   "metadata": {
    "id": "ky0JNaxoyvM4"
   },
   "source": [
    "For visualizing the outputs use following commands:"
   ]
  },
  {
   "cell_type": "code",
   "execution_count": null,
   "metadata": {
    "colab": {
     "base_uri": "https://localhost:8080/",
     "height": 452
    },
    "executionInfo": {
     "elapsed": 1190,
     "status": "ok",
     "timestamp": 1623661943774,
     "user": {
      "displayName": "Aishwarya Verma",
      "photoUrl": "https://lh3.googleusercontent.com/a-/AOh14GiG6BREocxcd5R6rzlQGApoCsYso7BQAh63eXNz6Q=s64",
      "userId": "06108390091304498033"
     },
     "user_tz": -330
    },
    "id": "PNRj3Pkoyw9i",
    "outputId": "e0f1a936-ae37-41b4-b68d-66a42a301c17"
   },
   "outputs": [],
   "source": [
    "def plot_prob_forecasts(ts_entry, forecast_entry):\n",
    "    plot_length = 150 \n",
    "    prediction_intervals = (50.0, 90.0)\n",
    "    legend = [\"observations\", \"median prediction\"] + [f\"{k}% prediction interval\" for k in prediction_intervals][::-1]\n",
    "\n",
    "    fig, ax = plt.subplots(1, 1, figsize=(10, 7))\n",
    "    ts_entry[-plot_length:].plot(ax=ax)  # plot the time series\n",
    "    forecast_entry.plot(prediction_intervals=prediction_intervals, color='g')\n",
    "    plt.grid(which=\"both\")\n",
    "    plt.legend(legend, loc=\"upper left\")\n",
    "    plt.show()\n",
    "plot_prob_forecasts(ts_entry, forecast_entry)"
   ]
  },
  {
   "cell_type": "markdown",
   "metadata": {
    "id": "UWGCqiXAyzKb"
   },
   "source": [
    "You can also evaluate the quality of time series forecast using evaluator class, that can compute the aggregate performance metrics,"
   ]
  },
  {
   "cell_type": "code",
   "execution_count": null,
   "metadata": {
    "colab": {
     "base_uri": "https://localhost:8080/"
    },
    "executionInfo": {
     "elapsed": 2482,
     "status": "ok",
     "timestamp": 1623661962372,
     "user": {
      "displayName": "Aishwarya Verma",
      "photoUrl": "https://lh3.googleusercontent.com/a-/AOh14GiG6BREocxcd5R6rzlQGApoCsYso7BQAh63eXNz6Q=s64",
      "userId": "06108390091304498033"
     },
     "user_tz": -330
    },
    "id": "gr53JrPMy1IP",
    "outputId": "ebe90826-fd51-4e75-cc88-77e36fbb61c1"
   },
   "outputs": [],
   "source": [
    "from gluonts.evaluation import Evaluator\n",
    "evaluator = Evaluator(quantiles=[0.1, 0.5, 0.9])\n",
    "agg_metrics, item_metrics = evaluator(iter(tss), iter(forecasts), num_series=len(dataset.test))\n",
    "print(json.dumps(agg_metrics, indent=4))"
   ]
  },
  {
   "cell_type": "markdown",
   "metadata": {
    "id": "MqArsKEsd2S-"
   },
   "source": [
    "#**Related Articles:**\n",
    "\n",
    "> * [Guide to Time Series Forecasting with GluonTS](https://analyticsindiamag.com/gluonts-pytorchts-for-time-series-forecasting/)\n",
    "\n",
    "> * [Tensorflow Core](https://analyticsindiamag.com/time-series-forecasting-using-tensorflow-core/)\n",
    "\n",
    "> * [LSTM RNN on Foreign Exchange Rate Prediction](https://analyticsindiamag.com/foreign-exchange-rate-prediction-using-lstm-recurrent-neural-network/)\n",
    "\n",
    "> * [Pyflux](https://analyticsindiamag.com/pyflux-guide-python-library-for-time-series-analysis-and-prediction/)\n",
    "\n",
    "> * [Atspy](https://analyticsindiamag.com/hands-on-guide-to-atspy-for-automating-the-time-series-forecasting/)\n",
    "\n",
    "> * [AutoTS](https://analyticsindiamag.com/hands-on-guide-to-autots-effective-model-selection-for-multiple-time-series/)"
   ]
  }
 ],
 "metadata": {
  "colab": {
   "authorship_tag": "ABX9TyMk6lwUIaiJjQk2+a0QYHGw",
   "name": "19_GluonTS_and_PytorchTS.ipynb",
   "provenance": []
  },
  "kernelspec": {
   "display_name": "Python 3",
   "name": "python3"
  },
  "language_info": {
   "name": "python"
  }
 },
 "nbformat": 4,
 "nbformat_minor": 2
}
