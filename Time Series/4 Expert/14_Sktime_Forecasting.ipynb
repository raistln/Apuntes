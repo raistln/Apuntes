{
 "cells": [
  {
   "cell_type": "markdown",
   "metadata": {
    "id": "hc5FHZxAZHTw"
   },
   "source": [
    "# Forecasting with sktime\n",
    "\n",
    "In forecasting, we're interested in using past data to make temporal forward predictions. `sktime` provides common statistical forecasting algorithms and tools for building composite machine learning models.\n",
    "\n",
    "For more details, take a look at [our paper on forecasting with sktime](https://arxiv.org/abs/2005.08067) in which we discuss the forecasting API in more detail and use it to replicate and extend the M4 study."
   ]
  },
  {
   "cell_type": "markdown",
   "metadata": {
    "id": "mVihh7DtZHT8"
   },
   "source": [
    "## Preliminaries"
   ]
  },
  {
   "cell_type": "code",
   "execution_count": null,
   "metadata": {},
   "outputs": [],
   "source": [
    "\n",
    "!python -m pip install pip --upgrade --user -q --no-warn-script-location\n",
    "!python -m pip install numpy pandas seaborn matplotlib scipy statsmodels sklearn tensorflow keras torch torchvision \\\n",
    "    tqdm scikit-image pmdarima sktime --user -q --no-warn-script-location\n",
    "\n",
    "import IPython\n",
    "IPython.Application.instance().kernel.do_shutdown(True)\n"
   ]
  },
  {
   "cell_type": "code",
   "execution_count": null,
   "metadata": {
    "execution": {
     "iopub.execute_input": "2021-04-10T16:07:04.261303Z",
     "iopub.status.busy": "2021-04-10T16:07:04.260567Z",
     "iopub.status.idle": "2021-04-10T16:07:05.845553Z",
     "shell.execute_reply": "2021-04-10T16:07:05.845887Z"
    },
    "id": "HYPpZu3lZHT9"
   },
   "outputs": [],
   "source": [
    "from warnings import simplefilter\n",
    "\n",
    "import numpy as np\n",
    "import pandas as pd\n",
    "\n",
    "from sktime.datasets import load_airline\n",
    "from sktime.forecasting.arima import ARIMA, AutoARIMA\n",
    "from sktime.forecasting.base import ForecastingHorizon\n",
    "from sktime.forecasting.compose import (\n",
    "    EnsembleForecaster,\n",
    "    MultiplexForecaster,\n",
    "    TransformedTargetForecaster,\n",
    "    make_reduction,\n",
    ")\n",
    "from sktime.forecasting.exp_smoothing import ExponentialSmoothing\n",
    "from sktime.forecasting.model_evaluation import evaluate\n",
    "from sktime.forecasting.model_selection import (\n",
    "    ExpandingWindowSplitter,\n",
    "    ForecastingGridSearchCV,\n",
    "    SlidingWindowSplitter,\n",
    "    temporal_train_test_split,\n",
    ")\n",
    "from sktime.forecasting.naive import NaiveForecaster\n",
    "from sktime.forecasting.theta import ThetaForecaster\n",
    "from sktime.forecasting.trend import PolynomialTrendForecaster\n",
    "from sktime.performance_metrics.forecasting import (\n",
    "    MeanAbsolutePercentageError,\n",
    "    mean_absolute_percentage_error,\n",
    ")\n",
    "from sktime.transformations.series.detrend import Deseasonalizer, Detrender\n",
    "from sktime.utils.plotting import plot_series\n",
    "\n",
    "simplefilter(\"ignore\", FutureWarning)\n",
    "%matplotlib inline"
   ]
  },
  {
   "cell_type": "markdown",
   "metadata": {
    "id": "Oa6NR3q3ZHUC"
   },
   "source": [
    "## Data\n",
    "To start, we use the Box-Jenkins univariate airline data set, which shows the number of international airline\n",
    "passengers per month from 1949 - 1960."
   ]
  },
  {
   "cell_type": "code",
   "execution_count": null,
   "metadata": {
    "colab": {
     "base_uri": "https://localhost:8080/",
     "height": 265
    },
    "execution": {
     "iopub.execute_input": "2021-04-10T16:07:05.849641Z",
     "iopub.status.busy": "2021-04-10T16:07:05.849188Z",
     "iopub.status.idle": "2021-04-10T16:07:06.049023Z",
     "shell.execute_reply": "2021-04-10T16:07:06.049499Z"
    },
    "executionInfo": {
     "elapsed": 518,
     "status": "ok",
     "timestamp": 1621683193572,
     "user": {
      "displayName": "Krishna Rastogi",
      "photoUrl": "",
      "userId": "02350259800549833452"
     },
     "user_tz": -330
    },
    "id": "L1II1jsLZHUE",
    "outputId": "1917f786-5606-40ec-8cdc-6b34770b3763"
   },
   "outputs": [],
   "source": [
    "y = load_airline()\n",
    "plot_series(y);"
   ]
  },
  {
   "cell_type": "markdown",
   "metadata": {
    "id": "__tJk7SMZHUG"
   },
   "source": [
    "A time series consists of a sequence of timepoint-value pairs, where the value represents the value we observed and the timepoint the point in time at which we observed that value.\n",
    "\n",
    "We represent time series as a `pd.Series` where the index represents the timepoints. `sktime` supports pandas integer, period and timestamp indices. In this example, we have a period index:"
   ]
  },
  {
   "cell_type": "code",
   "execution_count": null,
   "metadata": {
    "colab": {
     "base_uri": "https://localhost:8080/"
    },
    "execution": {
     "iopub.execute_input": "2021-04-10T16:07:06.054599Z",
     "iopub.status.busy": "2021-04-10T16:07:06.053419Z",
     "iopub.status.idle": "2021-04-10T16:07:06.056342Z",
     "shell.execute_reply": "2021-04-10T16:07:06.056829Z"
    },
    "executionInfo": {
     "elapsed": 7,
     "status": "ok",
     "timestamp": 1621683194180,
     "user": {
      "displayName": "Krishna Rastogi",
      "photoUrl": "",
      "userId": "02350259800549833452"
     },
     "user_tz": -330
    },
    "id": "lp8W5qYVZHUI",
    "outputId": "50f7201b-8a9a-4281-ad85-9c341e784be8"
   },
   "outputs": [],
   "source": [
    "y.index"
   ]
  },
  {
   "cell_type": "markdown",
   "metadata": {
    "id": "s5WZwFjFZHUJ"
   },
   "source": [
    "## Specifying the forecasting task"
   ]
  },
  {
   "cell_type": "markdown",
   "metadata": {
    "id": "cgSzaiNVZHUL"
   },
   "source": [
    "Next we will define a forecasting task.\n",
    "\n",
    "* We will try to predict the last 3 years of data, using the previous years as training data. Each point in the series represents a month, so we should hold out the last 36 points as test data, and use 36-step ahead forecasting horizon to evaluate forecasting performance.\n",
    "* We will use the sMAPE (symmetric mean absolute percentage error) to quantify the accuracy of our forecasts. A lower sMAPE means higher accuracy.\n",
    "    * Sktime makes the sMAPE available as the `mean_absolute_percentage_error()` when setting the argument `symmetric=True`, whichi is the default\n",
    "\n",
    "We can split the data as follows:"
   ]
  },
  {
   "cell_type": "code",
   "execution_count": null,
   "metadata": {
    "colab": {
     "base_uri": "https://localhost:8080/",
     "height": 284
    },
    "execution": {
     "iopub.execute_input": "2021-04-10T16:07:06.065510Z",
     "iopub.status.busy": "2021-04-10T16:07:06.060599Z",
     "iopub.status.idle": "2021-04-10T16:07:06.218674Z",
     "shell.execute_reply": "2021-04-10T16:07:06.219198Z"
    },
    "executionInfo": {
     "elapsed": 976,
     "status": "ok",
     "timestamp": 1621683198116,
     "user": {
      "displayName": "Krishna Rastogi",
      "photoUrl": "",
      "userId": "02350259800549833452"
     },
     "user_tz": -330
    },
    "id": "7IALJr7IZHUM",
    "outputId": "582fc749-7d11-46b3-b5e2-2039ab15b1db"
   },
   "outputs": [],
   "source": [
    "y_train, y_test = temporal_train_test_split(y, test_size=36)\n",
    "plot_series(y_train, y_test, labels=[\"y_train\", \"y_test\"])\n",
    "print(y_train.shape[0], y_test.shape[0])"
   ]
  },
  {
   "cell_type": "markdown",
   "metadata": {
    "id": "9F5qSc65ZHUN"
   },
   "source": [
    "When we want to generate forecasts, we need to specify the forecasting horizon and pass that to our forecasting algorithm.\n",
    "\n",
    "#### Relative forecasting horizon\n",
    "One of the simplest ways is to define a `np.array` with the steps ahead that you want to predict relative to the end of the training series."
   ]
  },
  {
   "cell_type": "code",
   "execution_count": null,
   "metadata": {
    "colab": {
     "base_uri": "https://localhost:8080/"
    },
    "execution": {
     "iopub.execute_input": "2021-04-10T16:07:06.222860Z",
     "iopub.status.busy": "2021-04-10T16:07:06.222322Z",
     "iopub.status.idle": "2021-04-10T16:07:06.224682Z",
     "shell.execute_reply": "2021-04-10T16:07:06.225165Z"
    },
    "executionInfo": {
     "elapsed": 426,
     "status": "ok",
     "timestamp": 1621683207601,
     "user": {
      "displayName": "Krishna Rastogi",
      "photoUrl": "",
      "userId": "02350259800549833452"
     },
     "user_tz": -330
    },
    "id": "L5FxvzqXZHUP",
    "outputId": "2da186cf-6448-4cbe-9750-ec1d7f460eef"
   },
   "outputs": [],
   "source": [
    "fh = np.arange(len(y_test)) + 1\n",
    "fh"
   ]
  },
  {
   "cell_type": "markdown",
   "metadata": {
    "id": "ne1IjVwRZHUQ"
   },
   "source": [
    "So here we're interested in predicting from the first to to the 36th step ahead. Of course you could you use other forecasting horizons. For example, to predict only the second and fifth step ahead, you could write:\n",
    "\n",
    "```python\n",
    "import numpy as np\n",
    "fh = np.array([2, 5])  # 2nd and 5th step ahead\n",
    "```\n",
    "\n",
    "#### Absolute forecasting horizon\n",
    "Alternatively, we can specify the forecasting horizon using the absolute time points we want to predict. In order to do that, we need to use `sktime`'s `ForecastingHorizon` class. This way, we can simply create the forecasting horizon from the time points from the test set:"
   ]
  },
  {
   "cell_type": "code",
   "execution_count": null,
   "metadata": {
    "colab": {
     "base_uri": "https://localhost:8080/"
    },
    "execution": {
     "iopub.execute_input": "2021-04-10T16:07:06.229051Z",
     "iopub.status.busy": "2021-04-10T16:07:06.228401Z",
     "iopub.status.idle": "2021-04-10T16:07:06.230685Z",
     "shell.execute_reply": "2021-04-10T16:07:06.231173Z"
    },
    "executionInfo": {
     "elapsed": 7,
     "status": "ok",
     "timestamp": 1621683209489,
     "user": {
      "displayName": "Krishna Rastogi",
      "photoUrl": "",
      "userId": "02350259800549833452"
     },
     "user_tz": -330
    },
    "id": "J6ewfbGeZHUQ",
    "outputId": "425c28e6-9901-4519-bfb5-4f4b31e56688"
   },
   "outputs": [],
   "source": [
    "fh = ForecastingHorizon(y_test.index, is_relative=False)\n",
    "fh"
   ]
  },
  {
   "cell_type": "markdown",
   "metadata": {
    "id": "USEnhZdgZHUS"
   },
   "source": [
    "## Generating forecasts\n",
    "\n",
    "Like in scikit-learn, in order to make forecasts, we need to first specify (or build) a model, then fit it to the training data, and finally call predict to generate forecasts for the given forecasting horizon.\n",
    "\n",
    "`sktime` comes with several forecasting algorithms (or forecasters) and tools for composite model building. All forecaster share a common interface. Forecasters are trained on a single series of data and make forecasts for the provided forecasting horizon.\n",
    "\n",
    "### Naïve baselines\n",
    "Let's start with two naïve forecasting strategies which can serve as references for comparison of more sophisticated approaches.\n",
    "\n",
    "#### Predicting the last value"
   ]
  },
  {
   "cell_type": "code",
   "execution_count": null,
   "metadata": {
    "colab": {
     "base_uri": "https://localhost:8080/",
     "height": 284
    },
    "execution": {
     "iopub.execute_input": "2021-04-10T16:07:06.235212Z",
     "iopub.status.busy": "2021-04-10T16:07:06.234745Z",
     "iopub.status.idle": "2021-04-10T16:07:06.418261Z",
     "shell.execute_reply": "2021-04-10T16:07:06.418737Z"
    },
    "executionInfo": {
     "elapsed": 1016,
     "status": "ok",
     "timestamp": 1621683212762,
     "user": {
      "displayName": "Krishna Rastogi",
      "photoUrl": "",
      "userId": "02350259800549833452"
     },
     "user_tz": -330
    },
    "id": "R1sEFCXqZHUS",
    "outputId": "d4233d41-2757-4d06-b615-8cb9b44ecbba"
   },
   "outputs": [],
   "source": [
    "forecaster = NaiveForecaster(strategy=\"last\")\n",
    "forecaster.fit(y_train)\n",
    "y_pred = forecaster.predict(fh)\n",
    "plot_series(y_train, y_test, y_pred, labels=[\"y_train\", \"y_test\", \"y_pred\"])\n",
    "mean_absolute_percentage_error(y_pred, y_test)"
   ]
  },
  {
   "cell_type": "markdown",
   "metadata": {
    "id": "5--bJGZpZHUT"
   },
   "source": [
    "#### Predicting the last value of the same season"
   ]
  },
  {
   "cell_type": "code",
   "execution_count": null,
   "metadata": {
    "colab": {
     "base_uri": "https://localhost:8080/",
     "height": 284
    },
    "execution": {
     "iopub.execute_input": "2021-04-10T16:07:06.475031Z",
     "iopub.status.busy": "2021-04-10T16:07:06.473831Z",
     "iopub.status.idle": "2021-04-10T16:07:06.613175Z",
     "shell.execute_reply": "2021-04-10T16:07:06.613700Z"
    },
    "executionInfo": {
     "elapsed": 1136,
     "status": "ok",
     "timestamp": 1621683226345,
     "user": {
      "displayName": "Krishna Rastogi",
      "photoUrl": "",
      "userId": "02350259800549833452"
     },
     "user_tz": -330
    },
    "id": "4xApRzwUZHUT",
    "outputId": "9b954a58-e3e6-4d88-ab1e-151b51c6bd57"
   },
   "outputs": [],
   "source": [
    "forecaster = NaiveForecaster(strategy=\"last\", sp=12)\n",
    "forecaster.fit(y_train)\n",
    "y_pred = forecaster.predict(fh)\n",
    "plot_series(y_train, y_test, y_pred, labels=[\"y_train\", \"y_test\", \"y_pred\"])\n",
    "mean_absolute_percentage_error(y_pred, y_test)"
   ]
  },
  {
   "cell_type": "markdown",
   "metadata": {
    "id": "-MGIk43hZHUU"
   },
   "source": [
    "## Why not just use scikit-learn?\n",
    "\n",
    "You may wonder why we do not simply use scikit-learn for forecasting. Isn't forecasting in the end just a regression problem?\n",
    "\n",
    "In principle, yes. But scikit-learn is not designed for solving forecasting tasks, so beware of the pitfalls!\n",
    "\n",
    "### Pitfall 1: Model validation"
   ]
  },
  {
   "cell_type": "markdown",
   "metadata": {
    "id": "guaTeUoMZHUX"
   },
   "source": [
    "### Pitfall 2: How exactly do we apply regression algorithms to a forecasting task?\n",
    "\n",
    "In order to use scikit-learn, we have to first transform the data into the required tabular format, then fit a regressor and finally generate forecasts.\n",
    "\n",
    "#### Key idea: Reduction\n",
    "Forecasting is often solved via regression. This approach is sometimes called reduction, because we reduce the forecasting task to the simpler but related task of tabular regression. This allows to apply any regression algorithm to the forecasting problem.\n",
    "\n",
    "Reduction to regression works as follows: We first need to transform the data into the required tabular format. We can do this by cutting the training series into windows of a fixed length and stacking them on top of each other. Our target variable consists of the subsequent observation for each window.\n",
    "\n",
    "We could write some code to do that, as for example in the [M4 competition](https://github.com/Mcompetitions/M4-methods):"
   ]
  },
  {
   "cell_type": "markdown",
   "metadata": {
    "id": "0z9URZdSZHUb"
   },
   "source": [
    "What are potential pitfalls here?\n",
    "\n",
    "> This requires a lot of hand-written code which is often error-prone, not modular and not tuneable.\n",
    "\n",
    "> Note also that these steps involve a number of implicit hyper-parameters:\n",
    "> * the way you slice the time series into windows (e.g. the window length)\n",
    "> * the way you generate forecasts (recursive strategy, direct strategy, other hybrid strategies)"
   ]
  },
  {
   "cell_type": "markdown",
   "metadata": {
    "id": "suEbZRKJZHUb"
   },
   "source": [
    "### Pitfall 3: Given a fitted regression algorithm, how can we generate forecasts?"
   ]
  },
  {
   "cell_type": "markdown",
   "metadata": {
    "id": "TM_jIroOZHUc"
   },
   "source": [
    "But what's the problem here?\n",
    "\n",
    "> We actually don't make a multi-step-ahead forecast up to the 36th step ahead. Instead, we make 36 single-step-ahead forecasts always using the most recent data. But that's a solution to a different learning task!\n",
    "\n",
    "To fix this problem, we could write some code to do this recursively as in the M4 competition:"
   ]
  },
  {
   "cell_type": "markdown",
   "metadata": {
    "id": "UpbIETcmZHUd"
   },
   "source": [
    "## Forecasting with sktime\n",
    "\n",
    "### Reduction: from forecasting to regression\n",
    "\n",
    "`sktime` provides a meta-estimator for this approach, which is:\n",
    "\n",
    "* **modular** and **compatible with scikit-learn**, so that we can easily apply any scikit-learn regressor to solve our forecasting problem,\n",
    "* **tuneable**, allowing us to tune hyper-parameters like the window length or strategy to generate forecasts\n",
    "* **adaptive**, in the sense that it adapts the scikit-learn's estimator interface to that of a forecaster, making sure that we can tune and properly evaluate our model\n"
   ]
  },
  {
   "cell_type": "code",
   "execution_count": null,
   "metadata": {
    "colab": {
     "base_uri": "https://localhost:8080/"
    },
    "execution": {
     "iopub.execute_input": "2021-04-10T16:07:07.430563Z",
     "iopub.status.busy": "2021-04-10T16:07:07.424929Z",
     "iopub.status.idle": "2021-04-10T16:07:07.432645Z",
     "shell.execute_reply": "2021-04-10T16:07:07.433155Z"
    },
    "executionInfo": {
     "elapsed": 384,
     "status": "ok",
     "timestamp": 1621683294010,
     "user": {
      "displayName": "Krishna Rastogi",
      "photoUrl": "",
      "userId": "02350259800549833452"
     },
     "user_tz": -330
    },
    "id": "H-TfFDZ9ZHUd",
    "outputId": "68ee36bf-3ed0-4ff1-8f92-a7160c7e285c"
   },
   "outputs": [],
   "source": [
    "y = load_airline()\n",
    "y_train, y_test = temporal_train_test_split(y, test_size=36)\n",
    "print(y_train.shape[0], y_test.shape[0])"
   ]
  },
  {
   "cell_type": "code",
   "execution_count": null,
   "metadata": {
    "colab": {
     "base_uri": "https://localhost:8080/",
     "height": 284
    },
    "execution": {
     "iopub.execute_input": "2021-04-10T16:07:07.439875Z",
     "iopub.status.busy": "2021-04-10T16:07:07.439381Z",
     "iopub.status.idle": "2021-04-10T16:07:07.650204Z",
     "shell.execute_reply": "2021-04-10T16:07:07.650693Z"
    },
    "executionInfo": {
     "elapsed": 757,
     "status": "ok",
     "timestamp": 1621683296673,
     "user": {
      "displayName": "Krishna Rastogi",
      "photoUrl": "",
      "userId": "02350259800549833452"
     },
     "user_tz": -330
    },
    "id": "4geiFiMnZHUe",
    "outputId": "e192740b-e385-42d9-a565-51782ba3d456"
   },
   "outputs": [],
   "source": [
    "from sklearn.neighbors import KNeighborsRegressor\n",
    "\n",
    "regressor = KNeighborsRegressor(n_neighbors=1)\n",
    "forecaster = make_reduction(regressor, window_length=15, strategy=\"recursive\")\n",
    "forecaster.fit(y_train)\n",
    "y_pred = forecaster.predict(fh)\n",
    "plot_series(y_train, y_test, y_pred, labels=[\"y_train\", \"y_test\", \"y_pred\"])\n",
    "mean_absolute_percentage_error(y_pred, y_test)"
   ]
  },
  {
   "cell_type": "markdown",
   "metadata": {
    "id": "dh991D3oZHUg"
   },
   "source": [
    "In the above example we use the \"recursive\" strategies. Other implemented strategies are: \n",
    "* \"direct\", \n",
    "* \"dirrec\", \n",
    "* \"multioutput\". "
   ]
  },
  {
   "cell_type": "markdown",
   "metadata": {
    "id": "GlQM9W5fZHUg"
   },
   "source": [
    "### Statistical forecasters\n",
    "\n",
    "`sktime` has a number of statistical forecasting algorithms, based on implementations in statsmodels. For example, to use exponential smoothing with an additive trend component and multiplicative seasonality, we can write the following.\n",
    "\n",
    "Note that since this is monthly data, the seasonal periodicity (sp), or the number of periods per year, is 12."
   ]
  },
  {
   "cell_type": "code",
   "execution_count": null,
   "metadata": {
    "colab": {
     "base_uri": "https://localhost:8080/",
     "height": 284
    },
    "execution": {
     "iopub.execute_input": "2021-04-10T16:07:07.657376Z",
     "iopub.status.busy": "2021-04-10T16:07:07.656901Z",
     "iopub.status.idle": "2021-04-10T16:07:07.943024Z",
     "shell.execute_reply": "2021-04-10T16:07:07.943679Z"
    },
    "executionInfo": {
     "elapsed": 968,
     "status": "ok",
     "timestamp": 1621683301724,
     "user": {
      "displayName": "Krishna Rastogi",
      "photoUrl": "",
      "userId": "02350259800549833452"
     },
     "user_tz": -330
    },
    "id": "Auf-BAaeZHUh",
    "outputId": "0e74d660-56f1-4768-bc76-da300ebb6bbe"
   },
   "outputs": [],
   "source": [
    "forecaster = ExponentialSmoothing(trend=\"add\", seasonal=\"additive\", sp=12)\n",
    "forecaster.fit(y_train)\n",
    "y_pred = forecaster.predict(fh)\n",
    "plot_series(y_train, y_test, y_pred, labels=[\"y_train\", \"y_test\", \"y_pred\"])\n",
    "mean_absolute_percentage_error(y_pred, y_test)"
   ]
  },
  {
   "cell_type": "markdown",
   "metadata": {
    "id": "oQyv_wKvZHUh",
    "pycharm": {
     "name": "#%% md\n"
    }
   },
   "source": [
    "The exponential smoothing of state space model can also be automated similar\n",
    " to the [ets](https://www.rdocumentation.org/packages/forecast/versions/8.13/topics/ets) function in R."
   ]
  },
  {
   "cell_type": "code",
   "execution_count": null,
   "metadata": {
    "colab": {
     "base_uri": "https://localhost:8080/",
     "height": 284
    },
    "execution": {
     "iopub.execute_input": "2021-04-10T16:07:07.947838Z",
     "iopub.status.busy": "2021-04-10T16:07:07.947189Z",
     "iopub.status.idle": "2021-04-10T16:07:10.206777Z",
     "shell.execute_reply": "2021-04-10T16:07:10.207270Z"
    },
    "executionInfo": {
     "elapsed": 4755,
     "status": "ok",
     "timestamp": 1621683312318,
     "user": {
      "displayName": "Krishna Rastogi",
      "photoUrl": "",
      "userId": "02350259800549833452"
     },
     "user_tz": -330
    },
    "id": "toaeYIEqZHUh",
    "jupyter": {
     "outputs_hidden": false
    },
    "outputId": "27900f30-5468-40d9-d3a5-47739eb2e65a",
    "pycharm": {
     "name": "#%%\n"
    }
   },
   "outputs": [],
   "source": [
    "from sktime.forecasting.ets import AutoETS\n",
    "\n",
    "forecaster = AutoETS(auto=True, sp=12, n_jobs=-1)\n",
    "forecaster.fit(y_train)\n",
    "y_pred = forecaster.predict(fh)\n",
    "plot_series(y_train, y_test, y_pred, labels=[\"y_train\", \"y_test\", \"y_pred\"])\n",
    "mean_absolute_percentage_error(y_pred, y_test)"
   ]
  },
  {
   "cell_type": "markdown",
   "metadata": {
    "id": "EW9YsYprZHUh"
   },
   "source": [
    "Another common model is the ARIMA model. In `sktime`, we interface [`pmdarima`](https://github.com/alkaline-ml/pmdarima), a package for automatically selecting the best ARIMA model. This since searches over a number of possible model parametrisations, it may take a bit longer."
   ]
  },
  {
   "cell_type": "code",
   "execution_count": null,
   "metadata": {
    "colab": {
     "base_uri": "https://localhost:8080/",
     "height": 284
    },
    "execution": {
     "iopub.execute_input": "2021-04-10T16:07:10.214396Z",
     "iopub.status.busy": "2021-04-10T16:07:10.213787Z",
     "iopub.status.idle": "2021-04-10T16:07:13.628223Z",
     "shell.execute_reply": "2021-04-10T16:07:13.628556Z"
    },
    "executionInfo": {
     "elapsed": 5798,
     "status": "ok",
     "timestamp": 1621683319844,
     "user": {
      "displayName": "Krishna Rastogi",
      "photoUrl": "",
      "userId": "02350259800549833452"
     },
     "user_tz": -330
    },
    "id": "Je1MquprZHUi",
    "outputId": "c375fc73-7c21-454a-eeea-d0f6228a83a7"
   },
   "outputs": [],
   "source": [
    "forecaster = AutoARIMA(sp=12, suppress_warnings=True)\n",
    "forecaster.fit(y_train)\n",
    "y_pred = forecaster.predict(fh)\n",
    "plot_series(y_train, y_test, y_pred, labels=[\"y_train\", \"y_test\", \"y_pred\"])\n",
    "mean_absolute_percentage_error(y_pred, y_test)"
   ]
  },
  {
   "cell_type": "markdown",
   "metadata": {
    "id": "dE_2C2SAZHUi"
   },
   "source": [
    "A single ARIMA model can also be manually configured."
   ]
  },
  {
   "cell_type": "code",
   "execution_count": null,
   "metadata": {
    "colab": {
     "base_uri": "https://localhost:8080/",
     "height": 284
    },
    "execution": {
     "iopub.execute_input": "2021-04-10T16:07:13.636135Z",
     "iopub.status.busy": "2021-04-10T16:07:13.635590Z",
     "iopub.status.idle": "2021-04-10T16:07:13.878516Z",
     "shell.execute_reply": "2021-04-10T16:07:13.879003Z"
    },
    "executionInfo": {
     "elapsed": 963,
     "status": "ok",
     "timestamp": 1621683325348,
     "user": {
      "displayName": "Krishna Rastogi",
      "photoUrl": "",
      "userId": "02350259800549833452"
     },
     "user_tz": -330
    },
    "id": "z2RRWPFsZHUi",
    "outputId": "aea9e85a-1bbf-424e-c68b-afb5803de352",
    "scrolled": true
   },
   "outputs": [],
   "source": [
    "forecaster = ARIMA(\n",
    "    order=(1, 1, 0), seasonal_order=(0, 1, 0, 12), suppress_warnings=True\n",
    ")\n",
    "forecaster.fit(y_train)\n",
    "y_pred = forecaster.predict(fh)\n",
    "plot_series(y_train, y_test, y_pred, labels=[\"y_train\", \"y_test\", \"y_pred\"])\n",
    "mean_absolute_percentage_error(y_pred, y_test)"
   ]
  },
  {
   "cell_type": "markdown",
   "metadata": {
    "id": "XU7LgCBJZHUm"
   },
   "source": [
    "`sktime` also provides an interface to [`fbprophet`](https://github.com/facebook/prophet) by Facebook. Please note that `fbprophet` is strongly related to data with a time stamp of type `pd.DatetimeIndex`, so we have to convert the index type first:"
   ]
  },
  {
   "cell_type": "code",
   "execution_count": null,
   "metadata": {
    "execution": {
     "iopub.execute_input": "2021-04-10T16:07:34.689856Z",
     "iopub.status.busy": "2021-04-10T16:07:34.689346Z",
     "iopub.status.idle": "2021-04-10T16:07:34.691275Z",
     "shell.execute_reply": "2021-04-10T16:07:34.691758Z"
    },
    "id": "-B8j7rKRZHUm"
   },
   "outputs": [],
   "source": [
    "# Convert index to pd.DatetimeIndex\n",
    "z = y.copy()\n",
    "z = z.to_timestamp(freq=\"M\")\n",
    "z_train, z_test = temporal_train_test_split(z, test_size=36)"
   ]
  },
  {
   "cell_type": "code",
   "execution_count": null,
   "metadata": {
    "colab": {
     "base_uri": "https://localhost:8080/",
     "height": 283
    },
    "execution": {
     "iopub.execute_input": "2021-04-10T16:07:34.695861Z",
     "iopub.status.busy": "2021-04-10T16:07:34.695354Z",
     "iopub.status.idle": "2021-04-10T16:07:36.244503Z",
     "shell.execute_reply": "2021-04-10T16:07:36.245099Z"
    },
    "executionInfo": {
     "elapsed": 904,
     "status": "ok",
     "timestamp": 1621665024115,
     "user": {
      "displayName": "Krishna Rastogi",
      "photoUrl": "",
      "userId": "02350259800549833452"
     },
     "user_tz": -330
    },
    "id": "Z8QBjSYWZHUn",
    "outputId": "38b23ea3-16b7-44cc-828d-d5a84384cb06"
   },
   "outputs": [],
   "source": [
    "from sktime.forecasting.fbprophet import Prophet\n",
    "\n",
    "forecaster = Prophet(\n",
    "    seasonality_mode=\"multiplicative\",\n",
    "    n_changepoints=int(len(y_train) / 12),\n",
    "    add_country_holidays={\"country_name\": \"Germany\"},\n",
    "    yearly_seasonality=True,\n",
    "    weekly_seasonality=False,\n",
    "    daily_seasonality=False,\n",
    ")\n",
    "forecaster.fit(z_train)\n",
    "y_pred = forecaster.predict(fh.to_relative(cutoff=y_train.index[-1]))\n",
    "\n",
    "y_pred.index = y_test.index\n",
    "plot_series(y_train, y_test, y_pred, labels=[\"y_train\", \"y_test\", \"y_pred\"])\n",
    "mean_absolute_percentage_error(y_pred, y_test)"
   ]
  },
  {
   "cell_type": "markdown",
   "metadata": {
    "id": "zt3ONosdZHU3"
   },
   "source": [
    "## Summary\n",
    "\n",
    "As we have seen, in order to make forecasts, we need to first specify (or build) a model, then fit it to the training data, and finally call predict to generate forecasts for the given forecasting horizon.\n",
    "\n",
    "* `sktime` comes with several forecasting algorithms (or forecasters) and tools for composite model building. All forecaster share a common interface. Forecasters are trained on a single series of data and make forecasts for the provided forecasting horizon.\n",
    "\n",
    "* `sktime` has a number of statistical forecasting algorithms, based on implementations in statsmodels. For example, to use exponential smoothing with an additive trend component and multiplicative seasonality, we can write the following.\n",
    "\n",
    "\n",
    "## Useful resources\n",
    "* For more details, take a look at [our paper on forecasting with sktime](https://arxiv.org/abs/2005.08067) in which we discuss the forecasting API in more detail and use it to replicate and extend the M4 study.\n",
    "* For a good introduction to forecasting, see [Hyndman, Rob J., and George Athanasopoulos. Forecasting: principles and practice. OTexts, 2018](https://otexts.com/fpp2/).\n",
    "* For comparative benchmarking studies/forecasting competitions, see the [M4 competition](https://www.sciencedirect.com/science/article/pii/S0169207019301128) and the currently running [M5 competition](https://www.kaggle.com/c/m5-forecasting-accuracy/overview)."
   ]
  }
 ],
 "metadata": {
  "colab": {
   "collapsed_sections": [],
   "name": "14_Sktime_Forecasting.ipynb",
   "provenance": [
    {
     "file_id": "1IsEX3dJCYEGyJWJKbAlNph9i5NBAp7sv",
     "timestamp": 1621507748882
    }
   ]
  },
  "hide_input": false,
  "kernelspec": {
   "display_name": "Python 3",
   "language": "python",
   "name": "python3"
  },
  "language_info": {
   "codemirror_mode": {
    "name": "ipython",
    "version": 3
   },
   "file_extension": ".py",
   "mimetype": "text/x-python",
   "name": "python",
   "nbconvert_exporter": "python",
   "pygments_lexer": "ipython3",
   "version": "3.8.5"
  },
  "latex_envs": {
   "LaTeX_envs_menu_present": true,
   "autoclose": false,
   "autocomplete": true,
   "bibliofile": "biblio.bib",
   "cite_by": "apalike",
   "current_citInitial": 1,
   "eqLabelWithNumbers": true,
   "eqNumInitial": 1,
   "hotkeys": {
    "equation": "Ctrl-E",
    "itemize": "Ctrl-I"
   },
   "labels_anchors": false,
   "latex_user_defs": false,
   "report_style_numbering": false,
   "user_envs_cfg": false
  },
  "toc": {
   "base_numbering": 1,
   "nav_menu": {},
   "number_sections": true,
   "sideBar": true,
   "skip_h1_title": false,
   "title_cell": "Table of Contents",
   "title_sidebar": "Contents",
   "toc_cell": false,
   "toc_position": {},
   "toc_section_display": true,
   "toc_window_display": false
  },
  "varInspector": {
   "cols": {
    "lenName": 16,
    "lenType": 16,
    "lenVar": 40
   },
   "kernels_config": {
    "python": {
     "delete_cmd_postfix": "",
     "delete_cmd_prefix": "del ",
     "library": "var_list.py",
     "varRefreshCmd": "print(var_dic_list())"
    },
    "r": {
     "delete_cmd_postfix": ") ",
     "delete_cmd_prefix": "rm(",
     "library": "var_list.r",
     "varRefreshCmd": "cat(var_dic_list()) "
    }
   },
   "types_to_exclude": [
    "module",
    "function",
    "builtin_function_or_method",
    "instance",
    "_Feature"
   ],
   "window_display": false
  }
 },
 "nbformat": 4,
 "nbformat_minor": 2
}
