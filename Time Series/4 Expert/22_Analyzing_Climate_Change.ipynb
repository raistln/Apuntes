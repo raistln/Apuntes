{
 "cells": [
  {
   "cell_type": "markdown",
   "metadata": {
    "id": "Y6RRwBy3XWqG"
   },
   "source": [
    "# **Analyzing Climate Change**"
   ]
  },
  {
   "cell_type": "markdown",
   "metadata": {
    "id": "ISo0N5wiXZps"
   },
   "source": [
    "With each passing day, the threat upon climate change has become an important matter to be concerned about. Giving rise to global warming with the emission of greenhouse gases and drastic weather changes. Greenhouse gases mostly due to the rise in Carbon Dioxide emission and methane. The sources being fossil fuels being burnt, deforestation and industrial effluents. Over recent years there has been a massive increase in Earth’s surface temperature with heat waves rising. Simultaneously glaciers are melting, thereby decreasing land size. Not only humans but also plants, animal kingdom are being affected rigorously.\n",
    "\n",
    "Scientists say this will continue to destroy mother Earth if something is not done at its earliest. Every big organisation is now joining hands in making decisions regarding the betterment of climate changes for our future generations. WHO and NASA have brought about many regulations in this climate change index for all the countries."
   ]
  },
  {
   "cell_type": "markdown",
   "metadata": {
    "id": "8gY0dsvvXbTR"
   },
   "source": [
    "## **About the Dataset**"
   ]
  },
  {
   "cell_type": "markdown",
   "metadata": {
    "id": "taT76bQSXepa"
   },
   "source": [
    "The Berkeley Earth Surface Temperature Study contains 1.6 billion temperature records. It is very well packaged and has interesting subsets (like countries, cities, etc.). They have published the source data for the transformations. They have included methods that have weather observations from a short timespan to be included. In this dataset, there are several files. Global Land and Ocean-and-Land Temperatures record from 1750 – 2015.\n",
    "\n",
    "Other files include – Global Average Land Temperature record for Country, Global Average Land Temperature record for State, Global Land Temperatures record for Major City, Global Land Temperatures record for City."
   ]
  },
  {
   "cell_type": "code",
   "execution_count": null,
   "metadata": {},
   "outputs": [],
   "source": [
    "\n",
    "!python -m pip install pip --upgrade --user -q --no-warn-script-location\n",
    "!python -m pip install numpy pandas seaborn matplotlib scipy statsmodels sklearn tensorflow keras torch torchvision \\\n",
    "    tqdm scikit-image pmdarima plotly cufflinks --user -q --no-warn-script-location\n",
    "import IPython\n",
    "IPython.Application.instance().kernel.do_shutdown(True)\n"
   ]
  },
  {
   "cell_type": "code",
   "execution_count": null,
   "metadata": {
    "id": "7CIKPwg1gxFH"
   },
   "outputs": [],
   "source": [
    "# !gdown https://drive.google.com/uc?id=1xCiW2E_y10IcTDThaMBtVLuqbKbC8QuW"
   ]
  },
  {
   "cell_type": "code",
   "execution_count": null,
   "metadata": {
    "id": "oukB-923gu_P"
   },
   "outputs": [],
   "source": [
    "# !unzip climate_change.zip"
   ]
  },
  {
   "cell_type": "markdown",
   "metadata": {
    "id": "00BJUlYIpUHw"
   },
   "source": [
    "## **Implementation**"
   ]
  },
  {
   "cell_type": "code",
   "execution_count": null,
   "metadata": {
    "_cell_guid": "b1076dfc-b9ad-4769-8c92-a6c4dae69d19",
    "_uuid": "8f2839f25d086af736a60e9eeb907d3b93b6e0e5",
    "id": "3no9TbqDpNDL"
   },
   "outputs": [],
   "source": [
    "import pandas as pd\n",
    "import seaborn as sns\n",
    "import numpy as np\n",
    "\n",
    "import matplotlib.pyplot as plt\n",
    "%matplotlib inline"
   ]
  },
  {
   "cell_type": "code",
   "execution_count": null,
   "metadata": {
    "id": "ytxgGVaApNDQ"
   },
   "outputs": [],
   "source": [
    "from plotly.offline import download_plotlyjs, init_notebook_mode, iplot\n",
    "import plotly.graph_objs as go\n",
    "import cufflinks as cf\n",
    "init_notebook_mode(connected=True)\n",
    "cf.go_offline()"
   ]
  },
  {
   "cell_type": "code",
   "execution_count": null,
   "metadata": {
    "_cell_guid": "79c7e3d0-c299-4dcb-8224-4455121ee9b0",
    "_uuid": "d629ff2d2480ee46fbb7e2d37f6b5fab8052498a",
    "id": "tFF_W98BpNDR"
   },
   "outputs": [],
   "source": [
    "global_temp = pd.read_csv('https://gitlab.com/AnalyticsIndiaMagazine/practicedatasets/-/raw/main/analyzing_climate/GlobalTemperatures.csv',parse_dates=[\"dt\"], index_col=\"dt\")\n",
    "global_temp.head()"
   ]
  },
  {
   "cell_type": "code",
   "execution_count": null,
   "metadata": {
    "id": "ygPd0TkwpNDS"
   },
   "outputs": [],
   "source": [
    "global_temp.tail()"
   ]
  },
  {
   "cell_type": "code",
   "execution_count": null,
   "metadata": {
    "id": "cUs2sSy2pNDT"
   },
   "outputs": [],
   "source": [
    "global_temp.describe()"
   ]
  },
  {
   "cell_type": "code",
   "execution_count": null,
   "metadata": {
    "id": "aEs6csokpNDU"
   },
   "outputs": [],
   "source": [
    "global_temp.shape, global_temp.info()"
   ]
  },
  {
   "cell_type": "code",
   "execution_count": null,
   "metadata": {
    "id": "sYbfd3kOpNDU"
   },
   "outputs": [],
   "source": [
    "global_temp.index"
   ]
  },
  {
   "cell_type": "code",
   "execution_count": null,
   "metadata": {
    "id": "FHxPhhtzpNDV"
   },
   "outputs": [],
   "source": [
    "global_temp.isna().sum()"
   ]
  },
  {
   "cell_type": "code",
   "execution_count": null,
   "metadata": {
    "id": "6Mkb6j9PpNDV"
   },
   "outputs": [],
   "source": [
    "sns.heatmap(global_temp.corr())"
   ]
  },
  {
   "cell_type": "code",
   "execution_count": null,
   "metadata": {
    "id": "QO7WMJs4pNDW"
   },
   "outputs": [],
   "source": [
    "for itr in global_temp.columns:\n",
    "    global_temp.plot(y=[itr], figsize=[20,10])"
   ]
  },
  {
   "cell_type": "code",
   "execution_count": null,
   "metadata": {
    "id": "N7PUEiDXpNDW"
   },
   "outputs": [],
   "source": [
    "global_temp.plot(figsize=(30,10))"
   ]
  },
  {
   "cell_type": "code",
   "execution_count": null,
   "metadata": {
    "id": "hNNHTSKfpNDX"
   },
   "outputs": [],
   "source": [
    "temp = pd.read_csv('https://gitlab.com/AnalyticsIndiaMagazine/practicedatasets/-/raw/main/analyzing_climate/GlobalLandTemperaturesByCountry.csv')\n",
    "temp.head()"
   ]
  },
  {
   "cell_type": "code",
   "execution_count": null,
   "metadata": {
    "id": "OV3EnqxspNDX"
   },
   "outputs": [],
   "source": [
    "temp.tail()"
   ]
  },
  {
   "cell_type": "code",
   "execution_count": null,
   "metadata": {
    "id": "xpSuFIyapNDY"
   },
   "outputs": [],
   "source": [
    "ax = temp.groupby(['dt'])['AverageTemperature'].last().sort_values(ascending=False).head(10).sort_values().plot(kind='barh');\n",
    "ax.set_xlabel(\"avg temp\");\n",
    "plt.title(\"Datewise Highest Average Temperature\");"
   ]
  },
  {
   "cell_type": "code",
   "execution_count": null,
   "metadata": {
    "id": "1jyoeQtbpNDY"
   },
   "outputs": [],
   "source": [
    "ax = temp.groupby(['Country'])['AverageTemperature'].last().sort_values(ascending=False).head(10).sort_values().plot(kind='barh');\n",
    "ax.set_xlabel(\"Avg Temp\");\n",
    "plt.title(\"Countries with Highest Average temperature\");"
   ]
  },
  {
   "cell_type": "code",
   "execution_count": null,
   "metadata": {
    "id": "p_1XkTtPpNDY"
   },
   "outputs": [],
   "source": [
    "new_df = pd.read_csv('https://gitlab.com/AnalyticsIndiaMagazine/practicedatasets/-/raw/main/analyzing_climate/GlobalTemperatures.csv')\n",
    "new_df['year'] = pd.to_datetime( new_df['dt']).dt.year # Converting date into year and making new column.\n",
    "\n",
    "by_new = new_df.groupby(['year'] )['LandAverageTemperature'].mean().reset_index()\n",
    "new_pivot = by_new.pivot_table(values='LandAverageTemperature', index='year')\n",
    "new_pivot.iplot(kind='scatter')"
   ]
  },
  {
   "cell_type": "code",
   "execution_count": null,
   "metadata": {
    "id": "e6J9Zd2npNDZ"
   },
   "outputs": [],
   "source": [
    "india = temp[temp['Country']=='India']\n",
    "india['year'] = pd.to_datetime(india['dt']).dt.year\n",
    "\n",
    "new_india = india.groupby('year')['AverageTemperature'].mean().reset_index()\n",
    "new_india.iplot(kind='scatter', x='year', y='AverageTemperature', title='Temperature trend in India',\n",
    "               xTitle='Year', yTitle='Temperature')\n"
   ]
  },
  {
   "cell_type": "code",
   "execution_count": null,
   "metadata": {
    "id": "XyPK3xBrpNDZ"
   },
   "outputs": [],
   "source": [
    "df_state = pd.read_csv('https://gitlab.com/AnalyticsIndiaMagazine/practicedatasets/-/raw/main/analyzing_climate/GlobalLandTemperaturesByState.csv')"
   ]
  },
  {
   "cell_type": "code",
   "execution_count": null,
   "metadata": {
    "id": "0jl2K3NMpNDZ"
   },
   "outputs": [],
   "source": [
    "state = df_state[df_state['Country']=='India']\n",
    "state = state.groupby('State')['AverageTemperature'].mean().reset_index()\n",
    "state.sort_values('AverageTemperature',inplace=True, )\n",
    "state = state[:10]\n",
    "state.iplot(kind='bar', x='State', y='AverageTemperature', title='Top 10 Coolest States',\n",
    "           xTitle='State', yTitle='Temperature', color='deepskyblue')"
   ]
  },
  {
   "cell_type": "code",
   "execution_count": null,
   "metadata": {
    "id": "-Z9sE7RwpNDa"
   },
   "outputs": [],
   "source": [
    "state = df_state[df_state['Country']=='India']\n",
    "state = state.groupby('State')['AverageTemperature'].mean().reset_index()\n",
    "state.sort_values('AverageTemperature',inplace=True, ascending=False)\n",
    "state = state[:10]\n",
    "state.iplot(kind='bar', x='State', y='AverageTemperature', title='Top 10 Hotest States',\n",
    "           xTitle='State', yTitle='Temperature')\n"
   ]
  },
  {
   "cell_type": "code",
   "execution_count": null,
   "metadata": {
    "id": "5eJU-kn2pNDa"
   },
   "outputs": [],
   "source": [
    "df_city = pd.read_csv('https://gitlab.com/AnalyticsIndiaMagazine/practicedatasets/-/raw/main/analyzing_climate/GlobalLandTemperaturesByMajorCity.csv')"
   ]
  },
  {
   "cell_type": "code",
   "execution_count": null,
   "metadata": {
    "id": "cYY0eONwpNDb"
   },
   "outputs": [],
   "source": [
    "temp_df = df_city[df_city['City']== 'Calcutta']\n",
    "temp_df['year'] = pd.to_datetime(temp_df['dt']).dt.year\n",
    "\n",
    "by_year = temp_df.groupby('year')['AverageTemperature'].mean().reset_index()\n",
    "by_year.iplot(kind='scatter', x='year', y='AverageTemperature', title='Temperature trend of Calcutta',\n",
    "             xTitle='Year', yTitle='Temperature', legend=True)"
   ]
  },
  {
   "cell_type": "code",
   "execution_count": null,
   "metadata": {
    "id": "SeVmF2NjpNDb"
   },
   "outputs": [],
   "source": [
    "global_temp = pd.read_csv('https://gitlab.com/AnalyticsIndiaMagazine/practicedatasets/-/raw/main/analyzing_climate/GlobalTemperatures.csv')"
   ]
  },
  {
   "cell_type": "code",
   "execution_count": null,
   "metadata": {
    "id": "2WCdIdwopNDb"
   },
   "outputs": [],
   "source": [
    "# drop unnecessary columns\n",
    "global_temp = global_temp[['dt', 'LandAverageTemperature']]\n",
    "\n",
    "global_temp['dt'] = pd.to_datetime(global_temp['dt'])\n",
    "global_temp['year'] = global_temp['dt'].map(lambda x: x.year)\n",
    "global_temp['month'] = global_temp['dt'].map(lambda x: x.month)\n",
    "\n",
    "def get_season(month):\n",
    "    if month >= 3 and month <= 5:\n",
    "        return 'spring'\n",
    "    elif month >= 6 and month <= 8:\n",
    "        return 'summer'\n",
    "    elif month >= 9 and month <= 11:\n",
    "        return 'autumn'\n",
    "    else:\n",
    "        return 'winter'\n",
    "    \n",
    "min_year = global_temp['year'].min()\n",
    "max_year = global_temp['year'].max()\n",
    "years = range(min_year, max_year + 1)\n",
    "\n",
    "global_temp['season'] = global_temp['month'].apply(get_season)\n",
    "\n",
    "spring_temps = []\n",
    "summer_temps = []\n",
    "autumn_temps = []\n",
    "winter_temps = []\n",
    "\n",
    "for year in years:\n",
    "    curr_years_data = global_temp[global_temp['year'] == year]\n",
    "    spring_temps.append(curr_years_data[curr_years_data['season'] == 'spring']['LandAverageTemperature'].mean())\n",
    "    summer_temps.append(curr_years_data[curr_years_data['season'] == 'summer']['LandAverageTemperature'].mean())\n",
    "    autumn_temps.append(curr_years_data[curr_years_data['season'] == 'autumn']['LandAverageTemperature'].mean())\n",
    "    winter_temps.append(curr_years_data[curr_years_data['season'] == 'winter']['LandAverageTemperature'].mean())\n",
    "sns.set(style=\"whitegrid\")\n",
    "sns.set_color_codes(\"pastel\")\n",
    "f, ax = plt.subplots(figsize=(10, 6))\n",
    "\n",
    "plt.plot(years, summer_temps, label='Summers average temperature', color='orange')\n",
    "plt.plot(years, autumn_temps, label='Autumns average temperature', color='r')\n",
    "plt.plot(years, spring_temps, label='Springs average temperature', color='g')\n",
    "plt.plot(years, winter_temps, label='Winters average temperature', color='b')\n",
    "\n",
    "plt.xlim(min_year, max_year)\n",
    "\n",
    "ax.set_ylabel('Average temperature')\n",
    "ax.set_xlabel('Year')\n",
    "ax.set_title('Average temperature in each season')\n",
    "legend = plt.legend(loc='center left', bbox_to_anchor=(1, 0.5), frameon=True, borderpad=1, borderaxespad=1)"
   ]
  },
  {
   "cell_type": "code",
   "execution_count": null,
   "metadata": {
    "id": "GOp7S91-pNDc"
   },
   "outputs": [],
   "source": [
    "temp_by_country = pd.read_csv('https://gitlab.com/AnalyticsIndiaMagazine/practicedatasets/-/raw/main/analyzing_climate/GlobalLandTemperaturesByCountry.csv')\n",
    "countries = temp_by_country['Country'].unique()\n",
    "max_min_list = []\n",
    "\n",
    "# getting max and min temps\n",
    "for country in countries:\n",
    "    curr_temps = temp_by_country[temp_by_country['Country'] == country]['AverageTemperature']\n",
    "    max_min_list.append((curr_temps.max(), curr_temps.min()))\n",
    "    \n",
    "# nan cleaning\n",
    "res_max_min_list = []\n",
    "res_countries = []\n",
    "\n",
    "for i in range(len(max_min_list)):\n",
    "    if not np.isnan(max_min_list[i][0]):\n",
    "        res_max_min_list.append(max_min_list[i])\n",
    "        res_countries.append(countries[i])\n",
    "\n",
    "# calc differences        \n",
    "differences = []\n",
    "\n",
    "for tpl in res_max_min_list:\n",
    "    differences.append(tpl[0] - tpl[1])\n",
    "    \n",
    "# sorting\n",
    "differences, res_countries = (list(x) for x in zip(*sorted(zip(differences, res_countries), key=lambda pair: pair[0], reverse=True)))\n",
    "\n",
    "# ploting\n",
    "f, ax = plt.subplots(figsize=(8, 8))\n",
    "sns.barplot(x=differences[:15], y=res_countries[:15], palette=sns.color_palette(\"coolwarm\", 25), ax=ax)\n",
    "\n",
    "texts = ax.set(ylabel=\"\", xlabel=\"Temperature difference\", title=\"Countries with the highest temperature differences\")"
   ]
  },
  {
   "cell_type": "markdown",
   "metadata": {
    "id": "MqArsKEsd2S-"
   },
   "source": [
    "#**Related Articles:**\n",
    "\n",
    "> * [Analyzing Climate Change](https://analyticsindiamag.com/time-series-analysis-on-climate-change/)\n",
    "\n",
    "> * [TadGAN](https://analyticsindiamag.com/hands-on-guide-to-tadgan-with-python-codes/)\n",
    "\n",
    "> * [Pastas](https://analyticsindiamag.com/guide-to-pastas-a-python-framework-for-hydrogeological-time-series-analysis/)\n",
    "\n",
    "> * [Bitcoin Price Prediction](https://analyticsindiamag.com/guide-to-implementing-time-series-analysis-predicting-bitcoin-price-with-rnn/)\n",
    "\n",
    "> * [Time Series Forecasting with Darts](https://analyticsindiamag.com/hands-on-guide-to-darts-a-python-tool-for-time-series-forecasting/)\n",
    "\n",
    "> * [Guide to Time Series Forecasting with GluonTS](https://analyticsindiamag.com/gluonts-pytorchts-for-time-series-forecasting/)\n",
    "\n"
   ]
  }
 ],
 "metadata": {
  "colab": {
   "authorship_tag": "ABX9TyPYsxu/4FVSt9Nc4SaFX1N8",
   "collapsed_sections": [],
   "name": "22_Analyzing_Climate_Change.ipynb",
   "provenance": []
  },
  "kernelspec": {
   "display_name": "Python 3",
   "name": "python3"
  },
  "language_info": {
   "name": "python"
  }
 },
 "nbformat": 4,
 "nbformat_minor": 2
}
