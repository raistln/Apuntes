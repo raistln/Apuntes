{
 "cells": [
  {
   "cell_type": "markdown",
   "metadata": {
    "id": "pKDFOCZgQXML"
   },
   "source": [
    "# **Universal Sentence Embedder**"
   ]
  },
  {
   "cell_type": "markdown",
   "metadata": {
    "id": "2VyQIiy_QfJ1"
   },
   "source": [
    "Universal sentence encoder models encode textual data into high-dimensional vectors which can be used for various NLP tasks."
   ]
  },
  {
   "cell_type": "markdown",
   "metadata": {
    "id": "R60a5l7XQi56"
   },
   "source": [
    "The encoders used in such models require modelling the meaning of word sequences instead of individual words. Apart from single words, the models are trained and optimized for text having more-than-word lengths such as sentences, phrases or paragraphs."
   ]
  },
  {
   "cell_type": "markdown",
   "metadata": {
    "id": "3UnFvlG8QmJS"
   },
   "source": [
    "## **Major variants of universal sentence encoder**"
   ]
  },
  {
   "cell_type": "markdown",
   "metadata": {
    "id": "et1AHuuUQsgZ"
   },
   "source": [
    "There are two main variations of the model encoders coded in TensorFlow – one of them uses transformer architecture while the other is a deep averaging network (DAN)."
   ]
  },
  {
   "cell_type": "markdown",
   "metadata": {
    "id": "f1ScQEOqQtTl"
   },
   "source": [
    "To read about it more, please refer this article - [Google Sentence Embedder with Tensorflow](https://analyticsindiamag.com/guide-to-universal-sentence-encoder-with-tensorflow/)"
   ]
  },
  {
   "cell_type": "markdown",
   "metadata": {
    "id": "d7L75piAQ7oA"
   },
   "source": [
    "## **Practical implementation**"
   ]
  },
  {
   "cell_type": "markdown",
   "metadata": {
    "id": "QoLFiUDBQ-ng"
   },
   "source": [
    "Here’s a demonstration of using a DAN-based universal sentence encoder model for the sentence similarity task. Step-wise explanation of the code is as follows:"
   ]
  },
  {
   "cell_type": "markdown",
   "metadata": {
    "id": "nKBvIk6KRCaP"
   },
   "source": [
    "Import required libraries"
   ]
  },
  {
   "cell_type": "code",
   "execution_count": null,
   "metadata": {},
   "outputs": [],
   "source": [
    "!python -m pip install pip --upgrade --user -q --no-warn-script-location\n",
    "!python -m pip install numpy pandas seaborn matplotlib scipy statsmodels sklearn tensorflow keras nltk gensim simpletransformers --user -q --no-warn-script-location\n",
    "\n",
    "import IPython\n",
    "IPython.Application.instance().kernel.do_shutdown(True)"
   ]
  },
  {
   "cell_type": "code",
   "execution_count": null,
   "metadata": {
    "executionInfo": {
     "elapsed": 544,
     "status": "ok",
     "timestamp": 1622025780027,
     "user": {
      "displayName": "Aishwarya Verma",
      "photoUrl": "https://lh3.googleusercontent.com/a-/AOh14GiG6BREocxcd5R6rzlQGApoCsYso7BQAh63eXNz6Q=s64",
      "userId": "06108390091304498033"
     },
     "user_tz": -330
    },
    "id": "lTQ58IwhRS6d"
   },
   "outputs": [],
   "source": [
    " from absl import logging\n",
    " import tensorflow as tf\n",
    " import tensorflow_hub as hub\n",
    " import matplotlib.pyplot as plt\n",
    " import numpy as np\n",
    " import os\n",
    " import pandas as pd\n",
    " import re    #module for regular expression operations\n",
    " import seaborn as sns "
   ]
  },
  {
   "cell_type": "markdown",
   "metadata": {
    "id": "qh1JxjNLRazB"
   },
   "source": [
    "Load the TF Hub module of the universal sentence encoder"
   ]
  },
  {
   "cell_type": "code",
   "execution_count": null,
   "metadata": {
    "executionInfo": {
     "elapsed": 17488,
     "status": "ok",
     "timestamp": 1622025825403,
     "user": {
      "displayName": "Aishwarya Verma",
      "photoUrl": "https://lh3.googleusercontent.com/a-/AOh14GiG6BREocxcd5R6rzlQGApoCsYso7BQAh63eXNz6Q=s64",
      "userId": "06108390091304498033"
     },
     "user_tz": -330
    },
    "id": "6adjJIIyRVyK"
   },
   "outputs": [],
   "source": [
    "url = \"https://tfhub.dev/google/universal-sentence-encoder/4\" #@param [\"https://tfhub.dev/google/universal-sentence-encoder/4\", \"https://tfhub.dev/google/universal-sentence-encoder-large/5\"]\n",
    "model = hub.load(url) #Load the module from selected URL"
   ]
  },
  {
   "cell_type": "markdown",
   "metadata": {
    "id": "CUIdkA_CRgB4"
   },
   "source": [
    "Define a function for computing sentence embedding of input string"
   ]
  },
  {
   "cell_type": "code",
   "execution_count": null,
   "metadata": {
    "executionInfo": {
     "elapsed": 397,
     "status": "ok",
     "timestamp": 1622025848652,
     "user": {
      "displayName": "Aishwarya Verma",
      "photoUrl": "https://lh3.googleusercontent.com/a-/AOh14GiG6BREocxcd5R6rzlQGApoCsYso7BQAh63eXNz6Q=s64",
      "userId": "06108390091304498033"
     },
     "user_tz": -330
    },
    "id": "Yesw1gyYRjPF"
   },
   "outputs": [],
   "source": [
    "def embed(input):\n",
    "  return model(input) "
   ]
  },
  {
   "cell_type": "markdown",
   "metadata": {
    "id": "BIM2ZCLqRkki"
   },
   "source": [
    "Illustrate how sentence embedding is computed for a word, sentence and paragraph"
   ]
  },
  {
   "cell_type": "code",
   "execution_count": null,
   "metadata": {
    "executionInfo": {
     "elapsed": 378,
     "status": "ok",
     "timestamp": 1622025998572,
     "user": {
      "displayName": "Aishwarya Verma",
      "photoUrl": "https://lh3.googleusercontent.com/a-/AOh14GiG6BREocxcd5R6rzlQGApoCsYso7BQAh63eXNz6Q=s64",
      "userId": "06108390091304498033"
     },
     "user_tz": -330
    },
    "id": "4ikqdTFrSIFz"
   },
   "outputs": [],
   "source": [
    "word = \"Anaconda\"\n",
    "sen = \"Tiger is India's national animal.\"  #sentence\n",
    "#paragraph\n",
    "para = (             \n",
    "    \"Universal Sentence Encoder embeddings also support short paragraphs. \"\n",
    "    \"There is no hard limit on how long the paragraph is. \"\n",
    "    )\n",
    "msgs = [word, sen, para] "
   ]
  },
  {
   "cell_type": "markdown",
   "metadata": {
    "id": "ek_URmZ2SJRD"
   },
   "source": [
    "Reduce logging output"
   ]
  },
  {
   "cell_type": "code",
   "execution_count": null,
   "metadata": {
    "executionInfo": {
     "elapsed": 372,
     "status": "ok",
     "timestamp": 1622026023899,
     "user": {
      "displayName": "Aishwarya Verma",
      "photoUrl": "https://lh3.googleusercontent.com/a-/AOh14GiG6BREocxcd5R6rzlQGApoCsYso7BQAh63eXNz6Q=s64",
      "userId": "06108390091304498033"
     },
     "user_tz": -330
    },
    "id": "2ULQGZ-3SNl1"
   },
   "outputs": [],
   "source": [
    "logging.set_verbosity(logging.ERROR)"
   ]
  },
  {
   "cell_type": "markdown",
   "metadata": {
    "id": "0lam865rSPcR"
   },
   "source": [
    "set_verbosity() method sets the threshold for what messages will be logged."
   ]
  },
  {
   "cell_type": "markdown",
   "metadata": {
    "id": "dyP4QQ0OSTsX"
   },
   "source": [
    "Embed the defined word, sentence and paragraph using the embed() method defined in step (3)."
   ]
  },
  {
   "cell_type": "code",
   "execution_count": null,
   "metadata": {
    "executionInfo": {
     "elapsed": 1026,
     "status": "ok",
     "timestamp": 1622026052097,
     "user": {
      "displayName": "Aishwarya Verma",
      "photoUrl": "https://lh3.googleusercontent.com/a-/AOh14GiG6BREocxcd5R6rzlQGApoCsYso7BQAh63eXNz6Q=s64",
      "userId": "06108390091304498033"
     },
     "user_tz": -330
    },
    "id": "eIjf4tUbSTDd"
   },
   "outputs": [],
   "source": [
    "message_emb = embed(msgs)"
   ]
  },
  {
   "cell_type": "markdown",
   "metadata": {
    "id": "nefuEBzkSXhj"
   },
   "source": [
    "Compute and print sentence embeddings"
   ]
  },
  {
   "cell_type": "code",
   "execution_count": null,
   "metadata": {
    "colab": {
     "base_uri": "https://localhost:8080/"
    },
    "executionInfo": {
     "elapsed": 366,
     "status": "ok",
     "timestamp": 1622026211405,
     "user": {
      "displayName": "Aishwarya Verma",
      "photoUrl": "https://lh3.googleusercontent.com/a-/AOh14GiG6BREocxcd5R6rzlQGApoCsYso7BQAh63eXNz6Q=s64",
      "userId": "06108390091304498033"
     },
     "user_tz": -330
    },
    "id": "9kv_DK8OSaBB",
    "outputId": "834648dd-100f-4f35-b096-08d4435bbd73"
   },
   "outputs": [],
   "source": [
    "for i, message_embedding in enumerate(np.array(message_emb).tolist()):\n",
    "  print(\"Message: {}\".format(msgs[i]))\n",
    "  print(\"Embedding size: {}\".format(len(message_embedding)))\n",
    "  message_embedding_snippet = \", \".join(\n",
    "      (str(x) for x in message_embedding[:3]))\n",
    "  print(\"Embedding: [{}, ...]\\n\".format(message_embedding_snippet))"
   ]
  },
  {
   "cell_type": "code",
   "execution_count": null,
   "metadata": {
    "colab": {
     "base_uri": "https://localhost:8080/"
    },
    "executionInfo": {
     "elapsed": 1280,
     "status": "ok",
     "timestamp": 1614866340918,
     "user": {
      "displayName": "Nikita Baxi",
      "photoUrl": "",
      "userId": "09328968052095163712"
     },
     "user_tz": -330
    },
    "id": "KmXpczQZyS7e",
    "outputId": "ef22900e-eaca-475a-ab2d-34e05957f3c7"
   },
   "outputs": [],
   "source": [
    "#@title Compute a representation for each message, showing various lengths supported.\n",
    "word = \"Anaconda\"\n",
    "sentence = \"Tiger is India's national animal.\"\n",
    "paragraph = (\n",
    "    \"Universal Sentence Encoder embeddings also support short paragraphs. \"\n",
    "    \"There is no hard limit on how long the paragraph is. \"\n",
    "    )\n",
    "messages = [word, sentence, paragraph]\n",
    "\n",
    "# Reduce logging output.\n",
    "logging.set_verbosity(logging.ERROR)\n",
    "\n",
    "message_embeddings = embed(messages)\n",
    "\n",
    "for i, message_embedding in enumerate(np.array(message_embeddings).tolist()):\n",
    "  print(\"Message: {}\".format(messages[i]))\n",
    "  print(\"Embedding size: {}\".format(len(message_embedding)))\n",
    "  message_embedding_snippet = \", \".join(\n",
    "      (str(x) for x in message_embedding[:3]))\n",
    "  print(\"Embedding: [{}, ...]\\n\".format(message_embedding_snippet))\n"
   ]
  },
  {
   "cell_type": "markdown",
   "metadata": {
    "id": "F9iU3pK_S_rQ"
   },
   "source": [
    "Define a function to find semantic text similarity between sentences"
   ]
  },
  {
   "cell_type": "code",
   "execution_count": null,
   "metadata": {
    "executionInfo": {
     "elapsed": 359,
     "status": "ok",
     "timestamp": 1622026238160,
     "user": {
      "displayName": "Aishwarya Verma",
      "photoUrl": "https://lh3.googleusercontent.com/a-/AOh14GiG6BREocxcd5R6rzlQGApoCsYso7BQAh63eXNz6Q=s64",
      "userId": "06108390091304498033"
     },
     "user_tz": -330
    },
    "id": "3OB7JOO8TB8g"
   },
   "outputs": [],
   "source": [
    "def plot_similarity(labels, features, rotation):\n",
    "#compute inner product of the encodings\n",
    "  corr = np.inner(features, features) \n",
    "  sns.set(font_scale=1.2)  \n",
    "  g = sns.heatmap(  #plot heatmap \n",
    "      corr,  #computed inner product\n",
    "      xticklabels=labels, #label the axes with input sentences\n",
    "      yticklabels=labels,\n",
    "#vmin and vmax are values to anchor the colormap\n",
    "      vmin=0,\n",
    "      vmax=1,\n",
    "      cmap=\"YlOrRd\") #matplotlib colormap name (here Yellow or Red)\n",
    "  g.set_xticklabels(labels, rotation=rotation) \n",
    "  g.set_title(\"Semantic Textual Similarity\") "
   ]
  },
  {
   "cell_type": "markdown",
   "metadata": {
    "id": "obHLbMJ4TFIt"
   },
   "source": [
    "Define a function to feed the message embeddings for plotting the heatmap"
   ]
  },
  {
   "cell_type": "code",
   "execution_count": null,
   "metadata": {
    "executionInfo": {
     "elapsed": 450,
     "status": "ok",
     "timestamp": 1622026260736,
     "user": {
      "displayName": "Aishwarya Verma",
      "photoUrl": "https://lh3.googleusercontent.com/a-/AOh14GiG6BREocxcd5R6rzlQGApoCsYso7BQAh63eXNz6Q=s64",
      "userId": "06108390091304498033"
     },
     "user_tz": -330
    },
    "id": "zyjWPhDzTIHc"
   },
   "outputs": [],
   "source": [
    "def run_and_plot(msgs):\n",
    "  message_embeddings_ = embed(msgs)\n",
    "  plot_similarity(msgs, message_embeddings_, 90)\n",
    "#labels rotated by 90 degrees "
   ]
  },
  {
   "cell_type": "markdown",
   "metadata": {
    "id": "aHV5ydcFTKlt"
   },
   "source": [
    "Define the input sentences"
   ]
  },
  {
   "cell_type": "code",
   "execution_count": null,
   "metadata": {
    "executionInfo": {
     "elapsed": 358,
     "status": "ok",
     "timestamp": 1622026279955,
     "user": {
      "displayName": "Aishwarya Verma",
      "photoUrl": "https://lh3.googleusercontent.com/a-/AOh14GiG6BREocxcd5R6rzlQGApoCsYso7BQAh63eXNz6Q=s64",
      "userId": "06108390091304498033"
     },
     "user_tz": -330
    },
    "id": "egkAsq99TMzT"
   },
   "outputs": [],
   "source": [
    "messages = [\n",
    "  # Smartphones\n",
    "  \"I like my phone\",\n",
    "  \"My phone is not good.\",\n",
    "  \"Your cellphone looks great.\",\n",
    "  # Weather\n",
    "  \"Will it snow tomorrow?\",\n",
    "  \"Recently a lot of hurricanes have hit the US\",\n",
    "  \"Global warming is real\",\n",
    "  # Food and health\n",
    "  \"An apple a day, keeps the doctors away\",\n",
    "  \"Eating strawberries is healthy\",\n",
    "  \"Is paleo better than keto?\",\n",
    "  # Asking about age\n",
    "  \"How old are you?\",\n",
    "  \"what is your age?\",\n",
    "] "
   ]
  },
  {
   "cell_type": "markdown",
   "metadata": {
    "id": "DeAHxI6RTUKl"
   },
   "source": [
    "Pass the input messages to run_and_plot() defined two steps back"
   ]
  },
  {
   "cell_type": "code",
   "execution_count": null,
   "metadata": {
    "colab": {
     "base_uri": "https://localhost:8080/",
     "height": 566
    },
    "executionInfo": {
     "elapsed": 1457,
     "status": "ok",
     "timestamp": 1622026328767,
     "user": {
      "displayName": "Aishwarya Verma",
      "photoUrl": "https://lh3.googleusercontent.com/a-/AOh14GiG6BREocxcd5R6rzlQGApoCsYso7BQAh63eXNz6Q=s64",
      "userId": "06108390091304498033"
     },
     "user_tz": -330
    },
    "id": "sq0o0wXTTXPR",
    "outputId": "f36f8f06-6fe6-4752-e138-3085898bd1da"
   },
   "outputs": [],
   "source": [
    "run_and_plot(messages)\n"
   ]
  },
  {
   "cell_type": "markdown",
   "metadata": {
    "id": "prpNOPgzWgiU"
   },
   "source": [
    "# **Related Articles:**\n",
    "\n",
    "> * [Google Sentence Embedder with Tensorflow](https://analyticsindiamag.com/guide-to-universal-sentence-encoder-with-tensorflow/)\n",
    "\n",
    "> * [Sequence-to-Sequence Modeling using LSTM for Language Translation](https://analyticsindiamag.com/sequence-to-sequence-modeling-using-lstm-for-language-translation/)\n",
    "\n",
    "> * [Text Generation using RNN](https://analyticsindiamag.com/recurrent-neural-network-in-pytorch-for-text-generation/)\n",
    "\n",
    "> * [SVD in Recommender System](https://analyticsindiamag.com/singular-value-decomposition-svd-application-recommender-system/)\n",
    "\n",
    "> * [TF-IDF from Scratch in Python](https://analyticsindiamag.com/hands-on-implementation-of-tf-idf-from-scratch-in-python/)\n",
    "\n",
    "> * [Continuous Bag of Words](https://analyticsindiamag.com/the-continuous-bag-of-words-cbow-model-in-nlp-hands-on-implementation-with-codes/)\n",
    "\n",
    "\n"
   ]
  }
 ],
 "metadata": {
  "colab": {
   "authorship_tag": "ABX9TyM6xKzzFpVtZPVHn3+Zhl9T",
   "collapsed_sections": [],
   "name": "Google_sentence_embedder_tensorflow.ipynb",
   "provenance": []
  },
  "kernelspec": {
   "display_name": "Python 3",
   "name": "python3"
  },
  "language_info": {
   "name": "python"
  }
 },
 "nbformat": 4,
 "nbformat_minor": 2
}
