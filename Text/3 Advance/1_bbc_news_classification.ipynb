{
 "cells": [
  {
   "cell_type": "markdown",
   "metadata": {
    "id": "cEdHTZRtSnBO"
   },
   "source": [
    "## In this practice session, we will be solving a text classification problem statement. "
   ]
  },
  {
   "cell_type": "code",
   "execution_count": null,
   "metadata": {
    "id": "nes8vSV6SnBW"
   },
   "outputs": [],
   "source": [
    "import pandas as pd"
   ]
  },
  {
   "cell_type": "code",
   "execution_count": null,
   "metadata": {
    "id": "gro-SHi3SnBX"
   },
   "outputs": [],
   "source": [
    "bbc_df = pd.read_csv('bbc.csv', encoding='utf-8', usecols=['news', 'type'])\n",
    "bbc_df.head()"
   ]
  },
  {
   "cell_type": "code",
   "execution_count": null,
   "metadata": {
    "id": "_9eidBX9SnBa"
   },
   "outputs": [],
   "source": [
    "# text_uni = text.decode('utf-8')\n",
    "# text_normal = text_uni.encode('ascii','ignore')\n",
    "# print (text_normal)"
   ]
  },
  {
   "cell_type": "code",
   "execution_count": null,
   "metadata": {
    "id": "m-VlvC33SnBa"
   },
   "outputs": [],
   "source": [
    "from sklearn.feature_extraction.text import CountVectorizer"
   ]
  },
  {
   "cell_type": "code",
   "execution_count": null,
   "metadata": {
    "id": "X7ghkpZqSnBb"
   },
   "outputs": [],
   "source": [
    "vectorizer = CountVectorizer()\n",
    "vectorizer"
   ]
  },
  {
   "cell_type": "code",
   "execution_count": null,
   "metadata": {
    "id": "SVAfnPFkSnBb"
   },
   "outputs": [],
   "source": [
    "fit_data = vectorizer.fit_transform(bbc_df['news'])\n",
    "\n",
    "pd.DataFrame(fit_data.todense())"
   ]
  },
  {
   "cell_type": "code",
   "execution_count": null,
   "metadata": {
    "id": "wGeq6FWVSnBc"
   },
   "outputs": [],
   "source": [
    "from sklearn.feature_extraction.text import TfidfTransformer"
   ]
  },
  {
   "cell_type": "code",
   "execution_count": null,
   "metadata": {
    "id": "DlR8Qp_2SnBc"
   },
   "outputs": [],
   "source": [
    "transform = TfidfTransformer(use_idf=True,smooth_idf=False,sublinear_tf=False)"
   ]
  },
  {
   "cell_type": "code",
   "execution_count": null,
   "metadata": {
    "id": "808C6XApSnBd"
   },
   "outputs": [],
   "source": [
    "tfidf = transform.fit_transform(fit_data)"
   ]
  },
  {
   "cell_type": "code",
   "execution_count": null,
   "metadata": {
    "id": "BZ7D0gMFSnBd"
   },
   "outputs": [],
   "source": [
    "tfidf.toarray()\n"
   ]
  },
  {
   "cell_type": "code",
   "execution_count": null,
   "metadata": {
    "id": "ON9dZhwWSnBf"
   },
   "outputs": [],
   "source": [
    "fit_english = vectorizer.fit_transform(bbc_df['news'])"
   ]
  },
  {
   "cell_type": "code",
   "execution_count": null,
   "metadata": {
    "id": "ZxFkKGRqSnBg"
   },
   "outputs": [],
   "source": [
    "fit_english.shape"
   ]
  },
  {
   "cell_type": "code",
   "execution_count": null,
   "metadata": {
    "id": "S4RtnZa-SnBg"
   },
   "outputs": [],
   "source": [
    "from sklearn.tree import DecisionTreeClassifier\n",
    "from sklearn.linear_model import LogisticRegression\n",
    "from sklearn.neighbors import KNeighborsClassifier\n",
    "from sklearn.naive_bayes import GaussianNB\n",
    "from sklearn.svm import SVC, LinearSVC\n",
    "from sklearn.ensemble import RandomForestClassifier , GradientBoostingClassifier\n",
    "from sklearn.metrics import confusion_matrix "
   ]
  },
  {
   "cell_type": "code",
   "execution_count": null,
   "metadata": {
    "id": "Zf9cxg52SnBi"
   },
   "outputs": [],
   "source": [
    "from sklearn.model_selection import train_test_split"
   ]
  },
  {
   "cell_type": "code",
   "execution_count": null,
   "metadata": {
    "id": "tP61pkCOSnBi"
   },
   "outputs": [],
   "source": [
    "x_train,x_test,y_train,y_test = train_test_split(fit_english, bbc_df['type'], test_size=0.20)"
   ]
  },
  {
   "cell_type": "code",
   "execution_count": null,
   "metadata": {
    "id": "YEFCCx_QSnBi"
   },
   "outputs": [],
   "source": [
    "model = RandomForestClassifier(n_estimators=500)\n",
    "model.fit(x_train,y_train)\n",
    "print (model.score(x_test,y_test))"
   ]
  },
  {
   "cell_type": "code",
   "execution_count": null,
   "metadata": {
    "id": "V2sLCSwUSnBj"
   },
   "outputs": [],
   "source": [
    "model = SVC(kernel='rbf')\n",
    "model.fit(x_train,y_train)\n",
    "print (model.score(x_test,y_test))"
   ]
  },
  {
   "cell_type": "code",
   "execution_count": null,
   "metadata": {
    "id": "UKqReOrdSnBk"
   },
   "outputs": [],
   "source": [
    "model = GradientBoostingClassifier()\n",
    "model.fit(x_train,y_train)\n",
    "print (model.score(x_test,y_test))"
   ]
  },
  {
   "cell_type": "code",
   "execution_count": null,
   "metadata": {
    "id": "TAXX0_vaSnBk"
   },
   "outputs": [],
   "source": [
    "model = KNeighborsClassifier(n_neighbors = 1)\n",
    "model.fit(x_train,y_train)\n",
    "print (model.score(x_test,y_test))"
   ]
  },
  {
   "cell_type": "code",
   "execution_count": null,
   "metadata": {
    "id": "WrVXMnPxSnBl"
   },
   "outputs": [],
   "source": [
    "model = LogisticRegression()\n",
    "model.fit(x_train,y_train)\n",
    "print (model.score(x_test,y_test))"
   ]
  },
  {
   "cell_type": "code",
   "execution_count": null,
   "metadata": {
    "id": "XJz58HtASnBm"
   },
   "outputs": [],
   "source": [
    "import matplotlib.pyplot as plt"
   ]
  },
  {
   "cell_type": "code",
   "execution_count": null,
   "metadata": {
    "id": "j4D6yDevSnBm"
   },
   "outputs": [],
   "source": [
    "plt.hist(bbc_df['type']);"
   ]
  },
  {
   "cell_type": "code",
   "execution_count": null,
   "metadata": {
    "id": "6YuisgXPSnBm"
   },
   "outputs": [],
   "source": []
  }
 ],
 "metadata": {
  "colab": {
   "collapsed_sections": [],
   "name": "1_bbc_news_classification.ipynb",
   "provenance": []
  },
  "kernelspec": {
   "display_name": "Python 3",
   "language": "python",
   "name": "python3"
  },
  "language_info": {
   "codemirror_mode": {
    "name": "ipython",
    "version": 3
   },
   "file_extension": ".py",
   "mimetype": "text/x-python",
   "name": "python",
   "nbconvert_exporter": "python",
   "pygments_lexer": "ipython3",
   "version": "3.7.4"
  }
 },
 "nbformat": 4,
 "nbformat_minor": 0
}
