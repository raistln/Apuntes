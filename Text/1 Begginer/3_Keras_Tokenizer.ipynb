{
 "cells": [
  {
   "cell_type": "markdown",
   "metadata": {
    "id": "dR-YbL54dnST"
   },
   "source": [
    "# **Keras Optimizer**"
   ]
  },
  {
   "cell_type": "markdown",
   "metadata": {
    "id": "yT3KGWRRfGJ0"
   },
   "source": [
    "In this practice session, we will explore Keras tokenizer through which we will convert the texts into sequences that can be further fed to the predictive model. To do this we will make use of the Reuters data set that can be directly imported from the Keras library or can be downloaded from Kaggle. This data set contains  11,228 newswires from Reuters having 46 topics as labels. We will make use of different modes present in Keras tokenizer and will build deep neural networks for classification."
   ]
  },
  {
   "cell_type": "markdown",
   "metadata": {
    "id": "7CBUflWshcAF"
   },
   "source": [
    "## **Implementation**"
   ]
  },
  {
   "cell_type": "markdown",
   "metadata": {
    "id": "pnaoR3qyhbNz"
   },
   "source": [
    "We will first import all the required libraries that are required and Reuters data from Keras library. Use the below code to the same. "
   ]
  },
  {
   "cell_type": "code",
   "execution_count": null,
   "metadata": {},
   "outputs": [],
   "source": [
    "!python -m pip install pip --upgrade --user -q --no-warn-script-location\n",
    "!python -m pip install numpy pandas seaborn matplotlib scipy statsmodels sklearn keras tensorflow nltk gensim --user -q --no-warn-script-location\n"
   ]
  },
  {
   "cell_type": "code",
   "execution_count": null,
   "metadata": {},
   "outputs": [],
   "source": [
    "import IPython\n",
    "IPython.Application.instance().kernel.do_shutdown(True)"
   ]
  },
  {
   "cell_type": "code",
   "execution_count": null,
   "metadata": {
    "colab": {
     "base_uri": "https://localhost:8080/"
    },
    "executionInfo": {
     "elapsed": 2309,
     "status": "ok",
     "timestamp": 1621930453435,
     "user": {
      "displayName": "Aishwarya Verma",
      "photoUrl": "https://lh3.googleusercontent.com/a-/AOh14GiG6BREocxcd5R6rzlQGApoCsYso7BQAh63eXNz6Q=s64",
      "userId": "06108390091304498033"
     },
     "user_tz": -330
    },
    "id": "NN9m6UowbfCA",
    "outputId": "64fcc146-4cd9-4591-d254-50f2ee577581"
   },
   "outputs": [],
   "source": [
    "import keras \n",
    "from keras.datasets import reuters\n",
    "from keras.models import Sequential \n",
    "from keras.layers import Dense, Dropout, Activation\n",
    "from keras.preprocessing.text import Tokenizer\n",
    "import tensorflow as tf\n",
    "(X_train,y_train),(X_test,y_test) = reuters.load_data()"
   ]
  },
  {
   "cell_type": "markdown",
   "metadata": {
    "id": "b7PGxcvmlkLS"
   },
   "source": [
    "Now we will check about the shape of training and testing data. Use the below code to check the same.\n",
    "\n",
    "Now we will check about the shape of training and testing data. Use the below code to check the same."
   ]
  },
  {
   "cell_type": "code",
   "execution_count": null,
   "metadata": {
    "colab": {
     "base_uri": "https://localhost:8080/"
    },
    "executionInfo": {
     "elapsed": 15,
     "status": "ok",
     "timestamp": 1621930453438,
     "user": {
      "displayName": "Aishwarya Verma",
      "photoUrl": "https://lh3.googleusercontent.com/a-/AOh14GiG6BREocxcd5R6rzlQGApoCsYso7BQAh63eXNz6Q=s64",
      "userId": "06108390091304498033"
     },
     "user_tz": -330
    },
    "id": "m5vy6p1zlk9j",
    "outputId": "531b2469-4c55-4c8e-93e4-8718ed01fb30"
   },
   "outputs": [],
   "source": [
    "print(X_train.shape)\n",
    "\n",
    "print(X_test.shape)"
   ]
  },
  {
   "cell_type": "markdown",
   "metadata": {
    "id": "Csm09z3Klo8p"
   },
   "source": [
    "Now we will first tokenize the corpus with keeping only 50000 words and then convert training and testing to the sequence of matrices using binary mode. We also need to convert the training and testing labels categorically to having a total of 46 classes. Use the below code to all the transformations. "
   ]
  },
  {
   "cell_type": "markdown",
   "metadata": {
    "id": "TmPBbQbUlsR-"
   },
   "source": [
    "### **Binary Mode For Converting Sequence To Matrix**"
   ]
  },
  {
   "cell_type": "code",
   "execution_count": null,
   "metadata": {
    "executionInfo": {
     "elapsed": 4898,
     "status": "ok",
     "timestamp": 1621930486308,
     "user": {
      "displayName": "Aishwarya Verma",
      "photoUrl": "https://lh3.googleusercontent.com/a-/AOh14GiG6BREocxcd5R6rzlQGApoCsYso7BQAh63eXNz6Q=s64",
      "userId": "06108390091304498033"
     },
     "user_tz": -330
    },
    "id": "TL47zxChlwmC"
   },
   "outputs": [],
   "source": [
    "tokenizer = Tokenizer(num_words=50000)\n",
    "X_train = tokenizer.sequences_to_matrix(X_train, mode='binary')\n",
    "X_test = tokenizer.sequences_to_matrix(X_test, mode='binary')\n",
    "y_train = tf.keras.utils.to_categorical(y_train,num_classes=46)\n",
    "y_test = tf.keras.utils.to_categorical(y_test,num_classes=46)"
   ]
  },
  {
   "cell_type": "markdown",
   "metadata": {
    "id": "mRAFC5h2mNB_"
   },
   "source": [
    "Since we are done with all the required transformation we will now define the network for classification. Use the below code for defining the model network. Also, we can design different model networks of other architecture as well. "
   ]
  },
  {
   "cell_type": "code",
   "execution_count": null,
   "metadata": {
    "executionInfo": {
     "elapsed": 1395,
     "status": "ok",
     "timestamp": 1621930608371,
     "user": {
      "displayName": "Aishwarya Verma",
      "photoUrl": "https://lh3.googleusercontent.com/a-/AOh14GiG6BREocxcd5R6rzlQGApoCsYso7BQAh63eXNz6Q=s64",
      "userId": "06108390091304498033"
     },
     "user_tz": -330
    },
    "id": "_WgV6G8smPYl"
   },
   "outputs": [],
   "source": [
    "model = Sequential()\n",
    "model.add(tf.keras.layers.Dense(128,input_shape=(X_train[0].shape)))\n",
    "model.add(tf.keras.layers.Dense(512, activation='relu'))\n",
    "model.add(tf.keras.layers.BatchNormalization())\n",
    "model.add(tf.keras.layers.Dense(128, activation='relu'))\n",
    "model.add(tf.keras.layers.Dense(512, activation='relu'))\n",
    "model.add(Dropout(0.25))\n",
    "model.add(tf.keras.layers.Dense(46, activation='softmax'))"
   ]
  },
  {
   "cell_type": "markdown",
   "metadata": {
    "id": "HpQAidGlmSAG"
   },
   "source": [
    "Now we will see the model summary. Use the below code to check it."
   ]
  },
  {
   "cell_type": "code",
   "execution_count": null,
   "metadata": {
    "colab": {
     "base_uri": "https://localhost:8080/"
    },
    "executionInfo": {
     "elapsed": 840,
     "status": "ok",
     "timestamp": 1621930639178,
     "user": {
      "displayName": "Aishwarya Verma",
      "photoUrl": "https://lh3.googleusercontent.com/a-/AOh14GiG6BREocxcd5R6rzlQGApoCsYso7BQAh63eXNz6Q=s64",
      "userId": "06108390091304498033"
     },
     "user_tz": -330
    },
    "id": "l9kVUNzemUnF",
    "outputId": "ab0a5dde-67a3-4282-d8d2-ff54ccdc271d"
   },
   "outputs": [],
   "source": [
    "print(model.summary())"
   ]
  },
  {
   "cell_type": "markdown",
   "metadata": {
    "id": "lzrfKje_mTsd"
   },
   "source": [
    "Now we will compile the model using optimizer as stochastic gradient descent, loss as cross-entropy and metrics to measure the performance would be accuracy. After compiling we will train the model and check the performance on validation data. We are taking a batch size of 64 and epochs to be 10. Use the below code to the same."
   ]
  },
  {
   "cell_type": "code",
   "execution_count": null,
   "metadata": {
    "colab": {
     "base_uri": "https://localhost:8080/"
    },
    "executionInfo": {
     "elapsed": 80146,
     "status": "ok",
     "timestamp": 1621930738117,
     "user": {
      "displayName": "Aishwarya Verma",
      "photoUrl": "https://lh3.googleusercontent.com/a-/AOh14GiG6BREocxcd5R6rzlQGApoCsYso7BQAh63eXNz6Q=s64",
      "userId": "06108390091304498033"
     },
     "user_tz": -330
    },
    "id": "bXjs56uomcGR",
    "outputId": "2fb92657-9d02-4773-d6fb-0da0d7a21015"
   },
   "outputs": [],
   "source": [
    "model.compile(optimizer='sgd',loss='categorical_crossentropy',metrics=['accuracy'])\n",
    "\n",
    "model.fit(X_train,y_train,validation_data=(X_test,y_test),batch_size=64,epochs=10)"
   ]
  },
  {
   "cell_type": "markdown",
   "metadata": {
    "id": "GkYrog4_meRr"
   },
   "source": [
    "After the training, we will check the performance of the model built by binary mode. Use the below code for the same. We see this mode of the model has given us 79% accuracy. "
   ]
  },
  {
   "cell_type": "code",
   "execution_count": null,
   "metadata": {
    "colab": {
     "base_uri": "https://localhost:8080/"
    },
    "executionInfo": {
     "elapsed": 23,
     "status": "ok",
     "timestamp": 1621930738119,
     "user": {
      "displayName": "Aishwarya Verma",
      "photoUrl": "https://lh3.googleusercontent.com/a-/AOh14GiG6BREocxcd5R6rzlQGApoCsYso7BQAh63eXNz6Q=s64",
      "userId": "06108390091304498033"
     },
     "user_tz": -330
    },
    "id": "iFvC_DElmf_6",
    "outputId": "11c6f316-3175-4547-8584-8ca0f06315d4"
   },
   "outputs": [],
   "source": [
    "model.evaluate(X_test,y_test)"
   ]
  },
  {
   "cell_type": "markdown",
   "metadata": {
    "id": "sRTNMwaOmiAb"
   },
   "source": [
    "### **Count Mode For Converting Sequence To Matrix**\n",
    "\n",
    "\n"
   ]
  },
  {
   "cell_type": "markdown",
   "metadata": {
    "id": "PNVGwF-Jmno1"
   },
   "source": [
    "Now we will build the same model with the count mode of the tokenizer.  Use the below code for the same."
   ]
  },
  {
   "cell_type": "code",
   "execution_count": null,
   "metadata": {
    "colab": {
     "base_uri": "https://localhost:8080/"
    },
    "executionInfo": {
     "elapsed": 5300,
     "status": "ok",
     "timestamp": 1621930743408,
     "user": {
      "displayName": "Aishwarya Verma",
      "photoUrl": "https://lh3.googleusercontent.com/a-/AOh14GiG6BREocxcd5R6rzlQGApoCsYso7BQAh63eXNz6Q=s64",
      "userId": "06108390091304498033"
     },
     "user_tz": -330
    },
    "id": "Vc6AVaZqmqO_",
    "outputId": "2369e0f8-8b3c-4731-996e-3d5d5d670363"
   },
   "outputs": [],
   "source": [
    "(X_train,y_train),(X_test,y_test) = reuters.load_data()\n",
    " \n",
    "X_train = tokenizer.sequences_to_matrix(X_train, mode='count')\n",
    "X_test = tokenizer.sequences_to_matrix(X_test, mode='count')\n",
    " \n",
    "y_train = tf.keras.utils.to_categorical(y_train,num_classes=46)\n",
    "y_test = tf.keras.utils.to_categorical(y_test,num_classes=46)\n",
    " \n",
    "model = Sequential()\n",
    "model.add(tf.keras.layers.Dense(128,input_shape=(X_train[0].shape)))\n",
    "model.add(tf.keras.layers.Dense(512, activation='relu'))\n",
    "model.add(tf.keras.layers.BatchNormalization())\n",
    "model.add(tf.keras.layers.Dense(128, activation='relu'))\n",
    "model.add(tf.keras.layers.Dense(512, activation='relu'))\n",
    "model.add(Dropout(0.25))\n",
    "model.add(tf.keras.layers.Dense(46, activation='softmax'))"
   ]
  },
  {
   "cell_type": "markdown",
   "metadata": {
    "id": "QRenOouemsJ5"
   },
   "source": [
    "We will compile this model keeping all parameters the same. Use the below code to compile it, train the network and compute the performance. "
   ]
  },
  {
   "cell_type": "code",
   "execution_count": null,
   "metadata": {
    "executionInfo": {
     "elapsed": 28,
     "status": "ok",
     "timestamp": 1621930743410,
     "user": {
      "displayName": "Aishwarya Verma",
      "photoUrl": "https://lh3.googleusercontent.com/a-/AOh14GiG6BREocxcd5R6rzlQGApoCsYso7BQAh63eXNz6Q=s64",
      "userId": "06108390091304498033"
     },
     "user_tz": -330
    },
    "id": "BtjqQdyCmuHZ"
   },
   "outputs": [],
   "source": [
    "model.compile(optimizer='sgd',loss='categorical_crossentropy',metrics=['accuracy'])"
   ]
  },
  {
   "cell_type": "code",
   "execution_count": null,
   "metadata": {
    "colab": {
     "base_uri": "https://localhost:8080/"
    },
    "executionInfo": {
     "elapsed": 26,
     "status": "ok",
     "timestamp": 1621930743412,
     "user": {
      "displayName": "Aishwarya Verma",
      "photoUrl": "https://lh3.googleusercontent.com/a-/AOh14GiG6BREocxcd5R6rzlQGApoCsYso7BQAh63eXNz6Q=s64",
      "userId": "06108390091304498033"
     },
     "user_tz": -330
    },
    "id": "IF0MFQ3jmvxz",
    "outputId": "ddfba32c-6227-4e89-aa7a-981a9a487431"
   },
   "outputs": [],
   "source": [
    "model.evaluate(X_test,y_test)"
   ]
  },
  {
   "cell_type": "markdown",
   "metadata": {
    "id": "86N2ZPlamx-B"
   },
   "source": [
    "### **Frequency Mode For Converting Sequence To Matrix**"
   ]
  },
  {
   "cell_type": "markdown",
   "metadata": {
    "id": "mosuP6nom1CJ"
   },
   "source": [
    "We now build the same network with a freq mode of tokenizer keeping every other parameter to be the same."
   ]
  },
  {
   "cell_type": "code",
   "execution_count": null,
   "metadata": {
    "colab": {
     "base_uri": "https://localhost:8080/"
    },
    "executionInfo": {
     "elapsed": 3436,
     "status": "ok",
     "timestamp": 1621930773157,
     "user": {
      "displayName": "Aishwarya Verma",
      "photoUrl": "https://lh3.googleusercontent.com/a-/AOh14GiG6BREocxcd5R6rzlQGApoCsYso7BQAh63eXNz6Q=s64",
      "userId": "06108390091304498033"
     },
     "user_tz": -330
    },
    "id": "FB5qCe_xm3QG",
    "outputId": "9d0f4ddd-e13e-4cee-ffa8-f74c25cf759f"
   },
   "outputs": [],
   "source": [
    "(X_train,y_train),(X_test,y_test) = reuters.load_data()\n",
    " \n",
    "X_train = tokenizer.sequences_to_matrix(X_train, mode='freq')\n",
    "X_test = tokenizer.sequences_to_matrix(X_test, mode='freq')\n",
    " \n",
    "y_train = tf.keras.utils.to_categorical(y_train,num_classes=46)\n",
    "y_test = tf.keras.utils.to_categorical(y_test,num_classes=46)\n",
    " \n",
    "model = Sequential()\n",
    "model.add(tf.keras.layers.Dense(128,input_shape=(X_train[0].shape)))\n",
    "model.add(tf.keras.layers.Dense(512, activation='relu'))\n",
    "model.add(tf.keras.layers.BatchNormalization())\n",
    "model.add(tf.keras.layers.Dense(128, activation='relu'))\n",
    "model.add(tf.keras.layers.Dense(512, activation='relu'))\n",
    "model.add(Dropout(0.25))\n",
    "model.add(tf.keras.layers.Dense(46, activation='softmax'))"
   ]
  },
  {
   "cell_type": "markdown",
   "metadata": {
    "id": "tdRXh7CVm5GW"
   },
   "source": [
    "Use the below code to compile it, train the network and compute the performance. "
   ]
  },
  {
   "cell_type": "code",
   "execution_count": null,
   "metadata": {
    "colab": {
     "base_uri": "https://localhost:8080/"
    },
    "executionInfo": {
     "elapsed": 75675,
     "status": "ok",
     "timestamp": 1621930863412,
     "user": {
      "displayName": "Aishwarya Verma",
      "photoUrl": "https://lh3.googleusercontent.com/a-/AOh14GiG6BREocxcd5R6rzlQGApoCsYso7BQAh63eXNz6Q=s64",
      "userId": "06108390091304498033"
     },
     "user_tz": -330
    },
    "id": "-WKdF0ABm7WR",
    "outputId": "fdfd6d01-5fbc-44e8-8bee-ba184c8a0bae"
   },
   "outputs": [],
   "source": [
    "model.compile(optimizer='sgd',loss='categorical_crossentropy',metrics=['accuracy'])\n",
    "\n",
    "model.fit(X_train,y_train,validation_data=(X_test,y_test),batch_size=64,epochs=10)"
   ]
  },
  {
   "cell_type": "code",
   "execution_count": null,
   "metadata": {
    "colab": {
     "base_uri": "https://localhost:8080/"
    },
    "executionInfo": {
     "elapsed": 963,
     "status": "ok",
     "timestamp": 1621930864352,
     "user": {
      "displayName": "Aishwarya Verma",
      "photoUrl": "https://lh3.googleusercontent.com/a-/AOh14GiG6BREocxcd5R6rzlQGApoCsYso7BQAh63eXNz6Q=s64",
      "userId": "06108390091304498033"
     },
     "user_tz": -330
    },
    "id": "fwhHwI2Sm-9S",
    "outputId": "8c9474a2-c32e-4d6d-db37-efaabc61bd28"
   },
   "outputs": [],
   "source": [
    "model.evaluate(X_test,y_test)"
   ]
  },
  {
   "cell_type": "markdown",
   "metadata": {
    "id": "4aMTxXIInBeR"
   },
   "source": [
    "###**TF-TDF Mode For Converting Sequence To Matrix**"
   ]
  },
  {
   "cell_type": "markdown",
   "metadata": {
    "id": "W4kYDFgpnS_l"
   },
   "source": [
    "We now build the same network with the last mode that is the TF-IDF mode of tokenizer keeping every other parameter to be the same. "
   ]
  },
  {
   "cell_type": "markdown",
   "metadata": {
    "id": "yNZ4SoZCnUf-"
   },
   "source": [
    "Use the below code to compile it, train the network and compute the performance. "
   ]
  },
  {
   "cell_type": "code",
   "execution_count": null,
   "metadata": {
    "colab": {
     "base_uri": "https://localhost:8080/"
    },
    "executionInfo": {
     "elapsed": 75314,
     "status": "ok",
     "timestamp": 1621930976460,
     "user": {
      "displayName": "Aishwarya Verma",
      "photoUrl": "https://lh3.googleusercontent.com/a-/AOh14GiG6BREocxcd5R6rzlQGApoCsYso7BQAh63eXNz6Q=s64",
      "userId": "06108390091304498033"
     },
     "user_tz": -330
    },
    "id": "8G3mI_tmnXbU",
    "outputId": "c841e3e3-c447-4f1c-eb3d-e8d047503668"
   },
   "outputs": [],
   "source": [
    "model.compile(optimizer='sgd',loss='categorical_crossentropy',metrics=['accuracy'])\n",
    "\n",
    "model.fit(X_train,y_train,validation_data=(X_test,y_test),batch_size=64,epochs=10)"
   ]
  },
  {
   "cell_type": "code",
   "execution_count": null,
   "metadata": {
    "colab": {
     "base_uri": "https://localhost:8080/"
    },
    "executionInfo": {
     "elapsed": 782,
     "status": "ok",
     "timestamp": 1621930977218,
     "user": {
      "displayName": "Aishwarya Verma",
      "photoUrl": "https://lh3.googleusercontent.com/a-/AOh14GiG6BREocxcd5R6rzlQGApoCsYso7BQAh63eXNz6Q=s64",
      "userId": "06108390091304498033"
     },
     "user_tz": -330
    },
    "id": "nJDuykw-nZLj",
    "outputId": "221d9107-df5c-4b1c-fc27-6429c29cf489"
   },
   "outputs": [],
   "source": [
    "model.evaluate(X_test,y_test)"
   ]
  },
  {
   "cell_type": "markdown",
   "metadata": {
    "id": "prpNOPgzWgiU"
   },
   "source": [
    "# **Read more articles on:**\n",
    "\n",
    "> * [Spacy Basics](https://analyticsindiamag.com/nlp-deep-learning-nlp-framework-nlp-model/)\n",
    "\n",
    "> * [StanfordCore NLP](https://analyticsindiamag.com/how-to-use-stanza-by-stanford-nlp-group-with-python-code/)\n",
    "\n",
    "> * [Tokenization in NLP](https://analyticsindiamag.com/hands-on-guide-to-different-tokenization-methods-in-nlp/)\n",
    "\n",
    "> * [Keras Tokenizer](https://analyticsindiamag.com/tutorial-on-keras-tokenizer-for-text-classification-in-nlp/)\n"
   ]
  }
 ],
 "metadata": {
  "colab": {
   "authorship_tag": "ABX9TyNwZjIVhb1IPgTikklKvd4t",
   "collapsed_sections": [],
   "name": "Keras Tokenizer.ipynb",
   "provenance": [],
   "toc_visible": true
  },
  "kernelspec": {
   "display_name": "Python 3",
   "name": "python3"
  },
  "language_info": {
   "name": "python"
  }
 },
 "nbformat": 4,
 "nbformat_minor": 2
}
