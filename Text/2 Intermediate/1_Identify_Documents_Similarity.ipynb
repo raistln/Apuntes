{
 "cells": [
  {
   "cell_type": "markdown",
   "metadata": {
    "id": "w0mQyvKx26HV"
   },
   "source": [
    "# **Measuring Similarity**"
   ]
  },
  {
   "cell_type": "markdown",
   "metadata": {
    "id": "zeL0XxMn3a95"
   },
   "source": [
    "Measure of similarity can be qualitative and/or quantitative. In qualitative, the assessment is done against subjective criteria such as theme, sentiment, overall meaning, etc. In the quantitative, numerical parameters such as length of the document, number of keywords, common words, etc. are compared. The process is carried out in two steps, as mentioned below:"
   ]
  },
  {
   "cell_type": "markdown",
   "metadata": {
    "id": "a2kZSKYW3eCp"
   },
   "source": [
    "> * Vectorization: Transform the documents into a vector of numbers. Following are some of the popular numbers(measures): TF (Term Frequency), IDF (Inverse Document Frequency) and TF*IDF.\n",
    "> * Distance Computation: Compute the cosine similarity between the document vector. As we know, the cosine (dot product) of the same vectors is 1, dissimilar/perpendicular ones are 0, so the dot product of two vector-documents is some value between 0 and 1, which is the measure of similarity amongst the"
   ]
  },
  {
   "cell_type": "markdown",
   "metadata": {
    "id": "VmjrrYNQ45-m"
   },
   "source": [
    "Test-case used in this post is of finding similarity between two news reports [^1, ^2] of a recent bus accident (Sources mentioned in the References). Programming language ‘Python’ and its Natural Language Toolkit library ‘nltk’ [^3] are primarily used here. The similarity analysis is done in steps as mentioned below."
   ]
  },
  {
   "cell_type": "markdown",
   "metadata": {
    "id": "qIpWjk1j47wc"
   },
   "source": [
    "## **Documents Pre-Processing**"
   ]
  },
  {
   "cell_type": "markdown",
   "metadata": {
    "id": "kUbTGFts5QP3"
   },
   "source": [
    "The news reports contain many things which are not core (or irrelevant) for text analysis exercise such as finding similarity. So, they are pre-processed by converting their words into lower case and removing the ‘stopwords’, like ‘the’, ‘should’, etc."
   ]
  },
  {
   "cell_type": "code",
   "execution_count": null,
   "metadata": {},
   "outputs": [],
   "source": [
    "!python -m pip install pip --upgrade --user -q --no-warn-script-location\n",
    "!python -m pip install numpy pandas seaborn matplotlib scipy statsmodels sklearn nltk gensim --user -q --no-warn-script-location\n"
   ]
  },
  {
   "cell_type": "code",
   "execution_count": null,
   "metadata": {},
   "outputs": [],
   "source": [
    "import IPython\n",
    "IPython.Application.instance().kernel.do_shutdown(True)"
   ]
  },
  {
   "cell_type": "code",
   "execution_count": 3,
   "metadata": {
    "colab": {
     "base_uri": "https://localhost:8080/"
    },
    "executionInfo": {
     "elapsed": 1313,
     "status": "ok",
     "timestamp": 1622004168749,
     "user": {
      "displayName": "Aishwarya Verma",
      "photoUrl": "https://lh3.googleusercontent.com/a-/AOh14GiG6BREocxcd5R6rzlQGApoCsYso7BQAh63eXNz6Q=s64",
      "userId": "06108390091304498033"
     },
     "user_tz": -330
    },
    "id": "6PzF6UCWnwIw",
    "outputId": "2c743339-e896-4da2-bf1e-1cc5ce909958"
   },
   "outputs": [
    {
     "name": "stdout",
     "output_type": "stream",
     "text": [
      "[nltk_data] Downloading package stopwords to /root/nltk_data...\n",
      "[nltk_data]   Package stopwords is already up-to-date!\n",
      "[nltk_data] Downloading package punkt to /root/nltk_data...\n",
      "[nltk_data]   Unzipping tokenizers/punkt.zip.\n"
     ]
    }
   ],
   "source": [
    "import nltk\n",
    "from nltk.corpus import stopwords\n",
    "nltk.download('stopwords')\n",
    "nltk.download('punkt')\n",
    "stopwords_en = stopwords.words(\"english\")\n",
    "\n",
    "\n",
    "def preprocessing(raw):\n",
    "  wordlist = nltk.word_tokenize(raw)\n",
    "  text = [w.lower() for w in wordlist if w not in stopwords_en]\n",
    "  return text\n",
    "\n",
    "f1 = open('buscrash_foxnews.txt', 'r', encoding ='utf8')\n",
    "text1 = preprocessing(f1.read())\n",
    "\n",
    "f2 = open('buscrash_reuters.txt', 'r', encoding='utf8')\n",
    "text2 = preprocessing(f2.read())"
   ]
  },
  {
   "cell_type": "markdown",
   "metadata": {
    "id": "3vjHO4Uj-8KD"
   },
   "source": [
    "## **Vectorization**"
   ]
  },
  {
   "cell_type": "markdown",
   "metadata": {
    "id": "yriAu51m-_Bf"
   },
   "source": [
    "Characterize each text as a vector. Each text has some common and some uncommon words compared to each other. To account for all possibilities, a word set is formed which consists of words from both the documents. There are various methods by which words can be vectorised, meaning, converted to vectors (array of numbers). A few of the prominent ones are explained below."
   ]
  },
  {
   "cell_type": "markdown",
   "metadata": {
    "id": "Y713Nc5d_A9u"
   },
   "source": [
    "### **Frequency Count Method**"
   ]
  },
  {
   "cell_type": "markdown",
   "metadata": {
    "id": "Isx3YD9H_E4h"
   },
   "source": [
    "A simplest way to create the vectors is to count number of times each word from the common word set, occurs in individual document.FreqDist counts the number of occurrence of a word in the given text. So, in the above code snippet text1_count_dict has word-count pairs of all the words from the common word_set, along with their individual counts. Following table shows few words with their frequencies:"
   ]
  },
  {
   "cell_type": "code",
   "execution_count": 4,
   "metadata": {
    "executionInfo": {
     "elapsed": 330,
     "status": "ok",
     "timestamp": 1622005138057,
     "user": {
      "displayName": "Aishwarya Verma",
      "photoUrl": "https://lh3.googleusercontent.com/a-/AOh14GiG6BREocxcd5R6rzlQGApoCsYso7BQAh63eXNz6Q=s64",
      "userId": "06108390091304498033"
     },
     "user_tz": -330
    },
    "id": "oFsQLM_v_mPy"
   },
   "outputs": [],
   "source": [
    "from nltk.probability import FreqDist\n",
    "\n",
    "word_set = set(text1).union(set(text2))\n",
    "\n",
    "freqd_text1 = FreqDist(text1)\n",
    "text1_count_dict = dict.fromkeys(word_set, 0)\n",
    "for word in text1:\n",
    "  text1_count_dict[word] = freqd_text1[word]\n",
    "\n",
    "freqd_text2 = FreqDist(text2)\n",
    "text2_count_dict = dict.fromkeys(word_set, 0)\n",
    "for word in text2:\n",
    "  text2_count_dict[word] = freqd_text2[word]"
   ]
  },
  {
   "cell_type": "markdown",
   "metadata": {
    "id": "dWYAqGDcClKR"
   },
   "source": [
    "FreqDist counts the number of occurrence of a word in the given text. So, in the above code snippet text1_count_dict has word-count pairs of all the words from the common word_set, along with their individual counts. Following table shows few words with their frequencies:"
   ]
  },
  {
   "cell_type": "markdown",
   "metadata": {
    "id": "T29EvOr5CtEc"
   },
   "source": [
    "FreqDist counts the number of occurrence of a word in the given text. So, in the above code snippet text1_count_dict has word-count pairs of all the words from the common word_set, along with their individual counts. Following table shows few words with their frequencies:![image.png](data:image/png;base64,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)"
   ]
  },
  {
   "cell_type": "markdown",
   "metadata": {
    "id": "qSlTz_2XC2dQ"
   },
   "source": [
    "### **TF-IDF Method**"
   ]
  },
  {
   "cell_type": "markdown",
   "metadata": {
    "id": "lTQiYabIC6RJ"
   },
   "source": [
    "TF is document specific. It is a way to score the importance of words (or “terms”) in a document based on how frequently they appear. If a word appears frequently in a document, it’s important, it gets a high score. Although it is easy to compute, it is ambiguous (‘green’ the colour and ‘green’ the person’s name is not differentiated)."
   ]
  },
  {
   "cell_type": "code",
   "execution_count": 5,
   "metadata": {
    "executionInfo": {
     "elapsed": 342,
     "status": "ok",
     "timestamp": 1622005393261,
     "user": {
      "displayName": "Aishwarya Verma",
      "photoUrl": "https://lh3.googleusercontent.com/a-/AOh14GiG6BREocxcd5R6rzlQGApoCsYso7BQAh63eXNz6Q=s64",
      "userId": "06108390091304498033"
     },
     "user_tz": -330
    },
    "id": "0vyVM0zUCqLo"
   },
   "outputs": [],
   "source": [
    "freqd_text1 = FreqDist(text1)\n",
    "text1_length = len(text1)\n",
    "text1_tf_dict = dict.fromkeys(word_set, 0)\n",
    "for word in text1:\n",
    "  text1_tf_dict[word] = freqd_text1[word]/ text1_length\n",
    "\n",
    "freqd_text2 = FreqDist(text2)\n",
    "text2_length = len(text2)\n",
    "text2_tf_dict = dict.fromkeys(word_set, 0)\n",
    "for word in text2:\n",
    "  text2_tf_dict[word] = freqd_text2[word]/ text2_length"
   ]
  },
  {
   "cell_type": "markdown",
   "metadata": {
    "id": "QubU11Y1Dk4m"
   },
   "source": [
    "IDF is for the whole collection. It is a way to score how many times a word occurs across multiple documents. If a word appears in many documents, it’s not a unique identifier, thus gets a lower score.\n"
   ]
  },
  {
   "cell_type": "code",
   "execution_count": 6,
   "metadata": {
    "executionInfo": {
     "elapsed": 332,
     "status": "ok",
     "timestamp": 1622005512821,
     "user": {
      "displayName": "Aishwarya Verma",
      "photoUrl": "https://lh3.googleusercontent.com/a-/AOh14GiG6BREocxcd5R6rzlQGApoCsYso7BQAh63eXNz6Q=s64",
      "userId": "06108390091304498033"
     },
     "user_tz": -330
    },
    "id": "05My9F9wDoba"
   },
   "outputs": [],
   "source": [
    "#IDF Calculations\n",
    "text12_idf_dict = dict.fromkeys(word_set, 0)\n",
    "text12_length = 2 #2 documents\n",
    "for word in text12_idf_dict.keys():\n",
    "  if word in text1:\n",
    "    text12_idf_dict[word]+=1\n",
    "  if word in text2:\n",
    "    text12_idf_dict[word]+=1"
   ]
  },
  {
   "cell_type": "markdown",
   "metadata": {
    "id": "2IB7_9OsEEUk"
   },
   "source": [
    "TFIDF of a word = (TF of the word) * (IDF of the word)"
   ]
  },
  {
   "cell_type": "code",
   "execution_count": 8,
   "metadata": {
    "executionInfo": {
     "elapsed": 358,
     "status": "ok",
     "timestamp": 1622005831228,
     "user": {
      "displayName": "Aishwarya Verma",
      "photoUrl": "https://lh3.googleusercontent.com/a-/AOh14GiG6BREocxcd5R6rzlQGApoCsYso7BQAh63eXNz6Q=s64",
      "userId": "06108390091304498033"
     },
     "user_tz": -330
    },
    "id": "sTHcCCbEEqQT"
   },
   "outputs": [],
   "source": [
    "#TF-IDF Calculations\n",
    "text1_tfidf_dict = dict.fromkeys(word_set, 0)\n",
    "for word in text1:\n",
    "  text1_tfidf_dict[word] = (text1_tf_dict[word]) * (text12_idf_dict[word])\n",
    "\n",
    "text2_tfidf_dict = dict.fromkeys(word_set, 0)\n",
    "for word in text2:\n",
    "  text2_tfidf_dict[word] = (text2_tf_dict[word]*(text12_idf_dict[word]))"
   ]
  },
  {
   "cell_type": "markdown",
   "metadata": {
    "id": "SD2YGJRZFTbq"
   },
   "source": [
    "### **Word Embedding Method**"
   ]
  },
  {
   "cell_type": "markdown",
   "metadata": {
    "id": "yl6Gm6iTFWTG"
   },
   "source": [
    "Of-late Word embedding are being used to vectorise words, and using that the whole documents. Google’s Word2Vec and Doc2Vec available from Python’s genism library [^6] can be used to vectorise the news reports and then find similarity between them."
   ]
  },
  {
   "cell_type": "code",
   "execution_count": 14,
   "metadata": {
    "colab": {
     "base_uri": "https://localhost:8080/"
    },
    "executionInfo": {
     "elapsed": 1080,
     "status": "ok",
     "timestamp": 1622008416773,
     "user": {
      "displayName": "Aishwarya Verma",
      "photoUrl": "https://lh3.googleusercontent.com/a-/AOh14GiG6BREocxcd5R6rzlQGApoCsYso7BQAh63eXNz6Q=s64",
      "userId": "06108390091304498033"
     },
     "user_tz": -330
    },
    "id": "nmVC7Y-aM49T",
    "outputId": "243c2434-5f66-4e5e-df82-5d66edb5d3e3"
   },
   "outputs": [
    {
     "name": "stderr",
     "output_type": "stream",
     "text": [
      "/usr/local/lib/python3.7/dist-packages/gensim/models/doc2vec.py:570: UserWarning: The parameter `size` is deprecated, will be removed in 4.0.0, use `vector_size` instead.\n",
      "  warnings.warn(\"The parameter `size` is deprecated, will be removed in 4.0.0, use `vector_size` instead.\")\n",
      "/usr/local/lib/python3.7/dist-packages/ipykernel_launcher.py:17: DeprecationWarning: Call to deprecated `iter` (Attribute will be removed in 4.0.0, use self.epochs instead).\n"
     ]
    },
    {
     "name": "stdout",
     "output_type": "stream",
     "text": [
      "Now Training Epoch 0\n",
      "Now Training Epoch 20\n",
      "Now Training Epoch 40\n",
      "Now Training Epoch 60\n"
     ]
    }
   ],
   "source": [
    "from gensim.models.doc2vec import TaggedDocument\n",
    "import gensim\n",
    "taggeddocs = []\n",
    "doc1 = TaggedDocument(words=text1, tags =[u'NEWS_1'])\n",
    "taggeddocs.append(doc1)\n",
    "\n",
    "doc2 = TaggedDocument(words=text2, tags = [u'NEWS_2'])\n",
    "taggeddocs.append(doc2)\n",
    "\n",
    "#build the model\n",
    "model = gensim.models.Doc2Vec(taggeddocs, dm=0, alpha=0.25, size=20, min_alpha=0.025, min_count = 0)\n",
    "\n",
    "#training\n",
    "for epoch in range(80):\n",
    "  if epoch%20==0:\n",
    "    print('Now Training Epoch %s'% epoch)\n",
    "  model.train(taggeddocs, epochs=model.iter, total_examples=model.corpus_count)\n",
    "  model.alpha -=0.002 #decrease the learning rate\n",
    "  model.min_alpha = model.alpha #fix the learning rate, no decay"
   ]
  },
  {
   "cell_type": "markdown",
   "metadata": {
    "id": "vFPZbt74Fbie"
   },
   "source": [
    "Once the words in the text are vectorised, the similarity score between them is nothing but the ‘distance’ between them."
   ]
  },
  {
   "cell_type": "markdown",
   "metadata": {
    "id": "CH9tSHStFg25"
   },
   "source": [
    "## **Distance computation**"
   ]
  },
  {
   "cell_type": "markdown",
   "metadata": {
    "id": "anlzs8VNFj3m"
   },
   "source": [
    "Following are the steps to compute the similarity of two texts using TF-IDF Method. It is computed using the dot product of given vectors v1 and v2."
   ]
  },
  {
   "cell_type": "code",
   "execution_count": 15,
   "metadata": {
    "colab": {
     "base_uri": "https://localhost:8080/"
    },
    "executionInfo": {
     "elapsed": 347,
     "status": "ok",
     "timestamp": 1622008597765,
     "user": {
      "displayName": "Aishwarya Verma",
      "photoUrl": "https://lh3.googleusercontent.com/a-/AOh14GiG6BREocxcd5R6rzlQGApoCsYso7BQAh63eXNz6Q=s64",
      "userId": "06108390091304498033"
     },
     "user_tz": -330
    },
    "id": "ICYpVmEKPYQQ",
    "outputId": "810a68e8-8380-4c07-ba64-64ecf8d20db3"
   },
   "outputs": [
    {
     "name": "stdout",
     "output_type": "stream",
     "text": [
      "Similarity Index: 90.09%\n"
     ]
    }
   ],
   "source": [
    "#Compute cosine distance\n",
    "v1 = list(text1_tfidf_dict.values())\n",
    "v2 = list(text2_tfidf_dict.values())\n",
    "\n",
    "similarity = 1-nltk.cluster.cosine_distance(v1, v2)\n",
    "print(\"Similarity Index: {:4.2f}%\".format(similarity*100))"
   ]
  },
  {
   "cell_type": "markdown",
   "metadata": {
    "id": "B7pZRfiBFpt1"
   },
   "source": [
    "\n",
    "For the given two news items the similarity score came to about 90.09%. "
   ]
  },
  {
   "cell_type": "code",
   "execution_count": 16,
   "metadata": {
    "colab": {
     "base_uri": "https://localhost:8080/"
    },
    "executionInfo": {
     "elapsed": 333,
     "status": "ok",
     "timestamp": 1622008660887,
     "user": {
      "displayName": "Aishwarya Verma",
      "photoUrl": "https://lh3.googleusercontent.com/a-/AOh14GiG6BREocxcd5R6rzlQGApoCsYso7BQAh63eXNz6Q=s64",
      "userId": "06108390091304498033"
     },
     "user_tz": -330
    },
    "id": "Aa2hy4rFP2RQ",
    "outputId": "5f07c8a2-a9a6-43b5-9f73-aecedda836dd"
   },
   "outputs": [
    {
     "name": "stdout",
     "output_type": "stream",
     "text": [
      "Similarity Index: 88.95%\n"
     ]
    },
    {
     "name": "stderr",
     "output_type": "stream",
     "text": [
      "/usr/local/lib/python3.7/dist-packages/ipykernel_launcher.py:1: DeprecationWarning: Call to deprecated `n_similarity` (Method will be removed in 4.0.0, use self.wv.n_similarity() instead).\n",
      "  \"\"\"Entry point for launching an IPython kernel.\n"
     ]
    }
   ],
   "source": [
    "similarity = model.n_similarity(text1, text2)\n",
    "print(\"Similarity Index: {:4.2f}%\".format(similarity*100))"
   ]
  },
  {
   "cell_type": "markdown",
   "metadata": {
    "id": "SDV45fI-Fuqy"
   },
   "source": [
    "In case of Word Embedding method, the Doc2Vec model itself can compute similarity of given texts. For the given two news items the similarity score came to about 88.95%."
   ]
  },
  {
   "cell_type": "markdown",
   "metadata": {
    "id": "prpNOPgzWgiU"
   },
   "source": [
    "# **Read more articles on:**\n",
    "\n",
    "\n",
    "> * [NLP Case Study of Documents Similarity](https://analyticsindiamag.com/nlp-case-study-identify/)\n",
    "\n",
    "> * [Review Classification](https://analyticsindiamag.com/step-by-step-guide-to-reviews-classification-using-svc-naive-bayes-random-forest/)\n",
    "\n",
    "> * [Multi Class Text Classification](https://analyticsindiamag.com/multi-class-text-classification-in-pytorch-using-torchtext/)\n",
    "\n",
    "> * [Text Classification](https://analyticsindiamag.com/how-to-solve-your-first-ever-nlp-classification-challenge/)\n",
    "\n",
    "> * [Word Frequency](https://analyticsindiamag.com/using-natural-language-processing-to-check-word-frequency-in-the-adventure-of-sherlock-holmes/)\n",
    "\n",
    "> * [Vocabulary Builder](https://analyticsindiamag.com/how-to-create-a-vocabulary-builder-for-nlp-tasks/)\n"
   ]
  }
 ],
 "metadata": {
  "colab": {
   "authorship_tag": "ABX9TyPKbWYv/0SD2rSW5bwk+E29",
   "collapsed_sections": [],
   "name": "Identify_Documents_Similarity.ipynb",
   "provenance": [],
   "toc_visible": true
  },
  "kernelspec": {
   "display_name": "Python 3",
   "name": "python3"
  },
  "language_info": {
   "name": "python"
  }
 },
 "nbformat": 4,
 "nbformat_minor": 2
}
