{
 "cells": [
  {
   "cell_type": "markdown",
   "metadata": {
    "id": "shwc2VHLmdvU"
   },
   "source": [
    "# **What is SVD?**"
   ]
  },
  {
   "cell_type": "markdown",
   "metadata": {
    "id": "HmId3nsLmq7W"
   },
   "source": [
    "Singular Value Decomposition (SVD), a classical method from linear algebra is getting popular in the field of data science and machine learning. This popularity is because of its application in developing recommender systems. There are a lot of online user-centric applications such as video players, music players, e-commerce applications, etc., where users are recommended with further items to engage with. "
   ]
  },
  {
   "cell_type": "markdown",
   "metadata": {
    "id": "zTv6V5XgpVko"
   },
   "source": [
    "The Singular Value Decomposition (SVD), a method from linear algebra that has been generally used as a dimensionality reduction technique in machine learning. SVD is a matrix factorisation technique, which reduces the number of features of a dataset by reducing the space dimension from N-dimension to K-dimension (where K<N). In the context of the recommender system, the SVD is used as a collaborative filtering technique. It uses a matrix structure where each row represents a user, and each column represents an item. The elements of this matrix are the ratings that are given to items by users."
   ]
  },
  {
   "cell_type": "markdown",
   "metadata": {
    "id": "I_-0IWckpbZq"
   },
   "source": [
    "The factorisation of this matrix is done by the singular value decomposition. It finds factors of matrices from the factorisation of a high-level (user-item-rating) matrix. The singular value decomposition is a method of decomposing a matrix into three other matrices as given below:"
   ]
  },
  {
   "cell_type": "markdown",
   "metadata": {
    "id": "Js1OiVHQuZKx"
   },
   "source": [
    "![image.png](data:image/png;base64,iVBORw0KGgoAAAANSUhEUgAAAFUAAAAfCAYAAACWNoFQAAABt0lEQVRoge2XW46FMAhAu0OWxVJYCkthGdyP1jt90KpVZpIJJ/GnRqynQGvS4HXSX0/gPxJSHQipDoRUB0KqAyHVgZB6IKSQkqbmAiW5HyqkHjBlgYyakMsQ6YbTkNrDmLQ43SakNrBiQn3o9IHUo1xegxWn/ay+NxvPMoSoSBElsOLV413PFFKAvZKv2ZMqpLDZxE8CK0FSMAOLEtYfnIX+lGoR3NWuEGjqRQkpGBkpBJN332ND6rHSz8tkhBWni8XK9QstMUKK3cNC0Im2SnyRvRvclsoISoTj6n/nZx1Nqmu1C/AiLnMnws7MMWSb+W9sRGfck8qYJ7T6+Af0App7bJk4euqsanIGHhLfKu8zrksVUiizG0vqDdalT1MZK7FVzGr+3lyU2u+ki7LbLX/GacYJYSt7OHlMWsG374oSeOwBNpekMtYZtNqhHzBtKazYjQvB0BcZDaklJveL4syp1LGx90eZlygZ3sZte2I91mS1+WxpU8khAU6YS2UcS7Yeu7Dz3mZoHVaPZcW8WzY/C9ZUzOz9BeI31YGQ6kBIdSCkOhBSHQipDoRUB0KqAyHVgZDqwAf/caw7TZvCMAAAAABJRU5ErkJggg==)"
   ]
  },
  {
   "cell_type": "markdown",
   "metadata": {
    "id": "etrMWetOucpG"
   },
   "source": [
    " Where A is a m x n utility matrix, U is a m x r orthogonal left singular matrix, which represents the relationship between users and latent factors, S is a r x r diagonal matrix, which describes the strength of each latent factor and V is a r x n diagonal right singular matrix, which indicates the similarity between items and latent factors. The latent factors here are the characteristics of the items, for example, the genre of the music. The SVD decreases the dimension of the utility matrix A by extracting its latent factors. It maps each user and each item into a r-dimensional latent space. This mapping facilitates a clear representation of relationships between users and items."
   ]
  },
  {
   "cell_type": "markdown",
   "metadata": {
    "id": "2eHzEjNXuiOA"
   },
   "source": [
    "## **Singular Value Decomposition (SVD) based Movie Recommendation**"
   ]
  },
  {
   "cell_type": "markdown",
   "metadata": {
    "id": "ZeLuOfyDurJ-"
   },
   "source": [
    "Below is an implementation of singular value decomposition (SVD) based on collaborative filtering in the task of movie recommendation. This task is implemented in Python. For simplicity, the [MovieLens 1M Dataset](https://grouplens.org/datasets/movielens/1m/) has been used. This dataset has been chosen because it does not require any preprocessing as the main focus of this article is on SVD and recommender systems."
   ]
  },
  {
   "cell_type": "markdown",
   "metadata": {
    "id": "5xVOulB7vqP8"
   },
   "source": [
    "Import the required python libraries:"
   ]
  },
  {
   "cell_type": "code",
   "execution_count": null,
   "metadata": {},
   "outputs": [],
   "source": [
    "!python -m pip install pip --upgrade --user -q --no-warn-script-location\n",
    "!python -m pip install numpy pandas seaborn matplotlib scipy statsmodels sklearn nltk gensim --user -q --no-warn-script-location\n",
    "\n",
    "import IPython\n",
    "IPython.Application.instance().kernel.do_shutdown(True)"
   ]
  },
  {
   "cell_type": "code",
   "execution_count": null,
   "metadata": {
    "executionInfo": {
     "elapsed": 366,
     "status": "ok",
     "timestamp": 1622017117531,
     "user": {
      "displayName": "Aishwarya Verma",
      "photoUrl": "https://lh3.googleusercontent.com/a-/AOh14GiG6BREocxcd5R6rzlQGApoCsYso7BQAh63eXNz6Q=s64",
      "userId": "06108390091304498033"
     },
     "user_tz": -330
    },
    "id": "Zv-j0eEVmIaK"
   },
   "outputs": [],
   "source": [
    "import numpy as np\n",
    "import pandas as pd"
   ]
  },
  {
   "cell_type": "markdown",
   "metadata": {
    "id": "0wHbKEmvvuiA"
   },
   "source": [
    "Read the dataset from where it is downloaded in the system. It consists of two files ‘ratings.dat’ and ‘movies.dat’ which need to be read."
   ]
  },
  {
   "cell_type": "code",
   "execution_count": null,
   "metadata": {
    "executionInfo": {
     "elapsed": 1157,
     "status": "ok",
     "timestamp": 1622017129829,
     "user": {
      "displayName": "Aishwarya Verma",
      "photoUrl": "https://lh3.googleusercontent.com/a-/AOh14GiG6BREocxcd5R6rzlQGApoCsYso7BQAh63eXNz6Q=s64",
      "userId": "06108390091304498033"
     },
     "user_tz": -330
    },
    "id": "GG99rsowvwcM"
   },
   "outputs": [],
   "source": [
    "data = pd.io.parsers.read_csv('https://gitlab.com/AnalyticsIndiaMagazine/practicedatasets/-/raw/main/singular_value_decomposition/ratings.dat', \n",
    "    names=['user_id', 'movie_id', 'rating', 'time'],\n",
    "    engine='python', delimiter='::')\n",
    "\n",
    "movie_data = pd.io.parsers.read_csv('movies.dat',\n",
    "    names=['movie_id', 'title', 'genre'],\n",
    "    engine='python', delimiter='::')"
   ]
  },
  {
   "cell_type": "markdown",
   "metadata": {
    "id": "sCWOzlmZv1D9"
   },
   "source": [
    "Create the rating matrix with rows as movies and columns as users."
   ]
  },
  {
   "cell_type": "code",
   "execution_count": null,
   "metadata": {
    "executionInfo": {
     "elapsed": 355,
     "status": "ok",
     "timestamp": 1622017140084,
     "user": {
      "displayName": "Aishwarya Verma",
      "photoUrl": "https://lh3.googleusercontent.com/a-/AOh14GiG6BREocxcd5R6rzlQGApoCsYso7BQAh63eXNz6Q=s64",
      "userId": "06108390091304498033"
     },
     "user_tz": -330
    },
    "id": "wCAqm_eDv45R"
   },
   "outputs": [],
   "source": [
    "ratings_mat = np.ndarray(\n",
    "    shape=(np.max(data.movie_id.values), np.max(data.user_id.values)),\n",
    "    dtype=np.uint8)\n",
    "ratings_mat[data.movie_id.values-1, data.user_id.values-1] = data.rating.values"
   ]
  },
  {
   "cell_type": "markdown",
   "metadata": {
    "id": "z_DA9aj7v5qT"
   },
   "source": [
    "Normalise the matrix."
   ]
  },
  {
   "cell_type": "code",
   "execution_count": null,
   "metadata": {
    "executionInfo": {
     "elapsed": 8,
     "status": "ok",
     "timestamp": 1622017141557,
     "user": {
      "displayName": "Aishwarya Verma",
      "photoUrl": "https://lh3.googleusercontent.com/a-/AOh14GiG6BREocxcd5R6rzlQGApoCsYso7BQAh63eXNz6Q=s64",
      "userId": "06108390091304498033"
     },
     "user_tz": -330
    },
    "id": "8EFg_4C_v9ni"
   },
   "outputs": [],
   "source": [
    "normalised_mat = ratings_mat - np.asarray([(np.mean(ratings_mat, 1))]).T"
   ]
  },
  {
   "cell_type": "markdown",
   "metadata": {
    "id": "hjF7hJ-9v-HQ"
   },
   "source": [
    "Compute the Singular Value Decomposition (SVD)."
   ]
  },
  {
   "cell_type": "code",
   "execution_count": null,
   "metadata": {
    "executionInfo": {
     "elapsed": 5776,
     "status": "ok",
     "timestamp": 1622017148922,
     "user": {
      "displayName": "Aishwarya Verma",
      "photoUrl": "https://lh3.googleusercontent.com/a-/AOh14GiG6BREocxcd5R6rzlQGApoCsYso7BQAh63eXNz6Q=s64",
      "userId": "06108390091304498033"
     },
     "user_tz": -330
    },
    "id": "DZWmy72dwOxi"
   },
   "outputs": [],
   "source": [
    "A = normalised_mat.T / np.sqrt(ratings_mat.shape[0] - 1)\n",
    "U, S, V = np.linalg.svd(A)"
   ]
  },
  {
   "cell_type": "markdown",
   "metadata": {
    "id": "Rxb6EL4ewPaQ"
   },
   "source": [
    "Define a function to calculate the cosine similarity. Sort by most similar and return the top N results."
   ]
  },
  {
   "cell_type": "code",
   "execution_count": null,
   "metadata": {
    "executionInfo": {
     "elapsed": 615,
     "status": "ok",
     "timestamp": 1622017163662,
     "user": {
      "displayName": "Aishwarya Verma",
      "photoUrl": "https://lh3.googleusercontent.com/a-/AOh14GiG6BREocxcd5R6rzlQGApoCsYso7BQAh63eXNz6Q=s64",
      "userId": "06108390091304498033"
     },
     "user_tz": -330
    },
    "id": "5otCebEDwbYG"
   },
   "outputs": [],
   "source": [
    "def top_cosine_similarity(data, movie_id, top_n=10):\n",
    "    index = movie_id - 1 # Movie id starts from 1 in the dataset\n",
    "    movie_row = data[index, :]\n",
    "    magnitude = np.sqrt(np.einsum('ij, ij -> i', data, data))\n",
    "    similarity = np.dot(movie_row, data.T) / (magnitude[index] * magnitude)\n",
    "    sort_indexes = np.argsort(-similarity)\n",
    "    return sort_indexes[:top_n]"
   ]
  },
  {
   "cell_type": "markdown",
   "metadata": {
    "id": "DN7ub4hQwdIo"
   },
   "source": [
    "Define a function to print top N similar movies."
   ]
  },
  {
   "cell_type": "code",
   "execution_count": null,
   "metadata": {
    "executionInfo": {
     "elapsed": 433,
     "status": "ok",
     "timestamp": 1622017189354,
     "user": {
      "displayName": "Aishwarya Verma",
      "photoUrl": "https://lh3.googleusercontent.com/a-/AOh14GiG6BREocxcd5R6rzlQGApoCsYso7BQAh63eXNz6Q=s64",
      "userId": "06108390091304498033"
     },
     "user_tz": -330
    },
    "id": "C6mJEquqwfDF"
   },
   "outputs": [],
   "source": [
    "def print_similar_movies(movie_data, movie_id, top_indexes):\n",
    "  print('Recommendations for {0}: \\n'.format(\n",
    "  movie_data[movie_data.movie_id == movie_id].title.values[0]))\n",
    "  for id in top_indexes + 1:\n",
    "      print(movie_data[movie_data.movie_id == id].title.values[0])"
   ]
  },
  {
   "cell_type": "markdown",
   "metadata": {
    "id": "pZOjuJXrwdAU"
   },
   "source": [
    "Initialise the value of k principal components, id of the movie as given in the dataset, and number of top elements to be printed."
   ]
  },
  {
   "cell_type": "code",
   "execution_count": null,
   "metadata": {
    "executionInfo": {
     "elapsed": 374,
     "status": "ok",
     "timestamp": 1622017210369,
     "user": {
      "displayName": "Aishwarya Verma",
      "photoUrl": "https://lh3.googleusercontent.com/a-/AOh14GiG6BREocxcd5R6rzlQGApoCsYso7BQAh63eXNz6Q=s64",
      "userId": "06108390091304498033"
     },
     "user_tz": -330
    },
    "id": "J35JonfGwmrp"
   },
   "outputs": [],
   "source": [
    "k = 50\n",
    "movie_id = 10 # (getting an id from movies.dat)\n",
    "top_n = 10\n",
    "sliced = V.T[:, :k] # representative data\n",
    "indexes = top_cosine_similarity(sliced, movie_id, top_n)"
   ]
  },
  {
   "cell_type": "markdown",
   "metadata": {
    "id": "BDy-By1Fwogz"
   },
   "source": [
    "Print the top N similar movies."
   ]
  },
  {
   "cell_type": "code",
   "execution_count": null,
   "metadata": {
    "colab": {
     "base_uri": "https://localhost:8080/"
    },
    "executionInfo": {
     "elapsed": 450,
     "status": "ok",
     "timestamp": 1622017223171,
     "user": {
      "displayName": "Aishwarya Verma",
      "photoUrl": "https://lh3.googleusercontent.com/a-/AOh14GiG6BREocxcd5R6rzlQGApoCsYso7BQAh63eXNz6Q=s64",
      "userId": "06108390091304498033"
     },
     "user_tz": -330
    },
    "id": "GQRNo2-cwqFt",
    "outputId": "b9078a73-6281-4e13-f38d-2aa6120d9c4e"
   },
   "outputs": [],
   "source": [
    "print_similar_movies(movie_data, movie_id, indexes)"
   ]
  },
  {
   "cell_type": "markdown",
   "metadata": {
    "id": "prpNOPgzWgiU"
   },
   "source": [
    "# **Related Articles:**\n",
    "\n",
    "> * [SVD in Recommender System](https://analyticsindiamag.com/singular-value-decomposition-svd-application-recommender-system/)\n",
    "\n",
    "> * [TF-IDF from Scratch in Python](https://analyticsindiamag.com/hands-on-implementation-of-tf-idf-from-scratch-in-python/)\n",
    "\n",
    "> * [Continuous Bag of Words](https://analyticsindiamag.com/the-continuous-bag-of-words-cbow-model-in-nlp-hands-on-implementation-with-codes/)\n",
    "\n",
    "> * [NLP Case Study of Documents Similarity](https://analyticsindiamag.com/nlp-case-study-identify/)\n",
    "\n",
    "> * [Review Classification](https://analyticsindiamag.com/step-by-step-guide-to-reviews-classification-using-svc-naive-bayes-random-forest/)\n",
    "\n",
    "> * [Multi Class Text Classification](https://analyticsindiamag.com/multi-class-text-classification-in-pytorch-using-torchtext/)\n"
   ]
  },
  {
   "cell_type": "code",
   "execution_count": null,
   "metadata": {
    "id": "kLnJzdTQowhL"
   },
   "outputs": [],
   "source": []
  }
 ],
 "metadata": {
  "colab": {
   "authorship_tag": "ABX9TyPSvhd1nu3ewx2HzkjhDLts",
   "collapsed_sections": [],
   "name": "Singular_Value_Decomposition.ipynb",
   "provenance": [],
   "toc_visible": true
  },
  "interpreter": {
   "hash": "bf1c1c88dcd4a5670b9a47bf2bba5adec14ec31820c4d35855d0349e55a0f49f"
  },
  "kernelspec": {
   "display_name": "Python 3.8.5 64-bit ('base': conda)",
   "name": "python3"
  },
  "language_info": {
   "codemirror_mode": {
    "name": "ipython",
    "version": 3
   },
   "file_extension": ".py",
   "mimetype": "text/x-python",
   "name": "python",
   "nbconvert_exporter": "python",
   "pygments_lexer": "ipython3",
   "version": "3.8.5"
  }
 },
 "nbformat": 4,
 "nbformat_minor": 2
}
