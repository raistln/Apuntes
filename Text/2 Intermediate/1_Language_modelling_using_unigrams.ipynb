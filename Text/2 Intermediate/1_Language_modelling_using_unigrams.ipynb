{
 "cells": [
  {
   "cell_type": "markdown",
   "metadata": {
    "id": "7bRkYSNC7-IO"
   },
   "source": [
    "# **Language Modelling**"
   ]
  },
  {
   "cell_type": "markdown",
   "metadata": {
    "id": "Mr19WCad82Xw"
   },
   "source": [
    "Language modelling is the speciality of deciding the likelihood of a succession of words. These are useful in many different Natural Language Processing applications like Machine translator, Speech recognition, Optical character recognition and many more.In recent times language models depend on neural networks, they anticipate precisely a word in a sentence dependent on encompassing words. However, in this project, we will discuss the most classic of language models: the n-gram models."
   ]
  },
  {
   "cell_type": "markdown",
   "metadata": {
    "id": "IS3Ml-0L9EKG"
   },
   "source": [
    "## **Assumptions For a Unigram Model**"
   ]
  },
  {
   "cell_type": "markdown",
   "metadata": {
    "id": "pvSsoRAk9HjA"
   },
   "source": [
    "1.  It depends on the occurrence of the word among all the words in the dataset.\n",
    "\n",
    "2.  Probability of a word is independent of all the words before its occurrence."
   ]
  },
  {
   "cell_type": "markdown",
   "metadata": {
    "id": "bDBbdcHS9T6t"
   },
   "source": [
    "## **Code Implementation**"
   ]
  },
  {
   "cell_type": "markdown",
   "metadata": {
    "id": "i7mfx1Wg9WRe"
   },
   "source": [
    "Import all the libraries required for this project."
   ]
  },
  {
   "cell_type": "code",
   "execution_count": null,
   "metadata": {},
   "outputs": [],
   "source": [
    "!python -m pip install pip --upgrade --user -q --no-warn-script-location\n",
    "!python -m pip install numpy pandas seaborn matplotlib scipy statsmodels sklearn nltk gensim --user -q --no-warn-script-location\n",
    "\n",
    "import IPython\n",
    "IPython.Application.instance().kernel.do_shutdown(True)"
   ]
  },
  {
   "cell_type": "code",
   "execution_count": null,
   "metadata": {
    "colab": {
     "base_uri": "https://localhost:8080/"
    },
    "executionInfo": {
     "elapsed": 392,
     "status": "ok",
     "timestamp": 1622189922591,
     "user": {
      "displayName": "Aishwarya Verma",
      "photoUrl": "https://lh3.googleusercontent.com/a-/AOh14GiG6BREocxcd5R6rzlQGApoCsYso7BQAh63eXNz6Q=s64",
      "userId": "06108390091304498033"
     },
     "user_tz": -330
    },
    "id": "bqk3nVIWAsA4",
    "outputId": "4db40a12-0f6e-4001-d148-bafa061b6ff7"
   },
   "outputs": [],
   "source": [
    "import nltk\n",
    "nltk.download('reuters')\n",
    "from nltk.corpus import reuters\n",
    "nltk.download('punkt')"
   ]
  },
  {
   "cell_type": "markdown",
   "metadata": {
    "id": "GLiwe8ln9bFS"
   },
   "source": [
    "Reuters dataset consists of 10788 documents from the Reuters financial newswire services.\n",
    "\n",
    "Store the words in a list."
   ]
  },
  {
   "cell_type": "code",
   "execution_count": null,
   "metadata": {
    "colab": {
     "base_uri": "https://localhost:8080/",
     "height": 1000
    },
    "executionInfo": {
     "elapsed": 732,
     "status": "error",
     "timestamp": 1622189931952,
     "user": {
      "displayName": "Aishwarya Verma",
      "photoUrl": "https://lh3.googleusercontent.com/a-/AOh14GiG6BREocxcd5R6rzlQGApoCsYso7BQAh63eXNz6Q=s64",
      "userId": "06108390091304498033"
     },
     "user_tz": -330
    },
    "id": "lqKLWQkw9va_",
    "outputId": "a849fa78-c334-40e9-c152-96c5ee2bf0d8"
   },
   "outputs": [],
   "source": [
    "words = list(reuters.words())\n",
    "words"
   ]
  },
  {
   "cell_type": "code",
   "execution_count": null,
   "metadata": {
    "id": "qKLPkxkADjpw"
   },
   "outputs": [],
   "source": [
    "len(words)"
   ]
  },
  {
   "cell_type": "markdown",
   "metadata": {
    "id": "EQ7uiX4kDlom"
   },
   "source": [
    "We will start by creating a class and defining every function in it. The idea is to generate words after the sentence using the n-gram model. Predicting the next word with Bigram or Trigram will lead to sparsity problems. To solve this issue we need to go for the unigram model as it is not dependent on the previous words.\n",
    "\n",
    "Let’s calculate the unigram probability of a sentence using the Reuters corpus."
   ]
  },
  {
   "cell_type": "code",
   "execution_count": null,
   "metadata": {
    "executionInfo": {
     "elapsed": 389,
     "status": "ok",
     "timestamp": 1622189966223,
     "user": {
      "displayName": "Aishwarya Verma",
      "photoUrl": "https://lh3.googleusercontent.com/a-/AOh14GiG6BREocxcd5R6rzlQGApoCsYso7BQAh63eXNz6Q=s64",
      "userId": "06108390091304498033"
     },
     "user_tz": -330
    },
    "id": "DgIghqzIDndf"
   },
   "outputs": [],
   "source": [
    "class NGrams:\n",
    "    def __init__(self, words, sentence):\n",
    "        self.words = words\n",
    "        self.sentence = sentence\n",
    "        self.tokens = sentence.split()\n",
    "    def get_tokens(self):\n",
    "        return self.tokens\n",
    "    def add_tokens(self,value):\n",
    "        temp = self.tokens\n",
    "        temp.append(value)\n",
    "        self.tokens = temp\n",
    "        return self.tokens\n",
    "    def unigram_model(self):\n",
    "        self.next_words = np.random.choice(words, size=3)\n",
    "        return self.next_words"
   ]
  },
  {
   "cell_type": "markdown",
   "metadata": {
    "id": "rr4gPUmEDqTP"
   },
   "source": [
    "Here we need to calculate the probabilities for all the various words present in the results of the over unigram model. Select the top three words based on probabilities."
   ]
  },
  {
   "cell_type": "code",
   "execution_count": null,
   "metadata": {
    "colab": {
     "base_uri": "https://localhost:8080/",
     "height": 137
    },
    "executionInfo": {
     "elapsed": 619,
     "status": "error",
     "timestamp": 1622190019009,
     "user": {
      "displayName": "Aishwarya Verma",
      "photoUrl": "https://lh3.googleusercontent.com/a-/AOh14GiG6BREocxcd5R6rzlQGApoCsYso7BQAh63eXNz6Q=s64",
      "userId": "06108390091304498033"
     },
     "user_tz": -330
    },
    "id": "fUolr8XLDss7",
    "outputId": "1b80f5f7-8af2-4552-da08-167465bfec41"
   },
   "outputs": [],
   "source": [
    "def get_top_3_next_words(self,next_words):\n",
    "    next_words_dict = dict()\n",
    "    for word in next_words:\n",
    "        if not word in next_words_dict.keys():\n",
    "            next_words_dict[word] = 1\n",
    "        else:\n",
    "            next_words_dict[word] += 1\n",
    "        for i,j in next_words_dict.items():\n",
    "          next_words_dict[i] = np.round(j/len(next_words),2)\n",
    "    return sorted(next_words_dict.items(), key = lambda k:(k[1], k[0]), reverse=True)[:3]\n",
    "\n",
    "def model_selection(self):\n",
    "        top_words = self.unigram_model()\n",
    "        print(\"unigram-model\")\n",
    "        return top_words"
   ]
  },
  {
   "cell_type": "code",
   "execution_count": null,
   "metadata": {
    "id": "Ft31VHnhEvSX"
   },
   "outputs": [],
   "source": [
    "model = NGrams(words=words, sentence=start_sent)"
   ]
  },
  {
   "cell_type": "code",
   "execution_count": null,
   "metadata": {
    "id": "JDhCSGXJExNl"
   },
   "outputs": [],
   "source": [
    "import numpy as np\n",
    "for i in range(5):\n",
    "    values = model.model_selection()\n",
    "    print(values)\n",
    "    value = input()\n",
    "    model.add_tokens(value)"
   ]
  },
  {
   "cell_type": "markdown",
   "metadata": {
    "id": "peryky8nE5-9"
   },
   "source": [
    "The model generates the top three words. We can select a word from it that will succeed in the starting sentence. Repeat the process up to 5 times. The result is displayed below."
   ]
  },
  {
   "cell_type": "code",
   "execution_count": null,
   "metadata": {
    "id": "rYLi6pClE8p5"
   },
   "outputs": [],
   "source": [
    "print(model.get_tokens())"
   ]
  },
  {
   "cell_type": "markdown",
   "metadata": {
    "id": "dm8HUbSUE_K3"
   },
   "source": [
    "Final step is to join the sentence that is produced from the unigram model."
   ]
  },
  {
   "cell_type": "code",
   "execution_count": null,
   "metadata": {
    "id": "eHYRgSsCFBPQ"
   },
   "outputs": [],
   "source": [
    "print(\" \".join(model.get_tokens()))"
   ]
  },
  {
   "cell_type": "markdown",
   "metadata": {
    "id": "prpNOPgzWgiU"
   },
   "source": [
    "# **Related Articles:**\n",
    "\n",
    "> * [Language Modelling using Unigram](https://analyticsindiamag.com/complete-guide-on-language-modelling-unigram-using-python/)\n",
    "\n",
    "> * [Predict the News Category](https://analyticsindiamag.com/guide-to-cracking-machinehacks-predict-the-news-category-hackathon/)\n",
    "\n",
    "> * [Guide to Sense2vec](https://analyticsindiamag.com/guide-to-sense2vec-contextually-keyed-word-vectors-for-nlp/)\n",
    "\n",
    "> * [Download Twitter Data and Analyze](https://analyticsindiamag.com/hands-on-guide-to-download-analyze-and-visualize-twitter-data/)\n",
    "\n",
    "> * [Sentiment Analysis using LSTM](https://analyticsindiamag.com/how-to-implement-lstm-rnn-network-for-sentiment-analysis/)\n",
    "\n",
    "> * [VADER Sentiment Analysis](https://analyticsindiamag.com/sentiment-analysis-made-easy-using-vader/)\n"
   ]
  }
 ],
 "metadata": {
  "colab": {
   "authorship_tag": "ABX9TyPsyFt28flpv+fDrLF6NJK2",
   "collapsed_sections": [],
   "name": "Language_modelling_using_unigrams.ipynb",
   "provenance": []
  },
  "kernelspec": {
   "display_name": "Python 3",
   "name": "python3"
  },
  "language_info": {
   "name": "python"
  }
 },
 "nbformat": 4,
 "nbformat_minor": 2
}
