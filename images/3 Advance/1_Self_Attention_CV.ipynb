{
 "cells": [
  {
   "cell_type": "markdown",
   "metadata": {
    "id": "DXybxfSTjhYS"
   },
   "source": [
    "# **Self-Attention Computer Vision**\n",
    "\n",
    "Self-Attention Computer Vision, known technically as self_attention_cv, is a PyTorch based library providing a one-stop solution for all of the self-attention based requirements. It includes varieties of self-attention based layers and pre-trained models that can be simply employed in any custom architecture. Rather than building the self-attention layers or blocks from scratch, this library helps its users perform model building in no-time. On the other hand, the pre-trained heavy models such as TransUNet, ViT can be incorporated into custom models and can finish training in minimal time even in a CPU environment!  According to its contributors Adaloglou Nicolas and Sergios Karagiannakos, the library is still under development by updating the latest models and architectures.\n",
    "\n",
    "To read about it more, please refer [this](https://analyticsindiamag.com/pytorch-code-for-self-attention-computer-vision/) article.\n",
    "\n",
    "This notebook has reference from the following sources and papers\n",
    "\n",
    "https://github.com/The-AI-Summer/self-attention-cv\n",
    "https://arxiv.org/pdf/1706.03762.pdf\n",
    "https://analyticsindiamag.com/going-beyond-cnn-stand-alone-self-attention/\n",
    "https://arxiv.org/pdf/2101.11605"
   ]
  },
  {
   "cell_type": "markdown",
   "metadata": {
    "id": "wBXfK4o7gn6e"
   },
   "source": [
    "# **Code Implementation**"
   ]
  },
  {
   "cell_type": "code",
   "execution_count": null,
   "metadata": {},
   "outputs": [],
   "source": [
    "!python -m pip install pip --upgrade --user -q --no-warn-script-location\n",
    "!python -m pip install numpy pandas seaborn matplotlib scipy statsmodels sklearn tensorflow keras opencv-python pillow scikit-image torch torchvision \\\n",
    "    self_attention_cv --user -q --no-warn-script-location\n",
    "\n",
    "import IPython\n",
    "IPython.Application.instance().kernel.do_shutdown(True)\n"
   ]
  },
  {
   "cell_type": "markdown",
   "metadata": {
    "id": "mXNuftZNtnZY"
   },
   "source": [
    "## Multi-head Self Attention"
   ]
  },
  {
   "cell_type": "markdown",
   "metadata": {
    "id": "nr5PaMi6gxCF"
   },
   "source": [
    "According to the authors of the paper, Attention Is All You Need,\n",
    "\n",
    "\"\"\"An attention function can be described as mapping a query and a set of key-value pairs to an output, where the query, keys, values, and output are all vectors. The output is computed as a weighted sum of the values. The weight assigned to each value is computed by a compatibility function of the query with the corresponding key.\"\"\""
   ]
  },
  {
   "cell_type": "code",
   "execution_count": null,
   "metadata": {
    "id": "aBIJkMtzkDN7"
   },
   "outputs": [],
   "source": [
    "import torch\n",
    "from self_attention_cv import MultiHeadSelfAttention\n",
    "\n",
    "model = MultiHeadSelfAttention(dim=64)\n",
    "x = torch.rand(16, 10, 64)  # [batch, tokens, dim]\n",
    "mask = torch.zeros(10, 10)  # tokens X tokens\n",
    "mask[5:8, 5:8] = 1\n",
    "y = model(x, mask)\n",
    "\n",
    "print('Shape of output is: ', y.shape)\n",
    "print('-'*70)\n",
    "print('Output corresponding to the first token/patch in the first batch \\n')\n",
    "print(y.detach().numpy()[0][0])\n"
   ]
  },
  {
   "cell_type": "markdown",
   "metadata": {
    "id": "s2Mw4OMatsT-"
   },
   "source": [
    "## Axial Attention"
   ]
  },
  {
   "cell_type": "markdown",
   "metadata": {
    "id": "YD-0OvfPg3jm"
   },
   "source": [
    "Axial attention is a special kind of self-attention layers collection incorporated in autoregressive models such as Axial Transformers that take high-dimensional data as input such as high-resolution images. The following codes demonstrate Axial attention block implementation with randomly generated image data of size 64 by 64"
   ]
  },
  {
   "cell_type": "code",
   "execution_count": null,
   "metadata": {
    "id": "0TljeBmWkGnP"
   },
   "outputs": [],
   "source": [
    "# Axial Attention\n",
    "from self_attention_cv import AxialAttentionBlock\n",
    "\n",
    "model = AxialAttentionBlock(in_channels=256, dim=64, heads=8)\n",
    "x = torch.rand(1, 256, 64, 64)  # [batch, tokens, dim, dim]\n",
    "y = model(x)\n",
    "\n",
    "print('Shape of output is: ', y.shape)\n",
    "print('-'*70)\n",
    "print('Output corresponding to the first token/patch in the first batch \\n')\n",
    "print(y.detach().numpy()[0][0])"
   ]
  },
  {
   "cell_type": "markdown",
   "metadata": {
    "id": "JtOkveV2txCA"
   },
   "source": [
    "## Bottleneck Attention"
   ]
  },
  {
   "cell_type": "markdown",
   "metadata": {
    "id": "kFtQfuHcg6qX"
   },
   "source": [
    "Bottleneck Transformers employ multi-head self-attention layers in multiple computer vision tasks. The whole transformer block is available as a module in our library. The Bottleneck block is demonstrated in the following codes with randomly generated images of size 32 by 32."
   ]
  },
  {
   "cell_type": "code",
   "execution_count": null,
   "metadata": {
    "id": "OLXdM48Bs7sX"
   },
   "outputs": [],
   "source": [
    "from self_attention_cv.bottleneck_transformer import BottleneckBlock\n",
    "x = torch.rand(1, 512, 32, 32)\n",
    "bottleneck_block = BottleneckBlock(in_channels=512, fmap_size=(32, 32), heads=4, out_channels=1024, pooling=True)\n",
    "y = bottleneck_block(x)\n",
    "\n",
    "print('Shape of output is: ', y.shape)\n",
    "print('-'*70)\n",
    "print('Output corresponding to the first patch in the first head, first batch \\n')\n",
    "print(y.detach().numpy()[0][0][0])"
   ]
  },
  {
   "cell_type": "markdown",
   "metadata": {
    "id": "QvBX6luZt6mF"
   },
   "source": [
    "## Transformer Encoder\n"
   ]
  },
  {
   "cell_type": "markdown",
   "metadata": {
    "id": "0BqULMU5g9qM"
   },
   "source": [
    "The encoder part of base Transformer architecture can be simply obtained using the module TransformerEncoder. The following codes demonstrate usage of this module with randomly generated tokens of dimension 64. "
   ]
  },
  {
   "cell_type": "code",
   "execution_count": null,
   "metadata": {
    "id": "oRWIv_yqryHO"
   },
   "outputs": [],
   "source": [
    "# Transformer Encoder\n",
    "from self_attention_cv import TransformerEncoder\n",
    "\n",
    "model = TransformerEncoder(dim=64,blocks=6,heads=8)\n",
    "x = torch.rand(16, 10, 64)  # [batch, tokens, dim]\n",
    "mask = torch.zeros(10, 10)  # tokens X tokens\n",
    "mask[5:8, 5:8] = 1\n",
    "y = model(x,mask)\n",
    "\n",
    "print('Shape of output is: ', y.shape)\n",
    "print('-'*70)\n",
    "print('Output corresponding to the first token/patch in the first batch \\n')\n",
    "print(y.detach().numpy()[0][0])"
   ]
  },
  {
   "cell_type": "markdown",
   "metadata": {
    "id": "Guu4CBXat-5_"
   },
   "source": [
    "## Vision Transformer "
   ]
  },
  {
   "cell_type": "markdown",
   "metadata": {
    "id": "S8Jq0ozDhAXG"
   },
   "source": [
    "Vision Transformer (ViT) became popular with all kinds of computer vision tasks, achieving state-of-the-art performance in many applications at its publication time. Though few other latest architectures outperform ViT, most of them are built on top of it. The basic ViT is available as a module so that it can be simply used in any custom architecture. The following codes demonstrate the module’s usage with randomly generated 3-channel colored images of ize 256 by 256 in a 10-class classification problem. "
   ]
  },
  {
   "cell_type": "code",
   "execution_count": null,
   "metadata": {
    "id": "MwV5vwsDsRR-"
   },
   "outputs": [],
   "source": [
    "from self_attention_cv import ViT\n",
    "\n",
    "model = ViT(img_dim=256, in_channels=3, patch_dim=16, num_classes=10,dim=512)\n",
    "x = torch.rand(2, 3, 256, 256)\n",
    "y = model(x) # [2,10]\n",
    "\n",
    "print('Shape of output is: ', y.shape)\n",
    "print('-'*70)\n",
    "print('Output corresponding to the first image \\n')\n",
    "print(y.detach().numpy()[0])"
   ]
  },
  {
   "cell_type": "markdown",
   "metadata": {
    "id": "ZX0DmeXVuH3f"
   },
   "source": [
    "## Vision Transformer with ResNet50"
   ]
  },
  {
   "cell_type": "markdown",
   "metadata": {
    "id": "EWlZGGhVhDGC"
   },
   "source": [
    "The Vision Transformer backed with ResNet performs greatly with many of the computer vision tasks. The following codes demonstrate the corresponding module’s usage with randomly generated 3-channel colored images of size 256 by 256 in a 10-class classification problem. "
   ]
  },
  {
   "cell_type": "code",
   "execution_count": null,
   "metadata": {
    "id": "B98nDL3bsU81"
   },
   "outputs": [],
   "source": [
    "from self_attention_cv import ResNet50ViT\n",
    "\n",
    "model = ResNet50ViT(img_dim=256, pretrained_resnet=False, \n",
    "                        blocks=6, num_classes=10, \n",
    "                        dim_linear_block=256, dim=256)\n",
    "x = torch.rand(2, 3, 256, 256)\n",
    "y = model(x) # [2,10]\n",
    "\n",
    "print('Shape of output is: ', y.shape)\n",
    "print('-'*70)\n",
    "print('Output corresponding to the first image \\n')\n",
    "print(y.detach().numpy()[0])"
   ]
  },
  {
   "cell_type": "markdown",
   "metadata": {
    "id": "JeRk_Nw1uMUY"
   },
   "source": [
    "## TransUNet "
   ]
  },
  {
   "cell_type": "markdown",
   "metadata": {
    "id": "MhvwUURwhGPM"
   },
   "source": [
    "TransUNet is the present state-of-the-art architecture in Medical Image Segmentation tasks. This architecture is available as a module in the self_attention_cv library. The following codes demonstrate the module’s usage with randomly generated 3-channel colored images of dimensions 128 by 128. The output of the model built with this module corresponds to the dimensions of the input images."
   ]
  },
  {
   "cell_type": "code",
   "execution_count": null,
   "metadata": {
    "id": "46U88N95ssVz"
   },
   "outputs": [],
   "source": [
    "from self_attention_cv.transunet import TransUnet\n",
    "x = torch.rand(2, 3, 128, 128)\n",
    "model = TransUnet(in_channels=3, img_dim=128, vit_blocks=8,\n",
    "vit_dim_linear_mhsa_block=512, classes=5)\n",
    "y = model(x) # [2, 5, 128, 128]\n",
    "\n",
    "print('Shape of output is: ', y.shape)\n",
    "print('-'*70)\n",
    "print('Output corresponding to the first image \\n')\n",
    "print(y.detach().numpy()[0][0])"
   ]
  },
  {
   "cell_type": "markdown",
   "metadata": {
    "id": "cdIe6dDJudyK"
   },
   "source": [
    "## 1D Absolute Positional Embedding"
   ]
  },
  {
   "cell_type": "markdown",
   "metadata": {
    "id": "--tNidkxhIR6"
   },
   "source": [
    "Two forms of positional embeddings are fed into a self-attention layer to denote memory vectors’ position, namely, absolute positioning and relative positioning. Position-aware self-attention models exhibit memory efficiency and improved performance. Self-attention Computer Vision library has separate modules for absolute and relative position embeddings for 1D and 2D sequential data. The following codes demonstrate application of 1-dimensional absolute positional embedding of tokens of dimension 64 with the corresponding module."
   ]
  },
  {
   "cell_type": "code",
   "execution_count": null,
   "metadata": {
    "id": "HrY4aR90s9Bl"
   },
   "outputs": [],
   "source": [
    "from self_attention_cv.pos_embeddings import AbsPosEmb1D\n",
    "\n",
    "model = AbsPosEmb1D(tokens=20, dim_head=64)\n",
    "# batch heads tokens dim_head\n",
    "x = torch.rand(2, 3, 20, 64)\n",
    "y = model(x)\n",
    "\n",
    "print('Shape of output is: ', y.shape)\n",
    "print('-'*70)\n",
    "print('Output corresponding to the first token in the first head, first batch \\n')\n",
    "print(y.detach().numpy()[0][0][0])"
   ]
  },
  {
   "cell_type": "markdown",
   "metadata": {
    "id": "lE0cNWoruasQ"
   },
   "source": [
    "## 1D Relative Positional Embedding"
   ]
  },
  {
   "cell_type": "markdown",
   "metadata": {
    "id": "JTqDgOJghLl3"
   },
   "source": [
    "Relative positional embedding helps greater performance in Neural Machine Translation compared to absolute positional embedding. The following codes demonstrate the application of 1-dimensional relative positional embedding of tokens of dimension 64 with the corresponding module."
   ]
  },
  {
   "cell_type": "code",
   "execution_count": null,
   "metadata": {
    "id": "ZvBJDQbbtP34"
   },
   "outputs": [],
   "source": [
    "from self_attention_cv.pos_embeddings import RelPosEmb1D\n",
    "\n",
    "model = RelPosEmb1D(tokens=20, dim_head=64, heads=3)\n",
    "x = torch.rand(2, 3, 20, 64)\n",
    "y = model(x)\n",
    "\n",
    "print('Shape of output is: ', y.shape)\n",
    "print('-'*70)\n",
    "print('Output corresponding to the first token in the first head, first batch \\n')\n",
    "print(y.detach().numpy()[0][0][0])"
   ]
  },
  {
   "cell_type": "markdown",
   "metadata": {
    "id": "EkaDlPfPusR7"
   },
   "source": [
    "## 2D Relative Positional Embedding"
   ]
  },
  {
   "cell_type": "markdown",
   "metadata": {
    "id": "0uSBZ906hN_M"
   },
   "source": [
    "The following codes demonstrate the 2-dimensional relative positional embedding module usage with input feature map patches of dimension 32 by 32."
   ]
  },
  {
   "cell_type": "code",
   "execution_count": null,
   "metadata": {
    "id": "1uw5PnFbtV1T"
   },
   "outputs": [],
   "source": [
    "from self_attention_cv.pos_embeddings import RelPosEmb2D\n",
    "dim = 32  # spatial dim of the feat map\n",
    "model = RelPosEmb2D(\n",
    "    feat_map_size=(dim, dim),\n",
    "    dim_head=128)\n",
    "\n",
    "x = torch.rand(2, 4, dim*dim, 128)\n",
    "y = model(x)\n",
    "\n",
    "print('Shape of output is: ', y.shape)\n",
    "print('-'*70)\n",
    "print('Output corresponding to the first patch in the first head, first batch \\n')\n",
    "print(y.detach().numpy()[0][0][0])"
   ]
  }
 ],
 "metadata": {
  "colab": {
   "authorship_tag": "ABX9TyN+S7q2itK47ZHBIppNPoij",
   "collapsed_sections": [],
   "name": "1_Self_Attention_CV.ipynb",
   "provenance": []
  },
  "kernelspec": {
   "display_name": "Python 3",
   "name": "python3"
  },
  "language_info": {
   "name": "python"
  }
 },
 "nbformat": 4,
 "nbformat_minor": 2
}
