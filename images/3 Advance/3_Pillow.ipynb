{
 "cells": [
  {
   "cell_type": "markdown",
   "metadata": {
    "id": "wQ5NzSJZlr4l"
   },
   "source": [
    "# **Pillow**"
   ]
  },
  {
   "cell_type": "markdown",
   "metadata": {
    "id": "WEYzHojJlz0O"
   },
   "source": [
    "Python allows image processing using different libraries and one of them is Pillow, which is an open-source Python Imaging Library that adds image processing capabilities to your Python interpreter. \n",
    "\n",
    "Pillow offers all types of capabilities like image transformation, rotation, resizing, statistics of the image, etc. It supports the extensive file format and is designed to fast access the data stored in pixels. \n",
    "\n",
    "In this practice session, we explore Pillow and learn about its image processing capabilities."
   ]
  },
  {
   "cell_type": "markdown",
   "metadata": {
    "id": "mD_xSnwWl5-y"
   },
   "source": [
    "## **Implementation:**\n",
    "\n",
    "Like any other library, we will first install pillow using pip install pillow\n",
    "\n"
   ]
  },
  {
   "cell_type": "code",
   "execution_count": null,
   "metadata": {},
   "outputs": [],
   "source": [
    "!python -m pip install pip --upgrade --user -q --no-warn-script-location\n",
    "!python -m pip install numpy pandas seaborn matplotlib scipy statsmodels sklearn nltk gensim tensorflow keras torch torchvision \\\n",
    "    tqdm scikit-image pillow --user -q --no-warn-script-location\n",
    "\n",
    "import IPython\n",
    "IPython.Application.instance().kernel.do_shutdown(True)\n"
   ]
  },
  {
   "cell_type": "markdown",
   "metadata": {
    "id": "DqFh5Orel9sO"
   },
   "source": [
    "Importing required library\n",
    "\n",
    "We will start by importing Image function from PIL. This function is used to process the image and perform operations on it."
   ]
  },
  {
   "cell_type": "code",
   "execution_count": null,
   "metadata": {
    "id": "glApIlB9lf-N"
   },
   "outputs": [],
   "source": [
    "from PIL import Image"
   ]
  },
  {
   "cell_type": "markdown",
   "metadata": {
    "id": "PqrwsTdGmB8f"
   },
   "source": [
    "Loading the image\n",
    "\n",
    "We can work on any image of our choice of any format. I am using an image of a bird that I downloaded from google. "
   ]
  },
  {
   "cell_type": "code",
   "execution_count": 1,
   "metadata": {
    "id": "XFoGNgq_mPQy"
   },
   "outputs": [
    {
     "name": "stdout",
     "output_type": "stream",
     "text": [
      "--2021-10-28 18:09:20--  https://upload.wikimedia.org/wikipedia/commons/thumb/9/92/White-crowned-Sparrow.jpg/1200px-White-crowned-Sparrow.jpg\n",
      "Resolving upload.wikimedia.org (upload.wikimedia.org)... 103.102.166.240, 2001:df2:e500:ed1a::2:b\n",
      "Connecting to upload.wikimedia.org (upload.wikimedia.org)|103.102.166.240|:443... connected.\n",
      "HTTP request sent, awaiting response... 200 OK\n",
      "Length: 81493 (80K) [image/jpeg]\n",
      "Saving to: ‘1200px-White-crowned-Sparrow.jpg’\n",
      "\n",
      "1200px-White-crowne 100%[===================>]  79.58K   424KB/s    in 0.2s    \n",
      "\n",
      "2021-10-28 18:09:20 (424 KB/s) - ‘1200px-White-crowned-Sparrow.jpg’ saved [81493/81493]\n",
      "\n"
     ]
    }
   ],
   "source": [
    "# !wget https://upload.wikimedia.org/wikipedia/commons/thumb/9/92/White-crowned-Sparrow.jpg/1200px-White-crowned-Sparrow.jpg"
   ]
  },
  {
   "cell_type": "code",
   "execution_count": null,
   "metadata": {
    "id": "-kIhnmenmE2C"
   },
   "outputs": [],
   "source": [
    "img = Image.open(\"1200px-White-crowned-Sparrow.jpg\")\n",
    "img"
   ]
  },
  {
   "cell_type": "markdown",
   "metadata": {
    "id": "1ss_f8EOmXGB"
   },
   "source": [
    "**Image processing**\n",
    "\n",
    "Lets us start the image processing by knowing the mode, size, and the format of the image. \n",
    "\n",
    "**1. Basic Properties**.\n",
    "\n",
    "\n",
    "Pillow has inbuilt functions to know the basic properties of the image. Lets us see how we use them to draw some information"
   ]
  },
  {
   "cell_type": "code",
   "execution_count": null,
   "metadata": {
    "id": "sd5gdqdHmfcH"
   },
   "outputs": [],
   "source": [
    "print('Format:',img.format)\n",
    "print('Size',img.size)\n",
    "print('Mode:', img.mode)"
   ]
  },
  {
   "cell_type": "markdown",
   "metadata": {
    "id": "JZKV6L9zmiSY"
   },
   "source": [
    "**2. Cropping the Image**\n",
    "\n",
    "In the cropping section, we will crop the image by creating a box of a particular size and cut it out of the image. "
   ]
  },
  {
   "cell_type": "code",
   "execution_count": null,
   "metadata": {
    "id": "JaOxut86mlNm"
   },
   "outputs": [],
   "source": [
    "box1 = (200, 200, 800, 800)\n",
    "crop1 = img.crop(box1)\n",
    "crop1"
   ]
  },
  {
   "cell_type": "markdown",
   "metadata": {
    "id": "hxYAlOu9mrnw"
   },
   "source": [
    "As you can see according to the size of the box we have a cut out from the image which is the cropped version.\n",
    "\n"
   ]
  },
  {
   "cell_type": "markdown",
   "metadata": {
    "id": "M2TIPYIjmtEe"
   },
   "source": [
    "\n",
    "**3. Splitting the Image**\n",
    "\n",
    "As we already know from above that the image is in RGB mode, in this step we will split it into ‘L’ mode i.e. a single channel Luminance."
   ]
  },
  {
   "cell_type": "code",
   "execution_count": null,
   "metadata": {
    "id": "21llTm4wmwTO"
   },
   "outputs": [],
   "source": [
    "R, G, B = img.split()\n",
    "R"
   ]
  },
  {
   "cell_type": "markdown",
   "metadata": {
    "id": "RCKIg_sdmypJ"
   },
   "source": [
    "The image is split into three parts with a single channel ‘L’."
   ]
  },
  {
   "cell_type": "markdown",
   "metadata": {
    "id": "nG-uMomIm4JM"
   },
   "source": [
    "**4. Transformations**\n",
    "\n",
    "Let us analyze different transformation functions. Starting with resizing the image."
   ]
  },
  {
   "cell_type": "markdown",
   "metadata": {
    "id": "DIvrZUm_m8K1"
   },
   "source": [
    "Resizing \n"
   ]
  },
  {
   "cell_type": "code",
   "execution_count": null,
   "metadata": {
    "id": "52wco3IHm_He"
   },
   "outputs": [],
   "source": [
    "resized_image = img.resize((256, 256))\n",
    "resized_image"
   ]
  },
  {
   "cell_type": "markdown",
   "metadata": {
    "id": "SCslwDf8nBW4"
   },
   "source": [
    "Rotating Image"
   ]
  },
  {
   "cell_type": "code",
   "execution_count": null,
   "metadata": {
    "id": "GSda_PudnDjg"
   },
   "outputs": [],
   "source": [
    "rotated_image = img.rotate(90)\n",
    "rotated_image"
   ]
  },
  {
   "cell_type": "markdown",
   "metadata": {
    "id": "45VZvSsNnF-u"
   },
   "source": [
    "Transposing Image\n"
   ]
  },
  {
   "cell_type": "code",
   "execution_count": null,
   "metadata": {
    "id": "0nOC97klnHx0"
   },
   "outputs": [],
   "source": [
    "tran_image = img.transpose(Image.FLIP_TOP_BOTTOM)\n",
    "tran_image"
   ]
  },
  {
   "cell_type": "markdown",
   "metadata": {
    "id": "CauTFM0pnLr8"
   },
   "source": [
    "Changing color"
   ]
  },
  {
   "cell_type": "code",
   "execution_count": null,
   "metadata": {
    "id": "hyQvOCprnOQI"
   },
   "outputs": [],
   "source": [
    "img1 = img.convert('1')\n",
    "img1"
   ]
  },
  {
   "cell_type": "markdown",
   "metadata": {
    "id": "29fsYjobnXWU"
   },
   "source": [
    "5. Filters\n",
    "\n",
    "Let us analyze different filters that are defined under the Pillow library."
   ]
  },
  {
   "cell_type": "markdown",
   "metadata": {
    "id": "M6cswfhwnaDF"
   },
   "source": [
    "Blur Image\n"
   ]
  },
  {
   "cell_type": "code",
   "execution_count": null,
   "metadata": {
    "id": "Exa2KYuwncLM"
   },
   "outputs": [],
   "source": [
    "from PIL import ImageFilter\n",
    "blurred = img.filter(ImageFilter.BLUR)\n",
    "blurred"
   ]
  },
  {
   "cell_type": "markdown",
   "metadata": {
    "id": "symStWBTnfAa"
   },
   "source": [
    "\n",
    "Sharpen Image"
   ]
  },
  {
   "cell_type": "code",
   "execution_count": null,
   "metadata": {
    "id": "7JPiXYLTnhTR"
   },
   "outputs": [],
   "source": [
    "sharped= img.filter(ImageFilter.BLUR)\n",
    "sharped"
   ]
  },
  {
   "cell_type": "markdown",
   "metadata": {
    "id": "8VJdypgRnk4V"
   },
   "source": [
    "Finding Edges"
   ]
  },
  {
   "cell_type": "code",
   "execution_count": null,
   "metadata": {
    "id": "nQ6SVCAnnj_M"
   },
   "outputs": [],
   "source": [
    "edges = sharped.filter(ImageFilter.FIND_EDGES)\n",
    "edges"
   ]
  },
  {
   "cell_type": "markdown",
   "metadata": {
    "id": "f2vU4YVAnq1I"
   },
   "source": [
    "Enhancing Edges\n"
   ]
  },
  {
   "cell_type": "code",
   "execution_count": null,
   "metadata": {
    "id": "5g39_RuinqAx"
   },
   "outputs": [],
   "source": [
    "en_edges = sharped.filter(ImageFilter.EDGE_ENHANCE)\n",
    "en_edges"
   ]
  },
  {
   "cell_type": "markdown",
   "metadata": {
    "id": "SYMWLzAHnUrT"
   },
   "source": [
    "\n",
    "\n",
    "\n",
    "\n",
    "\n",
    "\n",
    "\n",
    "\n",
    "Emboss Filter\n",
    "\n"
   ]
  },
  {
   "cell_type": "code",
   "execution_count": null,
   "metadata": {
    "id": "Z3OQLXa_m2mi"
   },
   "outputs": [],
   "source": [
    "emb = sharped.filter(ImageFilter.EMBOSS)\n",
    "emb"
   ]
  },
  {
   "cell_type": "markdown",
   "metadata": {
    "id": "1ZtPNx78qe5T"
   },
   "source": [
    "#**Related Articles:**\n",
    "\n",
    "> * [Guide to Pillow](https://analyticsindiamag.com/hands-on-guide-to-pillow-python-library-for-image-processing/)\n",
    "\n",
    "> * [Guide to Pgmagick](https://analyticsindiamag.com/complete-guide-on-pgmagick-python-tool-for-image-processing/)\n",
    "\n",
    "> * [Guide to Mahotas](https://analyticsindiamag.com/complete-guide-to-mahotas-python-library-for-image-processing/)\n",
    "\n",
    "> * [Backgroung Tuning with Pixellib](https://analyticsindiamag.com/background-tuning-of-images-with-deeplab-v3-using-pixellib/)\n",
    "\n",
    "> * [Beginners Guide to Pytesseract](https://analyticsindiamag.com/beginners-guide-to-optical-character-recognition-using-pytesseract/)\n",
    "\n",
    "> * [Image to Image Translation](https://analyticsindiamag.com/hisd-python-implementation-of-image-to-image-translation/)\n",
    "\n",
    "> * [Guide to Kornia](https://analyticsindiamag.com/guide-to-kornia-an-opencv-inspired-pytorch-framework/)\n"
   ]
  },
  {
   "cell_type": "code",
   "execution_count": null,
   "metadata": {
    "id": "vYjjILHSoPsp"
   },
   "outputs": [],
   "source": []
  }
 ],
 "metadata": {
  "colab": {
   "authorship_tag": "ABX9TyMt+/HDSaqeFbnMndiVk9vK",
   "collapsed_sections": [],
   "name": "3_Pillow.ipynb",
   "provenance": []
  },
  "interpreter": {
   "hash": "f60a20abaabf5a658075b37fac599269792a9493ddacd7c14d8505185d5625aa"
  },
  "kernelspec": {
   "display_name": "Python 3.8.8 64-bit ('base': conda)",
   "name": "python3"
  },
  "language_info": {
   "codemirror_mode": {
    "name": "ipython",
    "version": 3
   },
   "file_extension": ".py",
   "mimetype": "text/x-python",
   "name": "python",
   "nbconvert_exporter": "python",
   "pygments_lexer": "ipython3",
   "version": "3.8.8"
  }
 },
 "nbformat": 4,
 "nbformat_minor": 2
}
