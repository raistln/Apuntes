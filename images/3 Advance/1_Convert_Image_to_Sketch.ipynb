{
 "cells": [
  {
   "cell_type": "markdown",
   "metadata": {
    "id": "_AByIMTHEZkT"
   },
   "source": [
    "# **Converting Image Into A Pencil Sketch**"
   ]
  },
  {
   "cell_type": "markdown",
   "metadata": {
    "id": "YwdgRincE-d-"
   },
   "source": [
    "In today’s era, we are surrounded by different types of photo manipulating filters in our mobile phones, apps…etc. But do you know how they do these images manipulations…..? In the backend, they are using computer vision techniques. Computer vision has a wide variety of applications not only to reduce the human effort but also used for entertainment apps. Many photo editing apps like FaceApp, Instagram filters…etc are using computer vision techniques. "
   ]
  },
  {
   "cell_type": "markdown",
   "metadata": {
    "id": "20YkSCoLFAue"
   },
   "source": [
    "In this practice session, we will try to convert a normal photo into a pencil sketch using computer vision in a python programming language. In this article, we will show how to convert an image into its corresponding pencil sketch in a few steps."
   ]
  },
  {
   "cell_type": "markdown",
   "metadata": {
    "id": "V6EvRq_pF2Ej"
   },
   "source": [
    "## **Step-1:  Importing required libraries**"
   ]
  },
  {
   "cell_type": "code",
   "execution_count": null,
   "metadata": {},
   "outputs": [],
   "source": [
    "!python -m pip install pip --upgrade --user -q --no-warn-script-location\n",
    "!python -m pip install numpy pandas seaborn matplotlib scipy statsmodels sklearn nltk gensim tensorflow keras \\\n",
    "    tqdm scikit-image pillow --user -q --no-warn-script-location\n",
    "\n",
    "import IPython\n",
    "IPython.Application.instance().kernel.do_shutdown(True)"
   ]
  },
  {
   "cell_type": "code",
   "execution_count": null,
   "metadata": {
    "id": "q7ieRfZDEJec"
   },
   "outputs": [],
   "source": [
    "import cv2\n",
    "import matplotlib.pyplot as plt"
   ]
  },
  {
   "cell_type": "markdown",
   "metadata": {
    "id": "OoL2zgi-F-jo"
   },
   "source": [
    "## **Step-2:  Loading the image**"
   ]
  },
  {
   "cell_type": "code",
   "execution_count": 1,
   "metadata": {
    "id": "l7ovbReMGMJ-"
   },
   "outputs": [
    {
     "name": "stdout",
     "output_type": "stream",
     "text": [
      "--2021-10-28 18:16:19--  https://www.diethelmtravel.com/wp-content/uploads/2016/04/bill-gates-wealthiest-person.jpg\n",
      "Resolving www.diethelmtravel.com (www.diethelmtravel.com)... 185.151.48.150\n",
      "Connecting to www.diethelmtravel.com (www.diethelmtravel.com)|185.151.48.150|:443... connected.\n",
      "HTTP request sent, awaiting response... 200 OK\n",
      "Length: 135240 (132K) [image/jpeg]\n",
      "Saving to: ‘bill-gates-wealthiest-person.jpg’\n",
      "\n",
      "bill-gates-wealthie 100%[===================>] 132.07K  41.2KB/s    in 3.2s    \n",
      "\n",
      "2021-10-28 18:16:24 (41.2 KB/s) - ‘bill-gates-wealthiest-person.jpg’ saved [135240/135240]\n",
      "\n"
     ]
    }
   ],
   "source": [
    "# !wget https://www.diethelmtravel.com/wp-content/uploads/2016/04/bill-gates-wealthiest-person.jpg"
   ]
  },
  {
   "cell_type": "markdown",
   "metadata": {
    "id": "rn_Bi8ibGPfY"
   },
   "source": [
    "Using the below code snippet, we will read the image that is to be processed."
   ]
  },
  {
   "cell_type": "code",
   "execution_count": null,
   "metadata": {
    "id": "qcHNIY-dGRc_"
   },
   "outputs": [],
   "source": [
    "img = cv2.imread('bill-gates-wealthiest-person.jpg', 1)\n",
    "plt.imshow(img)\n",
    "plt.show()"
   ]
  },
  {
   "cell_type": "markdown",
   "metadata": {
    "id": "WCfkiN7JGZtE"
   },
   "source": [
    "## **Step-3: Converting an image into gray_scale image**"
   ]
  },
  {
   "cell_type": "markdown",
   "metadata": {
    "id": "XNWt-c_WGcEH"
   },
   "source": [
    "Using the below code snippet, we will convert the input image into equivalent grey-scale using cv2.cvtColor."
   ]
  },
  {
   "cell_type": "code",
   "execution_count": null,
   "metadata": {
    "id": "cHPHE2kUGeSI"
   },
   "outputs": [],
   "source": [
    "img_gray = cv2.cvtColor(img, cv2.COLOR_BGR2GRAY)\n",
    "plt.imshow(img_gray)\n",
    "plt.show()"
   ]
  },
  {
   "cell_type": "markdown",
   "metadata": {
    "id": "A-3r4HkbGkVw"
   },
   "source": [
    "Converting an image into grayscale gives us black & white pixels in the image which is used for creating a pencil sketch. "
   ]
  },
  {
   "cell_type": "markdown",
   "metadata": {
    "id": "hkscJgdWGmK0"
   },
   "source": [
    "## **Step-4: Inverting the image**"
   ]
  },
  {
   "cell_type": "markdown",
   "metadata": {
    "id": "hij2oOyQGos-"
   },
   "source": [
    "Using the below code snippet, we will invert the image color using cv2.bitwise"
   ]
  },
  {
   "cell_type": "code",
   "execution_count": null,
   "metadata": {
    "id": "lg3b5WQSGqiJ"
   },
   "outputs": [],
   "source": [
    "img_invert = cv2.bitwise_not(img_gray)\n",
    "plt.imshow(img_invert)\n",
    "plt.show()"
   ]
  },
  {
   "cell_type": "markdown",
   "metadata": {
    "id": "mMrlM8ZRGvQH"
   },
   "source": [
    "We are using the bitwise_not function which is used to make brighter regions lighter and vice versa so that we can find the edges to create a pencil sketch. "
   ]
  },
  {
   "cell_type": "markdown",
   "metadata": {
    "id": "Q1dyE5gzGwwW"
   },
   "source": [
    "## **Step-5: Smoothing the image**"
   ]
  },
  {
   "cell_type": "markdown",
   "metadata": {
    "id": "gdxwHP8rGz55"
   },
   "source": [
    "In the below code snippet, we will smooth the image using Gaussian Blur."
   ]
  },
  {
   "cell_type": "code",
   "execution_count": null,
   "metadata": {
    "id": "2ZyfYkt8G17G"
   },
   "outputs": [],
   "source": [
    "img_smoothing = cv2.GaussianBlur(img_invert, (21, 21),sigmaX=0, sigmaY=0)\n",
    "plt.imshow(img_smoothing)\n",
    "plt.show()"
   ]
  },
  {
   "cell_type": "markdown",
   "metadata": {
    "id": "TO-osjh_G7SQ"
   },
   "source": [
    "We have used the gaussian blur technique with 21 x 21 pixel and the default sigma values filter on the image to smoothen our image. By increasing the filter size, we can create thin lines for our sketch and it is used to reduce the noise in the image. "
   ]
  },
  {
   "cell_type": "markdown",
   "metadata": {
    "id": "YONX8rPyG9ZM"
   },
   "source": [
    "## **Step-6: Obtaining the final sketch**"
   ]
  },
  {
   "cell_type": "markdown",
   "metadata": {
    "id": "usl9WtMIG_sS"
   },
   "source": [
    "Using the below code snippet, we will obtain the final pencil sketch of the input image using a blend function dodgev2."
   ]
  },
  {
   "cell_type": "code",
   "execution_count": null,
   "metadata": {
    "id": "buil2rwAHB3s"
   },
   "outputs": [],
   "source": [
    "def dodgeV2(x, y):\n",
    "    return cv2.divide(x, 255 - y, scale=256)"
   ]
  },
  {
   "cell_type": "markdown",
   "metadata": {
    "id": "ZtVk2_v0HFKM"
   },
   "source": [
    "By using this function, it is dividing the greyscale value of the image by the inverse of blurred image value which highlights the boldest edges. This technique is used by traditional photographers to print photos from the reel."
   ]
  },
  {
   "cell_type": "markdown",
   "metadata": {
    "id": "o6qfclVKHHIh"
   },
   "source": [
    "## **Final Output as Pencil Sketch**"
   ]
  },
  {
   "cell_type": "code",
   "execution_count": null,
   "metadata": {
    "id": "HqatjtFuHJ26"
   },
   "outputs": [],
   "source": [
    "final_img = dodgeV2(img_gray, img_smoothing)\n",
    "plt.imshow(final_img)\n",
    "plt.show()"
   ]
  },
  {
   "cell_type": "markdown",
   "metadata": {
    "id": "1ZtPNx78qe5T"
   },
   "source": [
    "#**Related Articles:**\n",
    "\n",
    "> * [Convert Image to Pencil Sketch](https://analyticsindiamag.com/converting-image-into-a-pencil-sketch-in-python/)\n",
    "\n",
    "> * [Image Classification Task with and without Data Augmentation](https://analyticsindiamag.com/image-data-augmentation-impacts-performance-of-image-classification-with-codes/)\n",
    "\n",
    "> * [Image Data Augmentation Work As A Regularizer](https://analyticsindiamag.com/why-does-image-data-augmentation-work-as-a-regularizer-in-deep-learning/)\n",
    "\n",
    "> * [Guide to Pillow](https://analyticsindiamag.com/hands-on-guide-to-pillow-python-library-for-image-processing/)\n",
    "\n",
    "> * [Guide to Pgmagick](https://analyticsindiamag.com/complete-guide-on-pgmagick-python-tool-for-image-processing/)\n",
    "\n",
    "> * [Guide to Mahotas](https://analyticsindiamag.com/complete-guide-to-mahotas-python-library-for-image-processing/)\n"
   ]
  }
 ],
 "metadata": {
  "colab": {
   "authorship_tag": "ABX9TyMC87yP7VlwgQ5MLMLwRmSO",
   "collapsed_sections": [],
   "name": "1_Convert_Image_to_Sketch.ipynb",
   "provenance": []
  },
  "interpreter": {
   "hash": "f60a20abaabf5a658075b37fac599269792a9493ddacd7c14d8505185d5625aa"
  },
  "kernelspec": {
   "display_name": "Python 3.8.8 64-bit ('base': conda)",
   "name": "python3"
  },
  "language_info": {
   "codemirror_mode": {
    "name": "ipython",
    "version": 3
   },
   "file_extension": ".py",
   "mimetype": "text/x-python",
   "name": "python",
   "nbconvert_exporter": "python",
   "pygments_lexer": "ipython3",
   "version": "3.8.8"
  }
 },
 "nbformat": 4,
 "nbformat_minor": 2
}
