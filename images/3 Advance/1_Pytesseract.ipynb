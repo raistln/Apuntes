{
 "cells": [
  {
   "cell_type": "markdown",
   "metadata": {
    "id": "__JNj6SgKkhW"
   },
   "source": [
    "# **Pytesseract**"
   ]
  },
  {
   "cell_type": "markdown",
   "metadata": {
    "id": "gMUAtmppMmWp"
   },
   "source": [
    "It has happened with all of us, tried copying the text but later realised that it is an image. And you have felt like, only if I could copy it!! Haha, no worries in this practice session I will share a secret with you, which will help you fetch the text from an image"
   ]
  },
  {
   "cell_type": "markdown",
   "metadata": {
    "id": "PPOIvKAUMuHm"
   },
   "source": [
    "We will make an OCR of your own with the help of tesseract which is a widely used OCR engine open-sourced by Google."
   ]
  },
  {
   "cell_type": "markdown",
   "metadata": {
    "id": "qT8AMWh0M0g0"
   },
   "source": [
    "Dependency:\n",
    "\n",
    "> * Pillow: pip install pillow\n",
    "> * pytesseract : pip install pytesseract\n",
    "> * tesseract-ocr : pip install tesseract-ocr\n",
    "\n",
    "So for this post, we will be taking this image for demonstration:\n",
    "Optical Character Recognition Using Pytesseract\n",
    "\n",
    "But before that, we will be in a need to install tesseract into our system."
   ]
  },
  {
   "cell_type": "code",
   "execution_count": null,
   "metadata": {},
   "outputs": [],
   "source": [
    "!python -m pip install pip --upgrade --user -q --no-warn-script-location\n",
    "!python -m pip install numpy pandas seaborn matplotlib scipy statsmodels sklearn nltk gensim tensorflow keras torch torchvision \\\n",
    "    tqdm scikit-image --user -q --no-warn-script-location"
   ]
  },
  {
   "cell_type": "code",
   "execution_count": null,
   "metadata": {
    "id": "86tiEt6-M0Ln"
   },
   "outputs": [],
   "source": [
    "!python -m pip install pytesseract pillow --user -q --no-warn-script-location"
   ]
  },
  {
   "cell_type": "code",
   "execution_count": null,
   "metadata": {},
   "outputs": [],
   "source": [
    "import IPython\n",
    "IPython.Application.instance().kernel.do_shutdown(True)"
   ]
  },
  {
   "cell_type": "code",
   "execution_count": 1,
   "metadata": {
    "id": "C2jTe1iDNOSS"
   },
   "outputs": [
    {
     "name": "stdout",
     "output_type": "stream",
     "text": [
      "--2021-10-28 17:21:05--  https://images.squarespace-cdn.com/content/v1/5ae63d7c8f51303ed37a8ab3/1525042536792-U1YX9JWEUILNSRMPB5VZ/ke17ZwdGBToddI8pDm48kKe7T4hJGWVgqWG21MiQY5sUqsxRUqqbr1mOJYKfIPR7LoDQ9mXPOjoJoqy81S2I8N_N4V1vUb5AoIIIbLZhVYy7Mythp_T-mtop-vrsUOmeInPi9iDjx9w8K4ZfjXt2dgVfBkjKjX4_82mPM4ga6-EtNOt7vzM0_CmswTw88mvVMW9u6oXQZQicHHG1WEE6fg/bloglovin_quote_oops2.jpg\n",
      "Resolving images.squarespace-cdn.com (images.squarespace-cdn.com)... 199.232.20.238\n",
      "Connecting to images.squarespace-cdn.com (images.squarespace-cdn.com)|199.232.20.238|:443... connected.\n",
      "HTTP request sent, awaiting response... 200 OK\n",
      "Length: 83893 (82K) [image/jpeg]\n",
      "Saving to: ‘bloglovin_quote_oops2.jpg’\n",
      "\n",
      "bloglovin_quote_oop 100%[===================>]  81.93K  --.-KB/s    in 0.02s   \n",
      "\n",
      "2021-10-28 17:21:06 (3.83 MB/s) - ‘bloglovin_quote_oops2.jpg’ saved [83893/83893]\n",
      "\n"
     ]
    }
   ],
   "source": [
    "# !wget https://images.squarespace-cdn.com/content/v1/5ae63d7c8f51303ed37a8ab3/1525042536792-U1YX9JWEUILNSRMPB5VZ/ke17ZwdGBToddI8pDm48kKe7T4hJGWVgqWG21MiQY5sUqsxRUqqbr1mOJYKfIPR7LoDQ9mXPOjoJoqy81S2I8N_N4V1vUb5AoIIIbLZhVYy7Mythp_T-mtop-vrsUOmeInPi9iDjx9w8K4ZfjXt2dgVfBkjKjX4_82mPM4ga6-EtNOt7vzM0_CmswTw88mvVMW9u6oXQZQicHHG1WEE6fg/bloglovin_quote_oops2.jpg"
   ]
  },
  {
   "cell_type": "code",
   "execution_count": null,
   "metadata": {
    "id": "JYL3CkzkKi92"
   },
   "outputs": [],
   "source": [
    "#dependency\n",
    "from PIL import Image\n",
    "import pytesseract\n",
    "#If you want the Tesseract engine to work you need to give it the path it needs.\n",
    "#set this and tesseract.exe is the application I was talking about earlier.\n",
    "path = 'bloglovin_quote_oops2.jpg' #image path\n",
    "img = Image.open(path) #opening the images\n",
    "text = pytesseract.image_to_string(img,lang='eng') #It supports many languages but as of now we want in english so, “eng”.\n",
    "print(text)"
   ]
  },
  {
   "cell_type": "markdown",
   "metadata": {
    "id": "1ZtPNx78qe5T"
   },
   "source": [
    "#**Related Articles:**\n",
    "\n",
    "> * [Beginners Guide to Pytesseract](https://analyticsindiamag.com/beginners-guide-to-optical-character-recognition-using-pytesseract/)\n",
    "\n",
    "> * [Image to Image Translation](https://analyticsindiamag.com/hisd-python-implementation-of-image-to-image-translation/)\n",
    "\n",
    "> * [Guide to Kornia](https://analyticsindiamag.com/guide-to-kornia-an-opencv-inspired-pytorch-framework/)\n",
    "\n",
    "> * [Extract Foreground Images with GrabCut Algorithm](https://analyticsindiamag.com/how-to-extract-foreground-from-images-interactively-using-grabcut/)\n",
    "\n",
    "> * [GAN in simple 8 Steps](https://analyticsindiamag.com/how-to-build-a-generative-adversarial-network-in-8-simple-steps/)\n",
    "\n",
    "> * [PyTorch vs Keras vs Caffe](https://analyticsindiamag.com/keras-vs-pytorch-vs-caffe-comparing-the-implementation-of-cnn/)\n",
    "\n",
    "> * [Face Emotion Recognizer](https://analyticsindiamag.com/face-emotion-recognizer-in-6-lines-of-code/)\n",
    "\n",
    "\n"
   ]
  }
 ],
 "metadata": {
  "colab": {
   "authorship_tag": "ABX9TyNb3Lf7ve0aWD4m11W7sTBW",
   "collapsed_sections": [],
   "name": "Pytesseract.ipynb",
   "provenance": []
  },
  "interpreter": {
   "hash": "f60a20abaabf5a658075b37fac599269792a9493ddacd7c14d8505185d5625aa"
  },
  "kernelspec": {
   "display_name": "Python 3.8.8 64-bit ('base': conda)",
   "name": "python3"
  },
  "language_info": {
   "codemirror_mode": {
    "name": "ipython",
    "version": 3
   },
   "file_extension": ".py",
   "mimetype": "text/x-python",
   "name": "python",
   "nbconvert_exporter": "python",
   "pygments_lexer": "ipython3",
   "version": "3.8.8"
  }
 },
 "nbformat": 4,
 "nbformat_minor": 2
}
