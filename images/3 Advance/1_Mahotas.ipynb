{
 "cells": [
  {
   "cell_type": "markdown",
   "metadata": {
    "id": "iZ3ihE91UTiJ"
   },
   "source": [
    "# **Mahotas Python Library for Image Processing**"
   ]
  },
  {
   "cell_type": "markdown",
   "metadata": {
    "id": "E-bzCMO6Uqts"
   },
   "source": [
    "Processing an image in order to derive some meaningful information from the image is known as image processing. It can be called a scientific study where we apply different methods or functions on images to find out what are its different features. We can enhance the image or degrade the image in order to extract unique features."
   ]
  },
  {
   "cell_type": "markdown",
   "metadata": {
    "id": "vhDxlDdBUsv5"
   },
   "source": [
    "Mahotas is a computer vision and image processing library for python. It is implemented using C++ so it is fast and it operates over NumPy arrays. Currently, it has around 100 functions for computer vision and image processing.and is ever-growing. \n",
    "\n",
    "In this session, we will explore what are the different functions and methods that are there in Mahotas which can be used for image processing."
   ]
  },
  {
   "cell_type": "markdown",
   "metadata": {
    "id": "gVHWWtEwUvU1"
   },
   "source": [
    "## **Implementation:**"
   ]
  },
  {
   "cell_type": "markdown",
   "metadata": {
    "id": "TqRrf-Y7Uxvs"
   },
   "source": [
    "Like any other python library, we can install mahotas using pip install mahotas."
   ]
  },
  {
   "cell_type": "code",
   "execution_count": null,
   "metadata": {},
   "outputs": [],
   "source": [
    "!python -m pip install pip --upgrade --user -q --no-warn-script-location\n",
    "!python -m pip install numpy pandas seaborn matplotlib scipy statsmodels sklearn nltk gensim tensorflow keras torch torchvision \\\n",
    "    tqdm scikit-image pixellib pillow mahotas --user -q --no-warn-script-location\n",
    "\n",
    "import IPython\n",
    "IPython.Application.instance().kernel.do_shutdown(True)\n"
   ]
  },
  {
   "cell_type": "markdown",
   "metadata": {
    "id": "2Wk08idNU27u"
   },
   "source": [
    "### Importing required libraries"
   ]
  },
  {
   "cell_type": "markdown",
   "metadata": {
    "id": "8OJ1oP1wU5w1"
   },
   "source": [
    "We will import all the functionalities of mahotas and other than that we will import pylab for image display functions."
   ]
  },
  {
   "cell_type": "code",
   "execution_count": null,
   "metadata": {
    "id": "TMU_IliQU7n1"
   },
   "outputs": [],
   "source": [
    "from mahotas import *\n",
    "from pylab import imshow, show\n",
    "import mahotas"
   ]
  },
  {
   "cell_type": "markdown",
   "metadata": {
    "id": "iF4ICs1-U9oR"
   },
   "source": [
    "### Loading the image"
   ]
  },
  {
   "cell_type": "markdown",
   "metadata": {
    "id": "FPbcVQn8VA-V"
   },
   "source": [
    "We can use any image for image processing. I am using a bird image that I downloaded from google. We will use mahotas to load the image. "
   ]
  },
  {
   "cell_type": "code",
   "execution_count": null,
   "metadata": {
    "id": "USf_yRHeVHGJ"
   },
   "outputs": [],
   "source": [
    "# !wget https://cdn.pixabay.com/photo/2017/05/08/13/15/bird-2295431__480.jpg"
   ]
  },
  {
   "cell_type": "code",
   "execution_count": null,
   "metadata": {
    "id": "sBZ4kvv2VJvC"
   },
   "outputs": [],
   "source": [
    "img = mahotas.imread('bird-2295431__480.jpg')\n",
    "imshow(img)\n",
    "show()"
   ]
  },
  {
   "cell_type": "markdown",
   "metadata": {
    "id": "Kbwv0cmfVUv4"
   },
   "source": [
    "### Performing Different Operations"
   ]
  },
  {
   "cell_type": "markdown",
   "metadata": {
    "id": "daJBrG0MVX1S"
   },
   "source": [
    "Now we will perform different operations using mahotas and find out the important features and information about the image we are using.\n",
    "\n",
    "1. Finding Mean"
   ]
  },
  {
   "cell_type": "markdown",
   "metadata": {
    "id": "Ho-cNu4AXUfM"
   },
   "source": [
    "The mean of an image is calculated by finding calculating the sum of the pixel values and divide it with the total number of pixel values. It is a statistical measure that can be used for spatial filtering and noise reduction in image processing. Mahotas can calculate the mean of an image but one channel data time, as our image is colored we will reduce it to one channel and find the mean of that channel."
   ]
  },
  {
   "cell_type": "code",
   "execution_count": null,
   "metadata": {
    "id": "2_c8T0KXXWZT"
   },
   "outputs": [],
   "source": [
    "img1 = img[:, :, 2]   \n",
    "mean = img1.mean() \n",
    "print(\"Mean Value \", mean) \n",
    "imshow(img1)\n",
    "show()"
   ]
  },
  {
   "cell_type": "markdown",
   "metadata": {
    "id": "AisscgAxXZTN"
   },
   "source": [
    "2.  Crop Image"
   ]
  },
  {
   "cell_type": "markdown",
   "metadata": {
    "id": "RxuVsjI3XcO0"
   },
   "source": [
    "Here we will use the crop function in order to crop the image."
   ]
  },
  {
   "cell_type": "code",
   "execution_count": null,
   "metadata": {
    "id": "bVBaJT8xXeQF"
   },
   "outputs": [],
   "source": [
    "img2 = img[:, 200:1200]  \n",
    "imshow(img2) \n",
    "show() "
   ]
  },
  {
   "cell_type": "markdown",
   "metadata": {
    "id": "JIv5BzHdX8-5"
   },
   "source": [
    "3. Finding Eccentricity and Roundness"
   ]
  },
  {
   "cell_type": "markdown",
   "metadata": {
    "id": "aDDYQXk0YAN6"
   },
   "source": [
    "The eccentricity of an image measures the shortest length of the paths from a given vertex v to reach any other vertex w of a connected graph. While roundness measures how closely the shape of an object approaches that of a mathematically perfect circle. Roundness is dominated by the shape’s gross features rather than the definition of its edges and corners. We will filter the image to find both the values for one channel. "
   ]
  },
  {
   "cell_type": "code",
   "execution_count": null,
   "metadata": {
    "id": "WGbGshW0YB4x"
   },
   "outputs": [],
   "source": [
    "img = img[:, :, 1] \n",
    "ecc = mahotas.features.eccentricity(img) \n",
    "rnds = mahotas.features.roundness(img)\n",
    "print(\"Eccentricity =\", ecc ) \n",
    "print(\"Roundness = \", rnds)"
   ]
  },
  {
   "cell_type": "markdown",
   "metadata": {
    "id": "XzMEbVHeYFdR"
   },
   "source": [
    "4. Dilating and Eroding Image"
   ]
  },
  {
   "cell_type": "markdown",
   "metadata": {
    "id": "Wg-_tpacYLKL"
   },
   "source": [
    "Dilation adds pixels to the boundaries of objects in an image, while erosion removes pixels on object boundaries. We will implement both dilation and erosion to our image."
   ]
  },
  {
   "cell_type": "code",
   "execution_count": null,
   "metadata": {
    "id": "f0jLt8weYJx8"
   },
   "outputs": [],
   "source": [
    "#Dilate\n",
    "dilt = mahotas.morph.dilate(img)\n",
    "imshow(dilt) \n",
    "show()"
   ]
  },
  {
   "cell_type": "code",
   "execution_count": null,
   "metadata": {
    "id": "2jUX89x0YOvC"
   },
   "outputs": [],
   "source": [
    "#Erosion\n",
    "erd = mahotas.morph.erode(img)\n",
    "imshow(erd) \n",
    "show()"
   ]
  },
  {
   "cell_type": "markdown",
   "metadata": {
    "id": "YgJ0KxGtYRnA"
   },
   "source": [
    "5.  Maxima of Image"
   ]
  },
  {
   "cell_type": "code",
   "execution_count": null,
   "metadata": {
    "id": "wFBuhQNcZnms"
   },
   "outputs": [],
   "source": [
    "img = mahotas.imread('bird-2295431__480.jpg')\n",
    "# filtering image\n",
    "img2 = img.max(2) \n",
    "print(\"Image\")\n",
    "   \n",
    "# showing image\n",
    "imshow(img2)\n",
    "show()"
   ]
  },
  {
   "cell_type": "code",
   "execution_count": null,
   "metadata": {
    "id": "u8WsDCNIYcDM"
   },
   "outputs": [],
   "source": [
    "#Regional Maxima\n",
    "rmaxim = mahotas.regmax(img2)\n",
    "imshow(rmaxim)\n",
    "show()"
   ]
  },
  {
   "cell_type": "markdown",
   "metadata": {
    "id": "jRFr0EkoaTY7"
   },
   "source": [
    "6. Overlay of Image\n"
   ]
  },
  {
   "cell_type": "markdown",
   "metadata": {
    "id": "RRLIeY5naY8H"
   },
   "source": [
    "Overlay image creates the greyscale of the given image but with possible boolean overlays.  We will do it for 1 channel."
   ]
  },
  {
   "cell_type": "code",
   "execution_count": null,
   "metadata": {
    "id": "wiP-1Wj2aaTF"
   },
   "outputs": [],
   "source": [
    "img = img[:, :, 0]  \n",
    "ol = mahotas.overlay(img) \n",
    "imshow(ol) \n",
    "show()"
   ]
  },
  {
   "cell_type": "markdown",
   "metadata": {
    "id": "QZIth9HNaeKR"
   },
   "source": [
    "7. Histogram of Image\n",
    "\n",
    "A histogram of an image acts as a graphical representation of the tonal distribution in an image and plots the number of pixels for each tonal value. We need to import matplotlib for visualizing the histogram."
   ]
  },
  {
   "cell_type": "code",
   "execution_count": null,
   "metadata": {
    "id": "X94APM5JahAO"
   },
   "outputs": [],
   "source": [
    "import matplotlib.pyplot as plt \n",
    "img_hist = mahotas.fullhistogram(img) \n",
    "plt.hist(img_hist)"
   ]
  },
  {
   "cell_type": "markdown",
   "metadata": {
    "id": "1ZtPNx78qe5T"
   },
   "source": [
    "#**Related Articles:**\n",
    "\n",
    "> * [Guide to Mahotas](https://analyticsindiamag.com/complete-guide-to-mahotas-python-library-for-image-processing/)\n",
    "\n",
    "> * [Backgroung Tuning with Pixellib](https://analyticsindiamag.com/background-tuning-of-images-with-deeplab-v3-using-pixellib/)\n",
    "\n",
    "> * [Beginners Guide to Pytesseract](https://analyticsindiamag.com/beginners-guide-to-optical-character-recognition-using-pytesseract/)\n",
    "\n",
    "> * [Image to Image Translation](https://analyticsindiamag.com/hisd-python-implementation-of-image-to-image-translation/)\n",
    "\n",
    "> * [Guide to Kornia](https://analyticsindiamag.com/guide-to-kornia-an-opencv-inspired-pytorch-framework/)\n",
    "\n",
    "> * [Extract Foreground Images with GrabCut Algorithm](https://analyticsindiamag.com/how-to-extract-foreground-from-images-interactively-using-grabcut/)"
   ]
  }
 ],
 "metadata": {
  "colab": {
   "authorship_tag": "ABX9TyNQ0TX5W1YjEy/+p9F3d84c",
   "collapsed_sections": [],
   "name": "1_Mahotas.ipynb",
   "provenance": []
  },
  "interpreter": {
   "hash": "f60a20abaabf5a658075b37fac599269792a9493ddacd7c14d8505185d5625aa"
  },
  "kernelspec": {
   "display_name": "Python 3.8.8 64-bit ('base': conda)",
   "name": "python3"
  },
  "language_info": {
   "codemirror_mode": {
    "name": "ipython",
    "version": 3
   },
   "file_extension": ".py",
   "mimetype": "text/x-python",
   "name": "python",
   "nbconvert_exporter": "python",
   "pygments_lexer": "ipython3",
   "version": "3.8.8"
  }
 },
 "nbformat": 4,
 "nbformat_minor": 2
}
