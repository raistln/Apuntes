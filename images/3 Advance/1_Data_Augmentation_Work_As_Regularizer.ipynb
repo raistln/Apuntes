{
 "cells": [
  {
   "cell_type": "markdown",
   "metadata": {
    "id": "4XAU3IsXogq-"
   },
   "source": [
    "# **Image Data Augmentation Work As A Regularizer in Deep Learning**"
   ]
  },
  {
   "cell_type": "markdown",
   "metadata": {
    "id": "Hw3zf_kvomLz"
   },
   "source": [
    "The problem with deep learning models is they need lots of data to train a model. There are two major problems while training deep learning models is overfitting and underfitting of the model. Those problems are solved by data augmentation is a regularization technique that makes slight modifications to the images and used to generate data."
   ]
  },
  {
   "cell_type": "markdown",
   "metadata": {
    "id": "6AAWBfQHopjj"
   },
   "source": [
    "In this practice session, we will demonstrate why data augmentation is known as a regularization technique. How to apply data augmentation to our model and whether it is used as a preprocessing technique or post-processing techniques…? All these questions are answered in the below demonstration.  "
   ]
  },
  {
   "cell_type": "markdown",
   "metadata": {
    "id": "VbQxQiB_ou9_"
   },
   "source": [
    "To read about it more, please refer [this](https://analyticsindiamag.com/why-does-image-data-augmentation-work-as-a-regularizer-in-deep-learning/)."
   ]
  },
  {
   "cell_type": "markdown",
   "metadata": {
    "id": "C0vcsWbWotbY"
   },
   "source": [
    "## **Implementing Data augmentation techniques using OpenCV**"
   ]
  },
  {
   "cell_type": "markdown",
   "metadata": {
    "id": "Nf-MGKWAo1XH"
   },
   "source": [
    "**Flipping the image**"
   ]
  },
  {
   "cell_type": "code",
   "execution_count": null,
   "metadata": {},
   "outputs": [],
   "source": [
    "!python -m pip install pip --upgrade --user -q --no-warn-script-location\n",
    "!python -m pip install numpy pandas seaborn matplotlib scipy statsmodels sklearn nltk gensim tensorflow keras \\\n",
    "    tqdm scikit-image pillow --user -q --no-warn-script-location\n",
    "\n",
    "import IPython\n",
    "IPython.Application.instance().kernel.do_shutdown(True)\n"
   ]
  },
  {
   "cell_type": "code",
   "execution_count": null,
   "metadata": {
    "id": "Wl90Jx5ypDJH"
   },
   "outputs": [],
   "source": [
    "# !wget https://image.shutterstock.com/image-photo/beautiful-multi-colored-gouldian-finch-260nw-760749433.jpg"
   ]
  },
  {
   "cell_type": "markdown",
   "metadata": {
    "id": "DU9iVa9Mo2zt"
   },
   "source": [
    "In the below code snippet we are going to flip the image."
   ]
  },
  {
   "cell_type": "code",
   "execution_count": null,
   "metadata": {
    "id": "csB1p3cio6Yo"
   },
   "outputs": [],
   "source": [
    "import cv2\n",
    "import matplotlib.pyplot as plt \n",
    "img = cv2.imread('beautiful-multi-colored-gouldian-finch-260nw-760749433.jpg')\n",
    "plt.imshow(img)\n",
    "plt.show()\n",
    "print(type(img))\n",
    "print(img.shape)\n",
    "img_flip_ud = cv2.flip(img, 0)\n",
    "plt.imshow(img_flip_ud)\n",
    "plt.show()\n",
    "img_flip_lr = cv2.flip(img, 1)\n",
    "plt.imshow(img_flip_lr)\n",
    "plt.show\n",
    "img_flip_ud_lr = cv2.flip(img, -1)\n",
    "plt.imshow(img_flip_ud_lr)\n",
    "plt.show"
   ]
  },
  {
   "cell_type": "markdown",
   "metadata": {
    "id": "RDw4LsvXpbV-"
   },
   "source": [
    "As you can see in the above output we flipped the image from 1 image we generated 4 images."
   ]
  },
  {
   "cell_type": "markdown",
   "metadata": {
    "id": "ZztNXyxipdmG"
   },
   "source": [
    "**Resize an image**\n",
    "\n",
    "In the below code snippet we are going to rotate the image."
   ]
  },
  {
   "cell_type": "code",
   "execution_count": null,
   "metadata": {
    "id": "91IYBE_kphPd"
   },
   "outputs": [],
   "source": [
    "image=cv2.imread('beautiful-multi-colored-gouldian-finch-260nw-760749433.jpg')\n",
    "plt.imshow(image)\n",
    "plt.show()\n",
    "print(image.shape)\n",
    "h1=300\n",
    "w1=300\n",
    "dimension = (w1, h1) \n",
    "resized_image = cv2.resize(image, dimension, interpolation = cv2.INTER_AREA)\n",
    "plt.imshow(resized_image)\n",
    "plt.show()"
   ]
  },
  {
   "cell_type": "markdown",
   "metadata": {
    "id": "Sha2FtiTprwJ"
   },
   "source": [
    "**Cropping an Image**\n",
    "\n",
    "In the below code snippet we are going to crop the image."
   ]
  },
  {
   "cell_type": "code",
   "execution_count": null,
   "metadata": {
    "id": "8QQ52qVGpvlB"
   },
   "outputs": [],
   "source": [
    "image=cv2.imread('beautiful-multi-colored-gouldian-finch-260nw-760749433.jpg')\n",
    "plt.imshow(image)\n",
    "plt.show()\n",
    "cropped_image = image[25:250, 20:300]\n",
    "plt.imshow(cropped_image)\n",
    "plt.show()"
   ]
  },
  {
   "cell_type": "markdown",
   "metadata": {
    "id": "tEQCFF4lqJmv"
   },
   "source": [
    "## **Implementing Data augmentation techniques using Keras**\n",
    "\n",
    "In the below code snippet we are performing data augmentation techniques using Keras."
   ]
  },
  {
   "cell_type": "code",
   "execution_count": null,
   "metadata": {
    "id": "yIJcMRztqvpS"
   },
   "outputs": [],
   "source": [
    "!mkdir data"
   ]
  },
  {
   "cell_type": "code",
   "execution_count": null,
   "metadata": {
    "id": "rVLoY9dsqNsB"
   },
   "outputs": [],
   "source": [
    "from keras.preprocessing.image import ImageDataGenerator \n",
    "from keras.preprocessing.image import array_to_img\n",
    "from keras.preprocessing.image import img_to_array\n",
    "from keras.preprocessing.image import load_img \n",
    "generated_data = ImageDataGenerator( \n",
    "        rotation_range = 40, \n",
    "        shear_range = 0.2, \n",
    "        zoom_range = 0.2, \n",
    "        horizontal_flip = True, \n",
    "        brightness_range = (0.5, 1.5)) \n",
    "img = load_img('beautiful-multi-colored-gouldian-finch-260nw-760749433.jpg')  \n",
    "x = img_to_array(img) \n",
    "x = x.reshape((1, ) + x.shape)  \n",
    "i = 0\n",
    "# for batch in generated_data.flow(x, batch_size = 1, \n",
    "#                           save_to_dir ='data/',  \n",
    "#                           save_prefix ='image', save_format ='jpeg'): \n",
    "#     i += 1\n",
    "#     if i > 5: \n",
    "#         break"
   ]
  },
  {
   "cell_type": "code",
   "execution_count": null,
   "metadata": {
    "id": "QiQfF8Jnqyl5"
   },
   "outputs": [],
   "source": [
    "dir = \"data/\"\n",
    "import os\n",
    "arr = os.listdir(dir)\n",
    "print(arr)"
   ]
  },
  {
   "cell_type": "code",
   "execution_count": null,
   "metadata": {
    "id": "f79K5i1Xq_LL"
   },
   "outputs": [],
   "source": [
    "for i in arr:\n",
    "  img = cv2.imread(\"data/\"+i)\n",
    "  plt.imshow(img)\n",
    "  plt.show()"
   ]
  },
  {
   "cell_type": "markdown",
   "metadata": {
    "id": "1ZtPNx78qe5T"
   },
   "source": [
    "#**Related Articles:**\n",
    "\n",
    "> * [Image Data Augmentation Work As A Regularizer](https://analyticsindiamag.com/why-does-image-data-augmentation-work-as-a-regularizer-in-deep-learning/)\n",
    "\n",
    "> * [Guide to Pillow](https://analyticsindiamag.com/hands-on-guide-to-pillow-python-library-for-image-processing/)\n",
    "\n",
    "> * [Guide to Pgmagick](https://analyticsindiamag.com/complete-guide-on-pgmagick-python-tool-for-image-processing/)\n",
    "\n",
    "> * [Guide to Mahotas](https://analyticsindiamag.com/complete-guide-to-mahotas-python-library-for-image-processing/)\n",
    "\n",
    "> * [Backgroung Tuning with Pixellib](https://analyticsindiamag.com/background-tuning-of-images-with-deeplab-v3-using-pixellib/)\n",
    "\n",
    "> * [Beginners Guide to Pytesseract](https://analyticsindiamag.com/beginners-guide-to-optical-character-recognition-using-pytesseract/)\n",
    "\n",
    "> * [Image to Image Translation](https://analyticsindiamag.com/hisd-python-implementation-of-image-to-image-translation/)\n"
   ]
  }
 ],
 "metadata": {
  "colab": {
   "authorship_tag": "ABX9TyNOnEv3XUdSbS0w19/PkLNb",
   "collapsed_sections": [],
   "name": "1_Data_Augmentation_Work_As_Regularizer.ipynb",
   "provenance": [],
   "toc_visible": true
  },
  "interpreter": {
   "hash": "f60a20abaabf5a658075b37fac599269792a9493ddacd7c14d8505185d5625aa"
  },
  "kernelspec": {
   "display_name": "Python 3.8.8 64-bit ('base': conda)",
   "name": "python3"
  },
  "language_info": {
   "codemirror_mode": {
    "name": "ipython",
    "version": 3
   },
   "file_extension": ".py",
   "mimetype": "text/x-python",
   "name": "python",
   "nbconvert_exporter": "python",
   "pygments_lexer": "ipython3",
   "version": "3.8.8"
  }
 },
 "nbformat": 4,
 "nbformat_minor": 2
}
