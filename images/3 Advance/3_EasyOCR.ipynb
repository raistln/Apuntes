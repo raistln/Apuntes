{
 "cells": [
  {
   "cell_type": "markdown",
   "metadata": {
    "id": "m0yYaueayQAg"
   },
   "source": [
    "# EasyOCR"
   ]
  },
  {
   "cell_type": "markdown",
   "metadata": {
    "id": "x0zUko-lySBH"
   },
   "source": [
    "EasyOCR is a python package that allows the image to be converted to text. It is by far the easiest way to implement OCR and has access to over 70+ languages including English, Chinese, Japanese, Korean, Hindi, many more are being added. EasyOCR is created by the Jaided AI company.\n",
    "\n",
    "In this practice session, we will be discussing how to implement OCR using EasyOCR. Let’s start by discussing EasyOCR and installing it for our use."
   ]
  },
  {
   "cell_type": "markdown",
   "metadata": {
    "id": "hc0U_EPxZeK8"
   },
   "source": [
    "To read about it more, please refer [this](https://analyticsindiamag.com/hands-on-tutorial-on-easyocr-for-scene-text-detection-in-images/) article."
   ]
  },
  {
   "cell_type": "markdown",
   "metadata": {
    "id": "51XB4iaAyU1G"
   },
   "source": [
    "# Code Implementation"
   ]
  },
  {
   "cell_type": "markdown",
   "metadata": {
    "id": "PJXKFmMuyYhi"
   },
   "source": [
    "Installing with pip "
   ]
  },
  {
   "cell_type": "code",
   "execution_count": null,
   "metadata": {},
   "outputs": [],
   "source": [
    "!python -m pip install pip --upgrade --user -q --no-warn-script-location\n",
    "!python -m pip install numpy pandas seaborn matplotlib scipy statsmodels sklearn nltk gensim tensorflow keras torch torchvision \\\n",
    "    tqdm scikit-image pillow --user -q --no-warn-script-location"
   ]
  },
  {
   "cell_type": "code",
   "execution_count": null,
   "metadata": {
    "id": "FyVuZ5v0yMrW"
   },
   "outputs": [],
   "source": [
    "!python -m pip install easyocr --user -q"
   ]
  },
  {
   "cell_type": "code",
   "execution_count": null,
   "metadata": {},
   "outputs": [],
   "source": [
    "import IPython\n",
    "IPython.Application.instance().kernel.do_shutdown(True)\n"
   ]
  },
  {
   "cell_type": "markdown",
   "metadata": {
    "id": "nOeg06I5yb7Q"
   },
   "source": [
    "### Text Detection in Images with EasyOCR\n",
    "\n",
    "EasyOCR can process multiple languages at the same time provided they are compatible with each other.\n",
    "\n",
    "The Reader class is the base class for EasyOCR which contains a list of language codes and other parameters such as GPU that is by default set to True. This needs to run only once to load the necessary models. Model weights are automatically downloaded or can be manually downloaded as well.\n",
    "\n",
    "Then comes the readtext method which is the main method for Reader class.\n",
    "\n",
    "Let’s read text from the below image:"
   ]
  },
  {
   "cell_type": "code",
   "execution_count": 1,
   "metadata": {
    "id": "BLlf81c7yrq1"
   },
   "outputs": [
    {
     "name": "stdout",
     "output_type": "stream",
     "text": [
      "--2021-10-28 17:39:49--  https://mma.prnewswire.com/media/690836/Analytics_India_Magazine_Logo.jpg\n",
      "Resolving mma.prnewswire.com (mma.prnewswire.com)... 104.18.27.208, 104.18.26.208, 2606:4700::6812:1ad0, ...\n",
      "Connecting to mma.prnewswire.com (mma.prnewswire.com)|104.18.27.208|:443... connected.\n",
      "HTTP request sent, awaiting response... 200 OK\n",
      "Length: 11608 (11K) [image/jpeg]\n",
      "Saving to: ‘Analytics_India_Magazine_Logo.jpg’\n",
      "\n",
      "Analytics_India_Mag 100%[===================>]  11.34K  --.-KB/s    in 0.003s  \n",
      "\n",
      "2021-10-28 17:39:51 (3.91 MB/s) - ‘Analytics_India_Magazine_Logo.jpg’ saved [11608/11608]\n",
      "\n"
     ]
    }
   ],
   "source": [
    "# !wget https://mma.prnewswire.com/media/690836/Analytics_India_Magazine_Logo.jpg"
   ]
  },
  {
   "cell_type": "code",
   "execution_count": null,
   "metadata": {
    "id": "uoBm8WF8yaH7"
   },
   "outputs": [],
   "source": [
    "import easyocr\n",
    "reader = easyocr.Reader(['en']) \n",
    "result = reader.readtext('Analytics_India_Magazine_Logo.jpg')\n",
    "print(result)"
   ]
  },
  {
   "cell_type": "markdown",
   "metadata": {
    "id": "9Cw3L1xryn0F"
   },
   "source": [
    "The output shows 4 bounding box coordinates(x,y) of the text along with the identified text and confidence score.\n",
    "\n",
    "This kind of output could be difficult for non-developers to read hence we can pass the detail parameter as 0 for simpler output."
   ]
  },
  {
   "cell_type": "code",
   "execution_count": null,
   "metadata": {
    "id": "TH6CihaFylAv"
   },
   "outputs": [],
   "source": [
    "result = reader.readtext('Analytics_India_Magazine_Logo.jpg', detail = 0)"
   ]
  },
  {
   "cell_type": "code",
   "execution_count": null,
   "metadata": {
    "id": "mK54uQkWyvVf"
   },
   "outputs": [],
   "source": [
    "result"
   ]
  },
  {
   "cell_type": "markdown",
   "metadata": {
    "id": "7X9fRGrPyylu"
   },
   "source": [
    "Images can be directly read from URLs also:\n",
    "\n"
   ]
  },
  {
   "cell_type": "code",
   "execution_count": null,
   "metadata": {
    "id": "pKdZnt9gyyA7"
   },
   "outputs": [],
   "source": [
    "res = reader.readtext('https://mma.prnewswire.com/media/690836/Analytics_India_Magazine_Logo.jpg')"
   ]
  },
  {
   "cell_type": "code",
   "execution_count": null,
   "metadata": {
    "id": "akGarVCdy0HZ"
   },
   "outputs": [],
   "source": [
    "res"
   ]
  },
  {
   "cell_type": "markdown",
   "metadata": {
    "id": "IOzR8EuezH4p"
   },
   "source": [
    "Finding out the bounding boxes in the image"
   ]
  },
  {
   "cell_type": "code",
   "execution_count": null,
   "metadata": {
    "id": "YYFwMHSKzGb5"
   },
   "outputs": [],
   "source": [
    "import cv2\n",
    "import matplotlib.pyplot as plt\n",
    "image = cv2.imread('Analytics_India_Magazine_Logo.jpg')\n",
    "res = reader.readtext('Analytics_India_Magazine_Logo.jpg') \n",
    "for (bbox, text, prob) in res: \n",
    "  # unpack the bounding box\n",
    "  (tl, tr, br, bl) = bbox\n",
    "  tl = (int(tl[0]), int(tl[1]))\n",
    "  tr = (int(tr[0]), int(tr[1]))\n",
    "  br = (int(br[0]), int(br[1]))\n",
    "  bl = (int(bl[0]), int(bl[1]))\n",
    "  cv2.rectangle(image, tl, br, (0, 255, 0), 2)\n",
    "  cv2.putText(image, text, (tl[0], tl[1] - 10),\n",
    "    cv2.FONT_HERSHEY_SIMPLEX, 0.8, (255, 0, 0), 2)\n",
    "plt.rcParams['figure.figsize'] = (16,16)\n",
    "plt.imshow(image)"
   ]
  },
  {
   "cell_type": "markdown",
   "metadata": {
    "id": "raJj86O-zOBL"
   },
   "source": [
    "Now let’s try with other languages"
   ]
  },
  {
   "cell_type": "code",
   "execution_count": null,
   "metadata": {
    "id": "Uau9lH4ZzMcq"
   },
   "outputs": [],
   "source": [
    "reader = easyocr.Reader(['en','ja'], gpu = False) \n",
    "res = reader.readtext('https://pm1.narvii.com/6225/559e32c1b8642f0677105e5ed6a71cdbe214137e_hq.jpg',detail =0,paragraph=True)\n",
    "print(res)"
   ]
  }
 ],
 "metadata": {
  "colab": {
   "authorship_tag": "ABX9TyMRJc7SVwlMOpJY7o5G3Rm4",
   "collapsed_sections": [],
   "name": "3_EasyOCR.ipynb",
   "provenance": []
  },
  "interpreter": {
   "hash": "f60a20abaabf5a658075b37fac599269792a9493ddacd7c14d8505185d5625aa"
  },
  "kernelspec": {
   "display_name": "Python 3.8.8 64-bit ('base': conda)",
   "name": "python3"
  },
  "language_info": {
   "codemirror_mode": {
    "name": "ipython",
    "version": 3
   },
   "file_extension": ".py",
   "mimetype": "text/x-python",
   "name": "python",
   "nbconvert_exporter": "python",
   "pygments_lexer": "ipython3",
   "version": "3.8.8"
  }
 },
 "nbformat": 4,
 "nbformat_minor": 2
}
