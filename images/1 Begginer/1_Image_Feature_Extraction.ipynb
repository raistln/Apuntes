{
 "cells": [
  {
   "cell_type": "markdown",
   "metadata": {
    "id": "4zwv3hb_6LBq"
   },
   "source": [
    "## **Image Feature Extraction with Skimage**"
   ]
  },
  {
   "cell_type": "markdown",
   "metadata": {
    "id": "lZRCt21R6FRz"
   },
   "source": [
    "Scikit-Image is an open-source image processing library for Python. It includes algorithms for segmentation, geometric transformations, color space manipulation, analysis, filtering, morphology, feature detection, and more. We will use scikit-image for feature extraction.\n",
    "\n",
    "In this practice session we will discuss:\n",
    "\n",
    "> * Loading and Visualizing an Image\n",
    "> * Analyze image properties\n",
    "> * Image Feature Extraction using Scikit-Image\n",
    "\n",
    "We will start by analyzing the image and then basic feature extraction using python followed by feature extraction using Scikit-Image. We can use any local image we have on our system, I will use an image saved on my system for which I will try and extract features.  "
   ]
  },
  {
   "cell_type": "markdown",
   "metadata": {
    "id": "6W7kmNf76R6T"
   },
   "source": [
    "## **a. Importing the required libraries**"
   ]
  },
  {
   "cell_type": "markdown",
   "metadata": {
    "id": "akbdrlrl6VNM"
   },
   "source": [
    "We will look at all the aspects of the image so we need to import different libraries including NumPy, pandas, etc."
   ]
  },
  {
   "cell_type": "code",
   "execution_count": null,
   "metadata": {},
   "outputs": [],
   "source": [
    "!python -m pip install pip --upgrade --user -q --no-warn-script-location\n",
    "!python -m pip install numpy pandas seaborn matplotlib scipy statsmodels sklearn nltk gensim  opencv-python pillow scikit-image --user -q --no-warn-script-location\n",
    "\n",
    "import IPython\n",
    "IPython.Application.instance().kernel.do_shutdown(True)\n"
   ]
  },
  {
   "cell_type": "code",
   "execution_count": null,
   "metadata": {
    "executionInfo": {
     "elapsed": 751,
     "status": "ok",
     "timestamp": 1622523095079,
     "user": {
      "displayName": "Aishwarya Verma",
      "photoUrl": "https://lh3.googleusercontent.com/a-/AOh14GiG6BREocxcd5R6rzlQGApoCsYso7BQAh63eXNz6Q=s64",
      "userId": "06108390091304498033"
     },
     "user_tz": -330
    },
    "id": "8-ns_uf25omU"
   },
   "outputs": [],
   "source": [
    "import pandas as pd\n",
    "import numpy as np\n",
    "import matplotlib.pyplot as plt\n",
    "%matplotlib inline\n",
    "from skimage.io import imread, imshow"
   ]
  },
  {
   "cell_type": "markdown",
   "metadata": {
    "id": "hRG_OyL-6aHn"
   },
   "source": [
    "## **b. Loading the image**\n",
    "\n",
    "You can use any image from your system. I have an image of elephant for which I will be performing feature extraction."
   ]
  },
  {
   "cell_type": "code",
   "execution_count": null,
   "metadata": {
    "colab": {
     "base_uri": "https://localhost:8080/"
    },
    "executionInfo": {
     "elapsed": 13,
     "status": "ok",
     "timestamp": 1622523247657,
     "user": {
      "displayName": "Aishwarya Verma",
      "photoUrl": "https://lh3.googleusercontent.com/a-/AOh14GiG6BREocxcd5R6rzlQGApoCsYso7BQAh63eXNz6Q=s64",
      "userId": "06108390091304498033"
     },
     "user_tz": -330
    },
    "id": "hzt3Sk1a6x5F",
    "outputId": "74340430-9ce0-4bda-ee09-03e7a3b10c9c"
   },
   "outputs": [],
   "source": [
    "# !wget https://economictimes.indiatimes.com/thumb/msid-78645587,width-1200,height-900,resizemode-4,imgsize-940905/1.jpg"
   ]
  },
  {
   "cell_type": "code",
   "execution_count": null,
   "metadata": {
    "colab": {
     "base_uri": "https://localhost:8080/",
     "height": 297
    },
    "executionInfo": {
     "elapsed": 2929,
     "status": "ok",
     "timestamp": 1622523266193,
     "user": {
      "displayName": "Aishwarya Verma",
      "photoUrl": "https://lh3.googleusercontent.com/a-/AOh14GiG6BREocxcd5R6rzlQGApoCsYso7BQAh63eXNz6Q=s64",
      "userId": "06108390091304498033"
     },
     "user_tz": -330
    },
    "id": "xmhje_8M7Bz7",
    "outputId": "eb965bee-dad5-4529-a9c0-8c2ff6e5677b"
   },
   "outputs": [],
   "source": [
    "image1 = imread('1.jpg')\n",
    "imshow(image1);"
   ]
  },
  {
   "cell_type": "code",
   "execution_count": null,
   "metadata": {
    "colab": {
     "base_uri": "https://localhost:8080/",
     "height": 297
    },
    "executionInfo": {
     "elapsed": 2777,
     "status": "ok",
     "timestamp": 1622523282588,
     "user": {
      "displayName": "Aishwarya Verma",
      "photoUrl": "https://lh3.googleusercontent.com/a-/AOh14GiG6BREocxcd5R6rzlQGApoCsYso7BQAh63eXNz6Q=s64",
      "userId": "06108390091304498033"
     },
     "user_tz": -330
    },
    "id": "KsyEEKys7GS0",
    "outputId": "0e4118c9-881d-49d6-8e60-144e174d95da"
   },
   "outputs": [],
   "source": [
    "\n",
    "image2 = imread('1.jpg', as_gray=True)\n",
    "imshow(image2);"
   ]
  },
  {
   "cell_type": "markdown",
   "metadata": {
    "id": "TEfrUGAU7Ix3"
   },
   "source": [
    "## **c. Analyzing both the images**"
   ]
  },
  {
   "cell_type": "code",
   "execution_count": null,
   "metadata": {
    "colab": {
     "base_uri": "https://localhost:8080/"
    },
    "executionInfo": {
     "elapsed": 1845,
     "status": "ok",
     "timestamp": 1622523300373,
     "user": {
      "displayName": "Aishwarya Verma",
      "photoUrl": "https://lh3.googleusercontent.com/a-/AOh14GiG6BREocxcd5R6rzlQGApoCsYso7BQAh63eXNz6Q=s64",
      "userId": "06108390091304498033"
     },
     "user_tz": -330
    },
    "id": "agAN_K_i7LZa",
    "outputId": "86440bf5-1535-4109-85df-2b88baa5fa29"
   },
   "outputs": [],
   "source": [
    "#Shape of images\n",
    "print(image1.shape)\n",
    "print(image2.shape)"
   ]
  },
  {
   "cell_type": "markdown",
   "metadata": {
    "id": "AeZJh17P7OHc"
   },
   "source": [
    "Here we can see that the colored image contains rows, columns, and channels as it is a colored image there are three channels RGB while grayscale pictures have only one channel. So we can clearly identify the colored and grayscale images by their shapes.\n",
    "\n",
    "Let’s look at the size of the images."
   ]
  },
  {
   "cell_type": "code",
   "execution_count": null,
   "metadata": {
    "colab": {
     "base_uri": "https://localhost:8080/"
    },
    "executionInfo": {
     "elapsed": 341,
     "status": "ok",
     "timestamp": 1622523318075,
     "user": {
      "displayName": "Aishwarya Verma",
      "photoUrl": "https://lh3.googleusercontent.com/a-/AOh14GiG6BREocxcd5R6rzlQGApoCsYso7BQAh63eXNz6Q=s64",
      "userId": "06108390091304498033"
     },
     "user_tz": -330
    },
    "id": "cjn2DZDr7Owp",
    "outputId": "d683f554-472f-4040-a33a-e2bf93fc0a76"
   },
   "outputs": [],
   "source": [
    "print(image1.size)\n",
    "print(image2.size)"
   ]
  },
  {
   "cell_type": "markdown",
   "metadata": {
    "id": "L65TCa3j7SFx"
   },
   "source": [
    "Image size is the product of the rows, columns, and channels. Despite being the same images grayscale is smaller in size because it has only 1 channel. "
   ]
  },
  {
   "cell_type": "markdown",
   "metadata": {
    "id": "HPs4V-dm7UYo"
   },
   "source": [
    "## **d. Feature Extraction**"
   ]
  },
  {
   "cell_type": "markdown",
   "metadata": {
    "id": "VmEWusPe7W_A"
   },
   "source": [
    "### **i. Pixel Features**\n",
    "\n",
    "The number of pixels in an image is the same as the size of the image for grayscale images we can find the pixel features by reshaping the shape of the image and returning the array form of the image."
   ]
  },
  {
   "cell_type": "code",
   "execution_count": null,
   "metadata": {
    "colab": {
     "base_uri": "https://localhost:8080/"
    },
    "executionInfo": {
     "elapsed": 379,
     "status": "ok",
     "timestamp": 1622523445047,
     "user": {
      "displayName": "Aishwarya Verma",
      "photoUrl": "https://lh3.googleusercontent.com/a-/AOh14GiG6BREocxcd5R6rzlQGApoCsYso7BQAh63eXNz6Q=s64",
      "userId": "06108390091304498033"
     },
     "user_tz": -330
    },
    "id": "HAC7j_nY7Z3U",
    "outputId": "778825bd-823c-4016-9a7b-5c9478accc9d"
   },
   "outputs": [],
   "source": [
    "pixel_feat1 = np.reshape(image2, (900 * 1200))\n",
    "pixel_feat1"
   ]
  },
  {
   "cell_type": "markdown",
   "metadata": {
    "id": "HbVP4_Ke7yRn"
   },
   "source": [
    "Similarly, we can find the pixel feature for the colored image."
   ]
  },
  {
   "cell_type": "code",
   "execution_count": null,
   "metadata": {
    "colab": {
     "base_uri": "https://localhost:8080/"
    },
    "executionInfo": {
     "elapsed": 348,
     "status": "ok",
     "timestamp": 1622523473892,
     "user": {
      "displayName": "Aishwarya Verma",
      "photoUrl": "https://lh3.googleusercontent.com/a-/AOh14GiG6BREocxcd5R6rzlQGApoCsYso7BQAh63eXNz6Q=s64",
      "userId": "06108390091304498033"
     },
     "user_tz": -330
    },
    "id": "FJiPXlRt70Fi",
    "outputId": "46ebf967-5add-4bca-a0b1-6bfeae6c72d1"
   },
   "outputs": [],
   "source": [
    "pixel_feat2 = np.reshape(image1, (900 * 1200 * 3))\n",
    "pixel_feat2"
   ]
  },
  {
   "cell_type": "markdown",
   "metadata": {
    "id": "B7vFJZ6C74sL"
   },
   "source": [
    "### **ii. Edge Features**"
   ]
  },
  {
   "cell_type": "markdown",
   "metadata": {
    "id": "UrECHldf77WS"
   },
   "source": [
    "Edges in an image are the corners where the pixel change drastically, as the images are stored in array form we can visualize different values and see where the change in pixel value is higher but doing it manually takes time, Scikit-Image provides functions for image edge features extraction namely:"
   ]
  },
  {
   "cell_type": "markdown",
   "metadata": {
    "id": "Dpu1SEdk7-If"
   },
   "source": [
    "> * Prewitt Kernel:\n",
    "It is an edge detection kernel that works separately for both horizontal and vertical axis."
   ]
  },
  {
   "cell_type": "markdown",
   "metadata": {
    "id": "LeUNLVRf8Ee6"
   },
   "source": [
    "![image.png](data:image/png;base64,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)"
   ]
  },
  {
   "cell_type": "markdown",
   "metadata": {
    "id": "IzVrnKWp8HVX"
   },
   "source": [
    "> * Sobel Kernel:\n",
    "It works on creating images with emphasis on edges \n",
    "\n",
    "> * Canny Algorithm: Canny Algorithm is an edge detection technique that uses a multi-stage algorithm to detect a wide range of edges in images. \n",
    "\n",
    "\n",
    "\n",
    "\n",
    "\n",
    "![image.png](data:image/png;base64,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)"
   ]
  },
  {
   "cell_type": "markdown",
   "metadata": {
    "id": "5ff9_EWm8alH"
   },
   "source": [
    "Using these three algorithms for edge feature extraction."
   ]
  },
  {
   "cell_type": "code",
   "execution_count": null,
   "metadata": {
    "colab": {
     "base_uri": "https://localhost:8080/",
     "height": 297
    },
    "executionInfo": {
     "elapsed": 2583,
     "status": "ok",
     "timestamp": 1622523723784,
     "user": {
      "displayName": "Aishwarya Verma",
      "photoUrl": "https://lh3.googleusercontent.com/a-/AOh14GiG6BREocxcd5R6rzlQGApoCsYso7BQAh63eXNz6Q=s64",
      "userId": "06108390091304498033"
     },
     "user_tz": -330
    },
    "id": "GZAatJC38bQ7",
    "outputId": "ddb692fd-d5ba-438f-bfff-8b6acb9bf263"
   },
   "outputs": [],
   "source": [
    "from skimage import filters, feature\n",
    "# prewitt kernel\n",
    "pre_hor = filters.prewitt_h(image2)\n",
    "pre_ver = filters.prewitt_v(image2)\n",
    "\n",
    "# Sobel Kernel\n",
    "ed_sobel = filters.sobel(image2)\n",
    "\n",
    "#canny algorithm\n",
    "can = feature.canny(image2)\n",
    "\n",
    "imshow(pre_ver, cmap='gray');"
   ]
  },
  {
   "cell_type": "code",
   "execution_count": null,
   "metadata": {
    "colab": {
     "base_uri": "https://localhost:8080/",
     "height": 297
    },
    "executionInfo": {
     "elapsed": 1940,
     "status": "ok",
     "timestamp": 1622523736247,
     "user": {
      "displayName": "Aishwarya Verma",
      "photoUrl": "https://lh3.googleusercontent.com/a-/AOh14GiG6BREocxcd5R6rzlQGApoCsYso7BQAh63eXNz6Q=s64",
      "userId": "06108390091304498033"
     },
     "user_tz": -330
    },
    "id": "b4bwX9mY82Kr",
    "outputId": "0d969ff3-197e-4e4b-e5b3-4082b3992506"
   },
   "outputs": [],
   "source": [
    "imshow(pre_hor, cmap='gray');"
   ]
  },
  {
   "cell_type": "code",
   "execution_count": null,
   "metadata": {
    "colab": {
     "base_uri": "https://localhost:8080/",
     "height": 297
    },
    "executionInfo": {
     "elapsed": 1037,
     "status": "ok",
     "timestamp": 1622523743113,
     "user": {
      "displayName": "Aishwarya Verma",
      "photoUrl": "https://lh3.googleusercontent.com/a-/AOh14GiG6BREocxcd5R6rzlQGApoCsYso7BQAh63eXNz6Q=s64",
      "userId": "06108390091304498033"
     },
     "user_tz": -330
    },
    "id": "ilhNex_884Fr",
    "outputId": "0c91588d-7326-469e-9af2-f9809421e253"
   },
   "outputs": [],
   "source": [
    "imshow(ed_sobel, cmap='gray');"
   ]
  },
  {
   "cell_type": "markdown",
   "metadata": {
    "id": "dEsu56gO8-vr"
   },
   "source": [
    "There are many other kernels for edge feature extraction but these three are the most used ones."
   ]
  },
  {
   "cell_type": "markdown",
   "metadata": {
    "id": "fIoCbCsH9BYT"
   },
   "source": [
    "> * Region-Based Segmentation\n",
    "\n",
    "We use this segment object from a background. We will use our image and try region-based segmentation on it. "
   ]
  },
  {
   "cell_type": "code",
   "execution_count": null,
   "metadata": {
    "colab": {
     "base_uri": "https://localhost:8080/",
     "height": 246
    },
    "executionInfo": {
     "elapsed": 1754,
     "status": "ok",
     "timestamp": 1622523811190,
     "user": {
      "displayName": "Aishwarya Verma",
      "photoUrl": "https://lh3.googleusercontent.com/a-/AOh14GiG6BREocxcd5R6rzlQGApoCsYso7BQAh63eXNz6Q=s64",
      "userId": "06108390091304498033"
     },
     "user_tz": -330
    },
    "id": "l2R8aFgX9IdO",
    "outputId": "8762b936-442d-42c8-ddcd-a0c9a236badb"
   },
   "outputs": [],
   "source": [
    "from skimage.exposure import histogram\n",
    "hist, hist_centers = histogram(image2)\n",
    "\n",
    "#Plotting the Image and the Histogram of gray values\n",
    "fig, axes = plt.subplots(1, 2, figsize=(8, 3))\n",
    "axes[0].imshow(image2, cmap=plt.cm.gray)\n",
    "axes[0].axis('off')\n",
    "axes[1].plot(hist_centers, hist, lw=2)\n",
    "axes[1].set_title('histogram of gray values')"
   ]
  },
  {
   "cell_type": "markdown",
   "metadata": {
    "id": "2pMI-vJ59LiU"
   },
   "source": [
    "This image clearly depicts the feature we have tried to extract i.e segmentation of object from the background. \n",
    "\n",
    "These are some of the main image features which can be extracted using python and Scikit-Image. "
   ]
  },
  {
   "cell_type": "markdown",
   "metadata": {
    "id": "jqDB1l9I6Br-"
   },
   "source": [
    "#**Related Articles:**\n",
    "\n",
    "> * [Feature Extraction of Images with Skimage](https://analyticsindiamag.com/image-feature-extraction-using-scikit-image-a-hands-on-guide/)\n",
    "\n",
    "> * [Bitwise Operations On Images Using OpenCV](https://analyticsindiamag.com/how-to-implement-bitwise-operations-on-images-using-opencv/)\n",
    "\n",
    "> * [Face Swaping with OpenCV](https://analyticsindiamag.com/a-fun-project-on-building-a-face-swapping-application-with-opencv/)\n",
    "\n",
    "> * [Create Watermark Images with OpenCV](https://analyticsindiamag.com/how-to-create-a-watermark-on-images-using-opencv/)\n",
    "\n",
    "> * [Convert Image to Cartoon](https://analyticsindiamag.com/converting-an-image-to-a-cartoon/)\n",
    "\n",
    "> * [Sudoku Game with Deep Learning, OpenCV and Backtracking](https://analyticsindiamag.com/solve-sudoku-puzzle-using-deep-learning-opencv-and-backtracking/)\n",
    "\n"
   ]
  }
 ],
 "metadata": {
  "colab": {
   "authorship_tag": "ABX9TyMrV6+l+idx3dkTdrO56Cqe",
   "collapsed_sections": [],
   "name": "1_Image_Feature_Extraction.ipynb",
   "provenance": []
  },
  "interpreter": {
   "hash": "f60a20abaabf5a658075b37fac599269792a9493ddacd7c14d8505185d5625aa"
  },
  "kernelspec": {
   "display_name": "Python 3.8.8 64-bit ('base': conda)",
   "name": "python3"
  },
  "language_info": {
   "codemirror_mode": {
    "name": "ipython",
    "version": 3
   },
   "file_extension": ".py",
   "mimetype": "text/x-python",
   "name": "python",
   "nbconvert_exporter": "python",
   "pygments_lexer": "ipython3",
   "version": "3.8.8"
  }
 },
 "nbformat": 4,
 "nbformat_minor": 2
}
