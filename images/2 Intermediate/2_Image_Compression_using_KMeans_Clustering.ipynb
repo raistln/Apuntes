{
 "cells": [
  {
   "cell_type": "markdown",
   "metadata": {
    "id": "mFlg7TzoWErX"
   },
   "source": [
    "# **Image Compression using K-Means Clustering**"
   ]
  },
  {
   "cell_type": "markdown",
   "metadata": {
    "id": "Ofce3BnqV_Q_"
   },
   "source": [
    "Image compression is reducing the size that an image takes while storing or transmitting.  Images of high quality take a lot of memory while storing, whereas the low image of low quality takes less memory. There are many ways by which we can compress images, one of which is K-Means Clustering. Here, we will discuss image compression and demonstrate how image compression can be done using K-Means clustering.\n",
    "\n",
    "In this session we will cover:\n",
    "\n",
    "> * What is K-Means Clustering?\n",
    "> * Image Compression using K-Means clustering\n",
    "> * Creating Interactive controls to compress image\n",
    "> * Visualize the compressed image"
   ]
  },
  {
   "cell_type": "markdown",
   "metadata": {
    "id": "LQZFCNyoWV1h"
   },
   "source": [
    "For theory, please go through [this](https://analyticsindiamag.com/beginners-guide-to-image-compression-using-k-means-clustering/) article."
   ]
  },
  {
   "cell_type": "markdown",
   "metadata": {
    "id": "qK7zRTQ5WcOm"
   },
   "source": [
    "## **Implementation of Image Compression using K-Means Clustering**"
   ]
  },
  {
   "cell_type": "markdown",
   "metadata": {
    "id": "pt8jpF9vWfUS"
   },
   "source": [
    "K-Means Clustering is defined under the SK-Learn library of python, before using it let us install it by pip install sklearn"
   ]
  },
  {
   "cell_type": "code",
   "execution_count": null,
   "metadata": {
    "id": "uyaZ0LkVTM-t"
   },
   "outputs": [],
   "source": [
    "!python -m pip install pip --upgrade --user -q --no-warn-script-location\n",
    "!python -m pip install numpy pandas seaborn matplotlib scipy statsmodels sklearn scikit-image nltk gensim --user -q --no-warn-script-location\n",
    "\n",
    "import IPython\n",
    "IPython.Application.instance().kernel.do_shutdown(True)\n"
   ]
  },
  {
   "cell_type": "markdown",
   "metadata": {
    "id": "abJMN_EAWiYS"
   },
   "source": [
    "### **a. Importing required libraries**"
   ]
  },
  {
   "cell_type": "markdown",
   "metadata": {
    "id": "A6bcymavWkqp"
   },
   "source": [
    "Here we require libraries for Visualization, Compression and creating interactive widgets."
   ]
  },
  {
   "cell_type": "code",
   "execution_count": null,
   "metadata": {
    "id": "DAXX_GWVWlLK"
   },
   "outputs": [],
   "source": [
    "import os\n",
    "import numpy as np\n",
    "import matplotlib.pyplot as plt\n",
    "import matplotlib.image as image\n",
    "%matplotlib inline\n",
    "plt.style.use(\"ggplot\")\n",
    "from skimage import io\n",
    "from sklearn.cluster import KMeans\n",
    "from ipywidgets import interact, interactive, fixed, interact_manual, IntSlider\n",
    "import ipywidgets as widgets"
   ]
  },
  {
   "cell_type": "markdown",
   "metadata": {
    "id": "bl5hzXFWWqET"
   },
   "source": [
    "### **b. Loading Images Dataset and analyzing the properties of images**"
   ]
  },
  {
   "cell_type": "markdown",
   "metadata": {
    "id": "HRLnwBO4W7Bn"
   },
   "source": [
    "In order to access images, you can have different images stored in a folder and parse the images one at a time. We will set a standard view size i.e. (20,12) for all the images for maintaining consistency. We will also set the axes title as blank."
   ]
  },
  {
   "cell_type": "code",
   "execution_count": 1,
   "metadata": {
    "id": "VzM0lfVkZuRO"
   },
   "outputs": [
    {
     "name": "stdout",
     "output_type": "stream",
     "text": [
      "--2021-10-28 14:32:09--  https://i.pinimg.com/originals/72/38/38/7238383546f5efe19f6e7f440fb9fcb5.jpg\n",
      "Resolving i.pinimg.com (i.pinimg.com)... 104.101.16.77, 2600:140f:dc00:1a2::1931, 2600:140f:dc00:18c::1931, ...\n",
      "Connecting to i.pinimg.com (i.pinimg.com)|104.101.16.77|:443... connected.\n",
      "HTTP request sent, awaiting response... 200 OK\n",
      "Length: 59441 (58K) [image/jpeg]\n",
      "Saving to: ‘7238383546f5efe19f6e7f440fb9fcb5.jpg’\n",
      "\n",
      "7238383546f5efe19f6 100%[===================>]  58.05K  --.-KB/s    in 0.03s   \n",
      "\n",
      "2021-10-28 14:32:10 (2.23 MB/s) - ‘7238383546f5efe19f6e7f440fb9fcb5.jpg’ saved [59441/59441]\n",
      "\n"
     ]
    }
   ],
   "source": [
    "# !wget -nd https://i.pinimg.com/originals/72/38/38/7238383546f5efe19f6e7f440fb9fcb5.jpg"
   ]
  },
  {
   "cell_type": "code",
   "execution_count": null,
   "metadata": {
    "id": "cr2uElRiXAbL"
   },
   "outputs": [],
   "source": [
    "plt.rcParams['figure.figsize'] = (20, 12)\n",
    "image = io.imread('7238383546f5efe19f6e7f440fb9fcb5.jpg')\n",
    "labels = plt.axes(xticks=[], yticks=[])\n",
    "labels.imshow(image);"
   ]
  },
  {
   "cell_type": "code",
   "execution_count": null,
   "metadata": {
    "id": "Q7gVHROQYUmp"
   },
   "outputs": [],
   "source": [
    "image.shape"
   ]
  },
  {
   "cell_type": "code",
   "execution_count": null,
   "metadata": {
    "id": "7AixFr7EYVJu"
   },
   "outputs": [],
   "source": [
    "image.size"
   ]
  },
  {
   "cell_type": "markdown",
   "metadata": {
    "id": "lpUlHaRMYWYm"
   },
   "source": [
    "The image shape contains the rows, columns and channels in the image. Here we can see that it contains 3 channels because it is a colored picture, similarly, if we check the shape of grayscale images it will have only 1 channel. Image size displayed here shows the total no. of pixels.\n",
    "\n",
    "We will reshape this image so that it contains only 2 parameters: product of rows and columns i.e. no. of pixels and no. of channels. We will divide the image size by 255 because that is the maximum intensity value for RGB individually."
   ]
  },
  {
   "cell_type": "code",
   "execution_count": null,
   "metadata": {
    "id": "UFgDKegLYatH"
   },
   "outputs": [],
   "source": [
    "image_data = (image / 255.0).reshape(749 * 500, 3)\n",
    "image_data.shape"
   ]
  },
  {
   "cell_type": "markdown",
   "metadata": {
    "id": "cOCpWBdeYeaU"
   },
   "source": [
    "## **c. Analyzing the Color Space**"
   ]
  },
  {
   "cell_type": "markdown",
   "metadata": {
    "id": "ioebCkJiYkW9"
   },
   "source": [
    "Colorspace is the specific organization of colours in physical appearance where any 2 images having the same colour model can have entirely different colorspace. Here we will analyze the colorspace of our image."
   ]
  },
  {
   "cell_type": "code",
   "execution_count": null,
   "metadata": {
    "id": "SSLpPnegbT9P"
   },
   "outputs": [],
   "source": [
    "import numpy as np\n",
    "import matplotlib.pyplot as plt\n",
    "\n",
    "class plot_utils:\n",
    "    def __init__(self, img_data, title, num_pixels=10000, colors=None):\n",
    "        self.img_data = img_data\n",
    "        self.title = title\n",
    "        self.num_pixels = num_pixels\n",
    "        self.colors = colors\n",
    "\n",
    "    def colorSpace(self):\n",
    "        if self.colors is None:\n",
    "            self.colors = self.img_data\n",
    "\n",
    "        rand = np.random.RandomState(42)\n",
    "        index = rand.permutation(self.img_data.shape[0])[:self.num_pixels]\n",
    "        colors = self.colors[index]\n",
    "        R, G, B = self.img_data[index].T\n",
    "        fig, ax = plt.subplots(1, 2, figsize=(12,8))\n",
    "        ax[0].scatter(R, G, color=colors, marker='.')\n",
    "        ax[0].set(xlabel='Red', ylabel='Green', xlim=(0, 1), ylim=(0, 1))\n",
    "        ax[1].scatter(R, B, color=colors, marker='.')\n",
    "        ax[1].set(xlabel='Red', ylabel='Blue', xlim=(0, 1), ylim=(0, 1))\n",
    "        fig.suptitle(self.title, size=20)"
   ]
  },
  {
   "cell_type": "code",
   "execution_count": null,
   "metadata": {
    "id": "14m4z50xhTyf"
   },
   "outputs": [],
   "source": [
    "color = plot_utils(image_data, title='Original possible colors')\n",
    "color.colorSpace()"
   ]
  },
  {
   "cell_type": "markdown",
   "metadata": {
    "id": "8Lfq-5AqYzXN"
   },
   "source": [
    "As our image is based on the RGB model we can see the colorspace according to Red, Green and Blue colors. We will reduce these possible colors from 16 Million to only 160 colors and visualize the colorspace again.\n",
    "\n",
    "As we are going to reduce this colorspace to 160 it means we have to make 160 clusters and pass it to K Means clustering."
   ]
  },
  {
   "cell_type": "code",
   "execution_count": null,
   "metadata": {
    "id": "Bi62Wt31Y1XX"
   },
   "outputs": [],
   "source": [
    "from sklearn.cluster import MiniBatchKMeans\n",
    "kmeans = MiniBatchKMeans(16).fit(image_data)\n",
    "k_colors = kmeans.cluster_centers_[kmeans.predict(image_data)]\n"
   ]
  },
  {
   "cell_type": "code",
   "execution_count": null,
   "metadata": {
    "id": "rR2kt0rJgbOT"
   },
   "outputs": [],
   "source": [
    "reduced = plot_utils(image_data, colors=k_colors, title=\"Reduced color space only 160 colors\")\n",
    "reduced.colorSpace()"
   ]
  },
  {
   "cell_type": "markdown",
   "metadata": {
    "id": "lw9guYgjY3ew"
   },
   "source": [
    "Here we can clearly see that the color scheme is changed as compared to the original colorspace to only 160 Colors. Now we will work on creating an interactive workspace where we can select different images and select different sizes of clusters from 1 to 256."
   ]
  },
  {
   "cell_type": "markdown",
   "metadata": {
    "id": "JHaafJNTaOpg"
   },
   "source": [
    "### **d. Image Compression using Interactive widgets**"
   ]
  },
  {
   "cell_type": "markdown",
   "metadata": {
    "id": "AISDxs9vk1MU"
   },
   "source": [
    "Now we will create an image compression module, but let’s make it a little interactive. So what we will do is, we will create widgets using the ipywidgets library of python. It is mainly used for creating widgets like range slider, dropdown menu etc. \n",
    "\n",
    "We will create a range slider which will allow us to choose the value of the K i.e the number of clusters, also we will create a dropdown menu from which we can select different images from our image dataset."
   ]
  },
  {
   "cell_type": "markdown",
   "metadata": {
    "id": "1Knud2bDk3RB"
   },
   "source": [
    "We will wrap this up in a single user-defined function and display the comparison of the image with the original one.\n",
    "\n",
    "We will use @interact from ipywidgets which automatically creates the user interface. "
   ]
  },
  {
   "cell_type": "code",
   "execution_count": null,
   "metadata": {
    "id": "Sf_jhptmk7Th"
   },
   "outputs": [],
   "source": [
    "#location of image dataset\n",
    "img_lib = '7238383546f5efe19f6e7f440fb9fcb5.jpg'  \n",
    "@interact\n",
    "#defining compression function\n",
    "def compression(image=img_lib, k=IntSlider(min=1, max=256, \n",
    "                             step=1,value=160,  continuous_update=False, \n",
    "                                         layout=dict(width='100%'))):\n",
    "\n",
    "                        \n",
    "    img_dir = './'\n",
    "   #loading the image and reshaping it as done above\n",
    "    input_img = io.imread(img_dir + image)\n",
    "    img_data = (input_img / 255.0).reshape(-1, 3)\n",
    "  \n",
    "    #Using K value to create clusters\n",
    "    kmeans = MiniBatchKMeans(k).fit(img_data)\n",
    "    k_colors = kmeans.cluster_centers_[kmeans.predict(img_data)]\n",
    " \n",
    "    # Reshaping the image according to the clusters\n",
    "    k_img = np.reshape(k_colors, (input_img.shape))\n",
    "\n",
    "    #Plotting the compressed and original image\n",
    "    fig, (ax1, ax2) = plt.subplots(1, 2)\n",
    "    fig.suptitle('K-means Image Compressor', fontsize=20)\n",
    "\n",
    "    ax1.set_title('Compressed Image')\n",
    "    ax1.set_xticks([])\n",
    "    ax1.set_yticks([])\n",
    "    ax1.imshow(k_img)\n",
    "\n",
    "    ax2.set_title('Original (16Million Colors)')\n",
    "    ax2.set_xticks([])\n",
    "    ax2.set_yticks([])\n",
    "    ax2.imshow(input_img)\n",
    "\n",
    "    plt.subplots_adjust(top=0.85)\n",
    "    plt.show()\n",
    "    # import matplotlib\n",
    "    # matplotlib.image.imsave('Compressed.jpg', k_img)\n"
   ]
  },
  {
   "cell_type": "markdown",
   "metadata": {
    "id": "jqDB1l9I6Br-"
   },
   "source": [
    "#**Related Articles:**\n",
    "\n",
    "> * [Image Compression using K-Means Clustering](https://analyticsindiamag.com/beginners-guide-to-image-compression-using-k-means-clustering/)\n",
    "\n",
    "> * [PCA for images](https://analyticsindiamag.com/how-does-pca-dimension-reduction-work-for-images/)\n",
    "\n",
    "> * [Image Generation with Tensorflow Keras](https://analyticsindiamag.com/getting-started-image-generation-tensorflow-keras/)\n",
    "\n",
    "> * [Getting Started with Computer Vision using Tensorflow Keras](https://analyticsindiamag.com/computer-vision-using-tensorflow-keras/)\n",
    "\n",
    "> * [Feature Extraction of Images with Skimage](https://analyticsindiamag.com/image-feature-extraction-using-scikit-image-a-hands-on-guide/)\n",
    "\n",
    "> * [Bitwise Operations On Images Using OpenCV](https://analyticsindiamag.com/how-to-implement-bitwise-operations-on-images-using-opencv/)\n"
   ]
  }
 ],
 "metadata": {
  "colab": {
   "authorship_tag": "ABX9TyPB7wcIP5utKU/WKs3bPxH2",
   "collapsed_sections": [],
   "name": "2_Image_Compression_using_KMeans_Clustering.ipynb",
   "provenance": [],
   "toc_visible": true
  },
  "interpreter": {
   "hash": "f60a20abaabf5a658075b37fac599269792a9493ddacd7c14d8505185d5625aa"
  },
  "kernelspec": {
   "display_name": "Python 3.8.8 64-bit ('base': conda)",
   "name": "python3"
  },
  "language_info": {
   "codemirror_mode": {
    "name": "ipython",
    "version": 3
   },
   "file_extension": ".py",
   "mimetype": "text/x-python",
   "name": "python",
   "nbconvert_exporter": "python",
   "pygments_lexer": "ipython3",
   "version": "3.8.8"
  }
 },
 "nbformat": 4,
 "nbformat_minor": 2
}
