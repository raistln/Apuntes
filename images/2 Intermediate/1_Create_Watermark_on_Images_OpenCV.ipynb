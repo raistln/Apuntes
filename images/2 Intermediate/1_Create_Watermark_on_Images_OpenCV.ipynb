{
 "cells": [
  {
   "cell_type": "markdown",
   "metadata": {
    "id": "PtCoKazrDgkZ"
   },
   "source": [
    "# **Creating Watermark on Images with OpenCV**"
   ]
  },
  {
   "cell_type": "markdown",
   "metadata": {
    "id": "4NR96QTuHQ_T"
   },
   "source": [
    "Watermark is a message that may be a logo, signature, or stamp that is used to recognize the ownership of the creator. It visualizes the logo without interpreting the visibility of the image. These watermarks are used by most of the organizations, professionals before sharing their content in public platforms to prevent other people from using it."
   ]
  },
  {
   "cell_type": "markdown",
   "metadata": {
    "id": "Vnc2zZ19HTyo"
   },
   "source": [
    "## **Topics covered in this article:**\n",
    "\n",
    "> Creating watermark using an image\n",
    "    > * Defining the transparent function\n",
    "    > * Defining function to add image\n",
    "\n",
    "> Creating watermark using text \n",
    "    > * Importing PIL function\n",
    "    > * Adjusting the position of the text"
   ]
  },
  {
   "cell_type": "markdown",
   "metadata": {
    "id": "I6jk-WaQHhJm"
   },
   "source": [
    "## **Creating watermark using an image**"
   ]
  },
  {
   "cell_type": "markdown",
   "metadata": {
    "id": "rd6lZoFUHkYw"
   },
   "source": [
    "### **Step-1: Importing required libraries and loading the images.**"
   ]
  },
  {
   "cell_type": "code",
   "execution_count": null,
   "metadata": {
    "id": "X4oYrPqwL9Sy"
   },
   "outputs": [],
   "source": [
    "# !wget https://i.pinimg.com/originals/e8/c7/c4/e8c7c4d4e14a9e3b21faf3d7b37c5b03.jpg"
   ]
  },
  {
   "cell_type": "code",
   "execution_count": null,
   "metadata": {
    "id": "KHuRvniNI4nS"
   },
   "outputs": [],
   "source": [
    "# !wget https://analyticsindiamag.com/wp-content/uploads/2016/12/AIM-Logo.png"
   ]
  },
  {
   "cell_type": "code",
   "execution_count": null,
   "metadata": {},
   "outputs": [],
   "source": [
    "!python -m pip install pip --upgrade --user -q --no-warn-script-location\n",
    "!python -m pip install numpy pandas seaborn matplotlib scipy statsmodels sklearn nltk gensim scikit-image opencv-python pillow --user -q --no-warn-script-location\n",
    "\n",
    "import IPython\n",
    "IPython.Application.instance().kernel.do_shutdown(True)\n"
   ]
  },
  {
   "cell_type": "code",
   "execution_count": null,
   "metadata": {
    "id": "LqijC0y1DehS"
   },
   "outputs": [],
   "source": [
    "import cv2\n",
    "image_1= cv2.imread('e8c7c4d4e14a9e3b21faf3d7b37c5b03.jpg')\n",
    "image_2=cv2.imread('AIM-Logo.png')"
   ]
  },
  {
   "cell_type": "code",
   "execution_count": null,
   "metadata": {
    "id": "YKQjzcFQLzOP"
   },
   "outputs": [],
   "source": [
    "image_1.shape"
   ]
  },
  {
   "cell_type": "code",
   "execution_count": null,
   "metadata": {
    "id": "gi_Pym2zMxrh"
   },
   "outputs": [],
   "source": [
    "image_2.shape"
   ]
  },
  {
   "cell_type": "markdown",
   "metadata": {
    "id": "_JT8ZlfjJd1b"
   },
   "source": [
    "### **Step-2: Defining a preprocessing function**"
   ]
  },
  {
   "cell_type": "markdown",
   "metadata": {
    "id": "gSHM2qQwJgOI"
   },
   "source": [
    "Using the below code snippet we can set the position of our logo on the image. using h, w, _ = overlay.shape y we get the shape of the image based on this snippet, x = pos[0], pos[0] we can assign values."
   ]
  },
  {
   "cell_type": "markdown",
   "metadata": {
    "id": "6Rz7a4kkJm8N"
   },
   "source": [
    "Here we are using for loop, to apply the blend equation to all pixels in the image       "
   ]
  },
  {
   "cell_type": "code",
   "execution_count": null,
   "metadata": {
    "id": "eoWYo2TlJihx"
   },
   "outputs": [],
   "source": [
    "def transparentOverlay(src, overlay, pos=(0, 0), scale=1):\n",
    "    \"\"\"\n",
    "    :param src: Input Color Background Image\n",
    "    :param overlay: transparent Image (BGRA)\n",
    "    :param pos:  position where the image to be blit.\n",
    "    :param scale : scale factor of transparent image.\n",
    "    :return: Resultant Image\n",
    "    \"\"\"\n",
    "    overlay = cv2.resize(overlay, (0, 0), fx=scale, fy=scale)\n",
    "    h, w, _ = overlay.shape  # Size of foreground\n",
    "    rows, cols, _ = src.shape  # Size of background Image\n",
    "    y, x = pos[0], pos[1]  # Position of foreground/overlay image\n",
    "    # loop over all pixels and apply the blending equation\n",
    "    for i in range(h):\n",
    "        for j in range(w):\n",
    "            if x + i >= rows or y + j >= cols:\n",
    "                continue\n",
    "            alpha = float(overlay[i][j][0] / 255.0)  # read the alpha channel\n",
    "            src[x + i][y + j] = alpha * overlay[i][j][:3] + (1 - alpha) * src[x + i][y + j]\n",
    "    return src"
   ]
  },
  {
   "cell_type": "markdown",
   "metadata": {
    "id": "WGHXGT2uKkK_"
   },
   "source": [
    "### **Step-3: Defining function to create watermark**"
   ]
  },
  {
   "cell_type": "code",
   "execution_count": null,
   "metadata": {
    "id": "hzcRh4pXJ3FA"
   },
   "outputs": [],
   "source": [
    "import matplotlib.pyplot as plt\n",
    "def addImageWatermark(LogoImage,MainImage,opacity,pos=(10,100),):\n",
    "    opacity = opacity / 100\n",
    "    OriImg = cv2.imread(MainImage, -1)\n",
    "    waterImg = cv2.imread(LogoImage, -1)\n",
    "    tempImg = OriImg.copy()\n",
    "    print(tempImg.shape)\n",
    "    overlay = transparentOverlay(tempImg, waterImg, pos)\n",
    "    output = OriImg.copy()\n",
    "    # apply the overlay\n",
    "    cv2.addWeighted(overlay, opacity, output, 1 - opacity, 0, output)\n",
    "    plt.figure()\n",
    "    plt.imshow(output) \n",
    "    plt.show()\n"
   ]
  },
  {
   "cell_type": "markdown",
   "metadata": {
    "id": "LHlH3dNuKoPc"
   },
   "source": [
    "### **Step-4: The main function to display output**"
   ]
  },
  {
   "cell_type": "markdown",
   "metadata": {
    "id": "cYmvHV7bKq-Q"
   },
   "source": [
    "Using the below code snippet, we will add the original image, logo, opacity, and position of the logo on our original image."
   ]
  },
  {
   "cell_type": "code",
   "execution_count": null,
   "metadata": {
    "id": "jkIEa5chKsZV"
   },
   "outputs": [],
   "source": [
    "addImageWatermark(LogoImage=\"AIM-Logo.png\",MainImage=\"e8c7c4d4e14a9e3b21faf3d7b37c5b03.jpg\",opacity=50,pos=(100,10))"
   ]
  },
  {
   "cell_type": "markdown",
   "metadata": {
    "id": "cH3WFA57NqFq"
   },
   "source": [
    "## **Creating watermark on the image using text**"
   ]
  },
  {
   "cell_type": "markdown",
   "metadata": {
    "id": "9uYRQRelNvzO"
   },
   "source": [
    "Using the below code snippet, we will give our image as an input and a text to display a watermark on the image. By assigning a value to margin we can adjust the position of the text in the image. "
   ]
  },
  {
   "cell_type": "code",
   "execution_count": null,
   "metadata": {
    "id": "Zun8xg1hNzDH"
   },
   "outputs": [],
   "source": [
    "from PIL import Image, ImageDraw, ImageFont\n",
    "original_img = Image.open('e8c7c4d4e14a9e3b21faf3d7b37c5b03.jpg')\n",
    "width, height = original_img.size\n",
    "draw = ImageDraw.Draw(original_img)\n",
    "text = \"Analytics India Magazine\"\n",
    "textwidth, textheight = draw.textsize(text)\n",
    "margin = 10\n",
    "x = width - textwidth - margin\n",
    "y = height - textheight - margin\n",
    "draw.text((x, y), text)\n",
    "original_img.show()\n",
    "img = original_img.save('test.png')"
   ]
  },
  {
   "cell_type": "markdown",
   "metadata": {
    "id": "jqDB1l9I6Br-"
   },
   "source": [
    "#**Related Articles:**\n",
    "\n",
    "> * [Create Watermark Images with OpenCV](https://analyticsindiamag.com/how-to-create-a-watermark-on-images-using-opencv/)\n",
    "\n",
    "> * [Convert Image to Cartoon](https://analyticsindiamag.com/converting-an-image-to-a-cartoon/)\n",
    "\n",
    "> * [Sudoku Game with Deep Learning, OpenCV and Backtracking](https://analyticsindiamag.com/solve-sudoku-puzzle-using-deep-learning-opencv-and-backtracking/)\n",
    "\n",
    "> * [Finding Waldo Game with OpenCV](https://analyticsindiamag.com/my-fun-project-with-opencv-finding-waldo-game/)\n",
    "\n",
    "> * [OpenCV to Extract Information From Table Images](https://analyticsindiamag.com/how-to-use-opencv-to-extract-information-from-table-images/)\n"
   ]
  }
 ],
 "metadata": {
  "colab": {
   "authorship_tag": "ABX9TyMTLKE3V0DpZJ3D2UVDD9jj",
   "collapsed_sections": [],
   "name": "1_Create_Watermark_on_Images_OpenCV.ipynb",
   "provenance": [],
   "toc_visible": true
  },
  "interpreter": {
   "hash": "f60a20abaabf5a658075b37fac599269792a9493ddacd7c14d8505185d5625aa"
  },
  "kernelspec": {
   "display_name": "Python 3.8.8 64-bit ('base': conda)",
   "name": "python3"
  },
  "language_info": {
   "codemirror_mode": {
    "name": "ipython",
    "version": 3
   },
   "file_extension": ".py",
   "mimetype": "text/x-python",
   "name": "python",
   "nbconvert_exporter": "python",
   "pygments_lexer": "ipython3",
   "version": "3.8.8"
  }
 },
 "nbformat": 4,
 "nbformat_minor": 2
}
