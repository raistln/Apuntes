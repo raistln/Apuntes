{
 "cells": [
  {
   "cell_type": "markdown",
   "metadata": {
    "id": "IZfv8tERQ_Xu"
   },
   "source": [
    "# **PCA for Images**"
   ]
  },
  {
   "cell_type": "markdown",
   "metadata": {
    "id": "bkqJNJGIRCXv"
   },
   "source": [
    "In machine learning, we need lots of data to build an efficient model, but dealing with a larger dataset is not an easy task we need to work hard in preprocessing the data and as a data scientist we will come across a situation dealing with a large number of variables here PCA (principal component analysis) is dimension reduction technique helps in dealing with those problems. \n",
    "\n",
    "In this practice session, we will demonstrate how to work on larger data and images using a famous dimension reduction technique PCA( principal component analysis)."
   ]
  },
  {
   "cell_type": "code",
   "execution_count": null,
   "metadata": {},
   "outputs": [],
   "source": [
    "!python -m pip install pip --upgrade --user -q --no-warn-script-location\n",
    "!python -m pip install numpy pandas seaborn matplotlib scipy statsmodels sklearn nltk gensim --user -q --no-warn-script-location\n",
    "\n",
    "import IPython\n",
    "IPython.Application.instance().kernel.do_shutdown(True)\n"
   ]
  },
  {
   "cell_type": "markdown",
   "metadata": {
    "id": "f-FHStRMRHw1"
   },
   "source": [
    "## **Hands-on implementation of image compression using  PCA**"
   ]
  },
  {
   "cell_type": "code",
   "execution_count": null,
   "metadata": {
    "colab": {
     "base_uri": "https://localhost:8080/"
    },
    "executionInfo": {
     "elapsed": 1403,
     "status": "ok",
     "timestamp": 1622529148782,
     "user": {
      "displayName": "Aishwarya Verma",
      "photoUrl": "https://lh3.googleusercontent.com/a-/AOh14GiG6BREocxcd5R6rzlQGApoCsYso7BQAh63eXNz6Q=s64",
      "userId": "06108390091304498033"
     },
     "user_tz": -330
    },
    "id": "yPlBm2kYRce2",
    "outputId": "491e1303-eb1b-4002-a059-857117fc09dd"
   },
   "outputs": [],
   "source": [
    "# !wget https://iq.opengenus.org/content/images/2020/03/opengenus_logo.png"
   ]
  },
  {
   "cell_type": "code",
   "execution_count": null,
   "metadata": {
    "executionInfo": {
     "elapsed": 1509,
     "status": "ok",
     "timestamp": 1622529152337,
     "user": {
      "displayName": "Aishwarya Verma",
      "photoUrl": "https://lh3.googleusercontent.com/a-/AOh14GiG6BREocxcd5R6rzlQGApoCsYso7BQAh63eXNz6Q=s64",
      "userId": "06108390091304498033"
     },
     "user_tz": -330
    },
    "id": "5Kwt2wARNPNG"
   },
   "outputs": [],
   "source": [
    "#Importing libraries.\n",
    "import matplotlib.image as mplib \n",
    "import matplotlib.pyplot as plt\n",
    "import numpy as np\n",
    "from sklearn.decomposition import PCA"
   ]
  },
  {
   "cell_type": "code",
   "execution_count": null,
   "metadata": {
    "colab": {
     "base_uri": "https://localhost:8080/",
     "height": 306
    },
    "executionInfo": {
     "elapsed": 11,
     "status": "ok",
     "timestamp": 1622529156327,
     "user": {
      "displayName": "Aishwarya Verma",
      "photoUrl": "https://lh3.googleusercontent.com/a-/AOh14GiG6BREocxcd5R6rzlQGApoCsYso7BQAh63eXNz6Q=s64",
      "userId": "06108390091304498033"
     },
     "user_tz": -330
    },
    "id": "kHovOv3oRhRm",
    "outputId": "d69889d8-870a-4597-8181-0ddfc31bb732"
   },
   "outputs": [],
   "source": [
    "#Reading an image and printing the shape of the image. \n",
    "img = mplib.imread('opengenus_logo.png')\n",
    "print(img.shape)\n",
    "plt.imshow(img)"
   ]
  },
  {
   "cell_type": "markdown",
   "metadata": {
    "id": "w56CD2Y6RlcW"
   },
   "source": [
    "Reshaping the image to 2-dimensional so we are multiplying columns with depth so 225 X 3 = 675."
   ]
  },
  {
   "cell_type": "code",
   "execution_count": null,
   "metadata": {
    "colab": {
     "base_uri": "https://localhost:8080/"
    },
    "executionInfo": {
     "elapsed": 688,
     "status": "ok",
     "timestamp": 1622529234989,
     "user": {
      "displayName": "Aishwarya Verma",
      "photoUrl": "https://lh3.googleusercontent.com/a-/AOh14GiG6BREocxcd5R6rzlQGApoCsYso7BQAh63eXNz6Q=s64",
      "userId": "06108390091304498033"
     },
     "user_tz": -330
    },
    "id": "8O7mSO-RRnm3",
    "outputId": "37653663-a4b6-444d-dcec-12cde8db8eb1"
   },
   "outputs": [],
   "source": [
    "img_r = np.reshape(img, (156, 582)) \n",
    "print(img_r.shape)"
   ]
  },
  {
   "cell_type": "markdown",
   "metadata": {
    "id": "Nxb5AX2NR5oN"
   },
   "source": [
    "Applying PCA so that it will compress the image, the reduced dimension is shown in the output."
   ]
  },
  {
   "cell_type": "code",
   "execution_count": null,
   "metadata": {
    "colab": {
     "base_uri": "https://localhost:8080/"
    },
    "executionInfo": {
     "elapsed": 831,
     "status": "ok",
     "timestamp": 1622529270073,
     "user": {
      "displayName": "Aishwarya Verma",
      "photoUrl": "https://lh3.googleusercontent.com/a-/AOh14GiG6BREocxcd5R6rzlQGApoCsYso7BQAh63eXNz6Q=s64",
      "userId": "06108390091304498033"
     },
     "user_tz": -330
    },
    "id": "8WRe7IgpR7ud",
    "outputId": "0f31054e-faee-4c8c-b618-1049529292ce"
   },
   "outputs": [],
   "source": [
    "pca = PCA(32).fit(img_r) \n",
    "img_transformed = pca.transform(img_r) \n",
    "print(img_transformed.shape)\n",
    "print(np.sum(pca.explained_variance_ratio_) )"
   ]
  },
  {
   "cell_type": "code",
   "execution_count": null,
   "metadata": {
    "colab": {
     "base_uri": "https://localhost:8080/",
     "height": 344
    },
    "executionInfo": {
     "elapsed": 1357,
     "status": "ok",
     "timestamp": 1622529292417,
     "user": {
      "displayName": "Aishwarya Verma",
      "photoUrl": "https://lh3.googleusercontent.com/a-/AOh14GiG6BREocxcd5R6rzlQGApoCsYso7BQAh63eXNz6Q=s64",
      "userId": "06108390091304498033"
     },
     "user_tz": -330
    },
    "id": "6F_TYHi1R-Yb",
    "outputId": "858bf578-a547-4a0a-c498-5b74b651a740"
   },
   "outputs": [],
   "source": [
    "#Retrieving the results of the image after Dimension reduction.\n",
    "temp = pca.inverse_transform(img_transformed) \n",
    "print(temp.shape)\n",
    "temp = np.reshape(temp, (156,194 ,3)) \n",
    "print(temp.shape) \n",
    "plt.imshow(temp)"
   ]
  },
  {
   "cell_type": "markdown",
   "metadata": {
    "id": "A3AnEpaHSHv_"
   },
   "source": [
    "As you can see in the output, we compressed the image using PCA."
   ]
  },
  {
   "cell_type": "markdown",
   "metadata": {
    "id": "jqDB1l9I6Br-"
   },
   "source": [
    "#**Related Articles:**\n",
    "\n",
    "> * [PCA for images](https://analyticsindiamag.com/how-does-pca-dimension-reduction-work-for-images/)\n",
    "\n",
    "> * [Image Generation with Tensorflow Keras](https://analyticsindiamag.com/getting-started-image-generation-tensorflow-keras/)\n",
    "\n",
    "> * [Getting Started with Computer Vision using Tensorflow Keras](https://analyticsindiamag.com/computer-vision-using-tensorflow-keras/)\n",
    "\n",
    "> * [Feature Extraction of Images with Skimage](https://analyticsindiamag.com/image-feature-extraction-using-scikit-image-a-hands-on-guide/)\n",
    "\n",
    "> * [Bitwise Operations On Images Using OpenCV](https://analyticsindiamag.com/how-to-implement-bitwise-operations-on-images-using-opencv/)\n",
    "\n",
    "> * [Face Swaping with OpenCV](https://analyticsindiamag.com/a-fun-project-on-building-a-face-swapping-application-with-opencv/)"
   ]
  }
 ],
 "metadata": {
  "colab": {
   "authorship_tag": "ABX9TyN++Azfw7tjR4XFpwuU6Ywg",
   "collapsed_sections": [],
   "name": "1_Dimensionality_Reduction_for_images.ipynb",
   "provenance": []
  },
  "interpreter": {
   "hash": "f60a20abaabf5a658075b37fac599269792a9493ddacd7c14d8505185d5625aa"
  },
  "kernelspec": {
   "display_name": "Python 3.8.8 64-bit ('base': conda)",
   "name": "python3"
  },
  "language_info": {
   "codemirror_mode": {
    "name": "ipython",
    "version": 3
   },
   "file_extension": ".py",
   "mimetype": "text/x-python",
   "name": "python",
   "nbconvert_exporter": "python",
   "pygments_lexer": "ipython3",
   "version": "3.8.8"
  }
 },
 "nbformat": 4,
 "nbformat_minor": 2
}
