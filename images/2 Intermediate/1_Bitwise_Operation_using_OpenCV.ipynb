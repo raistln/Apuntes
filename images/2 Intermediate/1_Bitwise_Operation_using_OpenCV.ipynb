{
 "cells": [
  {
   "cell_type": "markdown",
   "metadata": {
    "id": "wUHSQDhNYr1_"
   },
   "source": [
    "# **Bitwise Operations On Images Using OpenCV**"
   ]
  },
  {
   "cell_type": "markdown",
   "metadata": {
    "id": "pAn_PqleYvxs"
   },
   "source": [
    "OpenCV is an image processing library created by intel which includes various packages and several functions in it. OpenCV is used to solve many problems in computer vision and machine learning applications and due to its large community, it is getting updated day by day. OpenCV can be implemented in C++, Python, Java programming languages, and different platforms like Linux, Windows, macOS. \n",
    "\n",
    "In this practice session, we will demonstrate one of the interesting applications of OpenCV in performing bitwise operations on images."
   ]
  },
  {
   "cell_type": "markdown",
   "metadata": {
    "id": "05D0h_qcYy5y"
   },
   "source": [
    "Topics covered in this article\n",
    "\n",
    "> * Bitwise Operators in Computer Vision\n",
    "> * Bitwise AND\n",
    "> * Bitwise OR\n",
    "> * Bitwise NOT\n",
    "> * Bitwise XOR"
   ]
  },
  {
   "cell_type": "markdown",
   "metadata": {
    "id": "p63_zym_Y45k"
   },
   "source": [
    "## **Bitwise Operators in Computer Vision**"
   ]
  },
  {
   "cell_type": "markdown",
   "metadata": {
    "id": "bNhm4_wzZGB1"
   },
   "source": [
    "Bitwise operations can be used in image manipulations. These bitwise techniques are used in many computer vision applications like for creating masks of the image, adding watermarks to the image and it is possible to create a new image using these bitwise operators. These operations work on the individual pixels in the image to give accurate results compared with other morphing techniques in OpenCV.\n",
    "\n",
    "Using the below code snippet, we will create two images –  image1, image2 as input images on which the bitwise operations will be performed."
   ]
  },
  {
   "cell_type": "code",
   "execution_count": null,
   "metadata": {},
   "outputs": [],
   "source": [
    "!python -m pip install pip --upgrade --user -q --no-warn-script-location\n",
    "!python -m pip install numpy pandas seaborn matplotlib scipy statsmodels sklearn nltk gensim scikit-image opencv-python --user -q --no-warn-script-location\n",
    "\n",
    "import IPython\n",
    "IPython.Application.instance().kernel.do_shutdown(True)\n"
   ]
  },
  {
   "cell_type": "code",
   "execution_count": 3,
   "metadata": {
    "id": "BSp7tqmtX5Ks"
   },
   "outputs": [],
   "source": [
    "import numpy as np\n",
    "import matplotlib.pyplot as plt\n",
    "import cv2\n",
    "image1 = np.zeros((400, 400), dtype=\"uint8\")\n",
    "\n",
    "plt.figure()\n",
    "plt.imshow(image1) \n",
    "plt.show()\n",
    "cv2.destroyAllWindows()\n",
    "image2 = np.zeros((400, 400), dtype=\"uint8\")\n",
    "cv2.circle(image2, (150, 150), 90, 255, -1)\n",
    "plt.figure()\n",
    "plt.imshow(image2) \n",
    "plt.show()"
   ]
  },
  {
   "cell_type": "markdown",
   "metadata": {
    "id": "akVxBv9SZT8D"
   },
   "source": [
    "In the above output, we created a square & circle with white pixels and a background with black pixels using these we will differentiate each bitwise function individually.\n",
    "\n",
    "Now we will start performing the bitwise operations."
   ]
  },
  {
   "cell_type": "markdown",
   "metadata": {
    "id": "-Sdxw3kLZZM1"
   },
   "source": [
    "## **Bitwise AND**"
   ]
  },
  {
   "cell_type": "markdown",
   "metadata": {
    "id": "OlS67Ju3clFm"
   },
   "source": [
    "This function calculates the conjunction of pixels in both images. This operation only considers pixels that are common with image 1 and image 2 and remaining pixels are removed from the output image."
   ]
  },
  {
   "cell_type": "code",
   "execution_count": 5,
   "metadata": {
    "id": "kk2pI2j6coA6"
   },
   "outputs": [],
   "source": [
    "bit_and = cv2.bitwise_and(image1,image2)\n",
    "plt.figure()\n",
    "plt.imshow(bit_and) \n",
    "plt.show()"
   ]
  },
  {
   "cell_type": "markdown",
   "metadata": {
    "id": "3IX9KF3Fcpp1"
   },
   "source": [
    "In the above output, by using the AND function only the intersected regions in both images are displayed."
   ]
  },
  {
   "cell_type": "markdown",
   "metadata": {
    "id": "igun_LmJcrVo"
   },
   "source": [
    "## **Bitwise OR**\n",
    "\n",
    "This function calculates the disjunction of the pixels in both images. Here we perform an element-wise product of the array, we will not eliminate pixels but it merges both images.\n"
   ]
  },
  {
   "cell_type": "code",
   "execution_count": 7,
   "metadata": {
    "id": "TxPLF-LRctSD"
   },
   "outputs": [],
   "source": [
    "bit_or = cv2.bitwise_or(image1,image2)\n",
    "plt.figure()\n",
    "plt.imshow(bit_or) \n",
    "plt.show()"
   ]
  },
  {
   "cell_type": "markdown",
   "metadata": {
    "id": "TPOm6QT_cwxG"
   },
   "source": [
    "In the above output, we merged both images using the OR function"
   ]
  },
  {
   "cell_type": "markdown",
   "metadata": {
    "id": "kjDmtdEXcwqf"
   },
   "source": [
    "## **Bitwise NOT**\n",
    "\n",
    "This function inverts every bit of an array. It replaces the white pixels with black pixels and vice versa. This operation can be performed only on one image."
   ]
  },
  {
   "cell_type": "code",
   "execution_count": 9,
   "metadata": {
    "id": "I-TYJuboc2Ec"
   },
   "outputs": [],
   "source": [
    "bit_not = cv2.bitwise_not(image1)\n",
    "plt.figure()\n",
    "plt.imshow(bit_not) \n",
    "plt.show()"
   ]
  },
  {
   "cell_type": "markdown",
   "metadata": {
    "id": "tp-0D2E6c4S3"
   },
   "source": [
    "In the above execution, we have given input as a circle with white pixels and background with black pixels by using the NOT function to replace black pixels with white and vice versa."
   ]
  },
  {
   "cell_type": "markdown",
   "metadata": {
    "id": "8soRSsFyc6EO"
   },
   "source": [
    "## **Bitwise XOR**\n",
    "\n",
    "This function inverts the pixels which are intersected in image 1 & image 2 and the rest of the pixels remains the same. "
   ]
  },
  {
   "cell_type": "code",
   "execution_count": 10,
   "metadata": {
    "id": "1Ne4YYhnc8CE"
   },
   "outputs": [],
   "source": [
    "bit_xor = cv2.bitwise_xor(image1,image2)\n",
    "plt.figure()\n",
    "plt.imshow(bit_xor) \n",
    "plt.show()"
   ]
  },
  {
   "cell_type": "markdown",
   "metadata": {
    "id": "F09evk-XdFuH"
   },
   "source": [
    "As we can see in the above output, by using the XOR function it removes the intersected region, and the remaining pixels are displayed."
   ]
  },
  {
   "cell_type": "markdown",
   "metadata": {
    "id": "jqDB1l9I6Br-"
   },
   "source": [
    "#**Related Articles:**\n",
    "\n",
    "> * [Bitwise Operations On Images Using OpenCV](https://analyticsindiamag.com/how-to-implement-bitwise-operations-on-images-using-opencv/)\n",
    "\n",
    "> * [Face Swaping with OpenCV](https://analyticsindiamag.com/a-fun-project-on-building-a-face-swapping-application-with-opencv/)\n",
    "\n",
    "> * [Create Watermark Images with OpenCV](https://analyticsindiamag.com/how-to-create-a-watermark-on-images-using-opencv/)\n",
    "\n",
    "> * [Convert Image to Cartoon](https://analyticsindiamag.com/converting-an-image-to-a-cartoon/)\n",
    "\n",
    "> * [Sudoku Game with Deep Learning, OpenCV and Backtracking](https://analyticsindiamag.com/solve-sudoku-puzzle-using-deep-learning-opencv-and-backtracking/)\n",
    "\n",
    "> * [Finding Waldo Game with OpenCV](https://analyticsindiamag.com/my-fun-project-with-opencv-finding-waldo-game/)\n",
    "\n"
   ]
  }
 ],
 "metadata": {
  "colab": {
   "collapsed_sections": [],
   "name": "1_Bitwise_Operation_using_OpenCV.ipynb",
   "provenance": []
  },
  "kernelspec": {
   "display_name": "Python 3",
   "language": "python",
   "name": "python3"
  }
 },
 "nbformat": 4,
 "nbformat_minor": 1
}
