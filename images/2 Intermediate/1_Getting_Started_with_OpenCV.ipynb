{
 "cells": [
  {
   "cell_type": "markdown",
   "metadata": {
    "id": "Q2KgHiVftKOK"
   },
   "source": [
    "# **OpenCV**"
   ]
  },
  {
   "cell_type": "markdown",
   "metadata": {
    "id": "WuS4CrOFtNDN"
   },
   "source": [
    "OpenCV is a powerful and versatile open-source library for Computer Vision tasks. It is supported in many languages, including Python, Java and C++. It is packed with more than 2500 algorithms to perform almost any Computer Vision task with just a single library. OpenCV is well known for its interactive windows and real-time processing capabilities. "
   ]
  },
  {
   "cell_type": "markdown",
   "metadata": {
    "id": "t6nEEJdct3-R"
   },
   "source": [
    "To read about it more, please refer [this](https://analyticsindiamag.com/getting-started-with-opencv-in-python/) article."
   ]
  },
  {
   "cell_type": "markdown",
   "metadata": {
    "id": "LMfzjBacuhu4"
   },
   "source": [
    "##**Installation**"
   ]
  },
  {
   "cell_type": "markdown",
   "metadata": {
    "id": "E-XK15Ujul1e"
   },
   "source": [
    "Install the library in your local machine to have fun with images and videos. Install OpenCV Python from the PyPi package. "
   ]
  },
  {
   "cell_type": "code",
   "execution_count": null,
   "metadata": {},
   "outputs": [],
   "source": [
    "!python -m pip install pip --upgrade --user -q --no-warn-script-location\n",
    "!python -m pip install numpy pandas seaborn matplotlib scipy statsmodels sklearn nltk gensim opencv-python --user -q --no-warn-script-location\n",
    "\n",
    "import IPython\n",
    "IPython.Application.instance().kernel.do_shutdown(True)\n"
   ]
  },
  {
   "cell_type": "markdown",
   "metadata": {
    "id": "oS1bCl3FvWjx"
   },
   "source": [
    "## **Read and Write an Image**"
   ]
  },
  {
   "cell_type": "markdown",
   "metadata": {
    "id": "_MQUNiR0vZju"
   },
   "source": [
    "Before starting the image processing, make sure that the working directory has an image. In OpenCV, an image can be read as a color or a grayscale image with corresponding flags. Read a coloured image with the `imread` method as shown below:"
   ]
  },
  {
   "cell_type": "code",
   "execution_count": null,
   "metadata": {
    "id": "Le016je6unhG"
   },
   "outputs": [],
   "source": [
    "import cv2\n",
    "import matplotlib.pyplot as plt\n",
    "# read an image in colour mode\n",
    "img = cv2.imread('daria.jpg', 1) "
   ]
  },
  {
   "cell_type": "markdown",
   "metadata": {
    "id": "dCe8_SlVwk6R"
   },
   "source": [
    "Argument 1 in the above imread method is a flag that directs that the image has to be read in colour. Flag 0 refers to grayscale image reading. The read image can be displayed in a window using imshow method."
   ]
  },
  {
   "cell_type": "code",
   "execution_count": null,
   "metadata": {
    "id": "EF3V5y50wiSy"
   },
   "outputs": [],
   "source": [
    "# display the image in a window\n",
    "plt.figure()\n",
    "plt.imshow(img) \n",
    "plt.show()  # "
   ]
  },
  {
   "cell_type": "markdown",
   "metadata": {
    "id": "ZE-rd1V6zBSD"
   },
   "source": [
    "OpenCV allows performing multiple inputs and outputs simultaneously through multiple windows. The waitKey method is used to inform OpenCV the time duration over which a window can be kept open. This method takes time as an argument in milliseconds. If 0 is provided as the argument, the user should close the window manually. It can be noted that the window has a name of its own. Therefore, when there comes a window into play, it must be named. Here, the window name is ‘Image Window’. destroyAllWindows method is used to force all the open windows to close at onc"
   ]
  },
  {
   "cell_type": "code",
   "execution_count": null,
   "metadata": {
    "id": "c1ljoEWqwnWS"
   },
   "outputs": [],
   "source": [
    "# To read the above image as a grayscale image,\n",
    "# read an image in grayscale mode\n",
    "img = cv2.imread('daria.jpg', 0)\n",
    "\n",
    "# display the image\n",
    "# display the image in a window\n",
    "plt.figure()\n",
    "plt.imshow(img) \n",
    "plt.show()  # "
   ]
  },
  {
   "cell_type": "markdown",
   "metadata": {
    "id": "BGEUXJnTzFmr"
   },
   "source": [
    "Write an image to the local directory using the imwrite method. The method takes two arguments: name of image about to be written and the read/processed image."
   ]
  },
  {
   "cell_type": "code",
   "execution_count": null,
   "metadata": {
    "id": "v3H3B5MAzHsQ"
   },
   "outputs": [],
   "source": [
    "# write the image\n",
    "# cv2.imwrite('daria_gray.jpg', img) "
   ]
  },
  {
   "cell_type": "markdown",
   "metadata": {
    "id": "LS-13e83ztKF"
   },
   "source": [
    "## **Draw Shapes in an Image**"
   ]
  },
  {
   "cell_type": "markdown",
   "metadata": {
    "id": "f6oKVXGgzx9Q"
   },
   "source": [
    "In OpenCV, shapes such as a line, arrowed line, circle, rectangle, ellipse and polygons can be drawn over an image. Start and end coordinates, color of the shape, thickness of the border line are the common parameters in drawing a shape. It should be noted that OpenCV supports colours in BGR format, in contrast to most libraries such as Matplotlib and Seaborn where they support colours in RGB format."
   ]
  },
  {
   "cell_type": "code",
   "execution_count": null,
   "metadata": {
    "id": "JMSuISTazuBm"
   },
   "outputs": [],
   "source": [
    "# read a coloured image\n",
    "img = cv2.imread('mason.jpg', 1)\n",
    "print(img.shape) "
   ]
  },
  {
   "cell_type": "markdown",
   "metadata": {
    "id": "V8znw8E40Olz"
   },
   "source": [
    "Draw a blue coloured circle and a red coloured rectangle on top of it. "
   ]
  },
  {
   "cell_type": "code",
   "execution_count": null,
   "metadata": {
    "id": "AFQ_0SDg0PBZ"
   },
   "outputs": [],
   "source": [
    "img = cv2.imread('mason.jpg', 1)\n",
    "\n",
    "# draw a green vertical line in it\n",
    "# arguments: image, start, end, colour, thickness\n",
    "img = cv2.line(img, (50,100), (50,300), (0,255,0), 5) \n",
    "\n",
    "# draw a blue circle on it\n",
    "# arguments: image, centre, radius, colour, thickness\n",
    "img = cv2.circle(img, (150,250), 60, (255,0,0), 5)\n",
    "\n",
    "# draw a red rectangle on it\n",
    "# arguments: image, diagonal_start, diagonal_end, colour, thickness\n",
    "img = cv2.rectangle(img, (300,140), (400,270), (0,0,255), 5)\n",
    "\n",
    "# display the image\n",
    "# display the image in a window\n",
    "plt.figure()\n",
    "plt.imshow(img) \n",
    "plt.show()  # \n",
    "\n",
    "# Shapes on image"
   ]
  },
  {
   "cell_type": "markdown",
   "metadata": {
    "id": "y7PwSHDz0W85"
   },
   "source": [
    "## **Write Text on an image**\n",
    "\n",
    "Text can be written on an image. Its location, size, font and colour can be customized as per the user’s wish. "
   ]
  },
  {
   "cell_type": "code",
   "execution_count": null,
   "metadata": {
    "id": "sHU0lRME0YrT"
   },
   "outputs": [],
   "source": [
    "img = cv2.imread('senjuti.jpg')\n",
    "# display the  Original image without Text\n",
    "plt.figure()\n",
    "plt.imshow(img) \n",
    "plt.show()  #  \n",
    "# add text on the image\n",
    "# arguments: image, text, start_location, font, font_size, colour, thickness\n",
    "text_image = cv2.putText(img, 'I love Colours', (40,50), cv2.FONT_HERSHEY_SIMPLEX, 1, (0,0,255),2)\n",
    "# display the image with Text in a new Window\n",
    "# display the image in a window\n",
    "plt.figure()\n",
    "plt.imshow(text_image) \n",
    "plt.show()  # "
   ]
  },
  {
   "cell_type": "markdown",
   "metadata": {
    "id": "SvxmZzbt04uZ"
   },
   "source": [
    "## **Colour Analysis on an Image**"
   ]
  },
  {
   "cell_type": "markdown",
   "metadata": {
    "id": "gNVTwoDW07ta"
   },
   "source": [
    "We discussed that colour images in OpenCV are read and processed in BGR colour format. An image can be split into three separate images for each of the Blue, Green and Red channels. On the other hand, the split image can be back to original colour or different channel combinations as shown in the example below."
   ]
  },
  {
   "cell_type": "code",
   "execution_count": null,
   "metadata": {
    "id": "tiQedSZr05su"
   },
   "outputs": [],
   "source": [
    "# read an image\n",
    "img = cv2.imread('daria.jpg', 1)\n",
    "\n",
    "# split the colour image and merge back\n",
    "B, G, R = cv2.split(img)\n",
    "img_BGR = cv2.merge((B,G,R))\n",
    "img_RGB = cv2.merge((R,G,B))\n",
    "img_BRG = cv2.merge((B,R,G))\n",
    "\n",
    "# display the merged images\n",
    "# display the image in a window\n",
    "plt.figure()\n",
    "plt.imshow(img_BGR) \n",
    "plt.show()\n",
    "plt.imshow(img_BGR) \n",
    "plt.show()\n",
    "plt.imshow(img_BRG) \n",
    "plt.show()  # "
   ]
  },
  {
   "cell_type": "markdown",
   "metadata": {
    "id": "Z1-ZDuaq1AgJ"
   },
   "source": [
    "## **Alterations in Images**"
   ]
  },
  {
   "cell_type": "markdown",
   "metadata": {
    "id": "f98JABq21Hfn"
   },
   "source": [
    "A portion of an image can be extracted or replaced with a similar-sized image patch or any simple math alterations similar to that. Here, we perform some replacements in an image with its own sub-portion in an example."
   ]
  },
  {
   "cell_type": "code",
   "execution_count": null,
   "metadata": {
    "id": "k1YwJpws1Dve"
   },
   "outputs": [],
   "source": [
    "# coffee cup alteration\n",
    "img = cv2.imread('brooke.jpg')\n",
    "\n",
    "# extract a portion of the image\n",
    "coffee = img[150:235,200:300]\n",
    "alter = img.copy()\n",
    "\n",
    "# perform multiple alterations\n",
    "alter[0:85,0:100] = coffee\n",
    "alter[85:170,0:100] = coffee\n",
    "alter[170:255,0:100] = coffee\n",
    "alter[20:105,220:320] = coffee\n",
    "\n",
    "# display the Original image\n",
    "plt.figure()\n",
    "plt.imshow(img) \n",
    "plt.show()  #  # display the altered image\n",
    "plt.figure()\n",
    "plt.imshow(alter) \n",
    "plt.show()  #  "
   ]
  },
  {
   "cell_type": "markdown",
   "metadata": {
    "id": "JPmXIUWt3G8A"
   },
   "source": [
    "## **Merging Multiple Images**"
   ]
  },
  {
   "cell_type": "markdown",
   "metadata": {
    "id": "QPZMNOFh3LP_"
   },
   "source": [
    "Two or more images can be merged either by simple addition or by weighted addition. However, adding together images should be the same size and have the same number of channels. "
   ]
  },
  {
   "cell_type": "code",
   "execution_count": null,
   "metadata": {
    "id": "yolTGROs3H9Z"
   },
   "outputs": [],
   "source": [
    "# read two images and resize them\n",
    "img_1 = cv2.imread('xuan.jpg', 1)\n",
    "img_1 = cv2.resize(img_1, (320,225))\n",
    "img_2 = cv2.imread('daria.jpg',1)\n",
    "img_2 = cv2.resize(img_2, (320,225))\n",
    "\n",
    "# display original images\n",
    "plt.figure()\n",
    "plt.imshow(img_1) \n",
    "plt.show()  #  \n",
    "plt.figure()\n",
    "plt.imshow(img_2) \n",
    "plt.show()  #  "
   ]
  },
  {
   "cell_type": "code",
   "execution_count": null,
   "metadata": {
    "id": "8gz_DcTn3aaC"
   },
   "outputs": [],
   "source": [
    "# simple addition\n",
    "simple = cv2.add(img_1, img_2)\n",
    "plt.figure()\n",
    "plt.imshow(simple) \n",
    "plt.show()  #  "
   ]
  },
  {
   "cell_type": "code",
   "execution_count": null,
   "metadata": {
    "id": "ANvcHYdS3dPh"
   },
   "outputs": [],
   "source": [
    "# weighted addition\n",
    "weight_70 = cv2.addWeighted(img_1, 0.7, img_2, 0.3, 0)\n",
    "weight_30 = cv2.addWeighted(img_1, 0.3, img_2, 0.7, 0)\n",
    "plt.figure()\n",
    "plt.imshow(weight_70) \n",
    "plt.show()  #  \n",
    "plt.figure()\n",
    "plt.imshow(weight_30) \n",
    "plt.show()"
   ]
  },
  {
   "cell_type": "markdown",
   "metadata": {
    "id": "jqDB1l9I6Br-"
   },
   "source": [
    "#**Related Articles:**\n",
    "\n",
    "> * [Getting started with OpenCV]((https://analyticsindiamag.com/getting-started-with-opencv-in-python/))\n",
    "\n"
   ]
  }
 ],
 "metadata": {
  "colab": {
   "authorship_tag": "ABX9TyOrMwDTdG6NzDKGlPlvM9ZY",
   "collapsed_sections": [],
   "name": "1_Getting_Started_with_OpenCV.ipynb",
   "provenance": []
  },
  "kernelspec": {
   "display_name": "Python 3",
   "name": "python3"
  },
  "language_info": {
   "name": "python"
  }
 },
 "nbformat": 4,
 "nbformat_minor": 2
}
