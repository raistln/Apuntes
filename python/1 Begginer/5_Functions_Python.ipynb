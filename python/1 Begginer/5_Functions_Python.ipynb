{
 "cells": [
  {
   "cell_type": "markdown",
   "metadata": {
    "id": "A6m2yTLFgU2B"
   },
   "source": [
    "# **Functions in Python**"
   ]
  },
  {
   "cell_type": "markdown",
   "metadata": {
    "id": "l18ZdA56jyiK"
   },
   "source": [
    "A Function in Python is a piece of code which runs when it is referenced. It is used to utilize the code in more than one place in a program. It is also called method or procedure. Python provides many inbuilt functions like `print()`, `input()`,` compile()`, `exec()`, etc. but it also gives freedom to create your own functions."
   ]
  },
  {
   "cell_type": "code",
   "execution_count": null,
   "metadata": {
    "id": "ucNza0Pbjeqs"
   },
   "outputs": [],
   "source": [
    "def fibonacci_function_example(number_limit):\n",
    "  \"\"\"Generate a Fibonacci series up to number_limit.\n",
    "  The first statement of the function body can optionally be a string literal; this string\n",
    "  literal is the function’s documentation string, or docstring. There are tools which use\n",
    "  docstrings to automatically produce online or printed documentation, or to let the user\n",
    "  interactively browse through code; it’s good practice to include docstrings in code that you\n",
    "  write, so make a habit of it.\n",
    "  \"\"\"\n",
    "\n",
    "  # The execution of a function introduces a new symbol table used for the local variables of the\n",
    "  # function. More precisely, all variable assignments in a function store the value in the local\n",
    "  # symbol table; whereas variable references first look in the local symbol table, then in the\n",
    "  # local symbol tables of enclosing functions, then in the global symbol table, and finally in\n",
    "  # the table of built-in names. Thus, global variables cannot be directly assigned a value\n",
    "  # within a function (unless named in a global statement), although they may be referenced.\n",
    "  fibonacci_list = []\n",
    "  previous_number, current_number = 0, 1\n",
    "  while previous_number < number_limit:\n",
    "      # The statement result.append(a) calls a method of the list object result. A method is a\n",
    "      # function that ‘belongs’ to an object and is named obj.methodname, where obj is some\n",
    "      # object (this may be an expression), and methodname is the name of a method that is\n",
    "      # defined by the object’s type. Different types define different methods. Methods of\n",
    "      # different types may have the same name without causing ambiguity. (It is possible to\n",
    "      # define your own object types and methods, using classes, see Classes) The method\n",
    "      # append() shown in the example is defined for list objects; it adds a new element at\n",
    "      # the end of the list. In this example it is equivalent to result = result + [a], but\n",
    "      # more efficient.\n",
    "      fibonacci_list.append(previous_number)\n",
    "      # This is multiple assignment statement. We make current number to be previous one and the\n",
    "      # sum of previous and current to be a new current.\n",
    "      previous_number, current_number = current_number, previous_number + current_number\n",
    "\n",
    "  # The return statement returns with a value from a function. return without an expression\n",
    "  # argument returns None. Falling off the end of a function also returns None.\n",
    "  return fibonacci_list"
   ]
  },
  {
   "cell_type": "code",
   "execution_count": null,
   "metadata": {
    "id": "93W9yZsFjhfZ"
   },
   "outputs": [],
   "source": [
    "# Now call the function we just defined.\n",
    "print(fibonacci_function_example(300))# == [0, 1, 1, 2, 3, 5, 8, 13, 21, 34, 55, 89, 144, 233]\n",
    "\n",
    "# A function definition introduces the function name in the current symbol table. The value of\n",
    "# the function name has a type that is recognized by the interpreter as a user-defined function.\n",
    "# This value can be assigned to another name which can then also be used as a function. This\n",
    "# serves as a general renaming mechanism\n",
    "print(\"--------------------------------------------------------------\")\n",
    "fibonacci_function_clone = fibonacci_function_example\n",
    "print(fibonacci_function_clone(300))# == [0, 1, 1, 2, 3, 5, 8, 13, 21, 34, 55, 89, 144, 233]"
   ]
  },
  {
   "cell_type": "code",
   "execution_count": null,
   "metadata": {
    "id": "frWOc-Kaj43O"
   },
   "outputs": [],
   "source": [
    "# In Python, functions are first class citizens, they are objects and that means we can do a\n",
    "# lot of useful stuff with them.\n",
    "\n",
    "# Assign functions to variables.\n",
    "\n",
    "def greet(name):\n",
    "    return 'Hello, ' + name\n",
    "\n",
    "greet_someone = greet\n",
    "\n",
    "print(greet_someone('John'))# == 'Hello, John'"
   ]
  },
  {
   "cell_type": "code",
   "execution_count": null,
   "metadata": {
    "id": "vZmaoZUfkCmH"
   },
   "outputs": [],
   "source": [
    "# Define functions inside other functions.\n",
    "\n",
    "def greet_again(name):\n",
    "    def get_message():\n",
    "        return 'Hello, '\n",
    "\n",
    "    result = get_message() + name\n",
    "    return result\n",
    "\n",
    "print(greet_again('John'))# == 'Hello, John'"
   ]
  },
  {
   "cell_type": "code",
   "execution_count": null,
   "metadata": {
    "id": "VmhHQTrTkF_R"
   },
   "outputs": [],
   "source": [
    "# Functions can be passed as parameters to other functions.\n",
    "\n",
    "def greet_one_more(name):\n",
    "    return 'Hello, ' + name\n",
    "\n",
    "def call_func(func):\n",
    "    other_name = 'John'\n",
    "    return func(other_name)\n",
    "\n",
    "print(call_func(greet_one_more))# == 'Hello, John'"
   ]
  },
  {
   "cell_type": "code",
   "execution_count": null,
   "metadata": {
    "id": "jLZoD3jPkIze"
   },
   "outputs": [],
   "source": [
    "# Functions can return other functions. In other words, functions generating other functions.\n",
    "\n",
    "def compose_greet_func():\n",
    "    def get_message():\n",
    "        return 'Hello there!'\n",
    "\n",
    "    return get_message\n",
    "\n",
    "greet_function = compose_greet_func()\n",
    "print(greet_function()) == 'Hello there!'"
   ]
  },
  {
   "cell_type": "code",
   "execution_count": null,
   "metadata": {
    "id": "AUmWzY1_kNW3"
   },
   "outputs": [],
   "source": [
    "# Inner functions have access to the enclosing scope.\n",
    "\n",
    "# More commonly known as a closure. A very powerful pattern that we will come across while\n",
    "# building decorators. Another thing to note, Python only allows read access to the outer\n",
    "# scope and not assignment. Notice how we modified the example above to read a \"name\" argument\n",
    "# from the enclosing scope of the inner function and return the new function.\n",
    "\n",
    "def compose_greet_func_with_closure(name):\n",
    "    def get_message():\n",
    "        return 'Hello there, ' + name + '!'\n",
    "\n",
    "    return get_message\n",
    "\n",
    "greet_with_closure = compose_greet_func_with_closure('John')\n",
    "\n",
    "print(greet_with_closure())# == 'Hello there, John!'"
   ]
  },
  {
   "cell_type": "markdown",
   "metadata": {
    "id": "VGzgaAZVj4Sp"
   },
   "source": [
    "## **Scopes of Variables inside Function**"
   ]
  },
  {
   "cell_type": "markdown",
   "metadata": {
    "id": "4zassRICnfW3"
   },
   "source": [
    "A NAMESPACE is a mapping from names to objects. Most namespaces are currently implemented as Python\n",
    "dictionaries, but that’s normally not noticeable in any way (except for performance), and it may\n",
    "change in the future. Examples of namespaces are: the set of built-in names (containing functions\n",
    "such as abs(), and built-in exception names); the global names in a module; and the local names\n",
    "in a function invocation. In a sense the set of attributes of an object also form a namespace.\n",
    "The important thing to know about namespaces is that there is absolutely no relation between names\n",
    "in different namespaces; for instance, two different modules may both define a function maximize\n",
    "without confusion — users of the modules must prefix it with the module name.\n",
    "By the way, we use the word attribute for any name following a dot — for example, in the expression\n",
    "z.real, real is an attribute of the object z. Strictly speaking, references to names in modules are\n",
    "attribute references: in the expression modname.func_name, modname is a module object and func_name\n",
    "is an attribute of it. In this case there happens to be a straightforward mapping between the\n",
    "module’s attributes and the global names defined in the module: they share the same namespace!\n",
    "A SCOPE is a textual region of a Python program where a namespace is directly accessible.\n",
    "“Directly accessible” here means that an unqualified reference to a name attempts to find the name\n",
    "in the namespace.\n",
    "Although scopes are determined statically, they are used dynamically. At any time during execution,\n",
    "there are at least three nested scopes whose namespaces are directly accessible:\n",
    "- the innermost scope, which is searched first, contains the local names.\n",
    "- the scopes of any enclosing functions, which are searched starting with the nearest enclosing\n",
    "scope, contains non-local, but also non-global names.\n",
    "- the next-to-last scope contains the current module’s global names.\n",
    "- the outermost scope (searched last) is the namespace containing built-in names.\n",
    "BE CAREFUL!!!\n",
    "-------------\n",
    "Changing global or nonlocal variables from within an inner function might be a BAD\n",
    "practice and might lead to harder debugging and to more fragile code! Do this only if you know\n",
    "what you're doing."
   ]
  },
  {
   "cell_type": "code",
   "execution_count": null,
   "metadata": {
    "id": "SxkbcHGAkx58"
   },
   "outputs": [],
   "source": [
    "\n",
    "# pylint: disable=invalid-name\n",
    "test_variable = 'initial global value'\n",
    "\n",
    "\n",
    "def test_function_scopes():\n",
    "    \"\"\"Scopes and Namespaces Example\"\"\"\n",
    "\n",
    "    # This is an example demonstrating how to reference the different scopes and namespaces, and\n",
    "    # how global and nonlocal affect variable binding:\n",
    "\n",
    "    # pylint: disable=redefined-outer-name\n",
    "    test_variable = 'initial value inside test function'\n",
    "\n",
    "# On this level currently we have access to local for test_function_scopes() function variable.\n",
    "print(test_variable)# == 'initial value inside test function'"
   ]
  },
  {
   "cell_type": "code",
   "execution_count": null,
   "metadata": {
    "id": "C9N--r8HkAJc"
   },
   "outputs": [],
   "source": [
    "def do_local():\n",
    "    # Create variable that is only accessible inside current do_local() function.\n",
    "    # pylint: disable=redefined-outer-name\n",
    "    test_variable = 'local value'\n",
    "    return test_variable\n",
    "def test():\n",
    "  test_variable = \"Testing\"\n",
    "  print(test_variable)\n",
    "  def do_nonlocal():\n",
    "      # Address the variable from outer scope and try to change it.\n",
    "      # pylint: disable=redefined-outer-name\n",
    "      nonlocal test_variable\n",
    "      test_variable = 'nonlocal value'\n",
    "      return test_variable\n",
    "  do_nonlocal()\n",
    "\n",
    "def do_global():\n",
    "    # Address the variable from very global scope and try to change it.\n",
    "    # pylint: disable=redefined-outer-name,global-statement\n",
    "    global test_variable\n",
    "    test_variable = 'global value'\n",
    "    return test_variable"
   ]
  },
  {
   "cell_type": "code",
   "execution_count": null,
   "metadata": {
    "id": "psnF0wUumXfG"
   },
   "outputs": [],
   "source": [
    "# Do local assignment.\n",
    "# It doesn't change global variable and variable from test_function_scopes() scope.\n",
    "do_local()\n",
    "print(test_variable)# == 'initial value inside test function'\n",
    "print(\"--------------------------------------------------------------\")\n",
    "\n",
    "# Do non local assignment.\n",
    "# It doesn't change global variable but it does change variable\n",
    "# from test_function_scopes() function scope.\n",
    "test()\n",
    "print(test_variable)# == 'nonlocal value'\n",
    "print(\"--------------------------------------------------------------\")\n",
    "\n",
    "# Do global assignment.\n",
    "# This one changes global variable but doesn't change variable from\n",
    "# test_function_scopes() function scope.\n",
    "do_global()\n",
    "print(test_variable)# == 'nonlocal value'"
   ]
  },
  {
   "cell_type": "code",
   "execution_count": null,
   "metadata": {
    "id": "V-eGsBYQmjqu"
   },
   "outputs": [],
   "source": [
    "\"\"\"Testing global variable access from within a function\"\"\"\n",
    "# Global value of test_variable has been already changed by do_global() function in previous\n",
    "# test so let's check that.\n",
    "# pylint: disable=global-statement\n",
    "global test_variable\n",
    "print(test_variable)#== 'global value'\n",
    "\n",
    "# On this example you may see how accessing and changing global variables from within inner\n",
    "# functions might make debugging more difficult and code to be less predictable. Since you\n",
    "# might have expected that test_variable should still be equal to 'initial global value' but\n",
    "# it was changed by \"someone\" and you need to know about the CONTEXT of who had changed that.\n",
    "# So once again access global and non local scope only if you know what you're doing otherwise\n",
    "# it might be considered as bad practice."
   ]
  },
  {
   "cell_type": "markdown",
   "metadata": {
    "id": "GovXlDW5n8CU"
   },
   "source": [
    "## **Default Keyword Argument**"
   ]
  },
  {
   "cell_type": "code",
   "execution_count": null,
   "metadata": {
    "id": "76-0K5UxnirW"
   },
   "outputs": [],
   "source": [
    "# The most useful form is to specify a default value for one or more arguments. This creates a\n",
    "# function that can be called with fewer arguments than it is defined to allow.\n",
    "def power_of(number, power=2):\n",
    "  \"\"\" Raises number to specific power.\n",
    "  You may notice that by default the function raises number to the power of two.\n",
    "  \"\"\"\n",
    "  return number ** power\n",
    "\n",
    "\"\"\"Test default function arguments\"\"\"\n",
    "\n",
    "# This function power_of can be called in several ways because it has default value for\n",
    "# the second argument. First we may call it omitting the second argument at all.\n",
    "print(power_of(3))# == 9\n",
    "# We may also want to override the second argument by using the following function calls.\n",
    "print(power_of(3, 2))# == 9\n",
    "print(power_of(3, 3))# == 27"
   ]
  },
  {
   "cell_type": "markdown",
   "metadata": {
    "id": "y2M3ud2VoH9H"
   },
   "source": [
    "## **Keyword Argument**"
   ]
  },
  {
   "cell_type": "code",
   "execution_count": null,
   "metadata": {
    "id": "9ktNnFrvoL_b"
   },
   "outputs": [],
   "source": [
    "def parrot(voltage, state='a stiff', action='voom', parrot_type='Norwegian Blue'):\n",
    "    \"\"\"Example of multi-argument function\n",
    "    This function accepts one required argument (voltage) and three optional arguments\n",
    "    (state, action, and type).\n",
    "    \"\"\"\n",
    "\n",
    "    message = 'This parrot wouldn\\'t ' + action + ' '\n",
    "    message += 'if you put ' + str(voltage) + ' volts through it. '\n",
    "    message += 'Lovely plumage, the ' + parrot_type + '. '\n",
    "    message += 'It\\'s ' + state + '!'\n",
    "\n",
    "    return message\n",
    "\n",
    "\"\"\"Test calling function with specifying keyword arguments\"\"\"\n",
    "\n",
    "# The parrot function accepts one required argument (voltage) and three optional arguments\n",
    "# (state, action, and type). This function can be called in any of the following ways:\n",
    "\n",
    "message = (\n",
    "    \"This parrot wouldn't voom if you put 1000 volts through it. \"\n",
    "    \"Lovely plumage, the Norwegian Blue. \"\n",
    "    \"It's a stiff!\"\n",
    ")\n",
    "print(\"--------------------------------------------------------------\")\n",
    "\n",
    "# 1 positional argument\n",
    "print(parrot(1000))# == message\n",
    "# 1 keyword argument\n",
    "print(parrot(voltage=1000))# == message\n",
    "print(\"--------------------------------------------------------------\")\n",
    "\n",
    "message = (\n",
    "    \"This parrot wouldn't VOOOOOM if you put 1000000 volts through it. \"\n",
    "    \"Lovely plumage, the Norwegian Blue. \"\n",
    "    \"It's a stiff!\"\n",
    ")\n",
    "# 2 keyword arguments\n",
    "print(parrot(voltage=1000000, action='VOOOOOM'))# == message\n",
    "# 2 keyword arguments\n",
    "print(parrot(action='VOOOOOM', voltage=1000000))# == message\n",
    "print(\"--------------------------------------------------------------\")\n",
    "\n",
    "# 3 positional arguments\n",
    "message = (\n",
    "    \"This parrot wouldn't jump if you put 1000000 volts through it. \"\n",
    "    \"Lovely plumage, the Norwegian Blue. \"\n",
    "    \"It's bereft of life!\"\n",
    ")\n",
    "print(parrot(1000000, 'bereft of life', 'jump'))#== message\n",
    "print(\"--------------------------------------------------------------\")\n",
    "\n",
    "# 1 positional, 1 keyword\n",
    "message = (\n",
    "    \"This parrot wouldn't voom if you put 1000 volts through it. \"\n",
    "    \"Lovely plumage, the Norwegian Blue. \"\n",
    "    \"It's pushing up the daisies!\"\n",
    ")\n",
    "print(parrot(1000, state='pushing up the daisies'))# == message"
   ]
  },
  {
   "cell_type": "code",
   "execution_count": null,
   "metadata": {
    "id": "R8c0uwXXoDeQ"
   },
   "outputs": [],
   "source": [
    "# But all the following calls would be invalid.\n",
    "\n",
    "# Required argument missing.\n",
    "parrot() #Gives Error"
   ]
  },
  {
   "cell_type": "code",
   "execution_count": null,
   "metadata": {
    "id": "sJXRpsCyoJeH"
   },
   "outputs": [],
   "source": [
    "# But all the following calls would be invalid.\n",
    "\n",
    "# Non-keyword argument after a keyword argument.\n",
    "# parrot(voltage=5.0, 'dead')\n",
    "\n",
    "parrot(110, voltage=220)#GivesError"
   ]
  },
  {
   "cell_type": "code",
   "execution_count": null,
   "metadata": {
    "id": "47qwu1qkuYwd"
   },
   "outputs": [],
   "source": [
    "# unknown keyword argument\n",
    "parrot(actor='John Cleese') #Gives Error"
   ]
  },
  {
   "cell_type": "code",
   "execution_count": null,
   "metadata": {
    "id": "fVQhQZXNn9tH"
   },
   "outputs": [],
   "source": [
    "# In a function call, keyword arguments must follow positional arguments. All the keyword\n",
    "# arguments passed must match one of the arguments accepted by the function (e.g. actor is not\n",
    "# a valid argument for the parrot function), and their order is not important. This also\n",
    "# includes non-optional arguments (e.g. parrot(voltage=1000) is valid too). No argument may\n",
    "# receive a value more than once. Here’s an example that fails due to this restriction:\n",
    "def function_with_one_argument(number):\n",
    "    return number\n",
    "\n",
    "\n",
    "function_with_one_argument(0, number=0)#Gives Error"
   ]
  },
  {
   "cell_type": "code",
   "execution_count": null,
   "metadata": {
    "id": "LIXpjA_mukVY"
   },
   "outputs": [],
   "source": [
    "# When a final formal parameter of the form **name is present, it receives a dictionary\n",
    "# containing all keyword arguments except for those corresponding to a formal parameter.\n",
    "# This may be combined with a formal parameter of the form *name which receives a tuple\n",
    "# containing the positional arguments beyond the formal parameter list.\n",
    "# (*name must occur before **name.) For example, if we define a function like this:\n",
    "def test_function(first_param, *arguments, **keywords):\n",
    "    \"\"\"This function accepts its arguments through \"arguments\" tuple amd keywords dictionary.\"\"\"\n",
    "    print(first_param)# == 'first param'\n",
    "    print(arguments)# == ('second param', 'third param')\n",
    "    print(keywords)# == {\n",
    "        #'fourth_param_name': 'fourth named param',\n",
    "        #'fifth_param_name': 'fifth named param'\n",
    "    #}\n",
    "\n",
    "test_function(\n",
    "    'first param',\n",
    "    'second param',\n",
    "    'third param',\n",
    "    fourth_param_name='fourth named param',\n",
    "    fifth_param_name='fifth named param',\n",
    ")"
   ]
  },
  {
   "cell_type": "markdown",
   "metadata": {
    "id": "h_6Z_qepoMcN"
   },
   "source": [
    "## **Arbitary Argument List**"
   ]
  },
  {
   "cell_type": "code",
   "execution_count": null,
   "metadata": {
    "id": "VlRD1ysPopS8"
   },
   "outputs": [],
   "source": [
    "# The situation may occur when the arguments are already in a list or tuple but need to be\n",
    "# unpacked for a function call requiring separate positional arguments. For instance, the\n",
    "# built-in range() function expects separate start and stop arguments. If they are not\n",
    "# available separately, write the function call with the *-operator to unpack the arguments out\n",
    "# of a list or tuple:\n",
    "\n",
    "# Normal call with separate arguments:\n",
    "print(list(range(3, 6)))# == [3, 4, 5]\n",
    "\n",
    "# Call with arguments unpacked from a list.\n",
    "arguments_list = [3, 6]\n",
    "print(list(range(*arguments_list)))# == [3, 4, 5]\n",
    "\n",
    "# In the same fashion, dictionaries can deliver keyword arguments with the **-operator:\n",
    "def function_that_receives_names_arguments(first_word, second_word):\n",
    "    return first_word + ', ' + second_word + '!'\n",
    "\n",
    "arguments_dictionary = {'first_word': 'Hello', 'second_word': 'World'}\n",
    "print(function_that_receives_names_arguments(**arguments_dictionary))# == 'Hello, World!'"
   ]
  },
  {
   "cell_type": "markdown",
   "metadata": {
    "id": "KnNj9PXVoQD-"
   },
   "source": [
    "## **Unpacking Arbitary List**"
   ]
  },
  {
   "cell_type": "code",
   "execution_count": null,
   "metadata": {
    "id": "I7O78gPYov2U"
   },
   "outputs": [],
   "source": [
    "\"\"\"Arbitrary Argument Lists\"\"\"\n",
    "\n",
    "# When a final formal parameter of the form **name is present, it receives a dictionary\n",
    "# containing all keyword arguments except for those corresponding to a formal parameter.\n",
    "# This may be combined with a formal parameter of the form *name which receives a tuple\n",
    "# containing the positional arguments beyond the formal parameter list.\n",
    "# (*name must occur before **name.) For example, if we define a function like this:\n",
    "def test_function(first_param, *arguments):\n",
    "    \"\"\"This function accepts its arguments through \"arguments\" tuple amd keywords dictionary.\"\"\"\n",
    "    print(first_param)# == 'first param'\n",
    "    print(arguments)# == ('second param', 'third param')\n",
    "\n",
    "test_function('first param', 'second param', 'third param')\n",
    "\n",
    "# Normally, these variadic arguments will be last in the list of formal parameters, because\n",
    "# they scoop up all remaining input arguments that are passed to the function. Any formal\n",
    "# parameters which occur after the *args parameter are ‘keyword-only’ arguments, meaning that\n",
    "# they can only be used as keywords rather than positional arguments.\n",
    "def concat(*args, sep='/'):\n",
    "    return sep.join(args)\n",
    "\n",
    "print(concat('earth', 'mars', 'venus'))# == 'earth/mars/venus'\n",
    "print(concat('earth', 'mars', 'venus', sep='.')) #== 'earth.mars.venus'"
   ]
  },
  {
   "cell_type": "markdown",
   "metadata": {
    "id": "FO3aFRAOoU-R"
   },
   "source": [
    "## **Lambda Expressions**"
   ]
  },
  {
   "cell_type": "code",
   "execution_count": null,
   "metadata": {
    "id": "d18CQhk1ozRn"
   },
   "outputs": [],
   "source": [
    "\"\"\"Lambda Expressions\"\"\"\n",
    "\n",
    "# This function returns the sum of its two arguments: lambda a, b: a+b\n",
    "# Like nested function definitions, lambda functions can reference variables from the\n",
    "# containing scope.\n",
    "\n",
    "def make_increment_function(delta):\n",
    "    \"\"\"This example uses a lambda expression to return a function\"\"\"\n",
    "    return lambda number: number + delta\n",
    "\n",
    "increment_function = make_increment_function(42)\n",
    "\n",
    "print(increment_function(0))#) == 42\n",
    "print(increment_function(1))# == 43\n",
    "print(increment_function(2))# == 44\n",
    "\n",
    "# Another use of lambda is to pass a small function as an argument.\n",
    "pairs = [(1, 'one'), (2, 'two'), (3, 'three'), (4, 'four')]\n",
    "# Sort pairs by text key.\n",
    "pairs.sort(key=lambda pair: pair[1])\n",
    "\n",
    "print(pairs)#) == [(4, 'four'), (1, 'one'), (3, 'three'), (2, 'two')]"
   ]
  },
  {
   "cell_type": "markdown",
   "metadata": {
    "id": "OBNAYg5uo95j"
   },
   "source": [
    "## **Documentation Strings**"
   ]
  },
  {
   "cell_type": "code",
   "execution_count": null,
   "metadata": {
    "id": "KTNNbr5wpAt-"
   },
   "outputs": [],
   "source": [
    "\n",
    "def do_nothing():\n",
    "    \"\"\"Do nothing, but document it.\n",
    "    No, really, it doesn't do anything.\n",
    "    \"\"\"\n",
    "    pass\n",
    "\n",
    "# The Python parser does not strip indentation from multi-line string literals in Python, so\n",
    "# tools that process documentation have to strip indentation if desired. This is done using the\n",
    "# following convention. The first non-blank line after the first line of the string determines\n",
    "# the amount of indentation for the entire documentation string. (We can’t use the first line\n",
    "# since it is generally adjacent to the string’s opening quotes so its indentation is not\n",
    "# apparent in the string literal.) Whitespace “equivalent” to this indentation is then stripped\n",
    "# from the start of all lines of the string. Lines that are indented less should not occur, but\n",
    "# if they occur all their leading whitespace should be stripped. Equivalence of whitespace\n",
    "# should be tested after expansion of tabs (to 8 spaces, normally).\n",
    "\n",
    "print(do_nothing.__doc__ )#== \"\"\"Do nothing, but document it.\n",
    "#No, really, it doesn't do anything.\n",
    "#\"\"\""
   ]
  },
  {
   "cell_type": "markdown",
   "metadata": {
    "id": "wVmIac6_oZVl"
   },
   "source": [
    "## **Function Annotation**"
   ]
  },
  {
   "cell_type": "markdown",
   "metadata": {
    "id": "z5QqXIqkpJcG"
   },
   "source": [
    "Function annotations are completely optional metadata information about the types used\n",
    "by user-defined functions.\n",
    "Annotations are stored in the __annotations__ attribute of the function as a dictionary and have no\n",
    "effect on any other part of the function. Parameter annotations are defined by a colon after the\n",
    "parameter name, followed by an expression evaluating to the value of the annotation. Return\n",
    "annotations are defined by a literal ->, followed by an expression, between the parameter list and\n",
    "the colon denoting the end of the def statement."
   ]
  },
  {
   "cell_type": "code",
   "execution_count": null,
   "metadata": {
    "id": "iKsaKyLvoBQu"
   },
   "outputs": [],
   "source": [
    "def breakfast(ham: str, eggs: str = 'eggs') -> str:\n",
    "    \"\"\"Breakfast creator.\n",
    "    This function has a positional argument, a keyword argument, and the return value annotated.\n",
    "    \"\"\"\n",
    "    return ham + ' and ' + eggs\n",
    "print(breakfast.__annotations__)#== {'eggs': str, 'ham': str, 'return': str}"
   ]
  }
 ],
 "metadata": {
  "colab": {
   "authorship_tag": "ABX9TyMmdJwFrZO0+Y8zCKjyZTof",
   "collapsed_sections": [],
   "name": "4_Functions_Python.ipynb",
   "provenance": []
  },
  "kernelspec": {
   "display_name": "Python 3",
   "name": "python3"
  },
  "language_info": {
   "name": "python"
  }
 },
 "nbformat": 4,
 "nbformat_minor": 0
}
