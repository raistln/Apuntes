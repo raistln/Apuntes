{
 "cells": [
  {
   "cell_type": "markdown",
   "metadata": {
    "id": "EhNYta2o01Gh"
   },
   "source": [
    "# **OOPs in Python**"
   ]
  },
  {
   "cell_type": "markdown",
   "metadata": {
    "id": "OiUt074t0AZd"
   },
   "source": [
    "A Python programmer, be it a software developer or a machine learning engineer or something else, is expected to be familiar with object-oriented programming. Python‘s object-oriented programming system supports all the four fundamental features of a general OOPS framework: encapsulation, abstraction, inheritance and polymorphism. We will have a quick look and hands-on practice on these features in this tutorial."
   ]
  },
  {
   "cell_type": "markdown",
   "metadata": {
    "id": "KzfSg6bB0tXp"
   },
   "source": [
    "For more details, refer this [article](https://analyticsindiamag.com/object-oriented-programming-python/) ."
   ]
  },
  {
   "cell_type": "markdown",
   "metadata": {
    "id": "xG_WBRh-2MKA"
   },
   "source": [
    "## **Encapsulation**"
   ]
  },
  {
   "cell_type": "markdown",
   "metadata": {
    "id": "L0bNkxOu2Oza"
   },
   "source": [
    "Encapsulation is the process of making certain attributes inaccessible to their clients and can only be accessed through certain methods. The inaccessible attributes are called private attributes, and the process of making certain attributes private is called information hiding. Private attributes begin with two underscores. "
   ]
  },
  {
   "cell_type": "markdown",
   "metadata": {
    "id": "T7GwTy7q2Pt_"
   },
   "source": [
    "In the above Poetry class, we introduce a private attribute named ‘__discount’."
   ]
  },
  {
   "cell_type": "code",
   "execution_count": null,
   "metadata": {
    "id": "pTrtJz-U0s_g"
   },
   "outputs": [],
   "source": [
    "class Poetry():\n",
    "  def __init__(self, title, poems_count, author, price):\n",
    "    self.title = title\n",
    "    self.poems_count = poems_count\n",
    "    self.author = author\n",
    "    self.price = price\n",
    "    self.__discount = 0.20 \n",
    "  def __repr__(self):\n",
    "    return f'Poetry: {self.title} by {self.author}, price {self.price}'"
   ]
  },
  {
   "cell_type": "code",
   "execution_count": null,
   "metadata": {
    "id": "pdmWQ-UA2Whz"
   },
   "outputs": [],
   "source": [
    "poem_1 = Poetry('Leaves of Grass', 383, 'Walt Whitman', 600)\n",
    "print(poem_1.author)\n",
    "print(poem_1.title)\n",
    "print(poem_1.price)\n",
    "print(poem_1.__discount) "
   ]
  },
  {
   "cell_type": "markdown",
   "metadata": {
    "id": "0c73zEzu2e6q"
   },
   "source": [
    "Private attributes are accessed through methods called getter and setter. In the following code example, we make the price attribute private; we assign the discount attribute through a setter method and read the price attribute through a getter method."
   ]
  },
  {
   "cell_type": "code",
   "execution_count": null,
   "metadata": {
    "id": "EynBExn82aem"
   },
   "outputs": [],
   "source": [
    "class Poetry():\n",
    "   def __init__(self, title, poems_count, author, price):\n",
    "     self.title = title\n",
    "     self.poems_count = poems_count\n",
    "     self.author = author\n",
    "     self.__price = price\n",
    "     self.__discount = None\n",
    "\n",
    "   def set_discount(self, value):\n",
    "     self.__discount = value\n",
    "\n",
    "   def get_price(self):\n",
    "     if self.__discount is None:\n",
    "       return self.__price\n",
    "     else:\n",
    "       return self.__price * (1 - self.__discount)\n",
    "\n",
    "   def __repr__(self):\n",
    "     return f'Poetry: {self.title} by {self.author}, price {self.get_price()}' "
   ]
  },
  {
   "cell_type": "markdown",
   "metadata": {
    "id": "yJEY6zKh2qJa"
   },
   "source": [
    "Let’s create two objects of the same Poetry, one for retail purchase and another for bulk purchase. We assign the bulk purchase object with a discount of 30%."
   ]
  },
  {
   "cell_type": "code",
   "execution_count": null,
   "metadata": {
    "id": "lOJ98E0j2izX"
   },
   "outputs": [],
   "source": [
    "retail_purchase = Poetry('Leaves of Grass', 383, 'Walt Whitman', 600)\n",
    "bulk_purchase = Poetry('Leaves of Grass', 383, 'Walt Whitman', 600)\n",
    "# assign 30% discount to bulk purchase alone\n",
    "bulk_purchase.set_discount(0.30)\n",
    "\n",
    "print(retail_purchase.get_price())\n",
    "print(bulk_purchase.get_price())\n",
    "print(retail_purchase)\n",
    "print(bulk_purchase) "
   ]
  },
  {
   "cell_type": "markdown",
   "metadata": {
    "id": "K2LgPJ3x2xX7"
   },
   "source": [
    "## **Inheritance**"
   ]
  },
  {
   "cell_type": "markdown",
   "metadata": {
    "id": "L50gzMF23GKo"
   },
   "source": [
    "Inheritance is the ability of a class to inherit methods and/or attributes of another class. The inheriting class is called the subclass or the child class. The class from which methods and/or attributes are inherited is called the superclass or the parent class."
   ]
  },
  {
   "cell_type": "markdown",
   "metadata": {
    "id": "LHI79blb3QAX"
   },
   "source": [
    "For example:\n"
   ]
  },
  {
   "cell_type": "markdown",
   "metadata": {
    "id": "Vb38HUbg3Rdi"
   },
   "source": [
    "Our bookseller’s sales software is now appended with two more classes, a `Play` class and a `Novel` class. We can understand that whether a book comes under a Poetry or Play or Novel category, it might have some common attributes such as title and author, and common methods such as `get_price()` and `set_discount()`. It is a waste of time, effort and memory to rewrite all those codes again for each new class.\n",
    "\n",
    "Therefore, we create a superclass, `Book()`, from which other subclasses inherit common attributes and methods."
   ]
  },
  {
   "cell_type": "code",
   "execution_count": null,
   "metadata": {
    "id": "HErOr42x2tq5"
   },
   "outputs": [],
   "source": [
    "class Book():\n",
    "  def __init__(self, title, author, price):\n",
    "    self.title = title\n",
    "    self.author = author\n",
    "    self.__price = price\n",
    "    self.__discount = None\n",
    "\n",
    "  def set_discount(self, value):\n",
    "    self.__discount = value\n",
    "\n",
    "  def get_price(self):\n",
    "    if self.__discount is None:\n",
    "      return self.__price\n",
    "    else:\n",
    "      return self.__price * (1 - self.__discount) "
   ]
  },
  {
   "cell_type": "markdown",
   "metadata": {
    "id": "TiUtPrkX3c_R"
   },
   "source": [
    "Now, the already introduced Poetry class can be modified as below to inherit the Book class."
   ]
  },
  {
   "cell_type": "code",
   "execution_count": null,
   "metadata": {
    "id": "Nnv2xVqT3CeZ"
   },
   "outputs": [],
   "source": [
    "class Poetry(Book):\n",
    "  def __init__(self, title, poems_count, author, price):\n",
    "    super().__init__(title, author, price)\n",
    "    self.poems_count = poems_count\n",
    "\n",
    "  def __repr__(self):\n",
    "    return f'Poetry: {self.title} by {self.author}, price {self.get_price()}' "
   ]
  },
  {
   "cell_type": "markdown",
   "metadata": {
    "id": "vKe9cBZG3lum"
   },
   "source": [
    "To realize how inheritance works, we can instantiate a Poetry object, set a discount and get its price."
   ]
  },
  {
   "cell_type": "code",
   "execution_count": null,
   "metadata": {
    "id": "4ofadaJo3eTC"
   },
   "outputs": [],
   "source": [
    " poem_1 = Poetry('Leaves of Grass', 383, 'Walt Whitman', 600)\n",
    " print(poem_1)\n",
    " poem_1.set_discount(0.15)\n",
    " print(poem_1) "
   ]
  },
  {
   "cell_type": "markdown",
   "metadata": {
    "id": "Ey6IZ3Fm3pEr"
   },
   "source": [
    "Similar to Poetry class, two more subclasses are created to inherit from the Book class."
   ]
  },
  {
   "cell_type": "code",
   "execution_count": null,
   "metadata": {
    "id": "k8c203OI3okC"
   },
   "outputs": [],
   "source": [
    "class Play(Book):\n",
    "  def __init__(self, title, genre, author, price):\n",
    "    super().__init__(title, author, price)\n",
    "    self.genre = genre\n",
    "\n",
    "  def __repr__(self):\n",
    "    return f'{self.genre} Play: {self.title} by {self.author}, price {self.get_price()}'\n",
    "\n",
    "class Novel(Book):\n",
    "  def __init__(self, title, pages, author, price):\n",
    "    super().__init__(title, author, price)\n",
    "    self.pages = pages\n",
    "\n",
    "  def __repr__(self):\n",
    "    return f'Novel: {self.title} by {self.author}, price {self.get_price()}' "
   ]
  },
  {
   "cell_type": "markdown",
   "metadata": {
    "id": "sjABN2mU4Ryl"
   },
   "source": [
    "And we do a check to visualize how it works."
   ]
  },
  {
   "cell_type": "code",
   "execution_count": null,
   "metadata": {
    "id": "y1teV-jD3trQ"
   },
   "outputs": [],
   "source": [
    "play_1 = Play('Romeo and Juliet', 'Tragedy', 'William Shakespeare', 160)\n",
    "novel_1 = Novel('To kill a Mockingbird', 281, 'Harper Lee', 310)\n",
    "print(play_1)\n",
    "print(novel_1) "
   ]
  },
  {
   "cell_type": "markdown",
   "metadata": {
    "id": "vftAtAlB4Z_6"
   },
   "source": [
    "## **Polymorphism**\n",
    "\n"
   ]
  },
  {
   "cell_type": "markdown",
   "metadata": {
    "id": "yQJScP7G4blG"
   },
   "source": [
    "The word `polymorphism`is derived from the Greek language, meaning `‘something that takes different forms’`. Polymorphism is a subclass’s ability to customize a method as per need that is already present in its superclass. In other words, a subclass may either use a method in its superclass as such or modify it suitably whenever required. "
   ]
  },
  {
   "cell_type": "code",
   "execution_count": null,
   "metadata": {
    "id": "6sdjm-fy4UkI"
   },
   "outputs": [],
   "source": [
    "class Book():\n",
    "  def __init__(self, title, author, price):\n",
    "    self.title = title\n",
    "    self.author = author\n",
    "    self.__price = price\n",
    "    self.__discount = None\n",
    "\n",
    "  def set_discount(self, value):\n",
    "    self.__discount = value\n",
    "\n",
    "  def get_price(self):\n",
    "    if self.__discount is None:\n",
    "      return self.__price\n",
    "    else:\n",
    "      return self.__price * (1 - self.__discount)\n",
    "\n",
    "  def __repr__(self):\n",
    "    return f'{self.title} by {self.author}, price {self.get_price()}'\n",
    "\n",
    "class Poetry(Book):\n",
    "  def __init__(self, title, poems_count, author, price):\n",
    "    super().__init__(title, author, price)\n",
    "    self.poems_count = poems_count\n",
    "\n",
    "class Play(Book):\n",
    "  def __init__(self, title, genre, author, price):\n",
    "    super().__init__(title, author, price)\n",
    "    self.genre = genre\n",
    "\n",
    "  def __repr__(self):\n",
    "    return f'{self.genre} Play: {self.title} by {self.author}, price {self.get_price()}'\n",
    "\n",
    "class Novel(Book):\n",
    "  def __init__(self, title, pages, author, price):\n",
    "    super().__init__(title, author, price)\n",
    "    self.pages = pages "
   ]
  },
  {
   "cell_type": "markdown",
   "metadata": {
    "id": "ebUl9OIF41Bv"
   },
   "source": [
    "It can be seen that the Book superclass has a special method `__repr__`. Subclasses Poetry and Novel can use this method as such, so that whenever an object is printed, this method will be invoked. On the other hand, in the above example code, the Play subclass is defined with its own `__repr__` special method. By polymorphism, the Play subclass will invoke its own method by suppressing the same method available in its superclass."
   ]
  },
  {
   "cell_type": "code",
   "execution_count": null,
   "metadata": {
    "id": "daB5swaa4pTR"
   },
   "outputs": [],
   "source": [
    "poem_2 = Poetry('Milk and Honey', 179, 'Rupi Kaur', 320)\n",
    "play_2 = Play('An Ideal Husband', 'Comedy', 'Oscar Wilde', 240)\n",
    "novel_2 = Novel('The Alchemist', 161, 'Paulo Coelho', 180)\n",
    "\n",
    "print(poem_2)\n",
    "print(play_2)\n",
    "print(novel_2) "
   ]
  },
  {
   "cell_type": "markdown",
   "metadata": {
    "id": "kE6_2jIf464D"
   },
   "source": [
    "## **Abstraction**"
   ]
  },
  {
   "cell_type": "markdown",
   "metadata": {
    "id": "gnU5Uc_I5X08"
   },
   "source": [
    " Its main goal is to handle complexity by hiding unnecessary details from the user. That enables the user to implement more complex logic on top of the provided abstraction without understanding or even thinking about all the hidden complexity."
   ]
  },
  {
   "cell_type": "markdown",
   "metadata": {
    "id": "SdjQRKLX5Xu8"
   },
   "source": [
    "However, Python does implement abstraction but is is enabled by calling a magic method. If a method in a superclass is declared to be an abstract method, subclasses that inherit from the superclass must have their own versions of the said method. An abstract method in a superclass will never be invoked by its subclasses. But, the abstraction helps maintain a certain common structure in all of the subclasses. "
   ]
  },
  {
   "cell_type": "markdown",
   "metadata": {
    "id": "ZTZrM5W47Pr8"
   },
   "source": [
    "For example:"
   ]
  },
  {
   "cell_type": "code",
   "execution_count": null,
   "metadata": {
    "id": "omxNN6Oq4u1f"
   },
   "outputs": [],
   "source": [
    "from abc import ABC, abstractmethod\n",
    "class Book(ABC):\n",
    "  def __init__(self, title, author, price):\n",
    "    self.title = title\n",
    "    self.author = author\n",
    "    self.__price = price\n",
    "    self.__discount = None\n",
    "\n",
    "  def set_discount(self, value):\n",
    "    self.__discount = value\n",
    "\n",
    "  def get_price(self):\n",
    "    if self.__discount is None:\n",
    "      return self.__price\n",
    "    else:\n",
    "      return self.__price * (1 - self.__discount)\n",
    "\n",
    "  @abstractmethod\n",
    "  def __repr__(self):\n",
    "    return f'{self.title} by {self.author}, price {self.get_price()}'\n",
    "\n",
    "class Poetry(Book):\n",
    "  def __init__(self, title, poems_count, author, price):\n",
    "    super().__init__(title, author, price)\n",
    "    self.poems_count = poems_count\n",
    "\n",
    "class Play(Book):\n",
    "  def __init__(self, title, genre, author, price):\n",
    "    super().__init__(title, author, price)\n",
    "    self.genre = genre\n",
    "\n",
    "  def __repr__(self):\n",
    "    return f'{self.genre} Play: {self.title} by {self.author}, price {self.get_price()}' "
   ]
  },
  {
   "cell_type": "markdown",
   "metadata": {
    "id": "27oHd9mw8MyN"
   },
   "source": [
    "We intentionally miss here to define a `__repr__` method separately for Poetry subclass. "
   ]
  },
  {
   "cell_type": "code",
   "execution_count": null,
   "metadata": {
    "id": "nFsF4fEq7795"
   },
   "outputs": [],
   "source": [
    "play_3 = Play('Death of a Salesman', 'Tragedy', 'Arthur Miller', 240)\n",
    "poem_3 = Poetry('Life on Mars', 33, 'Tracy K. Smith', 100) "
   ]
  },
  {
   "cell_type": "markdown",
   "metadata": {
    "id": "-qLaCHdA8fie"
   },
   "source": [
    "We get a TypeError for the Poetry object!\n",
    "\n",
    "The correct implementation of an abstract class with an abstract method is as below:"
   ]
  },
  {
   "cell_type": "code",
   "execution_count": null,
   "metadata": {
    "id": "BoOqWa4c8XwJ"
   },
   "outputs": [],
   "source": [
    "from abc import ABC, abstractmethod\n",
    "\n",
    "class Book(ABC):\n",
    "  def __init__(self, title, author, price):\n",
    "    self.title = title\n",
    "    self.author = author\n",
    "    self.__price = price\n",
    "    self.__discount = None\n",
    "\n",
    "  def set_discount(self, value):\n",
    "    self.__discount = value\n",
    "\n",
    "  def get_price(self):\n",
    "    if self.__discount is None:\n",
    "      return self.__price\n",
    "    else:\n",
    "      return self.__price * (1 - self.__discount)\n",
    "\n",
    "  @abstractmethod\n",
    "  def __repr__(self):\n",
    "    return f'{self.title} by {self.author}, price {self.get_price()}'\n",
    "\n",
    "class Poetry(Book):\n",
    "  def __init__(self, title, poems_count, author, price):\n",
    "    super().__init__(title, author, price)\n",
    "    self.poems_count = poems_count\n",
    "\n",
    "  def __repr__(self):\n",
    "    return f'Poetry: {self.title} by {self.author}, {self.poems_count} poems, price {self.get_price()}'\n",
    "\n",
    "class Play(Book):\n",
    "  def __init__(self, title, genre, author, price):\n",
    "    super().__init__(title, author, price)\n",
    "    self.genre = genre\n",
    "\n",
    "  def __repr__(self):\n",
    "    return f'Play: {self.title} by {self.author}, {self.genre} genre, price {self.get_price()}'\n",
    "\n",
    "class Novel(Book):\n",
    "  def __init__(self, title, pages, author, price):\n",
    "    super().__init__(title, author, price)\n",
    "    self.pages = pages\n",
    "\n",
    "  def __repr__(self):\n",
    "    return f'Novel: {self.title} by {self.author}, {self.pages} pages, price {self.get_price()}' "
   ]
  },
  {
   "cell_type": "markdown",
   "metadata": {
    "id": "fTiQNQwF8xkS"
   },
   "source": [
    "Some example object instantiations can be:"
   ]
  },
  {
   "cell_type": "code",
   "execution_count": null,
   "metadata": {
    "id": "5IdNNvFA8vKl"
   },
   "outputs": [],
   "source": [
    "poem_3 = Poetry('Life on Mars', 33, 'Tracy K. Smith', 100)\n",
    "play_3 = Play('Death of a Salesman', 'Tragedy', 'Arthur Miller', 240)\n",
    "novel_3 = Novel('Peril at End House', 270, 'Agatha Christie', 210)\n",
    "\n",
    "print(poem_3)\n",
    "print(play_3)\n",
    "print(novel_3) "
   ]
  }
 ],
 "metadata": {
  "colab": {
   "authorship_tag": "ABX9TyMAjILkiNLOMUQLi/eQ/O5L",
   "collapsed_sections": [],
   "name": "7_OOPs in Python.ipynb",
   "provenance": [],
   "toc_visible": true
  },
  "kernelspec": {
   "display_name": "Python 3",
   "name": "python3"
  },
  "language_info": {
   "name": "python"
  }
 },
 "nbformat": 4,
 "nbformat_minor": 0
}
