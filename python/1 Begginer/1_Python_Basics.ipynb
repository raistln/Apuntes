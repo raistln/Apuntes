{
 "cells": [
  {
   "cell_type": "markdown",
   "metadata": {
    "id": "KmzKx85WFk-Q"
   },
   "source": [
    "# **What is Python?**"
   ]
  },
  {
   "cell_type": "markdown",
   "metadata": {
    "id": "h0c6sLxAFoXF"
   },
   "source": [
    "Python is a popular programming language. It was created in 1991 by Guido van Rossum.\n",
    "\n",
    "Python is an easy to learn, powerful programming language. It has efficient high-level data structures and a simple but effective approach to object-oriented programming. Python’s elegant syntax and dynamic typing, together with its interpreted nature, make it an ideal language for scripting and rapid application development in many areas on most platforms."
   ]
  },
  {
   "cell_type": "markdown",
   "metadata": {
    "id": "sX_JTB8fFvk7"
   },
   "source": [
    "# **Why Python?**"
   ]
  },
  {
   "cell_type": "markdown",
   "metadata": {
    "id": "OQH73GPMF0NB"
   },
   "source": [
    "*       Python works on different platforms (Windows, Mac, Linux, Raspberry Pi, etc)\n",
    "*    Python has a simple syntax similar to the English language.\n",
    "*    Python has syntax that allows developers to write programs with fewer lines than some other programming languages.\n",
    "*    Python runs on an interpreter system, meaning that code can be executed as soon as it is written. This means that prototyping can be very quick.\n",
    "\n",
    "*   Python can be treated in a procedural way, an object-orientated way or a functional way.\n",
    "\n",
    "\n",
    "\n",
    "   \n",
    "   \n",
    "   \n",
    "    "
   ]
  },
  {
   "cell_type": "markdown",
   "metadata": {
    "id": "jCkqTDoGGa6G"
   },
   "source": [
    "# **Python Syntax**"
   ]
  },
  {
   "cell_type": "markdown",
   "metadata": {
    "id": "cqkM33GDMo1C"
   },
   "source": [
    "## **Python Indentation**"
   ]
  },
  {
   "cell_type": "markdown",
   "metadata": {
    "id": "GDiLumhnMs0g"
   },
   "source": [
    "Python uses indentation to indicate a block of code. It throws an indentation error, if you don't follow it.\n",
    "\n",
    "For example:"
   ]
  },
  {
   "cell_type": "code",
   "execution_count": null,
   "metadata": {
    "id": "nktyvwTcNCLn"
   },
   "outputs": [],
   "source": [
    "if 9>3:\n",
    "  print(\"Its True\") "
   ]
  },
  {
   "cell_type": "markdown",
   "metadata": {
    "id": "A7hRPm3XNZ5y"
   },
   "source": [
    "Wrong indentation gives you error"
   ]
  },
  {
   "cell_type": "code",
   "execution_count": null,
   "metadata": {
    "id": "ylWZJnw4NUnb"
   },
   "outputs": [],
   "source": [
    "if 9>3:\n",
    "print(\"Its True\")"
   ]
  },
  {
   "cell_type": "markdown",
   "metadata": {
    "id": "L6WB-NUJNliF"
   },
   "source": [
    "## **Python Comments**"
   ]
  },
  {
   "cell_type": "markdown",
   "metadata": {
    "id": "yP86Bb1HNy8O"
   },
   "source": [
    "Python has a capability to make python codes more readable. It is with help of using `#` sign.\n",
    "\n",
    "For example:\n",
    "\n"
   ]
  },
  {
   "cell_type": "code",
   "execution_count": null,
   "metadata": {
    "id": "9Eg12kT8OZU9"
   },
   "outputs": [],
   "source": [
    "#this is a python code\n",
    "print(\"Hello There!\")"
   ]
  },
  {
   "cell_type": "markdown",
   "metadata": {
    "id": "12mpFRlRNoYg"
   },
   "source": [
    "## **Docstrings**"
   ]
  },
  {
   "cell_type": "markdown",
   "metadata": {
    "id": "yXItbbwfOprG"
   },
   "source": [
    "Docstrings are multiline comment to make code more readable. You can use docstring by typing your text in \"\"\"your text\"\"\"\n",
    "\n",
    "For example:\n"
   ]
  },
  {
   "cell_type": "code",
   "execution_count": null,
   "metadata": {
    "id": "lZV2iOirOyWa"
   },
   "outputs": [],
   "source": [
    "\"\"\"\n",
    "This is an example of multiline comment.\n",
    "Also known as Docstrings.\n",
    "\"\"\""
   ]
  },
  {
   "cell_type": "markdown",
   "metadata": {
    "id": "R_xrR11JFLTr"
   },
   "source": [
    "# **Variables**"
   ]
  },
  {
   "cell_type": "markdown",
   "metadata": {
    "id": "URL-wEc8QN5g"
   },
   "source": [
    "Like some other programming language, Python does not require to declare their variables separtely. We can use the variables without declaration. Every variable in Python is object."
   ]
  },
  {
   "cell_type": "markdown",
   "metadata": {
    "id": "Wt220iiwQman"
   },
   "source": [
    "Few Rules to name variables:\n",
    "\n",
    "\n",
    "\n",
    "*    A variable name must start with a letter or the underscore character.\n",
    "* A variable name cannot start with a number.\n",
    "* A variable name can only contain alpha-numeric characters and underscores (A-z, 0-9, and _ ).\n",
    "* Variable names are case-sensitive (age, Age and AGE are three different variables).\n",
    "\n"
   ]
  },
  {
   "cell_type": "markdown",
   "metadata": {
    "id": "vzg-OklRQ2b6"
   },
   "source": [
    "For example:"
   ]
  },
  {
   "cell_type": "code",
   "execution_count": null,
   "metadata": {
    "id": "OJ2EJGI9Rv4Q"
   },
   "outputs": [],
   "source": [
    "a = 2\n",
    "print(a)"
   ]
  },
  {
   "cell_type": "code",
   "execution_count": null,
   "metadata": {
    "id": "SvS55wPfRyGA"
   },
   "outputs": [],
   "source": [
    "b = \"test\"\n",
    "print(b)"
   ]
  },
  {
   "cell_type": "code",
   "execution_count": null,
   "metadata": {
    "id": "AizLdzNkSBc-"
   },
   "outputs": [],
   "source": [
    "variable_integer = 85\n",
    "print(variable_integer)"
   ]
  },
  {
   "cell_type": "code",
   "execution_count": null,
   "metadata": {
    "id": "LyGvwqgfSaEd"
   },
   "outputs": [],
   "source": [
    "variable_string = \"testing\"\n",
    "print(variable_string)"
   ]
  },
  {
   "cell_type": "markdown",
   "metadata": {
    "id": "-XanXmgtSwRw"
   },
   "source": [
    "type() function to check the type of variables."
   ]
  },
  {
   "cell_type": "code",
   "execution_count": null,
   "metadata": {
    "id": "uHbzYlkaSjgI"
   },
   "outputs": [],
   "source": [
    "print(type(a))\n",
    "print(type(b))"
   ]
  },
  {
   "cell_type": "code",
   "execution_count": null,
   "metadata": {
    "id": "MF0bnFx8Spis"
   },
   "outputs": [],
   "source": [
    "print(type(variable_integer))\n",
    "print(type(variable_string))"
   ]
  },
  {
   "cell_type": "markdown",
   "metadata": {
    "id": "SNzZzPQiS2D1"
   },
   "source": [
    "# **Operators**"
   ]
  },
  {
   "cell_type": "markdown",
   "metadata": {
    "id": "zrCXlW4vS5gS"
   },
   "source": [
    "## **Arithmetic Operators**"
   ]
  },
  {
   "cell_type": "markdown",
   "metadata": {
    "id": "AnIy69wYTBin"
   },
   "source": [
    "* `+` : Addition\n",
    "* `-` : Subtraction\n",
    "* `*`: Multiplication \n",
    "* `/` : Divison\n",
    "* `//`: Floor Divison\n",
    "* `%` : Modulus\n",
    "* `**`: Exponentiation"
   ]
  },
  {
   "cell_type": "code",
   "execution_count": null,
   "metadata": {
    "id": "QFEdf0ZRViju"
   },
   "outputs": [],
   "source": [
    "#Addition\n",
    "5+3"
   ]
  },
  {
   "cell_type": "code",
   "execution_count": null,
   "metadata": {
    "id": "j5jWOuoNVls4"
   },
   "outputs": [],
   "source": [
    "#Subtraction\n",
    "5-3"
   ]
  },
  {
   "cell_type": "code",
   "execution_count": null,
   "metadata": {
    "id": "GKIpp-_IVoOV"
   },
   "outputs": [],
   "source": [
    "#Multiplication\n",
    "5*3"
   ]
  },
  {
   "cell_type": "code",
   "execution_count": null,
   "metadata": {
    "id": "tQBcLhITVq-G"
   },
   "outputs": [],
   "source": [
    "#Divison\n",
    "5/3"
   ]
  },
  {
   "cell_type": "code",
   "execution_count": null,
   "metadata": {
    "id": "QvzzPbYrV_0M"
   },
   "outputs": [],
   "source": [
    "#Floor Division\n",
    "5//3"
   ]
  },
  {
   "cell_type": "code",
   "execution_count": null,
   "metadata": {
    "id": "roAqR5ORWDGR"
   },
   "outputs": [],
   "source": [
    "#Modulus\n",
    "5%3"
   ]
  },
  {
   "cell_type": "code",
   "execution_count": null,
   "metadata": {
    "id": "V7tM8RP5WHTT"
   },
   "outputs": [],
   "source": [
    "#exponentiation\n",
    "5**3"
   ]
  },
  {
   "cell_type": "markdown",
   "metadata": {
    "id": "SVBnixdxWO0O"
   },
   "source": [
    "## **Bitwise Operators**"
   ]
  },
  {
   "cell_type": "markdown",
   "metadata": {
    "id": "i-piMo7OWd-M"
   },
   "source": [
    "* `&` : Bitwise AND\n",
    "* `|` : Bitwise OR\n",
    "* `^` : Bitwise XOR\n",
    "* `>>` : Bitwise right shift\n",
    "* `<<` : Bitwise left shift\n",
    "* `~` : Bitwise NOT"
   ]
  },
  {
   "cell_type": "code",
   "execution_count": null,
   "metadata": {
    "id": "Z-zlq-UuXMgR"
   },
   "outputs": [],
   "source": [
    "#Bitwise AND\n",
    "# Sets each bit to 1 if both bits are 1.\n",
    "#\n",
    "# Example:\n",
    "# 5 = 0b0101\n",
    "# 3 = 0b0011\n",
    "# 5 & 3 = 1 # 0b0001\n",
    "5 & 3"
   ]
  },
  {
   "cell_type": "code",
   "execution_count": null,
   "metadata": {
    "id": "yN9U7BwLa2HQ"
   },
   "outputs": [],
   "source": [
    "# Bitwise OR\n",
    "# Sets each bit to 1 if one of two bits is 1.\n",
    "#\n",
    "# Example:\n",
    "# 5 = 0b0101\n",
    "# 3 = 0b0011\n",
    "# 5 | 3 =  7  # 0b0111\n",
    "5 | 3"
   ]
  },
  {
   "cell_type": "code",
   "execution_count": null,
   "metadata": {
    "id": "sE46sX5tbAmz"
   },
   "outputs": [],
   "source": [
    "# Bitwise NOT\n",
    "# Inverts all the bits\n",
    "~5"
   ]
  },
  {
   "cell_type": "code",
   "execution_count": null,
   "metadata": {
    "id": "6p5gVoTw7oCh"
   },
   "outputs": [],
   "source": [
    "\n",
    "# XOR\n",
    "# Sets each bit to 1 if only one of two bits is 1.\n",
    "#\n",
    "# Example:\n",
    "# 5 = 0b0101\n",
    "# 3 = 0b0011\n",
    "number = 5  # 0b0101\n",
    "number ^= 3  # 0b0011\n",
    "print(5 ^ 3)  # 0b0110"
   ]
  },
  {
   "cell_type": "code",
   "execution_count": null,
   "metadata": {
    "id": "gv1o5G3p71s8"
   },
   "outputs": [],
   "source": [
    "# Signed right shift\n",
    "# Shift right by pushing copies of the leftmost bit in from the left, and let the rightmost\n",
    "# bits fall off.\n",
    "#\n",
    "# Example:\n",
    "# 5 = 0b0101\n",
    "print(5 >> 1)  # 0b0010\n",
    "print(5 >> 2)  # 0b0001"
   ]
  },
  {
   "cell_type": "code",
   "execution_count": null,
   "metadata": {
    "id": "Jy81ri7d8GFw"
   },
   "outputs": [],
   "source": [
    "# Zero fill left shift\n",
    "# Shift left by pushing zeros in from the right and let the leftmost bits fall off.\n",
    "#\n",
    "# Example:\n",
    "# 5 = 0b0101\n",
    "print(5 << 1)  # 0b1010\n",
    "print(5 << 2) # 0b10100"
   ]
  },
  {
   "cell_type": "markdown",
   "metadata": {
    "id": "f66TqrNxmMIo"
   },
   "source": [
    "## **Assignment Operator**"
   ]
  },
  {
   "cell_type": "markdown",
   "metadata": {
    "id": "hCv87SOkmQgm"
   },
   "source": [
    "`=, +=, -=, /=, //=`"
   ]
  },
  {
   "cell_type": "code",
   "execution_count": null,
   "metadata": {
    "id": "rKHJDQ44mcze"
   },
   "outputs": [],
   "source": [
    "#simple assignment\n",
    "n = 5"
   ]
  },
  {
   "cell_type": "code",
   "execution_count": null,
   "metadata": {
    "id": "QVt7qPdzmqFZ"
   },
   "outputs": [],
   "source": [
    "# Assignment: +=\n",
    "number = 5\n",
    "number += 3\n",
    "number"
   ]
  },
  {
   "cell_type": "code",
   "execution_count": null,
   "metadata": {
    "id": "36NuPahHmy-7"
   },
   "outputs": [],
   "source": [
    "# Assignment: -=\n",
    "number = 5\n",
    "number -= 3\n",
    "number"
   ]
  },
  {
   "cell_type": "code",
   "execution_count": null,
   "metadata": {
    "id": "-h1KeOcrm-fs"
   },
   "outputs": [],
   "source": [
    "# Assignment: *=\n",
    "number = 5\n",
    "number *= 3\n",
    "number"
   ]
  },
  {
   "cell_type": "code",
   "execution_count": null,
   "metadata": {
    "id": "2vXZrK8QnCzT"
   },
   "outputs": [],
   "source": [
    "\n",
    "# Assignment: /=\n",
    "number = 8\n",
    "number /= 4\n",
    "number"
   ]
  },
  {
   "cell_type": "code",
   "execution_count": null,
   "metadata": {
    "id": "f4BI_FQ-nG8y"
   },
   "outputs": [],
   "source": [
    "# Assignment: %=\n",
    "number = 8\n",
    "number %= 3\n",
    "number"
   ]
  },
  {
   "cell_type": "code",
   "execution_count": null,
   "metadata": {
    "id": "LqWQdHucnL4v"
   },
   "outputs": [],
   "source": [
    "# Assignment: %=\n",
    "number = 5\n",
    "number %= 3\n",
    "number"
   ]
  },
  {
   "cell_type": "code",
   "execution_count": null,
   "metadata": {
    "id": "_tLmAQJjnVtF"
   },
   "outputs": [],
   "source": [
    "# Assignment: //=\n",
    "number = 5\n",
    "number //= 3\n",
    "number"
   ]
  },
  {
   "cell_type": "code",
   "execution_count": null,
   "metadata": {
    "id": "pBgW4MJ7ncwA"
   },
   "outputs": [],
   "source": [
    "# Assignment: **=\n",
    "number = 5\n",
    "number **= 3\n",
    "number"
   ]
  },
  {
   "cell_type": "code",
   "execution_count": null,
   "metadata": {
    "id": "gtkGM3dtniG7"
   },
   "outputs": [],
   "source": [
    "# Assignment: &=\n",
    "number = 5  # 0b0101\n",
    "number &= 3  # 0b0011\n",
    "number  # 0b0001"
   ]
  },
  {
   "cell_type": "code",
   "execution_count": null,
   "metadata": {
    "id": "aw8gGzejnpb8"
   },
   "outputs": [],
   "source": [
    "# Assignment: |=\n",
    "number = 5  # 0b0101\n",
    "number |= 3  # 0b0011\n",
    "number # 0b0111"
   ]
  },
  {
   "cell_type": "code",
   "execution_count": null,
   "metadata": {
    "id": "tn-oY3Gsnvs4"
   },
   "outputs": [],
   "source": [
    "# Assignment: ^=\n",
    "number = 5  # 0b0101\n",
    "number ^= 3  # 0b0011\n",
    "number # 0b0110"
   ]
  },
  {
   "cell_type": "code",
   "execution_count": null,
   "metadata": {
    "id": "n2N_hLiMn0kj"
   },
   "outputs": [],
   "source": [
    "# Assignment: >>=\n",
    "number = 5\n",
    "number >>= 3\n",
    "number # (((5 // 2) // 2) // 2)"
   ]
  },
  {
   "cell_type": "code",
   "execution_count": null,
   "metadata": {
    "id": "2h2GRiT3n7a1"
   },
   "outputs": [],
   "source": [
    "# Assignment: <<=\n",
    "number = 5\n",
    "number <<= 3\n",
    "number # 5 * 2 * 2 * 2"
   ]
  },
  {
   "cell_type": "markdown",
   "metadata": {
    "id": "5NvLs1j-oIEq"
   },
   "source": [
    "## **Comparison Operators**"
   ]
  },
  {
   "cell_type": "markdown",
   "metadata": {
    "id": "-yBrsgDLoNdo"
   },
   "source": [
    "* `==` : Equal\n",
    "* `!=` : Not Equal\n",
    "* `>` : Greater than\n",
    "* `<` :  Less than\n",
    "* `>=` :  Greater than or equal to\n",
    "* `<=` : less than or equal to"
   ]
  },
  {
   "cell_type": "code",
   "execution_count": null,
   "metadata": {
    "id": "sReWW7meo2MN"
   },
   "outputs": [],
   "source": [
    "#Suppose we take two numbers\n",
    "n1 = 5\n",
    "n2 = 17"
   ]
  },
  {
   "cell_type": "code",
   "execution_count": null,
   "metadata": {
    "id": "MJNuV8Ogo6pC"
   },
   "outputs": [],
   "source": [
    "#Equal\n",
    "#returns bool value False because n1 is not equal to n2\n",
    "print(n1==n2)"
   ]
  },
  {
   "cell_type": "code",
   "execution_count": null,
   "metadata": {
    "id": "vj2xHt5ej0OM"
   },
   "outputs": [],
   "source": [
    "#Not Equal to\n",
    "print(n1!=n2) #return true bool value"
   ]
  },
  {
   "cell_type": "code",
   "execution_count": null,
   "metadata": {
    "id": "cJbLkKpoj90D"
   },
   "outputs": [],
   "source": [
    "#greater than\n",
    "print(n1>n2) #return false because n1 = 5 and n2 = 17 then 5 > 17 is False"
   ]
  },
  {
   "cell_type": "code",
   "execution_count": null,
   "metadata": {
    "id": "pdEUq0X3kNSN"
   },
   "outputs": [],
   "source": [
    "#less than\n",
    "print(n1<n2) #return true because n1 = 5 and n2 = 17 then 5 < 17 is True"
   ]
  },
  {
   "cell_type": "code",
   "execution_count": null,
   "metadata": {
    "id": "G7qRsBStkUSB"
   },
   "outputs": [],
   "source": [
    "#greater than or equal to \n",
    "n1 = 5 \n",
    "n2 = 5\n",
    "print(n1>=n2) #Return True"
   ]
  },
  {
   "cell_type": "code",
   "execution_count": null,
   "metadata": {
    "id": "Fo_KxnXykecy"
   },
   "outputs": [],
   "source": [
    "#less than or equal to \n",
    "n1 = 5 \n",
    "n2 = 5\n",
    "print(n1<=n2) #Return True"
   ]
  },
  {
   "cell_type": "markdown",
   "metadata": {
    "id": "27ectO0tklQ-"
   },
   "source": [
    "## **Logical Operators**"
   ]
  },
  {
   "cell_type": "markdown",
   "metadata": {
    "id": "TRDA_lqqkp2V"
   },
   "source": [
    "* `and` : Returns True if both statements are true \t\n",
    "* `or` : Returns True if one of the statements is true \t\n",
    "* `not` : Reverse the result, returns False if the result is true"
   ]
  },
  {
   "cell_type": "code",
   "execution_count": null,
   "metadata": {
    "id": "CKbImsxdk_WS"
   },
   "outputs": [],
   "source": [
    "# Let's work with these number to illustrate logic operators.\n",
    "n1 = 5\n",
    "n2 = 10"
   ]
  },
  {
   "cell_type": "code",
   "execution_count": null,
   "metadata": {
    "id": "UQECRXbLk_UP"
   },
   "outputs": [],
   "source": [
    "# and\n",
    "# Returns True if both statements are true.\n",
    "print(n1 > 0 and n2 < 15)"
   ]
  },
  {
   "cell_type": "code",
   "execution_count": null,
   "metadata": {
    "id": "UtJy_d8Bk_SI"
   },
   "outputs": [],
   "source": [
    "# or\n",
    "# Returns True if one of the statements is true\n",
    "print(n1 > 6 and n2 < 15)"
   ]
  },
  {
   "cell_type": "code",
   "execution_count": null,
   "metadata": {
    "id": "S3_RYra7k_QH"
   },
   "outputs": [],
   "source": [
    "# not\n",
    "# Reverse the result, returns False if the result is true.\n",
    "# pylint: disable=unneeded-not\n",
    "print( not n1 == n2)\n",
    "print(n1 != n2)"
   ]
  },
  {
   "cell_type": "markdown",
   "metadata": {
    "id": "wYlG82s5luJp"
   },
   "source": [
    "## **Identity Operators**"
   ]
  },
  {
   "cell_type": "markdown",
   "metadata": {
    "id": "mCq9NRhblw2G"
   },
   "source": [
    "* `is` : Returns True if both variables are the same object\n",
    "* `is not` : Returns True if both variables are not the same object"
   ]
  },
  {
   "cell_type": "code",
   "execution_count": null,
   "metadata": {
    "id": "nYKXb3d8n-P5"
   },
   "outputs": [],
   "source": [
    "# is\n",
    "# Returns true if both variables are the same object.\n",
    "\n",
    "# Example:\n",
    "# a and b are the same objects.\n",
    "\n",
    "a = 2\n",
    "b = 2\n",
    "\n",
    "print(a is b)\n",
    "\n",
    "a = 2\n",
    "b = \"2\"\n",
    "\n",
    "print(a is b)\n"
   ]
  },
  {
   "cell_type": "code",
   "execution_count": null,
   "metadata": {
    "id": "yY1rdRMnoDwf"
   },
   "outputs": [],
   "source": [
    "# is not\n",
    "# Returns true if both variables are not the same object.\n",
    "\n",
    "# Example:\n",
    "# a and b are not the same objects, even if they have\n",
    "# the same content\n",
    "\n",
    "a = 2\n",
    "b = 2\n",
    "\n",
    "print( a is not b )\n",
    "\n",
    "\n",
    "a = 2 \n",
    "b = \"2\"\n",
    "\n",
    "print(a is not b)"
   ]
  },
  {
   "cell_type": "markdown",
   "metadata": {
    "id": "PMLSd0QCppyM"
   },
   "source": [
    "## **Membership Operators**"
   ]
  },
  {
   "cell_type": "markdown",
   "metadata": {
    "id": "Oq-H4TrEpskg"
   },
   "source": [
    "* `in` : Returns True if a sequence with the specified value is present in the object\n",
    "* `not in` : Returns True if a sequence with the specified value is not present in the object"
   ]
  },
  {
   "cell_type": "code",
   "execution_count": null,
   "metadata": {
    "id": "H7loXijFppNV"
   },
   "outputs": [],
   "source": [
    "    # Let's use the following string to illustrate membership concept.\n",
    "a = \"testing string\""
   ]
  },
  {
   "cell_type": "code",
   "execution_count": null,
   "metadata": {
    "id": "dQAmrk79k_K5"
   },
   "outputs": [],
   "source": [
    "# in\n",
    "# Returns True if a sequence with the specified value is present in the object.\n",
    "\n",
    "# Returns True because a sequence with the value \"string\" is in the list\n",
    "print(\"string\" in a)"
   ]
  },
  {
   "cell_type": "code",
   "execution_count": null,
   "metadata": {
    "id": "cJJi59bSk_G_"
   },
   "outputs": [],
   "source": [
    "# not in\n",
    "# Returns True if a sequence with the specified value is not present in the object\n",
    "\n",
    "# Returns True because a sequence with the value \"pineapple\" is not in the list.\n",
    "print(\"python\" not in a)"
   ]
  }
 ],
 "metadata": {
  "colab": {
   "collapsed_sections": [],
   "name": "1_Python_Basics.ipynb",
   "provenance": [],
   "toc_visible": true
  },
  "interpreter": {
   "hash": "55d75b69f9732f9cf866a7b78affe91ba2102b00533c56222b50a1dde2e2799a"
  },
  "kernelspec": {
   "display_name": "Python 3.8.10 64-bit ('test': conda)",
   "name": "python3"
  },
  "language_info": {
   "codemirror_mode": {
    "name": "ipython",
    "version": 3
   },
   "file_extension": ".py",
   "mimetype": "text/x-python",
   "name": "python",
   "nbconvert_exporter": "python",
   "pygments_lexer": "ipython3",
   "version": "3.8.10"
  }
 },
 "nbformat": 4,
 "nbformat_minor": 2
}
