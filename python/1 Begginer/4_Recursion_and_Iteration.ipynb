{
 "cells": [
  {
   "cell_type": "markdown",
   "metadata": {
    "id": "NH1tAHa3iYKI"
   },
   "source": [
    "#Recursion And Iteration In Python"
   ]
  },
  {
   "cell_type": "markdown",
   "metadata": {
    "id": "v1fIabToB91c"
   },
   "source": [
    "A computer program consists of line-by-line instructions. The computer performs those instructions line-by-line. However, some instructions may be repetitive with a common pattern. Recursion or iteration helps one to write a few lines of codes to perform such repetitive tasks. Suppose a Python list with five-string elements. We wish to print the elements one in a line. This operation needs five lines of codes."
   ]
  },
  {
   "cell_type": "code",
   "execution_count": null,
   "metadata": {
    "id": "i9VImRkEiWuy"
   },
   "outputs": [],
   "source": [
    "flowers = ['lily', 'tulip', 'rose', 'lavender', 'dandelion'] "
   ]
  },
  {
   "cell_type": "code",
   "execution_count": null,
   "metadata": {
    "id": "XJ4W6laekhDw"
   },
   "outputs": [],
   "source": [
    "print(flowers[0])\n",
    "print(flowers[1])\n",
    "print(flowers[2])\n",
    "print(flowers[3])\n",
    "print(flowers[4])"
   ]
  },
  {
   "cell_type": "markdown",
   "metadata": {
    "id": "VPnPdUx7CAbT"
   },
   "source": [
    "It can be observed that the five lines of codes follow the same pattern. The only difference in each line is the index of the list elements. What if this list contains 100 or 1000 elements? Coding will become a tedious task. These kinds of problems are resolved through either iteration or recursion. Here, the iterative form of the above codes is as follows."
   ]
  },
  {
   "cell_type": "code",
   "execution_count": null,
   "metadata": {
    "id": "JkrLghUUm_A_"
   },
   "outputs": [],
   "source": [
    "for flower in flowers:\n",
    "  print(flower)"
   ]
  },
  {
   "cell_type": "markdown",
   "metadata": {
    "id": "3rshm1--x_wW"
   },
   "source": [
    "## Factorial of an integer"
   ]
  },
  {
   "cell_type": "markdown",
   "metadata": {
    "id": "mgt3RNxvNFFt"
   },
   "source": [
    "Calculating factorial is a popular use case to understand iteration and recursion. For instance, we wish to calculate the factorial of 10. It can be determined as 1*2*3*4*5*6*7*8*9*10 = 3628800. This can be viewed as 10 subproblems of multiplying an incrementing integer to a final result."
   ]
  },
  {
   "cell_type": "code",
   "execution_count": null,
   "metadata": {
    "id": "fZ9HjHftyKK4"
   },
   "outputs": [],
   "source": [
    "# using a for loop\n",
    "n = 10\n",
    "result = 1\n",
    "for i in range(1,n+1):\n",
    "  result *= i\n",
    "\n",
    "print(result)"
   ]
  },
  {
   "cell_type": "markdown",
   "metadata": {
    "id": "jX26cyPuNHw_"
   },
   "source": [
    "A range function is implemented in a ‘for’ loop since it requires a sequence to iterate over. Range function supplies values iteratively from 1 through 10, one at a time. It stops iteration when the range function stops supplying values(i.e., at 10)."
   ]
  },
  {
   "cell_type": "code",
   "execution_count": null,
   "metadata": {
    "id": "n1y4g5JryqL7"
   },
   "outputs": [],
   "source": [
    "# using a while loop\n",
    "n = 10\n",
    "result = 1\n",
    "i = 1\n",
    "while i <= n:\n",
    "  result *= i\n",
    "  i += 1\n",
    "\n",
    "print(result)"
   ]
  },
  {
   "cell_type": "markdown",
   "metadata": {
    "id": "oCGwOIcONMkw"
   },
   "source": [
    "In a ‘while’ loop, an iterator i is introduced and incremented through every loop. While loop stops iterating when the value of i exceeds the integer 10"
   ]
  },
  {
   "cell_type": "markdown",
   "metadata": {
    "id": "WhwUUVILNUSo"
   },
   "source": [
    "A recursive function, named Factorial(), is defined with the limiting criteria of n=1. It first attempts to find the factorial of 10. Factorial(10) is broken down into 10 * Factorial(9). Further, Factorial(9) is broken down into 9 * Factorial(8), and so on. When Factorial(1) is called, it stops the recursion. "
   ]
  },
  {
   "cell_type": "code",
   "execution_count": null,
   "metadata": {
    "id": "JPrZo_Yu0Y_f"
   },
   "outputs": [],
   "source": [
    "# using recursion\n",
    "\n",
    "def Factorial(n):\n",
    "  # declare a base case (a limiting criteria)\n",
    "  if n == 1:\n",
    "    return 1\n",
    "  # continue with general case\n",
    "  else:\n",
    "    return n * Factorial(n-1)\n",
    "\n",
    "print(Factorial(10))"
   ]
  },
  {
   "cell_type": "code",
   "execution_count": null,
   "metadata": {
    "id": "g5BDf_jjC9mx"
   },
   "outputs": [],
   "source": [
    "def Factorial(n):\n",
    "  if n == 1:\n",
    "    return 1\n",
    "  else:\n",
    "    return n * Factorial(n-1)\n",
    "\n",
    "print(Factorial(10))\n",
    "print(Factorial(9))\n",
    "print(Factorial(8))\n",
    "print(Factorial(7))\n",
    "print(Factorial(6))\n",
    "print(Factorial(5))\n",
    "print(Factorial(4))\n",
    "print(Factorial(3))\n",
    "print(Factorial(2))\n",
    "print(Factorial(1))"
   ]
  },
  {
   "cell_type": "markdown",
   "metadata": {
    "id": "CQKQVIyKQrza"
   },
   "source": [
    "## Reverse a Given String"
   ]
  },
  {
   "cell_type": "markdown",
   "metadata": {
    "id": "LHeUuRAkNXiw"
   },
   "source": [
    "A string or a sequence can be reversed through iteration or recursion. Here, we define a function that takes a string and returns its reversed form through an iterative approach. This function can be called any number of times with different strings each time. "
   ]
  },
  {
   "cell_type": "code",
   "execution_count": null,
   "metadata": {
    "id": "3pUL4XJXPlfL"
   },
   "outputs": [],
   "source": [
    "def Reverse_iter(s):\n",
    "  rev = ''\n",
    "  for k in s:\n",
    "    rev = k + rev\n",
    "  return rev\n",
    "\n",
    "Reverse_iter('Welcome!')"
   ]
  },
  {
   "cell_type": "markdown",
   "metadata": {
    "id": "lSk2xLKpNb0W"
   },
   "source": [
    "The same task is performed through a recursive approach as follows."
   ]
  },
  {
   "cell_type": "code",
   "execution_count": null,
   "metadata": {
    "id": "k2o4i7dBUe9r"
   },
   "outputs": [],
   "source": [
    "def Reverse_rec(s):\n",
    "  if not s:\n",
    "    return ''\n",
    "  else:\n",
    "    return Reverse_rec(s[1:]) + s[0]\n",
    "\n",
    "Reverse_rec('Welcome!')"
   ]
  },
  {
   "cell_type": "markdown",
   "metadata": {
    "id": "Ec59BM-saYF3"
   },
   "source": [
    "## Build a Triangle with Numbers"
   ]
  },
  {
   "cell_type": "markdown",
   "metadata": {
    "id": "oy6DxhnrNeaA"
   },
   "source": [
    "Build a triangle of numbers by printing 1 on the first line, 1 thousand on the second line, 1 million on the third line and so on, until a prescribed number of lines. After constructing the lengthy line, decrease the number of digits in descending order. The total number of lines printed would be equal to 2n+1, where n is the input number."
   ]
  },
  {
   "cell_type": "code",
   "execution_count": null,
   "metadata": {
    "id": "LuF9BYcsuZPB"
   },
   "outputs": [],
   "source": [
    "# Iterative form\n",
    "\n",
    "n = 8\n",
    "# rise up\n",
    "for i in range(n):\n",
    "  print(10**(3*i))\n",
    "# fall down\n",
    "for i in range(n, -1, -1):\n",
    "  print(10**(3*i))"
   ]
  },
  {
   "cell_type": "markdown",
   "metadata": {
    "id": "CM-sJstXNhrX"
   },
   "source": [
    "In the above construction, the first loop printed the ascending sequence, and the second loop printed the descending sequence. The same can be implemented with a recursive function as follows."
   ]
  },
  {
   "cell_type": "code",
   "execution_count": null,
   "metadata": {
    "id": "rULpWMtizfd_"
   },
   "outputs": [],
   "source": [
    "\n",
    "# recursive form\n",
    "\n",
    "def Triangle(n, i=0):\n",
    "  if n==0:\n",
    "    print(1)\n",
    "    return None\n",
    "  print(10**(3*i))\n",
    "  if i<n:\n",
    "    Triangle(n, i+1)\n",
    "  else:\n",
    "    Triangle(n-1, i-1)\n",
    "\n",
    "Triangle(8)"
   ]
  },
  {
   "cell_type": "markdown",
   "metadata": {
    "id": "vnWoaGrgNlV2"
   },
   "source": [
    "Though the same results are obtained through both iterative and recursive approaches, the recursive approach takes a tough path while the iterative approach follows a straightforward path. This is the kind of problem in which the recursive approach is highly discouraged. However, understanding recursion with this kind of simple problem may help one understand advanced algorithms that rely heavily on recursions, such as backtracking and dynamic programming."
   ]
  },
  {
   "cell_type": "markdown",
   "metadata": {
    "id": "TJgu6Nm498wg"
   },
   "source": [
    "# Quicksort"
   ]
  },
  {
   "cell_type": "markdown",
   "metadata": {
    "id": "kkZJ7KvcNpck"
   },
   "source": [
    "Quicksort is a famous algorithm that sorts the given list or array in place. Actually, Python’s sort() method follows this algorithm for sorting. Merge sort, and Insertion sort are other famous sorting algorithms. Quicksort employs both recursive and iterative approaches to perform the sorting operation quickly and effectively. \n",
    "\n",
    "Quicksort initially selects the first element of the array as its pivot element. It compares the pivot element with the successive elements iteratively and makes a shift if the right element is higher than the left one. Thus, at the end of the iteration, the pivot element has smaller elements on its left and larger elements on the right. However, both the left side elements and right side elements remain unsorted. The array is now broken into two parts based on the pivot element. The left array and right array are sorted recursively using the Quicksort() function."
   ]
  },
  {
   "cell_type": "code",
   "execution_count": null,
   "metadata": {
    "id": "nmgsTha8BVEW"
   },
   "outputs": [],
   "source": [
    "def Quicksort(a, l, r):\n",
    "  # consider the left most as pivot element\n",
    "  current = l+1\n",
    "  # base case (as limiting criteria)\n",
    "  if r <= current:\n",
    "    return None\n",
    "  for i in range(l+1, r):\n",
    "    # compare pivot element and shift current's postion\n",
    "    if a[l] >= a[i]:\n",
    "      a[i], a[current] = a[current], a[i]\n",
    "      current += 1\n",
    "  # exchange pivot element and current-but-one element\n",
    "  a[l], a[current-1] = a[current-1], a[l]\n",
    "  # perform Quicksort before current element\n",
    "  Quicksort(a, l, current-1)\n",
    "  # perform Quicksort after current element\n",
    "  Quicksort(a, current, r) \n",
    "  return None\n"
   ]
  },
  {
   "cell_type": "code",
   "execution_count": null,
   "metadata": {
    "id": "1Nx21Sn0HCK-"
   },
   "outputs": [],
   "source": [
    "a = [5,6,4,12,9,2,1,7,6,3]\n",
    "print('Before sorting...')\n",
    "print(a)\n",
    "Quicksort(a, 0, len(a))\n",
    "print('\\nAfter sorting...')\n",
    "print(a)"
   ]
  }
 ],
 "metadata": {
  "colab": {
   "authorship_tag": "ABX9TyOtgwHRBT2GUcJ+v/EvCDXB",
   "collapsed_sections": [],
   "name": "Recursion_and_Iteration.ipynb",
   "provenance": [],
   "toc_visible": true
  },
  "kernelspec": {
   "display_name": "Python 3",
   "name": "python3"
  },
  "language_info": {
   "name": "python"
  }
 },
 "nbformat": 4,
 "nbformat_minor": 0
}
