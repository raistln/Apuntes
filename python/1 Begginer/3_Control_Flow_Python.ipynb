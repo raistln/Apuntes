{
 "cells": [
  {
   "cell_type": "markdown",
   "metadata": {
    "id": "VGLYwzixZwY9"
   },
   "source": [
    "# **Control Flow in Python**"
   ]
  },
  {
   "cell_type": "markdown",
   "metadata": {
    "id": "V05013t5aDAh"
   },
   "source": [
    "A program’s control flow is the order in which the program’s code executes. The control flow of a Python program is regulated by conditional statements, loops, and function calls."
   ]
  },
  {
   "cell_type": "markdown",
   "metadata": {
    "id": "8pXQg7JHaHct"
   },
   "source": [
    "## **If Statement**"
   ]
  },
  {
   "cell_type": "markdown",
   "metadata": {
    "id": "ZaRLXY6YbHhS"
   },
   "source": [
    "Perhaps the most well-known statement type is the `if` statement. For example:"
   ]
  },
  {
   "cell_type": "code",
   "execution_count": null,
   "metadata": {
    "id": "tJ6zPpoTbF0b"
   },
   "outputs": [],
   "source": [
    "number = 15\n",
    "conclusion = ''\n",
    "\n",
    "if number < 0:\n",
    "    conclusion = 'Number is less than zero'\n",
    "elif number == 0:\n",
    "    conclusion = 'Number equals to zero'\n",
    "elif number < 1:\n",
    "    conclusion = 'Number is greater than zero but less than one'\n",
    "else:\n",
    "    conclusion = 'Number bigger than or equal to one'\n",
    "\n",
    "print(conclusion == 'Number bigger than or equal to one')"
   ]
  },
  {
   "cell_type": "markdown",
   "metadata": {
    "id": "U2eJcTCcbNlM"
   },
   "source": [
    "There can be zero or more elif parts, and the else part is optional. The keyword `‘elif’` is short for `‘else if’`, and is useful to avoid excessive indentation. An `if … elif … elif …` sequence is a substitute for the `switch` or `case` statements found in other languages."
   ]
  },
  {
   "cell_type": "markdown",
   "metadata": {
    "id": "ywXDt1jUaLw6"
   },
   "source": [
    "## **for Statement**"
   ]
  },
  {
   "cell_type": "markdown",
   "metadata": {
    "id": "3ZRYtZGSeDzl"
   },
   "source": [
    "The for statement in Python differs a bit from what you may be used to in C or Pascal. Rather than always iterating over an arithmetic progression of numbers (like in Pascal), or giving the user the ability to define both the iteration step and halting condition (as C), Python’s for statement iterates over the items of any sequence (a list or a string), in the order that they appear in the sequence. For example (no pun intended):"
   ]
  },
  {
   "cell_type": "code",
   "execution_count": null,
   "metadata": {
    "id": "A5enifeQalmX"
   },
   "outputs": [],
   "source": [
    "\"\"\"FOR statement\"\"\"\n",
    "\n",
    "# Measure some strings:\n",
    "words = ['cat', 'window', 'defenestrate']\n",
    "words_length = 0\n",
    "\n",
    "for word in words:\n",
    "  words_length += len(word)\n",
    "\n",
    "# \"cat\" length is 3\n",
    "# \"window\" length is 6\n",
    "# \"defenestrate\" length is 12\n",
    "print(words_length)# == (3 + 6 + 12)"
   ]
  },
  {
   "cell_type": "code",
   "execution_count": null,
   "metadata": {
    "id": "jMCJfHnjg3-a"
   },
   "outputs": [],
   "source": [
    "# If you need to modify the sequence you are iterating over while inside the loop\n",
    "# (for example to duplicate selected items), it is recommended that you first make a copy.\n",
    "# Iterating over a sequence does not implicitly make a copy. The slice notation makes this\n",
    "# especially convenient:\n",
    "for word in words[:]:  # Loop over a slice copy of the entire list.\n",
    "  if len(word) > 6:\n",
    "      words.insert(0, word)\n",
    "\n",
    "# Otherwise with for w in words:, the example would attempt to create an infinite list,\n",
    "# inserting defenestrate over and over again.\n",
    "\n",
    "print(words)# == ['defenestrate', 'cat', 'window', 'defenestrate']"
   ]
  },
  {
   "cell_type": "code",
   "execution_count": null,
   "metadata": {
    "id": "OR9qwFbpg8_H"
   },
   "outputs": [],
   "source": [
    "# If you do need to iterate over a sequence of numbers, the built-in function range() comes in\n",
    "# handy. It generates arithmetic progressions:\n",
    "iterated_numbers = []\n",
    "\n",
    "for number in range(5):\n",
    "    iterated_numbers.append(number)\n",
    "\n",
    "print(iterated_numbers)# == [0, 1, 2, 3, 4]"
   ]
  },
  {
   "cell_type": "code",
   "execution_count": null,
   "metadata": {
    "id": "FBRyiLgUhAeK"
   },
   "outputs": [],
   "source": [
    "# To iterate over the indices of a sequence, you can combine range() and len() as follows:\n",
    "words = ['Mary', 'had', 'a', 'little', 'lamb']\n",
    "concatenated_string = ''\n",
    "\n",
    "# pylint: disable=consider-using-enumerate\n",
    "for word_index in range(len(words)):\n",
    "    concatenated_string += words[word_index] + ' '\n",
    "\n",
    "print(concatenated_string)# == 'Mary had a little lamb '"
   ]
  },
  {
   "cell_type": "code",
   "execution_count": null,
   "metadata": {
    "id": "cIC5IeCohD1U"
   },
   "outputs": [],
   "source": [
    "# Or simply use enumerate().\n",
    "concatenated_string = ''\n",
    "\n",
    "for word_index, word in enumerate(words):\n",
    "    concatenated_string += word + ' '\n",
    "\n",
    "print(concatenated_string)# == 'Mary had a little lamb '"
   ]
  },
  {
   "cell_type": "code",
   "execution_count": null,
   "metadata": {
    "id": "_tuJy0qRhJV_"
   },
   "outputs": [],
   "source": [
    "# When looping through dictionaries, the key and corresponding value can be retrieved at the\n",
    "# same time using the items() method.\n",
    "knights_names = []\n",
    "knights_properties = []\n",
    "\n",
    "knights = {'gallahad': 'the pure', 'robin': 'the brave'}\n",
    "for key, value in knights.items():\n",
    "    knights_names.append(key)\n",
    "    knights_properties.append(value)\n",
    "\n",
    "print(knights_names)# == ['gallahad', 'robin']\n",
    "print(knights_properties)# == ['the pure', 'the brave']"
   ]
  },
  {
   "cell_type": "code",
   "execution_count": null,
   "metadata": {
    "id": "1xIq3zEXhR6a"
   },
   "outputs": [],
   "source": [
    "# When looping through a sequence, the position index and corresponding value can be retrieved\n",
    "# at the same time using the enumerate() function\n",
    "indices = []\n",
    "values = []\n",
    "for index, value in enumerate(['tic', 'tac', 'toe']):\n",
    "    indices.append(index)\n",
    "    values.append(value)\n",
    "\n",
    "print(indices)# == [0, 1, 2]\n",
    "print(values)# == ['tic', 'tac', 'toe']"
   ]
  },
  {
   "cell_type": "code",
   "execution_count": null,
   "metadata": {
    "id": "Ee1O5-QKhX1w"
   },
   "outputs": [],
   "source": [
    "# To loop over two or more sequences at the same time, the entries can be paired with\n",
    "# the zip() function.\n",
    "questions = ['name', 'quest', 'favorite color']\n",
    "answers = ['lancelot', 'the holy grail', 'blue']\n",
    "combinations = []\n",
    "\n",
    "for question, answer in zip(questions, answers):\n",
    "    combinations.append('What is your {0}?  It is {1}.'.format(question, answer))\n",
    "\n",
    "print(combinations)# == [\n",
    "    #'What is your name?  It is lancelot.',\n",
    "    #'What is your quest?  It is the holy grail.',\n",
    "    #'What is your favorite color?  It is blue.',\n",
    "#]"
   ]
  },
  {
   "cell_type": "code",
   "execution_count": null,
   "metadata": {
    "id": "D5fE-cQEhr1l"
   },
   "outputs": [],
   "source": [
    "\n",
    "\"\"\"\n",
    "https://docs.python.org/3/tutorial/controlflow.html\n",
    "If you do need to iterate over a sequence of numbers, the built-in function range() comes in handy. It generates arithmetic progressions:\n",
    "Range function\n",
    "If you do need to iterate over a sequence of numbers, the built-in function range() comes in\n",
    "handy. It generates arithmetic progressions.\n",
    "In many ways the object returned by range() behaves as if it is a list, but in fact it isn’t.\n",
    "It is an object which returns the successive items of the desired sequence when you iterate\n",
    "over it, but it doesn’t really make the list, thus saving space.\n",
    "We say such an object is iterable, that is, suitable as a target for functions and constructs\n",
    "that expect something from which they can obtain successive items until the supply is exhausted.\n",
    "We have seen that the for statement is such an iterator. The function list() is another; it\n",
    "creates lists from iterables:\n",
    "\"\"\"\n",
    "print(list(range(5)))# == [0, 1, 2, 3, 4]\n",
    "\n",
    "# The given end point is never part of the generated sequence; range(10) generates 10 values,\n",
    "# the legal indices for items of a sequence of length 10. It is possible to let the range start\n",
    "# at another number, or to specify a different increment (even negative; sometimes this is\n",
    "# called the ‘step’):\n",
    "\n",
    "print(list(range(5, 10)))# == [5, 6, 7, 8, 9]\n",
    "print(list(range(0, 10, 3)))# == [0, 3, 6, 9]"
   ]
  },
  {
   "cell_type": "markdown",
   "metadata": {
    "id": "xA-aisE2aRLc"
   },
   "source": [
    "## **while loop**"
   ]
  },
  {
   "cell_type": "code",
   "execution_count": null,
   "metadata": {
    "id": "uEUuRejUd32x"
   },
   "outputs": [],
   "source": [
    "\n",
    "\n",
    "# Let's raise the number to certain power using while loop.\n",
    "number = 2\n",
    "power = 5\n",
    "\n",
    "result = 1\n",
    "\n",
    "while power > 0:\n",
    "  result *= number\n",
    "  power -= 1\n",
    "\n",
    "# 2^5 = 32\n",
    "print(result)# == 32"
   ]
  },
  {
   "cell_type": "markdown",
   "metadata": {
    "id": "bxAWVx-2as6U"
   },
   "source": [
    "## **Try-Except Statement**"
   ]
  },
  {
   "cell_type": "markdown",
   "metadata": {
    "id": "xtHDturse0qU"
   },
   "source": [
    "Until now error messages haven’t been more than mentioned, but if you have tried out the examples you have probably seen some. There are (at least) two distinguishable kinds of errors: syntax errors and exceptions."
   ]
  },
  {
   "cell_type": "markdown",
   "metadata": {
    "id": "D-6ViA-ee5MJ"
   },
   "source": [
    "The try statement works as follows.\n",
    "\n",
    "* First, the try clause (the statement(s) between the try and except keywords) is executed.\n",
    "\n",
    "* If no exception occurs, the except clause is skipped and execution of the try statement is finished.\n",
    "\n",
    "* If an exception occurs during execution of the try clause, the rest of the clause is skipped. Then if its type matches the exception named after the except keyword, the except clause is executed, and then execution continues after the try statement.\n",
    "\n",
    "* If an exception occurs which does not match the exception named in the except clause, it is passed on to outer try statements; if no handler is found, it is an unhandled exception and execution stops with a message as shown above.\n"
   ]
  },
  {
   "cell_type": "markdown",
   "metadata": {
    "id": "FbaBTkSHfDTV"
   },
   "source": [
    "https://docs.python.org/3/tutorial/errors.html"
   ]
  },
  {
   "cell_type": "code",
   "execution_count": null,
   "metadata": {
    "id": "D7HdlGEah-ru"
   },
   "outputs": [],
   "source": [
    "\n",
    "# The try block will generate an error, because x is not defined:\n",
    "exception_has_been_caught = False\n",
    "\n",
    "try:\n",
    "  print(not_existing_variable)\n",
    "except NameError:\n",
    "  exception_has_been_caught = True\n",
    "\n",
    "print(exception_has_been_caught)"
   ]
  },
  {
   "cell_type": "code",
   "execution_count": null,
   "metadata": {
    "id": "k3C_N7XtiLO9"
   },
   "outputs": [],
   "source": [
    "# You can define as many exception blocks as you want, e.g. if you want to execute a special\n",
    "# block of code for a special kind of error:\n",
    "exception_message = ''\n",
    "\n",
    "try:\n",
    "    # pylint: disable=undefined-variable\n",
    "    print(not_existing_variable)\n",
    "except NameError:\n",
    "    exception_message = 'Variable is not defined'\n",
    "\n",
    "print(exception_message)# == 'Variable is not defined'"
   ]
  },
  {
   "cell_type": "code",
   "execution_count": null,
   "metadata": {
    "id": "pGzcUlotiPoC"
   },
   "outputs": [],
   "source": [
    "\n",
    "# You can use the else keyword to define a block of code to be executed\n",
    "# if no errors were raised.\n",
    "message = ''\n",
    "try:\n",
    "  message += 'Success.'\n",
    "except NameError:\n",
    "  message += 'Something went wrong.'\n",
    "else:\n",
    "  message += 'Nothing went wrong.'\n",
    "\n",
    "print(message)# == 'Success.Nothing went wrong.'"
   ]
  },
  {
   "cell_type": "code",
   "execution_count": null,
   "metadata": {
    "id": "cLrb2ImciWEi"
   },
   "outputs": [],
   "source": [
    "# The finally block, if specified, will be executed regardless if the try block raises an\n",
    "# error or not.\n",
    "message = ''\n",
    "try:\n",
    "    print(not_existing_variable)  \n",
    "except NameError:\n",
    "    message += 'Something went wrong.'\n",
    "finally:\n",
    "    message += 'The \"try except\" is finished.'\n",
    "\n",
    "print(message)# == 'Something went wrong.The \"try except\" is finished.'"
   ]
  },
  {
   "cell_type": "markdown",
   "metadata": {
    "id": "pwrs29J5a31H"
   },
   "source": [
    "## **Break Statement**"
   ]
  },
  {
   "cell_type": "markdown",
   "metadata": {
    "id": "-JQE7BLIfOec"
   },
   "source": [
    "The break statement, like in `C`, breaks out of the innermost enclosing for or `while` loop.\n",
    "\n",
    "Loop statements may have an else clause; it is executed when the loop terminates through exhaustion of the iterable (with `for`) or when the condition becomes false (with `while`), but not when the loop is terminated by a `break` statement. "
   ]
  },
  {
   "cell_type": "code",
   "execution_count": null,
   "metadata": {
    "id": "VQ4y8fs6id5-"
   },
   "outputs": [],
   "source": [
    "\"\"\"BREAK statement\"\"\"\n",
    "\n",
    "# Let's terminate the loop in case if we've found the number we need in a range from 0 to 100.\n",
    "number_to_be_found = 42\n",
    "# This variable will record how many time we've entered the \"for\" loop.\n",
    "number_of_iterations = 0\n",
    "\n",
    "for number in range(100):\n",
    "    if number == number_to_be_found:\n",
    "        # Break here and don't continue the loop.\n",
    "        break\n",
    "    else:\n",
    "        number_of_iterations += 1\n",
    "\n",
    "# We need to make sure that break statement has terminated the loop once it found the number.\n",
    "print(number_of_iterations)# == 42"
   ]
  },
  {
   "cell_type": "markdown",
   "metadata": {
    "id": "RiJvLfpha8BU"
   },
   "source": [
    "## **Continue Statement**"
   ]
  },
  {
   "cell_type": "markdown",
   "metadata": {
    "id": "j2AjAXCSfduV"
   },
   "source": [
    "The `continue` statement, also borrowed from `C`, continues with the next iteration of the loop:"
   ]
  },
  {
   "cell_type": "code",
   "execution_count": null,
   "metadata": {
    "id": "NA8iWZBdiiRL"
   },
   "outputs": [],
   "source": [
    "\"\"\"CONTINUE statement in FOR loop\"\"\"\n",
    "\n",
    "# Let's\n",
    "\n",
    "# This list will contain only even numbers from the range.\n",
    "even_numbers = []\n",
    "# This list will contain every other numbers (in this case - ods).\n",
    "rest_of_the_numbers = []\n",
    "\n",
    "for number in range(0, 10):\n",
    "    # Check if remainder after division is zero (which would mean that number is even).\n",
    "    if number % 2 == 0:\n",
    "        even_numbers.append(number)\n",
    "        # Stop current loop iteration and go to the next one immediately.\n",
    "        continue\n",
    "\n",
    "    rest_of_the_numbers.append(number)\n",
    "\n",
    "print(even_numbers)# == [0, 2, 4, 6, 8]\n",
    "print(rest_of_the_numbers)# == [1, 3, 5, 7, 9]"
   ]
  }
 ],
 "metadata": {
  "colab": {
   "authorship_tag": "ABX9TyP1Z+Jb1UB0rI0k7SS7Ttjk",
   "collapsed_sections": [],
   "name": "3_Control_Flow_Python.ipynb",
   "provenance": []
  },
  "kernelspec": {
   "display_name": "Python 3",
   "name": "python3"
  },
  "language_info": {
   "name": "python"
  }
 },
 "nbformat": 4,
 "nbformat_minor": 0
}
