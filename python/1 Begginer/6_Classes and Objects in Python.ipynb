{
 "cells": [
  {
   "cell_type": "markdown",
   "metadata": {
    "id": "gsRxyVY0pbmj"
   },
   "source": [
    "#**Classes and Objects in Python**"
   ]
  },
  {
   "cell_type": "markdown",
   "metadata": {
    "id": "sNHbOycKrnlU"
   },
   "source": [
    "Classes provide a means of bundling data and functionality together. Creating a new class creates a new type of object, allowing new instances of that type to be made. Each class instance can have attributes attached to it for maintaining its state. Class instances can also have methods (defined by its class) for modifying its state."
   ]
  },
  {
   "cell_type": "markdown",
   "metadata": {
    "id": "PSFrqfYUtm9H"
   },
   "source": [
    "Objects have individuality, and multiple names (in multiple scopes) can be bound to the same object. This is known as aliasing in other languages. This is usually not appreciated on a first glance at Python, and can be safely ignored when dealing with immutable basic types (numbers, strings, tuples). However, aliasing has a possibly surprising effect on the semantics of Python code involving mutable objects such as lists, dictionaries, and most other types. This is usually used to the benefit of the program, since aliases behave like pointers in some respects."
   ]
  },
  {
   "cell_type": "markdown",
   "metadata": {
    "id": "NzwodItwpepD"
   },
   "source": [
    "## **Class Definition and statement**"
   ]
  },
  {
   "cell_type": "code",
   "execution_count": 2,
   "metadata": {
    "colab": {
     "base_uri": "https://localhost:8080/"
    },
    "executionInfo": {
     "elapsed": 2051,
     "status": "ok",
     "timestamp": 1621245889848,
     "user": {
      "displayName": "Aishwarya Verma",
      "photoUrl": "https://lh3.googleusercontent.com/a-/AOh14GiG6BREocxcd5R6rzlQGApoCsYso7BQAh63eXNz6Q=s64",
      "userId": "06108390091304498033"
     },
     "user_tz": -330
    },
    "id": "KsyZm4OVuTm2",
    "outputId": "9e3baae7-dc5b-4c02-d4f0-84ed356f437a"
   },
   "outputs": [
    {
     "name": "stdout",
     "output_type": "stream",
     "text": [
      "Hello user\n",
      "---------------------------------------------------\n",
      "Goodbye user\n"
     ]
    }
   ],
   "source": [
    "# Class definitions, like function definitions (def statements) must be executed before they\n",
    "# have any effect. (You could conceivably place a class definition in a branch of an if\n",
    "# statement, or inside a function.)\n",
    "\n",
    "class GreetingClass:\n",
    "    \"\"\"Example of the class definition\n",
    "    This class contains two public methods and doesn't contain constructor.\n",
    "    \"\"\"\n",
    "    name = 'user'\n",
    "\n",
    "    def say_hello(self):\n",
    "        \"\"\"Class method.\"\"\"\n",
    "        # The self parameter is a reference to the class itself, and is used to access variables\n",
    "        # that belongs to the class. It does not have to be named self , you can call it\n",
    "        # whatever you like, but it has to be the first parameter of any function in the class.\n",
    "        return 'Hello ' + self.name\n",
    "\n",
    "    def say_goodbye(self):\n",
    "        \"\"\"Class method.\"\"\"\n",
    "        return 'Goodbye ' + self.name\n",
    "\n",
    "# When a class definition is entered, a new namespace is created, and used as the local scope —\n",
    "# thus, all assignments to local variables go into this new namespace. In particular, function\n",
    "# definitions bind the name of the new function here.\n",
    "\n",
    "# Class instantiation uses function notation. Just pretend that the class object is a\n",
    "# parameterless function that returns a new instance of the class. For example the following\n",
    "# code will creates a new instance of the class and assigns this object to the local variable.\n",
    "greeter = GreetingClass()\n",
    "\n",
    "print(greeter.say_hello())# == 'Hello user'\n",
    "print(\"---------------------------------------------------\")\n",
    "print(greeter.say_goodbye())# == 'Goodbye user'"
   ]
  },
  {
   "cell_type": "markdown",
   "metadata": {
    "id": "8neZhBWfpjT6"
   },
   "source": [
    "## **Class Objects**"
   ]
  },
  {
   "cell_type": "code",
   "execution_count": 3,
   "metadata": {
    "colab": {
     "base_uri": "https://localhost:8080/"
    },
    "executionInfo": {
     "elapsed": 2144,
     "status": "ok",
     "timestamp": 1621245907025,
     "user": {
      "displayName": "Aishwarya Verma",
      "photoUrl": "https://lh3.googleusercontent.com/a-/AOh14GiG6BREocxcd5R6rzlQGApoCsYso7BQAh63eXNz6Q=s64",
      "userId": "06108390091304498033"
     },
     "user_tz": -330
    },
    "id": "9KNhU3NTuU94",
    "outputId": "16858f50-147b-420e-a417-1e99c4945b56"
   },
   "outputs": [
    {
     "name": "stdout",
     "output_type": "stream",
     "text": [
      "0\n",
      "---------------------------------------------------\n",
      "Example of the complex numbers class\n",
      "---------------------------------------------------\n",
      "10\n",
      "---------------------------------------------------\n",
      "10\n",
      "10\n",
      "---------------------------------------------------\n",
      "10\n"
     ]
    }
   ],
   "source": [
    "\"\"\"Class Objects.\n",
    "Class objects support two kinds of operations:\n",
    "- attribute references\n",
    "- instantiation.\n",
    "\"\"\"\n",
    "\n",
    "# ATTRIBUTE REFERENCES use the standard syntax used for all attribute references in\n",
    "# Python: obj.name. Valid attribute names are all the names that were in the class’s namespace\n",
    "# when the class object was created. For class MyCounter the following references are valid\n",
    "# attribute references:\n",
    "\n",
    "class ComplexNumber:\n",
    "    \"\"\"Example of the complex numbers class\"\"\"\n",
    "\n",
    "    real = 0\n",
    "    imaginary = 0\n",
    "\n",
    "    def get_real(self):\n",
    "        \"\"\"Return real part of complex number.\"\"\"\n",
    "        return self.real\n",
    "\n",
    "    def get_imaginary(self):\n",
    "        \"\"\"Return imaginary part of complex number.\"\"\"\n",
    "        return self.imaginary\n",
    "\n",
    "print(ComplexNumber.real)# == 0\n",
    "print(\"---------------------------------------------------\")\n",
    "\n",
    "# __doc__ is also a valid attribute, returning the docstring belonging to the class\n",
    "print(ComplexNumber.__doc__)# == 'Example of the complex numbers class'\n",
    "print(\"---------------------------------------------------\")\n",
    "\n",
    "# Class attributes can also be assigned to, so you can change the value of\n",
    "# ComplexNumber.counter by assignment.\n",
    "ComplexNumber.real = 10\n",
    "print(ComplexNumber.real)# == 10\n",
    "print(\"---------------------------------------------------\")\n",
    "\n",
    "# CLASS INSTANTIATION uses function notation. Just pretend that the class object is a\n",
    "# parameterless function that returns a new instance of the class. For example\n",
    "# (assuming the above class):\n",
    "complex_number = ComplexNumber()\n",
    "\n",
    "print(complex_number.real)# == 10\n",
    "print(complex_number.get_real())# == 10\n",
    "print(\"---------------------------------------------------\")\n",
    "\n",
    "# Let's change counter default value back.\n",
    "ComplexNumber.real = 10\n",
    "print(ComplexNumber.real)# == 10"
   ]
  },
  {
   "cell_type": "code",
   "execution_count": 5,
   "metadata": {
    "colab": {
     "base_uri": "https://localhost:8080/"
    },
    "executionInfo": {
     "elapsed": 992,
     "status": "ok",
     "timestamp": 1621245938946,
     "user": {
      "displayName": "Aishwarya Verma",
      "photoUrl": "https://lh3.googleusercontent.com/a-/AOh14GiG6BREocxcd5R6rzlQGApoCsYso7BQAh63eXNz6Q=s64",
      "userId": "06108390091304498033"
     },
     "user_tz": -330
    },
    "id": "UP_SLPK2yCRt",
    "outputId": "c14ddc31-0aab-41c7-d70f-83aeda4d2c4c"
   },
   "outputs": [
    {
     "name": "stdout",
     "output_type": "stream",
     "text": [
      "3.0 -4.5\n"
     ]
    }
   ],
   "source": [
    "# The instantiation operation (“calling” a class object) creates an empty object. Many classes\n",
    "# like to create objects with instances customized to a specific initial state. Therefore a\n",
    "# class may define a special method named __init__(), like this:\n",
    "\n",
    "class ComplexNumberWithConstructor:\n",
    "    \"\"\"Example of the class with constructor\"\"\"\n",
    "    def __init__(self, real_part, imaginary_part):\n",
    "        self.real = real_part\n",
    "        self.imaginary = imaginary_part\n",
    "\n",
    "    def get_real(self):\n",
    "        \"\"\"Return real part of complex number.\"\"\"\n",
    "        return self.real\n",
    "\n",
    "    def get_imaginary(self):\n",
    "        \"\"\"Return imaginary part of complex number.\"\"\"\n",
    "        return self.imaginary\n",
    "\n",
    "complex_number = ComplexNumberWithConstructor(3.0, -4.5)\n",
    "print(complex_number.real, complex_number.imaginary)# == (3.0, -4.5)"
   ]
  },
  {
   "cell_type": "markdown",
   "metadata": {
    "id": "hwRkphy6pl1K"
   },
   "source": [
    "## **Instance Objects**"
   ]
  },
  {
   "cell_type": "code",
   "execution_count": 6,
   "metadata": {
    "colab": {
     "base_uri": "https://localhost:8080/"
    },
    "executionInfo": {
     "elapsed": 979,
     "status": "ok",
     "timestamp": 1621245960016,
     "user": {
      "displayName": "Aishwarya Verma",
      "photoUrl": "https://lh3.googleusercontent.com/a-/AOh14GiG6BREocxcd5R6rzlQGApoCsYso7BQAh63eXNz6Q=s64",
      "userId": "06108390091304498033"
     },
     "user_tz": -330
    },
    "id": "xqxdT8Q0u2-L",
    "outputId": "8d7c571f-b602-4dde-f55c-3183b989f5a6"
   },
   "outputs": [
    {
     "name": "stdout",
     "output_type": "stream",
     "text": [
      "1\n"
     ]
    }
   ],
   "source": [
    "\"\"\"Instance Objects.\n",
    "Now what can we do with instance objects? The only operations understood by instance objects\n",
    "are attribute references. There are two kinds of valid attribute names:\n",
    "- data attributes\n",
    "- methods.\n",
    "\"\"\"\n",
    "\n",
    "# DATA ATTRIBUTES need not be declared; like local variables, they spring into existence when\n",
    "# they are first assigned to. For example, if x is the instance of MyCounter created above,\n",
    "# the following piece of code will print the value 16, without leaving a trace.\n",
    "\n",
    "class DummyClass:\n",
    "    \"\"\"Dummy class\"\"\"\n",
    "    pass\n",
    "\n",
    "dummy_instance = DummyClass()\n",
    "\n",
    "dummy_instance.temporary_attribute = 1\n",
    "print(dummy_instance.temporary_attribute)# == 1\n",
    "del dummy_instance.temporary_attribute"
   ]
  },
  {
   "cell_type": "markdown",
   "metadata": {
    "id": "I6NO5bcjpoPX"
   },
   "source": [
    "## **Method Object**"
   ]
  },
  {
   "cell_type": "code",
   "execution_count": 7,
   "metadata": {
    "colab": {
     "base_uri": "https://localhost:8080/"
    },
    "executionInfo": {
     "elapsed": 1006,
     "status": "ok",
     "timestamp": 1621245991188,
     "user": {
      "displayName": "Aishwarya Verma",
      "photoUrl": "https://lh3.googleusercontent.com/a-/AOh14GiG6BREocxcd5R6rzlQGApoCsYso7BQAh63eXNz6Q=s64",
      "userId": "06108390091304498033"
     },
     "user_tz": -330
    },
    "id": "IfYFIRWcu50O",
    "outputId": "91dec865-1598-4067-cf30-c69053d09de9"
   },
   "outputs": [
    {
     "name": "stdout",
     "output_type": "stream",
     "text": [
      "10\n",
      "10\n",
      "10\n",
      "10\n"
     ]
    }
   ],
   "source": [
    "class MyCounter:\n",
    "    \"\"\"A simple example of the counter class\"\"\"\n",
    "    counter = 10\n",
    "\n",
    "    def get_counter(self):\n",
    "        \"\"\"Return the counter\"\"\"\n",
    "        return self.counter\n",
    "\n",
    "    def increment_counter(self):\n",
    "        \"\"\"Increment the counter\"\"\"\n",
    "        self.counter += 1\n",
    "        return self.counter\n",
    "# The other kind of instance attribute reference is a method. A method is a function that\n",
    "# “belongs to” an object. (In Python, the term method is not unique to class instances: other\n",
    "# object types can have methods as well. For example, list objects have methods called append,\n",
    "# insert, remove, sort, and so on. However, in the following discussion, we’ll use the term\n",
    "# method exclusively to mean methods of class instance objects, unless explicitly stated\n",
    "# otherwise.)\n",
    "\n",
    "# But be aware that counter.get_counter() is not the same thing as MyCounter.get_counter() —\n",
    "# it is a method object, not a function object.\n",
    "\n",
    "# Usually, a method is called right after it is bound\n",
    "counter = MyCounter()\n",
    "print(counter.get_counter())# == 10\n",
    "\n",
    "# However, it is not necessary to call a method right away: counter.get_counter() is a method\n",
    "# object, and can be stored away and called at a later time. For example:\n",
    "get_counter = counter.get_counter\n",
    "print(get_counter())# == 10\n",
    "\n",
    "# What exactly happens when a method is called? You may have noticed that counter.get_counter()\n",
    "# was called without an argument above, even though the function definition for get_counter()\n",
    "# specified an argument (self). What happened to the argument? Surely Python raises an\n",
    "# exception when a function that requires an argument is called without any — even if the\n",
    "# argument isn’t actually used…\n",
    "\n",
    "# Actually, you may have guessed the answer: the special thing about methods is that the\n",
    "# instance object is passed as the first argument of the function. In our example, the call\n",
    "# counter.get_counter() is exactly equivalent to MyCounter.get_counter(counter). In general,\n",
    "# calling a method with a list of n arguments is equivalent to calling the corresponding\n",
    "# function with an argument list that is created by inserting the method’s instance object\n",
    "# before the first argument.\n",
    "\n",
    "print(counter.get_counter())# == 10\n",
    "print(MyCounter.get_counter(counter))# == 10"
   ]
  },
  {
   "cell_type": "markdown",
   "metadata": {
    "id": "cUQydk7qprys"
   },
   "source": [
    "## **Class and Instance Variables**"
   ]
  },
  {
   "cell_type": "code",
   "execution_count": 9,
   "metadata": {
    "colab": {
     "base_uri": "https://localhost:8080/"
    },
    "executionInfo": {
     "elapsed": 963,
     "status": "ok",
     "timestamp": 1621246042454,
     "user": {
      "displayName": "Aishwarya Verma",
      "photoUrl": "https://lh3.googleusercontent.com/a-/AOh14GiG6BREocxcd5R6rzlQGApoCsYso7BQAh63eXNz6Q=s64",
      "userId": "06108390091304498033"
     },
     "user_tz": -330
    },
    "id": "8KZVxSYwu9s4",
    "outputId": "ee59a103-e4ea-42ef-dd5f-1fab960de302"
   },
   "outputs": [
    {
     "name": "stdout",
     "output_type": "stream",
     "text": [
      "canine\n",
      "canine\n",
      "Fido\n",
      "Buddy\n"
     ]
    }
   ],
   "source": [
    "class Dog:\n",
    "    \"\"\"Dog class example\"\"\"\n",
    "    kind = 'canine'  # Class variable shared by all instances.\n",
    "\n",
    "    def __init__(self, name):\n",
    "        self.name = name  # Instance variable unique to each instance.\n",
    "\n",
    "fido = Dog('Fido')\n",
    "buddy = Dog('Buddy')\n",
    "\n",
    "# Shared by all dogs.\n",
    "print(fido.kind)# == 'canine'\n",
    "print(buddy.kind)# == 'canine'\n",
    "\n",
    "# Unique to fido.\n",
    "print(fido.name)# == 'Fido'\n",
    "\n",
    "# Unique to buddy.\n",
    "print(buddy.name)# == 'Buddy'"
   ]
  },
  {
   "cell_type": "code",
   "execution_count": 10,
   "metadata": {
    "colab": {
     "base_uri": "https://localhost:8080/"
    },
    "executionInfo": {
     "elapsed": 1111,
     "status": "ok",
     "timestamp": 1621246074399,
     "user": {
      "displayName": "Aishwarya Verma",
      "photoUrl": "https://lh3.googleusercontent.com/a-/AOh14GiG6BREocxcd5R6rzlQGApoCsYso7BQAh63eXNz6Q=s64",
      "userId": "06108390091304498033"
     },
     "user_tz": -330
    },
    "id": "oGXdLxr_ytM8",
    "outputId": "ec1850f0-07c3-441b-c69b-7d68d5ee5e51"
   },
   "outputs": [
    {
     "name": "stdout",
     "output_type": "stream",
     "text": [
      "['roll over', 'play dead']\n",
      "['roll over', 'play dead']\n"
     ]
    }
   ],
   "source": [
    "# Shared data can have possibly surprising effects with involving mutable objects such as lists\n",
    "# and dictionaries. For example, the tricks list in the following code should not be used as a\n",
    "# class variable because just a single list would be shared by all Dog instances.\n",
    "\n",
    "# \n",
    "class DogWithSharedTricks:\n",
    "    \"\"\"Dog class example with wrong shared variable usage\"\"\"\n",
    "    tricks = []  # Mistaken use of a class variable (see below) for mutable objects.\n",
    "\n",
    "    def __init__(self, name):\n",
    "        self.name = name  # Instance variable unique to each instance.\n",
    "\n",
    "    def add_trick(self, trick):\n",
    "        \"\"\"Add trick to the dog\n",
    "        This function illustrate mistaken use of mutable class variable tricks (see below).\n",
    "        \"\"\"\n",
    "        self.tricks.append(trick)\n",
    "\n",
    "fido = DogWithSharedTricks('Fido')\n",
    "buddy = DogWithSharedTricks('Buddy')\n",
    "\n",
    "fido.add_trick('roll over')\n",
    "buddy.add_trick('play dead')\n",
    "\n",
    "print(fido.tricks)# == ['roll over', 'play dead']  # unexpectedly shared by all dogs\n",
    "print(buddy.tricks)# == ['roll over', 'play dead']  # unexpectedly shared by all dogs"
   ]
  },
  {
   "cell_type": "code",
   "execution_count": 11,
   "metadata": {
    "colab": {
     "base_uri": "https://localhost:8080/"
    },
    "executionInfo": {
     "elapsed": 936,
     "status": "ok",
     "timestamp": 1621246088419,
     "user": {
      "displayName": "Aishwarya Verma",
      "photoUrl": "https://lh3.googleusercontent.com/a-/AOh14GiG6BREocxcd5R6rzlQGApoCsYso7BQAh63eXNz6Q=s64",
      "userId": "06108390091304498033"
     },
     "user_tz": -330
    },
    "id": "sgWfFjySy9mN",
    "outputId": "a397b334-5f89-4877-cc49-d87fd69ccfd9"
   },
   "outputs": [
    {
     "name": "stdout",
     "output_type": "stream",
     "text": [
      "['roll over']\n",
      "['play dead']\n"
     ]
    }
   ],
   "source": [
    "# Correct design of the class should use an instance variable instead:\n",
    "\n",
    "class DogWithTricks:\n",
    "    \"\"\"Dog class example\"\"\"\n",
    "\n",
    "    def __init__(self, name):\n",
    "        self.name = name  # Instance variable unique to each instance.\n",
    "        self.tricks = []  # creates a new empty list for each dog\n",
    "\n",
    "    def add_trick(self, trick):\n",
    "        \"\"\"Add trick to the dog\n",
    "        This function illustrate mistaken use of mutable class variable tricks (see below).\n",
    "        \"\"\"\n",
    "        self.tricks.append(trick)\n",
    "\n",
    "fido = DogWithTricks('Fido')\n",
    "buddy = DogWithTricks('Buddy')\n",
    "\n",
    "fido.add_trick('roll over')\n",
    "buddy.add_trick('play dead')\n",
    "\n",
    "print(fido.tricks)# == ['roll over']\n",
    "print(buddy.tricks)# == ['play dead']"
   ]
  }
 ],
 "metadata": {
  "colab": {
   "authorship_tag": "ABX9TyORVwsPAwT2upK6o5jXTRRJ",
   "collapsed_sections": [],
   "name": "5_Classes and Objects in Python.ipynb",
   "provenance": [],
   "toc_visible": true
  },
  "kernelspec": {
   "display_name": "Python 3",
   "name": "python3"
  },
  "language_info": {
   "name": "python"
  }
 },
 "nbformat": 4,
 "nbformat_minor": 0
}
