{
 "cells": [
  {
   "cell_type": "markdown",
   "metadata": {
    "id": "1YgZPZ0hrGJq"
   },
   "source": [
    "# **Data Types in Python**"
   ]
  },
  {
   "cell_type": "markdown",
   "metadata": {
    "id": "t7g273N5ry__"
   },
   "source": [
    "## **Numbers**"
   ]
  },
  {
   "cell_type": "markdown",
   "metadata": {
    "id": "Xkk1dpHar1w6"
   },
   "source": [
    "There are four numeric types in Python:\n",
    "- `int` for integer\n",
    "- `bool` for bool values(True/False or 0/1)(e.g. False and True, acting like 0 and 1)\n",
    "- `float` for float values(e.g. - 2.0563, 8.256, etc)\n",
    "- `complex` for complex numbers(e.g. 2 + 6j, 2 - 9j)"
   ]
  },
  {
   "cell_type": "code",
   "execution_count": null,
   "metadata": {
    "id": "NhyAmbbfpClu"
   },
   "outputs": [],
   "source": [
    "#integer\n",
    "\n",
    "# Int, or integer, is a whole number, positive or negative,\n",
    "# without decimals, of unlimited length.\n",
    "\n",
    "x = 20\n",
    "print(type(x))\n",
    "print(\"---------------------------------------------------------\")\n",
    "\n",
    "x = -20 \n",
    "print(type(x))\n",
    "print(\"---------------------------------------------------------\")\n",
    "\n",
    "x = 256563546646456321321321564564\n",
    "print(type(x))"
   ]
  },
  {
   "cell_type": "code",
   "execution_count": null,
   "metadata": {
    "id": "2KtQ1HiAszw8"
   },
   "outputs": [],
   "source": [
    "# Booleans represent the truth values False and True. The two objects representing the values\n",
    "# False and True are the only Boolean objects. The Boolean type is a subtype of the integer type,\n",
    "# and Boolean values behave like the values 0 and 1, respectively, in almost all contexts, the\n",
    "# exception being that when converted to a string, the strings \"False\" or \"True\" are returned,\n",
    "# respectively.\n",
    "\n",
    "#isinstance: Returns a Boolean stating whether the object is an instance or subclass of another object.\n",
    "\n",
    "\n",
    "true_boolean = True\n",
    "false_boolean = False\n",
    "\n",
    "print(true_boolean)\n",
    "print(not false_boolean)\n",
    "print(\"---------------------------------------------------------\")\n",
    "\n",
    "print(isinstance(true_boolean, bool))\n",
    "print(isinstance(false_boolean, bool))\n",
    "print(\"---------------------------------------------------------\")\n",
    "\n",
    "# Let's try to cast boolean to string.\n",
    "print(str(true_boolean) == \"True\")\n",
    "print(str(false_boolean) == \"False\")\n",
    "\n",
    "print(\"---------------------------------------------------------\")\n",
    "\n",
    "x = bool(5)\n",
    "\n",
    "#display x:\n",
    "print(x)\n",
    "\n",
    "#display the data type of x:\n",
    "print(type(x)) "
   ]
  },
  {
   "cell_type": "code",
   "execution_count": null,
   "metadata": {
    "id": "M9LRB59T3kXJ"
   },
   "outputs": [],
   "source": [
    "# Float, or \"floating point number\" is a number, positive or negative,\n",
    "#containing one or more decimals.\n",
    "\n",
    "x = 2.65\n",
    "print(x)\n",
    "print(type(x))\n",
    "\n",
    "\n",
    "print(\"---------------------------------------------------------\")\n",
    "# Another way of declaring float is using float() function.\n",
    "x_via_func = float(7)\n",
    "print(x_via_func)\n",
    "print(type(x_via_func))\n",
    "\n",
    "print(\"---------------------------------------------------------\")\n",
    "x_neg = -63.8523\n",
    "print(x_neg)\n",
    "print(type(x_neg))\n",
    "\n",
    "print(\"---------------------------------------------------------\")\n",
    "\n",
    "# Float can also be scientific numbers with an \"e\" to indicate\n",
    "# the power of 10.\n",
    "x_with_small_e = 35e3\n",
    "print(x_with_small_e)\n",
    "print(type(x_with_small_e))\n",
    "\n",
    "print(\"---------------------------------------------------------\")\n",
    "x_with_big_e = 12E4\n",
    "print(x_with_big_e)\n",
    "print(type(x_with_big_e))\n",
    "\n",
    "print(\"---------------------------------------------------------\")\n",
    "\n",
    "neg_x_with_e = -87.7e100\n",
    "print(neg_x_with_e)\n",
    "print(type(neg_x_with_e))"
   ]
  },
  {
   "cell_type": "code",
   "execution_count": null,
   "metadata": {
    "id": "SJMjrfbc474Z"
   },
   "outputs": [],
   "source": [
    "#Complex Type\n",
    "\n",
    "complex_n1 = 5 + 6j\n",
    "print(complex_n1)\n",
    "print(type(complex_n1))\n",
    "print(\"---------------------------------------------------------\")\n",
    "\n",
    "complex_n2 = 3 - 2j\n",
    "print(complex_n2)\n",
    "print(type(complex_n2))\n",
    "\n",
    "\n",
    "print(\"---------------------------------------------------------\")\n",
    "#Operation\n",
    "print(complex_n1 * complex_n2)\n",
    "print(type(complex_n1 * complex_n2))"
   ]
  },
  {
   "cell_type": "markdown",
   "metadata": {
    "id": "UPzJFdwW6G3M"
   },
   "source": [
    "## **String and its Operations**"
   ]
  },
  {
   "cell_type": "code",
   "execution_count": null,
   "metadata": {
    "id": "E-o7B_176U48"
   },
   "outputs": [],
   "source": [
    "# Python can also manipulate strings, which can be\n",
    "# expressed in several ways. They can be enclosed in single quotes ('...')\n",
    "# or double quotes (\"...\") with the same result.\n",
    "#For example:\n",
    "\n",
    "s1 = \"Steve\" #string with double quotes\n",
    "s2 = 'Steve' #string with single quotes\n",
    "\n",
    "print(s1==s2)\n",
    "\n",
    "print(\"---------------------------------------------------------\")\n",
    "\n",
    "# \\ can be used to escape quotes.\n",
    "# use \\' to escape the single quote or use double quotes instead.\n",
    "x1 = 'isn\\'t'\n",
    "x2 = \"isn't\"\n",
    "print(x1==x2)\n",
    "\n",
    "print(\"---------------------------------------------------------\")\n",
    "\n",
    "# \\n means newline.\n",
    "multiline_string = 'First line.\\nSecond line.'\n",
    "# Without print(), \\n is included in the output.\n",
    "# But with print(), \\n produces a new line.\n",
    "print(multiline_string)"
   ]
  },
  {
   "cell_type": "code",
   "execution_count": null,
   "metadata": {
    "id": "-QMZxd5o6U25"
   },
   "outputs": [],
   "source": [
    "# Strings can be indexed, with the first character having index 0.\n",
    "# There is no separate character type; a character is simply a string\n",
    "# of size one. Note that since -0 is the same as 0, negative indices\n",
    "# start from -1.\n",
    "word = 'DataType'\n",
    "print(word[0]) == 'P'  # First character.\n",
    "print(word[5])  # Fifth character.\n",
    "print(word[-1])  # Last character.\n",
    "print(word[-2])  # Second-last character.\n",
    "print(word[-6])  # Sixth from the end or zeroth from the beginning.\n",
    "\n",
    "print(\"---------------------------------------------------------\")\n",
    "\n",
    "print(type(word[0]))"
   ]
  },
  {
   "cell_type": "code",
   "execution_count": null,
   "metadata": {
    "id": "VKAejRJi6U0n"
   },
   "outputs": [],
   "source": [
    "\n",
    "\n",
    "# In addition to indexing, slicing is also supported. While indexing is\n",
    "# used to obtain individual characters, slicing allows you to obtain\n",
    "# substring:\n",
    "print(word[0:2])  # Characters from position 0 (included) to 2 (excluded)\n",
    "\n",
    "print(\"---------------------------------------------------------\")\n",
    "\n",
    "print(word[2:8])  # Characters from position 2 (included) to 5 (excluded)"
   ]
  },
  {
   "cell_type": "code",
   "execution_count": null,
   "metadata": {
    "id": "aH5-G4OB6Uyk"
   },
   "outputs": [],
   "source": [
    "\n",
    "# Note how the start is always included, and the end always excluded.\n",
    "# This makes sure that s[:i] + s[i:] is always equal to s:\n",
    "print(word[:2] + word[2:]) #DataType\n",
    "print(\"---------------------------------------------------------\")\n",
    "print(word[:4] + word[4:]) #DataType"
   ]
  },
  {
   "cell_type": "code",
   "execution_count": null,
   "metadata": {
    "id": "c7FbA7Oz6UwB"
   },
   "outputs": [],
   "source": [
    "# Slice indices have useful defaults; an omitted first index defaults to\n",
    "# zero, an omitted second index defaults to the size of the string being\n",
    "# sliced.\n",
    "print(word[:2])  # Character from the beginning to position 2 (excluded).\n",
    "print(\"---------------------------------------------------------\")\n",
    "\n",
    "print(word[4:])  # Characters from position 4 (included) to the end.\n",
    "print(\"---------------------------------------------------------\")\n",
    "\n",
    "print(word[-2:]) # Characters from the second-last (included) to the end."
   ]
  },
  {
   "cell_type": "code",
   "execution_count": null,
   "metadata": {
    "id": "oYQCAmb5DMnz"
   },
   "outputs": [],
   "source": [
    "\n",
    "# One way to remember how slices work is to think of the indices as\n",
    "# pointing between characters, with the left edge of the first character\n",
    "# numbered 0. Then the right edge of the last character of a string of n\n",
    "# characters has index n, for example:\n",
    "#\n",
    "# +---+---+---+---+---+---+---+---+---+\n",
    "#  | D | a | t | a | T | y | p | e |\n",
    "#  +---+---+---+---+---+---+---+---+---+\n",
    "#  0   1   2   3   4   5   6   7   8\n",
    "# -8  -7  -6  -5  -4  -3  -2  -1  "
   ]
  },
  {
   "cell_type": "code",
   "execution_count": null,
   "metadata": {
    "id": "dY9P-zbiDy_N"
   },
   "outputs": [],
   "source": [
    "# Attempting to use an index that is too large will result in an error.\n",
    "print(word[100])"
   ]
  },
  {
   "cell_type": "code",
   "execution_count": null,
   "metadata": {
    "id": "_v6iE0bfD3HK"
   },
   "outputs": [],
   "source": [
    "# However, out of range slice indexes are handled gracefully when used\n",
    "# for slicing:\n",
    "print(word[4:100])\n",
    "\n",
    "print(\"---------------------------------------------------------\")\n",
    "\n",
    "print(word[100:]) #Print None because this index is invalid"
   ]
  },
  {
   "cell_type": "code",
   "execution_count": null,
   "metadata": {
    "id": "YJWTGOEpEShJ"
   },
   "outputs": [],
   "source": [
    "# Python strings cannot be changed — they are immutable. Therefore,\n",
    "# assigning to an indexed position in the string results in an error\n",
    "word[0] = 'T'\n",
    "print(word)"
   ]
  },
  {
   "cell_type": "code",
   "execution_count": null,
   "metadata": {
    "id": "F5QAq18dEyKr"
   },
   "outputs": [],
   "source": [
    "word"
   ]
  },
  {
   "cell_type": "code",
   "execution_count": null,
   "metadata": {
    "id": "rTnpDuM7Eezx"
   },
   "outputs": [],
   "source": [
    "# If you need a different string, you should create a new one:\n",
    "print('T' + word[1:]) # it concatenate T and takes \"DataType\" from index 1 i.e., a\n",
    "\n",
    "print(\"---------------------------------------------------------\")\n",
    "\n",
    "print(word[:2] + 'String') #word[:2] takes inital 2 alphabets from string and concatenated with \"String\" word"
   ]
  },
  {
   "cell_type": "code",
   "execution_count": null,
   "metadata": {
    "id": "enU6WubrFJGu"
   },
   "outputs": [],
   "source": [
    "# The built-in function len() returns the length of a string:\n",
    "characters = 'pneomonoultramicroscopicsilicovolcanocanoasis'\n",
    "print(len(characters)) #len() prints the length of object"
   ]
  },
  {
   "cell_type": "code",
   "execution_count": null,
   "metadata": {
    "id": "SamHwNNrFu1r"
   },
   "outputs": [],
   "source": [
    "\n",
    "# String literals can span multiple lines. One way is using triple-quotes: \"\"\"...\"\"\"\n",
    "# or '''...'''. End of lines are automatically included in the string, but it’s possible\n",
    "# to prevent this by adding a \\ at the end of the line. The following example:\n",
    "multi_line_string = '''\\\n",
    "    First line\n",
    "    Second line\n",
    "'''\n",
    "\n",
    "print(multi_line_string)"
   ]
  },
  {
   "cell_type": "markdown",
   "metadata": {
    "id": "Ojl7b0gsF1vg"
   },
   "source": [
    "### String Operations"
   ]
  },
  {
   "cell_type": "code",
   "execution_count": null,
   "metadata": {
    "id": "Qc92rgSCF6q6"
   },
   "outputs": [],
   "source": [
    "# Strings can be concatenated (glued together) with the + operator,\n",
    "# and repeated with *: 3 times 'aa', followed by 'bcd'\n",
    "\n",
    "print(3 * 'aa' + 'bcd') #output aaaaaabcs\n",
    "\n",
    "print(\"---------------------------------------------------------\")\n",
    "\n",
    "\n",
    "# 'Py' 'thon'\n",
    "s = 'python''string'\n",
    "print(s)\n",
    "\n",
    "print(\"---------------------------------------------------------\")\n",
    "\n",
    "# This feature is particularly useful when you want to break long strings:\n",
    "text = (\n",
    "  'Put several strings within parentheses '\n",
    "  'to have them joined together.'\n",
    ")\n",
    "print(text) #'Put several strings within parentheses to have them joined together.'\n",
    "\n",
    "print(\"---------------------------------------------------------\")\n",
    "\n",
    "\n",
    "# If you want to concatenate variables or a variable and a literal, use +:\n",
    "prefix = 'Python'\n",
    "print(prefix + 'String') #concatenation without leaving any space\n"
   ]
  },
  {
   "cell_type": "markdown",
   "metadata": {
    "id": "Uyj9hZnwF7jC"
   },
   "source": [
    "### String Methods"
   ]
  },
  {
   "cell_type": "code",
   "execution_count": null,
   "metadata": {
    "id": "KY2F7pwBHKv0"
   },
   "outputs": [],
   "source": [
    "\n",
    "hello_world_string = \"Hello, World!\"\n",
    "\n",
    "# The strip() method removes any whitespace from the beginning or the end.\n",
    "string_with_whitespaces = \"     Hello, World! \"\n",
    "print(string_with_whitespaces.strip())"
   ]
  },
  {
   "cell_type": "code",
   "execution_count": null,
   "metadata": {
    "id": "eW9vXae9o3N2"
   },
   "outputs": [],
   "source": [
    "# The len() method returns the length of a string.\n",
    "print(len(hello_world_string))"
   ]
  },
  {
   "cell_type": "code",
   "execution_count": null,
   "metadata": {
    "id": "OZ0xWLloo9hD"
   },
   "outputs": [],
   "source": [
    "# The lower() method returns the string in lower case.\n",
    "print(hello_world_string.lower())"
   ]
  },
  {
   "cell_type": "code",
   "execution_count": null,
   "metadata": {
    "id": "OAkxb1kRpDYM"
   },
   "outputs": [],
   "source": [
    "# The upper() method returns the string in upper case.\n",
    "print(hello_world_string.upper()) # 'HELLO, WORLD!'"
   ]
  },
  {
   "cell_type": "code",
   "execution_count": null,
   "metadata": {
    "id": "iyX1-iC3pKrz"
   },
   "outputs": [],
   "source": [
    "# The replace() method replaces a string with another string.\n",
    "print(hello_world_string.replace('H', 'J')) #'Jello, World!'"
   ]
  },
  {
   "cell_type": "code",
   "execution_count": null,
   "metadata": {
    "id": "ECEwNfDNv418"
   },
   "outputs": [],
   "source": [
    "# Converts the first character to upper case\n",
    "print('low letter at the beginning'.capitalize()) #== 'Low letter at the beginning'"
   ]
  },
  {
   "cell_type": "code",
   "execution_count": null,
   "metadata": {
    "id": "eOENPKZlv9ZB"
   },
   "outputs": [],
   "source": [
    "# Returns the number of times a specified value occurs in a string.\n",
    "print('low letter at the beginning'.count('t'))# == 4"
   ]
  },
  {
   "cell_type": "code",
   "execution_count": null,
   "metadata": {
    "id": "oLM-rXZXxrkt"
   },
   "outputs": [],
   "source": [
    "# Searches the string for a specified value and returns the position of where it was found.\n",
    "print('Hello, welcome to my world'.find('welcome'))#== 7"
   ]
  },
  {
   "cell_type": "code",
   "execution_count": null,
   "metadata": {
    "id": "JmI1fkWKxvhN"
   },
   "outputs": [],
   "source": [
    "# Converts the first character of each word to upper case\n",
    "print('Welcome to my world'.title())# == 'Welcome To My World'"
   ]
  },
  {
   "cell_type": "code",
   "execution_count": null,
   "metadata": {
    "id": "9XGr-CUEx0tX"
   },
   "outputs": [],
   "source": [
    "# Returns a string where a specified value is replaced with a specified value.\n",
    "print('I like bananas'.replace('bananas', 'apples'))# == 'I like apples'"
   ]
  },
  {
   "cell_type": "code",
   "execution_count": null,
   "metadata": {
    "id": "ufgvcVFJzGO3"
   },
   "outputs": [],
   "source": [
    "# Joins the elements of an iterable to the end of the string.\n",
    "my_tuple = ('John', 'Peter', 'Vicky')\n",
    "print(', '.join(my_tuple))# == 'John, Peter, Vicky'"
   ]
  },
  {
   "cell_type": "code",
   "execution_count": null,
   "metadata": {
    "id": "_1ZA6IROzH83"
   },
   "outputs": [],
   "source": [
    "# Returns True if all characters in the string are upper case.\n",
    "print('ABC'.isupper())\n",
    "print('AbC'.isupper())"
   ]
  },
  {
   "cell_type": "code",
   "execution_count": null,
   "metadata": {
    "id": "_lo6GcyNzJfU"
   },
   "outputs": [],
   "source": [
    "\n",
    "# Check if all the characters in the text are letters.\n",
    "print('CompanyX'.isalpha())\n",
    "print('Company 23'.isalpha())"
   ]
  },
  {
   "cell_type": "code",
   "execution_count": null,
   "metadata": {
    "id": "F0T2khqlzLH8"
   },
   "outputs": [],
   "source": [
    "\n",
    "# Returns True if all characters in the string are decimals.\n",
    "print('1234'.isdecimal())\n",
    "print('a21453'.isdecimal())"
   ]
  },
  {
   "cell_type": "markdown",
   "metadata": {
    "id": "o6a0ElT_GJL_"
   },
   "source": [
    "### String Formatting"
   ]
  },
  {
   "cell_type": "markdown",
   "metadata": {
    "id": "Ewpbmd9g0i9V"
   },
   "source": []
  },
  {
   "cell_type": "code",
   "execution_count": null,
   "metadata": {
    "id": "EJptWzmp0kJi"
   },
   "outputs": [],
   "source": [
    "\"\"\"String formatting.\n",
    "Often you’ll want more control over the formatting of your output than simply printing\n",
    "space-separated values. There are several ways to format output\n",
    "\"\"\""
   ]
  },
  {
   "cell_type": "code",
   "execution_count": null,
   "metadata": {
    "id": "4lx2SOIU0mP3"
   },
   "outputs": [],
   "source": [
    "# To use formatted string literals, begin a string with f or F before the opening quotation\n",
    "# mark or triple quotation mark. Inside this string, you can write a Python expression\n",
    "# between { and } characters that can refer to variables or literal values.\n",
    "year = 2018\n",
    "event = 'conference'\n",
    "\n",
    "print(f'Results of the {year} {event}')#== 'Results of the 2018 conference'"
   ]
  },
  {
   "cell_type": "code",
   "execution_count": null,
   "metadata": {
    "id": "DkkpNMUs0rQ4"
   },
   "outputs": [],
   "source": [
    "# The str.format() method of strings requires more manual effort. You’ll still use { and } to\n",
    "# mark where a variable will be substituted and can provide detailed formatting directives,\n",
    "# but you’ll also need to provide the information to be formatted.\n",
    "yes_votes = 42_572_654  # equivalent of 42572654\n",
    "no_votes = 43_132_495   # equivalent of 43132495\n",
    "percentage = yes_votes / (yes_votes + no_votes)\n",
    "\n",
    "print('{:-9} YES votes  {:2.2%}'.format(yes_votes, percentage) == ' 42572654 YES votes  49.67%')"
   ]
  },
  {
   "cell_type": "code",
   "execution_count": null,
   "metadata": {
    "id": "ITk2o-1M0w01"
   },
   "outputs": [],
   "source": [
    "\n",
    "# When you don’t need fancy output but just want a quick display of some variables for debugging\n",
    "# purposes, you can convert any value to a string with the repr() or str() functions. The str()\n",
    "# function is meant to return representations of values which are fairly human-readable, while\n",
    "# repr() is meant to generate representations which can be read by the interpreter (or will\n",
    "# force a SyntaxError if there is no equivalent syntax). For objects which don’t have a\n",
    "# particular representation for human consumption, str() will return the same value as repr().\n",
    "# Many values, such as numbers or structures like lists and dictionaries, have the same\n",
    "# representation using either function. Strings, in particular, have two distinct\n",
    "# representations.\n",
    "\n",
    "greeting = 'Hello, world.'\n",
    "first_num = 10 * 3.25\n",
    "second_num = 200 * 200\n",
    "\n",
    "print(str(greeting))# 'Hello, world.'\n",
    "print(repr(greeting))# == \"'Hello, world.'\"\n",
    "print(str(1/7)) #= = '0.14285714285714285'\n",
    "\n",
    "# The argument to repr() may be any Python object:\n",
    "print(repr((first_num, second_num, ('spam', 'eggs'))))# == \"(32.5, 40000, ('spam', 'eggs'))\""
   ]
  },
  {
   "cell_type": "code",
   "execution_count": null,
   "metadata": {
    "id": "8BpLWSEs1ATf"
   },
   "outputs": [],
   "source": [
    "# Formatted String Literals\n",
    "\n",
    "# Formatted string literals (also called f-strings for short) let you include the value of\n",
    "# Python expressions inside a string by prefixing the string with f or F and writing\n",
    "# expressions as {expression}.\n",
    "\n",
    "# An optional format specifier can follow the expression. This allows greater control over how\n",
    "# the value is formatted. The following example rounds pi to three places after the decimal.\n",
    "pi_value = 3.14159\n",
    "print(f'The value of pi is {pi_value:.3f}.')## == 'The value of pi is 3.142.')\n",
    "\n",
    "# Passing an integer after the ':' will cause that field to be a minimum number of characters\n",
    "# wide. This is useful for making columns line up:\n",
    "table_data = {'Sjoerd': 4127, 'Jack': 4098, 'Dcab': 7678}\n",
    "table_string = ''\n",
    "for name, phone in table_data.items():\n",
    "    table_string += f'{name:7}==>{phone:7d}'\n",
    "#table_string == ('Sjoerd ==>   4127'\n",
    "#                        'Jack   ==>   4098'\n",
    "#                        'Dcab   ==>   7678')\n",
    "print(table_string)"
   ]
  },
  {
   "cell_type": "code",
   "execution_count": null,
   "metadata": {
    "id": "Y5G297N71OWi"
   },
   "outputs": [],
   "source": [
    "# The String format() Method\n",
    "\n",
    "# Basic usage of the str.format() method looks like this:\n",
    "print('We are {} who say \"{}!\"'.format('knights', 'Ni'))# == 'We are knights who say \"Ni!\"'"
   ]
  },
  {
   "cell_type": "code",
   "execution_count": null,
   "metadata": {
    "id": "_TcTrxWq1ax-"
   },
   "outputs": [],
   "source": [
    "# The brackets and characters within them (called format fields) are replaced with the objects\n",
    "# passed into the str.format() method. A number in the brackets can be used to refer to the\n",
    "# position of the object passed into the str.format() method\n",
    "print('{0} and {1}'.format('spam', 'eggs'))# == 'spam and eggs'\n",
    "print('{1} and {0}'.format('spam', 'eggs'))# == 'eggs and spam'"
   ]
  },
  {
   "cell_type": "code",
   "execution_count": null,
   "metadata": {
    "id": "ua9OueoB1kOj"
   },
   "outputs": [],
   "source": [
    "# If keyword arguments are used in the str.format() method, their values are referred to by\n",
    "# using the name of the argument.\n",
    "formatted_string = 'This {food} is {adjective}.'.format(\n",
    "    food='spam',\n",
    "    adjective='absolutely horrible'\n",
    ")\n",
    "\n",
    "print(formatted_string)# == 'This spam is absolutely horrible.'"
   ]
  },
  {
   "cell_type": "code",
   "execution_count": null,
   "metadata": {
    "id": "5m8_m_HT1qYa"
   },
   "outputs": [],
   "source": [
    "\n",
    "# Positional and keyword arguments can be arbitrarily combined\n",
    "formatted_string = 'The story of {0}, {1}, and {other}.'.format(\n",
    "    'Bill',\n",
    "    'Manfred',\n",
    "    other='Georg'\n",
    ")\n",
    "\n",
    "print(formatted_string)# == 'The story of Bill, Manfred, and Georg.'"
   ]
  },
  {
   "cell_type": "code",
   "execution_count": null,
   "metadata": {
    "id": "6uN4xMg_2A-n"
   },
   "outputs": [],
   "source": [
    "\n",
    "# If you have a really long format string that you don’t want to split up, it would be nice if\n",
    "# you could reference the variables to be formatted by name instead of by position. This can be\n",
    "# done by simply passing the dict and using square brackets '[]' to access the keys\n",
    "\n",
    "table = {'Sjoerd': 4127, 'Jack': 4098, 'Dcab': 8637678}\n",
    "formatted_string = 'Jack: {0[Jack]:d}; Sjoerd: {0[Sjoerd]:d}; Dcab: {0[Dcab]:d}'.format(table)\n",
    "\n",
    "print(formatted_string)# == 'Jack: 4098; Sjoerd: 4127; Dcab: 8637678'"
   ]
  },
  {
   "cell_type": "code",
   "execution_count": null,
   "metadata": {
    "id": "zpGunorF2JsC"
   },
   "outputs": [],
   "source": [
    "# This could also be done by passing the table as keyword arguments with the ‘**’ notation.\n",
    "formatted_string = 'Jack: {Jack:d}; Sjoerd: {Sjoerd:d}; Dcab: {Dcab:d}'.format(**table)\n",
    "\n",
    "print(formatted_string)# == 'Jack: 4098; Sjoerd: 4127; Dcab: 8637678'"
   ]
  },
  {
   "cell_type": "markdown",
   "metadata": {
    "id": "ar2AaYp-HZ6C"
   },
   "source": [
    "## **List and their Operations**"
   ]
  },
  {
   "cell_type": "markdown",
   "metadata": {
    "id": "aJl09LmKHoz-"
   },
   "source": [
    "A list is a data structure in Python that is a mutable, or changeable, ordered sequence of elements. Each element or value that is inside of a list is called an item. Just as strings are defined as characters between quotes, lists are defined by having values between square brackets `[ ]`"
   ]
  },
  {
   "cell_type": "code",
   "execution_count": null,
   "metadata": {
    "id": "PLhxceZZHY_Q"
   },
   "outputs": [],
   "source": [
    "#A list can be defined by two ways\n",
    "#1\n",
    "list1 = [1,2,3, \"a\", \"850\", 7.62]\n",
    "print(list1)\n",
    "print(type(list1))\n",
    "\n",
    "\n",
    "#2\n",
    "list2 = list([1,2,3, \"a\", \"850\", 7.62]) #here list is the keyword to form the list\n",
    "print(list2)\n",
    "print(type(list2))"
   ]
  },
  {
   "cell_type": "code",
   "execution_count": null,
   "metadata": {
    "id": "NnG0wZkg2TH6"
   },
   "outputs": [],
   "source": [
    "# Lists are very similar to arrays. They can contain any type of variable, and they can contain\n",
    "# as many variables as you wish. Lists can also be iterated over in a very simple manner.\n",
    "# Here is an example of how to build a list.\n",
    "squares = [1, 4, 9, 16, 25]\n",
    "\n",
    "print(type(squares))"
   ]
  },
  {
   "cell_type": "code",
   "execution_count": null,
   "metadata": {
    "id": "ma_-dEXx2ZMw"
   },
   "outputs": [],
   "source": [
    "# Like strings (and all other built-in sequence type), lists can be\n",
    "# indexed and sliced:\n",
    "print(squares[0])# == 1  # indexing returns the item\n",
    "print(squares[-1])# == 25\n",
    "print(squares[-3:])# == [9, 16, 25]  # slicing returns a new list"
   ]
  },
  {
   "cell_type": "code",
   "execution_count": null,
   "metadata": {
    "id": "aKqz_-2r2hNs"
   },
   "outputs": [],
   "source": [
    "# All slice operations return a new list containing the requested elements.\n",
    "# This means that the following slice returns a new (shallow) copy of\n",
    "# the list:\n",
    "print(squares[:])# == [1, 4, 9, 16, 25]"
   ]
  },
  {
   "cell_type": "code",
   "execution_count": null,
   "metadata": {
    "id": "gk9FcWrT2mSe"
   },
   "outputs": [],
   "source": [
    "# Lists also support operations like concatenation:\n",
    "print(squares + [36, 49, 64, 81, 100])# == [1, 4, 9, 16, 25, 36, 49, 64, 81, 100]"
   ]
  },
  {
   "cell_type": "code",
   "execution_count": null,
   "metadata": {
    "id": "DgP_rXsf3RyB"
   },
   "outputs": [],
   "source": [
    "# Unlike strings, which are immutable, lists are a mutable type, i.e. it\n",
    "# is possible to change their content:\n",
    "cubes = [1, 8, 27, 65, 125]  # something's wrong here, the cube of 4 is 64!\n",
    "cubes[3] = 64  # replace the wrong value\n",
    "print(cubes)# == [1, 8, 27, 64, 125]"
   ]
  },
  {
   "cell_type": "code",
   "execution_count": null,
   "metadata": {
    "id": "Txf3vmk33uoc"
   },
   "outputs": [],
   "source": [
    "# You can also add new items at the end of the list, by using\n",
    "# the append() method\n",
    "cubes.append(216)  # add the cube of 6\n",
    "cubes.append(7 ** 3)  # and the cube of 7\n",
    "print(cubes)# == [1, 8, 27, 64, 125, 216, 343]"
   ]
  },
  {
   "cell_type": "code",
   "execution_count": null,
   "metadata": {
    "id": "oGNwFPx54g5g"
   },
   "outputs": [],
   "source": [
    "# Assignment to slices is also possible, and this can even change the size\n",
    "# of the list or clear it entirely:\n",
    "letters = ['a', 'b', 'c', 'd', 'e', 'f', 'g']\n",
    "letters[2:5] = ['C', 'D', 'E']  # replace some values\n",
    "print(letters)# == ['a', 'b', 'C', 'D', 'E', 'f', 'g']\n",
    "letters[2:5] = []  # now remove them\n",
    "print(\"---------------------------------------------------------\")\n",
    "\n",
    "print(letters) #== ['a', 'b', 'f', 'g']\n",
    "# clear the list by replacing all the elements with an empty list\n",
    "letters[:] = []\n",
    "print(\"---------------------------------------------------------\")\n",
    "\n",
    "print(letters)# == []"
   ]
  },
  {
   "cell_type": "code",
   "execution_count": null,
   "metadata": {
    "id": "hzRcQasC4_45"
   },
   "outputs": [],
   "source": [
    "# The built-in function len() also applies to lists\n",
    "letters = ['a', 'b', 'c', 'd']\n",
    "print(len(letters))# == 4"
   ]
  },
  {
   "cell_type": "code",
   "execution_count": null,
   "metadata": {
    "id": "6EHjaGUr5E2R"
   },
   "outputs": [],
   "source": [
    "# It is possible to nest lists (create lists containing other lists),\n",
    "# for example:\n",
    "list_of_chars = ['a', 'b', 'c']\n",
    "list_of_numbers = [1, 2, 3]\n",
    "mixed_list = [list_of_chars, list_of_numbers]\n",
    "print( mixed_list) #== [['a', 'b', 'c'], [1, 2, 3]]\n",
    "print(\"---------------------------------------------------------\")\n",
    "\n",
    "print( mixed_list[0])# == ['a', 'b', 'c']\n",
    "print(\"---------------------------------------------------------\")\n",
    "\n",
    "print(mixed_list[0][1])# == 'b'"
   ]
  },
  {
   "cell_type": "markdown",
   "metadata": {
    "id": "8QEjbSgEDxlx"
   },
   "source": [
    "List Methods"
   ]
  },
  {
   "cell_type": "code",
   "execution_count": null,
   "metadata": {
    "id": "NSoZifwWD8lh"
   },
   "outputs": [],
   "source": [
    "fruits = ['orange', 'apple', 'pear', 'banana', 'kiwi', 'apple', 'banana']\n",
    "\n",
    "# list.append(x)\n",
    "# Add an item to the end of the list.\n",
    "# Equivalent to a[len(a):] = [x].\n",
    "fruits.append('grape')\n",
    "print(fruits)# == ['orange', 'apple', 'pear', 'banana', 'kiwi', 'apple', 'banana', 'grape']\n",
    "\n",
    "# list.remove(x)\n",
    "# Remove the first item from the list whose value is equal to x.\n",
    "# It raises a ValueError if there is no such item.\n",
    "fruits.remove('grape')\n",
    "print(\"---------------------------------------------------------\")\n",
    "\n",
    "print(fruits) #== ['orange', 'apple', 'pear', 'banana', 'kiwi', 'apple', 'banana']\n",
    "\n",
    "# list.insert(i, x)\n",
    "# Insert an item at a given position. The first argument is the index of the element\n",
    "# before which to insert, so a.insert(0, x) inserts at the front of the list,\n",
    "# and a.insert(len(a), x) is equivalent to a.append(x).\n",
    "fruits.insert(0, 'grape')\n",
    "print(\"---------------------------------------------------------\")\n",
    "\n",
    "print(fruits) #== ['grape', 'orange', 'apple', 'pear', 'banana', 'kiwi', 'apple', 'banana']\n",
    "\n",
    "# list.index(x[, start[, end]])\n",
    "# Return zero-based index in the list of the first item whose value is equal to x.\n",
    "# Raises a ValueError if there is no such item.\n",
    "# The optional arguments start and end are interpreted as in the slice notation and are used\n",
    "# to limit the search to a particular subsequence of the list. The returned index is computed\n",
    "# relative to the beginning of the full sequence rather than the start argument.\n",
    "print(\"---------------------------------------------------------\")\n",
    "\n",
    "print(fruits.index('grape'))# == 0\n",
    "print(fruits.index('orange'))# == 1\n",
    "print(fruits.index('banana'))# == 4\n",
    "print(fruits.index('banana', 5))# == 7  # Find next banana starting a position 5\n",
    "\n",
    "\n",
    "print(\"---------------------------------------------------------\")\n",
    "\n",
    "# list.count(x)\n",
    "# Return the number of times x appears in the list.\n",
    "print(fruits.count('tangerine'))# == 0\n",
    "print(fruits.count('banana'))# == 2\n",
    "print(\"---------------------------------------------------------\")\n",
    "\n",
    "# list.copy()\n",
    "# Return a shallow copy of the list. Equivalent to a[:].\n",
    "fruits_copy = fruits.copy()\n",
    "print(fruits_copy)# == ['grape', 'orange', 'apple', 'pear', 'banana', 'kiwi', 'apple', 'banana']\n",
    "print(\"---------------------------------------------------------\")\n",
    "\n",
    "# list.reverse()\n",
    "# Reverse the elements of the list in place.\n",
    "fruits_copy.reverse()\n",
    "print(fruits_copy)# == [\n",
    "   # 'banana',\n",
    "   # 'apple',\n",
    "   # 'kiwi',\n",
    "   # 'banana',\n",
    "   # 'pear',\n",
    "   # 'apple',\n",
    "   # 'orange',\n",
    "   # 'grape',\n",
    "#]\n",
    "print(\"---------------------------------------------------------\")\n",
    "\n",
    "# list.sort(key=None, reverse=False)\n",
    "# Sort the items of the list in place (the arguments can be used for sort customization,\n",
    "# see sorted() for their explanation).\n",
    "fruits_copy.sort()\n",
    "print(fruits_copy)# == [\n",
    "    #'apple',\n",
    "    #'apple',\n",
    "    #'banana',\n",
    "    #'banana',\n",
    "    #'grape',\n",
    "    #'kiwi',\n",
    "    #'orange',\n",
    "    #'pear',\n",
    "#]\n",
    "print(\"---------------------------------------------------------\")\n",
    "\n",
    "# list.pop([i])\n",
    "# Remove the item at the given position in the list, and return it. If no index is specified,\n",
    "# a.pop() removes and returns the last item in the list. (The square brackets around the i in\n",
    "# the method signature denote that the parameter is optional, not that you should type square\n",
    "# brackets at that position.)\n",
    "print(fruits)# == ['grape', 'orange', 'apple', 'pear', 'banana', 'kiwi', 'apple', 'banana']\n",
    "print(fruits.pop())# == 'banana'\n",
    "print(fruits)# == ['grape', 'orange', 'apple', 'pear', 'banana', 'kiwi', 'apple']\n",
    "print(\"---------------------------------------------------------\")\n",
    "\n",
    "# list.clear()\n",
    "# Remove all items from the list. Equivalent to del a[:].\n",
    "fruits.clear()\n",
    "print(fruits)# == []"
   ]
  },
  {
   "cell_type": "markdown",
   "metadata": {
    "id": "DsTuJsyQHnIh"
   },
   "source": [
    "### Del Statements"
   ]
  },
  {
   "cell_type": "code",
   "execution_count": null,
   "metadata": {
    "id": "HGmcmJj4H9P3"
   },
   "outputs": [],
   "source": [
    "\"\"\"The del statement\n",
    "There is a way to remove an item from a list given its index instead of its value: the del\n",
    "statement. This differs from the pop() method which returns a value. The del statement can also\n",
    "be used to remove slices from a list or clear the entire list (which we did earlier by\n",
    "assignment of an empty list to the slice).\n",
    "\"\"\"\n",
    "\n",
    "\n",
    "numbers = [-1, 1, 66.25, 333, 333, 1234.5]\n",
    "\n",
    "del numbers[0]\n",
    "print(numbers) #== [1, 66.25, 333, 333, 1234.5]\n",
    "print(\"---------------------------------------------------------\")\n",
    "\n",
    "del numbers[2:4]\n",
    "print(numbers) #== [1, 66.25, 1234.5]\n",
    "print(\"---------------------------------------------------------\")\n",
    "\n",
    "del numbers[:]\n",
    "print(numbers) #== []\n",
    "print(\"---------------------------------------------------------\")\n",
    "\n",
    "# del can also be used to delete entire variables:\n",
    "del numbers\n",
    "print(numbers) #== []  # noqa: F821 # Gives Error\n"
   ]
  },
  {
   "cell_type": "markdown",
   "metadata": {
    "id": "tQ3w29k1IeHc"
   },
   "source": [
    "### List Comprehension"
   ]
  },
  {
   "cell_type": "code",
   "execution_count": null,
   "metadata": {
    "id": "7JB_h-FcIrXg"
   },
   "outputs": [],
   "source": [
    "\"\"\"List Comprehensions.\n",
    "List comprehensions provide a concise way to create lists. Common applications are to make new\n",
    "lists where each element is the result of some operations applied to each member of another\n",
    "sequence or iterable, or to create a subsequence of those elements that satisfy a certain\n",
    "condition.\n",
    "A list comprehension consists of brackets containing an expression followed by a for clause,\n",
    "then zero or more for or if clauses. The result will be a new list resulting from evaluating\n",
    "the expression in the context of the for and if clauses which follow it.\n",
    "\"\"\"\n",
    "# For example, assume we want to create a list of squares, like:\n",
    "squares = []\n",
    "for number in range(10):\n",
    "    squares.append(number ** 2)\n",
    "\n",
    "print(squares) #== [0, 1, 4, 9, 16, 25, 36, 49, 64, 81]\n",
    "print(\"---------------------------------------------------------\")\n",
    "\n",
    "\n",
    "# Note that this creates (or overwrites) a variable named \"number\" that still exists after\n",
    "# the loop completes. We can calculate the list of squares without any side effects using:\n",
    "squares = list(map(lambda x: x ** 2, range(10)))\n",
    "print(squares) #== [0, 1, 4, 9, 16, 25, 36, 49, 64, 81]\n",
    "\n",
    "print(\"---------------------------------------------------------\")\n",
    "\n",
    "\n",
    "# or, equivalently (which is more concise and readable):\n",
    "squares = [x ** 2 for x in range(10)]\n",
    "print(squares) #== [0, 1, 4, 9, 16, 25, 36, 49, 64, 81]\n",
    "\n",
    "print(\"---------------------------------------------------------\")\n",
    "\n",
    "\n",
    "# For example, this listcomp combines the elements of two lists if they are not equal.\n",
    "combinations = [(x, y) for x in [1, 2, 3] for y in [3, 1, 4] if x != y]\n",
    "print(combinations) #== [(1, 3), (1, 4), (2, 3), (2, 1), (2, 4), (3, 1), (3, 4)]\n",
    "print(\"---------------------------------------------------------\")\n",
    "\n",
    "\n",
    "\n",
    "# and it’s equivalent to:\n",
    "combinations = []\n",
    "for first_number in [1, 2, 3]:\n",
    "    for second_number in [3, 1, 4]:\n",
    "        if first_number != second_number:\n",
    "            combinations.append((first_number, second_number))\n",
    "\n",
    "print(combinations) #== [(1, 3), (1, 4), (2, 3), (2, 1), (2, 4), (3, 1), (3, 4)]"
   ]
  },
  {
   "cell_type": "code",
   "execution_count": null,
   "metadata": {
    "id": "HUaDUzI0JiXz"
   },
   "outputs": [],
   "source": [
    "# Note how the order of the for and if statements is the same in both these snippets.\n",
    "\n",
    "# If the expression is a tuple (e.g. the (x, y) in the previous example),\n",
    "# it must be parenthesized.\n",
    "\n",
    "# Let's see some more examples:\n",
    "\n",
    "vector = [-4, -2, 0, 2, 4]\n",
    "\n",
    "# Create a new list with the values doubled.\n",
    "doubled_vector = [x * 2 for x in vector]\n",
    "print( doubled_vector) #== [-8, -4, 0, 4, 8]\n",
    "print(\"---------------------------------------------------------\")\n",
    "\n",
    "# Filter the list to exclude negative numbers.\n",
    "positive_vector = [x for x in vector if x >= 0]\n",
    "print( positive_vector)# == [0, 2, 4]\n",
    "print(\"---------------------------------------------------------\")\n",
    "\n",
    "# Apply a function to all the elements.\n",
    "abs_vector = [abs(x) for x in vector]\n",
    "print( abs_vector)# == [4, 2, 0, 2, 4]\n",
    "print(\"---------------------------------------------------------\")\n",
    "\n",
    "# Call a method on each element.\n",
    "fresh_fruit = ['  banana', '  loganberry ', 'passion fruit  ']\n",
    "clean_fresh_fruit = [weapon.strip() for weapon in fresh_fruit]\n",
    "print( clean_fresh_fruit) #== ['banana', 'loganberry', 'passion fruit']\n",
    "print(\"---------------------------------------------------------\")\n",
    "\n",
    "# Create a list of 2-tuples like (number, square).\n",
    "square_tuples = [(x, x ** 2) for x in range(6)]\n",
    "print( square_tuples) #== [(0, 0), (1, 1), (2, 4), (3, 9), (4, 16), (5, 25)]\n",
    "print(\"---------------------------------------------------------\")\n",
    "\n",
    "# Flatten a list using a listcomp with two 'for'.\n",
    "vector = [[1, 2, 3], [4, 5, 6], [7, 8, 9]]\n",
    "flatten_vector = [num for elem in vector for num in elem]\n",
    "print(flatten_vector) #== [1, 2, 3, 4, 5, 6, 7, 8, 9]\n"
   ]
  },
  {
   "cell_type": "markdown",
   "metadata": {
    "id": "XIGlTmZKJxrt"
   },
   "source": [
    "### Nested List Comprehension"
   ]
  },
  {
   "cell_type": "code",
   "execution_count": null,
   "metadata": {
    "id": "5GLN9GDDJ4K2"
   },
   "outputs": [],
   "source": [
    "\"\"\"Nested List Comprehensions\n",
    "The initial expression in a list comprehension can be any arbitrary expression, including\n",
    "another list comprehension.\n",
    "\"\"\"\n",
    "\n",
    "\n",
    "\n",
    "# Consider the following example of a 3x4 matrix implemented as a list of 3 lists of length 4:\n",
    "matrix = [\n",
    "    [1, 2, 3, 4],\n",
    "    [5, 6, 7, 8],\n",
    "    [9, 10, 11, 12],\n",
    "]\n",
    "\n",
    "# The following list comprehension will transpose rows and columns:\n",
    "transposed_matrix = [[row[i] for row in matrix] for i in range(4)]\n",
    "print( transposed_matrix) # == [\n",
    "    #[1, 5, 9],\n",
    "    #[2, 6, 10],\n",
    "    #[3, 7, 11],\n",
    "    #[4, 8, 12],\n",
    "#]\n",
    "print(\"---------------------------------------------------------\")\n",
    "\n",
    "# As we saw in the previous section, the nested listcomp is evaluated in the context of the\n",
    "# for that follows it, so this example is equivalent to:\n",
    "transposed = []\n",
    "for i in range(4):\n",
    "    transposed.append([row[i] for row in matrix])\n",
    "\n",
    "print(transposed) #== [\n",
    "    #[1, 5, 9],\n",
    "    #[2, 6, 10],\n",
    "    #[3, 7, 11],\n",
    "    #[4, 8, 12],\n",
    "#]\n",
    "print(\"---------------------------------------------------------\")\n",
    "\n",
    "# which, in turn, is the same as:\n",
    "transposed = []\n",
    "for i in range(4):\n",
    "    # the following 3 lines implement the nested listcomp\n",
    "    transposed_row = []\n",
    "    for row in matrix:\n",
    "        transposed_row.append(row[i])\n",
    "    transposed.append(transposed_row)\n",
    "\n",
    "print(transposed) #== [\n",
    "   #[1, 5, 9],\n",
    "   #[2, 6, 10],\n",
    "   #[3, 7, 11],\n",
    "   #[4, 8, 12],\n",
    "#]\n",
    "print(\"---------------------------------------------------------\")\n",
    "\n",
    "# In the real world, you should prefer built-in functions to complex flow statements.\n",
    "# The zip() function would do a great job for this use case:\n",
    "print(list(zip(*matrix))) #== [\n",
    "#     (1, 5, 9),\n",
    "#     (2, 6, 10),\n",
    "#     (3, 7, 11),\n",
    "#     (4, 8, 12),\n",
    "# ]"
   ]
  },
  {
   "cell_type": "markdown",
   "metadata": {
    "id": "DMYo7pIYIb9Y"
   },
   "source": [
    "## **Tuples**"
   ]
  },
  {
   "cell_type": "markdown",
   "metadata": {
    "id": "OWstGgy7Irvx"
   },
   "source": [
    "Tuples are immutable sequences, typically used to store collections of heterogeneous data. Tuples are also used for cases where an immutable sequence of homogeneous data is needed."
   ]
  },
  {
   "cell_type": "code",
   "execution_count": null,
   "metadata": {
    "id": "lqutAzkLL3H5"
   },
   "outputs": [],
   "source": [
    "fruits_tuple = (\"apple\", \"banana\", \"cherry\")\n",
    "\n",
    "print(type(fruits_tuple))\n",
    "print(fruits_tuple[0])# == \"apple\"\n",
    "print(fruits_tuple[1])# == \"banana\"\n",
    "print(fruits_tuple[2])# == \"cherry\""
   ]
  },
  {
   "cell_type": "code",
   "execution_count": null,
   "metadata": {
    "id": "LFeGx-RrMITt"
   },
   "outputs": [],
   "source": [
    "# You cannot change values in a tuple.\n",
    "fruits_tuple[0] = \"pineapple\" # Gives Error"
   ]
  },
  {
   "cell_type": "code",
   "execution_count": null,
   "metadata": {
    "id": "V5OlrwwfMP2b"
   },
   "outputs": [],
   "source": [
    "# It is also possible to use the tuple() constructor to make a tuple (note the double\n",
    "# round-brackets).\n",
    "# The len() function returns the length of the tuple.\n",
    "fruits_tuple_via_constructor = tuple((\"apple\", \"banana\", \"cherry\"))\n",
    "print(\"---------------------------------------------------------\")\n",
    "\n",
    "print(set(fruits_tuple_via_constructor))\n",
    "print(len(fruits_tuple_via_constructor))#) == 3\n",
    "print(\"---------------------------------------------------------\")\n",
    "\n",
    "# It is also possible to omit brackets when initializing tuples.\n",
    "another_tuple = 12345, 54321, 'hello!'\n",
    "print(another_tuple)# == (12345, 54321, 'hello!')\n",
    "print(\"---------------------------------------------------------\")\n",
    "\n",
    "# Tuples may be nested:\n",
    "nested_tuple = another_tuple, (1, 2, 3, 4, 5)\n",
    "print(nested_tuple)# == ((12345, 54321, 'hello!'), (1, 2, 3, 4, 5))"
   ]
  },
  {
   "cell_type": "code",
   "execution_count": null,
   "metadata": {
    "id": "QA864BrLIhUi"
   },
   "outputs": [],
   "source": [
    "# As you see, on output tuples are always enclosed in parentheses, so that nested tuples are\n",
    "# interpreted correctly; they may be input with or without surrounding parentheses, although\n",
    "# often parentheses are necessary anyway (if the tuple is part of a larger expression). It is\n",
    "# not possible to assign to the individual items of a tuple, however it is possible to create\n",
    "# tuples which contain mutable objects, such as lists.\n",
    "\n",
    "# A special problem is the construction of tuples containing 0 or 1 items: the syntax has some\n",
    "# extra quirks to accommodate these. Empty tuples are constructed by an empty pair of\n",
    "# parentheses; a tuple with one item is constructed by following a value with a comma (it is\n",
    "# not sufficient to enclose a single value in parentheses). Ugly, but effective. For example:\n",
    "empty_tuple = ()\n",
    "# pylint: disable=len-as-condition\n",
    "print(len(empty_tuple))# == 0\n",
    "print(\"---------------------------------------------------------\")\n",
    "\n",
    "# pylint: disable=trailing-comma-tuple\n",
    "singleton_tuple = 'hello',  # <-- note trailing comma\n",
    "print(len(singleton_tuple))# == 1\n",
    "print(singleton_tuple)# == ('hello',)\n",
    "\n",
    "# The following example is called tuple packing:\n",
    "packed_tuple = 12345, 54321, 'hello!'\n",
    "\n",
    "# The reverse operation is also possible.\n",
    "first_tuple_number, second_tuple_number, third_tuple_string = packed_tuple\n",
    "print(\"---------------------------------------------------------\")\n",
    "\n",
    "print(first_tuple_number)# == 12345\n",
    "print(second_tuple_number)# == 54321\n",
    "print(third_tuple_string)# == 'hello!'\n",
    "print(\"---------------------------------------------------------\")\n",
    "\n",
    "# This is called, appropriately enough, sequence unpacking and works for any sequence on the\n",
    "# right-hand side. Sequence unpacking requires that there are as many variables on the left\n",
    "# side of the equals sign as there are elements in the sequence. Note that multiple assignment\n",
    "# is really just a combination of tuple packing and sequence unpacking.\n",
    "\n",
    "# Swapping using tuples.\n",
    "# Data can be swapped from one variable to another in python using\n",
    "# tuples. This eliminates the need to use a 'temp' variable.\n",
    "first_number = 123\n",
    "second_number = 456\n",
    "first_number, second_number = second_number, first_number\n",
    "\n",
    "print(first_number)# == 456\n",
    "print(second_number)# == 123"
   ]
  },
  {
   "cell_type": "markdown",
   "metadata": {
    "id": "4APMfIztVsJN"
   },
   "source": [
    "## **Sets and its Operations**"
   ]
  },
  {
   "cell_type": "markdown",
   "metadata": {
    "id": "xcS9rdKgWtIj"
   },
   "source": [
    "A set object is an unordered collection of distinct hashable objects. Common uses include membership testing, removing duplicates from a sequence, and computing mathematical operations such as intersection, union, difference, and symmetric difference."
   ]
  },
  {
   "cell_type": "code",
   "execution_count": null,
   "metadata": {
    "id": "Gbo47VO3KsXB"
   },
   "outputs": [],
   "source": [
    "fruits_set = {\"apple\", \"banana\", \"cherry\"}\n",
    "\n",
    "print(type(fruits_set))\n",
    "# It is also possible to use the set() constructor to make a set.\n",
    "# Note the double round-brackets\n",
    "fruits_set_via_constructor = set((\"apple\", \"banana\", \"cherry\"))\n",
    "\n",
    "print(type(fruits_set_via_constructor))"
   ]
  },
  {
   "cell_type": "markdown",
   "metadata": {
    "id": "2P1p2tvsSlTl"
   },
   "source": [
    "### Set Methods"
   ]
  },
  {
   "cell_type": "code",
   "execution_count": null,
   "metadata": {
    "id": "DW2DuLBkSptN"
   },
   "outputs": [],
   "source": [
    "fruits_set = {\"apple\", \"banana\", \"cherry\"}\n",
    "\n",
    "# You may check if the item is in set by using \"in\" statement\n",
    "print( \"apple\" in fruits_set)\n",
    "print( \"pineapple\" not in fruits_set)\n",
    "print(\"---------------------------------------------------------\")\n",
    "\n",
    "# Use the len() method to return the number of items.\n",
    "print( len(fruits_set) )#== 3\n",
    "\n",
    "# You can use the add() object method to add an item.\n",
    "fruits_set.add(\"pineapple\")\n",
    "print( \"pineapple\" in fruits_set)\n",
    "print( len(fruits_set))# == 4\n",
    "print(\"---------------------------------------------------------\")\n",
    "\n",
    "# Use remove() method to remove an item.\n",
    "fruits_set.remove(\"pineapple\")\n",
    "print( \"pineapple\" not in fruits_set)\n",
    "print( len(fruits_set))# == 3\n",
    "print(\"---------------------------------------------------------\")\n",
    "\n",
    "# Demonstrate set operations on unique letters from two word:\n",
    "first_char_set = set('abracadabra')\n",
    "second_char_set = set('alacazam')\n",
    "\n",
    "print( first_char_set == {'a', 'r', 'b', 'c', 'd'})#  # unique letters in first word\n",
    "print( second_char_set == {'a', 'l', 'c', 'z', 'm'})#  # unique letters in second word\n",
    "print(\"---------------------------------------------------------\")\n",
    "\n",
    "# Letters in first word but not in second.\n",
    "print( first_char_set - second_char_set)# == {'r', 'b', 'd'}\n",
    "print(\"---------------------------------------------------------\")\n",
    "\n",
    "# Letters in first word or second word or both.\n",
    "print( first_char_set | second_char_set)# == {'a', 'c', 'r', 'd', 'b', 'm', 'z', 'l'}\n",
    "print(\"---------------------------------------------------------\")\n",
    "\n",
    "# Common letters in both words.\n",
    "print( first_char_set & second_char_set)# == {'a', 'c'}\n",
    "print(\"---------------------------------------------------------\")\n",
    "\n",
    "# Letters in first or second word but not both.\n",
    "print( first_char_set ^ second_char_set )#== {'r', 'd', 'b', 'm', 'z', 'l'}\n",
    "print(\"---------------------------------------------------------\")\n",
    "\n",
    "# Similarly to list comprehensions, set comprehensions are also supported:\n",
    "word = {char for char in 'abracadabra' if char not in 'abc'}\n",
    "print( word )#== {'r', 'd'}"
   ]
  },
  {
   "cell_type": "markdown",
   "metadata": {
    "id": "ahr6z-q8W_M7"
   },
   "source": [
    "## **Dictionaries**"
   ]
  },
  {
   "cell_type": "markdown",
   "metadata": {
    "id": "7Z6oAyAHXGoy"
   },
   "source": [
    "A mapping object maps hashable values to arbitrary objects. Mappings are mutable objects. There is currently only one standard mapping type, the dictionary. "
   ]
  },
  {
   "cell_type": "code",
   "execution_count": null,
   "metadata": {
    "id": "_Ek-NqAZTvks"
   },
   "outputs": [],
   "source": [
    "fruits_dictionary = {\n",
    "  'cherry': 'red',\n",
    "  'apple': 'green',\n",
    "  'banana': 'yellow',\n",
    "}\n",
    "\n",
    "print(type(fruits_dictionary))"
   ]
  },
  {
   "cell_type": "code",
   "execution_count": null,
   "metadata": {
    "id": "I46FphrVT9cO"
   },
   "outputs": [],
   "source": [
    "# You may access set elements by keys.\n",
    "print( fruits_dictionary['apple'])# == 'green'\n",
    "print( fruits_dictionary['banana'])# == 'yellow'\n",
    "print( fruits_dictionary['cherry'])# == 'red'\n",
    "\n",
    "print(\"---------------------------------------------------------\")\n",
    "\n",
    "# To check whether a single key is in the dictionary, use the in keyword.\n",
    "print('apple' in fruits_dictionary)\n",
    "print('pineapple' not in fruits_dictionary)\n",
    "\n",
    "print(\"---------------------------------------------------------\")\n",
    "\n",
    "\n",
    "# Change the apple color to \"red\".\n",
    "fruits_dictionary['apple'] = 'red'\n",
    "\n",
    "# Add new key/value pair to the dictionary\n",
    "fruits_dictionary['pineapple'] = 'yellow'\n",
    "print( fruits_dictionary['pineapple'])# == 'yellow'\n",
    "print(\"---------------------------------------------------------\")\n",
    "\n",
    "# Performing list(d) on a dictionary returns a list of all the keys used in the dictionary,\n",
    "# in insertion order (if you want it sorted, just use sorted(d) instead).\n",
    "print(list(fruits_dictionary))# == ['cherry', 'apple', 'banana', 'pineapple']\n",
    "print(sorted(fruits_dictionary))# == ['apple', 'banana', 'cherry', 'pineapple']\n",
    "print(\"---------------------------------------------------------\")\n",
    "\n",
    "# It is also possible to delete a key:value pair with del.\n",
    "del fruits_dictionary['pineapple']\n",
    "print( list(fruits_dictionary))# == ['cherry', 'apple', 'banana']"
   ]
  },
  {
   "cell_type": "code",
   "execution_count": null,
   "metadata": {
    "id": "BnpQAYgXU8VG"
   },
   "outputs": [],
   "source": [
    "\n",
    "# The dict() constructor builds dictionaries directly from sequences of key-value pairs.\n",
    "dictionary_via_constructor = dict([('sape', 4139), ('guido', 4127), ('jack', 4098)])\n",
    "\n",
    "print( dictionary_via_constructor['sape'])# == 4139\n",
    "print( dictionary_via_constructor['guido'])# == 4127\n",
    "print( dictionary_via_constructor['jack'])# == 4098\n",
    "print(\"---------------------------------------------------------\")\n",
    "\n",
    "# In addition, dict comprehensions can be used to create dictionaries from arbitrary key\n",
    "# and value expressions:\n",
    "dictionary_via_expression = {x: x**2 for x in (2, 4, 6)}\n",
    "print( dictionary_via_expression[2])# == 4\n",
    "print( dictionary_via_expression[4])# == 16\n",
    "print( dictionary_via_expression[6])# == 36\n",
    "print(\"---------------------------------------------------------\")\n",
    "\n",
    "# When the keys are simple strings, it is sometimes easier to specify pairs using\n",
    "# keyword arguments.\n",
    "dictionary_for_string_keys = dict(sape=4139, guido=4127, jack=4098)\n",
    "print( dictionary_for_string_keys['sape'])# == 4139\n",
    "print( dictionary_for_string_keys['guido'])# == 4127\n",
    "print( dictionary_for_string_keys['jack'])# == 4098"
   ]
  },
  {
   "cell_type": "markdown",
   "metadata": {
    "id": "lu9DXMi5ZXM5"
   },
   "source": [
    "## **Type Casting**"
   ]
  },
  {
   "cell_type": "markdown",
   "metadata": {
    "id": "xAaZY1wjZaW1"
   },
   "source": [
    "There may be times when you want to specify a type on to a variable. This can be done with casting.\n",
    "Python is an object-orientated language, and as such it uses classes to define data types,\n",
    "including its primitive types.\n",
    "Casting in python is therefore done using constructor functions:\n",
    "- int() - constructs an integer number from an integer literal, a float literal (by rounding down\n",
    "to the previous whole number) literal, or a string literal (providing the string represents a\n",
    "whole number)\n",
    "- float() - constructs a float number from an integer literal, a float literal or a string literal\n",
    "(providing the string represents a float or an integer)\n",
    "- str() - constructs a string from a wide variety of data types, including strings, integer\n",
    "literals and float literals"
   ]
  },
  {
   "cell_type": "code",
   "execution_count": null,
   "metadata": {
    "id": "EeQYETMPVL2A"
   },
   "outputs": [],
   "source": [
    "\"\"\"Type casting to integer\"\"\"\n",
    "\n",
    "print(int(1))# == 1\n",
    "print(int(2.8))# == 2\n",
    "print(int('3'))# == 3"
   ]
  },
  {
   "cell_type": "code",
   "execution_count": null,
   "metadata": {
    "id": "vY-wHHMjVNTV"
   },
   "outputs": [],
   "source": [
    "\"\"\"Type casting to float\"\"\"\n",
    "\n",
    "print(float(1))# == 1.0\n",
    "print(float(2.8))# == 2.8\n",
    "print(float(\"3\"))# == 3.0\n",
    "print(float(\"4.2\"))# == 4.2"
   ]
  },
  {
   "cell_type": "code",
   "execution_count": null,
   "metadata": {
    "id": "PPyCcZmSVOrU"
   },
   "outputs": [],
   "source": [
    "\"\"\"Type casting to string\"\"\"\n",
    "\n",
    "print(str(\"s1\"))# == 's1'\n",
    "print(str(2))# == '2'\n",
    "print(str(3.0))# == '3.0'"
   ]
  }
 ],
 "metadata": {
  "colab": {
   "collapsed_sections": [],
   "name": "2_Data_Types_Python.ipynb",
   "provenance": [],
   "toc_visible": true
  },
  "kernelspec": {
   "display_name": "Python 3",
   "name": "python3"
  },
  "language_info": {
   "name": "python"
  }
 },
 "nbformat": 4,
 "nbformat_minor": 0
}
