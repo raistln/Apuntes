{
 "cells": [
  {
   "cell_type": "markdown",
   "metadata": {
    "id": "F_s91HNrH9L3"
   },
   "source": [
    "# **Dunder/Magic Methods in Python**"
   ]
  },
  {
   "cell_type": "markdown",
   "metadata": {
    "id": "1x6XnWkpIz8N"
   },
   "source": [
    "Python has a set of magic methods that can be used to enrich data classes; they are special in the way they are invoked.Dunder methods allow developers to emulate built-in methods, and it’s also how operator overloading is implemented in Python."
   ]
  },
  {
   "cell_type": "markdown",
   "metadata": {
    "id": "TNHBJP5RJDJy"
   },
   "source": [
    "## **Essential Dunder Methods**"
   ]
  },
  {
   "cell_type": "markdown",
   "metadata": {
    "id": "1Fz7eEq6JKl7"
   },
   "source": [
    "If you have ever created a class of your own, you already know one of the dunder methods, `__init__()`. Although it’s often referred to as the constructor, it’s not the real constructor; the `__new__()` method is the constructor. The superclass’s ` __new__()` , `super().__new__(cls[, ...])`, method is invoked, which creates an instance of the class, which is then passed to the `__init__()` along with other arguments. Why go through the ordeal of creating the `__new__()` method? You don’t need to; the `__new__()` method was created mainly to facilitate the creation of subclasses of immutable types (such as int, str, list) and metaclasses. "
   ]
  },
  {
   "cell_type": "code",
   "execution_count": null,
   "metadata": {
    "executionInfo": {
     "elapsed": 1947,
     "status": "ok",
     "timestamp": 1620214124551,
     "user": {
      "displayName": "Aishwarya Verma",
      "photoUrl": "https://lh3.googleusercontent.com/a-/AOh14GiG6BREocxcd5R6rzlQGApoCsYso7BQAh63eXNz6Q=s64",
      "userId": "06108390091304498033"
     },
     "user_tz": -330
    },
    "id": "qe54FSCrJGdF"
   },
   "outputs": [],
   "source": [
    "class Vector():\n",
    "    def __new__(cls, x, y):\n",
    "        print(\"__new__ was invoked\")\n",
    "        instance = object.__new__(cls)\n",
    "        return instance\n",
    "    def __init__(self, x, y):\n",
    "        print(\"__init__ was invoked\")\n",
    "        self.x = x\n",
    "        self.y = y"
   ]
  },
  {
   "cell_type": "code",
   "execution_count": null,
   "metadata": {
    "colab": {
     "base_uri": "https://localhost:8080/"
    },
    "executionInfo": {
     "elapsed": 2418,
     "status": "ok",
     "timestamp": 1620214125291,
     "user": {
      "displayName": "Aishwarya Verma",
      "photoUrl": "https://lh3.googleusercontent.com/a-/AOh14GiG6BREocxcd5R6rzlQGApoCsYso7BQAh63eXNz6Q=s64",
      "userId": "06108390091304498033"
     },
     "user_tz": -330
    },
    "id": "f5f0l9GBPLwO",
    "outputId": "2d4bbaed-ebc3-40be-d173-b42b0317dc19"
   },
   "outputs": [],
   "source": [
    "vector1 = Vector(12, 8)\n",
    "vector1"
   ]
  },
  {
   "cell_type": "markdown",
   "metadata": {
    "id": "v27E1iKlJjQl"
   },
   "source": [
    "In addition to `__init__(`)  there are two dunder methods that you should always implement: `__repr__()` and `__str__()`. \n",
    "\n",
    "`__repr__()` defines the “official” string representation of the object. Ideally, it should output a string that is a valid Python statement and can be used to recreate the object. It is mainly used for debugging. "
   ]
  },
  {
   "cell_type": "code",
   "execution_count": null,
   "metadata": {
    "executionInfo": {
     "elapsed": 1251,
     "status": "ok",
     "timestamp": 1620214127912,
     "user": {
      "displayName": "Aishwarya Verma",
      "photoUrl": "https://lh3.googleusercontent.com/a-/AOh14GiG6BREocxcd5R6rzlQGApoCsYso7BQAh63eXNz6Q=s64",
      "userId": "06108390091304498033"
     },
     "user_tz": -330
    },
    "id": "bsYjEUroJrPh"
   },
   "outputs": [],
   "source": [
    "\n",
    "class Vector():\n",
    "    def __new__(cls, x, y):\n",
    "        print(\"__new__ was invoked\")\n",
    "        instance = object.__new__(cls)\n",
    "        return instance\n",
    "    def __init__(self, x, y):\n",
    "        print(\"__init__ was invoked\")\n",
    "        self.x = x\n",
    "        self.y = y\n",
    "\n",
    "    def __repr__(self):\n",
    "      print(\"__repr__ was invoked\")\n",
    "      return f\"Vector({self.x}, {self.y})\" "
   ]
  },
  {
   "cell_type": "code",
   "execution_count": null,
   "metadata": {
    "colab": {
     "base_uri": "https://localhost:8080/"
    },
    "executionInfo": {
     "elapsed": 1943,
     "status": "ok",
     "timestamp": 1620214131341,
     "user": {
      "displayName": "Aishwarya Verma",
      "photoUrl": "https://lh3.googleusercontent.com/a-/AOh14GiG6BREocxcd5R6rzlQGApoCsYso7BQAh63eXNz6Q=s64",
      "userId": "06108390091304498033"
     },
     "user_tz": -330
    },
    "id": "JXsK13sLRTAy",
    "outputId": "f6d402c9-a464-40ae-8835-7185883ec9e1"
   },
   "outputs": [],
   "source": [
    "vector1 = Vector(12, 8)\n",
    "vector1"
   ]
  },
  {
   "cell_type": "markdown",
   "metadata": {
    "id": "-FuvHOxtOAvc"
   },
   "source": [
    "The `__str__()` method also return a string representation of the object; however, this representation doesn’t need to be a valid Python statement. It is used by built-in functions like [format()](https://docs.python.org/3/library/functions.html#format) and [print()](https://docs.python.org/3/library/functions.html#print), so the string representation should be readable for the end-user. If ` __str__()` method is not defined it invokes the `__repr__()` method."
   ]
  },
  {
   "cell_type": "code",
   "execution_count": null,
   "metadata": {
    "executionInfo": {
     "elapsed": 1879,
     "status": "ok",
     "timestamp": 1620214135339,
     "user": {
      "displayName": "Aishwarya Verma",
      "photoUrl": "https://lh3.googleusercontent.com/a-/AOh14GiG6BREocxcd5R6rzlQGApoCsYso7BQAh63eXNz6Q=s64",
      "userId": "06108390091304498033"
     },
     "user_tz": -330
    },
    "id": "bSndVU_COJWP"
   },
   "outputs": [],
   "source": [
    "\n",
    "class Vector():\n",
    "  def __new__(cls, x, y):\n",
    "      print(\"__new__ was invoked\")\n",
    "      instance = object.__new__(cls)\n",
    "      return instance\n",
    "  def __init__(self, x, y):\n",
    "      print(\"__init__ was invoked\")\n",
    "      self.x = x\n",
    "      self.y = y\n",
    "\n",
    "  def __str__(self):\n",
    "    print(\"__str__ was invoked\")\n",
    "    return f\"{self.x}x + {self.y}y\""
   ]
  },
  {
   "cell_type": "code",
   "execution_count": null,
   "metadata": {
    "colab": {
     "base_uri": "https://localhost:8080/"
    },
    "executionInfo": {
     "elapsed": 1185,
     "status": "ok",
     "timestamp": 1620214261388,
     "user": {
      "displayName": "Aishwarya Verma",
      "photoUrl": "https://lh3.googleusercontent.com/a-/AOh14GiG6BREocxcd5R6rzlQGApoCsYso7BQAh63eXNz6Q=s64",
      "userId": "06108390091304498033"
     },
     "user_tz": -330
    },
    "id": "M1q6ky7FOMKF",
    "outputId": "2cd7388f-aeeb-4b08-a283-6c7174c60e6b"
   },
   "outputs": [],
   "source": [
    "vector1 = Vector(12, 8)\n",
    "print(vector1)"
   ]
  },
  {
   "cell_type": "markdown",
   "metadata": {
    "id": "zwJWQhmZS_u0"
   },
   "source": [
    "## **Emulating Built-in Functions**"
   ]
  },
  {
   "cell_type": "markdown",
   "metadata": {
    "id": "YzmpCELkTEAQ"
   },
   "source": [
    "`__len__()` is used to implement the built-in `len()` method. It should return the length of the object. For the vector example, it makes sense if `len()` returns the magnitude of the vector, but the return type of `len()` is restricted to integers."
   ]
  },
  {
   "cell_type": "code",
   "execution_count": null,
   "metadata": {
    "executionInfo": {
     "elapsed": 1203,
     "status": "ok",
     "timestamp": 1620214330968,
     "user": {
      "displayName": "Aishwarya Verma",
      "photoUrl": "https://lh3.googleusercontent.com/a-/AOh14GiG6BREocxcd5R6rzlQGApoCsYso7BQAh63eXNz6Q=s64",
      "userId": "06108390091304498033"
     },
     "user_tz": -330
    },
    "id": "zejVsstRS8SG"
   },
   "outputs": [],
   "source": [
    "def __len__(self):\n",
    "     return int((self.x*self.x +self.y*self.y)**(1/2)) "
   ]
  },
  {
   "cell_type": "markdown",
   "metadata": {
    "id": "0DXpIOSLTPEW"
   },
   "source": [
    "The` __getitem__()` and `__setitem__()` methods are used to implement the built-in functionality of using `[index/key] `to read and edit elements of a sequence object like a `list` or a mapping object like `dict`. For the vector class example, you can use the object`[index]` to read and edit the variables instead of creating individual getter and setter methods for both instance variables."
   ]
  },
  {
   "cell_type": "code",
   "execution_count": null,
   "metadata": {
    "executionInfo": {
     "elapsed": 1268,
     "status": "ok",
     "timestamp": 1620214637569,
     "user": {
      "displayName": "Aishwarya Verma",
      "photoUrl": "https://lh3.googleusercontent.com/a-/AOh14GiG6BREocxcd5R6rzlQGApoCsYso7BQAh63eXNz6Q=s64",
      "userId": "06108390091304498033"
     },
     "user_tz": -330
    },
    "id": "ftk9sBmPH8p8"
   },
   "outputs": [],
   "source": [
    "def __getitem__(self, key):\n",
    "     if key < 0 or key > 1:\n",
    "         raise IndexError(\"Index out of range! Should either be 0 or 1.\")\n",
    "     elif key:\n",
    "         return self.y\n",
    "     else:\n",
    "         return self.x\n",
    " \n",
    "def __setitem__(self, key, val):\n",
    "     if key < 0 or key > 1:\n",
    "         raise IndexError(\"Index out of range! Should either be 0 or 1.\")\n",
    "     elif key:\n",
    "         self.y = val\n",
    "     else:\n",
    "         self.x = val "
   ]
  },
  {
   "cell_type": "markdown",
   "metadata": {
    "id": "ADqcrVyZUab6"
   },
   "source": [
    "Like functions, Python objects are callable, the` __call__()` method defines what happens when an object is called. You can use this to overcome the type restriction of the `len()` method and return the magnitude of the vector in float."
   ]
  },
  {
   "cell_type": "code",
   "execution_count": null,
   "metadata": {
    "executionInfo": {
     "elapsed": 2826,
     "status": "ok",
     "timestamp": 1620214677735,
     "user": {
      "displayName": "Aishwarya Verma",
      "photoUrl": "https://lh3.googleusercontent.com/a-/AOh14GiG6BREocxcd5R6rzlQGApoCsYso7BQAh63eXNz6Q=s64",
      "userId": "06108390091304498033"
     },
     "user_tz": -330
    },
    "id": "hBOPOTbcUZnV"
   },
   "outputs": [],
   "source": [
    "def __call__(self):\n",
    "    print(f\"Vector({self.x}, {self.y}) was called.\")\n",
    "    return (self.x*self.x +self.y*self.y)**(1/2)"
   ]
  },
  {
   "cell_type": "code",
   "execution_count": null,
   "metadata": {
    "executionInfo": {
     "elapsed": 845,
     "status": "ok",
     "timestamp": 1620215832230,
     "user": {
      "displayName": "Aishwarya Verma",
      "photoUrl": "https://lh3.googleusercontent.com/a-/AOh14GiG6BREocxcd5R6rzlQGApoCsYso7BQAh63eXNz6Q=s64",
      "userId": "06108390091304498033"
     },
     "user_tz": -330
    },
    "id": "sq9ODIK5UzPP"
   },
   "outputs": [],
   "source": [
    "class Vector():\n",
    "  def __new__(cls, x, y):\n",
    "      print(\"__new__ was invoked\")\n",
    "      instance = object.__new__(cls)\n",
    "      return instance\n",
    "  def __init__(self, x, y):\n",
    "      print(\"__init__ was invoked\")\n",
    "      self.x = x\n",
    "      self.y = y\n",
    "\n",
    "  def __repr__(self):\n",
    "    print(\"__repr__ was invoked\")\n",
    "    return f\"Vector({self.x}, {self.y})\" \n",
    "\n",
    "  def __len__(self):\n",
    "    print(\"__len__ was invoked\")\n",
    "    return int((self.x*self.x +self.y*self.y)**(1/2)) "
   ]
  },
  {
   "cell_type": "code",
   "execution_count": null,
   "metadata": {
    "colab": {
     "base_uri": "https://localhost:8080/",
     "height": 338
    },
    "executionInfo": {
     "elapsed": 1177,
     "status": "error",
     "timestamp": 1620215867902,
     "user": {
      "displayName": "Aishwarya Verma",
      "photoUrl": "https://lh3.googleusercontent.com/a-/AOh14GiG6BREocxcd5R6rzlQGApoCsYso7BQAh63eXNz6Q=s64",
      "userId": "06108390091304498033"
     },
     "user_tz": -330
    },
    "id": "Y4vHQdEYUf_i",
    "outputId": "9b85578c-ca0f-4928-c2a2-ed6ee66c9846"
   },
   "outputs": [],
   "source": [
    "# invoke __len__\n",
    "vector1 = Vector(12, 8)\n",
    "print(vector1)\n",
    "print(len(vector1))\n",
    "# use [] to edit x component of the vector\n",
    "vector1[0] = 9\n",
    "print(vector1)\n",
    "# call the Vector object\n",
    "mod = vector1()\n",
    "print(mod)"
   ]
  },
  {
   "cell_type": "code",
   "execution_count": null,
   "metadata": {
    "colab": {
     "base_uri": "https://localhost:8080/"
    },
    "executionInfo": {
     "elapsed": 1555,
     "status": "ok",
     "timestamp": 1620215778295,
     "user": {
      "displayName": "Aishwarya Verma",
      "photoUrl": "https://lh3.googleusercontent.com/a-/AOh14GiG6BREocxcd5R6rzlQGApoCsYso7BQAh63eXNz6Q=s64",
      "userId": "06108390091304498033"
     },
     "user_tz": -330
    },
    "id": "L6-ZyoAmYrTS",
    "outputId": "337dff63-2e59-48f7-d950-25068234a4bf"
   },
   "outputs": [],
   "source": [
    "vector1"
   ]
  },
  {
   "cell_type": "markdown",
   "metadata": {
    "id": "s8K6jTg7H1Jk"
   },
   "source": [
    "Read more about it in this [article](https://analyticsindiamag.com/comprehensive-guide-to-python-dunder-methods/)"
   ]
  }
 ],
 "metadata": {
  "colab": {
   "authorship_tag": "ABX9TyONfmKRxr3qn4YkrgV4cB7I",
   "collapsed_sections": [],
   "name": "Magic Methods in Python.ipynb",
   "provenance": []
  },
  "interpreter": {
   "hash": "f60a20abaabf5a658075b37fac599269792a9493ddacd7c14d8505185d5625aa"
  },
  "kernelspec": {
   "display_name": "Python 3.8.8 64-bit ('base': conda)",
   "name": "python3"
  },
  "language_info": {
   "codemirror_mode": {
    "name": "ipython",
    "version": 3
   },
   "file_extension": ".py",
   "mimetype": "text/x-python",
   "name": "python",
   "nbconvert_exporter": "python",
   "pygments_lexer": "ipython3",
   "version": "3.8.8"
  }
 },
 "nbformat": 4,
 "nbformat_minor": 2
}
