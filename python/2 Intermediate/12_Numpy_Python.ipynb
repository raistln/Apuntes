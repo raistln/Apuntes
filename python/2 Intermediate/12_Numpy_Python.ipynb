{
 "cells": [
  {
   "cell_type": "markdown",
   "metadata": {
    "id": "TKxFoUt40X-q"
   },
   "source": [
    "# **Numpy in Python**"
   ]
  },
  {
   "cell_type": "markdown",
   "metadata": {
    "id": "MujNabpm3w8p"
   },
   "source": [
    "NumPy is the fundamental package needed for scientific computing with Python.It provides a high-performance multidimensional array object, and tools for working with these arrays."
   ]
  },
  {
   "cell_type": "markdown",
   "metadata": {
    "id": "truFUBAk4k2s"
   },
   "source": [
    "![1024px-NumPy_logo_2020.svg.png](data:image/png;base64,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)"
   ]
  },
  {
   "cell_type": "markdown",
   "metadata": {
    "id": "LmpWGSrL-VUT"
   },
   "source": [
    "## **Arrays**"
   ]
  },
  {
   "cell_type": "markdown",
   "metadata": {
    "id": "MxkZtfxo_HDi"
   },
   "source": [
    "A numpy array is a grid of values, all of the same type, and is indexed by a tuple of nonnegative integers. The number of dimensions is the rank of the array; the shape of an array is a tuple of integers giving the size of the array along each dimension."
   ]
  },
  {
   "cell_type": "code",
   "execution_count": null,
   "metadata": {},
   "outputs": [],
   "source": [
    "!python -m pip install pip --upgrade --user -q"
   ]
  },
  {
   "cell_type": "code",
   "execution_count": null,
   "metadata": {},
   "outputs": [],
   "source": [
    "!python -m pip install numpy --user -q\n",
    "import IPython\n",
    "IPython.Application.instance().kernel.do_shutdown(True)"
   ]
  },
  {
   "cell_type": "code",
   "execution_count": null,
   "metadata": {
    "id": "bJ3-6YrV_CtW"
   },
   "outputs": [],
   "source": [
    "import numpy as np\n",
    "\n",
    "a = np.array([1, 2, 3])   # Create a rank 1 array\n",
    "print(type(a))            # Prints \"<class 'numpy.ndarray'>\"\n",
    "print(a.shape)            # Prints \"(3,)\"\n",
    "print(a[0], a[1], a[2])   # Prints \"1 2 3\"\n",
    "a[0] = 5                  # Change an element of the array\n",
    "print(a)                  # Prints \"[5, 2, 3]\"\n",
    "\n",
    "b = np.array([[1,2,3],[4,5,6]])    # Create a rank 2 array\n",
    "print(b.shape)                     # Prints \"(2, 3)\"\n",
    "print(b[0, 0], b[0, 1], b[1, 0])   # Prints \"1 2 4\""
   ]
  },
  {
   "cell_type": "markdown",
   "metadata": {
    "id": "oO73S2xn_ffn"
   },
   "source": [
    "Numpy also provide many functions to create arrays"
   ]
  },
  {
   "cell_type": "code",
   "execution_count": null,
   "metadata": {
    "id": "YNzKpNbf_dyv"
   },
   "outputs": [],
   "source": [
    "import numpy as np\n",
    "\n",
    "a = np.zeros((2,2))   # Create an array of all zeros\n",
    "print(a)              # Prints \"[[ 0.  0.]\n",
    "                      #          [ 0.  0.]]\"\n",
    "\n",
    "b = np.ones((1,2))    # Create an array of all ones\n",
    "print(b)              # Prints \"[[ 1.  1.]]\"\n",
    "\n",
    "c = np.full((2,2), 7)  # Create a constant array\n",
    "print(c)               # Prints \"[[ 7.  7.]\n",
    "                       #          [ 7.  7.]]\"\n",
    "\n",
    "d = np.eye(2)         # Create a 2x2 identity matrix\n",
    "print(d)              # Prints \"[[ 1.  0.]\n",
    "                      #          [ 0.  1.]]\"\n",
    "\n",
    "e = np.random.random((2,2))  # Create an array filled with random values\n",
    "print(e)                     # Might print \"[[ 0.91940167  0.08143941]\n",
    "                             #               [ 0.68744134  0.87236687]]\""
   ]
  },
  {
   "cell_type": "markdown",
   "metadata": {
    "id": "aJsco9b5-XYz"
   },
   "source": [
    "## **Array Indexing**"
   ]
  },
  {
   "cell_type": "markdown",
   "metadata": {
    "id": "Rx3LnkB5_pie"
   },
   "source": [
    "Numpy offers several ways to index into arrays.\n",
    "\n",
    "Slicing: Similar to Python lists, numpy arrays can be sliced. Since arrays may be multidimensional, you must specify a slice for each dimension of the array:"
   ]
  },
  {
   "cell_type": "code",
   "execution_count": null,
   "metadata": {
    "id": "N5lw9CCL_r4H"
   },
   "outputs": [],
   "source": [
    "import numpy as np\n",
    "\n",
    "# Create the following rank 2 array with shape (3, 4)\n",
    "# [[ 1  2  3  4]\n",
    "#  [ 5  6  7  8]\n",
    "#  [ 9 10 11 12]]\n",
    "a = np.array([[1,2,3,4], [5,6,7,8], [9,10,11,12]])\n",
    "\n",
    "# Use slicing to pull out the subarray consisting of the first 2 rows\n",
    "# and columns 1 and 2; b is the following array of shape (2, 2):\n",
    "# [[2 3]\n",
    "#  [6 7]]\n",
    "b = a[:2, 1:3]\n",
    "\n",
    "# A slice of an array is a view into the same data, so modifying it\n",
    "# will modify the original array.\n",
    "print(a[0, 1])   # Prints \"2\"\n",
    "b[0, 0] = 77     # b[0, 0] is the same piece of data as a[0, 1]\n",
    "print(a[0, 1])   # Prints \"77\""
   ]
  },
  {
   "cell_type": "code",
   "execution_count": null,
   "metadata": {
    "id": "1Tqmdirq_u9W"
   },
   "outputs": [],
   "source": [
    "import numpy as np\n",
    "\n",
    "# Create the following rank 2 array with shape (3, 4)\n",
    "# [[ 1  2  3  4]\n",
    "#  [ 5  6  7  8]\n",
    "#  [ 9 10 11 12]]\n",
    "a = np.array([[1,2,3,4], [5,6,7,8], [9,10,11,12]])\n",
    "\n",
    "# Two ways of accessing the data in the middle row of the array.\n",
    "# Mixing integer indexing with slices yields an array of lower rank,\n",
    "# while using only slices yields an array of the same rank as the\n",
    "# original array:\n",
    "row_r1 = a[1, :]    # Rank 1 view of the second row of a\n",
    "row_r2 = a[1:2, :]  # Rank 2 view of the second row of a\n",
    "print(row_r1, row_r1.shape)  # Prints \"[5 6 7 8] (4,)\"\n",
    "print(row_r2, row_r2.shape)  # Prints \"[[5 6 7 8]] (1, 4)\"\n",
    "\n",
    "# We can make the same distinction when accessing columns of an array:\n",
    "col_r1 = a[:, 1]\n",
    "col_r2 = a[:, 1:2]\n",
    "print(col_r1, col_r1.shape)  # Prints \"[ 2  6 10] (3,)\"\n",
    "print(col_r2, col_r2.shape)  # Prints \"[[ 2]\n",
    "                             #          [ 6]\n",
    "                             #          [10]] (3, 1)\""
   ]
  },
  {
   "cell_type": "code",
   "execution_count": null,
   "metadata": {
    "id": "wEyySJxf_0nL"
   },
   "outputs": [],
   "source": [
    "import numpy as np\n",
    "\n",
    "a = np.array([[1,2], [3, 4], [5, 6]])\n",
    "\n",
    "# An example of integer array indexing.\n",
    "# The returned array will have shape (3,) and\n",
    "print(a[[0, 1, 2], [0, 1, 0]])  # Prints \"[1 4 5]\"\n",
    "\n",
    "# The above example of integer array indexing is equivalent to this:\n",
    "print(np.array([a[0, 0], a[1, 1], a[2, 0]]))  # Prints \"[1 4 5]\"\n",
    "\n",
    "# When using integer array indexing, you can reuse the same\n",
    "# element from the source array:\n",
    "print(a[[0, 0], [1, 1]])  # Prints \"[2 2]\"\n",
    "\n",
    "# Equivalent to the previous integer array indexing example\n",
    "print(np.array([a[0, 1], a[0, 1]]))  # Prints \"[2 2]\""
   ]
  },
  {
   "cell_type": "code",
   "execution_count": null,
   "metadata": {
    "id": "Zaccb4vx_4pB"
   },
   "outputs": [],
   "source": [
    "import numpy as np\n",
    "\n",
    "# Create a new array from which we will select elements\n",
    "a = np.array([[1,2,3], [4,5,6], [7,8,9], [10, 11, 12]])\n",
    "\n",
    "print(a)  # prints \"array([[ 1,  2,  3],\n",
    "          #                [ 4,  5,  6],\n",
    "          #                [ 7,  8,  9],\n",
    "          #                [10, 11, 12]])\"\n",
    "\n",
    "# Create an array of indices\n",
    "b = np.array([0, 2, 0, 1])\n",
    "\n",
    "# Select one element from each row of a using the indices in b\n",
    "print(a[np.arange(4), b])  # Prints \"[ 1  6  7 11]\"\n",
    "\n",
    "# Mutate one element from each row of a using the indices in b\n",
    "a[np.arange(4), b] += 10\n",
    "\n",
    "print(a)  # prints \"array([[11,  2,  3],\n",
    "          #                [ 4,  5, 16],\n",
    "          #                [17,  8,  9],\n",
    "          #                [10, 21, 12]])"
   ]
  },
  {
   "cell_type": "code",
   "execution_count": null,
   "metadata": {
    "id": "4R8nVjic_7Lc"
   },
   "outputs": [],
   "source": [
    "import numpy as np\n",
    "\n",
    "a = np.array([[1,2], [3, 4], [5, 6]])\n",
    "\n",
    "bool_idx = (a > 2)   # Find the elements of a that are bigger than 2;\n",
    "                     # this returns a numpy array of Booleans of the same\n",
    "                     # shape as a, where each slot of bool_idx tells\n",
    "                     # whether that element of a is > 2.\n",
    "\n",
    "print(bool_idx)      # Prints \"[[False False]\n",
    "                     #          [ True  True]\n",
    "                     #          [ True  True]]\"\n",
    "\n",
    "# We use boolean array indexing to construct a rank 1 array\n",
    "# consisting of the elements of a corresponding to the True values\n",
    "# of bool_idx\n",
    "print(a[bool_idx])  # Prints \"[3 4 5 6]\"\n",
    "\n",
    "# We can do all of the above in a single concise statement:\n",
    "print(a[a > 2])     # Prints \"[3 4 5 6]\""
   ]
  },
  {
   "cell_type": "markdown",
   "metadata": {
    "id": "6RolwDRR-eiN"
   },
   "source": [
    "## **Array Datatype**"
   ]
  },
  {
   "cell_type": "markdown",
   "metadata": {
    "id": "YOSy8U7OAAPR"
   },
   "source": [
    "Every numpy array is a grid of elements of the same type. Numpy provides a large set of numeric datatypes that you can use to construct arrays. Numpy tries to guess a datatype when you create an array, but functions that construct arrays usually also include an optional argument to explicitly specify the datatype. Here is an example:"
   ]
  },
  {
   "cell_type": "code",
   "execution_count": null,
   "metadata": {
    "id": "WtURFAMe_-BK"
   },
   "outputs": [],
   "source": [
    "import numpy as np\n",
    "\n",
    "x = np.array([1, 2])   # Let numpy choose the datatype\n",
    "print(x.dtype)         # Prints \"int64\"\n",
    "\n",
    "x = np.array([1.0, 2.0])   # Let numpy choose the datatype\n",
    "print(x.dtype)             # Prints \"float64\"\n",
    "\n",
    "x = np.array([1, 2], dtype=np.int64)   # Force a particular datatype\n",
    "print(x.dtype)                         # Prints \"int64\""
   ]
  },
  {
   "cell_type": "markdown",
   "metadata": {
    "id": "JOssGdev-m9N"
   },
   "source": [
    "## **Array Operations**"
   ]
  },
  {
   "cell_type": "code",
   "execution_count": null,
   "metadata": {
    "id": "0lz5CSmF-ovl"
   },
   "outputs": [],
   "source": [
    "import numpy as np\n",
    "\n",
    "x = np.array([[1,2],[3,4]], dtype=np.float64)\n",
    "y = np.array([[5,6],[7,8]], dtype=np.float64)\n",
    "\n",
    "# Elementwise sum; both produce the array\n",
    "# [[ 6.0  8.0]\n",
    "#  [10.0 12.0]]\n",
    "print(x + y)\n",
    "print(np.add(x, y))\n",
    "\n",
    "# Elementwise difference; both produce the array\n",
    "# [[-4.0 -4.0]\n",
    "#  [-4.0 -4.0]]\n",
    "print(x - y)\n",
    "print(np.subtract(x, y))\n",
    "\n",
    "# Elementwise product; both produce the array\n",
    "# [[ 5.0 12.0]\n",
    "#  [21.0 32.0]]\n",
    "print(x * y)\n",
    "print(np.multiply(x, y))\n",
    "\n",
    "# Elementwise division; both produce the array\n",
    "# [[ 0.2         0.33333333]\n",
    "#  [ 0.42857143  0.5       ]]\n",
    "print(x / y)\n",
    "print(np.divide(x, y))\n",
    "\n",
    "# Elementwise square root; produces the array\n",
    "# [[ 1.          1.41421356]\n",
    "#  [ 1.73205081  2.        ]]\n",
    "print(np.sqrt(x))"
   ]
  },
  {
   "cell_type": "code",
   "execution_count": null,
   "metadata": {
    "id": "Dq3qXyoZAHTZ"
   },
   "outputs": [],
   "source": [
    "import numpy as np\n",
    "\n",
    "x = np.array([[1,2],[3,4]])\n",
    "y = np.array([[5,6],[7,8]])\n",
    "\n",
    "v = np.array([9,10])\n",
    "w = np.array([11, 12])\n",
    "\n",
    "# Inner product of vectors; both produce 219\n",
    "print(v.dot(w))\n",
    "print(np.dot(v, w))\n",
    "\n",
    "# Matrix / vector product; both produce the rank 1 array [29 67]\n",
    "print(x.dot(v))\n",
    "print(np.dot(x, v))\n",
    "\n",
    "# Matrix / matrix product; both produce the rank 2 array\n",
    "# [[19 22]\n",
    "#  [43 50]]\n",
    "print(x.dot(y))\n",
    "print(np.dot(x, y))"
   ]
  },
  {
   "cell_type": "code",
   "execution_count": null,
   "metadata": {
    "id": "2SBV_RtwAJ03"
   },
   "outputs": [],
   "source": [
    "import numpy as np\n",
    "\n",
    "x = np.array([[1,2],[3,4]])\n",
    "\n",
    "print(np.sum(x))  # Compute sum of all elements; prints \"10\"\n",
    "print(np.sum(x, axis=0))  # Compute sum of each column; prints \"[4 6]\"\n",
    "print(np.sum(x, axis=1))  # Compute sum of each row; prints \"[3 7]\""
   ]
  },
  {
   "cell_type": "code",
   "execution_count": null,
   "metadata": {
    "id": "2jdzfNEGAL3e"
   },
   "outputs": [],
   "source": [
    "import numpy as np\n",
    "\n",
    "x = np.array([[1,2], [3,4]])\n",
    "print(x)    # Prints \"[[1 2]\n",
    "            #          [3 4]]\"\n",
    "print(x.T)  # Prints \"[[1 3]\n",
    "            #          [2 4]]\"\n",
    "\n",
    "# Note that taking the transpose of a rank 1 array does nothing:\n",
    "v = np.array([1,2,3])\n",
    "print(v)    # Prints \"[1 2 3]\"\n",
    "print(v.T)  # Prints \"[1 2 3]\""
   ]
  },
  {
   "cell_type": "markdown",
   "metadata": {
    "id": "cZ9kK0VoARYo"
   },
   "source": [
    "## **Broadcasting**"
   ]
  },
  {
   "cell_type": "code",
   "execution_count": null,
   "metadata": {
    "id": "WUEHv7FiANqe"
   },
   "outputs": [],
   "source": [
    "import numpy as np\n",
    "\n",
    "# We will add the vector v to each row of the matrix x,\n",
    "# storing the result in the matrix y\n",
    "x = np.array([[1,2,3], [4,5,6], [7,8,9], [10, 11, 12]])\n",
    "v = np.array([1, 0, 1])\n",
    "y = np.empty_like(x)   # Create an empty matrix with the same shape as x\n",
    "\n",
    "# Add the vector v to each row of the matrix x with an explicit loop\n",
    "for i in range(4):\n",
    "    y[i, :] = x[i, :] + v\n",
    "\n",
    "# Now y is the following\n",
    "# [[ 2  2  4]\n",
    "#  [ 5  5  7]\n",
    "#  [ 8  8 10]\n",
    "#  [11 11 13]]\n",
    "print(y)"
   ]
  },
  {
   "cell_type": "code",
   "execution_count": null,
   "metadata": {
    "id": "TYTXQf0vAW0g"
   },
   "outputs": [],
   "source": [
    "import numpy as np\n",
    "\n",
    "# We will add the vector v to each row of the matrix x,\n",
    "# storing the result in the matrix y\n",
    "x = np.array([[1,2,3], [4,5,6], [7,8,9], [10, 11, 12]])\n",
    "v = np.array([1, 0, 1])\n",
    "vv = np.tile(v, (4, 1))   # Stack 4 copies of v on top of each other\n",
    "print(vv)                 # Prints \"[[1 0 1]\n",
    "                          #          [1 0 1]\n",
    "                          #          [1 0 1]\n",
    "                          #          [1 0 1]]\"\n",
    "y = x + vv  # Add x and vv elementwise\n",
    "print(y)  # Prints \"[[ 2  2  4\n",
    "          #          [ 5  5  7]\n",
    "          #          [ 8  8 10]\n",
    "          #          [11 11 13]]\""
   ]
  },
  {
   "cell_type": "code",
   "execution_count": null,
   "metadata": {
    "id": "GQPv9aULAYzz"
   },
   "outputs": [],
   "source": [
    "import numpy as np\n",
    "\n",
    "# We will add the vector v to each row of the matrix x,\n",
    "# storing the result in the matrix y\n",
    "x = np.array([[1,2,3], [4,5,6], [7,8,9], [10, 11, 12]])\n",
    "v = np.array([1, 0, 1])\n",
    "y = x + v  # Add v to each row of x using broadcasting\n",
    "print(y)  # Prints \"[[ 2  2  4]\n",
    "          #          [ 5  5  7]\n",
    "          #          [ 8  8 10]\n",
    "          #          [11 11 13]]\""
   ]
  },
  {
   "cell_type": "code",
   "execution_count": null,
   "metadata": {
    "id": "i9tXRN0sAak5"
   },
   "outputs": [],
   "source": [
    "import numpy as np\n",
    "\n",
    "# Compute outer product of vectors\n",
    "v = np.array([1,2,3])  # v has shape (3,)\n",
    "w = np.array([4,5])    # w has shape (2,)\n",
    "# To compute an outer product, we first reshape v to be a column\n",
    "# vector of shape (3, 1); we can then broadcast it against w to yield\n",
    "# an output of shape (3, 2), which is the outer product of v and w:\n",
    "# [[ 4  5]\n",
    "#  [ 8 10]\n",
    "#  [12 15]]\n",
    "print(np.reshape(v, (3, 1)) * w)\n",
    "\n",
    "# Add a vector to each row of a matrix\n",
    "x = np.array([[1,2,3], [4,5,6]])\n",
    "# x has shape (2, 3) and v has shape (3,) so they broadcast to (2, 3),\n",
    "# giving the following matrix:\n",
    "# [[2 4 6]\n",
    "#  [5 7 9]]\n",
    "print(x + v)\n",
    "\n",
    "# Add a vector to each column of a matrix\n",
    "# x has shape (2, 3) and w has shape (2,).\n",
    "# If we transpose x then it has shape (3, 2) and can be broadcast\n",
    "# against w to yield a result of shape (3, 2); transposing this result\n",
    "# yields the final result of shape (2, 3) which is the matrix x with\n",
    "# the vector w added to each column. Gives the following matrix:\n",
    "# [[ 5  6  7]\n",
    "#  [ 9 10 11]]\n",
    "print((x.T + w).T)\n",
    "# Another solution is to reshape w to be a column vector of shape (2, 1);\n",
    "# we can then broadcast it directly against x to produce the same\n",
    "# output.\n",
    "print(x + np.reshape(w, (2, 1)))\n",
    "\n",
    "# Multiply a matrix by a constant:\n",
    "# x has shape (2, 3). Numpy treats scalars as arrays of shape ();\n",
    "# these can be broadcast together to shape (2, 3), producing the\n",
    "# following array:\n",
    "# [[ 2  4  6]\n",
    "#  [ 8 10 12]]\n",
    "print(x * 2)"
   ]
  }
 ],
 "metadata": {
  "colab": {
   "authorship_tag": "ABX9TyO8/gfjQIMMkWuPnyy7qWNu",
   "collapsed_sections": [],
   "name": "11_Numpy_Python.ipynb",
   "provenance": [],
   "toc_visible": true
  },
  "interpreter": {
   "hash": "f60a20abaabf5a658075b37fac599269792a9493ddacd7c14d8505185d5625aa"
  },
  "kernelspec": {
   "display_name": "Python 3.8.8 64-bit ('base': conda)",
   "name": "python3"
  },
  "language_info": {
   "codemirror_mode": {
    "name": "ipython",
    "version": 3
   },
   "file_extension": ".py",
   "mimetype": "text/x-python",
   "name": "python",
   "nbconvert_exporter": "python",
   "pygments_lexer": "ipython3",
   "version": "3.8.8"
  }
 },
 "nbformat": 4,
 "nbformat_minor": 2
}
