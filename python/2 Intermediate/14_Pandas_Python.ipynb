{
 "cells": [
  {
   "cell_type": "markdown",
   "metadata": {
    "id": "KJezQR0wEm9K"
   },
   "source": [
    "#**Pandas in Python**"
   ]
  },
  {
   "cell_type": "markdown",
   "metadata": {
    "id": "MPfd7TqREzAx"
   },
   "source": [
    "pandas is a Python package that provides fast, flexible, and expressive data structures designed to make working with \"relational\" or \"labeled\" data both easy and intuitive. It aims to be the fundamental high-level building block for doing practical, real world data analysis in Python. Additionally, it has the broader goal of becoming the most powerful and flexible open source data analysis / manipulation tool available in any language. It is already well on its way towards this goal."
   ]
  },
  {
   "cell_type": "markdown",
   "metadata": {
    "id": "u-Ke2tu6FDKQ"
   },
   "source": [
    "![1200px-Pandas_logo.svg.png](data:image/png;base64,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)"
   ]
  },
  {
   "cell_type": "markdown",
   "metadata": {
    "id": "8nSWM7Im5Qfl"
   },
   "source": [
    "## **Basic Pandas data structures**"
   ]
  },
  {
   "cell_type": "markdown",
   "metadata": {
    "id": "Cv54QiK55hkN"
   },
   "source": [
    "### **Series**"
   ]
  },
  {
   "cell_type": "code",
   "execution_count": null,
   "metadata": {},
   "outputs": [],
   "source": [
    "!python -m pip install pip --upgrade --user -q\n",
    "!python -m pip install pandas numpy --user -q"
   ]
  },
  {
   "cell_type": "code",
   "execution_count": null,
   "metadata": {},
   "outputs": [],
   "source": [
    "import IPython\n",
    "IPython.Application.instance().kernel.do_shutdown(True)"
   ]
  },
  {
   "cell_type": "markdown",
   "metadata": {
    "id": "bmi7H9V-Lf4u"
   },
   "source": [
    "The Series is a 1D NumPy array with some additional functionality."
   ]
  },
  {
   "cell_type": "code",
   "execution_count": null,
   "metadata": {
    "executionInfo": {
     "elapsed": 760,
     "status": "ok",
     "timestamp": 1621843767595,
     "user": {
      "displayName": "Aishwarya Verma",
      "photoUrl": "https://lh3.googleusercontent.com/a-/AOh14GiG6BREocxcd5R6rzlQGApoCsYso7BQAh63eXNz6Q=s64",
      "userId": "06108390091304498033"
     },
     "user_tz": -330
    },
    "id": "5xpBqpaE5rE0"
   },
   "outputs": [],
   "source": [
    "example_dict = {\"Name\":[\" Person A\", \"Person B\", \"Person C\", \"Person D\"],\n",
    "                \"Color\": [\"Red\", \"Black\", \"Blue\", \"White\"],\n",
    "                \"Place\": [\"Delhi\", \"Mumbai\", \"Pune\", \"Bangalore\"]\n",
    "    \n",
    "}"
   ]
  },
  {
   "cell_type": "code",
   "execution_count": null,
   "metadata": {
    "colab": {
     "base_uri": "https://localhost:8080/"
    },
    "executionInfo": {
     "elapsed": 201,
     "status": "ok",
     "timestamp": 1621843768252,
     "user": {
      "displayName": "Aishwarya Verma",
      "photoUrl": "https://lh3.googleusercontent.com/a-/AOh14GiG6BREocxcd5R6rzlQGApoCsYso7BQAh63eXNz6Q=s64",
      "userId": "06108390091304498033"
     },
     "user_tz": -330
    },
    "id": "xNVd8n7lLZ9q",
    "outputId": "131fb694-e86c-4ce8-d863-5f47a60977f0"
   },
   "outputs": [],
   "source": [
    "import pandas as pd\n",
    "\n",
    "place = pd.Series(example_dict['Place'], name='place')\n",
    "place"
   ]
  },
  {
   "cell_type": "markdown",
   "metadata": {
    "id": "fC9cE1YGLvXC"
   },
   "source": [
    "Getting the dimensions of the series \n",
    "\n",
    "\n",
    "\n",
    "---\n",
    "Series objects are a single column, so they only have values for the rows dimension.\n"
   ]
  },
  {
   "cell_type": "code",
   "execution_count": null,
   "metadata": {
    "colab": {
     "base_uri": "https://localhost:8080/"
    },
    "executionInfo": {
     "elapsed": 198,
     "status": "ok",
     "timestamp": 1621843768255,
     "user": {
      "displayName": "Aishwarya Verma",
      "photoUrl": "https://lh3.googleusercontent.com/a-/AOh14GiG6BREocxcd5R6rzlQGApoCsYso7BQAh63eXNz6Q=s64",
      "userId": "06108390091304498033"
     },
     "user_tz": -330
    },
    "id": "O3eXQMd8Lwah",
    "outputId": "c1ba5b41-7a48-405e-ad7d-bcf98831a476"
   },
   "outputs": [],
   "source": [
    "place.shape"
   ]
  },
  {
   "cell_type": "markdown",
   "metadata": {
    "id": "nH9why0bL0oG"
   },
   "source": [
    "Getting the data type "
   ]
  },
  {
   "cell_type": "code",
   "execution_count": null,
   "metadata": {
    "colab": {
     "base_uri": "https://localhost:8080/"
    },
    "executionInfo": {
     "elapsed": 194,
     "status": "ok",
     "timestamp": 1621843768257,
     "user": {
      "displayName": "Aishwarya Verma",
      "photoUrl": "https://lh3.googleusercontent.com/a-/AOh14GiG6BREocxcd5R6rzlQGApoCsYso7BQAh63eXNz6Q=s64",
      "userId": "06108390091304498033"
     },
     "user_tz": -330
    },
    "id": "5KrhVndFL0GU",
    "outputId": "bfa07ea3-730e-4778-ab3e-24c2727ea9bd"
   },
   "outputs": [],
   "source": [
    "place.dtype"
   ]
  },
  {
   "cell_type": "markdown",
   "metadata": {
    "id": "PO74VO8SMHWF"
   },
   "source": [
    "Getting the name of the series"
   ]
  },
  {
   "cell_type": "code",
   "execution_count": null,
   "metadata": {
    "colab": {
     "base_uri": "https://localhost:8080/",
     "height": 36
    },
    "executionInfo": {
     "elapsed": 192,
     "status": "ok",
     "timestamp": 1621843768261,
     "user": {
      "displayName": "Aishwarya Verma",
      "photoUrl": "https://lh3.googleusercontent.com/a-/AOh14GiG6BREocxcd5R6rzlQGApoCsYso7BQAh63eXNz6Q=s64",
      "userId": "06108390091304498033"
     },
     "user_tz": -330
    },
    "id": "7-ynhyOcMJVf",
    "outputId": "68c788a1-641b-4dea-8427-a913aced57e2"
   },
   "outputs": [],
   "source": [
    "place.name"
   ]
  },
  {
   "cell_type": "markdown",
   "metadata": {
    "id": "D5_zS4iiMMIu"
   },
   "source": [
    "Isolating the values from the series (as an array) "
   ]
  },
  {
   "cell_type": "code",
   "execution_count": null,
   "metadata": {
    "colab": {
     "base_uri": "https://localhost:8080/"
    },
    "executionInfo": {
     "elapsed": 187,
     "status": "ok",
     "timestamp": 1621843768264,
     "user": {
      "displayName": "Aishwarya Verma",
      "photoUrl": "https://lh3.googleusercontent.com/a-/AOh14GiG6BREocxcd5R6rzlQGApoCsYso7BQAh63eXNz6Q=s64",
      "userId": "06108390091304498033"
     },
     "user_tz": -330
    },
    "id": "9aMrP6bLMQHh",
    "outputId": "a53bd97c-b733-4eee-e9f8-74f065a3462a"
   },
   "outputs": [],
   "source": [
    "place.values"
   ]
  },
  {
   "cell_type": "markdown",
   "metadata": {
    "id": "1-wy_WrR5kxi"
   },
   "source": [
    "### **Index**"
   ]
  },
  {
   "cell_type": "markdown",
   "metadata": {
    "id": "PbBWbTwMM3P0"
   },
   "source": [
    "Index built on top of Numpy"
   ]
  },
  {
   "cell_type": "code",
   "execution_count": null,
   "metadata": {
    "colab": {
     "base_uri": "https://localhost:8080/"
    },
    "executionInfo": {
     "elapsed": 184,
     "status": "ok",
     "timestamp": 1621843768267,
     "user": {
      "displayName": "Aishwarya Verma",
      "photoUrl": "https://lh3.googleusercontent.com/a-/AOh14GiG6BREocxcd5R6rzlQGApoCsYso7BQAh63eXNz6Q=s64",
      "userId": "06108390091304498033"
     },
     "user_tz": -330
    },
    "id": "aCE-TwznMyDr",
    "outputId": "400e8773-e178-401c-d23e-fee3211c0541"
   },
   "outputs": [],
   "source": [
    "place_index = place.index\n",
    "place_index"
   ]
  },
  {
   "cell_type": "code",
   "execution_count": null,
   "metadata": {
    "colab": {
     "base_uri": "https://localhost:8080/"
    },
    "executionInfo": {
     "elapsed": 179,
     "status": "ok",
     "timestamp": 1621843768270,
     "user": {
      "displayName": "Aishwarya Verma",
      "photoUrl": "https://lh3.googleusercontent.com/a-/AOh14GiG6BREocxcd5R6rzlQGApoCsYso7BQAh63eXNz6Q=s64",
      "userId": "06108390091304498033"
     },
     "user_tz": -330
    },
    "id": "Pf_qB4GqM8cr",
    "outputId": "d2a9c753-92df-4e51-dabb-b12209f097ff"
   },
   "outputs": [],
   "source": [
    "place_index.values"
   ]
  },
  {
   "cell_type": "markdown",
   "metadata": {
    "id": "QCn5La5RMx0b"
   },
   "source": [
    "Some utilites are same as Series like,"
   ]
  },
  {
   "cell_type": "code",
   "execution_count": null,
   "metadata": {
    "colab": {
     "base_uri": "https://localhost:8080/"
    },
    "executionInfo": {
     "elapsed": 175,
     "status": "ok",
     "timestamp": 1621843768273,
     "user": {
      "displayName": "Aishwarya Verma",
      "photoUrl": "https://lh3.googleusercontent.com/a-/AOh14GiG6BREocxcd5R6rzlQGApoCsYso7BQAh63eXNz6Q=s64",
      "userId": "06108390091304498033"
     },
     "user_tz": -330
    },
    "id": "Q7oqMDShNRpi",
    "outputId": "6f689dfa-aa07-4039-a6ae-bc776a80efe8"
   },
   "outputs": [],
   "source": [
    "place_index.dtype"
   ]
  },
  {
   "cell_type": "code",
   "execution_count": null,
   "metadata": {
    "colab": {
     "base_uri": "https://localhost:8080/"
    },
    "executionInfo": {
     "elapsed": 167,
     "status": "ok",
     "timestamp": 1621843768276,
     "user": {
      "displayName": "Aishwarya Verma",
      "photoUrl": "https://lh3.googleusercontent.com/a-/AOh14GiG6BREocxcd5R6rzlQGApoCsYso7BQAh63eXNz6Q=s64",
      "userId": "06108390091304498033"
     },
     "user_tz": -330
    },
    "id": "rb-XiMfnNULU",
    "outputId": "bbb50b8f-2139-42d8-b24a-44db0997cbc7"
   },
   "outputs": [],
   "source": [
    "place_index.shape"
   ]
  },
  {
   "cell_type": "markdown",
   "metadata": {
    "id": "RnvLV_1gNcHk"
   },
   "source": [
    "We can check if the values are unique:\n"
   ]
  },
  {
   "cell_type": "code",
   "execution_count": null,
   "metadata": {
    "colab": {
     "base_uri": "https://localhost:8080/"
    },
    "executionInfo": {
     "elapsed": 160,
     "status": "ok",
     "timestamp": 1621843768278,
     "user": {
      "displayName": "Aishwarya Verma",
      "photoUrl": "https://lh3.googleusercontent.com/a-/AOh14GiG6BREocxcd5R6rzlQGApoCsYso7BQAh63eXNz6Q=s64",
      "userId": "06108390091304498033"
     },
     "user_tz": -330
    },
    "id": "irM99B2RNY_4",
    "outputId": "e307f474-f946-4b47-c88e-8d6c7b7f6066"
   },
   "outputs": [],
   "source": [
    "place_index.is_unique"
   ]
  },
  {
   "cell_type": "markdown",
   "metadata": {
    "id": "JXGykkJwNv1y"
   },
   "source": [
    "Index determines how element-wise operations are performed. With addition, only the matching indices are summed:"
   ]
  },
  {
   "cell_type": "code",
   "execution_count": null,
   "metadata": {
    "colab": {
     "base_uri": "https://localhost:8080/"
    },
    "executionInfo": {
     "elapsed": 153,
     "status": "ok",
     "timestamp": 1621843768281,
     "user": {
      "displayName": "Aishwarya Verma",
      "photoUrl": "https://lh3.googleusercontent.com/a-/AOh14GiG6BREocxcd5R6rzlQGApoCsYso7BQAh63eXNz6Q=s64",
      "userId": "06108390091304498033"
     },
     "user_tz": -330
    },
    "id": "BxFe0pQiNyV5",
    "outputId": "9af908bd-5885-4e43-ee08-cdda23e5c7a8"
   },
   "outputs": [],
   "source": [
    "import numpy as np\n",
    "a = pd.Series(np.linspace(0, 10, num=5))\n",
    "a"
   ]
  },
  {
   "cell_type": "code",
   "execution_count": null,
   "metadata": {
    "colab": {
     "base_uri": "https://localhost:8080/"
    },
    "executionInfo": {
     "elapsed": 149,
     "status": "ok",
     "timestamp": 1621843768284,
     "user": {
      "displayName": "Aishwarya Verma",
      "photoUrl": "https://lh3.googleusercontent.com/a-/AOh14GiG6BREocxcd5R6rzlQGApoCsYso7BQAh63eXNz6Q=s64",
      "userId": "06108390091304498033"
     },
     "user_tz": -330
    },
    "id": "IuXbBjzoOAmz",
    "outputId": "2c088889-1fa5-4bd6-8119-a0d389623630"
   },
   "outputs": [],
   "source": [
    "b=pd.Series(np.linspace(0, 10, num=5), index=pd.Index([1, 2, 3, 4, 5]))\n",
    "b"
   ]
  },
  {
   "cell_type": "code",
   "execution_count": null,
   "metadata": {
    "colab": {
     "base_uri": "https://localhost:8080/"
    },
    "executionInfo": {
     "elapsed": 146,
     "status": "ok",
     "timestamp": 1621843768289,
     "user": {
      "displayName": "Aishwarya Verma",
      "photoUrl": "https://lh3.googleusercontent.com/a-/AOh14GiG6BREocxcd5R6rzlQGApoCsYso7BQAh63eXNz6Q=s64",
      "userId": "06108390091304498033"
     },
     "user_tz": -330
    },
    "id": "oZXC289PODWz",
    "outputId": "b6fd86f2-64f2-4353-bf75-3d2ff9e427ec"
   },
   "outputs": [],
   "source": [
    "a+b"
   ]
  },
  {
   "cell_type": "markdown",
   "metadata": {
    "id": "ij4RsC2f5n5M"
   },
   "source": [
    "### **DataFrame**"
   ]
  },
  {
   "cell_type": "markdown",
   "metadata": {
    "id": "buP6KQquORaU"
   },
   "source": [
    "You can convert your numpy arrays, list of list or list of tuples and dictionary into a pandas dataframe structure"
   ]
  },
  {
   "cell_type": "code",
   "execution_count": null,
   "metadata": {
    "colab": {
     "base_uri": "https://localhost:8080/"
    },
    "executionInfo": {
     "elapsed": 140,
     "status": "ok",
     "timestamp": 1621843768291,
     "user": {
      "displayName": "Aishwarya Verma",
      "photoUrl": "https://lh3.googleusercontent.com/a-/AOh14GiG6BREocxcd5R6rzlQGApoCsYso7BQAh63eXNz6Q=s64",
      "userId": "06108390091304498033"
     },
     "user_tz": -330
    },
    "id": "B_DkgY-d4zeh",
    "outputId": "bd94c0a2-27ab-4100-8bdf-90292d7ab06f"
   },
   "outputs": [],
   "source": [
    "#from dictionary\n",
    "example_dict"
   ]
  },
  {
   "cell_type": "code",
   "execution_count": null,
   "metadata": {
    "colab": {
     "base_uri": "https://localhost:8080/",
     "height": 175
    },
    "executionInfo": {
     "elapsed": 135,
     "status": "ok",
     "timestamp": 1621843768293,
     "user": {
      "displayName": "Aishwarya Verma",
      "photoUrl": "https://lh3.googleusercontent.com/a-/AOh14GiG6BREocxcd5R6rzlQGApoCsYso7BQAh63eXNz6Q=s64",
      "userId": "06108390091304498033"
     },
     "user_tz": -330
    },
    "id": "UkAibGXlOdU_",
    "outputId": "09821592-9b5f-4097-e1ed-27aaca8606b9"
   },
   "outputs": [],
   "source": [
    "df_from_dict = pd.DataFrame(example_dict)\n",
    "df_from_dict"
   ]
  },
  {
   "cell_type": "code",
   "execution_count": null,
   "metadata": {
    "colab": {
     "base_uri": "https://localhost:8080/",
     "height": 175
    },
    "executionInfo": {
     "elapsed": 128,
     "status": "ok",
     "timestamp": 1621843768295,
     "user": {
      "displayName": "Aishwarya Verma",
      "photoUrl": "https://lh3.googleusercontent.com/a-/AOh14GiG6BREocxcd5R6rzlQGApoCsYso7BQAh63eXNz6Q=s64",
      "userId": "06108390091304498033"
     },
     "user_tz": -330
    },
    "id": "2aaGhk7kOpWm",
    "outputId": "199d5611-2c99-4fb1-ec6f-1f8d5d19cb2c"
   },
   "outputs": [],
   "source": [
    "#from list of list\n",
    "ll = [[1 , 2], [3, 4],[5,6],[7,8]]\n",
    "df = pd.DataFrame(ll, columns=[\"Column 1\", \"Column 2\"])\n",
    "df"
   ]
  },
  {
   "cell_type": "code",
   "execution_count": null,
   "metadata": {
    "colab": {
     "base_uri": "https://localhost:8080/"
    },
    "executionInfo": {
     "elapsed": 123,
     "status": "ok",
     "timestamp": 1621843768297,
     "user": {
      "displayName": "Aishwarya Verma",
      "photoUrl": "https://lh3.googleusercontent.com/a-/AOh14GiG6BREocxcd5R6rzlQGApoCsYso7BQAh63eXNz6Q=s64",
      "userId": "06108390091304498033"
     },
     "user_tz": -330
    },
    "id": "0Om59j-wP5nd",
    "outputId": "b7b0d7c1-4ac5-4b41-e041-3c28349276b8"
   },
   "outputs": [],
   "source": [
    "#from numpy arrays\n",
    "data = np.array([[5.8, 2.8], [6.0, 2.2], [3.2, 5.6]])\n",
    "data"
   ]
  },
  {
   "cell_type": "code",
   "execution_count": null,
   "metadata": {
    "colab": {
     "base_uri": "https://localhost:8080/",
     "height": 143
    },
    "executionInfo": {
     "elapsed": 118,
     "status": "ok",
     "timestamp": 1621843768299,
     "user": {
      "displayName": "Aishwarya Verma",
      "photoUrl": "https://lh3.googleusercontent.com/a-/AOh14GiG6BREocxcd5R6rzlQGApoCsYso7BQAh63eXNz6Q=s64",
      "userId": "06108390091304498033"
     },
     "user_tz": -330
    },
    "id": "COU2wAs7QN3N",
    "outputId": "efe28c3a-6693-46ef-e04f-ed9fc7c614bf"
   },
   "outputs": [],
   "source": [
    "df = pd.DataFrame(data, columns=[\"Column 1\", \"Column 2\"])\n",
    "df"
   ]
  },
  {
   "cell_type": "markdown",
   "metadata": {
    "id": "UJjt_aOoQtfq"
   },
   "source": [
    "\n",
    "Isolating the values of a dataframe as a NumPy ndarray (n-dimensional array)\n"
   ]
  },
  {
   "cell_type": "code",
   "execution_count": null,
   "metadata": {
    "colab": {
     "base_uri": "https://localhost:8080/"
    },
    "executionInfo": {
     "elapsed": 115,
     "status": "ok",
     "timestamp": 1621843768301,
     "user": {
      "displayName": "Aishwarya Verma",
      "photoUrl": "https://lh3.googleusercontent.com/a-/AOh14GiG6BREocxcd5R6rzlQGApoCsYso7BQAh63eXNz6Q=s64",
      "userId": "06108390091304498033"
     },
     "user_tz": -330
    },
    "id": "fiBJ3PdWQW2z",
    "outputId": "84936182-1860-40be-fbda-bc2866029498"
   },
   "outputs": [],
   "source": [
    "df_from_dict.values"
   ]
  },
  {
   "cell_type": "markdown",
   "metadata": {
    "id": "TUOaEAzKQzQf"
   },
   "source": [
    "Getting the data types"
   ]
  },
  {
   "cell_type": "code",
   "execution_count": null,
   "metadata": {
    "colab": {
     "base_uri": "https://localhost:8080/"
    },
    "executionInfo": {
     "elapsed": 109,
     "status": "ok",
     "timestamp": 1621843768303,
     "user": {
      "displayName": "Aishwarya Verma",
      "photoUrl": "https://lh3.googleusercontent.com/a-/AOh14GiG6BREocxcd5R6rzlQGApoCsYso7BQAh63eXNz6Q=s64",
      "userId": "06108390091304498033"
     },
     "user_tz": -330
    },
    "id": "rnL5iqnTQw4S",
    "outputId": "423d51c0-67bc-4d90-84a8-6946f1972060"
   },
   "outputs": [],
   "source": [
    "df.dtypes"
   ]
  },
  {
   "cell_type": "markdown",
   "metadata": {
    "id": "B7r0YpFJQ4Q6"
   },
   "source": [
    "Getting the dimensions of the dataframe"
   ]
  },
  {
   "cell_type": "code",
   "execution_count": null,
   "metadata": {
    "colab": {
     "base_uri": "https://localhost:8080/"
    },
    "executionInfo": {
     "elapsed": 106,
     "status": "ok",
     "timestamp": 1621843768305,
     "user": {
      "displayName": "Aishwarya Verma",
      "photoUrl": "https://lh3.googleusercontent.com/a-/AOh14GiG6BREocxcd5R6rzlQGApoCsYso7BQAh63eXNz6Q=s64",
      "userId": "06108390091304498033"
     },
     "user_tz": -330
    },
    "id": "HtMSVf6mQ19N",
    "outputId": "c043bcbf-e428-411f-c334-1e03f8be1a67"
   },
   "outputs": [],
   "source": [
    "#outputs (rows, columns)\n",
    "df.shape"
   ]
  },
  {
   "cell_type": "markdown",
   "metadata": {
    "id": "XHRIY-WyW88r"
   },
   "source": [
    "Reading a csv file"
   ]
  },
  {
   "cell_type": "code",
   "execution_count": null,
   "metadata": {
    "colab": {
     "base_uri": "https://localhost:8080/",
     "height": 424
    },
    "executionInfo": {
     "elapsed": 101,
     "status": "ok",
     "timestamp": 1621843768308,
     "user": {
      "displayName": "Aishwarya Verma",
      "photoUrl": "https://lh3.googleusercontent.com/a-/AOh14GiG6BREocxcd5R6rzlQGApoCsYso7BQAh63eXNz6Q=s64",
      "userId": "06108390091304498033"
     },
     "user_tz": -330
    },
    "id": "Zufm86puQ9ji",
    "outputId": "c046253e-8c89-409d-aed8-ca9ab546fe5f"
   },
   "outputs": [],
   "source": [
    "#Data can be downloaded from https://www.kaggle.com/luddarell/101-simple-linear-regressioncsv?select=1.01.+Simple+linear+regression.csv\n",
    "df = pd.read_csv(\"data.csv\")\n",
    "df"
   ]
  },
  {
   "cell_type": "code",
   "execution_count": null,
   "metadata": {
    "colab": {
     "base_uri": "https://localhost:8080/"
    },
    "executionInfo": {
     "elapsed": 1203,
     "status": "ok",
     "timestamp": 1621843769414,
     "user": {
      "displayName": "Aishwarya Verma",
      "photoUrl": "https://lh3.googleusercontent.com/a-/AOh14GiG6BREocxcd5R6rzlQGApoCsYso7BQAh63eXNz6Q=s64",
      "userId": "06108390091304498033"
     },
     "user_tz": -330
    },
    "id": "L9gFqpk_ZAie",
    "outputId": "c1945924-c936-4cbf-8777-e5470d860088"
   },
   "outputs": [],
   "source": [
    "df.dtypes"
   ]
  },
  {
   "cell_type": "code",
   "execution_count": null,
   "metadata": {
    "colab": {
     "base_uri": "https://localhost:8080/"
    },
    "executionInfo": {
     "elapsed": 110,
     "status": "ok",
     "timestamp": 1621843769420,
     "user": {
      "displayName": "Aishwarya Verma",
      "photoUrl": "https://lh3.googleusercontent.com/a-/AOh14GiG6BREocxcd5R6rzlQGApoCsYso7BQAh63eXNz6Q=s64",
      "userId": "06108390091304498033"
     },
     "user_tz": -330
    },
    "id": "G4CTm9S_ZBfs",
    "outputId": "c8c9ee48-0f00-406f-ad62-041a22ad7cf0"
   },
   "outputs": [],
   "source": [
    "df.shape"
   ]
  },
  {
   "cell_type": "code",
   "execution_count": null,
   "metadata": {
    "colab": {
     "base_uri": "https://localhost:8080/",
     "height": 300
    },
    "executionInfo": {
     "elapsed": 105,
     "status": "ok",
     "timestamp": 1621843769423,
     "user": {
      "displayName": "Aishwarya Verma",
      "photoUrl": "https://lh3.googleusercontent.com/a-/AOh14GiG6BREocxcd5R6rzlQGApoCsYso7BQAh63eXNz6Q=s64",
      "userId": "06108390091304498033"
     },
     "user_tz": -330
    },
    "id": "QLE2HdjnZDEq",
    "outputId": "0630d52c-60c9-4b6e-8a02-ffbc66d6e12b"
   },
   "outputs": [],
   "source": [
    "df.describe()"
   ]
  },
  {
   "cell_type": "code",
   "execution_count": null,
   "metadata": {
    "executionInfo": {
     "elapsed": 103,
     "status": "ok",
     "timestamp": 1621843769426,
     "user": {
      "displayName": "Aishwarya Verma",
      "photoUrl": "https://lh3.googleusercontent.com/a-/AOh14GiG6BREocxcd5R6rzlQGApoCsYso7BQAh63eXNz6Q=s64",
      "userId": "06108390091304498033"
     },
     "user_tz": -330
    },
    "id": "wEWWUB4yZEJH"
   },
   "outputs": [],
   "source": [
    "#saving a dataframe to a csv file\n",
    "# df.to_csv('output.csv', index=False)"
   ]
  },
  {
   "cell_type": "markdown",
   "metadata": {
    "id": "Tea42hERZ8Ec"
   },
   "source": [
    "Inspectinga a dataframe"
   ]
  },
  {
   "cell_type": "code",
   "execution_count": null,
   "metadata": {
    "colab": {
     "base_uri": "https://localhost:8080/",
     "height": 1000
    },
    "executionInfo": {
     "elapsed": 1025,
     "status": "ok",
     "timestamp": 1621843778133,
     "user": {
      "displayName": "Aishwarya Verma",
      "photoUrl": "https://lh3.googleusercontent.com/a-/AOh14GiG6BREocxcd5R6rzlQGApoCsYso7BQAh63eXNz6Q=s64",
      "userId": "06108390091304498033"
     },
     "user_tz": -330
    },
    "id": "C_2fr34gZX31",
    "outputId": "c1b04aa2-1ba5-4b36-ddee-383b35a34daf"
   },
   "outputs": [],
   "source": [
    "#data can be downloaded from https://raw.githubusercontent.com/stefmolin/Hands-On-Data-Analysis-with-Pandas/master/ch_02/data/earthquakes.csv\n",
    "df = pd.read_csv(\"https://raw.githubusercontent.com/stefmolin/Hands-On-Data-Analysis-with-Pandas/master/ch_02/data/earthquakes.csv\")\n",
    "df"
   ]
  },
  {
   "cell_type": "code",
   "execution_count": null,
   "metadata": {
    "colab": {
     "base_uri": "https://localhost:8080/"
    },
    "executionInfo": {
     "elapsed": 12,
     "status": "ok",
     "timestamp": 1621843781898,
     "user": {
      "displayName": "Aishwarya Verma",
      "photoUrl": "https://lh3.googleusercontent.com/a-/AOh14GiG6BREocxcd5R6rzlQGApoCsYso7BQAh63eXNz6Q=s64",
      "userId": "06108390091304498033"
     },
     "user_tz": -330
    },
    "id": "1ILo-t8CaWis",
    "outputId": "09d7697a-5b2e-4e93-e1ce-329bfd49a3b8"
   },
   "outputs": [],
   "source": [
    "df.empty"
   ]
  },
  {
   "cell_type": "code",
   "execution_count": null,
   "metadata": {
    "colab": {
     "base_uri": "https://localhost:8080/"
    },
    "executionInfo": {
     "elapsed": 394,
     "status": "ok",
     "timestamp": 1621843784484,
     "user": {
      "displayName": "Aishwarya Verma",
      "photoUrl": "https://lh3.googleusercontent.com/a-/AOh14GiG6BREocxcd5R6rzlQGApoCsYso7BQAh63eXNz6Q=s64",
      "userId": "06108390091304498033"
     },
     "user_tz": -330
    },
    "id": "0kbxCLRvbPQp",
    "outputId": "95c14297-255d-459a-aaf1-0753ad0cbc26"
   },
   "outputs": [],
   "source": [
    "df.shape"
   ]
  },
  {
   "cell_type": "code",
   "execution_count": null,
   "metadata": {
    "colab": {
     "base_uri": "https://localhost:8080/",
     "height": 573
    },
    "executionInfo": {
     "elapsed": 388,
     "status": "ok",
     "timestamp": 1621843784495,
     "user": {
      "displayName": "Aishwarya Verma",
      "photoUrl": "https://lh3.googleusercontent.com/a-/AOh14GiG6BREocxcd5R6rzlQGApoCsYso7BQAh63eXNz6Q=s64",
      "userId": "06108390091304498033"
     },
     "user_tz": -330
    },
    "id": "sxdijpQAbRU0",
    "outputId": "5df8abd2-2297-4585-ad7d-cc6e3872781c"
   },
   "outputs": [],
   "source": [
    "#by defaults outputs 5 rows\n",
    "#starting from 0\n",
    "df.head()"
   ]
  },
  {
   "cell_type": "code",
   "execution_count": null,
   "metadata": {
    "colab": {
     "base_uri": "https://localhost:8080/",
     "height": 591
    },
    "executionInfo": {
     "elapsed": 383,
     "status": "ok",
     "timestamp": 1621843784498,
     "user": {
      "displayName": "Aishwarya Verma",
      "photoUrl": "https://lh3.googleusercontent.com/a-/AOh14GiG6BREocxcd5R6rzlQGApoCsYso7BQAh63eXNz6Q=s64",
      "userId": "06108390091304498033"
     },
     "user_tz": -330
    },
    "id": "QDxsGpbSbVhV",
    "outputId": "cf44b8ef-47a1-4d26-d7e9-5c930a6d270d"
   },
   "outputs": [],
   "source": [
    "#starting from last\n",
    "df.tail()"
   ]
  },
  {
   "cell_type": "markdown",
   "metadata": {
    "id": "QjKuia8TcIIe"
   },
   "source": [
    "What columns do we have?"
   ]
  },
  {
   "cell_type": "code",
   "execution_count": null,
   "metadata": {
    "colab": {
     "base_uri": "https://localhost:8080/"
    },
    "executionInfo": {
     "elapsed": 381,
     "status": "ok",
     "timestamp": 1621843784501,
     "user": {
      "displayName": "Aishwarya Verma",
      "photoUrl": "https://lh3.googleusercontent.com/a-/AOh14GiG6BREocxcd5R6rzlQGApoCsYso7BQAh63eXNz6Q=s64",
      "userId": "06108390091304498033"
     },
     "user_tz": -330
    },
    "id": "6Tpi6WRHbWk0",
    "outputId": "a407b8cc-960c-414b-98a7-bda8c09bc432"
   },
   "outputs": [],
   "source": [
    "#determine the columns\n",
    "df.columns"
   ]
  },
  {
   "cell_type": "markdown",
   "metadata": {
    "id": "wA2dk7aFcKA1"
   },
   "source": [
    "What data types do we have?"
   ]
  },
  {
   "cell_type": "code",
   "execution_count": null,
   "metadata": {
    "colab": {
     "base_uri": "https://localhost:8080/"
    },
    "executionInfo": {
     "elapsed": 374,
     "status": "ok",
     "timestamp": 1621843784505,
     "user": {
      "displayName": "Aishwarya Verma",
      "photoUrl": "https://lh3.googleusercontent.com/a-/AOh14GiG6BREocxcd5R6rzlQGApoCsYso7BQAh63eXNz6Q=s64",
      "userId": "06108390091304498033"
     },
     "user_tz": -330
    },
    "id": "uiy3H5CZbjgD",
    "outputId": "65d06898-1f85-4d83-abb7-ac66d47e18ff"
   },
   "outputs": [],
   "source": [
    "df.dtypes"
   ]
  },
  {
   "cell_type": "markdown",
   "metadata": {
    "id": "unoUDFzycQSz"
   },
   "source": [
    "Getting extra info and finding nulls"
   ]
  },
  {
   "cell_type": "code",
   "execution_count": null,
   "metadata": {
    "colab": {
     "base_uri": "https://localhost:8080/"
    },
    "executionInfo": {
     "elapsed": 371,
     "status": "ok",
     "timestamp": 1621843784508,
     "user": {
      "displayName": "Aishwarya Verma",
      "photoUrl": "https://lh3.googleusercontent.com/a-/AOh14GiG6BREocxcd5R6rzlQGApoCsYso7BQAh63eXNz6Q=s64",
      "userId": "06108390091304498033"
     },
     "user_tz": -330
    },
    "id": "VBLjTLxMbmxe",
    "outputId": "888e9d80-d0f1-4479-f92a-f50459dbe17a"
   },
   "outputs": [],
   "source": [
    "df.info()"
   ]
  },
  {
   "cell_type": "markdown",
   "metadata": {
    "id": "zuPdbHTGcV-g"
   },
   "source": [
    "Get summary statistics"
   ]
  },
  {
   "cell_type": "code",
   "execution_count": null,
   "metadata": {
    "colab": {
     "base_uri": "https://localhost:8080/",
     "height": 320
    },
    "executionInfo": {
     "elapsed": 360,
     "status": "ok",
     "timestamp": 1621843784510,
     "user": {
      "displayName": "Aishwarya Verma",
      "photoUrl": "https://lh3.googleusercontent.com/a-/AOh14GiG6BREocxcd5R6rzlQGApoCsYso7BQAh63eXNz6Q=s64",
      "userId": "06108390091304498033"
     },
     "user_tz": -330
    },
    "id": "DdHuIKUPblUj",
    "outputId": "ba64d82a-844c-473b-b6b5-ab10cc32292d"
   },
   "outputs": [],
   "source": [
    "df.describe()"
   ]
  },
  {
   "cell_type": "markdown",
   "metadata": {
    "id": "K20RbqQjcX8U"
   },
   "source": [
    "\n",
    "\n",
    "Specifying the 5th and 95th percentile:\n"
   ]
  },
  {
   "cell_type": "code",
   "execution_count": null,
   "metadata": {
    "colab": {
     "base_uri": "https://localhost:8080/",
     "height": 320
    },
    "executionInfo": {
     "elapsed": 357,
     "status": "ok",
     "timestamp": 1621843784513,
     "user": {
      "displayName": "Aishwarya Verma",
      "photoUrl": "https://lh3.googleusercontent.com/a-/AOh14GiG6BREocxcd5R6rzlQGApoCsYso7BQAh63eXNz6Q=s64",
      "userId": "06108390091304498033"
     },
     "user_tz": -330
    },
    "id": "34wuSwZZbnmg",
    "outputId": "a6a9e123-a14c-443d-ead5-ca5faf1edbe0"
   },
   "outputs": [],
   "source": [
    "df.describe(percentiles=[0.05, 0.95])"
   ]
  },
  {
   "cell_type": "markdown",
   "metadata": {
    "id": "g1EU47XXchw1"
   },
   "source": [
    "\n",
    "\n",
    "Describe specific data types:\n"
   ]
  },
  {
   "cell_type": "code",
   "execution_count": null,
   "metadata": {
    "colab": {
     "base_uri": "https://localhost:8080/",
     "height": 264
    },
    "executionInfo": {
     "elapsed": 352,
     "status": "ok",
     "timestamp": 1621843784517,
     "user": {
      "displayName": "Aishwarya Verma",
      "photoUrl": "https://lh3.googleusercontent.com/a-/AOh14GiG6BREocxcd5R6rzlQGApoCsYso7BQAh63eXNz6Q=s64",
      "userId": "06108390091304498033"
     },
     "user_tz": -330
    },
    "id": "aFGrd7Mfce3O",
    "outputId": "5f9083d0-c9ee-4cc3-fd3c-6fbde441fa27"
   },
   "outputs": [],
   "source": [
    "df.describe(include=np.object)"
   ]
  },
  {
   "cell_type": "markdown",
   "metadata": {
    "id": "eA05vEBicnYl"
   },
   "source": [
    "\n",
    "\n",
    "Or describe all of them:\n"
   ]
  },
  {
   "cell_type": "code",
   "execution_count": null,
   "metadata": {
    "colab": {
     "base_uri": "https://localhost:8080/",
     "height": 484
    },
    "executionInfo": {
     "elapsed": 349,
     "status": "ok",
     "timestamp": 1621843784520,
     "user": {
      "displayName": "Aishwarya Verma",
      "photoUrl": "https://lh3.googleusercontent.com/a-/AOh14GiG6BREocxcd5R6rzlQGApoCsYso7BQAh63eXNz6Q=s64",
      "userId": "06108390091304498033"
     },
     "user_tz": -330
    },
    "id": "4x0qUIqWcjw2",
    "outputId": "ecc44a54-2864-418c-c811-cf3471be0794"
   },
   "outputs": [],
   "source": [
    "df.describe(include='all')"
   ]
  },
  {
   "cell_type": "markdown",
   "metadata": {
    "id": "_vEVCtIVcrQY"
   },
   "source": [
    ".describe() works with individual column as well"
   ]
  },
  {
   "cell_type": "code",
   "execution_count": null,
   "metadata": {
    "colab": {
     "base_uri": "https://localhost:8080/"
    },
    "executionInfo": {
     "elapsed": 345,
     "status": "ok",
     "timestamp": 1621843784524,
     "user": {
      "displayName": "Aishwarya Verma",
      "photoUrl": "https://lh3.googleusercontent.com/a-/AOh14GiG6BREocxcd5R6rzlQGApoCsYso7BQAh63eXNz6Q=s64",
      "userId": "06108390091304498033"
     },
     "user_tz": -330
    },
    "id": "9_J03sCpcpIl",
    "outputId": "f2003dca-31f8-4ca5-9b76-a6ded473f922"
   },
   "outputs": [],
   "source": [
    "df.felt.describe()"
   ]
  },
  {
   "cell_type": "markdown",
   "metadata": {
    "id": "1z9Nnj8rcz2r"
   },
   "source": [
    "Finding all the unique value in alert column"
   ]
  },
  {
   "cell_type": "code",
   "execution_count": null,
   "metadata": {
    "colab": {
     "base_uri": "https://localhost:8080/"
    },
    "executionInfo": {
     "elapsed": 331,
     "status": "ok",
     "timestamp": 1621843784526,
     "user": {
      "displayName": "Aishwarya Verma",
      "photoUrl": "https://lh3.googleusercontent.com/a-/AOh14GiG6BREocxcd5R6rzlQGApoCsYso7BQAh63eXNz6Q=s64",
      "userId": "06108390091304498033"
     },
     "user_tz": -330
    },
    "id": "Ws6J8Ebvcu-7",
    "outputId": "fa746262-5640-4b3a-bec3-82ba54ef723f"
   },
   "outputs": [],
   "source": [
    "df.alert.unique()"
   ]
  },
  {
   "cell_type": "markdown",
   "metadata": {
    "id": "9V6l5w0Sc6ih"
   },
   "source": [
    "\n",
    "\n",
    "We can then use value_counts() to see how many of each unique value we have:\n"
   ]
  },
  {
   "cell_type": "code",
   "execution_count": null,
   "metadata": {
    "colab": {
     "base_uri": "https://localhost:8080/"
    },
    "executionInfo": {
     "elapsed": 324,
     "status": "ok",
     "timestamp": 1621843784528,
     "user": {
      "displayName": "Aishwarya Verma",
      "photoUrl": "https://lh3.googleusercontent.com/a-/AOh14GiG6BREocxcd5R6rzlQGApoCsYso7BQAh63eXNz6Q=s64",
      "userId": "06108390091304498033"
     },
     "user_tz": -330
    },
    "id": "tjApcqnFc2hp",
    "outputId": "9706e38a-2799-4a2d-e4db-d1fd6709c9fd"
   },
   "outputs": [],
   "source": [
    "df.alert.value_counts()"
   ]
  },
  {
   "cell_type": "markdown",
   "metadata": {
    "id": "FC7Hxsg3hp-7"
   },
   "source": [
    "Selection of Columns"
   ]
  },
  {
   "cell_type": "markdown",
   "metadata": {
    "id": "XAQwaDtOhvcH"
   },
   "source": [
    "Grab an entire column using attribute notation:"
   ]
  },
  {
   "cell_type": "code",
   "execution_count": null,
   "metadata": {
    "colab": {
     "base_uri": "https://localhost:8080/"
    },
    "executionInfo": {
     "elapsed": 318,
     "status": "ok",
     "timestamp": 1621843784530,
     "user": {
      "displayName": "Aishwarya Verma",
      "photoUrl": "https://lh3.googleusercontent.com/a-/AOh14GiG6BREocxcd5R6rzlQGApoCsYso7BQAh63eXNz6Q=s64",
      "userId": "06108390091304498033"
     },
     "user_tz": -330
    },
    "id": "m3GiCQ84c9Ae",
    "outputId": "7e9e14f4-0c99-4df3-9bf0-3094c7a0e277"
   },
   "outputs": [],
   "source": [
    "df.mag"
   ]
  },
  {
   "cell_type": "markdown",
   "metadata": {
    "id": "jlo3BK0JieUu"
   },
   "source": [
    "OR \n",
    "\n",
    "Grab an entire column using dictionary syntax:\n"
   ]
  },
  {
   "cell_type": "code",
   "execution_count": null,
   "metadata": {
    "colab": {
     "base_uri": "https://localhost:8080/"
    },
    "executionInfo": {
     "elapsed": 309,
     "status": "ok",
     "timestamp": 1621843784532,
     "user": {
      "displayName": "Aishwarya Verma",
      "photoUrl": "https://lh3.googleusercontent.com/a-/AOh14GiG6BREocxcd5R6rzlQGApoCsYso7BQAh63eXNz6Q=s64",
      "userId": "06108390091304498033"
     },
     "user_tz": -330
    },
    "id": "p2KETWHeibkz",
    "outputId": "b664b015-1f0b-452b-9517-df6d99e08519"
   },
   "outputs": [],
   "source": [
    "df['mag']"
   ]
  },
  {
   "cell_type": "markdown",
   "metadata": {
    "id": "GIYOdy2WilYK"
   },
   "source": [
    "\n",
    "\n",
    "Selecting multiple columns:\n"
   ]
  },
  {
   "cell_type": "code",
   "execution_count": null,
   "metadata": {
    "colab": {
     "base_uri": "https://localhost:8080/",
     "height": 424
    },
    "executionInfo": {
     "elapsed": 299,
     "status": "ok",
     "timestamp": 1621843784534,
     "user": {
      "displayName": "Aishwarya Verma",
      "photoUrl": "https://lh3.googleusercontent.com/a-/AOh14GiG6BREocxcd5R6rzlQGApoCsYso7BQAh63eXNz6Q=s64",
      "userId": "06108390091304498033"
     },
     "user_tz": -330
    },
    "id": "9ejfVT__ih2e",
    "outputId": "4bc334e7-a893-4fed-a009-d0bd93d5bf37"
   },
   "outputs": [],
   "source": [
    "df[['mag', 'title']]"
   ]
  },
  {
   "cell_type": "markdown",
   "metadata": {
    "id": "SqfquktTi0cb"
   },
   "source": [
    "\n",
    "\n",
    "Selecting columns using list comprehensions and string operations offered by pandas Series objects:\n"
   ]
  },
  {
   "cell_type": "code",
   "execution_count": null,
   "metadata": {
    "colab": {
     "base_uri": "https://localhost:8080/",
     "height": 424
    },
    "executionInfo": {
     "elapsed": 297,
     "status": "ok",
     "timestamp": 1621843784536,
     "user": {
      "displayName": "Aishwarya Verma",
      "photoUrl": "https://lh3.googleusercontent.com/a-/AOh14GiG6BREocxcd5R6rzlQGApoCsYso7BQAh63eXNz6Q=s64",
      "userId": "06108390091304498033"
     },
     "user_tz": -330
    },
    "id": "aPA1WXzAineb",
    "outputId": "46a5a5ee-4875-49e3-f4b9-a9ce25fe1fe5"
   },
   "outputs": [],
   "source": [
    "df[\n",
    "    ['title', 'time']\n",
    "    + [col for col in df.columns if col.startswith('mag')]\n",
    "]"
   ]
  },
  {
   "cell_type": "markdown",
   "metadata": {
    "id": "mijEipSojA7F"
   },
   "source": [
    "Breaking down this example:"
   ]
  },
  {
   "cell_type": "markdown",
   "metadata": {
    "id": "RNaE37k-jA0s"
   },
   "source": [
    "1. The list Comprehension"
   ]
  },
  {
   "cell_type": "code",
   "execution_count": null,
   "metadata": {
    "colab": {
     "base_uri": "https://localhost:8080/"
    },
    "executionInfo": {
     "elapsed": 292,
     "status": "ok",
     "timestamp": 1621843784538,
     "user": {
      "displayName": "Aishwarya Verma",
      "photoUrl": "https://lh3.googleusercontent.com/a-/AOh14GiG6BREocxcd5R6rzlQGApoCsYso7BQAh63eXNz6Q=s64",
      "userId": "06108390091304498033"
     },
     "user_tz": -330
    },
    "id": "TxWA1ySRi3eP",
    "outputId": "6f086b3b-97f5-477c-81de-e2cfd7521a01"
   },
   "outputs": [],
   "source": [
    "[col for col in df.columns if col.startswith('mag')]"
   ]
  },
  {
   "cell_type": "markdown",
   "metadata": {
    "id": "Aauh20-SjKzH"
   },
   "source": [
    "2. Assembling the list"
   ]
  },
  {
   "cell_type": "code",
   "execution_count": null,
   "metadata": {
    "colab": {
     "base_uri": "https://localhost:8080/"
    },
    "executionInfo": {
     "elapsed": 284,
     "status": "ok",
     "timestamp": 1621843784541,
     "user": {
      "displayName": "Aishwarya Verma",
      "photoUrl": "https://lh3.googleusercontent.com/a-/AOh14GiG6BREocxcd5R6rzlQGApoCsYso7BQAh63eXNz6Q=s64",
      "userId": "06108390091304498033"
     },
     "user_tz": -330
    },
    "id": "uG0RaaVYjHVr",
    "outputId": "3b04e306-2d4f-440b-fe2d-306caf20bac6"
   },
   "outputs": [],
   "source": [
    "['title', 'time'] \\\n",
    "+ [col for col in df.columns if col.startswith('mag')]"
   ]
  },
  {
   "cell_type": "markdown",
   "metadata": {
    "id": "ahmnlA98jP2Y"
   },
   "source": [
    "Merging two steps"
   ]
  },
  {
   "cell_type": "code",
   "execution_count": null,
   "metadata": {
    "colab": {
     "base_uri": "https://localhost:8080/",
     "height": 424
    },
    "executionInfo": {
     "elapsed": 279,
     "status": "ok",
     "timestamp": 1621843784545,
     "user": {
      "displayName": "Aishwarya Verma",
      "photoUrl": "https://lh3.googleusercontent.com/a-/AOh14GiG6BREocxcd5R6rzlQGApoCsYso7BQAh63eXNz6Q=s64",
      "userId": "06108390091304498033"
     },
     "user_tz": -330
    },
    "id": "g4OADmaujNVr",
    "outputId": "490dfeb1-3847-4835-f56f-0e242229f319"
   },
   "outputs": [],
   "source": [
    "df[\n",
    "    ['title', 'time']\n",
    "    + [col for col in df.columns if col.startswith('mag')]\n",
    "]"
   ]
  },
  {
   "cell_type": "markdown",
   "metadata": {
    "id": "8oL9Ir9VjVei"
   },
   "source": [
    "Slicing"
   ]
  },
  {
   "cell_type": "markdown",
   "metadata": {
    "id": "BJJhdpzKjcaO"
   },
   "source": [
    "Selection Row\n",
    "\n",
    "---\n",
    "Using row numbers (inclusive of first index, exclusive of last):\n",
    "\n"
   ]
  },
  {
   "cell_type": "code",
   "execution_count": null,
   "metadata": {
    "colab": {
     "base_uri": "https://localhost:8080/",
     "height": 372
    },
    "executionInfo": {
     "elapsed": 280,
     "status": "ok",
     "timestamp": 1621843784550,
     "user": {
      "displayName": "Aishwarya Verma",
      "photoUrl": "https://lh3.googleusercontent.com/a-/AOh14GiG6BREocxcd5R6rzlQGApoCsYso7BQAh63eXNz6Q=s64",
      "userId": "06108390091304498033"
     },
     "user_tz": -330
    },
    "id": "fGXScNAtjSbj",
    "outputId": "821a4d2b-075a-4a58-d190-8a9b7b1d63f0"
   },
   "outputs": [],
   "source": [
    "#first index is included \n",
    "#last index is not included\n",
    "df[100:103]"
   ]
  },
  {
   "cell_type": "markdown",
   "metadata": {
    "id": "R2zFMLlyjp7D"
   },
   "source": [
    "\n",
    "Selecting rows and columns with chaining\n"
   ]
  },
  {
   "cell_type": "code",
   "execution_count": null,
   "metadata": {
    "colab": {
     "base_uri": "https://localhost:8080/",
     "height": 143
    },
    "executionInfo": {
     "elapsed": 277,
     "status": "ok",
     "timestamp": 1621843784553,
     "user": {
      "displayName": "Aishwarya Verma",
      "photoUrl": "https://lh3.googleusercontent.com/a-/AOh14GiG6BREocxcd5R6rzlQGApoCsYso7BQAh63eXNz6Q=s64",
      "userId": "06108390091304498033"
     },
     "user_tz": -330
    },
    "id": "c_rztSRsjhV-",
    "outputId": "d53ef0aa-c0c7-4675-b2e1-9c02369a92ad"
   },
   "outputs": [],
   "source": [
    "df[['title', 'time']][100:103]"
   ]
  },
  {
   "cell_type": "markdown",
   "metadata": {
    "id": "CXongmORjyHb"
   },
   "source": [
    "Or"
   ]
  },
  {
   "cell_type": "code",
   "execution_count": null,
   "metadata": {
    "colab": {
     "base_uri": "https://localhost:8080/",
     "height": 143
    },
    "executionInfo": {
     "elapsed": 273,
     "status": "ok",
     "timestamp": 1621843784555,
     "user": {
      "displayName": "Aishwarya Verma",
      "photoUrl": "https://lh3.googleusercontent.com/a-/AOh14GiG6BREocxcd5R6rzlQGApoCsYso7BQAh63eXNz6Q=s64",
      "userId": "06108390091304498033"
     },
     "user_tz": -330
    },
    "id": "96dzZ_xEjsFO",
    "outputId": "79a4a4e7-8260-4d81-fce3-e9d1160ab10b"
   },
   "outputs": [],
   "source": [
    "df[100:103][['title', 'time']]"
   ]
  },
  {
   "cell_type": "markdown",
   "metadata": {
    "id": "-f6ZW7bRj0ct"
   },
   "source": [
    "\n",
    "\n",
    "Order doesn't matter here:\n"
   ]
  },
  {
   "cell_type": "markdown",
   "metadata": {
    "id": "v_l0Oi66j8eP"
   },
   "source": [
    "Indexing\n",
    "\n",
    "---\n",
    "We can update particular values by selection rows & columns from above methods. If we try using what we have learned we will see the following warning often\n"
   ]
  },
  {
   "cell_type": "code",
   "execution_count": null,
   "metadata": {
    "colab": {
     "base_uri": "https://localhost:8080/"
    },
    "executionInfo": {
     "elapsed": 273,
     "status": "ok",
     "timestamp": 1621843784559,
     "user": {
      "displayName": "Aishwarya Verma",
      "photoUrl": "https://lh3.googleusercontent.com/a-/AOh14GiG6BREocxcd5R6rzlQGApoCsYso7BQAh63eXNz6Q=s64",
      "userId": "06108390091304498033"
     },
     "user_tz": -330
    },
    "id": "0fAtSmsMj05V",
    "outputId": "5cd6d9fd-13f3-4f75-fb36-9b582afe5b52"
   },
   "outputs": [],
   "source": [
    "df[110:113]['title'] = df[110:113]['title'].str.lower()"
   ]
  },
  {
   "cell_type": "markdown",
   "metadata": {
    "id": "sSVv3klZkZOu"
   },
   "source": [
    "\n",
    "\n",
    "Note that it worked here, but pandas says we were setting a value on a copy of a slice and that we should use loc instead (topic of the following section):\n",
    "\n",
    "\n",
    "---\n",
    "\n",
    "\n",
    "Now if we do this with loc as the warning suggests, everything goes smoothly. Note we have to lower the end index by one since loc is inclusive of endpoints:\n",
    "\n"
   ]
  },
  {
   "cell_type": "code",
   "execution_count": null,
   "metadata": {
    "colab": {
     "base_uri": "https://localhost:8080/"
    },
    "executionInfo": {
     "elapsed": 260,
     "status": "ok",
     "timestamp": 1621843784561,
     "user": {
      "displayName": "Aishwarya Verma",
      "photoUrl": "https://lh3.googleusercontent.com/a-/AOh14GiG6BREocxcd5R6rzlQGApoCsYso7BQAh63eXNz6Q=s64",
      "userId": "06108390091304498033"
     },
     "user_tz": -330
    },
    "id": "A-F_CZrqkWUO",
    "outputId": "e1ef79de-aa8e-4541-d6f6-7bed07c0c246"
   },
   "outputs": [],
   "source": [
    "df.loc[110:112, 'title'] = df.loc[110:112, 'title'].str.lower()\n",
    "df.loc[110:112, 'title']"
   ]
  },
  {
   "cell_type": "markdown",
   "metadata": {
    "id": "z656ISUykukz"
   },
   "source": [
    "\n",
    "Location Indexing with loc\n",
    "\n",
    "\n",
    "---\n",
    "\n",
    "\n",
    "Selection of the format loc[row_indexer, column_indexer] where : can be used to select all:\n"
   ]
  },
  {
   "cell_type": "code",
   "execution_count": null,
   "metadata": {
    "colab": {
     "base_uri": "https://localhost:8080/"
    },
    "executionInfo": {
     "elapsed": 252,
     "status": "ok",
     "timestamp": 1621843784563,
     "user": {
      "displayName": "Aishwarya Verma",
      "photoUrl": "https://lh3.googleusercontent.com/a-/AOh14GiG6BREocxcd5R6rzlQGApoCsYso7BQAh63eXNz6Q=s64",
      "userId": "06108390091304498033"
     },
     "user_tz": -330
    },
    "id": "tA3vtzuukp_j",
    "outputId": "3a977e0f-b7f2-4c93-c025-30e3787d823e"
   },
   "outputs": [],
   "source": [
    "df.loc[:,'title']"
   ]
  },
  {
   "cell_type": "markdown",
   "metadata": {
    "id": "mFV8JdKLk7te"
   },
   "source": [
    "Note: \n",
    "\n",
    "We can use loc to select specific rows and columns without chaining. If we use row numbers with loc, they are now inclusive of the end index:\n"
   ]
  },
  {
   "cell_type": "code",
   "execution_count": null,
   "metadata": {
    "colab": {
     "base_uri": "https://localhost:8080/",
     "height": 237
    },
    "executionInfo": {
     "elapsed": 248,
     "status": "ok",
     "timestamp": 1621843784565,
     "user": {
      "displayName": "Aishwarya Verma",
      "photoUrl": "https://lh3.googleusercontent.com/a-/AOh14GiG6BREocxcd5R6rzlQGApoCsYso7BQAh63eXNz6Q=s64",
      "userId": "06108390091304498033"
     },
     "user_tz": -330
    },
    "id": "fwepI_bvk1gP",
    "outputId": "d77c0cb6-8072-4520-fc9f-bf96adf77bbb"
   },
   "outputs": [],
   "source": [
    "df.loc[10:15, ['title', 'mag']]"
   ]
  },
  {
   "cell_type": "markdown",
   "metadata": {
    "id": "kB5QiqaHlJQP"
   },
   "source": [
    "Integer Location Indexing with iloc \n",
    "\n",
    "---\n",
    "Exclusive of the endpoint just as Python slicing of lists:\n",
    "\n"
   ]
  },
  {
   "cell_type": "code",
   "execution_count": null,
   "metadata": {
    "colab": {
     "base_uri": "https://localhost:8080/",
     "height": 206
    },
    "executionInfo": {
     "elapsed": 246,
     "status": "ok",
     "timestamp": 1621843784567,
     "user": {
      "displayName": "Aishwarya Verma",
      "photoUrl": "https://lh3.googleusercontent.com/a-/AOh14GiG6BREocxcd5R6rzlQGApoCsYso7BQAh63eXNz6Q=s64",
      "userId": "06108390091304498033"
     },
     "user_tz": -330
    },
    "id": "zSUEdtv6k-3w",
    "outputId": "9edcc272-833a-4e3b-ed9b-6adab090e5b1"
   },
   "outputs": [],
   "source": [
    "df.iloc[10:15, [19, 8]]"
   ]
  },
  {
   "cell_type": "markdown",
   "metadata": {
    "id": "ofat5uDUldGQ"
   },
   "source": [
    "\n",
    "\n",
    "We can use slicing syntax with iloc for both rows and columns:\n"
   ]
  },
  {
   "cell_type": "code",
   "execution_count": null,
   "metadata": {
    "colab": {
     "base_uri": "https://localhost:8080/",
     "height": 206
    },
    "executionInfo": {
     "elapsed": 243,
     "status": "ok",
     "timestamp": 1621843784569,
     "user": {
      "displayName": "Aishwarya Verma",
      "photoUrl": "https://lh3.googleusercontent.com/a-/AOh14GiG6BREocxcd5R6rzlQGApoCsYso7BQAh63eXNz6Q=s64",
      "userId": "06108390091304498033"
     },
     "user_tz": -330
    },
    "id": "iq7eNWEClajc",
    "outputId": "e12524f3-0c2c-451b-9b9c-c4a4011f80c1"
   },
   "outputs": [],
   "source": [
    "df.iloc[10:15, 8:10]"
   ]
  },
  {
   "cell_type": "markdown",
   "metadata": {
    "id": "LnCJ1s3dmYrm"
   },
   "source": [
    "When using loc, we can slice on column names. This will be inclusive of the endpoint because you can't be expected to know what the next column name will be. As such, we have multiple ways to achieve the same end goal:"
   ]
  },
  {
   "cell_type": "code",
   "execution_count": null,
   "metadata": {
    "colab": {
     "base_uri": "https://localhost:8080/"
    },
    "executionInfo": {
     "elapsed": 239,
     "status": "ok",
     "timestamp": 1621843784571,
     "user": {
      "displayName": "Aishwarya Verma",
      "photoUrl": "https://lh3.googleusercontent.com/a-/AOh14GiG6BREocxcd5R6rzlQGApoCsYso7BQAh63eXNz6Q=s64",
      "userId": "06108390091304498033"
     },
     "user_tz": -330
    },
    "id": "xN7wu0GHlfJQ",
    "outputId": "0f88798b-5795-4ad4-8668-4a1c808bbb5a"
   },
   "outputs": [],
   "source": [
    "df.iloc[10:15, 8:10].equals(\n",
    "    df.loc[10:14, 'mag':'magType']\n",
    ")"
   ]
  },
  {
   "cell_type": "markdown",
   "metadata": {
    "id": "G8tBFl2imlWC"
   },
   "source": [
    "\n",
    "\n",
    "Note there is also the take() method for There is also a take() method, which allows us to select specific row numbers (essentially iloc without having to specify the columns). For example, we can select the rows in positions 1 and 3:\n"
   ]
  },
  {
   "cell_type": "code",
   "execution_count": null,
   "metadata": {
    "colab": {
     "base_uri": "https://localhost:8080/",
     "height": 112
    },
    "executionInfo": {
     "elapsed": 232,
     "status": "ok",
     "timestamp": 1621843784574,
     "user": {
      "displayName": "Aishwarya Verma",
      "photoUrl": "https://lh3.googleusercontent.com/a-/AOh14GiG6BREocxcd5R6rzlQGApoCsYso7BQAh63eXNz6Q=s64",
      "userId": "06108390091304498033"
     },
     "user_tz": -330
    },
    "id": "f-AvPEtbmfc6",
    "outputId": "99b36949-6414-486e-8dee-345d2e37b639"
   },
   "outputs": [],
   "source": [
    "df.loc[10:14, 'mag':'magType'].take([1, 3])"
   ]
  },
  {
   "cell_type": "markdown",
   "metadata": {
    "id": "kLMgJwdRmrjN"
   },
   "source": [
    "Looking up scalar values\n",
    "\n",
    "---\n",
    "\n",
    "We used loc and iloc to grab subsets of the dataframe. However, if we are just interested in the specific value at a given [row, column], then we can use iat and at.\n",
    "\n",
    "We use at with labels:"
   ]
  },
  {
   "cell_type": "code",
   "execution_count": null,
   "metadata": {
    "colab": {
     "base_uri": "https://localhost:8080/"
    },
    "executionInfo": {
     "elapsed": 229,
     "status": "ok",
     "timestamp": 1621843784576,
     "user": {
      "displayName": "Aishwarya Verma",
      "photoUrl": "https://lh3.googleusercontent.com/a-/AOh14GiG6BREocxcd5R6rzlQGApoCsYso7BQAh63eXNz6Q=s64",
      "userId": "06108390091304498033"
     },
     "user_tz": -330
    },
    "id": "cp8gt_GHmoL_",
    "outputId": "3cdcb4eb-6c25-44b7-9b25-cb53a9149048"
   },
   "outputs": [],
   "source": [
    "df.at[10, 'mag']"
   ]
  },
  {
   "cell_type": "markdown",
   "metadata": {
    "id": "8W1Ekx7Um623"
   },
   "source": [
    "\n",
    "\n",
    "...and iat with integer indices:\n"
   ]
  },
  {
   "cell_type": "code",
   "execution_count": null,
   "metadata": {
    "colab": {
     "base_uri": "https://localhost:8080/"
    },
    "executionInfo": {
     "elapsed": 226,
     "status": "ok",
     "timestamp": 1621843784579,
     "user": {
      "displayName": "Aishwarya Verma",
      "photoUrl": "https://lh3.googleusercontent.com/a-/AOh14GiG6BREocxcd5R6rzlQGApoCsYso7BQAh63eXNz6Q=s64",
      "userId": "06108390091304498033"
     },
     "user_tz": -330
    },
    "id": "0r7hwOxEm4Qw",
    "outputId": "a359f28d-dc2a-4136-8315-72b892bb7e1e"
   },
   "outputs": [],
   "source": [
    "df.iat[10,8]"
   ]
  },
  {
   "cell_type": "markdown",
   "metadata": {
    "id": "_dfEbR_bm-Gh"
   },
   "source": [
    "\n",
    "Filtering\n",
    "\n",
    "---\n",
    "\n",
    "\n",
    "\n",
    "We can filter our dataframes using a Boolean mask, which can be made as follows:\n",
    "\n",
    "\n"
   ]
  },
  {
   "cell_type": "code",
   "execution_count": null,
   "metadata": {
    "colab": {
     "base_uri": "https://localhost:8080/"
    },
    "executionInfo": {
     "elapsed": 221,
     "status": "ok",
     "timestamp": 1621843784581,
     "user": {
      "displayName": "Aishwarya Verma",
      "photoUrl": "https://lh3.googleusercontent.com/a-/AOh14GiG6BREocxcd5R6rzlQGApoCsYso7BQAh63eXNz6Q=s64",
      "userId": "06108390091304498033"
     },
     "user_tz": -330
    },
    "id": "_wQVZsEfm_74",
    "outputId": "78993734-6167-45c1-e0ed-7ba050cc6652"
   },
   "outputs": [],
   "source": [
    "df.mag > 2"
   ]
  },
  {
   "cell_type": "markdown",
   "metadata": {
    "id": "WAS1VhvGnMac"
   },
   "source": [
    "\n",
    "\n",
    "To use a mask for selection, we simply place it inside the brackets:\n"
   ]
  },
  {
   "cell_type": "code",
   "execution_count": null,
   "metadata": {
    "colab": {
     "base_uri": "https://localhost:8080/",
     "height": 271
    },
    "executionInfo": {
     "elapsed": 217,
     "status": "ok",
     "timestamp": 1621843784583,
     "user": {
      "displayName": "Aishwarya Verma",
      "photoUrl": "https://lh3.googleusercontent.com/a-/AOh14GiG6BREocxcd5R6rzlQGApoCsYso7BQAh63eXNz6Q=s64",
      "userId": "06108390091304498033"
     },
     "user_tz": -330
    },
    "id": "wjiNbpecnJ_g",
    "outputId": "8ebd9d4f-825e-4bd8-b57f-15ce103932c2"
   },
   "outputs": [],
   "source": [
    "df[df.mag >= 7.0]"
   ]
  },
  {
   "cell_type": "markdown",
   "metadata": {
    "id": "8_IRhiwPnTYi"
   },
   "source": [
    "\n",
    "\n",
    "We can use masks with loc:\n"
   ]
  },
  {
   "cell_type": "code",
   "execution_count": null,
   "metadata": {
    "colab": {
     "base_uri": "https://localhost:8080/",
     "height": 112
    },
    "executionInfo": {
     "elapsed": 215,
     "status": "ok",
     "timestamp": 1621843784585,
     "user": {
      "displayName": "Aishwarya Verma",
      "photoUrl": "https://lh3.googleusercontent.com/a-/AOh14GiG6BREocxcd5R6rzlQGApoCsYso7BQAh63eXNz6Q=s64",
      "userId": "06108390091304498033"
     },
     "user_tz": -330
    },
    "id": "9JHQywfknRFv",
    "outputId": "cf309154-605c-47da-e5d9-100a7d40734f"
   },
   "outputs": [],
   "source": [
    "df.loc[\n",
    "    df.mag >= 7.0,\n",
    "    ['alert', 'mag', 'magType', 'title', 'tsunami', 'type']\n",
    "]"
   ]
  },
  {
   "cell_type": "markdown",
   "metadata": {
    "id": "kgEBGWcNnYa8"
   },
   "source": [
    "Masks can be created using multiple criteria when combined with bitwise operators & for AND and | for OR. We must also surround each criterion with parentheses. We can't use and/or here because we need to evaluate row by row:"
   ]
  },
  {
   "cell_type": "code",
   "execution_count": null,
   "metadata": {
    "colab": {
     "base_uri": "https://localhost:8080/",
     "height": 81
    },
    "executionInfo": {
     "elapsed": 214,
     "status": "ok",
     "timestamp": 1621843784588,
     "user": {
      "displayName": "Aishwarya Verma",
      "photoUrl": "https://lh3.googleusercontent.com/a-/AOh14GiG6BREocxcd5R6rzlQGApoCsYso7BQAh63eXNz6Q=s64",
      "userId": "06108390091304498033"
     },
     "user_tz": -330
    },
    "id": "9n-RtuOTnWE5",
    "outputId": "b5d17751-1cdc-47d1-ebf0-3fd0d2ab622d"
   },
   "outputs": [],
   "source": [
    "df.loc[\n",
    "    (df.tsunami == 1) & (df.alert == 'red'),\n",
    "    ['alert', 'mag', 'magType', 'title', 'tsunami', 'type']\n",
    "]"
   ]
  },
  {
   "cell_type": "markdown",
   "metadata": {
    "id": "2oByVzS-ndHq"
   },
   "source": [
    "\n",
    "\n",
    "An example with an OR condition, which is must less restrictive:\n"
   ]
  },
  {
   "cell_type": "code",
   "execution_count": null,
   "metadata": {
    "colab": {
     "base_uri": "https://localhost:8080/",
     "height": 424
    },
    "executionInfo": {
     "elapsed": 212,
     "status": "ok",
     "timestamp": 1621843784590,
     "user": {
      "displayName": "Aishwarya Verma",
      "photoUrl": "https://lh3.googleusercontent.com/a-/AOh14GiG6BREocxcd5R6rzlQGApoCsYso7BQAh63eXNz6Q=s64",
      "userId": "06108390091304498033"
     },
     "user_tz": -330
    },
    "id": "NG__V4bbnbAj",
    "outputId": "6c0c275a-898b-42ca-f0de-40091dcd21f6"
   },
   "outputs": [],
   "source": [
    "df.loc[\n",
    "    (df.tsunami == 1) | (df.alert == 'red'),\n",
    "    ['alert', 'mag', 'magType', 'title', 'tsunami', 'type']\n",
    "]"
   ]
  },
  {
   "cell_type": "markdown",
   "metadata": {
    "id": "-o44R26tnlQo"
   },
   "source": [
    "Masks can be any criteria that results in a Boolean. For example, we can select all earthquakes with the string Alaska in the place column with a non-null value for the alert column. To get non-nulls, we can use the isnull() method with the pandas negation operator (~) or the notnull() method:"
   ]
  },
  {
   "cell_type": "code",
   "execution_count": null,
   "metadata": {
    "colab": {
     "base_uri": "https://localhost:8080/",
     "height": 332
    },
    "executionInfo": {
     "elapsed": 210,
     "status": "ok",
     "timestamp": 1621843784593,
     "user": {
      "displayName": "Aishwarya Verma",
      "photoUrl": "https://lh3.googleusercontent.com/a-/AOh14GiG6BREocxcd5R6rzlQGApoCsYso7BQAh63eXNz6Q=s64",
      "userId": "06108390091304498033"
     },
     "user_tz": -330
    },
    "id": "lry-w_3RnfS-",
    "outputId": "fe57d620-5ac2-42fa-c8cd-c4def672e54f"
   },
   "outputs": [],
   "source": [
    "df.loc[\n",
    "    (df.place.str.contains('Alaska')) & (df.alert.notnull()),\n",
    "    ['alert', 'mag', 'magType', 'title', 'tsunami', 'type']\n",
    "]"
   ]
  },
  {
   "cell_type": "markdown",
   "metadata": {
    "id": "dtsmW-dXnp6A"
   },
   "source": [
    "\n",
    "\n",
    "We can even use regular expressions here:\n"
   ]
  },
  {
   "cell_type": "code",
   "execution_count": null,
   "metadata": {
    "colab": {
     "base_uri": "https://localhost:8080/",
     "height": 112
    },
    "executionInfo": {
     "elapsed": 794,
     "status": "ok",
     "timestamp": 1621843785179,
     "user": {
      "displayName": "Aishwarya Verma",
      "photoUrl": "https://lh3.googleusercontent.com/a-/AOh14GiG6BREocxcd5R6rzlQGApoCsYso7BQAh63eXNz6Q=s64",
      "userId": "06108390091304498033"
     },
     "user_tz": -330
    },
    "id": "aqOdOh0NnnjC",
    "outputId": "d9a2fb24-04a5-4838-9406-aac196e28d24"
   },
   "outputs": [],
   "source": [
    "df.loc[\n",
    "    (df.place.str.contains(r'CA|California$')) & (df.mag > 3.8),\n",
    "    ['alert', 'mag', 'magType', 'title', 'tsunami', 'type']\n",
    "]"
   ]
  },
  {
   "cell_type": "markdown",
   "metadata": {
    "id": "XGywWJD3nxGP"
   },
   "source": [
    "We can use the between() method to turn 2 individual checks (is less than or equal some maximum value and is greater than or equal to some minimum value) into a single one. Note this is inclusive of the endpoint by default:"
   ]
  },
  {
   "cell_type": "code",
   "execution_count": null,
   "metadata": {
    "colab": {
     "base_uri": "https://localhost:8080/",
     "height": 206
    },
    "executionInfo": {
     "elapsed": 811,
     "status": "ok",
     "timestamp": 1621843785200,
     "user": {
      "displayName": "Aishwarya Verma",
      "photoUrl": "https://lh3.googleusercontent.com/a-/AOh14GiG6BREocxcd5R6rzlQGApoCsYso7BQAh63eXNz6Q=s64",
      "userId": "06108390091304498033"
     },
     "user_tz": -330
    },
    "id": "RQCT6FFzns2b",
    "outputId": "c8aa36c3-2e06-489e-bdfe-22cdd5ab74c0"
   },
   "outputs": [],
   "source": [
    "df.loc[\n",
    "    df.mag.between(6.5, 7.5),\n",
    "    ['alert', 'mag', 'magType', 'title', 'tsunami', 'type']\n",
    "]"
   ]
  },
  {
   "cell_type": "markdown",
   "metadata": {
    "id": "Xwnx_H3nn3Fx"
   },
   "source": [
    "\n",
    "\n",
    "We can use the isin() method to check for membership in a list of values:\n"
   ]
  },
  {
   "cell_type": "code",
   "execution_count": null,
   "metadata": {
    "colab": {
     "base_uri": "https://localhost:8080/",
     "height": 81
    },
    "executionInfo": {
     "elapsed": 72,
     "status": "ok",
     "timestamp": 1621843785202,
     "user": {
      "displayName": "Aishwarya Verma",
      "photoUrl": "https://lh3.googleusercontent.com/a-/AOh14GiG6BREocxcd5R6rzlQGApoCsYso7BQAh63eXNz6Q=s64",
      "userId": "06108390091304498033"
     },
     "user_tz": -330
    },
    "id": "ExKQlzpCnz8p",
    "outputId": "a4ee005d-70df-4080-b991-2df0dd84278c"
   },
   "outputs": [],
   "source": [
    "df.loc[\n",
    "    df.alert.isin(['orange', 'red']),\n",
    "    ['alert', 'mag', 'magType', 'title', 'tsunami', 'type']\n",
    "]"
   ]
  },
  {
   "cell_type": "markdown",
   "metadata": {
    "id": "8hYlItoYn8EK"
   },
   "source": [
    "\n",
    "\n",
    "We can grab the index of the minimum and maximum values of a given column and use those to select the entire row where they occur:\n"
   ]
  },
  {
   "cell_type": "code",
   "execution_count": null,
   "metadata": {
    "colab": {
     "base_uri": "https://localhost:8080/"
    },
    "executionInfo": {
     "elapsed": 71,
     "status": "ok",
     "timestamp": 1621843785204,
     "user": {
      "displayName": "Aishwarya Verma",
      "photoUrl": "https://lh3.googleusercontent.com/a-/AOh14GiG6BREocxcd5R6rzlQGApoCsYso7BQAh63eXNz6Q=s64",
      "userId": "06108390091304498033"
     },
     "user_tz": -330
    },
    "id": "bzFkxEt0n5ua",
    "outputId": "1581f63f-bfd7-4f86-825e-b8a2e0cc3c31"
   },
   "outputs": [],
   "source": [
    "[df.mag.idxmin(), df.mag.idxmax()]"
   ]
  },
  {
   "cell_type": "code",
   "execution_count": null,
   "metadata": {
    "colab": {
     "base_uri": "https://localhost:8080/",
     "height": 112
    },
    "executionInfo": {
     "elapsed": 64,
     "status": "ok",
     "timestamp": 1621843785207,
     "user": {
      "displayName": "Aishwarya Verma",
      "photoUrl": "https://lh3.googleusercontent.com/a-/AOh14GiG6BREocxcd5R6rzlQGApoCsYso7BQAh63eXNz6Q=s64",
      "userId": "06108390091304498033"
     },
     "user_tz": -330
    },
    "id": "E-bGonSWn-Rf",
    "outputId": "6b8a85f0-09ee-441a-d99c-b774e5ee0693"
   },
   "outputs": [],
   "source": [
    "df.loc[\n",
    "    [df.mag.idxmin(), df.mag.idxmax()],\n",
    "    ['alert', 'mag', 'magType', 'title', 'tsunami', 'type']\n",
    "]"
   ]
  },
  {
   "cell_type": "markdown",
   "metadata": {
    "id": "rd1FQk3BoEuP"
   },
   "source": [
    "\n",
    "\n",
    "Using the filter() method, we can grab columns of a dataframe by passing a list to items:\n"
   ]
  },
  {
   "cell_type": "code",
   "execution_count": null,
   "metadata": {
    "colab": {
     "base_uri": "https://localhost:8080/",
     "height": 206
    },
    "executionInfo": {
     "elapsed": 62,
     "status": "ok",
     "timestamp": 1621843785210,
     "user": {
      "displayName": "Aishwarya Verma",
      "photoUrl": "https://lh3.googleusercontent.com/a-/AOh14GiG6BREocxcd5R6rzlQGApoCsYso7BQAh63eXNz6Q=s64",
      "userId": "06108390091304498033"
     },
     "user_tz": -330
    },
    "id": "8pTGI2ALoCCi",
    "outputId": "159b3a06-77a0-42fb-8a9f-8f88802848c7"
   },
   "outputs": [],
   "source": [
    "df.filter(items=['mag', 'magType']).head()"
   ]
  },
  {
   "cell_type": "markdown",
   "metadata": {
    "id": "pAFQRLYIokmY"
   },
   "source": [
    "\n",
    "\n",
    "We can also grab all the columns that contain a string with the like parameter:\n"
   ]
  },
  {
   "cell_type": "code",
   "execution_count": null,
   "metadata": {
    "colab": {
     "base_uri": "https://localhost:8080/",
     "height": 206
    },
    "executionInfo": {
     "elapsed": 62,
     "status": "ok",
     "timestamp": 1621843785213,
     "user": {
      "displayName": "Aishwarya Verma",
      "photoUrl": "https://lh3.googleusercontent.com/a-/AOh14GiG6BREocxcd5R6rzlQGApoCsYso7BQAh63eXNz6Q=s64",
      "userId": "06108390091304498033"
     },
     "user_tz": -330
    },
    "id": "QwKAP-qOoHM8",
    "outputId": "5fcfeabd-f50b-4408-c201-fbbb7bf6dc6e"
   },
   "outputs": [],
   "source": [
    "df.filter(like='mag').head()"
   ]
  },
  {
   "cell_type": "markdown",
   "metadata": {
    "id": "qw8cHWdoopmi"
   },
   "source": [
    "\n",
    "\n",
    "We can even use regular expressions; here, we select any columns that start with t:\n"
   ]
  },
  {
   "cell_type": "code",
   "execution_count": null,
   "metadata": {
    "colab": {
     "base_uri": "https://localhost:8080/",
     "height": 206
    },
    "executionInfo": {
     "elapsed": 61,
     "status": "ok",
     "timestamp": 1621843785216,
     "user": {
      "displayName": "Aishwarya Verma",
      "photoUrl": "https://lh3.googleusercontent.com/a-/AOh14GiG6BREocxcd5R6rzlQGApoCsYso7BQAh63eXNz6Q=s64",
      "userId": "06108390091304498033"
     },
     "user_tz": -330
    },
    "id": "DSrKtrtgonSB",
    "outputId": "bfaf0db7-908b-4b36-b44f-04cd0e6eb30b"
   },
   "outputs": [],
   "source": [
    "df.filter(regex=r'^t').head()"
   ]
  },
  {
   "cell_type": "markdown",
   "metadata": {
    "id": "8TqAH-7WovAC"
   },
   "source": [
    "\n",
    "\n",
    "We can also use filter() along the rows, by passing in axis=0. Here we will use the place column as the index (we will cover set_index() in chapter 3):\n"
   ]
  },
  {
   "cell_type": "code",
   "execution_count": null,
   "metadata": {
    "colab": {
     "base_uri": "https://localhost:8080/",
     "height": 237
    },
    "executionInfo": {
     "elapsed": 59,
     "status": "ok",
     "timestamp": 1621843785219,
     "user": {
      "displayName": "Aishwarya Verma",
      "photoUrl": "https://lh3.googleusercontent.com/a-/AOh14GiG6BREocxcd5R6rzlQGApoCsYso7BQAh63eXNz6Q=s64",
      "userId": "06108390091304498033"
     },
     "user_tz": -330
    },
    "id": "EWhaCrCloses",
    "outputId": "386e75cd-b03d-46ca-b9a1-f553eb194eb9"
   },
   "outputs": [],
   "source": [
    "df.set_index('place').filter(like='Japan', axis=0).filter(items=['mag', 'magType', 'title']).head()"
   ]
  },
  {
   "cell_type": "markdown",
   "metadata": {
    "id": "WPKrS0RioziQ"
   },
   "source": [
    "\n",
    "\n",
    "This also works on Series objects and will run on the index:\n"
   ]
  },
  {
   "cell_type": "code",
   "execution_count": null,
   "metadata": {
    "colab": {
     "base_uri": "https://localhost:8080/"
    },
    "executionInfo": {
     "elapsed": 58,
     "status": "ok",
     "timestamp": 1621843785221,
     "user": {
      "displayName": "Aishwarya Verma",
      "photoUrl": "https://lh3.googleusercontent.com/a-/AOh14GiG6BREocxcd5R6rzlQGApoCsYso7BQAh63eXNz6Q=s64",
      "userId": "06108390091304498033"
     },
     "user_tz": -330
    },
    "id": "cprpIRX3oxgd",
    "outputId": "622d3552-dee0-40c4-d6cd-e7af8ea018b0"
   },
   "outputs": [],
   "source": [
    "df.set_index('place').title.filter(like='Japan').head()"
   ]
  }
 ],
 "metadata": {
  "colab": {
   "authorship_tag": "ABX9TyN6n8GLYSbJx2jUbSoN1cBU",
   "collapsed_sections": [],
   "name": "12_Pandas_Python.ipynb",
   "provenance": [],
   "toc_visible": true
  },
  "interpreter": {
   "hash": "bf1c1c88dcd4a5670b9a47bf2bba5adec14ec31820c4d35855d0349e55a0f49f"
  },
  "kernelspec": {
   "display_name": "Python 3.8.5 64-bit ('base': conda)",
   "name": "python3"
  },
  "language_info": {
   "codemirror_mode": {
    "name": "ipython",
    "version": 3
   },
   "file_extension": ".py",
   "mimetype": "text/x-python",
   "name": "python",
   "nbconvert_exporter": "python",
   "pygments_lexer": "ipython3",
   "version": "3.8.5"
  }
 },
 "nbformat": 4,
 "nbformat_minor": 2
}
