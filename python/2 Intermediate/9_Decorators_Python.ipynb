{
 "cells": [
  {
   "cell_type": "markdown",
   "metadata": {
    "id": "ymnGyKKu93s7"
   },
   "source": [
    "# **Python Decorators**"
   ]
  },
  {
   "cell_type": "markdown",
   "metadata": {
    "id": "ugOh0LPf_BL-"
   },
   "source": [
    "Python decorators are extremely useful, albeit a bit hard to wrap your head around. They enable developers to modify or extend a function or class’s functionalities by wrapping it using a single line of code `@decorator_name`."
   ]
  },
  {
   "cell_type": "markdown",
   "metadata": {
    "id": "8nmihih09ttd"
   },
   "source": [
    "To read more about it, please refer this [article](https://analyticsindiamag.com/step-by-step-introduction-to-python-decorators/)."
   ]
  },
  {
   "cell_type": "markdown",
   "metadata": {
    "id": "ZEUnIeK1BGFk"
   },
   "source": [
    "In a programming language, first-class objects are entities that have no restrictions on their usage. They can be dynamically created, stored in variables and data structures, passed as a function argument, or returned by a function. Everything in Python is a first-class object, even those “primitive types” in other languages.  Let’s see what this means for functions in Python:\n",
    "\n",
    "**Functions can be stored in variables and data structures.**"
   ]
  },
  {
   "cell_type": "code",
   "execution_count": null,
   "metadata": {
    "id": "tqYCorDf9Moy"
   },
   "outputs": [],
   "source": [
    "def square(x):\n",
    "    print(x*x)\n",
    "    \n",
    "def cube(x):\n",
    "    print(x**3)\n",
    "\n",
    "def quartic(x):\n",
    "    print(x**4)\n",
    "\n",
    "\n",
    "power_two = square\n",
    "power_two(6)\n",
    "powers = [square, cube, quartic]\n",
    "powers[2](5)"
   ]
  },
  {
   "cell_type": "markdown",
   "metadata": {
    "id": "bJeVrCfUBQF-"
   },
   "source": [
    "They can be passed as an argument, returned by another function or be nested inside another function."
   ]
  },
  {
   "cell_type": "markdown",
   "metadata": {
    "id": "5xv0u8uaBpHE"
   },
   "source": [
    "##**Creating a Decorator**\n"
   ]
  },
  {
   "cell_type": "markdown",
   "metadata": {
    "id": "abc-v7xtBwCR"
   },
   "source": [
    "What we just did with the nested functions precisely what a decorator does but with a simpler syntax.  The function `decorator_function` is a decorator and can be used to wrap other functions using the `@decorator_name` syntax. "
   ]
  },
  {
   "cell_type": "code",
   "execution_count": null,
   "metadata": {
    "id": "f6jr-9y5BL29"
   },
   "outputs": [],
   "source": [
    "def decorator_function(func):\n",
    "    '''A function that accepts another function '''\n",
    "    def wrapper():\n",
    "        print(\"wrapping\")\n",
    "        func()\n",
    "        print(\"done\")\n",
    "    \n",
    "    return wrapper\n",
    "\n",
    "def f():\n",
    "    '''Example function '''\n",
    "    print(\"function f called\")\n",
    "\n",
    "\n",
    "decorator = decorator_function(f)\n",
    "print(decorator)\n",
    "decorator() #the inner wrapper function is returned so it needs to called"
   ]
  },
  {
   "cell_type": "code",
   "execution_count": null,
   "metadata": {
    "id": "S-EDdomxBTl3"
   },
   "outputs": [],
   "source": [
    "@decorator_function\n",
    "def g():\n",
    "    ''' Yet another useless example function '''\n",
    "    print(\"function g called\")\n",
    "g() "
   ]
  },
  {
   "cell_type": "markdown",
   "metadata": {
    "id": "EfGT1vNWDTlO"
   },
   "source": [
    "Using `@decorator_function` invokes the function `decorator_function()` with g as the argument and calls the returned `wrapper()` function. "
   ]
  },
  {
   "cell_type": "markdown",
   "metadata": {
    "id": "kOkcQrCnDQGk"
   },
   "source": [
    "## **Creating a Decorator for Functions with Arguments**"
   ]
  },
  {
   "cell_type": "markdown",
   "metadata": {
    "id": "P5-QvTpVDd_n"
   },
   "source": [
    "One issue with decorating functions with arguments is that the number of arguments can vary with the function. This can be easily overcome by using yet another immensely useful offering of Python: `*args` and `**kwargs`."
   ]
  },
  {
   "cell_type": "code",
   "execution_count": null,
   "metadata": {
    "id": "6azH9SyeB-IO"
   },
   "outputs": [],
   "source": [
    "def decorator_arguments(func):\n",
    "    def wrapper(*args, **kwargs):\n",
    "        print(\"decorating\")\n",
    "        func(*args, **kwargs)\n",
    "        print(\"done\")\n",
    "    return wrapper\n",
    "\n",
    "@decorator_arguments\n",
    "def add(a, b, c, d):\n",
    "    print(\"Sum is {}\".format(a + b + c + d))\n",
    "add(10, 54, 13, 34) "
   ]
  },
  {
   "cell_type": "markdown",
   "metadata": {
    "id": "mpAApjdGEz_j"
   },
   "source": [
    "## **Decorators with Arguments**"
   ]
  },
  {
   "cell_type": "markdown",
   "metadata": {
    "id": "uZthmHJ7FoPE"
   },
   "source": [
    "Sometimes the functionality introduced by the decorator will require additional arguments; this can be accommodated by nesting another function. The outermost function is responsible for the decorator argument, the inner functions for the function being decorated and the function arguments, respectively."
   ]
  },
  {
   "cell_type": "code",
   "execution_count": null,
   "metadata": {
    "id": "VP_mHCXwExoy"
   },
   "outputs": [],
   "source": [
    "def multiply(*outer_args, **outer_kwargs):\n",
    "    def inner_function(func):\n",
    "        def wrapper(*func_args, **func_kwargs):\n",
    "            print(f\"Times {outer_args[0]} is {outer_args[0] * func(*func_args, **func_kwargs)}\")\n",
    "        return wrapper\n",
    "    return inner_function\n",
    "\n",
    "@multiply(99)\n",
    "def basically_an_input(n):\n",
    "    print(f\"Input number {n}\")\n",
    "    return n\n",
    "basically_an_input(5) "
   ]
  },
  {
   "cell_type": "markdown",
   "metadata": {
    "id": "5rYS0z9aFtpu"
   },
   "source": [
    "## **Decorating Classes**"
   ]
  },
  {
   "cell_type": "markdown",
   "metadata": {
    "id": "As2BbAhHFz3j"
   },
   "source": [
    "You can decorate both a full whole or a particular method in a class. "
   ]
  },
  {
   "cell_type": "markdown",
   "metadata": {
    "id": "7IOKkdbKF8Gi"
   },
   "source": [
    "Three of the most common Python decorators are used for decorating class methods, @property is used to create property attributes that can only be accessed through its getter, setter, and deleter methods.  @staticmethod and @classmethod are used to define class methods that are not connected to particular instances of the class. Static methods don’t require an argument, while class methods take the class as an argument. "
   ]
  },
  {
   "cell_type": "code",
   "execution_count": null,
   "metadata": {
    "id": "813OWwhZFrcX"
   },
   "outputs": [],
   "source": [
    "class Account:\n",
    "    def __init__(self, balance):\n",
    "        self._balance = balance\n",
    "    @property\n",
    "    def balance(self):\n",
    "        \"\"\"Gets balance\"\"\"\n",
    "        return self._balance\n",
    "    @balance.setter\n",
    "    def balance(self, value):\n",
    "        \"\"\"Set balance, raise error if negative\"\"\"\n",
    "        if value >= 0:\n",
    "            self._balance = value\n",
    "        else:\n",
    "            raise ValueError(\"balance must be positive\")\n",
    "    @classmethod\n",
    "    def new_account(cls):\n",
    "        \"\"\"Returns a new account with 100.00 balance\"\"\"\n",
    "        return cls(100.00)\n",
    "    @staticmethod\n",
    "    def interest():\n",
    "        \"\"\"The interest rate\"\"\"\n",
    "        return 5.25\n",
    "\n",
    "\n",
    "acc = Account(39825.75)\n",
    "print(acc.balance)\n",
    "acc.balance = 98621.75\n",
    "print(acc.balance)\n",
    "\n",
    "#testing if the setter is being used\n",
    "try:\n",
    "    acc.balance = -354 \n",
    "except:\n",
    "    print(\"Setter method is being used\")\n",
    "acc2 = Account.new_account()\n",
    "print(acc2.balance)\n",
    "print(f\"Calling static method using class: {Account.interest()}, using instance {acc.interest()}\") "
   ]
  },
  {
   "cell_type": "markdown",
   "metadata": {
    "id": "AOr9piZ2GDcH"
   },
   "source": [
    "Now let’s see how one can decorate the whole class."
   ]
  },
  {
   "cell_type": "code",
   "execution_count": null,
   "metadata": {
    "id": "QKb-tE4dGBNA"
   },
   "outputs": [],
   "source": [
    "import time\n",
    "def timer(example):\n",
    "    def wrapper(*args, **kwargs):\n",
    "        start = time.perf_counter()\n",
    "        res = example(*args, **kwargs)\n",
    "        end = time.perf_counter()\n",
    "        run_time = end - start\n",
    "        print(\"Finished in {} secs\".format(run_time))\n",
    "        return res\n",
    "    return wrapper\n",
    "\n",
    "@timer\n",
    "class Example:\n",
    "    def __init__(self, n):\n",
    "        self.n = n\n",
    "        time.sleep(n if n < 3 else 2)\n",
    "        print(\"Example running\")\n",
    "x = Example(5) "
   ]
  },
  {
   "cell_type": "markdown",
   "metadata": {
    "id": "wlxRY-dIGJfH"
   },
   "source": [
    "## **Class as Decorator**"
   ]
  },
  {
   "cell_type": "markdown",
   "metadata": {
    "id": "zkGhNVxRHbLN"
   },
   "source": [
    " For making the class a decorator, it needs to be callable; this is achieved using the dunder method `__call__`. Furthermore, the `__init__` method needs to take a function as an argument."
   ]
  },
  {
   "cell_type": "code",
   "execution_count": null,
   "metadata": {
    "id": "8BOZPDe6GGbG"
   },
   "outputs": [],
   "source": [
    "class CountUpdates:\n",
    "    def __init__(self, func):\n",
    "        self.func = func\n",
    "        self.version = 0\n",
    "    def __call__(self, *args, **kwargs):\n",
    "        self.version += 1\n",
    "        print(f\"Updating to version 0.3.{self.version}\")\n",
    "        return self.func(*args, **kwargs)\n",
    "\n",
    "@CountUpdates\n",
    "def update():\n",
    "    print(\"Update complete\", end =\"\\n\\n\")\n",
    "update()\n",
    "update()\n",
    "update()\n",
    "update()\n",
    "print(update.version) "
   ]
  }
 ],
 "metadata": {
  "colab": {
   "authorship_tag": "ABX9TyPmk1HN0nD/Jry3XCCjHcfY",
   "collapsed_sections": [],
   "name": "8_Decorators_Python.ipynb",
   "provenance": [],
   "toc_visible": true
  },
  "kernelspec": {
   "display_name": "Python 3",
   "name": "python3"
  },
  "language_info": {
   "name": "python"
  }
 },
 "nbformat": 4,
 "nbformat_minor": 0
}
