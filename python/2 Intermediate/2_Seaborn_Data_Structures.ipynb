{
 "cells": [
  {
   "cell_type": "markdown",
   "metadata": {
    "id": "iV9as3eHS-jR"
   },
   "source": [
    "## **Data Strutcure Accepted by Seaborn**"
   ]
  },
  {
   "cell_type": "markdown",
   "metadata": {
    "id": "E14Uv87XqWgW"
   },
   "source": [
    "Seaborn supports several different dataset formats, and most functions accept data represented with objects from the pandas or numpy libraries as well as built-in Python types like lists and dictionaries."
   ]
  },
  {
   "cell_type": "markdown",
   "metadata": {
    "id": "Q4QMoW-WqXF4"
   },
   "source": [
    "### **Long-form vs. wide-form data**"
   ]
  },
  {
   "cell_type": "markdown",
   "metadata": {
    "id": "6jK7YZyosYiY"
   },
   "source": [
    "There is a fundamental distinction between “long-form” and “wide-form” data tables, and seaborn will treat each differently"
   ]
  },
  {
   "cell_type": "markdown",
   "metadata": {
    "id": "uETkwmnnsZT8"
   },
   "source": [
    "####**Long-form data**"
   ]
  },
  {
   "cell_type": "markdown",
   "metadata": {
    "id": "S3-eh_4xskHu"
   },
   "source": [
    "A long-form data table has the following characteristics:\n",
    "\n",
    "* Each variable is a column\n",
    "\n",
    "* Each observation is a row\n",
    "\n",
    "As a simple example, consider the “flights” dataset, which records the number of airline passengers who flew in each month from 1949 to 1960. This dataset has three variables (year, month, and number of passengers):"
   ]
  },
  {
   "cell_type": "code",
   "execution_count": null,
   "metadata": {},
   "outputs": [],
   "source": [
    "!python -m pip install pip --upgrade --user -q \n",
    "!python -m pip install numpy pandas seaborn --user -q"
   ]
  },
  {
   "cell_type": "code",
   "execution_count": null,
   "metadata": {},
   "outputs": [],
   "source": [
    "import IPython\n",
    "IPython.Application.instance().kernel.do_shutdown(True)"
   ]
  },
  {
   "cell_type": "code",
   "execution_count": null,
   "metadata": {},
   "outputs": [],
   "source": [
    "import seaborn as sns\n",
    "import pandas as pd\n",
    "import numpy as np"
   ]
  },
  {
   "cell_type": "code",
   "execution_count": null,
   "metadata": {
    "colab": {
     "base_uri": "https://localhost:8080/",
     "height": 206
    },
    "executionInfo": {
     "elapsed": 1584,
     "status": "ok",
     "timestamp": 1620791444339,
     "user": {
      "displayName": "Aishwarya Verma",
      "photoUrl": "https://lh3.googleusercontent.com/a-/AOh14GiG6BREocxcd5R6rzlQGApoCsYso7BQAh63eXNz6Q=s64",
      "userId": "06108390091304498033"
     },
     "user_tz": -330
    },
    "id": "Qp_lOuJgqXlL",
    "outputId": "742924f0-5345-42a8-a904-80511c3dbf77"
   },
   "outputs": [],
   "source": [
    "flights = sns.load_dataset(\"flights\")\n",
    "flights.head()"
   ]
  },
  {
   "cell_type": "markdown",
   "metadata": {
    "id": "xewt2V52sumV"
   },
   "source": [
    "With long-form data, columns in the table are given roles in the plot by explicitly assigning them to one of the variables. For example, making a monthly plot of the number of passengers per year looks like this:\n"
   ]
  },
  {
   "cell_type": "code",
   "execution_count": null,
   "metadata": {
    "colab": {
     "base_uri": "https://localhost:8080/",
     "height": 401
    },
    "executionInfo": {
     "elapsed": 2007,
     "status": "ok",
     "timestamp": 1620791464860,
     "user": {
      "displayName": "Aishwarya Verma",
      "photoUrl": "https://lh3.googleusercontent.com/a-/AOh14GiG6BREocxcd5R6rzlQGApoCsYso7BQAh63eXNz6Q=s64",
      "userId": "06108390091304498033"
     },
     "user_tz": -330
    },
    "id": "AUHm62KPqX9Q",
    "outputId": "62b6df71-934e-43ce-fc9e-f273a8eef25e"
   },
   "outputs": [],
   "source": [
    "sns.relplot(data=flights, x=\"year\", y=\"passengers\", hue=\"month\", kind=\"line\")"
   ]
  },
  {
   "cell_type": "markdown",
   "metadata": {
    "id": "LejtMN4Ps3v8"
   },
   "source": [
    "The advantage of long-form data is that it lends itself well to this explicit specification of the plot. It can accomodate datasets of arbitrary complexity, so long as the variables and observations can be clearly defined. But this format takes some getting used to, because it is often not the model of the data that one has in their head."
   ]
  },
  {
   "cell_type": "markdown",
   "metadata": {
    "id": "AR3AprXis5GY"
   },
   "source": [
    "####**Wide-form data**"
   ]
  },
  {
   "cell_type": "markdown",
   "metadata": {
    "id": "zNuRfd9GtAke"
   },
   "source": [
    "For simple datasets, it is often more intuitive to think about data the way it might be viewed in a spreadsheet, where the columns and rows contain levels of different variables. "
   ]
  },
  {
   "cell_type": "markdown",
   "metadata": {
    "id": "unwA8qeftBHq"
   },
   "source": [
    "For example, we can convert the flights dataset into a wide-form organization by “pivoting” it so that each column has each month’s time series over years:"
   ]
  },
  {
   "cell_type": "code",
   "execution_count": null,
   "metadata": {
    "colab": {
     "base_uri": "https://localhost:8080/",
     "height": 238
    },
    "executionInfo": {
     "elapsed": 924,
     "status": "ok",
     "timestamp": 1620791544234,
     "user": {
      "displayName": "Aishwarya Verma",
      "photoUrl": "https://lh3.googleusercontent.com/a-/AOh14GiG6BREocxcd5R6rzlQGApoCsYso7BQAh63eXNz6Q=s64",
      "userId": "06108390091304498033"
     },
     "user_tz": -330
    },
    "id": "TgFP6GXntC6q",
    "outputId": "3eebde4c-b920-4ecc-ce88-2a881cbdc334"
   },
   "outputs": [],
   "source": [
    "flights_wide = flights.pivot(index=\"year\", columns=\"month\", values=\"passengers\")\n",
    "flights_wide.head()"
   ]
  },
  {
   "cell_type": "markdown",
   "metadata": {
    "id": "-HJ1d-UntV2l"
   },
   "source": [
    "With long-form data, we can access variables in the dataset by their name. That is not the case with wide-form data. Nevertheless, because there is a clear association between the dimensions of the table and the variable in the dataset, seaborn is able to assign those variables roles in the plot."
   ]
  },
  {
   "cell_type": "code",
   "execution_count": null,
   "metadata": {
    "colab": {
     "base_uri": "https://localhost:8080/",
     "height": 401
    },
    "executionInfo": {
     "elapsed": 2090,
     "status": "ok",
     "timestamp": 1620791633424,
     "user": {
      "displayName": "Aishwarya Verma",
      "photoUrl": "https://lh3.googleusercontent.com/a-/AOh14GiG6BREocxcd5R6rzlQGApoCsYso7BQAh63eXNz6Q=s64",
      "userId": "06108390091304498033"
     },
     "user_tz": -330
    },
    "id": "WIZX1KpjtYda",
    "outputId": "4c7c1e14-620e-48c7-d27f-5ed96d7aa812"
   },
   "outputs": [],
   "source": [
    "sns.relplot(data=flights_wide, kind=\"line\")"
   ]
  },
  {
   "cell_type": "markdown",
   "metadata": {
    "id": "73cMMSJKtiAf"
   },
   "source": [
    "This plot looks very similar to the one before. Seaborn has assigned the index of the dataframe to x, the values of the dataframe to y, and it has drawn a separate line for each month. There is a notable difference between the two plots, however. When the dataset went through the “pivot” operation that converted it from long-form to wide-form, the information about what the values mean was lost. As a result, there is no y axis label."
   ]
  },
  {
   "cell_type": "markdown",
   "metadata": {
    "id": "vZYQgjxctnwf"
   },
   "source": [
    "But a big advantage of long-form data is that, You can design your plots by thinking only about the variables contained within it. For example, to draw lines that represent the monthly time series for each year, simply reassign the variables:"
   ]
  },
  {
   "cell_type": "code",
   "execution_count": null,
   "metadata": {
    "colab": {
     "base_uri": "https://localhost:8080/",
     "height": 401
    },
    "executionInfo": {
     "elapsed": 2364,
     "status": "ok",
     "timestamp": 1620791710350,
     "user": {
      "displayName": "Aishwarya Verma",
      "photoUrl": "https://lh3.googleusercontent.com/a-/AOh14GiG6BREocxcd5R6rzlQGApoCsYso7BQAh63eXNz6Q=s64",
      "userId": "06108390091304498033"
     },
     "user_tz": -330
    },
    "id": "J2xv5h-YtriY",
    "outputId": "e4e91257-1f3a-419e-83c6-e45a01cddc31"
   },
   "outputs": [],
   "source": [
    "sns.relplot(data=flights, x=\"month\", y=\"passengers\", hue=\"year\", kind=\"line\")"
   ]
  },
  {
   "cell_type": "markdown",
   "metadata": {
    "id": "gK7Y-NyGtw75"
   },
   "source": [
    "To achieve the same remapping with the wide-form dataset, we would need to transpose the table:"
   ]
  },
  {
   "cell_type": "code",
   "execution_count": null,
   "metadata": {
    "colab": {
     "base_uri": "https://localhost:8080/",
     "height": 401
    },
    "executionInfo": {
     "elapsed": 2017,
     "status": "ok",
     "timestamp": 1620791735438,
     "user": {
      "displayName": "Aishwarya Verma",
      "photoUrl": "https://lh3.googleusercontent.com/a-/AOh14GiG6BREocxcd5R6rzlQGApoCsYso7BQAh63eXNz6Q=s64",
      "userId": "06108390091304498033"
     },
     "user_tz": -330
    },
    "id": "C5Zx31uatvmu",
    "outputId": "ec1610fe-90e4-43a6-f8fc-ca3bfe403594"
   },
   "outputs": [],
   "source": [
    "sns.relplot(data=flights_wide.transpose(), kind=\"line\")"
   ]
  },
  {
   "cell_type": "markdown",
   "metadata": {
    "id": "fvgNpkX8t_-o"
   },
   "source": [
    "This example also illustrates another wrinkle, which is that seaborn currently considers the column variable in a wide-form dataset to be categorical regardless of its datatype, whereas, because the long-form variable is numeric, it is assigned a quantitative color palette and legend. This may change in the future."
   ]
  },
  {
   "cell_type": "markdown",
   "metadata": {
    "id": "8weNNprUwHe5"
   },
   "source": [
    "The absence of explicit variable assignments also means that each plot type needs to define a fixed mapping between the dimensions of the wide-form data and the roles in the plot. Because ths natural mapping may vary across plot types, the results are less predictable when using wide-form data. For example, the categorical plots assign the column dimension of the table to x and then aggregate across the rows (ignoring the index):"
   ]
  },
  {
   "cell_type": "code",
   "execution_count": null,
   "metadata": {
    "colab": {
     "base_uri": "https://localhost:8080/",
     "height": 401
    },
    "executionInfo": {
     "elapsed": 1842,
     "status": "ok",
     "timestamp": 1620791750515,
     "user": {
      "displayName": "Aishwarya Verma",
      "photoUrl": "https://lh3.googleusercontent.com/a-/AOh14GiG6BREocxcd5R6rzlQGApoCsYso7BQAh63eXNz6Q=s64",
      "userId": "06108390091304498033"
     },
     "user_tz": -330
    },
    "id": "EOIwkKfat2Pp",
    "outputId": "1fb16643-eb70-45e8-a608-22083165517d"
   },
   "outputs": [],
   "source": [
    "sns.catplot(data=flights_wide, kind=\"box\")"
   ]
  },
  {
   "cell_type": "markdown",
   "metadata": {
    "id": "vhSXG6E-t4Yj"
   },
   "source": [
    "In summary, we can think of long-form and wide-form datasets as looking something like this:"
   ]
  },
  {
   "cell_type": "markdown",
   "metadata": {
    "id": "g0IgBlamtNDG"
   },
   "source": [
    "![image.png](data:image/png;base64,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)"
   ]
  },
  {
   "cell_type": "markdown",
   "metadata": {
    "id": "Izv12f4gwWPg"
   },
   "source": [
    "### **Messy data**"
   ]
  },
  {
   "cell_type": "markdown",
   "metadata": {
    "id": "LWh8Ly7Xwg7W"
   },
   "source": [
    "In a messy dataset, the variables are neither uniquely defined by the keys nor by the dimensions of the table. This often occurs with *repeated-measures data*, where it is natural to organize a table such that each row corresponds to the unit of data collection."
   ]
  },
  {
   "cell_type": "markdown",
   "metadata": {
    "id": "kJKqte3mwnPG"
   },
   "source": [
    "Consider this simple dataset from a psychology experiment in which twenty subjects performed a memory task where they studied anagrams while their attention was either divided or focused:"
   ]
  },
  {
   "cell_type": "code",
   "execution_count": null,
   "metadata": {
    "colab": {
     "base_uri": "https://localhost:8080/",
     "height": 677
    },
    "executionInfo": {
     "elapsed": 1592,
     "status": "ok",
     "timestamp": 1620792483692,
     "user": {
      "displayName": "Aishwarya Verma",
      "photoUrl": "https://lh3.googleusercontent.com/a-/AOh14GiG6BREocxcd5R6rzlQGApoCsYso7BQAh63eXNz6Q=s64",
      "userId": "06108390091304498033"
     },
     "user_tz": -330
    },
    "id": "EwekTTICwn2N",
    "outputId": "97e36f26-febc-4295-afb8-d6f8dc0fe03e"
   },
   "outputs": [],
   "source": [
    "anagrams = sns.load_dataset(\"anagrams\")\n",
    "anagrams"
   ]
  },
  {
   "cell_type": "markdown",
   "metadata": {
    "id": "RfwjEwgmzMq8"
   },
   "source": [
    "The attention variable is between-subjects, but there is also a within-subjects variable: the number of possible solutions to the anagrams, which varied from 1 to 3. The dependent measure is a score of memory performance. These two variables (number and score) are jointly encoded across several columns. As a result, the whole dataset is neither clearly long-form nor clearly wide-form."
   ]
  },
  {
   "cell_type": "markdown",
   "metadata": {
    "id": "WXPEtNmezRrF"
   },
   "source": [
    "How might we tell seaborn to plot the average score as a function of attention and number of solutions? We’d first need to coerce the data into one of our two structures. Let’s transform it to a tidy long-form table, such that each variable is a column and each row is an observation. We can use the method [pandas.DataFrame.melt()](https://pandas.pydata.org/pandas-docs/stable/reference/api/pandas.DataFrame.melt.html#pandas.DataFrame.melt) to accomplish this task:"
   ]
  },
  {
   "cell_type": "code",
   "execution_count": null,
   "metadata": {
    "colab": {
     "base_uri": "https://localhost:8080/",
     "height": 206
    },
    "executionInfo": {
     "elapsed": 943,
     "status": "ok",
     "timestamp": 1620792504595,
     "user": {
      "displayName": "Aishwarya Verma",
      "photoUrl": "https://lh3.googleusercontent.com/a-/AOh14GiG6BREocxcd5R6rzlQGApoCsYso7BQAh63eXNz6Q=s64",
      "userId": "06108390091304498033"
     },
     "user_tz": -330
    },
    "id": "rHGqja1xwuXF",
    "outputId": "9e8d6db7-95d8-411d-dc91-1c7c8165228e"
   },
   "outputs": [],
   "source": [
    "anagrams_long = anagrams.melt(id_vars=[\"subidr\", \"attnr\"], var_name=\"solutions\", value_name=\"score\")\n",
    "anagrams_long.head()"
   ]
  },
  {
   "cell_type": "markdown",
   "metadata": {
    "id": "qffps0gCwvVt"
   },
   "source": [
    "Now we can make the plot that we want:"
   ]
  },
  {
   "cell_type": "code",
   "execution_count": null,
   "metadata": {
    "colab": {
     "base_uri": "https://localhost:8080/",
     "height": 401
    },
    "executionInfo": {
     "elapsed": 1621,
     "status": "ok",
     "timestamp": 1620792520265,
     "user": {
      "displayName": "Aishwarya Verma",
      "photoUrl": "https://lh3.googleusercontent.com/a-/AOh14GiG6BREocxcd5R6rzlQGApoCsYso7BQAh63eXNz6Q=s64",
      "userId": "06108390091304498033"
     },
     "user_tz": -330
    },
    "id": "3FupDKFCwxQH",
    "outputId": "fafac514-7d0c-435d-e6f0-c402a9b9c7a4"
   },
   "outputs": [],
   "source": [
    "sns.catplot(data=anagrams_long, x=\"solutions\", y=\"score\", hue=\"attnr\", kind=\"point\")"
   ]
  },
  {
   "cell_type": "markdown",
   "metadata": {
    "id": "OX1LiP_twxCv"
   },
   "source": [
    "### **Options for visualizing long-form data**"
   ]
  },
  {
   "cell_type": "markdown",
   "metadata": {
    "id": "U2XVcGQvzyqW"
   },
   "source": [
    "The examples in the rest of the documentation will typically use pandas.DataFrame objects and reference variables in them by assigning names of their columns to the variables in the plot. But it is also possible to store vectors in a Python dictionary or a class that implements that interface:"
   ]
  },
  {
   "cell_type": "code",
   "execution_count": null,
   "metadata": {
    "colab": {
     "base_uri": "https://localhost:8080/",
     "height": 401
    },
    "executionInfo": {
     "elapsed": 4057,
     "status": "ok",
     "timestamp": 1620793352596,
     "user": {
      "displayName": "Aishwarya Verma",
      "photoUrl": "https://lh3.googleusercontent.com/a-/AOh14GiG6BREocxcd5R6rzlQGApoCsYso7BQAh63eXNz6Q=s64",
      "userId": "06108390091304498033"
     },
     "user_tz": -330
    },
    "id": "NwMkduVgzy-m",
    "outputId": "3baade61-4e56-49f4-ceb2-6df667d6496b"
   },
   "outputs": [],
   "source": [
    "flights_dict = flights.to_dict()\n",
    "sns.relplot(data=flights_dict, x=\"year\", y=\"passengers\", hue=\"month\", kind=\"line\")"
   ]
  },
  {
   "cell_type": "markdown",
   "metadata": {
    "id": "UUfbwWGU0Cd5"
   },
   "source": [
    "Many pandas operations, such as a the split-apply-combine operations of a group-by, will produce a dataframe where information has moved from the columns of the input dataframe to the index of the output. So long as the name is retained, you can still reference the data as normal:"
   ]
  },
  {
   "cell_type": "code",
   "execution_count": null,
   "metadata": {
    "colab": {
     "base_uri": "https://localhost:8080/",
     "height": 401
    },
    "executionInfo": {
     "elapsed": 1032,
     "status": "ok",
     "timestamp": 1620793380053,
     "user": {
      "displayName": "Aishwarya Verma",
      "photoUrl": "https://lh3.googleusercontent.com/a-/AOh14GiG6BREocxcd5R6rzlQGApoCsYso7BQAh63eXNz6Q=s64",
      "userId": "06108390091304498033"
     },
     "user_tz": -330
    },
    "id": "T4j-IE920DJE",
    "outputId": "8b467fb1-2eed-4b59-d74a-f5ef6a0d2afd"
   },
   "outputs": [],
   "source": [
    "flights_avg = flights.groupby(\"year\").mean()\n",
    "sns.relplot(data=flights_avg, x=\"year\", y=\"passengers\", kind=\"line\")"
   ]
  },
  {
   "cell_type": "markdown",
   "metadata": {
    "id": "E0FUhhUA0Hki"
   },
   "source": [
    "Additionally, it’s possible to pass vectors of data directly as arguments to `x`,` y`, and other plotting variables. If these vectors are pandas objects, the `name` attribute will be used to label the plot:"
   ]
  },
  {
   "cell_type": "code",
   "execution_count": null,
   "metadata": {
    "colab": {
     "base_uri": "https://localhost:8080/",
     "height": 401
    },
    "executionInfo": {
     "elapsed": 1283,
     "status": "ok",
     "timestamp": 1620793415277,
     "user": {
      "displayName": "Aishwarya Verma",
      "photoUrl": "https://lh3.googleusercontent.com/a-/AOh14GiG6BREocxcd5R6rzlQGApoCsYso7BQAh63eXNz6Q=s64",
      "userId": "06108390091304498033"
     },
     "user_tz": -330
    },
    "id": "-ESqJdYX0M31",
    "outputId": "e67b6c2a-95f6-4be8-b51d-46783387314c"
   },
   "outputs": [],
   "source": [
    "year = flights_avg.index\n",
    "passengers = flights_avg[\"passengers\"]\n",
    "sns.relplot(x=year, y=passengers, kind=\"line\")"
   ]
  },
  {
   "cell_type": "markdown",
   "metadata": {
    "id": "EBeGx8Br0O5n"
   },
   "source": [
    "Numpy arrays and other objects that implement the Python sequence interface work too, but if they don’t have names, the plot will not be as informative without further tweaking:"
   ]
  },
  {
   "cell_type": "code",
   "execution_count": null,
   "metadata": {
    "colab": {
     "base_uri": "https://localhost:8080/",
     "height": 387
    },
    "executionInfo": {
     "elapsed": 1627,
     "status": "ok",
     "timestamp": 1620793440843,
     "user": {
      "displayName": "Aishwarya Verma",
      "photoUrl": "https://lh3.googleusercontent.com/a-/AOh14GiG6BREocxcd5R6rzlQGApoCsYso7BQAh63eXNz6Q=s64",
      "userId": "06108390091304498033"
     },
     "user_tz": -330
    },
    "id": "GBTdpABQ0PhX",
    "outputId": "176603c3-906f-4b7a-a7c9-84602e66641b"
   },
   "outputs": [],
   "source": [
    "sns.relplot(x=year.to_numpy(), y=passengers.to_list(), kind=\"line\")"
   ]
  },
  {
   "cell_type": "markdown",
   "metadata": {
    "id": "N4qlJ0aW0VDj"
   },
   "source": [
    "### **Options for visualizing wide-form data**"
   ]
  },
  {
   "cell_type": "markdown",
   "metadata": {
    "id": "HS3jvxc62oSH"
   },
   "source": [
    "The options for passing wide-form data are even more flexible."
   ]
  },
  {
   "cell_type": "markdown",
   "metadata": {
    "id": "6yfkwcD90Y8v"
   },
   "source": [
    "The example we saw above used a rectangular pandas.DataFrame, which can be thought of as a collection of its columns. A dict or list of pandas objects will also work, but we’ll lose the axis labels:"
   ]
  },
  {
   "cell_type": "code",
   "execution_count": null,
   "metadata": {
    "colab": {
     "base_uri": "https://localhost:8080/",
     "height": 401
    },
    "executionInfo": {
     "elapsed": 1951,
     "status": "ok",
     "timestamp": 1620794020840,
     "user": {
      "displayName": "Aishwarya Verma",
      "photoUrl": "https://lh3.googleusercontent.com/a-/AOh14GiG6BREocxcd5R6rzlQGApoCsYso7BQAh63eXNz6Q=s64",
      "userId": "06108390091304498033"
     },
     "user_tz": -330
    },
    "id": "aNvORThv0YxJ",
    "outputId": "d207bdea-ecc2-4dbf-d11a-180c8c32c025"
   },
   "outputs": [],
   "source": [
    "flights_wide_list = [col for _, col in flights_wide.items()]\n",
    "sns.relplot(data=flights_wide_list, kind=\"line\")"
   ]
  },
  {
   "cell_type": "markdown",
   "metadata": {
    "id": "hjuDwZQ72rPA"
   },
   "source": [
    "The vectors in a collection do not need to have the same length. If they have an index, it will be used to align them:"
   ]
  },
  {
   "cell_type": "code",
   "execution_count": null,
   "metadata": {
    "colab": {
     "base_uri": "https://localhost:8080/",
     "height": 401
    },
    "executionInfo": {
     "elapsed": 1856,
     "status": "ok",
     "timestamp": 1620794074388,
     "user": {
      "displayName": "Aishwarya Verma",
      "photoUrl": "https://lh3.googleusercontent.com/a-/AOh14GiG6BREocxcd5R6rzlQGApoCsYso7BQAh63eXNz6Q=s64",
      "userId": "06108390091304498033"
     },
     "user_tz": -330
    },
    "id": "vl88owL12pm0",
    "outputId": "ecbc7da4-3d46-4d1d-8961-622998f32274"
   },
   "outputs": [],
   "source": [
    "two_series = [flights_wide.loc[:1955, \"Jan\"], flights_wide.loc[1952:, \"Aug\"]]\n",
    "sns.relplot(data=two_series, kind=\"line\")"
   ]
  },
  {
   "cell_type": "markdown",
   "metadata": {
    "id": "ElLS7Y3b2wFF"
   },
   "source": [
    "Whereas an ordinal index will be used for numpy arrays or simple Python sequences:"
   ]
  },
  {
   "cell_type": "code",
   "execution_count": null,
   "metadata": {
    "colab": {
     "base_uri": "https://localhost:8080/",
     "height": 387
    },
    "executionInfo": {
     "elapsed": 1914,
     "status": "ok",
     "timestamp": 1620794092664,
     "user": {
      "displayName": "Aishwarya Verma",
      "photoUrl": "https://lh3.googleusercontent.com/a-/AOh14GiG6BREocxcd5R6rzlQGApoCsYso7BQAh63eXNz6Q=s64",
      "userId": "06108390091304498033"
     },
     "user_tz": -330
    },
    "id": "-YFvXIGH2vTg",
    "outputId": "ecee69a4-4343-4ac3-9a94-5ec63ceeed3f"
   },
   "outputs": [],
   "source": [
    "two_arrays = [s.to_numpy() for s in two_series]\n",
    "sns.relplot(data=two_arrays, kind=\"line\")"
   ]
  },
  {
   "cell_type": "markdown",
   "metadata": {
    "id": "1Xeh0m0O2zzF"
   },
   "source": [
    "But a dictionary of such vectors will at least use the keys:"
   ]
  },
  {
   "cell_type": "code",
   "execution_count": null,
   "metadata": {
    "colab": {
     "base_uri": "https://localhost:8080/",
     "height": 387
    },
    "executionInfo": {
     "elapsed": 1713,
     "status": "ok",
     "timestamp": 1620794105755,
     "user": {
      "displayName": "Aishwarya Verma",
      "photoUrl": "https://lh3.googleusercontent.com/a-/AOh14GiG6BREocxcd5R6rzlQGApoCsYso7BQAh63eXNz6Q=s64",
      "userId": "06108390091304498033"
     },
     "user_tz": -330
    },
    "id": "LvqI0VS721X3",
    "outputId": "2893c3d4-1bde-4736-da44-0e286871e533"
   },
   "outputs": [],
   "source": [
    "two_arrays_dict = {s.name: s.to_numpy() for s in two_series}\n",
    "sns.relplot(data=two_arrays_dict, kind=\"line\")"
   ]
  },
  {
   "cell_type": "markdown",
   "metadata": {
    "id": "XicsrXIK24Lk"
   },
   "source": [
    "Rectangular numpy arrays are treated just like a dataframe without index information, so they are viewed as a collection of column vectors. Note that this is different from how numpy indexing operations work, where a single indexer will access a row. But it is consistent with how pandas would turn the array into a dataframe or how matplotlib would plot it:"
   ]
  },
  {
   "cell_type": "code",
   "execution_count": null,
   "metadata": {
    "colab": {
     "base_uri": "https://localhost:8080/",
     "height": 387
    },
    "executionInfo": {
     "elapsed": 2200,
     "status": "ok",
     "timestamp": 1620794125338,
     "user": {
      "displayName": "Aishwarya Verma",
      "photoUrl": "https://lh3.googleusercontent.com/a-/AOh14GiG6BREocxcd5R6rzlQGApoCsYso7BQAh63eXNz6Q=s64",
      "userId": "06108390091304498033"
     },
     "user_tz": -330
    },
    "id": "ugwhGofT26CN",
    "outputId": "bf200196-555c-4507-c0d3-b8319d97913d"
   },
   "outputs": [],
   "source": [
    "flights_array = flights_wide.to_numpy()\n",
    "sns.relplot(data=flights_array, kind=\"line\")"
   ]
  },
  {
   "cell_type": "markdown",
   "metadata": {
    "id": "SxJE7GUkzhzv"
   },
   "source": [
    "#**Please refer [Official Tutorial](https://seaborn.pydata.org/tutorial.html) for more detailed explaination**"
   ]
  }
 ],
 "metadata": {
  "colab": {
   "authorship_tag": "ABX9TyNprFZzN0BZ9/YvD2agOa4J",
   "collapsed_sections": [],
   "name": "Seaborn in Python 2.ipynb",
   "provenance": [],
   "toc_visible": true
  },
  "kernelspec": {
   "display_name": "Python 3",
   "name": "python3"
  },
  "language_info": {
   "name": "python"
  }
 },
 "nbformat": 4,
 "nbformat_minor": 2
}
