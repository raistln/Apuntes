{
 "cells": [
  {
   "cell_type": "markdown",
   "metadata": {
    "id": "FO0wH72ghsrv"
   },
   "source": [
    "# Linear Algebra using NumPy\n",
    "\n",
    "Data Science relies heavily on Linear Algebra. NumPy is famous for its Linear Algebra operations. This article discusses methods available in the NumPy library to perform various Linear Algebra operations with examples. These examples assume that the readers have a basic understanding of NumPy arrays.\n",
    "\n",
    "References:\n",
    "\n",
    "Array Programming with NumPy\n",
    "https://www.nature.com/articles/s41586-020-2649-2\n",
    "\n",
    "Official site\n",
    "https://numpy.org/\n",
    "\n",
    "Official tutorial\n",
    "https://numpy.org/doc/stable/reference/routines.linalg.html"
   ]
  },
  {
   "cell_type": "markdown",
   "metadata": {
    "id": "GDBd7xp5Bnbw"
   },
   "source": [
    "To read about it more, please refer [this](https://analyticsindiamag.com/linear-algebra-for-data-scientists-with-numpy/) article."
   ]
  },
  {
   "cell_type": "markdown",
   "metadata": {
    "id": "zR8BPXoQKCTC"
   },
   "source": [
    "# Code Implementation"
   ]
  },
  {
   "cell_type": "code",
   "execution_count": null,
   "metadata": {},
   "outputs": [],
   "source": [
    "!python -m pip install pip --upgrade --user -q\n",
    "!python -m pip install numpy pandas seaborn matplotlib scipy statsmodels scikit-image --user -q"
   ]
  },
  {
   "cell_type": "code",
   "execution_count": null,
   "metadata": {},
   "outputs": [],
   "source": [
    "import IPython\n",
    "IPython.Application.instance().kernel.do_shutdown(True)"
   ]
  },
  {
   "cell_type": "code",
   "execution_count": null,
   "metadata": {
    "id": "HO4AE_Ghhliy"
   },
   "outputs": [],
   "source": [
    "import numpy as np\n",
    "import matplotlib.pyplot as plt\n"
   ]
  },
  {
   "cell_type": "markdown",
   "metadata": {
    "id": "HGHYdKVuhJxN"
   },
   "source": [
    "### Transpose of a Matrix"
   ]
  },
  {
   "cell_type": "markdown",
   "metadata": {
    "id": "nSVUccHCQnYv"
   },
   "source": [
    "If the matrix is a NumPy array, it can be treated as an object and method T can be applied over it as follows."
   ]
  },
  {
   "cell_type": "code",
   "execution_count": null,
   "metadata": {
    "id": "NQ-0EJ2mg9lM"
   },
   "outputs": [],
   "source": [
    "# Transpose of a Matrix (as ndarray)\n",
    "\n",
    "a = np.array([[1,2,3,4],[2,3,4,5]])\n",
    "b = a.T\n",
    "print('a\\n',a)\n",
    "print()\n",
    "print('b\\n',b)"
   ]
  },
  {
   "cell_type": "markdown",
   "metadata": {
    "id": "t4uxd6S-KIMi"
   },
   "source": [
    "Matrix transpose is performed with the `transpose` method on a nested list or a Python array, or a higher-dimensional Numpy array. "
   ]
  },
  {
   "cell_type": "code",
   "execution_count": null,
   "metadata": {
    "id": "CUrEFWPrhAgs"
   },
   "outputs": [],
   "source": [
    "# Transpose of a Matrix (as nested list)\n",
    "\n",
    "a = [[1,2,3,4],[2,3,4,5]]\n",
    "b = np.transpose(a)\n",
    "print('a\\n',a)\n",
    "print('b\\n',b)"
   ]
  },
  {
   "cell_type": "markdown",
   "metadata": {
    "id": "Hnmasq7AXSI5"
   },
   "source": [
    "### dot\n",
    "\n",
    "it performs dot matrix product (scalar product) for 1D or higher dimensional arrays.\n",
    "\n",
    "if the inputs are scalars, it performs multiplication."
   ]
  },
  {
   "cell_type": "code",
   "execution_count": null,
   "metadata": {
    "id": "V-jVWVhCXTjs"
   },
   "outputs": [],
   "source": [
    "# scalars\n",
    "a = 5\n",
    "b = 3\n",
    "z = np.dot(a,b)\n",
    "\n",
    "print(z)"
   ]
  },
  {
   "cell_type": "code",
   "execution_count": null,
   "metadata": {
    "id": "nakqA68HTmZ-"
   },
   "outputs": [],
   "source": [
    "z = a * b\n",
    "print(z)"
   ]
  },
  {
   "cell_type": "code",
   "execution_count": null,
   "metadata": {
    "id": "9Bsy4x7oYUcp"
   },
   "outputs": [],
   "source": [
    "# 1D arrays\n",
    "a = np.array([1,2,3])  # or a = [1,2,3]\n",
    "b = np.array([2,3,4])  # or b = [2,3,4]\n",
    "z = np.dot(a,b)\n",
    "\n",
    "print(z)"
   ]
  },
  {
   "cell_type": "code",
   "execution_count": null,
   "metadata": {
    "id": "xDEPZz2tZ5mH"
   },
   "outputs": [],
   "source": [
    "# 2D arrays\n",
    "\n",
    "a = [[1,2,3],[2,0,3],[7,-5,1]]\n",
    "b = [[3,-1,5],[-2,-6,4], [0,4,4]]\n",
    "z = np.dot(a,b)\n",
    "\n",
    "print(z)"
   ]
  },
  {
   "cell_type": "code",
   "execution_count": null,
   "metadata": {
    "id": "55X01u1UcnG4"
   },
   "outputs": [],
   "source": [
    "a = np.array(a)\n",
    "b = np.array(b)\n",
    "z = a.dot(b)\n",
    "\n",
    "print(z)"
   ]
  },
  {
   "cell_type": "markdown",
   "metadata": {
    "id": "oTw_7bBGcDMG"
   },
   "source": [
    "### multi_dot\n",
    "\n",
    "It performs dot (scalar) product with 2 or more input matrices.\n",
    "\n",
    "First and last arrays can be either 1D or 2D arrays. However, the dimensions of the matrices must suit subsequent scalar matrix multiplication."
   ]
  },
  {
   "cell_type": "code",
   "execution_count": null,
   "metadata": {
    "id": "OGBHMv9idHEU"
   },
   "outputs": [],
   "source": [
    "a = np.random.randint(-4,4,(500,5))\n",
    "b = np.random.randint(-4,4,(5,1000))\n",
    "c = np.random.randint(-4,4,(1000,10))\n",
    "d = np.random.randint(-4,4,(10,2000))\n",
    "e = np.random.randint(-4,4,(2000,200))"
   ]
  },
  {
   "cell_type": "code",
   "execution_count": null,
   "metadata": {
    "id": "hhpIZ2Pr-YSC"
   },
   "outputs": [],
   "source": [
    "%%time\n",
    "z = np.linalg.multi_dot([a,b,c,d,e])\n",
    "print(z, '\\n')"
   ]
  },
  {
   "cell_type": "code",
   "execution_count": null,
   "metadata": {
    "id": "X6T8OZE1-is0"
   },
   "outputs": [],
   "source": [
    "%%time\n",
    "z = a.dot(b).dot(c).dot(d).dot(e)\n",
    "print(z, '\\n')"
   ]
  },
  {
   "cell_type": "markdown",
   "metadata": {
    "id": "l-55mBJqGkJX"
   },
   "source": [
    "### Inner Product\n",
    "\n",
    "Performs a-dot-b(transpose)\n",
    "Last dimensions of a and b must be identical"
   ]
  },
  {
   "cell_type": "code",
   "execution_count": null,
   "metadata": {
    "id": "OT49zKf-GnA3"
   },
   "outputs": [],
   "source": [
    "a = np.array([[1,2,3], [4,-1,0]])\n",
    "b = np.array([6,3,2])\n",
    "z = np.inner(a,b)\n",
    "print(z)"
   ]
  },
  {
   "cell_type": "code",
   "execution_count": null,
   "metadata": {
    "id": "wnx2Jt7QIgAe"
   },
   "outputs": [],
   "source": [
    "a.dot(b.T)"
   ]
  },
  {
   "cell_type": "markdown",
   "metadata": {
    "id": "GSznaJqxLvCV"
   },
   "source": [
    "### Outer Product\n",
    "\n",
    "Outer product is the dot product of a column vector of size M*1 and a row vector of size 1*N. The resulting array is a matrix of size M*N.\n"
   ]
  },
  {
   "cell_type": "code",
   "execution_count": null,
   "metadata": {
    "id": "Xui-UoQ-L02u"
   },
   "outputs": [],
   "source": [
    "a = np.array([1,2,3,4,5])\n",
    "b = np.array([6,3,2])\n",
    "z = np.outer(a,b)\n",
    "print(z)"
   ]
  },
  {
   "cell_type": "markdown",
   "metadata": {
    "id": "g67Z6pW7q8ps"
   },
   "source": [
    "### Matrix Multiplication\n",
    "\n",
    "In NumPy, matrix multiplication is performed only with matrices, i.e. higher-dimensional arrays. If a vector is passed as an array, a row or a column of ones will be added to that vector to temporarily convert it into a matrix; and, once the matrix multiplication is finished, that row or column will be removed automatically.\n"
   ]
  },
  {
   "cell_type": "code",
   "execution_count": null,
   "metadata": {
    "id": "p0ONIXOUMamJ"
   },
   "outputs": [],
   "source": [
    "\n",
    "a = np.arange(6).reshape(2,3)\n",
    "b = np.arange(-3,3).reshape(3,2)\n",
    "z = np.matmul(a, b)\n",
    "print(a) \n",
    "print(b) \n",
    "print(z)"
   ]
  },
  {
   "cell_type": "code",
   "execution_count": null,
   "metadata": {
    "id": "0NjgwBNQrFqO"
   },
   "outputs": [],
   "source": [
    "a = np.random.random([8,7,5,2])\n",
    "b = np.random.random([8,7,2,3])\n",
    "z = a @ b\n",
    "print(z.shape)"
   ]
  },
  {
   "cell_type": "markdown",
   "metadata": {
    "id": "h-GPfaDbHbxM"
   },
   "source": [
    "### Determinant of a Matrix"
   ]
  },
  {
   "cell_type": "markdown",
   "metadata": {
    "id": "zZFsH27PQ6Yb"
   },
   "source": [
    "Matrix determinant can be calculated using the method `det` available in the linalg module."
   ]
  },
  {
   "cell_type": "code",
   "execution_count": null,
   "metadata": {
    "id": "CuIEoSdfHgdM"
   },
   "outputs": [],
   "source": [
    "a = np.random.randint(1,10,[3,3])\n",
    "det = np.linalg.det(a)\n",
    "print(int(det))"
   ]
  },
  {
   "cell_type": "code",
   "execution_count": null,
   "metadata": {
    "id": "Mo7Qd6r_IwTf"
   },
   "outputs": [],
   "source": [
    "# Determinant of a 3D array\n",
    "a = np.random.randint(-5,5,[3,4,4])\n",
    "det = np.linalg.det(a)\n",
    "print(a)\n",
    "print(det)"
   ]
  },
  {
   "cell_type": "markdown",
   "metadata": {
    "id": "9x9e_NHPbQZJ"
   },
   "source": [
    "\n",
    "### Matrix Inverse\n",
    "\n",
    "Inverse of a square matrix can be derived using the `inv` method of the linalg module."
   ]
  },
  {
   "cell_type": "code",
   "execution_count": null,
   "metadata": {
    "id": "VfFQyVCAbTlH"
   },
   "outputs": [],
   "source": [
    "a = np.random.randint(1,10,[3,3])\n",
    "inv = np.linalg.inv(a)\n",
    "print(a)\n",
    "print()\n",
    "print(inv)"
   ]
  },
  {
   "cell_type": "markdown",
   "metadata": {
    "id": "xZzhT_5wu2Gl"
   },
   "source": [
    "### Matrix Power\n",
    "\n",
    "Matrix Power is a general method to obtain either positive or negative powers of a given square matrix. The first negative power of a matrix is technically termed its inverse. Thus, the `matrix_power` method can be used to find the inverse or any power of a matrix."
   ]
  },
  {
   "cell_type": "code",
   "execution_count": null,
   "metadata": {
    "id": "6KtP7AHWu9jW"
   },
   "outputs": [],
   "source": [
    "a = np.random.random([4,4])\n",
    "# positive powers of matrix\n",
    "a_2 = np.linalg.matrix_power(a, 2)\n",
    "a_7 = np.linalg.matrix_power(a, 7)\n",
    "# inverses of matrix\n",
    "a_inv_1 = np.linalg.matrix_power(a, -1)\n",
    "a_inv_3 = np.linalg.matrix_power(a, -3)\n",
    "\n",
    "print('matrix \\n', a)\n",
    "print('\\n matrix to the power 2\\n', a_2)\n",
    "print('\\n matrix to the power 7\\n', a_7)\n",
    "print('\\n matrix inverse \\n', a_inv_1)\n",
    "print('\\n matrix cubic inverse \\n', a_inv_3)"
   ]
  },
  {
   "cell_type": "markdown",
   "metadata": {
    "id": "mCDJNzDXCFOG"
   },
   "source": [
    "### Eignen Values and Eigen Vectors\n",
    "\n",
    "Eigen values and Eigen vectors of a matrix can be determined as follows. If Eigen values cannot be determined, the method throws an error (Eg. Singular matrix)."
   ]
  },
  {
   "cell_type": "code",
   "execution_count": null,
   "metadata": {
    "id": "8upyaGULC3yi"
   },
   "outputs": [],
   "source": [
    "a = np.arange(9).reshape(3,3)\n",
    "eigenvalues = np.linalg.eigvals(a)\n",
    "print(eigenvalues)"
   ]
  },
  {
   "cell_type": "code",
   "execution_count": null,
   "metadata": {
    "id": "x1Br0lepDeMS"
   },
   "outputs": [],
   "source": [
    "a = np.arange(9).reshape(3,3)\n",
    "eig_val, eig_vec = np.linalg.eig(a)\n",
    "print('Eigenvalues are: \\n', eig_val)\n",
    "print('\\nEigenvectors are: \\n', eig_vec) "
   ]
  },
  {
   "cell_type": "markdown",
   "metadata": {
    "id": "tO29Gzkuck5B"
   },
   "source": [
    "### Traces of a Matrix\n",
    "\n",
    "Traces of a square matrix is the summation of its diagonal elements.\n",
    "\n"
   ]
  },
  {
   "cell_type": "code",
   "execution_count": null,
   "metadata": {
    "id": "HvDBEiBqdMFa"
   },
   "outputs": [],
   "source": [
    "a = np.eye(5)\n",
    "print(a)\n",
    "z = np.trace(a)\n",
    "print('\\nTrace of matrix is: ',z)"
   ]
  },
  {
   "cell_type": "code",
   "execution_count": null,
   "metadata": {
    "id": "xO0DxIZFn1W_"
   },
   "outputs": [],
   "source": [
    "z = np.trace(a, offset=1)\n",
    "print(z)"
   ]
  },
  {
   "cell_type": "markdown",
   "metadata": {
    "id": "F71CN9DjnrLP"
   },
   "source": [
    "### Matrix Norm"
   ]
  },
  {
   "cell_type": "markdown",
   "metadata": {
    "id": "bC83Ld3ERMuC"
   },
   "source": [
    "Matrix or vector norm is calculated using the `norm` method of the `linalg` \n",
    "\n",
    "\n",
    "module."
   ]
  },
  {
   "cell_type": "code",
   "execution_count": null,
   "metadata": {
    "id": "fsZKM9e9qlAs"
   },
   "outputs": [],
   "source": [
    "a = np.arange(12).reshape(4,3)\n",
    "z = np.linalg.norm(a)\n",
    "print(a)\n",
    "print('\\nFrobenius Norm of above matrix:')\n",
    "print(z)"
   ]
  },
  {
   "cell_type": "code",
   "execution_count": null,
   "metadata": {
    "id": "29rJELUYt2zx"
   },
   "outputs": [],
   "source": [
    "# Norm along axis 0\n",
    "a = np.arange(12).reshape(4,3)\n",
    "z = np.linalg.norm(a, axis=0)\n",
    "# dim = 3\n",
    "print(z)"
   ]
  },
  {
   "cell_type": "code",
   "execution_count": null,
   "metadata": {
    "id": "0X-QAuv-uG5O"
   },
   "outputs": [],
   "source": [
    "# Norm along axis 1\n",
    "a = np.arange(12).reshape(4,3)\n",
    "z = np.linalg.norm(a, axis=1)\n",
    "# dim = 4\n",
    "print(z)"
   ]
  },
  {
   "cell_type": "code",
   "execution_count": null,
   "metadata": {
    "id": "-fGh2T9Bujh9"
   },
   "outputs": [],
   "source": [
    "# Norms of 3D arrays\n",
    "a = np.random.random([3,2,4])\n",
    "print(a)\n",
    "\n",
    "print('\\nNorm along axes (0,1)')\n",
    "z = np.linalg.norm(a, axis=(0,1))\n",
    "print(z)\n",
    "\n",
    "print('\\nNorm along axes (1,2)')\n",
    "z = np.linalg.norm(a, axis=(1,2))\n",
    "print(z)"
   ]
  },
  {
   "cell_type": "markdown",
   "metadata": {
    "id": "9xdBTfLFxTOt"
   },
   "source": [
    "### Solving System of Equations\n",
    "\n",
    "\n",
    "When we think of Linear Algebra, the system of linear equations comes to our mind first, as it is tedious, time-consuming and error-prone. NumPy solves systems of linear equations in a fraction of seconds!"
   ]
  },
  {
   "cell_type": "code",
   "execution_count": null,
   "metadata": {
    "id": "xSopqqG9xW_N"
   },
   "outputs": [],
   "source": [
    "# Coefficient Matrix\n",
    "a = np.random.randint(1,20,[4,4])\n",
    "# Dependent variable vector\n",
    "b = np.array([4,9,12,7])\n",
    "# solution\n",
    "x = np.linalg.solve(a,b)\n",
    "\n",
    "print('Coefficient Matrix')\n",
    "print(a)\n",
    "print('\\nDependent Variable vector')\n",
    "print(b)\n",
    "print('\\nSolution')\n",
    "print(x)"
   ]
  },
  {
   "cell_type": "code",
   "execution_count": null,
   "metadata": {
    "id": "shWsUN_Wy-6d"
   },
   "outputs": [],
   "source": [
    "# Check for correctness\n",
    "B = a.dot(x)\n",
    "print(B)"
   ]
  },
  {
   "cell_type": "markdown",
   "metadata": {
    "id": "Uw-fHjfkvo2L"
   },
   "source": [
    "### Singular Value Decomposition"
   ]
  },
  {
   "cell_type": "markdown",
   "metadata": {
    "id": "UBGC8VKERZAj"
   },
   "source": [
    "Singular Value Decomposition (SVD) is one of the great dimension-reduction algorithms in machine learning. It identifies the principal components and arranges them by rank. The top ranked components contribute greatly to the original array. Here, we explore SVD with an image to get better understanding."
   ]
  },
  {
   "cell_type": "code",
   "execution_count": null,
   "metadata": {
    "id": "q2-oLGLlvsih"
   },
   "outputs": [],
   "source": [
    "from skimage import data\n",
    "image = data.coffee()\n",
    "print(image.dtype, image.min(), image.max(), image.shape)\n",
    "plt.imshow(image)\n",
    "plt.show()"
   ]
  },
  {
   "cell_type": "code",
   "execution_count": null,
   "metadata": {
    "id": "z40X6ToQ9FXE"
   },
   "outputs": [],
   "source": [
    "# normalize image\n",
    "img = image/255.0\n",
    "# reorder the axes to have colour channels as the first dimension\n",
    "img = np.transpose(img, axes=(2,0,1))"
   ]
  },
  {
   "cell_type": "code",
   "execution_count": null,
   "metadata": {
    "id": "LGVqoFBG424u"
   },
   "outputs": [],
   "source": [
    "U,S,V = np.linalg.svd(img)\n",
    "print(U.shape, S.shape, V.shape)"
   ]
  },
  {
   "cell_type": "code",
   "execution_count": null,
   "metadata": {
    "id": "3Q7FYZCQ_zCm"
   },
   "outputs": [],
   "source": [
    "# S matrix should have dimensions suitable for matrix multiplication\n",
    "Sigma = np.zeros((3,400,600))\n",
    "for i in range(3):\n",
    "  np.fill_diagonal(Sigma[i,:,:], S[i,:])\n",
    "print(Sigma.shape)"
   ]
  },
  {
   "cell_type": "code",
   "execution_count": null,
   "metadata": {
    "id": "DgBanH3R5g9N"
   },
   "outputs": [],
   "source": [
    "reconst = U @ Sigma @ V\n",
    "reconst = np.transpose(reconst, axes=(1,2,0))\n",
    "plt.imshow(reconst)\n",
    "plt.show()"
   ]
  },
  {
   "cell_type": "code",
   "execution_count": null,
   "metadata": {
    "id": "QTGqzBGxBi62"
   },
   "outputs": [],
   "source": [
    "k = 50\n",
    "reconst = U @ Sigma[:,:,:k] @ V[:,:k,:]\n",
    "reconst = np.transpose(reconst, axes=(1,2,0))\n",
    "plt.imshow(reconst)\n",
    "plt.show()"
   ]
  },
  {
   "cell_type": "code",
   "execution_count": null,
   "metadata": {
    "id": "BPhy9h30FCF5"
   },
   "outputs": [],
   "source": [
    "k = 20\n",
    "reconst = U @ Sigma[:,:,:k] @ V[:,:k,:]\n",
    "reconst = np.transpose(reconst, axes=(1,2,0))\n",
    "plt.imshow(reconst)\n",
    "plt.show()"
   ]
  }
 ],
 "metadata": {
  "colab": {
   "authorship_tag": "ABX9TyNpi0I527zLt0GMJLuBIg5R",
   "collapsed_sections": [],
   "name": "1_Linear_Algebra_Numpy.ipynb",
   "provenance": [],
   "toc_visible": true
  },
  "kernelspec": {
   "display_name": "Python 3",
   "name": "python3"
  },
  "language_info": {
   "name": "python"
  }
 },
 "nbformat": 4,
 "nbformat_minor": 2
}
