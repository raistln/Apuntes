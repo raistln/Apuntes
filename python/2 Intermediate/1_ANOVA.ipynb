{
 "cells": [
  {
   "cell_type": "markdown",
   "metadata": {
    "id": "CrYXYZ5GuxW8"
   },
   "source": [
    "# ANOVA using Python"
   ]
  },
  {
   "cell_type": "markdown",
   "metadata": {
    "id": "CsNUWlh3tE8_"
   },
   "source": [
    "ANOVA is one of the statistical tools that helps determine whether two or more data samples have significantly identical properties. Let’s assume a scenario- we have different samples collected independently from the same dataset for cross-validation. We wish to know whether the means of the collected samples are significantly the same. Another scenario- we have developed three different machine learning models. We have obtained a set of results, and we wish to know whether the models perform significantly in the same manner. Thus, there are many scenarios in practical applications where we may need to use ANOVA as part of data analytics."
   ]
  },
  {
   "cell_type": "markdown",
   "metadata": {
    "id": "2uz3l4tHtFrg"
   },
   "source": [
    "To read about it more, please refer [this](https://analyticsindiamag.com/a-complete-python-guide-to-anova/) article."
   ]
  },
  {
   "cell_type": "markdown",
   "metadata": {
    "id": "Fe3rD5jhtMAb"
   },
   "source": [
    "## **Comparing Means using ANOVA**"
   ]
  },
  {
   "cell_type": "markdown",
   "metadata": {
    "id": "Ht63y6XStOod"
   },
   "source": [
    "Import the necessary libraries to create the environment."
   ]
  },
  {
   "cell_type": "code",
   "execution_count": null,
   "metadata": {},
   "outputs": [],
   "source": [
    "!python -m pip install pip --upgrade --user -q\n",
    "!python -m pip install numpy pandas seaborn matplotlib scipy statsmodels --user -q"
   ]
  },
  {
   "cell_type": "code",
   "execution_count": null,
   "metadata": {},
   "outputs": [],
   "source": [
    "import IPython\n",
    "IPython.Application.instance().kernel.do_shutdown(True)"
   ]
  },
  {
   "cell_type": "code",
   "execution_count": null,
   "metadata": {
    "id": "rMSEuGkfrKUt"
   },
   "outputs": [],
   "source": [
    "# import libraries\n",
    "import numpy as np\n",
    "import pandas as pd\n",
    "import scipy\n",
    "import statsmodels.api as sm\n",
    "from statsmodels.formula.api import ols\n",
    "from matplotlib import pyplot as plt\n",
    "import seaborn as sns\n",
    "\n",
    "np.random.seed(1)"
   ]
  },
  {
   "cell_type": "markdown",
   "metadata": {
    "id": "zU1U1DWvtQel"
   },
   "source": [
    "Generate some normally distributed synthetic data using NumPy’s random module. While generating synthetic data, we should ensure that the standard deviation is common for all different methods."
   ]
  },
  {
   "cell_type": "code",
   "execution_count": null,
   "metadata": {
    "id": "M9iWrL0vvUPY"
   },
   "outputs": [],
   "source": [
    "method_1 = np.random.normal(10,3,10)\n",
    "method_2 = np.random.normal(11,3,10)\n",
    "method_3 = np.random.normal(12,3,10)\n",
    "method_4 = np.random.normal(13,3,10)\n",
    "\n",
    "data = pd.DataFrame({'method_1':method_1, \n",
    "                     'method_2':method_2, \n",
    "                     'method_3':method_3,\n",
    "                     'method_4':method_4})\n",
    "data.head()"
   ]
  },
  {
   "cell_type": "markdown",
   "metadata": {
    "id": "WOZfC9_LtTeP"
   },
   "source": [
    "Before proceeding further into ANOVA, we should establish a null hypothesis. Whenever we are unable to make a solid mathematical decision, we go for hypothesis testing. ANOVA does follow hypothesis testing. Our null hypothesis (common for most ANOVA problems) can be expressed as:"
   ]
  },
  {
   "cell_type": "markdown",
   "metadata": {
    "id": "tMAx4P4EtVMU"
   },
   "source": [
    "    Means of all the four methods are the same."
   ]
  },
  {
   "cell_type": "markdown",
   "metadata": {
    "id": "rRjwDdCrtYbY"
   },
   "source": [
    "We know very well that the means are mathematically not the same. We set 10, 11, 12 and 13 as the means for the corresponding four methods while generating data. But from a statistical point of view, we make decisions with some level of significance. We set the most common level of significance, 0.05 (i.e. 5% of risk in rejecting the null hypothesis when it is actually true). \n",
    "\n",
    "In other words, if we set a level of significance of zero, it is a mathematical decision – we do not permit errors. In our case, we can reject the null hypothesis without any analysis, because we know that the means are different from each other. However, with many factors affecting the data, we should give some space to accept some statistically significant deviations among data. \n",
    "\n",
    "ANOVA follows F-test (We will define F-statistic shortly). If the probability of F-statistic is less than or equal to the level of significance (0.05, here), we should reject the null hypothesis. Else, we should accept the null hypothesis.\n",
    "\n",
    "Make the data frame to have a single column of values using Pandas’ melt method."
   ]
  },
  {
   "cell_type": "code",
   "execution_count": null,
   "metadata": {
    "id": "kbi8wRqC0QYJ"
   },
   "outputs": [],
   "source": [
    "df = pd.melt(data,  \n",
    "             value_vars=['method_1', 'method_2', 'method_3', 'method_4'])\n",
    "\n",
    "df.columns = [ 'treatment', 'value']\n",
    "df.sample(10)"
   ]
  },
  {
   "cell_type": "markdown",
   "metadata": {
    "id": "4A1rjG87taLk"
   },
   "source": [
    "Develop an Ordinary Least Squares model with the melted data."
   ]
  },
  {
   "cell_type": "code",
   "execution_count": null,
   "metadata": {
    "id": "MEoxl2AC1sVr"
   },
   "outputs": [],
   "source": [
    "model = ols('value~C(treatment)', data=df).fit()\n",
    "model.summary()"
   ]
  },
  {
   "cell_type": "markdown",
   "metadata": {
    "id": "m1FMfIKNtdzN"
   },
   "source": [
    "We can jump into conclusions with this step itself. The probability score is 0.135, which is greater than 0.05. Hence, we should accept the null hypothesis. In other words, the means of all four methods are significantly the same. However, an ANOVA table can give crystal clear output for better understanding. Obtain the ANOVA table with the following code."
   ]
  },
  {
   "cell_type": "code",
   "execution_count": null,
   "metadata": {
    "id": "s0JdC2MV5Sz7"
   },
   "outputs": [],
   "source": [
    "anova = sm.stats.anova_lm(model, typ=1)\n",
    "anova"
   ]
  },
  {
   "cell_type": "markdown",
   "metadata": {
    "id": "evF_UEbitgSG"
   },
   "source": [
    "Users need to be aware that the terms groups and methods are invariably used in this example.\n",
    "\n",
    "We have come to the conclusion based on the Probability score. However, we can also arrive at the conclusion based on the F-statistic also. We can calculate the critical value of F-statistic with the following code."
   ]
  },
  {
   "cell_type": "code",
   "execution_count": null,
   "metadata": {
    "id": "AkjvA4cA6ug6"
   },
   "outputs": [],
   "source": [
    "scipy.stats.f(3,36).ppf(0.95)"
   ]
  },
  {
   "cell_type": "markdown",
   "metadata": {
    "id": "tcvzbIfmtjTx"
   },
   "source": [
    "If the observed F-statistic is greater than or equal to its critical value, we should reject the null hypothesis. Else, if the observed F-statistic is less than its critical value, we should accept the null hypothesis. Here the observed value 1.975314 is less than the critical value 2.86626. Therefore, we accept the null hypothesis.\n",
    "\n",
    "We can visualize the actual data to get some better understanding."
   ]
  },
  {
   "cell_type": "code",
   "execution_count": null,
   "metadata": {
    "id": "5uKfOLLT-BGA"
   },
   "outputs": [],
   "source": [
    "sns.set_style('darkgrid')\n",
    "data.plot()\n",
    "plt.xlabel('Data points')\n",
    "plt.ylabel('Data value')\n",
    "plt.show()"
   ]
  },
  {
   "cell_type": "markdown",
   "metadata": {
    "id": "b1vz4iqwtlfL"
   },
   "source": [
    "We can see a great overlap among different data groups. This is exactly where we cannot jump into conclusions in a mathematical way. Statistical tools help take successful business decisions in these tough scenarios.\n",
    "\n",
    "How does Means vary among different groups? Let’s visualize it too."
   ]
  },
  {
   "cell_type": "code",
   "execution_count": null,
   "metadata": {
    "id": "8DwAdsiV-qhM"
   },
   "outputs": [],
   "source": [
    "data.mean(axis=0).plot(kind='bar')\n",
    "plt.xlabel('Methods / Groups')\n",
    "plt.ylabel('Mean value')\n",
    "plt.show()"
   ]
  },
  {
   "cell_type": "markdown",
   "metadata": {
    "id": "-LJikR3U74u7"
   },
   "source": [
    "# Limitation of ANOVA"
   ]
  },
  {
   "cell_type": "markdown",
   "metadata": {
    "id": "tM6CEjRGtqID"
   },
   "source": [
    "There is a big problem with the ANOVA method when we reject the null hypothesis. Let’s study that with some code examples. Increase the mean value of method_4 from 13 to 15."
   ]
  },
  {
   "cell_type": "code",
   "execution_count": null,
   "metadata": {
    "id": "8zX4apvB73XL"
   },
   "outputs": [],
   "source": [
    "# Alter the mean value of method_4\n",
    "method_1 = np.random.normal(10,3,10)\n",
    "method_2 = np.random.normal(11,3,10)\n",
    "method_3 = np.random.normal(12,3,10)\n",
    "method_4 = np.random.normal(15,3,10)\n",
    "\n",
    "data = pd.DataFrame({'method_1':method_1, \n",
    "                     'method_2':method_2, \n",
    "                     'method_3':method_3,\n",
    "                     'method_4':method_4})\n",
    "data.head()"
   ]
  },
  {
   "cell_type": "markdown",
   "metadata": {
    "id": "tmG31a16tr_3"
   },
   "source": [
    "Melt the data to have single-columned values."
   ]
  },
  {
   "cell_type": "code",
   "execution_count": null,
   "metadata": {
    "id": "Iw5_Vw2a8D7C"
   },
   "outputs": [],
   "source": [
    "df = pd.melt(data,  \n",
    "             value_vars=['method_1', 'method_2', 'method_3', 'method_4'])\n",
    "\n",
    "df.columns = [ 'treatment', 'value']\n",
    "df.sample(10)"
   ]
  },
  {
   "cell_type": "markdown",
   "metadata": {
    "id": "ElzNhMeQtuAj"
   },
   "source": [
    "Develop the Ordinary Least Squares model."
   ]
  },
  {
   "cell_type": "code",
   "execution_count": null,
   "metadata": {
    "id": "qRZ2blhp8I9D"
   },
   "outputs": [],
   "source": [
    "model = ols('value~C(treatment)', data=df).fit()\n",
    "model.summary()"
   ]
  },
  {
   "cell_type": "markdown",
   "metadata": {
    "id": "CEFU-AJ5tv00"
   },
   "source": [
    "Obtain the ANOVA table."
   ]
  },
  {
   "cell_type": "code",
   "execution_count": null,
   "metadata": {
    "id": "Rh8VIhtn8Mn6"
   },
   "outputs": [],
   "source": [
    "anova = sm.stats.anova_lm(model, typ=1)\n",
    "anova"
   ]
  },
  {
   "cell_type": "markdown",
   "metadata": {
    "id": "y8ZgtOuEt0aw"
   },
   "source": [
    "Since the probability score is less than the level of significance, 0.05, we do reject the null hypothesis. It means that at least one mean value is different from the others. But we cannot identify the method or methods whose means are different from the others. This is where ANOVA needs some other methods to bring light upon its decisions. \n",
    "\n",
    "This issue can be tackled with the help of Post Hoc Analysis."
   ]
  },
  {
   "cell_type": "code",
   "execution_count": null,
   "metadata": {
    "id": "txmC5sEs8TAm"
   },
   "outputs": [],
   "source": [
    "sns.set_style('darkgrid')\n",
    "data.plot()\n",
    "plt.xlabel('Data points')\n",
    "plt.ylabel('Data value')\n",
    "plt.show()"
   ]
  },
  {
   "cell_type": "code",
   "execution_count": null,
   "metadata": {
    "id": "2cD86exI8V3U"
   },
   "outputs": [],
   "source": [
    "data.mean(axis=0).plot(kind='bar')\n",
    "plt.xlabel('Methods / Groups')\n",
    "plt.ylabel('Mean value')\n",
    "plt.show()"
   ]
  },
  {
   "cell_type": "markdown",
   "metadata": {
    "id": "MetpPVpdDGc9"
   },
   "source": [
    "# Post Hoc Analysis"
   ]
  },
  {
   "cell_type": "markdown",
   "metadata": {
    "id": "WJypkPrXt3Aa"
   },
   "source": [
    "Post Hoc Analysis is also known as the Tukey-Kramer method or the Tukey test or the Multi-Comparison test. Whenever we reject the null hypothesis in an ANOVA test, we explore individual comparisons among the mean values of different groups (methods) using the Post Hoc Analysis.\n",
    "\n",
    "Import the necessary module from the statsmodels library."
   ]
  },
  {
   "cell_type": "code",
   "execution_count": null,
   "metadata": {
    "id": "JIxNBlr5C_28"
   },
   "outputs": [],
   "source": [
    "from statsmodels.stats.multicomp import MultiComparison\n",
    "\n",
    "comparison = MultiComparison(df['value'], df['treatment'])\n",
    "tukey = comparison.tukeyhsd(0.05)\n",
    "tukey.summary()"
   ]
  },
  {
   "cell_type": "markdown",
   "metadata": {
    "id": "p1oTcUTPDJxO"
   },
   "source": [
    "This method performs ANOVA individually between every possible pair of groups. It yields individual decisions with probability scores. \n",
    "\n",
    "Here, the null hypothesis is accepted (means are significantly the same) for the pairs:\n",
    "\n",
    "method_1 and method_2  \n",
    "\n",
    "method_1 and method_3\n",
    "\n",
    "method_2 and method_3 \n",
    "\n",
    "On the other hand, null hypothesis is rejected (means are significantly different) for the pairs:\n",
    "\n",
    "method_1 and method_4\n",
    "\n",
    "method_2 and method_4\n",
    "\n",
    "method_3 and method_4\n",
    "\n",
    "Hence, we can conclude that methods 1, 2 and 3 possess significantly the same means while method 4 differs from them all.\n",
    "\n",
    "Note: We have generated data with NumPy’s random module without any seed value. Hence, the values and results in these examples are not reproducible. "
   ]
  }
 ],
 "metadata": {
  "colab": {
   "authorship_tag": "ABX9TyN4UEv4zyfE6e0lUz9sEvwz",
   "collapsed_sections": [],
   "name": "1_ANOVA.ipynb",
   "provenance": [],
   "toc_visible": true
  },
  "kernelspec": {
   "display_name": "Python 3",
   "name": "python3"
  },
  "language_info": {
   "name": "python"
  }
 },
 "nbformat": 4,
 "nbformat_minor": 2
}
